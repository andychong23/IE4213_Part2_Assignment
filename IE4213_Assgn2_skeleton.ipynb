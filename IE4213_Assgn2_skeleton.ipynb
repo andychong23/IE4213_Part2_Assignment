{
  "cells": [
    {
      "cell_type": "markdown",
      "metadata": {
        "colab_type": "text",
        "id": "view-in-github"
      },
      "source": [
        "<a href=\"https://colab.research.google.com/github/andychong23/IE4213_Part2_Assignment/blob/feature%2Fandy%2FQ1/IE4213_Assgn2_skeleton.ipynb\" target=\"_parent\"><img src=\"https://colab.research.google.com/assets/colab-badge.svg\" alt=\"Open In Colab\"/></a>"
      ]
    },
    {
      "cell_type": "code",
      "execution_count": 2,
      "metadata": {
        "colab": {
          "base_uri": "https://localhost:8080/",
          "height": 106
        },
        "id": "gBUF2HJd1fVT",
        "outputId": "cedce019-fa2b-42dc-ba52-cb7fb7f86461"
      },
      "outputs": [
        {
          "ename": "SyntaxError",
          "evalue": "invalid syntax (3987471257.py, line 1)",
          "output_type": "error",
          "traceback": [
            "\u001b[1;36m  Cell \u001b[1;32mIn[2], line 1\u001b[1;36m\u001b[0m\n\u001b[1;33m    Student_1 = Andy Chong Weikang #@param {type:\"string\"}  Name of student 1\u001b[0m\n\u001b[1;37m                     ^\u001b[0m\n\u001b[1;31mSyntaxError\u001b[0m\u001b[1;31m:\u001b[0m invalid syntax\n"
          ]
        }
      ],
      "source": [
        "Student_1 = Andy Chong Weikang #@param {type:\"string\"}  Name of student 1\n",
        "Student_2 = '' #@param {type:\"string\"}  Name of student 2\n",
        "Student_3 = '' #@param {type:\"string\"}  Name of student 3/'\n",
        "Student_4 = '' #@param {type:\"string\"}  Name of student 4"
      ]
    },
    {
      "cell_type": "markdown",
      "metadata": {
        "id": "9PhWOSD2hLUM"
      },
      "source": [
        "# Overvew\n",
        "\n",
        "This is the skeleton code file for the EE4802/IE4213 assignment. Replace the `XX`. in the name of this Colab notebook with your group number (this is important for correct marks to be awarded to your group). Fill in the blank cells below with the necessary code (you should work on this Colab notebook section by section). At the end, the entire Colab notebook should generate all the required results and execute without error.\n",
        "\n",
        "The text above the blank cells provides information on the functionality that needs to be implemented. You need to write Python code at places indicated by `[WriteCode]`"
      ]
    },
    {
      "cell_type": "markdown",
      "metadata": {
        "id": "jXckzF3Fhd4p"
      },
      "source": [
        "## Install and Import Libraries"
      ]
    },
    {
      "cell_type": "code",
      "execution_count": 3,
      "metadata": {
        "id": "19JbK59PhbuE"
      },
      "outputs": [],
      "source": [
        "%%capture\n",
        "# %%capture hides the output\n",
        "# install visulization tool\n",
        "!pip install renderlab\n",
        "!pip install moviepy==1.0.3"
      ]
    },
    {
      "cell_type": "code",
      "execution_count": 4,
      "metadata": {
        "colab": {
          "base_uri": "https://localhost:8080/"
        },
        "id": "E669iRUFhn9J",
        "outputId": "97caa0bb-54b7-45ad-eae2-050bfeb8a42c"
      },
      "outputs": [],
      "source": [
        "import tensorflow as tf\n",
        "from tensorflow import keras\n",
        "assert tf.__version__ >= \"2.0\"\n",
        "\n",
        "import os\n",
        "import time\n",
        "import numpy as np\n",
        "import random\n",
        "from collections import deque\n",
        "\n",
        "import gymnasium as gym\n",
        "# import renderlab as rl"
      ]
    },
    {
      "cell_type": "markdown",
      "metadata": {
        "id": "9d3w4FRMS36_"
      },
      "source": [
        "# Background"
      ]
    },
    {
      "cell_type": "markdown",
      "metadata": {
        "id": "L8RD1Ggwcqg1"
      },
      "source": [
        "## Environment Exploration: Cart-Pole\n",
        "\n",
        "The **Cart-Pole environment** is a classic reinforcement learning problem where a pole is attached by an un-actuated joint to a cart. The cart moves along a frictionless track, and the goal is to balance the pole upright by applying forces to move the cart left or right.\n",
        "\n",
        "<img src=\"https://gymnasium.farama.org/_images/cart_pole.gif\" width=\"400\">\n",
        "\n",
        "Below is a breakdown of the base Cart-Pole environment:\n"
      ]
    },
    {
      "cell_type": "markdown",
      "metadata": {
        "id": "geWhWkTJRu5w"
      },
      "source": [
        "#### - **Observation Space (*s*)**\n",
        "The observation is represented as a `ndarray` of shape `(4,)`, corresponding to:\n",
        "- **Cart Position**: Horizontal location of the cart.\n",
        "- **Cart Velocity**: Speed of the cart along the track.\n",
        "- **Pole Angle**: Angular position of the pole relative to vertical.\n",
        "- **Pole Angular Velocity**: Speed at which the pole angle changes.\n",
        "\n",
        "The observations are initialized with uniformly random values in the range `(-0.05, 0.05)`.\n"
      ]
    },
    {
      "cell_type": "markdown",
      "metadata": {
        "id": "8r3befVJR4SJ"
      },
      "source": [
        "#### - **Action Space (*a*)**\n",
        "The action is a discrete value (`0` or `1`) indicating the direction of the force applied to the cart:\n",
        "- `0`: Push the cart to the left.\n",
        "- `1`: Push the cart to the right.\n"
      ]
    },
    {
      "cell_type": "markdown",
      "metadata": {
        "id": "BfanxRL4R5jO"
      },
      "source": [
        "\n",
        "#### - **Reward Function (*r*)**\n",
        "The agent receives a reward of `+1` for each time step it successfully keeps the pole upright. The maximum achievable reward in a single episode is `500`."
      ]
    },
    {
      "cell_type": "markdown",
      "metadata": {
        "id": "spv7Ul4CR7SN"
      },
      "source": [
        "#### - **Episode Termination (*isDone*)**\n",
        "An episode ends if any of the following conditions occur:\n",
        "1. **Pole Angle** exceeds `±12°`.\n",
        "2. **Cart Position** exceeds `±2.4` (the cart reaches the edge of the track).\n",
        "3. **Truncation**: The episode reaches the maximum length of `500 steps`."
      ]
    },
    {
      "cell_type": "markdown",
      "metadata": {
        "id": "pD50TBeLif6F"
      },
      "source": [
        "## Getting Familiar with Basic Gym Usage\n",
        "\n",
        "Let's observe how to interact with a Gym environment."
      ]
    },
    {
      "cell_type": "markdown",
      "metadata": {
        "id": "kkeWe780XZVv"
      },
      "source": [
        "The classic “agent-environment loop” pictured below is a simplified representation of reinforcement learning that Gymnasium implements.\n",
        "\n",
        "<img src=\"https://drive.google.com/uc?export=view&id=1feMbDMTfOFTBtj2PAZz-kMjSQKVukEm6\" width=\"250\">\n",
        "\n",
        "\n",
        "The following section represents a simple episode of this loop, we will:\n",
        "\n",
        "1. Import the base Cart-Pole environment from the gym library and explore its functionality.\n",
        "\n",
        "2. Apply modifications to make the environment more challenging by adjusting the pole's dynamics and introducing stochastic forces.\n",
        "\n",
        "3. Sample random actions to control the cart-pole and visualize the process using `renderlab`.\n",
        "\n",
        "These steps will help us understand how the environment behaves under different conditions and prepare us for implementing reinforcement learning agents in later sections.\n",
        "\n"
      ]
    },
    {
      "cell_type": "code",
      "execution_count": 5,
      "metadata": {
        "colab": {
          "base_uri": "https://localhost:8080/",
          "height": 873
        },
        "id": "x2PMYpIKXtWv",
        "outputId": "80bda351-3d63-4102-9180-bb6b47e5a120"
      },
      "outputs": [
        {
          "name": "stdout",
          "output_type": "stream",
          "text": [
            "\n",
            "--- Exploring the Base Environment ---\n",
            "Initial Observation: [ 0.00551301 -0.01993249  0.00550995  0.00089263]\n",
            "Action Space: Discrete(2)\n",
            "Observation Space: Box([-4.8               -inf -0.41887903        -inf], [4.8               inf 0.41887903        inf], (4,), float32)\n",
            "\n",
            "--- Sampling Random Actions and Visualizing ---\n"
          ]
        },
        {
          "ename": "NameError",
          "evalue": "name 'rl' is not defined",
          "output_type": "error",
          "traceback": [
            "\u001b[1;31m---------------------------------------------------------------------------\u001b[0m",
            "\u001b[1;31mNameError\u001b[0m                                 Traceback (most recent call last)",
            "Cell \u001b[1;32mIn[5], line 16\u001b[0m\n\u001b[0;32m     14\u001b[0m \u001b[38;5;66;03m# Sample Random Actions and Visualize\u001b[39;00m\n\u001b[0;32m     15\u001b[0m \u001b[38;5;28mprint\u001b[39m(\u001b[38;5;124m\"\u001b[39m\u001b[38;5;130;01m\\n\u001b[39;00m\u001b[38;5;124m--- Sampling Random Actions and Visualizing ---\u001b[39m\u001b[38;5;124m\"\u001b[39m)\n\u001b[1;32m---> 16\u001b[0m env \u001b[38;5;241m=\u001b[39m \u001b[43mrl\u001b[49m\u001b[38;5;241m.\u001b[39mRenderFrame(env, \u001b[38;5;124m\"\u001b[39m\u001b[38;5;124m./output\u001b[39m\u001b[38;5;124m\"\u001b[39m)\n\u001b[0;32m     17\u001b[0m observation, info \u001b[38;5;241m=\u001b[39m env\u001b[38;5;241m.\u001b[39mreset()\n\u001b[0;32m     18\u001b[0m isDone \u001b[38;5;241m=\u001b[39m \u001b[38;5;28;01mFalse\u001b[39;00m\n",
            "\u001b[1;31mNameError\u001b[0m: name 'rl' is not defined"
          ]
        }
      ],
      "source": [
        "import warnings\n",
        "warnings.filterwarnings('ignore')\n",
        "\n",
        "# Import and Explore the Environment\n",
        "print(\"\\n--- Exploring the Base Environment ---\")\n",
        "env = gym.make(\"CartPole-v1\", render_mode=\"rgb_array\")\n",
        "observation, info = env.reset()\n",
        "\n",
        "# Print information about the environment\n",
        "print(f\"Initial Observation: {observation}\")\n",
        "print(f\"Action Space: {env.action_space}\")  # Discrete actions: 0 (left), 1 (right)\n",
        "print(f\"Observation Space: {env.observation_space}\")  # State variables: cart position, etc.\n",
        "\n",
        "# Sample Random Actions and Visualize\n",
        "print(\"\\n--- Sampling Random Actions and Visualizing ---\")\n",
        "env = rl.RenderFrame(env, \"./output\")\n",
        "observation, info = env.reset()\n",
        "isDone = False\n",
        "\n",
        "# Simulate an episode with random actions\n",
        "while not isDone:\n",
        "    action = env.action_space.sample()  # Take random action\n",
        "    observation, reward, terminated, truncated, info = env.step(action)\n",
        "    print(observation, reward, terminated, truncated, info)\n",
        "    isDone = terminated or truncated\n",
        "\n",
        "env.close()\n",
        "env.play()  # Play the recorded video"
      ]
    },
    {
      "cell_type": "markdown",
      "metadata": {
        "id": "s9wjDE0kfFJd"
      },
      "source": [
        "# Define Helper Functions"
      ]
    },
    {
      "cell_type": "markdown",
      "metadata": {
        "id": "B0UFVPRylCdv"
      },
      "source": [
        "## Plotting Functions"
      ]
    },
    {
      "cell_type": "code",
      "execution_count": 12,
      "metadata": {
        "id": "vsmmRtAVlUz_"
      },
      "outputs": [],
      "source": [
        "# Some plotting functions\n",
        "import matplotlib.pyplot as plt\n",
        "\n",
        "def plot_eval_rwd_mean(eval_mean_list):\n",
        "  \"\"\"Plot evaluation reward mean.\"\"\"\n",
        "  # [WriteCode]\n",
        "  plt.plot(np.array([i for i in range(len(eval_mean_list))]), eval_mean_list)\n",
        "  plt.title(\"Evaluation Reward Mean\")\n",
        "  plt.xlabel(\"Episodes\")\n",
        "  plt.ylabel(\"Reward Mean\")\n",
        "  plt.show()\n",
        "\n",
        "\n",
        "\n",
        "def plot_eval_rwd_var(eval_var_list):\n",
        "  \"\"\"Plot evaluation reward variance.\"\"\"\n",
        "  # [WriteCode]\n",
        "  plt.plot(np.array([i for i in range(len(eval_var_list))]), eval_var_list)\n",
        "  plt.title(\"Evaluation Reward Varaince\")\n",
        "  plt.xlabel(\"Episodes\")\n",
        "  plt.ylabel(\"Reward Variance\")\n",
        "  plt.show()\n",
        "\n",
        "\n",
        "\n",
        "def plot_smoothed_training_rwd(train_rwd_list, window_size=20):\n",
        "  \"\"\"Plot smoothed training rewards using a moving average.\"\"\"\n",
        "  y_output = []\n",
        "  x_output = []\n",
        "  # [WriteCode]\n",
        "  for idx in range(len(train_rwd_list) - window_size):\n",
        "    current_window = train_rwd_list[idx:idx + window_size]\n",
        "    y_output.append(sum(current_window) / window_size)\n",
        "    x_output.append(idx)\n",
        "  plt.plot(x_output, y_output)\n",
        "  plt.title(\"Smoothed Training Rewards\")\n",
        "  plt.xlabel(\"Episodes\")\n",
        "  plt.ylabel(\"Average training rewards\")\n",
        "  plt.show()\n"
      ]
    },
    {
      "cell_type": "markdown",
      "metadata": {
        "id": "N7hA67eaYkCW"
      },
      "source": [
        "## Evaluation Function\n",
        "\n",
        "Evaluate the learnt policy by running 3 evaluation episodes and computing the average and variance of rewards collected."
      ]
    },
    {
      "cell_type": "code",
      "execution_count": 6,
      "metadata": {
        "id": "kKS1vpSmYjyg"
      },
      "outputs": [],
      "source": [
        "def evaluation(model, max_timesteps=500):\n",
        "    # eval_env = gym.make(\"CartPole-v1\", render_mode=\"rgb_array\")\n",
        "    eval_env = gym.make(\"CartPole-v1\")\n",
        "    state_size = eval_env.observation_space.shape[0] # Number of observations (CartPole)\n",
        "    action_size = eval_env.action_space.n            # Number of possible actions\n",
        "    eval_reward = []\n",
        "\n",
        "    for i in range (3):\n",
        "        round_reward = 0\n",
        "        state, _ = eval_env.reset()\n",
        "        state = np.reshape(state, [1, state_size])\n",
        "\n",
        "        for i in range(max_timesteps):\n",
        "            action = np.argmax(model.predict(state, verbose=0)[0])\n",
        "            next_state, reward, terminated, truncated, _ = eval_env.step(action)\n",
        "            next_state = np.reshape(next_state, [1, state_size])\n",
        "\n",
        "            round_reward += reward\n",
        "            state = next_state\n",
        "\n",
        "            if terminated or truncated:\n",
        "                eval_reward.append(round_reward)\n",
        "                break\n",
        "\n",
        "    eval_env.close()\n",
        "\n",
        "    eval_reward_mean = np.sum(eval_reward)/len(eval_reward)\n",
        "    eval_reward_var = np.var(eval_reward)\n",
        "\n",
        "    return eval_reward_mean, eval_reward_var"
      ]
    },
    {
      "cell_type": "markdown",
      "metadata": {
        "id": "kWS8Kd8eiXau"
      },
      "source": [
        "# Setting up Tensorboard\n"
      ]
    },
    {
      "cell_type": "code",
      "execution_count": 7,
      "metadata": {
        "id": "ADO90Q7Hs-lx"
      },
      "outputs": [],
      "source": [
        "def get_run_logdir(k):\n",
        "    root_logdir = os.path.join(os.curdir, \"ee4802_logs\", k)\n",
        "    run_id = time.strftime(\"run_%Y_%m_%d-%H_%M_%S\")\n",
        "    return os.path.join(root_logdir, run_id)"
      ]
    },
    {
      "cell_type": "markdown",
      "metadata": {
        "id": "B07kopgXtOVU"
      },
      "source": [
        "# Initialize Parameters"
      ]
    },
    {
      "cell_type": "code",
      "execution_count": 8,
      "metadata": {
        "id": "JL9ABa8-vRf3"
      },
      "outputs": [],
      "source": [
        "# Use the following set of NN hyperparameters for ALL FOUR basline policies\n",
        "lr =  0.1        #@param {type:\"number\"}               # learning rate\n",
        "epoch =  32     #@param {type:\"number\"}               # epochs\n",
        "episode = 500  #@param {type:\"number\"}               # episodes\n",
        "\n",
        "epsilon = 0.9           #@param {type:\"number\"}     # Starting exploration rate\n",
        "epsilon_min = 0.1    #@param {type:\"number\"}     # Exploration rate min\n",
        "epsilon_decay = 0.99     #@param {type:\"number\"}     # Exploration rate decay\n",
        "\n",
        "gamma = 0.99          #@param {type:\"number\"}     # Agent discount factor\n",
        "\n",
        "# Use the following set of NN hyperparameters for Naive DQN, DQN and DDQN policies\n",
        "ba =  32       #@param {type:\"number\"}               # batch_size\n",
        "\n",
        "# Use the following set of RL hyperparameters for DQN and DDQN policies\n",
        "target_update_freq = 0.05 # @param {type:\"number\"}    # Target network update frequency\n"
      ]
    },
    {
      "cell_type": "markdown",
      "metadata": {
        "id": "npUYex5Em46O"
      },
      "source": [
        "# Q-Network - Baseline"
      ]
    },
    {
      "cell_type": "markdown",
      "metadata": {
        "id": "XLr4PDQ7nC5T"
      },
      "source": [
        "## Define and Compile the Neural Network\n",
        "\n",
        "A single network $Q_\\theta$ (parameterized by $\\theta$) is used to approximate $Q(s,a)$.\n",
        "\n",
        "The target used by Naive DQN is then:\n",
        "\n",
        "$Y^{NaiveQ}_t = R_{t+1} + \\gamma Q_{\\theta}(S_{t+1}, a)$\n",
        "\n",
        "The training of Q-Network does rely on a Replay Buffer."
      ]
    },
    {
      "cell_type": "code",
      "execution_count": 9,
      "metadata": {
        "colab": {
          "base_uri": "https://localhost:8080/",
          "height": 238
        },
        "id": "WyXho4UKpH3Q",
        "outputId": "aa068deb-de97-4001-a8a3-55f7d3f9b4fe"
      },
      "outputs": [
        {
          "name": "stdout",
          "output_type": "stream",
          "text": [
            "Model: \"sequential\"\n",
            "_________________________________________________________________\n",
            " Layer (type)                Output Shape              Param #   \n",
            "=================================================================\n",
            " dense (Dense)               (None, 32)                160       \n",
            "                                                                 \n",
            " dense_1 (Dense)             (None, 32)                1056      \n",
            "                                                                 \n",
            " dense_2 (Dense)             (None, 2)                 66        \n",
            "                                                                 \n",
            "=================================================================\n",
            "Total params: 1,282\n",
            "Trainable params: 1,282\n",
            "Non-trainable params: 0\n",
            "_________________________________________________________________\n"
          ]
        }
      ],
      "source": [
        "# Q-Network Baseline Model\n",
        "from keras.models import Sequential\n",
        "from keras.layers import Input, Dense, LayerNormalization\n",
        "from keras.initializers import RandomUniform\n",
        "from keras.activations import softmax, relu, tanh\n",
        "\n",
        "# [WriteCode] from ... import ...\n",
        "\n",
        "STATE_SIZE = (4,)\n",
        "ACTION_SIZE = 2\n",
        "LAYER_SIZE = 32\n",
        "SEED = 42\n",
        "\n",
        "# Define the Q-network\n",
        "model = Sequential()\n",
        "\n",
        "# [WriteCode]\n",
        "# model.add(...\n",
        "model.add(Input(shape=STATE_SIZE))\n",
        "'''\n",
        "Add in intermediate layers\n",
        "- Assume 3 layers of 32 nodes each with relu activation\n",
        "'''\n",
        "initializer = RandomUniform(minval=-0.5, maxval=0.5, seed=42)\n",
        "model.add(Dense(LAYER_SIZE, activation=tanh, kernel_initializer=initializer))\n",
        "model.add(Dense(LAYER_SIZE, activation=tanh, kernel_initializer=initializer))\n",
        "model.add(Dense(ACTION_SIZE))\n",
        "\n",
        "# Compile the model\n",
        "# [WriteCode]\n",
        "model.compile(loss='mse', optimizer='adam')\n",
        "\n",
        "# Print the model summary\n",
        "# [WriteCode]\n",
        "model.summary()"
      ]
    },
    {
      "cell_type": "markdown",
      "metadata": {
        "id": "PunGDA41nK-t"
      },
      "source": [
        "## Set Up Env and Train the Policy"
      ]
    },
    {
      "cell_type": "code",
      "execution_count": null,
      "metadata": {
        "colab": {
          "base_uri": "https://localhost:8080/"
        },
        "id": "-cDAJtaGnCQL",
        "outputId": "44893904-1e3a-47a4-fc50-c078e54e6b65"
      },
      "outputs": [
        {
          "name": "stdout",
          "output_type": "stream",
          "text": [
            "Episode 1/500 | Ep. Total Reward: 30.0 | Epsilon : 0.666 | Eval Rwd Mean: 119.00 | Eval Rwd Var: 4460.67\n",
            "Episode 2/500 | Ep. Total Reward: 55.0 | Epsilon : 0.666 | Eval Rwd Mean: 50.67 | Eval Rwd Var: 376.22\n",
            "Episode 3/500 | Ep. Total Reward: 16.0 | Epsilon : 0.666 | Eval Rwd Mean: 40.67 | Eval Rwd Var: 156.22\n",
            "Episode 4/500 | Ep. Total Reward: 9.0 | Epsilon : 0.666 | Eval Rwd Mean: 17.67 | Eval Rwd Var: 5.56\n",
            "Episode 5/500 | Ep. Total Reward: 14.0 | Epsilon : 0.666 | Eval Rwd Mean: 15.00 | Eval Rwd Var: 4.67\n",
            "Episode 6/500 | Ep. Total Reward: 12.0 | Epsilon : 0.666 | Eval Rwd Mean: 9.33 | Eval Rwd Var: 0.22\n",
            "Episode 7/500 | Ep. Total Reward: 9.0 | Epsilon : 0.666 | Eval Rwd Mean: 9.00 | Eval Rwd Var: 0.67\n",
            "Episode 8/500 | Ep. Total Reward: 25.0 | Epsilon : 0.666 | Eval Rwd Mean: 12.67 | Eval Rwd Var: 5.56\n",
            "Episode 9/500 | Ep. Total Reward: 14.0 | Epsilon : 0.666 | Eval Rwd Mean: 28.67 | Eval Rwd Var: 11.56\n",
            "Episode 10/500 | Ep. Total Reward: 26.0 | Epsilon : 0.666 | Eval Rwd Mean: 56.67 | Eval Rwd Var: 61.56\n",
            "Episode 11/500 | Ep. Total Reward: 25.0 | Epsilon : 0.518 | Eval Rwd Mean: 9.33 | Eval Rwd Var: 0.22\n",
            "Episode 12/500 | Ep. Total Reward: 21.0 | Epsilon : 0.518 | Eval Rwd Mean: 24.00 | Eval Rwd Var: 0.67\n",
            "Episode 13/500 | Ep. Total Reward: 21.0 | Epsilon : 0.518 | Eval Rwd Mean: 9.33 | Eval Rwd Var: 0.22\n",
            "Episode 14/500 | Ep. Total Reward: 10.0 | Epsilon : 0.518 | Eval Rwd Mean: 11.67 | Eval Rwd Var: 2.89\n",
            "Episode 15/500 | Ep. Total Reward: 17.0 | Epsilon : 0.518 | Eval Rwd Mean: 9.00 | Eval Rwd Var: 0.00\n",
            "Episode 16/500 | Ep. Total Reward: 14.0 | Epsilon : 0.518 | Eval Rwd Mean: 18.67 | Eval Rwd Var: 1.56\n",
            "Episode 17/500 | Ep. Total Reward: 68.0 | Epsilon : 0.518 | Eval Rwd Mean: 57.67 | Eval Rwd Var: 84.22\n",
            "Episode 18/500 | Ep. Total Reward: 30.0 | Epsilon : 0.518 | Eval Rwd Mean: 16.00 | Eval Rwd Var: 4.67\n",
            "Episode 19/500 | Ep. Total Reward: 10.0 | Epsilon : 0.518 | Eval Rwd Mean: 68.00 | Eval Rwd Var: 240.67\n",
            "Episode 20/500 | Ep. Total Reward: 114.0 | Epsilon : 0.518 | Eval Rwd Mean: 25.67 | Eval Rwd Var: 6.22\n",
            "Episode 21/500 | Ep. Total Reward: 56.0 | Epsilon : 0.295 | Eval Rwd Mean: 9.33 | Eval Rwd Var: 0.89\n",
            "Episode 22/500 | Ep. Total Reward: 8.0 | Epsilon : 0.295 | Eval Rwd Mean: 22.00 | Eval Rwd Var: 0.67\n",
            "Episode 23/500 | Ep. Total Reward: 31.0 | Epsilon : 0.295 | Eval Rwd Mean: 9.67 | Eval Rwd Var: 0.22\n",
            "Episode 24/500 | Ep. Total Reward: 10.0 | Epsilon : 0.295 | Eval Rwd Mean: 18.33 | Eval Rwd Var: 6.89\n",
            "Episode 25/500 | Ep. Total Reward: 18.0 | Epsilon : 0.295 | Eval Rwd Mean: 9.33 | Eval Rwd Var: 0.22\n",
            "Episode 26/500 | Ep. Total Reward: 10.0 | Epsilon : 0.295 | Eval Rwd Mean: 24.00 | Eval Rwd Var: 4.67\n",
            "Episode 27/500 | Ep. Total Reward: 27.0 | Epsilon : 0.295 | Eval Rwd Mean: 10.67 | Eval Rwd Var: 0.22\n",
            "Episode 28/500 | Ep. Total Reward: 17.0 | Epsilon : 0.295 | Eval Rwd Mean: 8.33 | Eval Rwd Var: 0.22\n",
            "Episode 29/500 | Ep. Total Reward: 11.0 | Epsilon : 0.295 | Eval Rwd Mean: 13.33 | Eval Rwd Var: 0.89\n",
            "Episode 30/500 | Ep. Total Reward: 18.0 | Epsilon : 0.295 | Eval Rwd Mean: 17.00 | Eval Rwd Var: 2.67\n",
            "Episode 31/500 | Ep. Total Reward: 13.0 | Epsilon : 0.259 | Eval Rwd Mean: 11.00 | Eval Rwd Var: 4.67\n",
            "Episode 32/500 | Ep. Total Reward: 13.0 | Epsilon : 0.259 | Eval Rwd Mean: 10.00 | Eval Rwd Var: 0.67\n",
            "Episode 33/500 | Ep. Total Reward: 12.0 | Epsilon : 0.259 | Eval Rwd Mean: 10.00 | Eval Rwd Var: 0.00\n",
            "Episode 34/500 | Ep. Total Reward: 11.0 | Epsilon : 0.259 | Eval Rwd Mean: 11.67 | Eval Rwd Var: 1.56\n",
            "Episode 35/500 | Ep. Total Reward: 15.0 | Epsilon : 0.259 | Eval Rwd Mean: 9.33 | Eval Rwd Var: 0.22\n",
            "Episode 36/500 | Ep. Total Reward: 15.0 | Epsilon : 0.259 | Eval Rwd Mean: 18.00 | Eval Rwd Var: 10.67\n",
            "Episode 37/500 | Ep. Total Reward: 54.0 | Epsilon : 0.259 | Eval Rwd Mean: 21.67 | Eval Rwd Var: 5.56\n",
            "Episode 38/500 | Ep. Total Reward: 21.0 | Epsilon : 0.259 | Eval Rwd Mean: 17.67 | Eval Rwd Var: 2.89\n",
            "Episode 39/500 | Ep. Total Reward: 16.0 | Epsilon : 0.259 | Eval Rwd Mean: 9.33 | Eval Rwd Var: 0.22\n",
            "Episode 40/500 | Ep. Total Reward: 12.0 | Epsilon : 0.259 | Eval Rwd Mean: 24.00 | Eval Rwd Var: 24.00\n",
            "Episode 41/500 | Ep. Total Reward: 27.0 | Epsilon : 0.197 | Eval Rwd Mean: 17.67 | Eval Rwd Var: 6.22\n",
            "Episode 42/500 | Ep. Total Reward: 49.0 | Epsilon : 0.197 | Eval Rwd Mean: 13.00 | Eval Rwd Var: 0.67\n",
            "Episode 43/500 | Ep. Total Reward: 23.0 | Epsilon : 0.197 | Eval Rwd Mean: 17.67 | Eval Rwd Var: 4.22\n",
            "Episode 44/500 | Ep. Total Reward: 17.0 | Epsilon : 0.197 | Eval Rwd Mean: 10.67 | Eval Rwd Var: 0.22\n",
            "Episode 45/500 | Ep. Total Reward: 10.0 | Epsilon : 0.197 | Eval Rwd Mean: 14.00 | Eval Rwd Var: 2.00\n",
            "Episode 46/500 | Ep. Total Reward: 13.0 | Epsilon : 0.197 | Eval Rwd Mean: 10.00 | Eval Rwd Var: 0.67\n",
            "Episode 47/500 | Ep. Total Reward: 10.0 | Epsilon : 0.197 | Eval Rwd Mean: 12.67 | Eval Rwd Var: 0.22\n",
            "Episode 48/500 | Ep. Total Reward: 15.0 | Epsilon : 0.197 | Eval Rwd Mean: 10.33 | Eval Rwd Var: 0.22\n",
            "Episode 49/500 | Ep. Total Reward: 14.0 | Epsilon : 0.197 | Eval Rwd Mean: 21.00 | Eval Rwd Var: 0.67\n",
            "Episode 50/500 | Ep. Total Reward: 18.0 | Epsilon : 0.197 | Eval Rwd Mean: 12.67 | Eval Rwd Var: 4.22\n",
            "Episode 51/500 | Ep. Total Reward: 17.0 | Epsilon : 0.166 | Eval Rwd Mean: 9.67 | Eval Rwd Var: 0.22\n",
            "Episode 52/500 | Ep. Total Reward: 10.0 | Epsilon : 0.166 | Eval Rwd Mean: 14.33 | Eval Rwd Var: 6.89\n",
            "Episode 53/500 | Ep. Total Reward: 16.0 | Epsilon : 0.166 | Eval Rwd Mean: 9.33 | Eval Rwd Var: 0.89\n",
            "Episode 54/500 | Ep. Total Reward: 12.0 | Epsilon : 0.166 | Eval Rwd Mean: 14.00 | Eval Rwd Var: 2.67\n",
            "Episode 55/500 | Ep. Total Reward: 13.0 | Epsilon : 0.166 | Eval Rwd Mean: 37.67 | Eval Rwd Var: 29.56\n",
            "Episode 56/500 | Ep. Total Reward: 24.0 | Epsilon : 0.166 | Eval Rwd Mean: 17.67 | Eval Rwd Var: 1.56\n",
            "Episode 57/500 | Ep. Total Reward: 22.0 | Epsilon : 0.166 | Eval Rwd Mean: 10.33 | Eval Rwd Var: 0.22\n",
            "Episode 58/500 | Ep. Total Reward: 9.0 | Epsilon : 0.166 | Eval Rwd Mean: 22.67 | Eval Rwd Var: 0.22\n",
            "Episode 59/500 | Ep. Total Reward: 24.0 | Epsilon : 0.166 | Eval Rwd Mean: 9.33 | Eval Rwd Var: 0.89\n",
            "Episode 60/500 | Ep. Total Reward: 10.0 | Epsilon : 0.166 | Eval Rwd Mean: 14.00 | Eval Rwd Var: 2.67\n",
            "Episode 61/500 | Ep. Total Reward: 14.0 | Epsilon : 0.144 | Eval Rwd Mean: 9.00 | Eval Rwd Var: 0.67\n",
            "Episode 62/500 | Ep. Total Reward: 10.0 | Epsilon : 0.144 | Eval Rwd Mean: 13.67 | Eval Rwd Var: 2.89\n",
            "Episode 63/500 | Ep. Total Reward: 16.0 | Epsilon : 0.144 | Eval Rwd Mean: 40.67 | Eval Rwd Var: 133.56\n",
            "Episode 64/500 | Ep. Total Reward: 72.0 | Epsilon : 0.144 | Eval Rwd Mean: 9.67 | Eval Rwd Var: 0.22\n",
            "Episode 65/500 | Ep. Total Reward: 10.0 | Epsilon : 0.144 | Eval Rwd Mean: 15.67 | Eval Rwd Var: 2.89\n",
            "Episode 66/500 | Ep. Total Reward: 12.0 | Epsilon : 0.144 | Eval Rwd Mean: 9.33 | Eval Rwd Var: 0.22\n",
            "Episode 67/500 | Ep. Total Reward: 9.0 | Epsilon : 0.144 | Eval Rwd Mean: 10.33 | Eval Rwd Var: 1.56\n",
            "Episode 68/500 | Ep. Total Reward: 10.0 | Epsilon : 0.144 | Eval Rwd Mean: 17.67 | Eval Rwd Var: 4.22\n",
            "Episode 69/500 | Ep. Total Reward: 16.0 | Epsilon : 0.144 | Eval Rwd Mean: 10.33 | Eval Rwd Var: 0.89\n",
            "Episode 70/500 | Ep. Total Reward: 14.0 | Epsilon : 0.144 | Eval Rwd Mean: 9.67 | Eval Rwd Var: 0.22\n",
            "Episode 71/500 | Ep. Total Reward: 9.0 | Epsilon : 0.132 | Eval Rwd Mean: 8.67 | Eval Rwd Var: 0.22\n",
            "Episode 72/500 | Ep. Total Reward: 9.0 | Epsilon : 0.132 | Eval Rwd Mean: 9.67 | Eval Rwd Var: 0.22\n",
            "Episode 73/500 | Ep. Total Reward: 12.0 | Epsilon : 0.132 | Eval Rwd Mean: 9.00 | Eval Rwd Var: 0.00\n",
            "Episode 74/500 | Ep. Total Reward: 9.0 | Epsilon : 0.132 | Eval Rwd Mean: 12.67 | Eval Rwd Var: 0.22\n",
            "Episode 75/500 | Ep. Total Reward: 13.0 | Epsilon : 0.132 | Eval Rwd Mean: 9.33 | Eval Rwd Var: 0.22\n",
            "Episode 76/500 | Ep. Total Reward: 10.0 | Epsilon : 0.132 | Eval Rwd Mean: 11.33 | Eval Rwd Var: 0.89\n",
            "Episode 77/500 | Ep. Total Reward: 11.0 | Epsilon : 0.132 | Eval Rwd Mean: 9.67 | Eval Rwd Var: 0.22\n",
            "Episode 78/500 | Ep. Total Reward: 9.0 | Epsilon : 0.132 | Eval Rwd Mean: 9.33 | Eval Rwd Var: 0.22\n",
            "Episode 79/500 | Ep. Total Reward: 12.0 | Epsilon : 0.132 | Eval Rwd Mean: 10.00 | Eval Rwd Var: 0.00\n",
            "Episode 80/500 | Ep. Total Reward: 9.0 | Epsilon : 0.132 | Eval Rwd Mean: 10.00 | Eval Rwd Var: 0.00\n",
            "Episode 81/500 | Ep. Total Reward: 9.0 | Epsilon : 0.121 | Eval Rwd Mean: 9.67 | Eval Rwd Var: 0.89\n",
            "Episode 82/500 | Ep. Total Reward: 9.0 | Epsilon : 0.121 | Eval Rwd Mean: 9.33 | Eval Rwd Var: 0.22\n",
            "Episode 83/500 | Ep. Total Reward: 9.0 | Epsilon : 0.121 | Eval Rwd Mean: 12.67 | Eval Rwd Var: 0.22\n",
            "Episode 84/500 | Ep. Total Reward: 10.0 | Epsilon : 0.121 | Eval Rwd Mean: 11.67 | Eval Rwd Var: 0.22\n",
            "Episode 85/500 | Ep. Total Reward: 11.0 | Epsilon : 0.121 | Eval Rwd Mean: 18.33 | Eval Rwd Var: 2.89\n",
            "Episode 86/500 | Ep. Total Reward: 19.0 | Epsilon : 0.121 | Eval Rwd Mean: 13.67 | Eval Rwd Var: 1.56\n",
            "Episode 87/500 | Ep. Total Reward: 17.0 | Epsilon : 0.121 | Eval Rwd Mean: 15.33 | Eval Rwd Var: 0.22\n",
            "Episode 88/500 | Ep. Total Reward: 13.0 | Epsilon : 0.121 | Eval Rwd Mean: 10.00 | Eval Rwd Var: 0.00\n",
            "Episode 89/500 | Ep. Total Reward: 11.0 | Epsilon : 0.121 | Eval Rwd Mean: 12.33 | Eval Rwd Var: 0.89\n",
            "Episode 90/500 | Ep. Total Reward: 16.0 | Epsilon : 0.121 | Eval Rwd Mean: 9.33 | Eval Rwd Var: 0.22\n",
            "Episode 91/500 | Ep. Total Reward: 9.0 | Epsilon : 0.110 | Eval Rwd Mean: 10.33 | Eval Rwd Var: 0.22\n",
            "Episode 92/500 | Ep. Total Reward: 12.0 | Epsilon : 0.110 | Eval Rwd Mean: 9.00 | Eval Rwd Var: 0.67\n",
            "Episode 93/500 | Ep. Total Reward: 8.0 | Epsilon : 0.110 | Eval Rwd Mean: 9.33 | Eval Rwd Var: 0.22\n",
            "Episode 94/500 | Ep. Total Reward: 9.0 | Epsilon : 0.110 | Eval Rwd Mean: 12.33 | Eval Rwd Var: 0.89\n",
            "Episode 95/500 | Ep. Total Reward: 10.0 | Epsilon : 0.110 | Eval Rwd Mean: 14.67 | Eval Rwd Var: 0.22\n",
            "Episode 96/500 | Ep. Total Reward: 22.0 | Epsilon : 0.110 | Eval Rwd Mean: 15.67 | Eval Rwd Var: 2.89\n",
            "Episode 97/500 | Ep. Total Reward: 21.0 | Epsilon : 0.110 | Eval Rwd Mean: 13.33 | Eval Rwd Var: 1.56\n",
            "Episode 98/500 | Ep. Total Reward: 12.0 | Epsilon : 0.110 | Eval Rwd Mean: 9.67 | Eval Rwd Var: 0.22\n",
            "Episode 99/500 | Ep. Total Reward: 10.0 | Epsilon : 0.110 | Eval Rwd Mean: 10.00 | Eval Rwd Var: 0.67\n",
            "Episode 100/500 | Ep. Total Reward: 9.0 | Epsilon : 0.110 | Eval Rwd Mean: 9.67 | Eval Rwd Var: 0.22\n",
            "Episode 101/500 | Ep. Total Reward: 9.0 | Epsilon : 0.101 | Eval Rwd Mean: 10.00 | Eval Rwd Var: 0.00\n",
            "Episode 102/500 | Ep. Total Reward: 10.0 | Epsilon : 0.101 | Eval Rwd Mean: 9.00 | Eval Rwd Var: 0.00\n",
            "Episode 103/500 | Ep. Total Reward: 11.0 | Epsilon : 0.101 | Eval Rwd Mean: 9.67 | Eval Rwd Var: 1.56\n",
            "Episode 104/500 | Ep. Total Reward: 11.0 | Epsilon : 0.101 | Eval Rwd Mean: 12.33 | Eval Rwd Var: 1.56\n",
            "Episode 105/500 | Ep. Total Reward: 10.0 | Epsilon : 0.101 | Eval Rwd Mean: 14.67 | Eval Rwd Var: 1.56\n",
            "Episode 106/500 | Ep. Total Reward: 16.0 | Epsilon : 0.101 | Eval Rwd Mean: 19.33 | Eval Rwd Var: 5.56\n",
            "Episode 107/500 | Ep. Total Reward: 17.0 | Epsilon : 0.101 | Eval Rwd Mean: 16.67 | Eval Rwd Var: 3.56\n",
            "Episode 108/500 | Ep. Total Reward: 15.0 | Epsilon : 0.101 | Eval Rwd Mean: 19.33 | Eval Rwd Var: 6.22\n",
            "Episode 109/500 | Ep. Total Reward: 20.0 | Epsilon : 0.101 | Eval Rwd Mean: 14.33 | Eval Rwd Var: 3.56\n",
            "Episode 110/500 | Ep. Total Reward: 16.0 | Epsilon : 0.101 | Eval Rwd Mean: 13.67 | Eval Rwd Var: 1.56\n",
            "Episode 111/500 | Ep. Total Reward: 15.0 | Epsilon : 0.100 | Eval Rwd Mean: 8.67 | Eval Rwd Var: 0.22\n",
            "Episode 112/500 | Ep. Total Reward: 10.0 | Epsilon : 0.100 | Eval Rwd Mean: 11.00 | Eval Rwd Var: 0.67\n",
            "Episode 113/500 | Ep. Total Reward: 9.0 | Epsilon : 0.100 | Eval Rwd Mean: 12.00 | Eval Rwd Var: 0.00\n",
            "Episode 114/500 | Ep. Total Reward: 15.0 | Epsilon : 0.100 | Eval Rwd Mean: 12.33 | Eval Rwd Var: 0.89\n",
            "Episode 115/500 | Ep. Total Reward: 14.0 | Epsilon : 0.100 | Eval Rwd Mean: 9.33 | Eval Rwd Var: 0.22\n",
            "Episode 116/500 | Ep. Total Reward: 8.0 | Epsilon : 0.100 | Eval Rwd Mean: 11.33 | Eval Rwd Var: 0.22\n",
            "Episode 117/500 | Ep. Total Reward: 11.0 | Epsilon : 0.100 | Eval Rwd Mean: 9.33 | Eval Rwd Var: 0.22\n",
            "Episode 118/500 | Ep. Total Reward: 11.0 | Epsilon : 0.100 | Eval Rwd Mean: 13.33 | Eval Rwd Var: 3.56\n",
            "Episode 119/500 | Ep. Total Reward: 17.0 | Epsilon : 0.100 | Eval Rwd Mean: 12.67 | Eval Rwd Var: 0.89\n",
            "Episode 120/500 | Ep. Total Reward: 10.0 | Epsilon : 0.100 | Eval Rwd Mean: 9.67 | Eval Rwd Var: 0.22\n",
            "Episode 121/500 | Ep. Total Reward: 10.0 | Epsilon : 0.100 | Eval Rwd Mean: 10.33 | Eval Rwd Var: 0.22\n",
            "Episode 122/500 | Ep. Total Reward: 10.0 | Epsilon : 0.100 | Eval Rwd Mean: 9.33 | Eval Rwd Var: 0.22\n",
            "Episode 123/500 | Ep. Total Reward: 9.0 | Epsilon : 0.100 | Eval Rwd Mean: 9.00 | Eval Rwd Var: 0.67\n",
            "Episode 124/500 | Ep. Total Reward: 9.0 | Epsilon : 0.100 | Eval Rwd Mean: 10.00 | Eval Rwd Var: 0.00\n",
            "Episode 125/500 | Ep. Total Reward: 9.0 | Epsilon : 0.100 | Eval Rwd Mean: 8.67 | Eval Rwd Var: 0.22\n",
            "Episode 126/500 | Ep. Total Reward: 8.0 | Epsilon : 0.100 | Eval Rwd Mean: 9.33 | Eval Rwd Var: 0.89\n",
            "Episode 127/500 | Ep. Total Reward: 9.0 | Epsilon : 0.100 | Eval Rwd Mean: 9.00 | Eval Rwd Var: 0.67\n",
            "Episode 128/500 | Ep. Total Reward: 12.0 | Epsilon : 0.100 | Eval Rwd Mean: 9.00 | Eval Rwd Var: 0.67\n",
            "Episode 129/500 | Ep. Total Reward: 10.0 | Epsilon : 0.100 | Eval Rwd Mean: 9.67 | Eval Rwd Var: 0.22\n",
            "Episode 130/500 | Ep. Total Reward: 8.0 | Epsilon : 0.100 | Eval Rwd Mean: 9.33 | Eval Rwd Var: 0.22\n",
            "Episode 131/500 | Ep. Total Reward: 9.0 | Epsilon : 0.100 | Eval Rwd Mean: 8.67 | Eval Rwd Var: 0.22\n",
            "Episode 132/500 | Ep. Total Reward: 9.0 | Epsilon : 0.100 | Eval Rwd Mean: 10.00 | Eval Rwd Var: 0.00\n",
            "Episode 133/500 | Ep. Total Reward: 12.0 | Epsilon : 0.100 | Eval Rwd Mean: 9.33 | Eval Rwd Var: 0.22\n",
            "Episode 134/500 | Ep. Total Reward: 9.0 | Epsilon : 0.100 | Eval Rwd Mean: 11.33 | Eval Rwd Var: 1.56\n",
            "Episode 135/500 | Ep. Total Reward: 9.0 | Epsilon : 0.100 | Eval Rwd Mean: 12.67 | Eval Rwd Var: 4.22\n",
            "Episode 136/500 | Ep. Total Reward: 12.0 | Epsilon : 0.100 | Eval Rwd Mean: 11.33 | Eval Rwd Var: 0.22\n",
            "Episode 137/500 | Ep. Total Reward: 8.0 | Epsilon : 0.100 | Eval Rwd Mean: 12.33 | Eval Rwd Var: 3.56\n",
            "Episode 138/500 | Ep. Total Reward: 14.0 | Epsilon : 0.100 | Eval Rwd Mean: 13.33 | Eval Rwd Var: 0.89\n",
            "Episode 139/500 | Ep. Total Reward: 10.0 | Epsilon : 0.100 | Eval Rwd Mean: 9.67 | Eval Rwd Var: 0.22\n",
            "Episode 140/500 | Ep. Total Reward: 10.0 | Epsilon : 0.100 | Eval Rwd Mean: 9.67 | Eval Rwd Var: 0.22\n",
            "Episode 141/500 | Ep. Total Reward: 9.0 | Epsilon : 0.100 | Eval Rwd Mean: 10.67 | Eval Rwd Var: 0.22\n",
            "Episode 142/500 | Ep. Total Reward: 9.0 | Epsilon : 0.100 | Eval Rwd Mean: 11.33 | Eval Rwd Var: 0.22\n",
            "Episode 143/500 | Ep. Total Reward: 11.0 | Epsilon : 0.100 | Eval Rwd Mean: 9.67 | Eval Rwd Var: 0.22\n",
            "Episode 144/500 | Ep. Total Reward: 8.0 | Epsilon : 0.100 | Eval Rwd Mean: 11.00 | Eval Rwd Var: 0.67\n",
            "Episode 145/500 | Ep. Total Reward: 9.0 | Epsilon : 0.100 | Eval Rwd Mean: 12.00 | Eval Rwd Var: 2.00\n",
            "Episode 146/500 | Ep. Total Reward: 14.0 | Epsilon : 0.100 | Eval Rwd Mean: 12.67 | Eval Rwd Var: 1.56\n",
            "Episode 147/500 | Ep. Total Reward: 12.0 | Epsilon : 0.100 | Eval Rwd Mean: 13.00 | Eval Rwd Var: 0.67\n",
            "Episode 148/500 | Ep. Total Reward: 16.0 | Epsilon : 0.100 | Eval Rwd Mean: 16.67 | Eval Rwd Var: 6.22\n",
            "Episode 149/500 | Ep. Total Reward: 16.0 | Epsilon : 0.100 | Eval Rwd Mean: 17.00 | Eval Rwd Var: 4.67\n",
            "Episode 150/500 | Ep. Total Reward: 21.0 | Epsilon : 0.100 | Eval Rwd Mean: 25.00 | Eval Rwd Var: 18.67\n",
            "Episode 151/500 | Ep. Total Reward: 21.0 | Epsilon : 0.100 | Eval Rwd Mean: 19.33 | Eval Rwd Var: 6.89\n",
            "Episode 152/500 | Ep. Total Reward: 22.0 | Epsilon : 0.100 | Eval Rwd Mean: 18.00 | Eval Rwd Var: 2.67\n",
            "Episode 153/500 | Ep. Total Reward: 16.0 | Epsilon : 0.100 | Eval Rwd Mean: 13.33 | Eval Rwd Var: 0.89\n",
            "Episode 154/500 | Ep. Total Reward: 17.0 | Epsilon : 0.100 | Eval Rwd Mean: 11.33 | Eval Rwd Var: 0.22\n",
            "Episode 155/500 | Ep. Total Reward: 13.0 | Epsilon : 0.100 | Eval Rwd Mean: 9.33 | Eval Rwd Var: 0.22\n",
            "Episode 156/500 | Ep. Total Reward: 9.0 | Epsilon : 0.100 | Eval Rwd Mean: 9.67 | Eval Rwd Var: 0.22\n",
            "Episode 157/500 | Ep. Total Reward: 9.0 | Epsilon : 0.100 | Eval Rwd Mean: 9.33 | Eval Rwd Var: 0.22\n",
            "Episode 158/500 | Ep. Total Reward: 11.0 | Epsilon : 0.100 | Eval Rwd Mean: 9.33 | Eval Rwd Var: 1.56\n",
            "Episode 159/500 | Ep. Total Reward: 9.0 | Epsilon : 0.100 | Eval Rwd Mean: 13.00 | Eval Rwd Var: 0.67\n",
            "Episode 160/500 | Ep. Total Reward: 13.0 | Epsilon : 0.100 | Eval Rwd Mean: 9.33 | Eval Rwd Var: 0.22\n",
            "Episode 161/500 | Ep. Total Reward: 9.0 | Epsilon : 0.100 | Eval Rwd Mean: 11.00 | Eval Rwd Var: 0.67\n",
            "Episode 162/500 | Ep. Total Reward: 12.0 | Epsilon : 0.100 | Eval Rwd Mean: 9.67 | Eval Rwd Var: 0.22\n",
            "Episode 163/500 | Ep. Total Reward: 12.0 | Epsilon : 0.100 | Eval Rwd Mean: 10.33 | Eval Rwd Var: 0.89\n",
            "Episode 164/500 | Ep. Total Reward: 11.0 | Epsilon : 0.100 | Eval Rwd Mean: 9.33 | Eval Rwd Var: 0.89\n",
            "Episode 165/500 | Ep. Total Reward: 10.0 | Epsilon : 0.100 | Eval Rwd Mean: 9.00 | Eval Rwd Var: 0.00\n",
            "Episode 166/500 | Ep. Total Reward: 9.0 | Epsilon : 0.100 | Eval Rwd Mean: 9.00 | Eval Rwd Var: 0.00\n",
            "Episode 167/500 | Ep. Total Reward: 9.0 | Epsilon : 0.100 | Eval Rwd Mean: 9.33 | Eval Rwd Var: 0.22\n",
            "Episode 168/500 | Ep. Total Reward: 9.0 | Epsilon : 0.100 | Eval Rwd Mean: 9.67 | Eval Rwd Var: 1.56\n",
            "Episode 169/500 | Ep. Total Reward: 11.0 | Epsilon : 0.100 | Eval Rwd Mean: 9.33 | Eval Rwd Var: 0.22\n",
            "Episode 170/500 | Ep. Total Reward: 13.0 | Epsilon : 0.100 | Eval Rwd Mean: 9.67 | Eval Rwd Var: 0.22\n",
            "Episode 171/500 | Ep. Total Reward: 9.0 | Epsilon : 0.100 | Eval Rwd Mean: 8.67 | Eval Rwd Var: 0.22\n",
            "Episode 172/500 | Ep. Total Reward: 10.0 | Epsilon : 0.100 | Eval Rwd Mean: 10.67 | Eval Rwd Var: 0.89\n",
            "Episode 173/500 | Ep. Total Reward: 13.0 | Epsilon : 0.100 | Eval Rwd Mean: 9.67 | Eval Rwd Var: 0.22\n",
            "Episode 174/500 | Ep. Total Reward: 9.0 | Epsilon : 0.100 | Eval Rwd Mean: 10.67 | Eval Rwd Var: 1.56\n",
            "Episode 175/500 | Ep. Total Reward: 9.0 | Epsilon : 0.100 | Eval Rwd Mean: 8.67 | Eval Rwd Var: 0.22\n",
            "Episode 176/500 | Ep. Total Reward: 10.0 | Epsilon : 0.100 | Eval Rwd Mean: 9.33 | Eval Rwd Var: 0.89\n",
            "Episode 177/500 | Ep. Total Reward: 9.0 | Epsilon : 0.100 | Eval Rwd Mean: 10.33 | Eval Rwd Var: 1.56\n",
            "Episode 178/500 | Ep. Total Reward: 13.0 | Epsilon : 0.100 | Eval Rwd Mean: 16.33 | Eval Rwd Var: 4.22\n",
            "Episode 179/500 | Ep. Total Reward: 17.0 | Epsilon : 0.100 | Eval Rwd Mean: 18.67 | Eval Rwd Var: 9.56\n",
            "Episode 180/500 | Ep. Total Reward: 23.0 | Epsilon : 0.100 | Eval Rwd Mean: 17.33 | Eval Rwd Var: 2.89\n",
            "Episode 181/500 | Ep. Total Reward: 17.0 | Epsilon : 0.100 | Eval Rwd Mean: 18.00 | Eval Rwd Var: 8.67\n",
            "Episode 182/500 | Ep. Total Reward: 12.0 | Epsilon : 0.100 | Eval Rwd Mean: 15.00 | Eval Rwd Var: 4.67\n",
            "Episode 183/500 | Ep. Total Reward: 12.0 | Epsilon : 0.100 | Eval Rwd Mean: 19.33 | Eval Rwd Var: 1.56\n",
            "Episode 184/500 | Ep. Total Reward: 22.0 | Epsilon : 0.100 | Eval Rwd Mean: 34.67 | Eval Rwd Var: 27.56\n",
            "Episode 185/500 | Ep. Total Reward: 41.0 | Epsilon : 0.100 | Eval Rwd Mean: 13.67 | Eval Rwd Var: 4.22\n",
            "Episode 186/500 | Ep. Total Reward: 18.0 | Epsilon : 0.100 | Eval Rwd Mean: 12.33 | Eval Rwd Var: 0.22\n",
            "Episode 187/500 | Ep. Total Reward: 10.0 | Epsilon : 0.100 | Eval Rwd Mean: 9.33 | Eval Rwd Var: 0.22\n",
            "Episode 188/500 | Ep. Total Reward: 10.0 | Epsilon : 0.100 | Eval Rwd Mean: 9.00 | Eval Rwd Var: 2.00\n",
            "Episode 189/500 | Ep. Total Reward: 10.0 | Epsilon : 0.100 | Eval Rwd Mean: 11.00 | Eval Rwd Var: 0.67\n",
            "Episode 190/500 | Ep. Total Reward: 9.0 | Epsilon : 0.100 | Eval Rwd Mean: 10.33 | Eval Rwd Var: 0.22\n",
            "Episode 191/500 | Ep. Total Reward: 13.0 | Epsilon : 0.100 | Eval Rwd Mean: 17.33 | Eval Rwd Var: 4.22\n",
            "Episode 192/500 | Ep. Total Reward: 17.0 | Epsilon : 0.100 | Eval Rwd Mean: 14.67 | Eval Rwd Var: 1.56\n",
            "Episode 193/500 | Ep. Total Reward: 15.0 | Epsilon : 0.100 | Eval Rwd Mean: 9.00 | Eval Rwd Var: 0.67\n",
            "Episode 194/500 | Ep. Total Reward: 10.0 | Epsilon : 0.100 | Eval Rwd Mean: 14.67 | Eval Rwd Var: 0.22\n",
            "Episode 195/500 | Ep. Total Reward: 12.0 | Epsilon : 0.100 | Eval Rwd Mean: 9.33 | Eval Rwd Var: 0.22\n",
            "Episode 196/500 | Ep. Total Reward: 10.0 | Epsilon : 0.100 | Eval Rwd Mean: 13.00 | Eval Rwd Var: 0.67\n",
            "Episode 197/500 | Ep. Total Reward: 10.0 | Epsilon : 0.100 | Eval Rwd Mean: 9.67 | Eval Rwd Var: 0.22\n",
            "Episode 198/500 | Ep. Total Reward: 9.0 | Epsilon : 0.100 | Eval Rwd Mean: 9.67 | Eval Rwd Var: 0.22\n",
            "Episode 199/500 | Ep. Total Reward: 10.0 | Epsilon : 0.100 | Eval Rwd Mean: 13.33 | Eval Rwd Var: 2.89\n",
            "Episode 200/500 | Ep. Total Reward: 16.0 | Epsilon : 0.100 | Eval Rwd Mean: 11.33 | Eval Rwd Var: 0.89\n",
            "Episode 201/500 | Ep. Total Reward: 10.0 | Epsilon : 0.100 | Eval Rwd Mean: 14.00 | Eval Rwd Var: 0.67\n",
            "Episode 202/500 | Ep. Total Reward: 16.0 | Epsilon : 0.100 | Eval Rwd Mean: 14.00 | Eval Rwd Var: 0.67\n",
            "Episode 203/500 | Ep. Total Reward: 13.0 | Epsilon : 0.100 | Eval Rwd Mean: 15.67 | Eval Rwd Var: 0.89\n",
            "Episode 204/500 | Ep. Total Reward: 15.0 | Epsilon : 0.100 | Eval Rwd Mean: 14.67 | Eval Rwd Var: 1.56\n",
            "Episode 205/500 | Ep. Total Reward: 13.0 | Epsilon : 0.100 | Eval Rwd Mean: 9.33 | Eval Rwd Var: 0.22\n",
            "Episode 206/500 | Ep. Total Reward: 15.0 | Epsilon : 0.100 | Eval Rwd Mean: 9.00 | Eval Rwd Var: 0.67\n",
            "Episode 207/500 | Ep. Total Reward: 9.0 | Epsilon : 0.100 | Eval Rwd Mean: 14.33 | Eval Rwd Var: 2.89\n",
            "Episode 208/500 | Ep. Total Reward: 13.0 | Epsilon : 0.100 | Eval Rwd Mean: 13.33 | Eval Rwd Var: 0.89\n",
            "Episode 209/500 | Ep. Total Reward: 13.0 | Epsilon : 0.100 | Eval Rwd Mean: 22.67 | Eval Rwd Var: 21.56\n",
            "Episode 210/500 | Ep. Total Reward: 28.0 | Epsilon : 0.100 | Eval Rwd Mean: 66.67 | Eval Rwd Var: 96.22\n",
            "Episode 211/500 | Ep. Total Reward: 63.0 | Epsilon : 0.100 | Eval Rwd Mean: 22.33 | Eval Rwd Var: 16.22\n",
            "Episode 212/500 | Ep. Total Reward: 19.0 | Epsilon : 0.100 | Eval Rwd Mean: 17.33 | Eval Rwd Var: 4.22\n",
            "Episode 213/500 | Ep. Total Reward: 23.0 | Epsilon : 0.100 | Eval Rwd Mean: 62.33 | Eval Rwd Var: 96.22\n",
            "Episode 214/500 | Ep. Total Reward: 91.0 | Epsilon : 0.100 | Eval Rwd Mean: 23.33 | Eval Rwd Var: 21.56\n",
            "Episode 215/500 | Ep. Total Reward: 36.0 | Epsilon : 0.100 | Eval Rwd Mean: 39.67 | Eval Rwd Var: 6.22\n",
            "Episode 216/500 | Ep. Total Reward: 55.0 | Epsilon : 0.100 | Eval Rwd Mean: 23.00 | Eval Rwd Var: 24.67\n",
            "Episode 217/500 | Ep. Total Reward: 31.0 | Epsilon : 0.100 | Eval Rwd Mean: 35.67 | Eval Rwd Var: 10.89\n",
            "Episode 218/500 | Ep. Total Reward: 83.0 | Epsilon : 0.100 | Eval Rwd Mean: 16.67 | Eval Rwd Var: 3.56\n",
            "Episode 219/500 | Ep. Total Reward: 62.0 | Epsilon : 0.100 | Eval Rwd Mean: 15.33 | Eval Rwd Var: 2.89\n",
            "Episode 220/500 | Ep. Total Reward: 17.0 | Epsilon : 0.100 | Eval Rwd Mean: 9.00 | Eval Rwd Var: 0.67\n",
            "Episode 221/500 | Ep. Total Reward: 10.0 | Epsilon : 0.100 | Eval Rwd Mean: 20.33 | Eval Rwd Var: 5.56\n",
            "Episode 222/500 | Ep. Total Reward: 18.0 | Epsilon : 0.100 | Eval Rwd Mean: 9.33 | Eval Rwd Var: 0.22\n",
            "Episode 223/500 | Ep. Total Reward: 9.0 | Epsilon : 0.100 | Eval Rwd Mean: 22.33 | Eval Rwd Var: 1.56\n",
            "Episode 224/500 | Ep. Total Reward: 37.0 | Epsilon : 0.100 | Eval Rwd Mean: 18.00 | Eval Rwd Var: 8.67\n",
            "Episode 225/500 | Ep. Total Reward: 18.0 | Epsilon : 0.100 | Eval Rwd Mean: 9.33 | Eval Rwd Var: 0.22\n",
            "Episode 226/500 | Ep. Total Reward: 10.0 | Epsilon : 0.100 | Eval Rwd Mean: 18.33 | Eval Rwd Var: 0.89\n",
            "Episode 227/500 | Ep. Total Reward: 23.0 | Epsilon : 0.100 | Eval Rwd Mean: 17.67 | Eval Rwd Var: 2.89\n",
            "Episode 228/500 | Ep. Total Reward: 20.0 | Epsilon : 0.100 | Eval Rwd Mean: 15.33 | Eval Rwd Var: 1.56\n",
            "Episode 229/500 | Ep. Total Reward: 18.0 | Epsilon : 0.100 | Eval Rwd Mean: 9.33 | Eval Rwd Var: 0.22\n",
            "Episode 230/500 | Ep. Total Reward: 10.0 | Epsilon : 0.100 | Eval Rwd Mean: 9.67 | Eval Rwd Var: 0.22\n",
            "Episode 231/500 | Ep. Total Reward: 10.0 | Epsilon : 0.100 | Eval Rwd Mean: 9.67 | Eval Rwd Var: 0.22\n",
            "Episode 232/500 | Ep. Total Reward: 10.0 | Epsilon : 0.100 | Eval Rwd Mean: 19.33 | Eval Rwd Var: 6.22\n",
            "Episode 233/500 | Ep. Total Reward: 17.0 | Epsilon : 0.100 | Eval Rwd Mean: 17.00 | Eval Rwd Var: 4.67\n",
            "Episode 234/500 | Ep. Total Reward: 23.0 | Epsilon : 0.100 | Eval Rwd Mean: 17.67 | Eval Rwd Var: 2.89\n",
            "Episode 235/500 | Ep. Total Reward: 21.0 | Epsilon : 0.100 | Eval Rwd Mean: 16.00 | Eval Rwd Var: 6.00\n",
            "Episode 236/500 | Ep. Total Reward: 18.0 | Epsilon : 0.100 | Eval Rwd Mean: 16.33 | Eval Rwd Var: 8.22\n",
            "Episode 237/500 | Ep. Total Reward: 23.0 | Epsilon : 0.100 | Eval Rwd Mean: 18.00 | Eval Rwd Var: 6.00\n",
            "Episode 238/500 | Ep. Total Reward: 18.0 | Epsilon : 0.100 | Eval Rwd Mean: 68.00 | Eval Rwd Var: 620.67\n",
            "Episode 239/500 | Ep. Total Reward: 35.0 | Epsilon : 0.100 | Eval Rwd Mean: 29.00 | Eval Rwd Var: 18.67\n",
            "Episode 240/500 | Ep. Total Reward: 17.0 | Epsilon : 0.100 | Eval Rwd Mean: 17.00 | Eval Rwd Var: 2.67\n",
            "Episode 241/500 | Ep. Total Reward: 19.0 | Epsilon : 0.100 | Eval Rwd Mean: 16.67 | Eval Rwd Var: 3.56\n",
            "Episode 242/500 | Ep. Total Reward: 18.0 | Epsilon : 0.100 | Eval Rwd Mean: 15.67 | Eval Rwd Var: 2.89\n",
            "Episode 243/500 | Ep. Total Reward: 17.0 | Epsilon : 0.100 | Eval Rwd Mean: 24.67 | Eval Rwd Var: 20.22\n",
            "Episode 244/500 | Ep. Total Reward: 18.0 | Epsilon : 0.100 | Eval Rwd Mean: 22.33 | Eval Rwd Var: 16.22\n",
            "Episode 245/500 | Ep. Total Reward: 52.0 | Epsilon : 0.100 | Eval Rwd Mean: 17.00 | Eval Rwd Var: 0.67\n",
            "Episode 246/500 | Ep. Total Reward: 15.0 | Epsilon : 0.100 | Eval Rwd Mean: 21.33 | Eval Rwd Var: 11.56\n",
            "Episode 247/500 | Ep. Total Reward: 30.0 | Epsilon : 0.100 | Eval Rwd Mean: 14.33 | Eval Rwd Var: 0.22\n",
            "Episode 248/500 | Ep. Total Reward: 16.0 | Epsilon : 0.100 | Eval Rwd Mean: 27.00 | Eval Rwd Var: 8.67\n",
            "Episode 249/500 | Ep. Total Reward: 25.0 | Epsilon : 0.100 | Eval Rwd Mean: 21.67 | Eval Rwd Var: 0.22\n",
            "Episode 250/500 | Ep. Total Reward: 17.0 | Epsilon : 0.100 | Eval Rwd Mean: 18.33 | Eval Rwd Var: 11.56\n",
            "Episode 251/500 | Ep. Total Reward: 22.0 | Epsilon : 0.100 | Eval Rwd Mean: 9.00 | Eval Rwd Var: 0.67\n",
            "Episode 252/500 | Ep. Total Reward: 9.0 | Epsilon : 0.100 | Eval Rwd Mean: 19.00 | Eval Rwd Var: 4.67\n",
            "Episode 253/500 | Ep. Total Reward: 16.0 | Epsilon : 0.100 | Eval Rwd Mean: 9.00 | Eval Rwd Var: 0.67\n",
            "Episode 254/500 | Ep. Total Reward: 8.0 | Epsilon : 0.100 | Eval Rwd Mean: 18.33 | Eval Rwd Var: 1.56\n",
            "Episode 255/500 | Ep. Total Reward: 23.0 | Epsilon : 0.100 | Eval Rwd Mean: 21.67 | Eval Rwd Var: 3.56\n",
            "Episode 256/500 | Ep. Total Reward: 19.0 | Epsilon : 0.100 | Eval Rwd Mean: 17.67 | Eval Rwd Var: 2.89\n",
            "Episode 257/500 | Ep. Total Reward: 20.0 | Epsilon : 0.100 | Eval Rwd Mean: 9.33 | Eval Rwd Var: 0.22\n",
            "Episode 258/500 | Ep. Total Reward: 9.0 | Epsilon : 0.100 | Eval Rwd Mean: 19.33 | Eval Rwd Var: 4.22\n",
            "Episode 259/500 | Ep. Total Reward: 17.0 | Epsilon : 0.100 | Eval Rwd Mean: 33.67 | Eval Rwd Var: 46.89\n",
            "Episode 260/500 | Ep. Total Reward: 41.0 | Epsilon : 0.100 | Eval Rwd Mean: 24.00 | Eval Rwd Var: 4.67\n",
            "Episode 261/500 | Ep. Total Reward: 21.0 | Epsilon : 0.100 | Eval Rwd Mean: 12.33 | Eval Rwd Var: 0.22\n",
            "Episode 262/500 | Ep. Total Reward: 19.0 | Epsilon : 0.100 | Eval Rwd Mean: 13.33 | Eval Rwd Var: 0.89\n",
            "Episode 263/500 | Ep. Total Reward: 13.0 | Epsilon : 0.100 | Eval Rwd Mean: 9.67 | Eval Rwd Var: 0.89\n",
            "Episode 264/500 | Ep. Total Reward: 9.0 | Epsilon : 0.100 | Eval Rwd Mean: 12.67 | Eval Rwd Var: 0.89\n",
            "Episode 265/500 | Ep. Total Reward: 10.0 | Epsilon : 0.100 | Eval Rwd Mean: 9.00 | Eval Rwd Var: 0.67\n",
            "Episode 266/500 | Ep. Total Reward: 9.0 | Epsilon : 0.100 | Eval Rwd Mean: 12.33 | Eval Rwd Var: 2.89\n",
            "Episode 267/500 | Ep. Total Reward: 16.0 | Epsilon : 0.100 | Eval Rwd Mean: 9.33 | Eval Rwd Var: 0.22\n",
            "Episode 268/500 | Ep. Total Reward: 12.0 | Epsilon : 0.100 | Eval Rwd Mean: 18.00 | Eval Rwd Var: 6.00\n",
            "Episode 269/500 | Ep. Total Reward: 16.0 | Epsilon : 0.100 | Eval Rwd Mean: 18.33 | Eval Rwd Var: 0.89\n",
            "Episode 270/500 | Ep. Total Reward: 17.0 | Epsilon : 0.100 | Eval Rwd Mean: 27.67 | Eval Rwd Var: 6.22\n",
            "Episode 271/500 | Ep. Total Reward: 42.0 | Epsilon : 0.100 | Eval Rwd Mean: 23.00 | Eval Rwd Var: 20.67\n",
            "Episode 272/500 | Ep. Total Reward: 27.0 | Epsilon : 0.100 | Eval Rwd Mean: 19.67 | Eval Rwd Var: 13.56\n",
            "Episode 273/500 | Ep. Total Reward: 19.0 | Epsilon : 0.100 | Eval Rwd Mean: 18.67 | Eval Rwd Var: 4.22\n",
            "Episode 274/500 | Ep. Total Reward: 24.0 | Epsilon : 0.100 | Eval Rwd Mean: 45.67 | Eval Rwd Var: 88.22\n",
            "Episode 275/500 | Ep. Total Reward: 30.0 | Epsilon : 0.100 | Eval Rwd Mean: 20.00 | Eval Rwd Var: 8.00\n",
            "Episode 276/500 | Ep. Total Reward: 27.0 | Epsilon : 0.100 | Eval Rwd Mean: 8.67 | Eval Rwd Var: 0.22\n",
            "Episode 277/500 | Ep. Total Reward: 10.0 | Epsilon : 0.100 | Eval Rwd Mean: 9.67 | Eval Rwd Var: 0.22\n",
            "Episode 278/500 | Ep. Total Reward: 11.0 | Epsilon : 0.100 | Eval Rwd Mean: 9.00 | Eval Rwd Var: 0.67\n",
            "Episode 279/500 | Ep. Total Reward: 10.0 | Epsilon : 0.100 | Eval Rwd Mean: 16.67 | Eval Rwd Var: 5.56\n",
            "Episode 280/500 | Ep. Total Reward: 10.0 | Epsilon : 0.100 | Eval Rwd Mean: 26.33 | Eval Rwd Var: 29.56\n",
            "Episode 281/500 | Ep. Total Reward: 33.0 | Epsilon : 0.100 | Eval Rwd Mean: 22.67 | Eval Rwd Var: 3.56\n",
            "Episode 282/500 | Ep. Total Reward: 26.0 | Epsilon : 0.100 | Eval Rwd Mean: 50.33 | Eval Rwd Var: 130.89\n",
            "Episode 283/500 | Ep. Total Reward: 44.0 | Epsilon : 0.100 | Eval Rwd Mean: 20.33 | Eval Rwd Var: 1.56\n",
            "Episode 284/500 | Ep. Total Reward: 23.0 | Epsilon : 0.100 | Eval Rwd Mean: 9.67 | Eval Rwd Var: 0.22\n",
            "Episode 285/500 | Ep. Total Reward: 9.0 | Epsilon : 0.100 | Eval Rwd Mean: 22.33 | Eval Rwd Var: 14.22\n",
            "Episode 286/500 | Ep. Total Reward: 18.0 | Epsilon : 0.100 | Eval Rwd Mean: 38.33 | Eval Rwd Var: 16.89\n",
            "Episode 287/500 | Ep. Total Reward: 33.0 | Epsilon : 0.100 | Eval Rwd Mean: 29.33 | Eval Rwd Var: 0.89\n",
            "Episode 288/500 | Ep. Total Reward: 39.0 | Epsilon : 0.100 | Eval Rwd Mean: 26.67 | Eval Rwd Var: 9.56\n",
            "Episode 289/500 | Ep. Total Reward: 40.0 | Epsilon : 0.100 | Eval Rwd Mean: 9.67 | Eval Rwd Var: 0.22\n",
            "Episode 290/500 | Ep. Total Reward: 9.0 | Epsilon : 0.100 | Eval Rwd Mean: 27.67 | Eval Rwd Var: 27.56\n",
            "Episode 291/500 | Ep. Total Reward: 32.0 | Epsilon : 0.100 | Eval Rwd Mean: 26.00 | Eval Rwd Var: 2.00\n",
            "Episode 292/500 | Ep. Total Reward: 29.0 | Epsilon : 0.100 | Eval Rwd Mean: 9.33 | Eval Rwd Var: 0.89\n",
            "Episode 293/500 | Ep. Total Reward: 10.0 | Epsilon : 0.100 | Eval Rwd Mean: 24.33 | Eval Rwd Var: 22.22\n",
            "Episode 294/500 | Ep. Total Reward: 29.0 | Epsilon : 0.100 | Eval Rwd Mean: 9.67 | Eval Rwd Var: 0.22\n",
            "Episode 295/500 | Ep. Total Reward: 10.0 | Epsilon : 0.100 | Eval Rwd Mean: 25.67 | Eval Rwd Var: 3.56\n",
            "Episode 296/500 | Ep. Total Reward: 27.0 | Epsilon : 0.100 | Eval Rwd Mean: 9.33 | Eval Rwd Var: 0.22\n",
            "Episode 297/500 | Ep. Total Reward: 12.0 | Epsilon : 0.100 | Eval Rwd Mean: 29.33 | Eval Rwd Var: 22.89\n",
            "Episode 298/500 | Ep. Total Reward: 33.0 | Epsilon : 0.100 | Eval Rwd Mean: 23.33 | Eval Rwd Var: 0.22\n",
            "Episode 299/500 | Ep. Total Reward: 26.0 | Epsilon : 0.100 | Eval Rwd Mean: 45.67 | Eval Rwd Var: 90.89\n",
            "Episode 300/500 | Ep. Total Reward: 52.0 | Epsilon : 0.100 | Eval Rwd Mean: 26.33 | Eval Rwd Var: 11.56\n",
            "Episode 301/500 | Ep. Total Reward: 22.0 | Epsilon : 0.100 | Eval Rwd Mean: 18.00 | Eval Rwd Var: 8.00\n",
            "Episode 302/500 | Ep. Total Reward: 35.0 | Epsilon : 0.100 | Eval Rwd Mean: 16.67 | Eval Rwd Var: 0.22\n",
            "Episode 303/500 | Ep. Total Reward: 22.0 | Epsilon : 0.100 | Eval Rwd Mean: 32.67 | Eval Rwd Var: 16.89\n",
            "Episode 304/500 | Ep. Total Reward: 95.0 | Epsilon : 0.100 | Eval Rwd Mean: 9.33 | Eval Rwd Var: 0.22\n",
            "Episode 305/500 | Ep. Total Reward: 10.0 | Epsilon : 0.100 | Eval Rwd Mean: 27.00 | Eval Rwd Var: 18.67\n",
            "Episode 306/500 | Ep. Total Reward: 32.0 | Epsilon : 0.100 | Eval Rwd Mean: 31.67 | Eval Rwd Var: 88.89\n",
            "Episode 307/500 | Ep. Total Reward: 52.0 | Epsilon : 0.100 | Eval Rwd Mean: 28.00 | Eval Rwd Var: 4.67\n",
            "Episode 308/500 | Ep. Total Reward: 68.0 | Epsilon : 0.100 | Eval Rwd Mean: 19.33 | Eval Rwd Var: 0.89\n",
            "Episode 309/500 | Ep. Total Reward: 32.0 | Epsilon : 0.100 | Eval Rwd Mean: 20.67 | Eval Rwd Var: 1.56\n",
            "Episode 310/500 | Ep. Total Reward: 16.0 | Epsilon : 0.100 | Eval Rwd Mean: 9.33 | Eval Rwd Var: 0.22\n",
            "Episode 311/500 | Ep. Total Reward: 9.0 | Epsilon : 0.100 | Eval Rwd Mean: 20.33 | Eval Rwd Var: 6.22\n",
            "Episode 312/500 | Ep. Total Reward: 23.0 | Epsilon : 0.100 | Eval Rwd Mean: 17.67 | Eval Rwd Var: 3.56\n",
            "Episode 313/500 | Ep. Total Reward: 15.0 | Epsilon : 0.100 | Eval Rwd Mean: 45.67 | Eval Rwd Var: 323.56\n",
            "Episode 314/500 | Ep. Total Reward: 50.0 | Epsilon : 0.100 | Eval Rwd Mean: 25.00 | Eval Rwd Var: 10.67\n",
            "Episode 315/500 | Ep. Total Reward: 22.0 | Epsilon : 0.100 | Eval Rwd Mean: 24.00 | Eval Rwd Var: 8.67\n",
            "Episode 316/500 | Ep. Total Reward: 21.0 | Epsilon : 0.100 | Eval Rwd Mean: 19.00 | Eval Rwd Var: 24.67\n",
            "Episode 317/500 | Ep. Total Reward: 34.0 | Epsilon : 0.100 | Eval Rwd Mean: 20.33 | Eval Rwd Var: 29.56\n",
            "Episode 318/500 | Ep. Total Reward: 30.0 | Epsilon : 0.100 | Eval Rwd Mean: 25.00 | Eval Rwd Var: 2.67\n",
            "Episode 319/500 | Ep. Total Reward: 26.0 | Epsilon : 0.100 | Eval Rwd Mean: 10.00 | Eval Rwd Var: 0.67\n",
            "Episode 320/500 | Ep. Total Reward: 9.0 | Epsilon : 0.100 | Eval Rwd Mean: 25.00 | Eval Rwd Var: 32.67\n",
            "Episode 321/500 | Ep. Total Reward: 22.0 | Epsilon : 0.100 | Eval Rwd Mean: 115.67 | Eval Rwd Var: 14526.89\n",
            "Episode 322/500 | Ep. Total Reward: 22.0 | Epsilon : 0.100 | Eval Rwd Mean: 43.67 | Eval Rwd Var: 354.89\n",
            "Episode 323/500 | Ep. Total Reward: 63.0 | Epsilon : 0.100 | Eval Rwd Mean: 32.67 | Eval Rwd Var: 4.22\n",
            "Episode 324/500 | Ep. Total Reward: 38.0 | Epsilon : 0.100 | Eval Rwd Mean: 22.33 | Eval Rwd Var: 3.56\n",
            "Episode 325/500 | Ep. Total Reward: 20.0 | Epsilon : 0.100 | Eval Rwd Mean: 43.67 | Eval Rwd Var: 9.56\n",
            "Episode 326/500 | Ep. Total Reward: 51.0 | Epsilon : 0.100 | Eval Rwd Mean: 13.67 | Eval Rwd Var: 0.89\n",
            "Episode 327/500 | Ep. Total Reward: 21.0 | Epsilon : 0.100 | Eval Rwd Mean: 32.67 | Eval Rwd Var: 6.22\n",
            "Episode 328/500 | Ep. Total Reward: 26.0 | Epsilon : 0.100 | Eval Rwd Mean: 9.33 | Eval Rwd Var: 0.22\n",
            "Episode 329/500 | Ep. Total Reward: 10.0 | Epsilon : 0.100 | Eval Rwd Mean: 17.67 | Eval Rwd Var: 0.22\n",
            "Episode 330/500 | Ep. Total Reward: 21.0 | Epsilon : 0.100 | Eval Rwd Mean: 63.33 | Eval Rwd Var: 254.89\n",
            "Episode 331/500 | Ep. Total Reward: 79.0 | Epsilon : 0.100 | Eval Rwd Mean: 22.67 | Eval Rwd Var: 17.56\n",
            "Episode 332/500 | Ep. Total Reward: 32.0 | Epsilon : 0.100 | Eval Rwd Mean: 25.00 | Eval Rwd Var: 4.67\n",
            "Episode 333/500 | Ep. Total Reward: 21.0 | Epsilon : 0.100 | Eval Rwd Mean: 18.00 | Eval Rwd Var: 2.67\n",
            "Episode 334/500 | Ep. Total Reward: 24.0 | Epsilon : 0.100 | Eval Rwd Mean: 36.33 | Eval Rwd Var: 6.22\n",
            "Episode 335/500 | Ep. Total Reward: 35.0 | Epsilon : 0.100 | Eval Rwd Mean: 102.67 | Eval Rwd Var: 2563.56\n",
            "Episode 336/500 | Ep. Total Reward: 46.0 | Epsilon : 0.100 | Eval Rwd Mean: 80.00 | Eval Rwd Var: 4144.67\n",
            "Episode 337/500 | Ep. Total Reward: 43.0 | Epsilon : 0.100 | Eval Rwd Mean: 25.00 | Eval Rwd Var: 18.00\n",
            "Episode 338/500 | Ep. Total Reward: 18.0 | Epsilon : 0.100 | Eval Rwd Mean: 37.67 | Eval Rwd Var: 89.56\n",
            "Episode 339/500 | Ep. Total Reward: 39.0 | Epsilon : 0.100 | Eval Rwd Mean: 29.67 | Eval Rwd Var: 37.56\n",
            "Episode 340/500 | Ep. Total Reward: 80.0 | Epsilon : 0.100 | Eval Rwd Mean: 32.67 | Eval Rwd Var: 6.89\n",
            "Episode 341/500 | Ep. Total Reward: 49.0 | Epsilon : 0.100 | Eval Rwd Mean: 21.00 | Eval Rwd Var: 0.67\n",
            "Episode 342/500 | Ep. Total Reward: 18.0 | Epsilon : 0.100 | Eval Rwd Mean: 53.00 | Eval Rwd Var: 1200.67\n",
            "Episode 343/500 | Ep. Total Reward: 46.0 | Epsilon : 0.100 | Eval Rwd Mean: 26.67 | Eval Rwd Var: 14.89\n",
            "Episode 344/500 | Ep. Total Reward: 32.0 | Epsilon : 0.100 | Eval Rwd Mean: 31.33 | Eval Rwd Var: 9.56\n",
            "Episode 345/500 | Ep. Total Reward: 43.0 | Epsilon : 0.100 | Eval Rwd Mean: 23.33 | Eval Rwd Var: 11.56\n",
            "Episode 346/500 | Ep. Total Reward: 35.0 | Epsilon : 0.100 | Eval Rwd Mean: 24.67 | Eval Rwd Var: 13.56\n",
            "Episode 347/500 | Ep. Total Reward: 31.0 | Epsilon : 0.100 | Eval Rwd Mean: 9.33 | Eval Rwd Var: 1.56\n",
            "Episode 348/500 | Ep. Total Reward: 13.0 | Epsilon : 0.100 | Eval Rwd Mean: 20.67 | Eval Rwd Var: 1.56\n",
            "Episode 349/500 | Ep. Total Reward: 26.0 | Epsilon : 0.100 | Eval Rwd Mean: 15.67 | Eval Rwd Var: 1.56\n",
            "Episode 350/500 | Ep. Total Reward: 13.0 | Epsilon : 0.100 | Eval Rwd Mean: 9.67 | Eval Rwd Var: 0.22\n",
            "Episode 351/500 | Ep. Total Reward: 10.0 | Epsilon : 0.100 | Eval Rwd Mean: 13.00 | Eval Rwd Var: 8.00\n",
            "Episode 352/500 | Ep. Total Reward: 20.0 | Epsilon : 0.100 | Eval Rwd Mean: 9.67 | Eval Rwd Var: 0.22\n",
            "Episode 353/500 | Ep. Total Reward: 8.0 | Epsilon : 0.100 | Eval Rwd Mean: 15.00 | Eval Rwd Var: 8.67\n",
            "Episode 354/500 | Ep. Total Reward: 13.0 | Epsilon : 0.100 | Eval Rwd Mean: 22.00 | Eval Rwd Var: 2.67\n",
            "Episode 355/500 | Ep. Total Reward: 18.0 | Epsilon : 0.100 | Eval Rwd Mean: 15.67 | Eval Rwd Var: 4.22\n",
            "Episode 356/500 | Ep. Total Reward: 21.0 | Epsilon : 0.100 | Eval Rwd Mean: 9.67 | Eval Rwd Var: 0.22\n",
            "Episode 357/500 | Ep. Total Reward: 9.0 | Epsilon : 0.100 | Eval Rwd Mean: 18.00 | Eval Rwd Var: 4.67\n",
            "Episode 358/500 | Ep. Total Reward: 13.0 | Epsilon : 0.100 | Eval Rwd Mean: 57.67 | Eval Rwd Var: 0.89\n",
            "Episode 359/500 | Ep. Total Reward: 24.0 | Epsilon : 0.100 | Eval Rwd Mean: 22.00 | Eval Rwd Var: 18.67\n",
            "Episode 360/500 | Ep. Total Reward: 17.0 | Epsilon : 0.100 | Eval Rwd Mean: 39.33 | Eval Rwd Var: 9.56\n",
            "Episode 361/500 | Ep. Total Reward: 21.0 | Epsilon : 0.100 | Eval Rwd Mean: 31.33 | Eval Rwd Var: 21.56\n",
            "Episode 362/500 | Ep. Total Reward: 29.0 | Epsilon : 0.100 | Eval Rwd Mean: 26.33 | Eval Rwd Var: 16.22\n",
            "Episode 363/500 | Ep. Total Reward: 21.0 | Epsilon : 0.100 | Eval Rwd Mean: 18.67 | Eval Rwd Var: 1.56\n",
            "Episode 364/500 | Ep. Total Reward: 19.0 | Epsilon : 0.100 | Eval Rwd Mean: 32.00 | Eval Rwd Var: 2.00\n",
            "Episode 365/500 | Ep. Total Reward: 22.0 | Epsilon : 0.100 | Eval Rwd Mean: 23.33 | Eval Rwd Var: 13.56\n",
            "Episode 366/500 | Ep. Total Reward: 22.0 | Epsilon : 0.100 | Eval Rwd Mean: 17.67 | Eval Rwd Var: 0.22\n",
            "Episode 367/500 | Ep. Total Reward: 17.0 | Epsilon : 0.100 | Eval Rwd Mean: 12.33 | Eval Rwd Var: 0.89\n",
            "Episode 368/500 | Ep. Total Reward: 15.0 | Epsilon : 0.100 | Eval Rwd Mean: 17.00 | Eval Rwd Var: 8.67\n",
            "Episode 369/500 | Ep. Total Reward: 15.0 | Epsilon : 0.100 | Eval Rwd Mean: 14.33 | Eval Rwd Var: 1.56\n",
            "Episode 370/500 | Ep. Total Reward: 12.0 | Epsilon : 0.100 | Eval Rwd Mean: 9.67 | Eval Rwd Var: 0.22\n",
            "Episode 371/500 | Ep. Total Reward: 10.0 | Epsilon : 0.100 | Eval Rwd Mean: 9.33 | Eval Rwd Var: 0.22\n",
            "Episode 372/500 | Ep. Total Reward: 20.0 | Epsilon : 0.100 | Eval Rwd Mean: 20.33 | Eval Rwd Var: 10.89\n",
            "Episode 373/500 | Ep. Total Reward: 32.0 | Epsilon : 0.100 | Eval Rwd Mean: 27.33 | Eval Rwd Var: 17.56\n",
            "Episode 374/500 | Ep. Total Reward: 30.0 | Epsilon : 0.100 | Eval Rwd Mean: 19.67 | Eval Rwd Var: 6.22\n",
            "Episode 375/500 | Ep. Total Reward: 18.0 | Epsilon : 0.100 | Eval Rwd Mean: 9.00 | Eval Rwd Var: 0.00\n",
            "Episode 376/500 | Ep. Total Reward: 9.0 | Epsilon : 0.100 | Eval Rwd Mean: 17.67 | Eval Rwd Var: 4.22\n",
            "Episode 377/500 | Ep. Total Reward: 20.0 | Epsilon : 0.100 | Eval Rwd Mean: 9.00 | Eval Rwd Var: 0.67\n",
            "Episode 378/500 | Ep. Total Reward: 8.0 | Epsilon : 0.100 | Eval Rwd Mean: 23.00 | Eval Rwd Var: 4.67\n",
            "Episode 379/500 | Ep. Total Reward: 24.0 | Epsilon : 0.100 | Eval Rwd Mean: 16.00 | Eval Rwd Var: 4.67\n",
            "Episode 380/500 | Ep. Total Reward: 17.0 | Epsilon : 0.100 | Eval Rwd Mean: 9.33 | Eval Rwd Var: 0.22\n",
            "Episode 381/500 | Ep. Total Reward: 9.0 | Epsilon : 0.100 | Eval Rwd Mean: 16.67 | Eval Rwd Var: 2.89\n",
            "Episode 382/500 | Ep. Total Reward: 23.0 | Epsilon : 0.100 | Eval Rwd Mean: 34.33 | Eval Rwd Var: 8.22\n",
            "Episode 383/500 | Ep. Total Reward: 21.0 | Epsilon : 0.100 | Eval Rwd Mean: 14.33 | Eval Rwd Var: 2.89\n",
            "Episode 384/500 | Ep. Total Reward: 17.0 | Epsilon : 0.100 | Eval Rwd Mean: 15.00 | Eval Rwd Var: 2.00\n",
            "Episode 385/500 | Ep. Total Reward: 15.0 | Epsilon : 0.100 | Eval Rwd Mean: 9.67 | Eval Rwd Var: 0.89\n",
            "Episode 386/500 | Ep. Total Reward: 11.0 | Epsilon : 0.100 | Eval Rwd Mean: 12.67 | Eval Rwd Var: 2.89\n",
            "Episode 387/500 | Ep. Total Reward: 9.0 | Epsilon : 0.100 | Eval Rwd Mean: 9.67 | Eval Rwd Var: 0.22\n",
            "Episode 388/500 | Ep. Total Reward: 15.0 | Epsilon : 0.100 | Eval Rwd Mean: 9.33 | Eval Rwd Var: 0.22\n",
            "Episode 389/500 | Ep. Total Reward: 9.0 | Epsilon : 0.100 | Eval Rwd Mean: 10.67 | Eval Rwd Var: 1.56\n",
            "Episode 390/500 | Ep. Total Reward: 12.0 | Epsilon : 0.100 | Eval Rwd Mean: 16.33 | Eval Rwd Var: 6.22\n",
            "Episode 391/500 | Ep. Total Reward: 16.0 | Epsilon : 0.100 | Eval Rwd Mean: 20.00 | Eval Rwd Var: 18.67\n",
            "Episode 392/500 | Ep. Total Reward: 24.0 | Epsilon : 0.100 | Eval Rwd Mean: 23.33 | Eval Rwd Var: 2.89\n",
            "Episode 393/500 | Ep. Total Reward: 22.0 | Epsilon : 0.100 | Eval Rwd Mean: 20.33 | Eval Rwd Var: 3.56\n",
            "Episode 394/500 | Ep. Total Reward: 16.0 | Epsilon : 0.100 | Eval Rwd Mean: 17.00 | Eval Rwd Var: 16.67\n",
            "Episode 395/500 | Ep. Total Reward: 17.0 | Epsilon : 0.100 | Eval Rwd Mean: 27.00 | Eval Rwd Var: 18.67\n",
            "Episode 396/500 | Ep. Total Reward: 39.0 | Epsilon : 0.100 | Eval Rwd Mean: 23.33 | Eval Rwd Var: 21.56\n",
            "Episode 397/500 | Ep. Total Reward: 20.0 | Epsilon : 0.100 | Eval Rwd Mean: 64.00 | Eval Rwd Var: 1104.67\n",
            "Episode 398/500 | Ep. Total Reward: 39.0 | Epsilon : 0.100 | Eval Rwd Mean: 62.00 | Eval Rwd Var: 88.67\n",
            "Episode 399/500 | Ep. Total Reward: 30.0 | Epsilon : 0.100 | Eval Rwd Mean: 15.67 | Eval Rwd Var: 1.56\n",
            "Episode 400/500 | Ep. Total Reward: 15.0 | Epsilon : 0.100 | Eval Rwd Mean: 81.67 | Eval Rwd Var: 1277.56\n",
            "Episode 401/500 | Ep. Total Reward: 67.0 | Epsilon : 0.100 | Eval Rwd Mean: 19.67 | Eval Rwd Var: 6.22\n",
            "Episode 402/500 | Ep. Total Reward: 24.0 | Epsilon : 0.100 | Eval Rwd Mean: 9.33 | Eval Rwd Var: 0.22\n",
            "Episode 403/500 | Ep. Total Reward: 20.0 | Epsilon : 0.100 | Eval Rwd Mean: 10.00 | Eval Rwd Var: 0.00\n",
            "Episode 404/500 | Ep. Total Reward: 9.0 | Epsilon : 0.100 | Eval Rwd Mean: 16.33 | Eval Rwd Var: 8.22\n",
            "Episode 405/500 | Ep. Total Reward: 17.0 | Epsilon : 0.100 | Eval Rwd Mean: 11.67 | Eval Rwd Var: 0.89\n",
            "Episode 406/500 | Ep. Total Reward: 13.0 | Epsilon : 0.100 | Eval Rwd Mean: 9.33 | Eval Rwd Var: 0.22\n",
            "Episode 407/500 | Ep. Total Reward: 11.0 | Epsilon : 0.100 | Eval Rwd Mean: 16.00 | Eval Rwd Var: 2.67\n",
            "Episode 408/500 | Ep. Total Reward: 11.0 | Epsilon : 0.100 | Eval Rwd Mean: 9.33 | Eval Rwd Var: 0.89\n",
            "Episode 409/500 | Ep. Total Reward: 8.0 | Epsilon : 0.100 | Eval Rwd Mean: 13.33 | Eval Rwd Var: 2.89\n",
            "Episode 410/500 | Ep. Total Reward: 19.0 | Epsilon : 0.100 | Eval Rwd Mean: 12.67 | Eval Rwd Var: 2.89\n",
            "Episode 411/500 | Ep. Total Reward: 16.0 | Epsilon : 0.100 | Eval Rwd Mean: 10.00 | Eval Rwd Var: 0.00\n",
            "Episode 412/500 | Ep. Total Reward: 16.0 | Epsilon : 0.100 | Eval Rwd Mean: 9.33 | Eval Rwd Var: 0.22\n",
            "Episode 413/500 | Ep. Total Reward: 12.0 | Epsilon : 0.100 | Eval Rwd Mean: 15.67 | Eval Rwd Var: 5.56\n",
            "Episode 414/500 | Ep. Total Reward: 16.0 | Epsilon : 0.100 | Eval Rwd Mean: 24.33 | Eval Rwd Var: 2.89\n",
            "Episode 415/500 | Ep. Total Reward: 34.0 | Epsilon : 0.100 | Eval Rwd Mean: 93.33 | Eval Rwd Var: 3836.22\n",
            "Episode 416/500 | Ep. Total Reward: 83.0 | Epsilon : 0.100 | Eval Rwd Mean: 49.00 | Eval Rwd Var: 158.00\n",
            "Episode 417/500 | Ep. Total Reward: 41.0 | Epsilon : 0.100 | Eval Rwd Mean: 23.00 | Eval Rwd Var: 4.67\n",
            "Episode 418/500 | Ep. Total Reward: 24.0 | Epsilon : 0.100 | Eval Rwd Mean: 16.00 | Eval Rwd Var: 8.67\n",
            "Episode 419/500 | Ep. Total Reward: 22.0 | Epsilon : 0.100 | Eval Rwd Mean: 12.67 | Eval Rwd Var: 2.89\n",
            "Episode 420/500 | Ep. Total Reward: 14.0 | Epsilon : 0.100 | Eval Rwd Mean: 22.67 | Eval Rwd Var: 0.22\n",
            "Episode 421/500 | Ep. Total Reward: 35.0 | Epsilon : 0.100 | Eval Rwd Mean: 20.00 | Eval Rwd Var: 2.67\n",
            "Episode 422/500 | Ep. Total Reward: 24.0 | Epsilon : 0.100 | Eval Rwd Mean: 9.00 | Eval Rwd Var: 0.00\n",
            "Episode 423/500 | Ep. Total Reward: 22.0 | Epsilon : 0.100 | Eval Rwd Mean: 9.33 | Eval Rwd Var: 0.89\n",
            "Episode 424/500 | Ep. Total Reward: 9.0 | Epsilon : 0.100 | Eval Rwd Mean: 19.33 | Eval Rwd Var: 4.22\n",
            "Episode 425/500 | Ep. Total Reward: 17.0 | Epsilon : 0.100 | Eval Rwd Mean: 187.67 | Eval Rwd Var: 37366.22\n",
            "Episode 426/500 | Ep. Total Reward: 70.0 | Epsilon : 0.100 | Eval Rwd Mean: 22.33 | Eval Rwd Var: 13.56\n",
            "Episode 427/500 | Ep. Total Reward: 19.0 | Epsilon : 0.100 | Eval Rwd Mean: 10.00 | Eval Rwd Var: 0.00\n",
            "Episode 428/500 | Ep. Total Reward: 15.0 | Epsilon : 0.100 | Eval Rwd Mean: 8.33 | Eval Rwd Var: 0.22\n",
            "Episode 429/500 | Ep. Total Reward: 9.0 | Epsilon : 0.100 | Eval Rwd Mean: 9.33 | Eval Rwd Var: 0.22\n",
            "Episode 430/500 | Ep. Total Reward: 10.0 | Epsilon : 0.100 | Eval Rwd Mean: 25.33 | Eval Rwd Var: 6.22\n",
            "Episode 431/500 | Ep. Total Reward: 19.0 | Epsilon : 0.100 | Eval Rwd Mean: 15.33 | Eval Rwd Var: 6.89\n",
            "Episode 432/500 | Ep. Total Reward: 21.0 | Epsilon : 0.100 | Eval Rwd Mean: 60.33 | Eval Rwd Var: 561.56\n",
            "Episode 433/500 | Ep. Total Reward: 63.0 | Epsilon : 0.100 | Eval Rwd Mean: 217.67 | Eval Rwd Var: 32608.22\n",
            "Episode 434/500 | Ep. Total Reward: 33.0 | Epsilon : 0.100 | Eval Rwd Mean: 386.33 | Eval Rwd Var: 7121.56\n",
            "Episode 435/500 | Ep. Total Reward: 41.0 | Epsilon : 0.100 | Eval Rwd Mean: 335.33 | Eval Rwd Var: 13653.56\n",
            "Episode 436/500 | Ep. Total Reward: 53.0 | Epsilon : 0.100 | Eval Rwd Mean: 32.33 | Eval Rwd Var: 14.22\n",
            "Episode 437/500 | Ep. Total Reward: 29.0 | Epsilon : 0.100 | Eval Rwd Mean: 55.33 | Eval Rwd Var: 29.56\n",
            "Episode 438/500 | Ep. Total Reward: 78.0 | Epsilon : 0.100 | Eval Rwd Mean: 59.33 | Eval Rwd Var: 182.89\n",
            "Episode 439/500 | Ep. Total Reward: 52.0 | Epsilon : 0.100 | Eval Rwd Mean: 23.67 | Eval Rwd Var: 8.22\n",
            "Episode 440/500 | Ep. Total Reward: 34.0 | Epsilon : 0.100 | Eval Rwd Mean: 50.33 | Eval Rwd Var: 869.56\n",
            "Episode 441/500 | Ep. Total Reward: 28.0 | Epsilon : 0.100 | Eval Rwd Mean: 8.67 | Eval Rwd Var: 0.22\n",
            "Episode 442/500 | Ep. Total Reward: 10.0 | Epsilon : 0.100 | Eval Rwd Mean: 35.33 | Eval Rwd Var: 38.89\n",
            "Episode 443/500 | Ep. Total Reward: 42.0 | Epsilon : 0.100 | Eval Rwd Mean: 9.33 | Eval Rwd Var: 0.22\n",
            "Episode 444/500 | Ep. Total Reward: 9.0 | Epsilon : 0.100 | Eval Rwd Mean: 34.00 | Eval Rwd Var: 12.67\n",
            "Episode 445/500 | Ep. Total Reward: 51.0 | Epsilon : 0.100 | Eval Rwd Mean: 32.00 | Eval Rwd Var: 8.67\n",
            "Episode 446/500 | Ep. Total Reward: 35.0 | Epsilon : 0.100 | Eval Rwd Mean: 22.67 | Eval Rwd Var: 4.22\n",
            "Episode 447/500 | Ep. Total Reward: 74.0 | Epsilon : 0.100 | Eval Rwd Mean: 18.00 | Eval Rwd Var: 2.67\n",
            "Episode 448/500 | Ep. Total Reward: 18.0 | Epsilon : 0.100 | Eval Rwd Mean: 10.00 | Eval Rwd Var: 0.67\n",
            "Episode 449/500 | Ep. Total Reward: 10.0 | Epsilon : 0.100 | Eval Rwd Mean: 21.00 | Eval Rwd Var: 8.67\n",
            "Episode 450/500 | Ep. Total Reward: 16.0 | Epsilon : 0.100 | Eval Rwd Mean: 15.33 | Eval Rwd Var: 8.22\n",
            "Episode 451/500 | Ep. Total Reward: 15.0 | Epsilon : 0.100 | Eval Rwd Mean: 9.67 | Eval Rwd Var: 0.22\n",
            "Episode 452/500 | Ep. Total Reward: 9.0 | Epsilon : 0.100 | Eval Rwd Mean: 17.67 | Eval Rwd Var: 0.89\n",
            "Episode 453/500 | Ep. Total Reward: 19.0 | Epsilon : 0.100 | Eval Rwd Mean: 32.67 | Eval Rwd Var: 30.89\n",
            "Episode 454/500 | Ep. Total Reward: 29.0 | Epsilon : 0.100 | Eval Rwd Mean: 15.00 | Eval Rwd Var: 2.67\n",
            "Episode 455/500 | Ep. Total Reward: 19.0 | Epsilon : 0.100 | Eval Rwd Mean: 9.00 | Eval Rwd Var: 0.00\n",
            "Episode 456/500 | Ep. Total Reward: 10.0 | Epsilon : 0.100 | Eval Rwd Mean: 17.33 | Eval Rwd Var: 4.22\n",
            "Episode 457/500 | Ep. Total Reward: 13.0 | Epsilon : 0.100 | Eval Rwd Mean: 13.00 | Eval Rwd Var: 0.67\n",
            "Episode 458/500 | Ep. Total Reward: 11.0 | Epsilon : 0.100 | Eval Rwd Mean: 9.67 | Eval Rwd Var: 0.22\n",
            "Episode 459/500 | Ep. Total Reward: 12.0 | Epsilon : 0.100 | Eval Rwd Mean: 10.67 | Eval Rwd Var: 0.22\n",
            "Episode 460/500 | Ep. Total Reward: 11.0 | Epsilon : 0.100 | Eval Rwd Mean: 14.33 | Eval Rwd Var: 3.56\n",
            "Episode 461/500 | Ep. Total Reward: 18.0 | Epsilon : 0.100 | Eval Rwd Mean: 18.33 | Eval Rwd Var: 2.89\n",
            "Episode 462/500 | Ep. Total Reward: 24.0 | Epsilon : 0.100 | Eval Rwd Mean: 15.67 | Eval Rwd Var: 4.22\n",
            "Episode 463/500 | Ep. Total Reward: 17.0 | Epsilon : 0.100 | Eval Rwd Mean: 9.33 | Eval Rwd Var: 0.22\n",
            "Episode 464/500 | Ep. Total Reward: 10.0 | Epsilon : 0.100 | Eval Rwd Mean: 18.33 | Eval Rwd Var: 2.89\n",
            "Episode 465/500 | Ep. Total Reward: 14.0 | Epsilon : 0.100 | Eval Rwd Mean: 14.33 | Eval Rwd Var: 2.89\n",
            "Episode 466/500 | Ep. Total Reward: 18.0 | Epsilon : 0.100 | Eval Rwd Mean: 16.67 | Eval Rwd Var: 4.22\n",
            "Episode 467/500 | Ep. Total Reward: 18.0 | Epsilon : 0.100 | Eval Rwd Mean: 16.33 | Eval Rwd Var: 3.56\n",
            "Episode 468/500 | Ep. Total Reward: 12.0 | Epsilon : 0.100 | Eval Rwd Mean: 21.00 | Eval Rwd Var: 2.00\n",
            "Episode 469/500 | Ep. Total Reward: 16.0 | Epsilon : 0.100 | Eval Rwd Mean: 17.00 | Eval Rwd Var: 0.67\n",
            "Episode 470/500 | Ep. Total Reward: 17.0 | Epsilon : 0.100 | Eval Rwd Mean: 12.33 | Eval Rwd Var: 0.89\n",
            "Episode 471/500 | Ep. Total Reward: 12.0 | Epsilon : 0.100 | Eval Rwd Mean: 9.33 | Eval Rwd Var: 0.22\n",
            "Episode 472/500 | Ep. Total Reward: 11.0 | Epsilon : 0.100 | Eval Rwd Mean: 11.33 | Eval Rwd Var: 1.56\n",
            "Episode 473/500 | Ep. Total Reward: 10.0 | Epsilon : 0.100 | Eval Rwd Mean: 14.67 | Eval Rwd Var: 0.22\n",
            "Episode 474/500 | Ep. Total Reward: 15.0 | Epsilon : 0.100 | Eval Rwd Mean: 13.67 | Eval Rwd Var: 4.22\n",
            "Episode 475/500 | Ep. Total Reward: 11.0 | Epsilon : 0.100 | Eval Rwd Mean: 16.33 | Eval Rwd Var: 6.22\n",
            "Episode 476/500 | Ep. Total Reward: 13.0 | Epsilon : 0.100 | Eval Rwd Mean: 11.67 | Eval Rwd Var: 0.89\n",
            "Episode 477/500 | Ep. Total Reward: 15.0 | Epsilon : 0.100 | Eval Rwd Mean: 19.00 | Eval Rwd Var: 4.67\n",
            "Episode 478/500 | Ep. Total Reward: 19.0 | Epsilon : 0.100 | Eval Rwd Mean: 9.67 | Eval Rwd Var: 0.89\n",
            "Episode 479/500 | Ep. Total Reward: 10.0 | Epsilon : 0.100 | Eval Rwd Mean: 16.00 | Eval Rwd Var: 0.67\n",
            "Episode 480/500 | Ep. Total Reward: 17.0 | Epsilon : 0.100 | Eval Rwd Mean: 9.67 | Eval Rwd Var: 0.22\n",
            "Episode 481/500 | Ep. Total Reward: 19.0 | Epsilon : 0.100 | Eval Rwd Mean: 9.00 | Eval Rwd Var: 0.00\n",
            "Episode 482/500 | Ep. Total Reward: 9.0 | Epsilon : 0.100 | Eval Rwd Mean: 12.67 | Eval Rwd Var: 0.22\n",
            "Episode 483/500 | Ep. Total Reward: 11.0 | Epsilon : 0.100 | Eval Rwd Mean: 19.00 | Eval Rwd Var: 8.00\n",
            "Episode 484/500 | Ep. Total Reward: 19.0 | Epsilon : 0.100 | Eval Rwd Mean: 9.00 | Eval Rwd Var: 0.67\n",
            "Episode 485/500 | Ep. Total Reward: 9.0 | Epsilon : 0.100 | Eval Rwd Mean: 8.33 | Eval Rwd Var: 0.22\n",
            "Episode 486/500 | Ep. Total Reward: 9.0 | Epsilon : 0.100 | Eval Rwd Mean: 10.00 | Eval Rwd Var: 0.00\n",
            "Episode 487/500 | Ep. Total Reward: 12.0 | Epsilon : 0.100 | Eval Rwd Mean: 13.67 | Eval Rwd Var: 2.89\n",
            "Episode 488/500 | Ep. Total Reward: 9.0 | Epsilon : 0.100 | Eval Rwd Mean: 14.67 | Eval Rwd Var: 2.89\n",
            "Episode 489/500 | Ep. Total Reward: 20.0 | Epsilon : 0.100 | Eval Rwd Mean: 14.33 | Eval Rwd Var: 6.22\n",
            "Episode 490/500 | Ep. Total Reward: 15.0 | Epsilon : 0.100 | Eval Rwd Mean: 8.67 | Eval Rwd Var: 0.89\n",
            "Episode 491/500 | Ep. Total Reward: 11.0 | Epsilon : 0.100 | Eval Rwd Mean: 14.67 | Eval Rwd Var: 3.56\n",
            "Episode 492/500 | Ep. Total Reward: 15.0 | Epsilon : 0.100 | Eval Rwd Mean: 14.33 | Eval Rwd Var: 0.22\n",
            "Episode 493/500 | Ep. Total Reward: 21.0 | Epsilon : 0.100 | Eval Rwd Mean: 13.67 | Eval Rwd Var: 1.56\n",
            "Episode 494/500 | Ep. Total Reward: 13.0 | Epsilon : 0.100 | Eval Rwd Mean: 9.33 | Eval Rwd Var: 0.22\n",
            "Episode 495/500 | Ep. Total Reward: 16.0 | Epsilon : 0.100 | Eval Rwd Mean: 9.33 | Eval Rwd Var: 0.89\n",
            "Episode 496/500 | Ep. Total Reward: 10.0 | Epsilon : 0.100 | Eval Rwd Mean: 9.00 | Eval Rwd Var: 0.67\n",
            "Episode 497/500 | Ep. Total Reward: 8.0 | Epsilon : 0.100 | Eval Rwd Mean: 14.00 | Eval Rwd Var: 4.67\n",
            "Episode 498/500 | Ep. Total Reward: 16.0 | Epsilon : 0.100 | Eval Rwd Mean: 9.67 | Eval Rwd Var: 0.22\n",
            "Episode 499/500 | Ep. Total Reward: 11.0 | Epsilon : 0.100 | Eval Rwd Mean: 13.33 | Eval Rwd Var: 0.89\n",
            "Episode 500/500 | Ep. Total Reward: 13.0 | Epsilon : 0.100 | Eval Rwd Mean: 19.00 | Eval Rwd Var: 0.00\n",
            "Training time: 3.4720 seconds per episode\n"
          ]
        }
      ],
      "source": [
        "# For logging\n",
        "train_reward_lst = []\n",
        "eval_reward_mean_lst = []\n",
        "eval_reward_var_lst = []\n",
        "\n",
        "\n",
        "# Set up environment\n",
        "env = gym.make(\"CartPole-v1\")\n",
        "state_size = env.observation_space.shape[0] # Number of observations (CartPole)\n",
        "action_size = env.action_space.n            # Number of possible actions\n",
        "\n",
        "model_dir = \"q_net_baseline\"  # TensorBoard log directory\n",
        "cb = keras.callbacks.TensorBoard(log_dir = get_run_logdir(model_dir), histogram_freq=1)\n",
        "\n",
        "# For timing training\n",
        "total_training_time = 0\n",
        "\n",
        "for ep in range(episode):\n",
        "    state, _ = env.reset()\n",
        "    state = np.reshape(state, [1, state_size])\n",
        "    total_reward = 0\n",
        "\n",
        "    # record start time\n",
        "    start = time.time()\n",
        "\n",
        "    for _ in range(500):\n",
        "        # Interact with the environment with epsilon-greedy policy\n",
        "        if np.random.rand() <= epsilon:\n",
        "            action = np.random.choice(action_size)\n",
        "        else:\n",
        "            q_values = model.predict(state, verbose=0)\n",
        "            action = np.argmax(q_values)\n",
        "\n",
        "        next_state, reward, terminated, truncated, _ = env.step(action)\n",
        "        next_state = np.reshape(next_state, [1, state_size])\n",
        "\n",
        "        done = terminated or truncated\n",
        "\n",
        "        # Train model using Q-Learning update:  Q(s, a) = r + gamma * max Q(s', a')\n",
        "        # [WriteCode]\n",
        "        q_base = model.predict(state, verbose=0)\n",
        "        q_1_base = model.predict(next_state, verbose=0)\n",
        "        if done:\n",
        "          q_target = reward\n",
        "        else:\n",
        "          q_target = reward + gamma * np.max(q_1_base)\n",
        "\n",
        "        # print(\n",
        "        #     f'''\n",
        "        #     Action Taken: {action}\n",
        "        #     Current State: {state}\n",
        "        #     Next State: {next_state}\n",
        "        #     Total Reward: {total_reward}\n",
        "        #     Reward: {reward}\n",
        "        #     Is terminated: {terminated}\n",
        "        #     Q Values: {model.predict(state, verbose=0)}\n",
        "        #     Q Target: {q_target}\n",
        "        #     Q change: {q_target - q_base[0][action]}\n",
        "        #     '''\n",
        "        # )\n",
        "\n",
        "        q_feed = q_base.copy()\n",
        "        q_feed[0][action] = q_feed[0][action] + lr * (q_target - q_feed[0][action])\n",
        "        model.fit(state, q_feed, epochs=epoch, verbose=0, batch_size=ba)\n",
        "        # Hints:\n",
        "\n",
        "        # 1. Compute target Q-values:\n",
        "        # - If done, Q-target = reward (no future reward)\n",
        "        # - Otherwise, Q-target = reward + gamma * max(Q(next_state, a))\n",
        "\n",
        "        # 2. Predict current Q-values for state\n",
        "        # Update only the Q-value for the taken action\n",
        "\n",
        "        # new_q_val = current_q_val + lr * (q_target - current_q_val)\n",
        "        # print(new_q_val)\n",
        "        # 3. Fit the model:\n",
        "        # - Inputs: state\n",
        "        # - Targets: updated Q-values (with action Q-value replaced by computed target)\n",
        "        # model.fit(state, new_q_val, epochs=epoch, verbose=0, batch_size=ba)\n",
        "\n",
        "\n",
        "        # Update exploration rate\n",
        "        if epsilon > epsilon_min and ep % 10 == 0:\n",
        "            epsilon *= epsilon_decay\n",
        "\n",
        "        state = next_state\n",
        "        total_reward += reward\n",
        "\n",
        "        if done:\n",
        "            break\n",
        "\n",
        "    # record end time and log training time\n",
        "    end = time.time()\n",
        "    total_training_time += end - start\n",
        "\n",
        "    # Evaluation\n",
        "    # [WriteCode]\n",
        "    eval_reward_mean, eval_reward_var = evaluation(model)\n",
        "\n",
        "    print(f\"Episode {ep + 1}/{episode} | Ep. Total Reward: {total_reward}\"\n",
        "        f\" | Epsilon : {epsilon:.3f}\"\n",
        "        f\" | Eval Rwd Mean: {eval_reward_mean:.2f}\"\n",
        "        f\" | Eval Rwd Var: {eval_reward_var:.2f}\")\n",
        "\n",
        "    # Log\n",
        "    eval_reward_mean_lst.append(eval_reward_mean)\n",
        "    eval_reward_var_lst.append(eval_reward_var)\n",
        "    train_reward_lst.append(total_reward)\n",
        "\n",
        "    # Early Stopping Condition to avoid overfitting\n",
        "    # If the evaluation reward reaches the specified threshold, stop training early.\n",
        "    # The default threshold is set to 500, but you should adjust this based on observed training performance.\n",
        "    if eval_reward_mean >= 450 and eval_reward_var <= 50 ** 2: # [Modify this threshold as needed]\n",
        "        print(f\"Early stopping triggered at Episode {ep + 1}.\")\n",
        "        break\n",
        "\n",
        "# evaluate average training time per episode\n",
        "print(f\"Training time: {total_training_time/(ep + 1):.4f} seconds per episode\")\n",
        "\n",
        "env.close()\n"
      ]
    },
    {
      "cell_type": "markdown",
      "metadata": {
        "id": "qZ86BPQR3AhY"
      },
      "source": [
        "## Plot Results"
      ]
    },
    {
      "cell_type": "code",
      "execution_count": 13,
      "metadata": {
        "colab": {
          "base_uri": "https://localhost:8080/",
          "height": 1000
        },
        "id": "It8u9fyj3AL5",
        "outputId": "67009d69-50fc-4673-9d5e-2bbea09580b2"
      },
      "outputs": [
        {
          "data": {
            "image/png": "[encoded data removed]",
            "text/plain": [
              "<Figure size 640x480 with 1 Axes>"
            ]
          },
          "metadata": {},
          "output_type": "display_data"
        },
        {
          "data": {
            "image/png": "[encoded data removed]",
            "text/plain": [
              "<Figure size 640x480 with 1 Axes>"
            ]
          },
          "metadata": {},
          "output_type": "display_data"
        },
        {
          "data": {
            "image/png": "[encoded data removed]",
            "text/plain": [
              "<Figure size 640x480 with 1 Axes>"
            ]
          },
          "metadata": {},
          "output_type": "display_data"
        }
      ],
      "source": [
        "# Write code to plot\n",
        "# 1) Moving Averaged Training Reward, 2) Evaluation Mean, 3) Evaluation Variance\n",
        "# [Write Code]\n",
        "\n",
        "plot_smoothed_training_rwd(eval_reward_mean_lst)\n",
        "\n",
        "plot_eval_rwd_mean(eval_reward_mean_lst)\n",
        "\n",
        "plot_eval_rwd_var(eval_reward_var_lst)"
      ]
    },
    {
      "cell_type": "markdown",
      "metadata": {
        "id": "uSlOTDlpm78g"
      },
      "source": [
        "#Q-Network - Alternative"
      ]
    },
    {
      "cell_type": "code",
      "execution_count": 14,
      "metadata": {},
      "outputs": [],
      "source": [
        "# Use the following set of NN hyperparameters for ALL FOUR basline policies\n",
        "lr =  0.01        #@param {type:\"number\"}               # learning rate\n",
        "epoch =  32     #@param {type:\"number\"}               # epochs\n",
        "episode = 500  #@param {type:\"number\"}               # episodes\n",
        "\n",
        "epsilon = 0.9           #@param {type:\"number\"}     # Starting exploration rate\n",
        "epsilon_min = 0.1    #@param {type:\"number\"}     # Exploration rate min\n",
        "epsilon_decay = 0.995     #@param {type:\"number\"}     # Exploration rate decay\n",
        "\n",
        "gamma = 0.99          #@param {type:\"number\"}     # Agent discount factor\n",
        "\n",
        "# Use the following set of NN hyperparameters for Naive DQN, DQN and DDQN policies\n",
        "ba =  32       #@param {type:\"number\"}               # batch_size\n",
        "\n",
        "# Use the following set of RL hyperparameters for DQN and DDQN policies\n",
        "target_update_freq = 0.05 # @param {type:\"number\"}    # Target network update frequency\n"
      ]
    },
    {
      "cell_type": "code",
      "execution_count": 15,
      "metadata": {
        "colab": {
          "base_uri": "https://localhost:8080/",
          "height": 306
        },
        "id": "c9zO7SZssiaR",
        "outputId": "847b4588-ecf0-480e-b124-8e0beb4b26ec"
      },
      "outputs": [
        {
          "name": "stdout",
          "output_type": "stream",
          "text": [
            "Model: \"sequential_1\"\n",
            "_________________________________________________________________\n",
            " Layer (type)                Output Shape              Param #   \n",
            "=================================================================\n",
            " dense_3 (Dense)             (None, 32)                160       \n",
            "                                                                 \n",
            " dense_4 (Dense)             (None, 32)                1056      \n",
            "                                                                 \n"
          ]
        },
        {
          "name": "stdout",
          "output_type": "stream",
          "text": [
            " dense_5 (Dense)             (None, 2)                 66        \n",
            "                                                                 \n",
            "=================================================================\n",
            "Total params: 1,282\n",
            "Trainable params: 1,282\n",
            "Non-trainable params: 0\n",
            "_________________________________________________________________\n"
          ]
        }
      ],
      "source": [
        "STATE_SIZE = (4,)\n",
        "ACTION_SIZE = 2\n",
        "LAYER_SIZE = 32\n",
        "SEED = 42\n",
        "\n",
        "# Define the Q-network\n",
        "alt_model = Sequential()\n",
        "\n",
        "# [WriteCode]\n",
        "# model.add(...\n",
        "alt_model.add(Input(shape=STATE_SIZE))\n",
        "'''\n",
        "Add in intermediate layers\n",
        "- Assume 3 layers of 32 nodes each with relu activation\n",
        "'''\n",
        "initializer = RandomUniform(minval=-0.5, maxval=0.5, seed=42)\n",
        "alt_model.add(Dense(LAYER_SIZE, activation=tanh, kernel_initializer=initializer))\n",
        "alt_model.add(Dense(LAYER_SIZE, activation=tanh, kernel_initializer=initializer))\n",
        "alt_model.add(Dense(ACTION_SIZE))\n",
        "\n",
        "# Compile the model\n",
        "# [WriteCode]\n",
        "alt_model.compile(loss='mse', optimizer='adam')\n",
        "\n",
        "# Print the model summary\n",
        "# [WriteCode]\n",
        "alt_model.summary()"
      ]
    },
    {
      "cell_type": "code",
      "execution_count": null,
      "metadata": {
        "colab": {
          "base_uri": "https://localhost:8080/"
        },
        "id": "L_M_IusJMwwo",
        "outputId": "515454d6-3f22-49c8-d43b-236587dde34d"
      },
      "outputs": [
        {
          "name": "stdout",
          "output_type": "stream",
          "text": [
            "Episode 1/500 | Ep. Total Reward: 15.0 | Epsilon : 0.835 | Eval Rwd Mean: 16.00 | Eval Rwd Var: 0.67\n",
            "Episode 2/500 | Ep. Total Reward: 23.0 | Epsilon : 0.835 | Eval Rwd Mean: 16.33 | Eval Rwd Var: 1.56\n",
            "Episode 3/500 | Ep. Total Reward: 21.0 | Epsilon : 0.835 | Eval Rwd Mean: 16.67 | Eval Rwd Var: 4.22\n",
            "Episode 4/500 | Ep. Total Reward: 14.0 | Epsilon : 0.835 | Eval Rwd Mean: 16.00 | Eval Rwd Var: 0.67\n",
            "Episode 5/500 | Ep. Total Reward: 20.0 | Epsilon : 0.835 | Eval Rwd Mean: 15.33 | Eval Rwd Var: 0.22\n",
            "Episode 6/500 | Ep. Total Reward: 11.0 | Epsilon : 0.835 | Eval Rwd Mean: 14.33 | Eval Rwd Var: 3.56\n",
            "Episode 7/500 | Ep. Total Reward: 16.0 | Epsilon : 0.835 | Eval Rwd Mean: 16.00 | Eval Rwd Var: 4.67\n",
            "Episode 8/500 | Ep. Total Reward: 19.0 | Epsilon : 0.835 | Eval Rwd Mean: 18.00 | Eval Rwd Var: 2.00\n",
            "Episode 9/500 | Ep. Total Reward: 11.0 | Epsilon : 0.835 | Eval Rwd Mean: 15.67 | Eval Rwd Var: 1.56\n",
            "Episode 10/500 | Ep. Total Reward: 11.0 | Epsilon : 0.835 | Eval Rwd Mean: 16.00 | Eval Rwd Var: 4.67\n",
            "Episode 11/500 | Ep. Total Reward: 11.0 | Epsilon : 0.790 | Eval Rwd Mean: 17.33 | Eval Rwd Var: 6.89\n",
            "Episode 12/500 | Ep. Total Reward: 13.0 | Epsilon : 0.790 | Eval Rwd Mean: 16.00 | Eval Rwd Var: 8.67\n",
            "Episode 13/500 | Ep. Total Reward: 34.0 | Epsilon : 0.790 | Eval Rwd Mean: 15.67 | Eval Rwd Var: 1.56\n",
            "Episode 14/500 | Ep. Total Reward: 19.0 | Epsilon : 0.790 | Eval Rwd Mean: 17.00 | Eval Rwd Var: 8.67\n",
            "Episode 15/500 | Ep. Total Reward: 33.0 | Epsilon : 0.790 | Eval Rwd Mean: 18.33 | Eval Rwd Var: 0.89\n",
            "Episode 16/500 | Ep. Total Reward: 16.0 | Epsilon : 0.790 | Eval Rwd Mean: 17.33 | Eval Rwd Var: 11.56\n",
            "Episode 17/500 | Ep. Total Reward: 17.0 | Epsilon : 0.790 | Eval Rwd Mean: 15.00 | Eval Rwd Var: 0.67\n",
            "Episode 18/500 | Ep. Total Reward: 35.0 | Epsilon : 0.790 | Eval Rwd Mean: 18.00 | Eval Rwd Var: 0.00\n",
            "Episode 19/500 | Ep. Total Reward: 13.0 | Epsilon : 0.790 | Eval Rwd Mean: 18.67 | Eval Rwd Var: 1.56\n",
            "Episode 20/500 | Ep. Total Reward: 19.0 | Epsilon : 0.790 | Eval Rwd Mean: 19.67 | Eval Rwd Var: 5.56\n",
            "Episode 21/500 | Ep. Total Reward: 9.0 | Epsilon : 0.755 | Eval Rwd Mean: 15.33 | Eval Rwd Var: 2.89\n",
            "Episode 22/500 | Ep. Total Reward: 19.0 | Epsilon : 0.755 | Eval Rwd Mean: 17.00 | Eval Rwd Var: 8.67\n",
            "Episode 23/500 | Ep. Total Reward: 21.0 | Epsilon : 0.755 | Eval Rwd Mean: 17.33 | Eval Rwd Var: 6.22\n",
            "Episode 24/500 | Ep. Total Reward: 17.0 | Epsilon : 0.755 | Eval Rwd Mean: 18.00 | Eval Rwd Var: 2.00\n",
            "Episode 25/500 | Ep. Total Reward: 23.0 | Epsilon : 0.755 | Eval Rwd Mean: 17.33 | Eval Rwd Var: 1.56\n",
            "Episode 26/500 | Ep. Total Reward: 12.0 | Epsilon : 0.755 | Eval Rwd Mean: 16.33 | Eval Rwd Var: 4.22\n",
            "Episode 27/500 | Ep. Total Reward: 19.0 | Epsilon : 0.755 | Eval Rwd Mean: 15.67 | Eval Rwd Var: 6.22\n",
            "Episode 28/500 | Ep. Total Reward: 16.0 | Epsilon : 0.755 | Eval Rwd Mean: 18.33 | Eval Rwd Var: 0.89\n",
            "Episode 29/500 | Ep. Total Reward: 14.0 | Epsilon : 0.755 | Eval Rwd Mean: 17.67 | Eval Rwd Var: 4.22\n",
            "Episode 30/500 | Ep. Total Reward: 52.0 | Epsilon : 0.755 | Eval Rwd Mean: 17.00 | Eval Rwd Var: 0.67\n",
            "Episode 31/500 | Ep. Total Reward: 25.0 | Epsilon : 0.666 | Eval Rwd Mean: 17.67 | Eval Rwd Var: 6.89\n",
            "Episode 32/500 | Ep. Total Reward: 17.0 | Epsilon : 0.666 | Eval Rwd Mean: 17.00 | Eval Rwd Var: 2.67\n",
            "Episode 33/500 | Ep. Total Reward: 16.0 | Epsilon : 0.666 | Eval Rwd Mean: 15.67 | Eval Rwd Var: 14.22\n",
            "Episode 34/500 | Ep. Total Reward: 19.0 | Epsilon : 0.666 | Eval Rwd Mean: 16.00 | Eval Rwd Var: 4.67\n",
            "Episode 35/500 | Ep. Total Reward: 27.0 | Epsilon : 0.666 | Eval Rwd Mean: 16.67 | Eval Rwd Var: 10.89\n",
            "Episode 36/500 | Ep. Total Reward: 26.0 | Epsilon : 0.666 | Eval Rwd Mean: 15.33 | Eval Rwd Var: 0.89\n",
            "Episode 37/500 | Ep. Total Reward: 20.0 | Epsilon : 0.666 | Eval Rwd Mean: 15.00 | Eval Rwd Var: 8.00\n",
            "Episode 38/500 | Ep. Total Reward: 42.0 | Epsilon : 0.666 | Eval Rwd Mean: 17.33 | Eval Rwd Var: 0.22\n",
            "Episode 39/500 | Ep. Total Reward: 20.0 | Epsilon : 0.666 | Eval Rwd Mean: 18.33 | Eval Rwd Var: 2.89\n",
            "Episode 40/500 | Ep. Total Reward: 16.0 | Epsilon : 0.666 | Eval Rwd Mean: 16.67 | Eval Rwd Var: 9.56\n",
            "Episode 41/500 | Ep. Total Reward: 13.0 | Epsilon : 0.624 | Eval Rwd Mean: 17.67 | Eval Rwd Var: 4.22\n",
            "Episode 42/500 | Ep. Total Reward: 16.0 | Epsilon : 0.624 | Eval Rwd Mean: 18.33 | Eval Rwd Var: 5.56\n",
            "Episode 43/500 | Ep. Total Reward: 14.0 | Epsilon : 0.624 | Eval Rwd Mean: 18.33 | Eval Rwd Var: 3.56\n",
            "Episode 44/500 | Ep. Total Reward: 36.0 | Epsilon : 0.624 | Eval Rwd Mean: 17.33 | Eval Rwd Var: 4.22\n",
            "Episode 45/500 | Ep. Total Reward: 34.0 | Epsilon : 0.624 | Eval Rwd Mean: 16.67 | Eval Rwd Var: 1.56\n",
            "Episode 46/500 | Ep. Total Reward: 15.0 | Epsilon : 0.624 | Eval Rwd Mean: 17.33 | Eval Rwd Var: 6.22\n",
            "Episode 47/500 | Ep. Total Reward: 14.0 | Epsilon : 0.624 | Eval Rwd Mean: 18.00 | Eval Rwd Var: 4.67\n",
            "Episode 48/500 | Ep. Total Reward: 17.0 | Epsilon : 0.624 | Eval Rwd Mean: 16.00 | Eval Rwd Var: 4.67\n",
            "Episode 49/500 | Ep. Total Reward: 17.0 | Epsilon : 0.624 | Eval Rwd Mean: 17.33 | Eval Rwd Var: 6.89\n",
            "Episode 50/500 | Ep. Total Reward: 15.0 | Epsilon : 0.624 | Eval Rwd Mean: 20.00 | Eval Rwd Var: 0.67\n",
            "Episode 51/500 | Ep. Total Reward: 15.0 | Epsilon : 0.579 | Eval Rwd Mean: 18.00 | Eval Rwd Var: 4.67\n"
          ]
        }
      ],
      "source": [
        "# For logging\n",
        "alt_train_reward_lst = []\n",
        "alt_eval_reward_mean_lst = []\n",
        "alt_eval_reward_var_lst = []\n",
        "\n",
        "\n",
        "# Set up environment\n",
        "env = gym.make(\"CartPole-v1\")\n",
        "state_size = env.observation_space.shape[0] # Number of observations (CartPole)\n",
        "action_size = env.action_space.n            # Number of possible actions\n",
        "\n",
        "model_dir = \"q_net_baseline_alt\"  # TensorBoard log directory\n",
        "cb = keras.callbacks.TensorBoard(log_dir = get_run_logdir(model_dir), histogram_freq=1)\n",
        "\n",
        "# For timing training\n",
        "total_training_time = 0\n",
        "\n",
        "for ep in range(episode):\n",
        "    state, _ = env.reset()\n",
        "    state = np.reshape(state, [1, state_size])\n",
        "    total_reward = 0\n",
        "\n",
        "    # record start time\n",
        "    start = time.time()\n",
        "\n",
        "    for _ in range(500):\n",
        "        # Interact with the environment with epsilon-greedy policy\n",
        "        if np.random.rand() <= epsilon:\n",
        "            action = np.random.choice(action_size)\n",
        "        else:\n",
        "            q_values = model.predict(state, verbose=0)\n",
        "            action = np.argmax(q_values)\n",
        "\n",
        "        next_state, reward, terminated, truncated, _ = env.step(action)\n",
        "        next_state = np.reshape(next_state, [1, state_size])\n",
        "\n",
        "        done = terminated or truncated\n",
        "\n",
        "        # Train model using Q-Learning update:  Q(s, a) = r + gamma * max Q(s', a')\n",
        "        # [WriteCode]\n",
        "        q_base = alt_model.predict(state, verbose=0)\n",
        "        q_1_base = alt_model.predict(next_state, verbose=0)\n",
        "        if done:\n",
        "          q_target = reward\n",
        "        else:\n",
        "          q_target = reward + gamma * np.max(q_1_base)\n",
        "\n",
        "        q_feed = q_base.copy()\n",
        "        q_feed[0][action] = q_feed[0][action] + lr * (q_target - q_feed[0][action])\n",
        "        alt_model.fit(state, q_feed, epochs=epoch, verbose=0, batch_size=ba)\n",
        "        # Hints:\n",
        "\n",
        "        # 1. Compute target Q-values:\n",
        "        # - If done, Q-target = reward (no future reward)\n",
        "        # - Otherwise, Q-target = reward + gamma * max(Q(next_state, a))\n",
        "\n",
        "        # 2. Predict current Q-values for state\n",
        "        # Update only the Q-value for the taken action\n",
        "\n",
        "        # new_q_val = current_q_val + lr * (q_target - current_q_val)\n",
        "        # print(new_q_val)\n",
        "        # 3. Fit the model:\n",
        "        # - Inputs: state\n",
        "        # - Targets: updated Q-values (with action Q-value replaced by computed target)\n",
        "        # model.fit(state, new_q_val, epochs=epoch, verbose=0, batch_size=ba)\n",
        "\n",
        "\n",
        "        # Update exploration rate\n",
        "        if epsilon > epsilon_min and ep % 10 == 0:\n",
        "            epsilon *= epsilon_decay\n",
        "\n",
        "        state = next_state\n",
        "        total_reward += reward\n",
        "\n",
        "        if done:\n",
        "            break\n",
        "\n",
        "    # record end time and log training time\n",
        "    end = time.time()\n",
        "    total_training_time += end - start\n",
        "\n",
        "    # Evaluation\n",
        "    # [WriteCode]\n",
        "    eval_reward_mean, eval_reward_var = evaluation(model)\n",
        "\n",
        "    print(f\"Episode {ep + 1}/{episode} | Ep. Total Reward: {total_reward}\"\n",
        "        f\" | Epsilon : {epsilon:.3f}\"\n",
        "        f\" | Eval Rwd Mean: {eval_reward_mean:.2f}\"\n",
        "        f\" | Eval Rwd Var: {eval_reward_var:.2f}\")\n",
        "\n",
        "    # Log\n",
        "    alt_eval_reward_mean_lst.append(eval_reward_mean)\n",
        "    alt_eval_reward_var_lst.append(eval_reward_var)\n",
        "    alt_train_reward_lst.append(total_reward)\n",
        "\n",
        "    # Early Stopping Condition to avoid overfitting\n",
        "    # If the evaluation reward reaches the specified threshold, stop training early.\n",
        "    # The default threshold is set to 500, but you should adjust this based on observed training performance.\n",
        "    if eval_reward_mean >= 450 and eval_reward_var <= 50 ** 2:: # [Modify this threshold as needed]\n",
        "        print(f\"Early stopping triggered at Episode {ep + 1}.\")\n",
        "        break\n",
        "\n",
        "# evaluate average training time per episode\n",
        "print(f\"Training time: {total_training_time/(ep + 1):.4f} seconds per episode\")\n",
        "\n",
        "env.close()\n"
      ]
    },
    {
      "cell_type": "code",
      "execution_count": null,
      "metadata": {
        "colab": {
          "base_uri": "https://localhost:8080/",
          "height": 1000
        },
        "id": "wXCrGTHydncm",
        "outputId": "c75fb6aa-f8ff-4840-9199-e5372f2fb18c"
      },
      "outputs": [
        {
          "data": {
            "image/png": "[encoded data removed]",
            "text/plain": [
              "<Figure size 640x480 with 1 Axes>"
            ]
          },
          "metadata": {},
          "output_type": "display_data"
        },
        {
          "data": {
            "image/png": "[encoded data removed]",
            "text/plain": [
              "<Figure size 640x480 with 1 Axes>"
            ]
          },
          "metadata": {},
          "output_type": "display_data"
        },
        {
          "data": {
            "image/png": "[encoded data removed]",
            "text/plain": [
              "<Figure size 640x480 with 1 Axes>"
            ]
          },
          "metadata": {},
          "output_type": "display_data"
        }
      ],
      "source": [
        "# Write code to plot\n",
        "# 1) Moving Averaged Training Reward, 2) Evaluation Mean, 3) Evaluation Variance\n",
        "# [Write Code]\n",
        "\n",
        "plot_smoothed_training_rwd(alt_eval_reward_mean_lst)\n",
        "\n",
        "plot_eval_rwd_mean(alt_eval_reward_mean_lst)\n",
        "\n",
        "plot_eval_rwd_var(alt_eval_reward_var_lst)"
      ]
    },
    {
      "cell_type": "markdown",
      "metadata": {
        "id": "Lg9kBHn2slYF"
      },
      "source": [
        "## Comparison\n",
        "\n",
        "Compare performance of the Baseline and the Alternative Naive Q-Network Policies"
      ]
    },
    {
      "cell_type": "code",
      "execution_count": null,
      "metadata": {
        "id": "E6DiE3YRsm2k"
      },
      "outputs": [],
      "source": [
        "# [Write Code]"
      ]
    },
    {
      "cell_type": "code",
      "execution_count": null,
      "metadata": {},
      "outputs": [
        {
          "data": {
            "text/plain": [
              "[<tf.Variable 'dense/kernel:0' shape=(4, 32) dtype=float32, numpy=\n",
              " array([[-0.52281135, -0.00660088,  0.1809326 , -0.6158871 , -0.46230227,\n",
              "          0.06849954,  0.08724584, -0.44382393, -0.3056004 , -0.44362536,\n",
              "          0.28011775, -0.25405243, -0.3146009 , -0.36745998,  0.11922719,\n",
              "          0.24388243, -0.07517237, -0.19749855,  0.02581184, -0.3086655 ,\n",
              "         -0.3271063 , -0.15506619,  0.36841938,  0.1522523 ,  0.2041076 ,\n",
              "          0.22651133, -0.09357363,  0.26164085, -0.3117907 ,  0.03235487,\n",
              "         -0.08046017,  0.30904502],\n",
              "        [ 0.15662368,  0.24736482, -0.05684503,  0.04980896, -0.10516376,\n",
              "          0.49914533, -0.12609294, -0.505589  ,  0.2348138 ,  0.17703661,\n",
              "          0.2514873 ,  0.35714343,  0.13208191,  0.12377884,  0.15241244,\n",
              "         -0.62534136,  0.08903049, -0.10659112,  0.30073142, -0.33891353,\n",
              "         -0.21544506, -0.04049516,  0.04989943,  0.35474354,  0.07344614,\n",
              "         -0.01836311, -0.0917394 ,  0.32814175, -0.11280098,  0.44915017,\n",
              "         -0.16302858,  0.4074946 ],\n",
              "        [ 0.31837264, -0.4424195 ,  0.07637591,  0.02327648,  0.07338983,\n",
              "         -0.41566846,  0.09876482,  0.7538271 ,  0.22498783, -0.24334647,\n",
              "         -0.07744818, -0.1799224 ,  0.09622187,  0.17019568,  0.22254777,\n",
              "         -0.15622951, -0.00527507, -0.13619648, -0.425478  ,  0.2998385 ,\n",
              "          0.24631894, -0.22205122, -0.6870828 ,  0.10321953, -0.09560684,\n",
              "          0.20664014,  0.45013675, -0.58481985,  0.06578074,  0.16917571,\n",
              "          0.13228792,  0.00825909],\n",
              "        [ 0.03397999,  0.21817718, -0.0333062 , -0.18711355, -0.1588311 ,\n",
              "         -0.5353719 , -0.10668389, -0.20170128,  0.25325754,  0.09618358,\n",
              "          0.22269295,  0.21829809, -0.17255713,  0.01427413,  0.11541025,\n",
              "         -0.07374652,  0.07668376,  0.14448   , -0.03080664, -0.40899628,\n",
              "         -0.21108961, -0.03353088, -0.07297558,  0.19026698,  0.10886548,\n",
              "          0.1650795 , -0.08736064, -0.00090469, -0.11693625,  0.14473847,\n",
              "         -0.23910089,  0.06977016]], dtype=float32)>,\n",
              " <tf.Variable 'dense/bias:0' shape=(32,) dtype=float32, numpy=\n",
              " array([-0.24083152, -0.21953197, -0.12375706,  0.36921227, -0.24392135,\n",
              "        -0.35402668, -0.16896196,  0.35456622,  0.4043852 , -0.10808706,\n",
              "        -0.3040236 , -0.2147834 ,  0.49242333, -0.22109039, -0.35220504,\n",
              "         0.41406074, -0.16155887,  0.3326453 ,  0.79546684,  0.34237018,\n",
              "        -0.37375286, -0.2197295 ,  0.36312416, -0.19045207, -0.198865  ,\n",
              "         0.35605454, -0.28293696,  0.55773973, -0.30104136, -0.29745   ,\n",
              "        -0.22446525,  0.7157002 ], dtype=float32)>,\n",
              " <tf.Variable 'dense_1/kernel:0' shape=(32, 32) dtype=float32, numpy=\n",
              " array([[-0.6292473 , -0.17053656,  0.13220295, ...,  0.08970398,\n",
              "         -0.2257329 ,  0.3085357 ],\n",
              "        [ 0.49570853,  0.3125229 , -0.10911818, ...,  0.33290613,\n",
              "         -0.35720882,  0.5431352 ],\n",
              "        [ 0.12142956, -0.15309988,  0.18890812, ...,  0.06128677,\n",
              "          0.05449244,  0.02220505],\n",
              "        ...,\n",
              "        [-0.46953586, -0.10966048, -0.19870646, ...,  0.08549978,\n",
              "         -0.47141692, -0.24638249],\n",
              "        [ 0.17557335, -0.1377109 , -0.02520972, ..., -0.21278828,\n",
              "          0.09090863, -0.41179502],\n",
              "        [-0.07296392,  0.1005144 ,  0.5452156 , ...,  0.95839614,\n",
              "         -0.18229489, -0.55473053]], dtype=float32)>,\n",
              " <tf.Variable 'dense_1/bias:0' shape=(32,) dtype=float32, numpy=\n",
              " array([-0.07716275,  0.17322113,  0.5394467 , -0.12688021, -0.20214982,\n",
              "        -0.03595177,  0.5444085 ,  0.03025166, -0.1379429 , -0.06613127,\n",
              "        -0.08122969, -0.08811244, -0.07677843, -0.235946  , -0.04580414,\n",
              "        -0.03767793, -0.0245211 ,  0.37917778,  0.3910062 , -0.05187495,\n",
              "        -0.34639448,  0.03621359,  0.04519644, -0.13768938,  0.54761404,\n",
              "         0.40454948,  0.5641119 ,  0.23979715, -0.11792996,  0.5217048 ,\n",
              "        -0.063642  , -0.14100811], dtype=float32)>,\n",
              " <tf.Variable 'dense_2/kernel:0' shape=(32, 2) dtype=float32, numpy=\n",
              " array([[-1.10226767e-02,  4.84723300e-02],\n",
              "        [ 5.12470722e-01,  5.50361753e-01],\n",
              "        [ 9.76880372e-01,  8.42368960e-01],\n",
              "        [ 1.77846127e-03, -6.12100996e-02],\n",
              "        [-7.46722519e-02, -1.55023456e-01],\n",
              "        [-2.81162769e-01, -1.11540318e-01],\n",
              "        [ 6.72789156e-01,  9.26490366e-01],\n",
              "        [-1.73042312e-01,  2.06464052e-01],\n",
              "        [ 1.24329515e-01,  1.70613810e-01],\n",
              "        [ 1.37169078e-01,  1.78113386e-01],\n",
              "        [ 2.76563372e-02,  1.94532648e-02],\n",
              "        [-1.50385424e-01,  8.26052278e-02],\n",
              "        [ 2.81138599e-01, -2.39489868e-01],\n",
              "        [ 2.49345228e-02,  1.06449416e-02],\n",
              "        [-2.30824307e-01, -3.71661395e-01],\n",
              "        [ 3.50211710e-01,  2.51727611e-01],\n",
              "        [-4.00976837e-02, -1.47040546e-01],\n",
              "        [ 7.31487095e-01,  6.43099785e-01],\n",
              "        [ 5.96808910e-01,  6.54681087e-01],\n",
              "        [ 2.89219946e-01, -2.28987023e-01],\n",
              "        [ 4.37911004e-02,  3.20053753e-03],\n",
              "        [ 6.27681240e-02,  7.04245642e-02],\n",
              "        [ 3.71899426e-01,  1.69469252e-01],\n",
              "        [-8.26054194e-04, -7.63010532e-02],\n",
              "        [ 9.54242349e-01,  8.31524551e-01],\n",
              "        [ 6.52623832e-01,  1.02949262e+00],\n",
              "        [ 9.72457349e-01,  6.43945336e-01],\n",
              "        [ 7.78150737e-01,  4.64825742e-02],\n",
              "        [-8.19001161e-03, -8.35020989e-02],\n",
              "        [ 1.11113596e+00,  9.33311805e-02],\n",
              "        [-1.75790697e-01, -2.42500603e-01],\n",
              "        [ 7.30987340e-02,  8.67781520e-04]], dtype=float32)>,\n",
              " <tf.Variable 'dense_2/bias:0' shape=(2,) dtype=float32, numpy=array([1.4785634, 1.0300378], dtype=float32)>]"
            ]
          },
          "execution_count": 18,
          "metadata": {},
          "output_type": "execute_result"
        }
      ],
      "source": [
        "model.weights"
      ]
    },
    {
      "cell_type": "code",
      "execution_count": null,
      "metadata": {},
      "outputs": [
        {
          "data": {
            "text/plain": [
              "[<tf.Variable 'dense_3/kernel:0' shape=(4, 32) dtype=float32, numpy=\n",
              " array([[-0.12344579,  0.04208243,  0.49252307, -0.50278693, -0.46747956,\n",
              "          0.10117278,  0.13964802, -0.4623492 , -0.20734672, -0.48191845,\n",
              "          0.46204087, -0.20699589, -0.14565526, -0.26686835,  0.25665322,\n",
              "          0.22196895, -0.01591433, -0.32054827,  0.13666038, -0.29539108,\n",
              "         -0.45470145, -0.10019664,  0.07467932,  0.08799595,  0.29026532,\n",
              "          0.32904392, -0.11177221,  0.222469  , -0.4094216 ,  0.17226987,\n",
              "          0.01341008,  0.48640856],\n",
              "        [ 0.33058017,  0.1844624 , -0.04028412,  0.01285085, -0.09345952,\n",
              "          0.24048105,  0.00698283, -0.668839  ,  0.12188647,  0.04468405,\n",
              "          0.4005747 ,  0.26662603,  0.44616103,  0.18478453,  0.376334  ,\n",
              "         -0.37640563,  0.19918343, -0.5736375 ,  0.26170215, -0.42038307,\n",
              "         -0.3561007 , -0.2923334 ,  0.05844726,  0.24962828,  0.15158671,\n",
              "         -0.14323345, -0.43275768,  0.27695137, -0.2504407 ,  0.37188852,\n",
              "         -0.22855566,  0.40971106],\n",
              "        [-0.01204191, -0.36009675, -0.2748572 ,  0.02134226, -0.22819866,\n",
              "         -0.14938022, -0.04229714,  0.5929766 , -0.00985671, -0.17819458,\n",
              "         -0.11348023, -0.27115238,  0.01283463,  0.00976149,  0.38931826,\n",
              "         -0.2815987 , -0.05153094, -0.29404166, -0.39842513,  0.26238844,\n",
              "          0.10598106, -0.19334665, -0.44656694,  0.10840674, -0.08649141,\n",
              "         -0.26355124,  0.27200592, -0.41455027, -0.15884101,  0.00564179,\n",
              "         -0.03505844, -0.13392451],\n",
              "        [-0.07877041,  0.3882693 , -0.09277818, -0.221165  , -0.34261477,\n",
              "         -0.2196835 , -0.25077164, -0.05528337,  0.32216543,  0.33391476,\n",
              "          0.20580772,  0.29826543, -0.50755036, -0.05575134,  0.169544  ,\n",
              "         -0.28141454,  0.0545712 ,  0.5395708 ,  0.00615828, -0.34633014,\n",
              "         -0.33130494,  0.23695992,  0.07116967,  0.41615   ,  0.0808066 ,\n",
              "          0.2163621 , -0.02300975,  0.03260366, -0.28522208,  0.31750664,\n",
              "         -0.12696648,  0.06835529]], dtype=float32)>,\n",
              " <tf.Variable 'dense_3/bias:0' shape=(32,) dtype=float32, numpy=\n",
              " array([ 0.7486359 ,  0.48816958,  0.20854795,  0.49983975, -0.1978364 ,\n",
              "        -0.2895442 ,  0.6572207 ,  0.30686322,  0.33370703,  0.58938664,\n",
              "        -0.10736758,  0.48497325,  0.3444778 , -0.16087408, -0.14669368,\n",
              "        -0.1729971 , -0.0906207 ,  0.45264015,  0.56004596, -0.12108652,\n",
              "        -0.17277227,  0.31267452, -0.17376113,  0.49184036, -0.06174803,\n",
              "         0.2049306 ,  0.45439017, -0.08823375, -0.1028299 ,  0.3678663 ,\n",
              "         0.17687763,  0.6015018 ], dtype=float32)>,\n",
              " <tf.Variable 'dense_4/kernel:0' shape=(32, 32) dtype=float32, numpy=\n",
              " array([[-0.24890079, -0.4547218 ,  1.2215005 , ...,  0.87895226,\n",
              "          0.74422526,  0.7564967 ],\n",
              "        [ 0.3799864 ,  0.5203331 , -0.23242296, ...,  0.60647595,\n",
              "         -0.17454165,  0.8447727 ],\n",
              "        [ 0.01315953, -0.28528604, -0.03238018, ...,  0.17144914,\n",
              "          0.24687704,  0.15852448],\n",
              "        ...,\n",
              "        [-0.45810977,  0.30381855, -0.07924544, ...,  0.48347616,\n",
              "         -0.20049563,  0.17074534],\n",
              "        [ 0.23762038,  0.3308504 , -0.08847679, ...,  0.07688578,\n",
              "          0.20038249, -0.05622132],\n",
              "        [ 0.27204314, -0.2852235 ,  1.3161999 , ...,  0.85022634,\n",
              "          0.6774926 , -0.11921325]], dtype=float32)>,\n",
              " <tf.Variable 'dense_4/bias:0' shape=(32,) dtype=float32, numpy=\n",
              " array([-0.06225434,  0.27309608,  0.26233378, -0.06897652, -0.11369369,\n",
              "         0.01042184, -0.16472681, -0.01756792, -0.10737145, -0.02978969,\n",
              "        -0.16018534, -0.07011423,  0.3736867 ,  0.        ,  0.36517426,\n",
              "         0.49910176, -0.04347963,  0.00501676, -0.09753945,  0.        ,\n",
              "        -0.06007154, -0.07297426, -0.06458481, -0.18092328,  0.67092955,\n",
              "        -0.03234832,  0.23929042,  0.4289975 , -0.06212199,  0.5794305 ,\n",
              "         0.5547369 ,  0.67599297], dtype=float32)>,\n",
              " <tf.Variable 'dense_5/kernel:0' shape=(32, 2) dtype=float32, numpy=\n",
              " array([[-1.9056961e-01,  3.2008734e-01],\n",
              "        [-1.5400645e-02,  5.0677651e-01],\n",
              "        [ 4.3155277e-01,  4.5373775e-02],\n",
              "        [-9.2426509e-02, -5.3341366e-02],\n",
              "        [-3.0078244e-01, -3.1125031e-02],\n",
              "        [ 1.3860978e-01,  3.5131531e-04],\n",
              "        [ 1.4281894e-02,  3.7811771e-03],\n",
              "        [-3.7350293e-02, -8.4570460e-02],\n",
              "        [-1.0962134e-01, -2.0288853e-01],\n",
              "        [-3.3368272e-01,  1.2744240e-01],\n",
              "        [-1.2666695e-02,  3.2127909e-02],\n",
              "        [-1.5754625e-01,  3.2596119e-02],\n",
              "        [ 4.4367981e-01,  2.0024174e-01],\n",
              "        [-1.4813849e-01,  1.5039399e-01],\n",
              "        [ 4.3927616e-01,  1.8263735e-01],\n",
              "        [ 1.4524192e-01,  6.1954540e-01],\n",
              "        [-1.7537540e-02, -2.5882944e-02],\n",
              "        [ 3.2265791e-01, -3.4293404e-01],\n",
              "        [-2.3298277e-01, -1.9227380e-01],\n",
              "        [ 2.4372816e-02,  4.1664556e-01],\n",
              "        [ 9.3319546e-03, -1.4318113e-02],\n",
              "        [-1.3117832e-01, -2.6435059e-01],\n",
              "        [ 1.3863540e-01, -3.0013669e-01],\n",
              "        [-1.8377636e-01, -1.7171200e-01],\n",
              "        [ 5.3475338e-01,  5.0458503e-01],\n",
              "        [ 3.8617164e-02, -1.1408822e-01],\n",
              "        [ 3.0178830e-01, -1.6546597e-01],\n",
              "        [ 6.2114441e-01,  2.1608844e-01],\n",
              "        [-3.1608909e-01, -7.9114854e-02],\n",
              "        [ 4.7705781e-01,  3.8224894e-01],\n",
              "        [ 5.2960283e-01,  3.5988411e-01],\n",
              "        [ 3.1183285e-01,  6.0138613e-01]], dtype=float32)>,\n",
              " <tf.Variable 'dense_5/bias:0' shape=(2,) dtype=float32, numpy=array([0.6038748, 0.5990573], dtype=float32)>]"
            ]
          },
          "execution_count": 19,
          "metadata": {},
          "output_type": "execute_result"
        }
      ],
      "source": [
        "alt_model.weights"
      ]
    },
    {
      "cell_type": "markdown",
      "metadata": {
        "id": "dhgXEg3097Ud"
      },
      "source": [
        "# Experience Replay Framework\n",
        "\n",
        "By now, you may have noticed that in a standard RL setup, the agent **only learns from its most recent experience** at each step. This makes training unstable and inefficient. Additionally, consecutive experiences are often highly correlated, which can lead to poor generalization.\n",
        "\n",
        "To address this, we will adopt the **Experience Replay Framework**, where past interactions are stored in a **Replay Buffer** and **a randomly sampled batch** is used to update the decision-making policy. This helps to:\n",
        "\n",
        "- **Break correlation** between consecutive experiences, stabilizing learning.\n",
        "- **Improve data efficiency** by reusing past experiences multiple times.\n",
        "- **Smooth training updates**, preventing abrupt policy changes.\n",
        "\n",
        "The figure below illustrates this process:\n",
        "\n",
        "<img src=\"https://drive.google.com/uc?export=view&id=1S3Z6Ngpzwz3haycLS-rzx-eBe9QT88MJ\" width=\"400\">\n",
        "\n",
        "- The Agent interacts with the Environment, taking actions based on its learned policy.\n",
        "- The Replay Buffer stores past experiences `(state, action, reward, next state, done)`.\n",
        "- Instead of updating after every step, the agent samples from the buffer and learns from past interactions.\n",
        "\n",
        "This framework is used in naive DQN, DQN and DDQN to stabilize Q-learning.\n",
        "\n"
      ]
    },
    {
      "cell_type": "markdown",
      "metadata": {
        "id": "CkfcXDjNriXH"
      },
      "source": [
        "## Implement Replay Buffer and Functions"
      ]
    },
    {
      "cell_type": "code",
      "execution_count": null,
      "metadata": {
        "id": "lJH9KigXsX8Y"
      },
      "outputs": [],
      "source": [
        "# Store (state, action, reward, next_state, done)\n",
        "def store_experience(replay_buffer, state, action, reward, next_stat, done):\n",
        "        replay_buffer.append((state, action, reward, next_state, done))\n",
        "\n",
        "# Sample (state, action, reward, next_state, done) mini-batch for training\n",
        "def sample_experience(replay_buffer, batch_size):\n",
        "\n",
        "    # Ensure we have enough samples\n",
        "    assert len(replay_buffer) >= batch_size, (\n",
        "        f\"Not enough samples in buffer to sample {batch_size} items.\")\n",
        "\n",
        "    # Sample a mini-batch\n",
        "    minibatch = random.sample(replay_buffer, batch_size)\n",
        "\n",
        "    states, actions, rewards, next_states, dones = zip(*minibatch)\n",
        "\n",
        "    states = np.array(states, dtype=np.float32).squeeze()\n",
        "    next_states = np.array(next_states, dtype=np.float32).squeeze()\n",
        "    actions = np.array(actions, dtype=np.int32)\n",
        "    rewards = np.array(rewards, dtype=np.float32)\n",
        "    dones = np.array(dones, dtype=np.float32)\n",
        "\n",
        "    return states, actions, rewards, next_states, dones\n",
        "\n",
        "# [Hint] You may find the following statements useful\n",
        "\"\"\"\n",
        "# Define replay buffer\n",
        "replay_buffer = deque(maxlen=10000)\n",
        "\n",
        "# Store experience tuple into replay_buffer\n",
        "store_experience(replay_buffer, state, action, reward, next_state, done)\n",
        "\n",
        "# Sample mini-batch of size ba from replay_buffer\n",
        "states, actions, rewards, next_states, dones = sample_experience(replay_buffer, ba)\n",
        "\"\"\""
      ]
    },
    {
      "cell_type": "markdown",
      "metadata": {
        "id": "OCkBN3gIiLFP"
      },
      "source": [
        "# Naive DQN - Baseline\n",
        "\n",
        "In this section, you will complete the Naive DQN alorithm by implementing the missing components marked as `[WriteCode]`.\n",
        "\n"
      ]
    },
    {
      "cell_type": "markdown",
      "metadata": {
        "id": "tyRVFFdXvFYk"
      },
      "source": [
        "## Define and Compile the Neural Network\n",
        "\n",
        "A single network $Q_\\theta$ (parameterized by $\\theta$) is used to approximate $Q(s,a)$.\n",
        "\n",
        "The target used by Naive DQN is then:\n",
        "\n",
        "$Y^{NaiveQ}_t = R_{t+1} + \\gamma Q_{\\theta}(S_{t+1}, a)$"
      ]
    },
    {
      "cell_type": "code",
      "execution_count": null,
      "metadata": {
        "id": "83PVW-l7DRc6"
      },
      "outputs": [],
      "source": [
        "# Naive DQN Baseline Model\n",
        "from keras.models import Sequential\n",
        "from keras.layers import Dense\n",
        "\n",
        "\n",
        "# [WriteCode] from ... import ...\n",
        "\n",
        "# Define the Q-network\n",
        "model = Sequential()\n",
        "\n",
        "# [WriteCode]\n",
        "# model.add(...\n",
        "\n",
        "# Compile the model\n",
        "# [WriteCode]\n",
        "\n",
        "# Print the model summary\n",
        "# [WriteCode]"
      ]
    },
    {
      "cell_type": "markdown",
      "metadata": {
        "id": "c9X6H46OIExH"
      },
      "source": [
        "## Set Up Env and Train the Policy"
      ]
    },
    {
      "cell_type": "code",
      "execution_count": null,
      "metadata": {
        "id": "wK70zqKbIHWJ"
      },
      "outputs": [],
      "source": [
        "# For logging\n",
        "train_reward_lst = []\n",
        "eval_reward_mean_lst = []\n",
        "eval_reward_var_lst = []\n",
        "\n",
        "# Set up environment\n",
        "env = gym.make(\"CartPole-v1\", render_mode=\"rgb_array\")\n",
        "state_size = env.observation_space.shape[0] # Number of observations (CartPole)\n",
        "action_size = env.action_space.n            # Number of possible actions\n",
        "\n",
        "model_dir = \"naive_dqn_baseline\"  # TensorBoard log directory\n",
        "cb = keras.callbacks.TensorBoard(log_dir = get_run_logdir(model_dir), histogram_freq=1)\n",
        "\n",
        "# For timing training\n",
        "total_training_time = 0\n",
        "\n",
        "# Define replay buffer\n",
        "# [WriteCode]\n",
        "# replay_buffer = ...\n",
        "\n",
        "for ep in range(episode):\n",
        "    state, _ = env.reset()\n",
        "    state = np.reshape(state, [1, state_size])\n",
        "    total_reward = 0\n",
        "\n",
        "    # record start time\n",
        "    start = time.time()\n",
        "\n",
        "    for _ in range(500):\n",
        "        # Interact with the environment with epsilon-greedy policy\n",
        "        if np.random.rand() <= epsilon:\n",
        "            action = np.random.choice(action_size)\n",
        "        else:\n",
        "            q_values = model.predict(state, verbose=0)\n",
        "            action = np.argmax(q_values)\n",
        "\n",
        "        next_state, reward, terminated, truncated, _ = env.step(action)\n",
        "        next_state = np.reshape(next_state, [1, state_size])\n",
        "        done = terminated or truncated\n",
        "\n",
        "        # store experience into replay buffer\n",
        "        # [WriteCode]\n",
        "\n",
        "        state = next_state\n",
        "        total_reward += reward\n",
        "\n",
        "        if done:\n",
        "            break\n",
        "\n",
        "\n",
        "        if len(replay_buffer) >= ba:\n",
        "            # Update policy with mini-batches if replay buffer contains enough samples\n",
        "            # Update policy using Q-Learning update:  Q(s, a) = r + gamma * max Q(s', a')\n",
        "            # [WriteCode]\n",
        "\n",
        "            # Hints:\n",
        "\n",
        "            # 1. Compute target Q-values:\n",
        "            # - If done, Q-target = reward (no future reward)\n",
        "            # - Otherwise, Q-target = reward + gamma * max(Q(next_state, a))\n",
        "\n",
        "            # 2. Predict current Q-values for state\n",
        "            # Update only the Q-value for the taken action\n",
        "\n",
        "            # 3. Fit the model:\n",
        "            # - Inputs: state\n",
        "            # - Targets: updated Q-values (with action Q-value replaced by computed target)\n",
        "\n",
        "            # Update exploration rate\n",
        "            if epsilon > epsilon_min:\n",
        "                epsilon *= epsilon_decay\n",
        "\n",
        "    # record end time and log training time\n",
        "    end = time.time()\n",
        "    total_training_time += end - start\n",
        "\n",
        "    # Evaluation\n",
        "    # [WriteCode]\n",
        "\n",
        "\n",
        "    print(f\"Episode {ep + 1}/{episode} | Ep. Total Reward: {total_reward}\"\n",
        "        f\" | Epsilon : {epsilon:.3f}\"\n",
        "        f\" | Eval Rwd Mean: {eval_reward_mean:.2f}\"\n",
        "        f\" | Eval Rwd Var: {eval_reward_var:.2f}\")\n",
        "\n",
        "    # Log\n",
        "    eval_reward_mean_lst.append(eval_reward_mean)\n",
        "    eval_reward_var_lst.append(eval_reward_var)\n",
        "    train_reward_lst.append(total_reward)\n",
        "\n",
        "    # Early Stopping Condition to avoid overfitting\n",
        "    # If the evaluation reward reaches the specified threshold, stop training early.\n",
        "    # The default threshold is set to 500, but you should adjust this based on observed training performance.\n",
        "    if eval_reward_mean > 500: # [Modify this threshold as needed]\n",
        "        print(f\"Early stopping triggered at Episode {ep + 1}.\")\n",
        "        break\n",
        "\n",
        "# evaluate average training time per episode\n",
        "print(f\"Training time: {total_training_time/episode:.4f} seconds per episode\")\n",
        "\n",
        "env.close()"
      ]
    },
    {
      "cell_type": "markdown",
      "metadata": {
        "id": "HMgwUOjQ30iI"
      },
      "source": [
        "## Plot Results"
      ]
    },
    {
      "cell_type": "code",
      "execution_count": null,
      "metadata": {
        "id": "FcQkJXSl30iI"
      },
      "outputs": [],
      "source": [
        "# Write code to plot\n",
        "# 1) Moving Averaged Training Reward, 2) Evaluation Mean, 3) Evaluation Variance\n",
        "# [Write Code]\n",
        "\n",
        "# plot_smoothed_training_rwd(...\n",
        "\n",
        "# plot_eval_rwd_mean(...\n",
        "\n",
        "# plot_eval_rwd_var(...\n"
      ]
    },
    {
      "cell_type": "markdown",
      "metadata": {
        "id": "qsx1mQTZwhNC"
      },
      "source": [
        "# Naive DQN - Alternative\n",
        "You may insert extra cells in the notebook to perform tuning experiments and log results effectively. Use TensorBoard, plots, or tables to visualize the impact of different hyperparameter choices."
      ]
    },
    {
      "cell_type": "code",
      "execution_count": null,
      "metadata": {
        "id": "auXumGG5w7JN"
      },
      "outputs": [],
      "source": [
        "# [Write Code]"
      ]
    },
    {
      "cell_type": "markdown",
      "metadata": {
        "id": "lAiI3y2yw47Q"
      },
      "source": [
        "## Comparison\n",
        "\n",
        "Compare performance of the Baseline and the Alternative Naive DQN Policies"
      ]
    },
    {
      "cell_type": "code",
      "execution_count": null,
      "metadata": {
        "id": "dHIjFgUhw-aR"
      },
      "outputs": [],
      "source": [
        "# [Write Code]"
      ]
    },
    {
      "cell_type": "markdown",
      "metadata": {
        "id": "Iy8REuq6iQah"
      },
      "source": [
        "# DQN\n",
        "\n",
        "In this section, you will complete the DQN algorithm by implementing the missing components marked as `[WriteCode]`.\n"
      ]
    },
    {
      "cell_type": "markdown",
      "metadata": {
        "id": "ZXqZUwXkxYci"
      },
      "source": [
        "## Define and Compile the Neural Networks"
      ]
    },
    {
      "cell_type": "markdown",
      "metadata": {
        "id": "2FvxFyz5hnEP"
      },
      "source": [
        "The standard DQN [https://arxiv.org/abs/1312.5602] approach features a periodically updated target network to stabilize training:\n",
        "\n",
        "- `target_model`: A periodically updated network that stabilizes training. During training, this network is used to compute $Q(S_{t+1}, a)$ for each possible action $a$. This network is not actively trained, but at regular intervals, its weights are copied from `eval_model`. This prevents rapid fluctuations in target Q-values and improves learning stability.\n",
        "\n",
        "- `eval_model`: The online learning network that interacts with the environment. During training, this network is used to compute $Q(S_{t}, a)$ for each possible action $a$. It updates its weights by minimizing the difference between predicted and target Q-values, improving the agent's decision-making over time.\n",
        "\n",
        "The target used by DQN is then:\n",
        "\n",
        "$Y^{Q}_t = R_{t+1} + \\gamma \\max_a Q_{target}(S_{t+1}, a)$\n",
        "\n",
        "In the following section, define `[eval_model]` and `[target_model]` with identical architectures."
      ]
    },
    {
      "cell_type": "code",
      "execution_count": null,
      "metadata": {
        "id": "NYILkt0Gzd5G"
      },
      "outputs": [],
      "source": [
        "# DQN Baseline Model\n",
        "from keras.models import Sequential\n",
        "from keras.layers import Dense\n",
        "\n",
        "\n",
        "# [WriteCode] from ... import ...\n",
        "\n",
        "# Define the eval (online) network\n",
        "eval_model = Sequential()\n",
        "\n",
        "# [WriteCode]\n",
        "# model.add(...\n",
        "\n",
        "# Compile the model\n",
        "# [WriteCode]\n",
        "\n",
        "# Print the model summary\n",
        "# [WriteCode]\n",
        "\n",
        "\n",
        "# Create target_model with the same architecture\n",
        "target_model = Sequential()\n",
        "\n",
        "# [WriteCode]\n",
        "# model.add(...\n",
        "\n",
        "# Skip compiling as target_model will not be trained with .fit()\n",
        "# Instead, weights will be copied from the online model\n",
        "target_model.set_weights(eval_model.get_weights())\n",
        "\n",
        "# Print the model summary\n",
        "# [WriteCode]\n",
        "print(target_model.summary())"
      ]
    },
    {
      "cell_type": "markdown",
      "metadata": {
        "id": "WZfiKQHk_Vjb"
      },
      "source": [
        "## Set Up Env and Train the Policy"
      ]
    },
    {
      "cell_type": "markdown",
      "metadata": {
        "id": "hsudLCVWB1Em"
      },
      "source": [
        "In this section, you will complete the DQN training routine by implementing the missing components marked as `[WriteCode]`.\n",
        "\n",
        "\n"
      ]
    },
    {
      "cell_type": "code",
      "execution_count": null,
      "metadata": {
        "id": "I96clO81hFJ_"
      },
      "outputs": [],
      "source": [
        "# For logging\n",
        "train_reward_lst = []\n",
        "eval_reward_mean_lst = []\n",
        "eval_reward_var_lst = []\n",
        "\n",
        "# Set up environment\n",
        "env = gym.make(\"CartPole-v1\", render_mode=\"rgb_array\")\n",
        "state_size = env.observation_space.shape[0] # Number of observations (CartPole)\n",
        "action_size = env.action_space.n            # Number of possible actions\n",
        "\n",
        "model_dir = \"dqn_baseline\"   # TensorBoard log directory\n",
        "cb = keras.callbacks.TensorBoard(log_dir = get_run_logdir(model_dir), histogram_freq=1)\n",
        "\n",
        "# Train Counter for weight syncing\n",
        "train_counter = 0\n",
        "\n",
        "# For timing training\n",
        "total_training_time = 0\n",
        "\n",
        "# Define replay buffer\n",
        "# replay_buffer = ...\n",
        "\n",
        "for ep in range(episode):\n",
        "    state, _ = env.reset()\n",
        "    state = np.reshape(state, [1, state_size])\n",
        "    total_reward = 0\n",
        "\n",
        "    # record start time\n",
        "    start = time.time()\n",
        "\n",
        "    for _ in range(500):\n",
        "        # Interact with the environment with epsilon-greedy policy\n",
        "        if np.random.rand() <= epsilon:\n",
        "            action = np.random.choice(action_size)\n",
        "        else:\n",
        "            q_values = eval_model.predict(state, verbose=0)\n",
        "            action = np.argmax(q_values)\n",
        "\n",
        "        next_state, reward, terminated, truncated, _ = env.step(action)\n",
        "        next_state = np.reshape(next_state, [1, state_size])\n",
        "        done = terminated or truncated\n",
        "\n",
        "        # store experience into replay buffer\n",
        "        # [WriteCode]\n",
        "\n",
        "        state = next_state\n",
        "        total_reward += reward\n",
        "\n",
        "        if done:\n",
        "            break\n",
        "\n",
        "        if len(replay_buffer) >= ba:\n",
        "            train_counter += 1\n",
        "            # Update policy with mini-batches if replay buffer contains enough samples\n",
        "            # Update policy using Deep Q-Learning update: Q(s, a) = r + gamma * max Q_target(S', a)\n",
        "            # [WriteCode]\n",
        "\n",
        "            # Compute target Q-values:\n",
        "            # - If done, Q-target = reward (no future reward)\n",
        "            # - Otherwise, Q-target = reward + gamma * max(Q_target(next_state, a))\n",
        "\n",
        "            # Predict current Q-values for state using eval_model\n",
        "            # Predict future Q-values using target_model (NOT eval_model)\n",
        "\n",
        "            # Update only the Q-value for the taken action\n",
        "\n",
        "            # Fit the model:\n",
        "            # - Inputs: state\n",
        "            # - Targets: updated Q-values (with action Q-value replaced by computed target)\n",
        "\n",
        "\n",
        "            # Update exploration rate\n",
        "            if epsilon > epsilon_min:\n",
        "                epsilon *= epsilon_decay\n",
        "\n",
        "            # Periodically update the target network\n",
        "            if train_counter % target_update_freq == 0:\n",
        "                target_model.set_weights(eval_model.get_weights())\n",
        "\n",
        "    # record end time and log training time\n",
        "    end = time.time()\n",
        "    total_training_time += end - start\n",
        "\n",
        "    # Evaluation\n",
        "    # [WriteCode]\n",
        "\n",
        "\n",
        "    print(f\"Episode {ep + 1}/{episode} | Ep. Total Reward: {total_reward}\"\n",
        "        f\" | Epsilon : {epsilon:.3f}\"\n",
        "        f\" | Eval Rwd Mean: {eval_reward_mean:.2f}\"\n",
        "        f\" | Eval Rwd Var: {eval_reward_var:.2f}\")\n",
        "\n",
        "    # Log\n",
        "    eval_reward_mean_lst.append(eval_reward_mean)\n",
        "    eval_reward_var_lst.append(eval_reward_var)\n",
        "    train_reward_lst.append(total_reward)\n",
        "\n",
        "    # Early Stopping Condition to avoid overfitting\n",
        "    # If the evaluation reward reaches the specified threshold, stop training early.\n",
        "    # The default threshold is set to 500, but you should adjust this based on observed training performance.\n",
        "    if eval_reward_mean > 500: # [Modify this threshold as needed]\n",
        "        print(f\"Early stopping triggered at Episode {ep + 1}.\")\n",
        "        break\n",
        "\n",
        "# evaluate average training time per episode\n",
        "print(f\"Training time: {total_training_time/episode:.4f} seconds per episode\")\n",
        "\n",
        "env.close()"
      ]
    },
    {
      "cell_type": "markdown",
      "metadata": {
        "id": "cWTB-X8Q35lX"
      },
      "source": [
        "## Plot Results"
      ]
    },
    {
      "cell_type": "code",
      "execution_count": null,
      "metadata": {
        "id": "gUC2aelO35lX"
      },
      "outputs": [],
      "source": [
        "# Write code to plot\n",
        "# 1) Moving Averaged Training Reward, 2) Evaluation Mean, 3) Evaluation Variance\n",
        "# [Write Code]\n",
        "plot_smoothed_training_rwd(train_reward_lst, window_size=20)\n",
        "plot_eval_rwd_mean(eval_reward_mean_lst)\n",
        "plot_eval_rwd_var(eval_reward_var_lst)"
      ]
    },
    {
      "cell_type": "markdown",
      "metadata": {
        "id": "aGOFWup5ZiYp"
      },
      "source": [
        "# DQN - Alternative\n",
        "\n",
        "You may insert extra cells in the notebook to perform tuning experiments and log results effectively. Use TensorBoard, plots, or tables to visualize the impact of different hyperparameter choices."
      ]
    },
    {
      "cell_type": "markdown",
      "metadata": {
        "id": "eOwN55lA34nm"
      },
      "source": [
        "## Plot Results"
      ]
    },
    {
      "cell_type": "code",
      "execution_count": null,
      "metadata": {
        "id": "hf5220Bw34nm"
      },
      "outputs": [],
      "source": [
        "# Write code to plot\n",
        "# 1) Moving Averaged Training Reward, 2) Evaluation Mean, 3) Evaluation Variance\n",
        "# [Write Code]\n",
        "\n",
        "# plot_smoothed_training_rwd(...\n",
        "\n",
        "# plot_eval_rwd_mean(...\n",
        "\n",
        "# plot_eval_rwd_var(..."
      ]
    },
    {
      "cell_type": "code",
      "execution_count": null,
      "metadata": {
        "id": "SvxOyxpPZlfW"
      },
      "outputs": [],
      "source": [
        "# [Write Code]"
      ]
    },
    {
      "cell_type": "markdown",
      "metadata": {
        "id": "0oTzmTnlZlru"
      },
      "source": [
        "## Comparison\n",
        "\n",
        "Compare performance of the Baseline and the Alternative DQN Policies"
      ]
    },
    {
      "cell_type": "code",
      "execution_count": null,
      "metadata": {
        "id": "HiMW7bE1Zq2B"
      },
      "outputs": [],
      "source": [
        "# [Write Code]"
      ]
    },
    {
      "cell_type": "markdown",
      "metadata": {
        "id": "4yGOGzD5iRw5"
      },
      "source": [
        "# DDQN"
      ]
    },
    {
      "cell_type": "markdown",
      "metadata": {
        "id": "-nURxQ5zZwu5"
      },
      "source": [
        "## Define and Compile the Neural Networks\n",
        "\n",
        "The Double Deep Q-Network (DDQN) [https://arxiv.org/abs/1509.06461] improves upon standard DQN by reducing overestimation bias in Q-values. DDQN achieves this by decoupling action selection from value estimation using two networks, which is almost identical as DQN:\n",
        "\n",
        "- `target_model`: A periodically updated network that stabilizes training. During training, this network is used to compute $Q(S_{t+1}, a)$ for each possible action $a$. This network is also not trained but synced from `eval_model`. **However, unlike DQN, this network is only used to evaluate the Q-value of the action chosen by `eval_model`, making value updates more stable.**\n",
        "\n",
        "- `eval_model`: The online learning network that interacts with the environment. During training, this network is used to select the best action using $\\arg\\max_a Q(S_{t}, a)$ and updates its weights by minimizing the difference between predicted and target Q-value.\n",
        "\n",
        "The target used by DDQN is then:\n",
        "\n",
        "$Y^{Q}_t = R_{t+1} + \\gamma Q_{target}(S_{t+1}, \\arg \\max_{a} Q_{eval}(S_{t+1}, a))$"
      ]
    },
    {
      "cell_type": "code",
      "execution_count": null,
      "metadata": {
        "id": "NoH_Tjmz3FBn"
      },
      "outputs": [],
      "source": [
        "# DDQN Baseline Model\n",
        "from keras.models import Sequential\n",
        "from keras.layers import Dense\n",
        "\n",
        "\n",
        "# [WriteCode] from ... import ...\n",
        "\n",
        "# Define the eval (online) network\n",
        "eval_model = Sequential()\n",
        "\n",
        "# [WriteCode]\n",
        "# model.add(...\n",
        "\n",
        "# Compile the model\n",
        "# [WriteCode]\n",
        "\n",
        "# Print the model summary\n",
        "# [WriteCode]\n",
        "\n",
        "\n",
        "\n",
        "# Create target_model with the same architecture\n",
        "target_model = Sequential()\n",
        "\n",
        "# [WriteCode]\n",
        "# model.add(...\n",
        "\n",
        "# Skip compiling as target_model will not be trained with .fit()\n",
        "# Instead, weights will be copied from the online model\n",
        "target_model.set_weights(eval_model.get_weights())\n",
        "\n",
        "# Print the model summary\n",
        "# [WriteCode]"
      ]
    },
    {
      "cell_type": "markdown",
      "metadata": {
        "id": "-uZT2NevZzo7"
      },
      "source": [
        "## Set Up Env and Train the Policy"
      ]
    },
    {
      "cell_type": "code",
      "execution_count": null,
      "metadata": {
        "id": "4U9ntMqg3TH7"
      },
      "outputs": [],
      "source": [
        "# For logging\n",
        "train_reward_lst = []\n",
        "eval_reward_mean_lst = []\n",
        "eval_reward_var_lst = []\n",
        "\n",
        "# Set up environment\n",
        "env = gym.make(\"CartPole-v1\", render_mode=\"rgb_array\")\n",
        "state_size = env.observation_space.shape[0] # Number of observations (CartPole)\n",
        "action_size = env.action_space.n            # Number of possible actions\n",
        "\n",
        "model_dir = \"ddqn_baseline\"  # TensorBoard log directory\n",
        "cb = keras.callbacks.TensorBoard(log_dir = get_run_logdir(model_dir), histogram_freq=1)\n",
        "\n",
        "# Train Counter for weight syncing\n",
        "train_counter = 0\n",
        "\n",
        "# For timing training\n",
        "total_training_time = 0\n",
        "\n",
        "# Define replay buffer\n",
        "# replay_buffer = ...\n",
        "\n",
        "for ep in range(episode):\n",
        "    state, _ = env.reset()\n",
        "    state = np.reshape(state, [1, state_size])\n",
        "    total_reward = 0\n",
        "\n",
        "    # record start time\n",
        "    start = time.time()\n",
        "\n",
        "    for _ in range(500):\n",
        "\n",
        "        # Interact with the environment with epsilon-greedy policy\n",
        "        if np.random.rand() <= epsilon:\n",
        "            action = np.random.choice(action_size)\n",
        "        else:\n",
        "            q_values = eval_model.predict(state, verbose=0)\n",
        "            action = np.argmax(q_values)\n",
        "\n",
        "        next_state, reward, terminated, truncated, _ = env.step(action)\n",
        "        next_state = np.reshape(next_state, [1, state_size])\n",
        "        done = terminated or truncated\n",
        "\n",
        "        # store experience into replay buffer\n",
        "        # [WriteCode]\n",
        "\n",
        "        state = next_state\n",
        "        total_reward += reward\n",
        "\n",
        "        if done:\n",
        "            break\n",
        "\n",
        "        if len(replay_buffer) >= ba:\n",
        "            train_counter += 1\n",
        "            # Update policy with mini-batches if replay buffer contains enough samples\n",
        "            # Update policy using Double Deep Q-Learning update:\n",
        "            # Q(s, a) = r + gamma * Q_target(S', argmax Q_eval(S', a))\n",
        "            # [WriteCode]\n",
        "\n",
        "            # Compute target Q-values:\n",
        "            # - If done, Q-target = reward (no future reward)\n",
        "            # - Otherwise, Q-target = reward + gamma * Q_target(S', argmax Q_eval(S', a))\n",
        "\n",
        "            # Predict current Q-values for state using eval_model\n",
        "            # Use eval_model to determine best action in next_state\n",
        "            # Use target_model to compute Q-value for that action\n",
        "\n",
        "            # Update only the Q-value for the taken action\n",
        "\n",
        "            # Fit the model:\n",
        "            # - Inputs: state\n",
        "            # - Targets: updated Q-values (with action Q-value replaced by computed target)\n",
        "\n",
        "\n",
        "            # Update exploration rate\n",
        "            if epsilon > epsilon_min:\n",
        "                epsilon *= epsilon_decay\n",
        "\n",
        "            # Periodically update the target network\n",
        "            if train_counter % target_update_freq == 0:\n",
        "                target_model.set_weights(eval_model.get_weights())\n",
        "\n",
        "    # record end time and log training time\n",
        "    end = time.time()\n",
        "    total_training_time += end - start\n",
        "\n",
        "    # Evaluation\n",
        "    # [WriteCode]\n",
        "\n",
        "\n",
        "    print(f\"Episode {ep + 1}/{episode} | Ep. Total Reward: {total_reward}\"\n",
        "        f\" | Epsilon : {epsilon:.3f}\"\n",
        "        f\" | Eval Rwd Mean: {eval_reward_mean:.2f}\"\n",
        "        f\" | Eval Rwd Var: {eval_reward_var:.2f}\")\n",
        "\n",
        "    # Log\n",
        "    eval_reward_mean_lst.append(eval_reward_mean)\n",
        "    eval_reward_var_lst.append(eval_reward_var)\n",
        "    train_reward_lst.append(total_reward)\n",
        "\n",
        "    # Early Stopping Condition to avoid overfitting\n",
        "    # If the evaluation reward reaches the specified threshold, stop training early.\n",
        "    # The default threshold is set to 500, but you should adjust this based on observed training performance.\n",
        "    if eval_reward_mean > 500: # [Modify this threshold as needed]\n",
        "        print(f\"Early stopping triggered at Episode {ep + 1}.\")\n",
        "        break\n",
        "\n",
        "# record end time and calculate average training time per episode\n",
        "# evaluate average training time per episode\n",
        "print(f\"Training time: {total_training_time/episode:.4f} seconds per episode\")\n",
        "\n",
        "env.close()"
      ]
    },
    {
      "cell_type": "markdown",
      "metadata": {
        "id": "oKfbQWJq363X"
      },
      "source": [
        "## Plot Results"
      ]
    },
    {
      "cell_type": "code",
      "execution_count": null,
      "metadata": {
        "id": "L7qIOwiX363Y"
      },
      "outputs": [],
      "source": [
        "# Write code to plot\n",
        "# 1) Moving Averaged Training Reward, 2) Evaluation Mean, 3) Evaluation Variance\n",
        "# [Write Code]\n",
        "\n",
        "# plot_smoothed_training_rwd(...\n",
        "\n",
        "# plot_eval_rwd_mean(...\n",
        "\n",
        "# plot_eval_rwd_var(..."
      ]
    },
    {
      "cell_type": "markdown",
      "metadata": {
        "id": "YgVEqsvQHsiD"
      },
      "source": [
        "# DDQN - Alternative\n",
        "\n",
        "You may insert extra cells in the notebook to perform tuning experiments and log results effectively. Use TensorBoard, plots, or tables to visualize the impact of different hyperparameter choices."
      ]
    },
    {
      "cell_type": "code",
      "execution_count": null,
      "metadata": {
        "id": "0xno9cGCHrx5"
      },
      "outputs": [],
      "source": [
        "# [Write Code]"
      ]
    },
    {
      "cell_type": "markdown",
      "metadata": {
        "id": "5MBGp2LfHxDr"
      },
      "source": [
        "## Comparison\n",
        "\n",
        "Compare performance of the Baseline and the Alternative DDQN Policies"
      ]
    },
    {
      "cell_type": "code",
      "execution_count": null,
      "metadata": {
        "id": "3NDTwhmwH3Lk"
      },
      "outputs": [],
      "source": [
        "# [Write Code]"
      ]
    },
    {
      "cell_type": "markdown",
      "metadata": {
        "id": "VUo4vcwQnbWV"
      },
      "source": [
        "# Visualize with Tensorboard"
      ]
    },
    {
      "cell_type": "code",
      "execution_count": null,
      "metadata": {
        "id": "ZcIJ3DQc3-Jw"
      },
      "outputs": [],
      "source": [
        "%load_ext tensorboard\n",
        "%tensorboard --logdir=./ee4802_logs --port=6006"
      ]
    },
    {
      "cell_type": "markdown",
      "metadata": {
        "id": "l-insiT7D_lq"
      },
      "source": [
        "# Comparison Across Four Alternative Policies\n",
        "\n",
        "Compare hyperparameters and performance of the four alternative policies.\n",
        "\n",
        "You may insert extra cells in the notebook to tabulate/plot/log results effectively."
      ]
    },
    {
      "cell_type": "code",
      "execution_count": null,
      "metadata": {
        "id": "SjQwsaxSE5Jh"
      },
      "outputs": [],
      "source": [
        "# [Write Code]"
      ]
    }
  ],
  "metadata": {
    "colab": {
      "include_colab_link": true,
      "provenance": []
    },
    "kernelspec": {
      "display_name": "Python 3",
      "name": "python3"
    },
    "language_info": {
      "codemirror_mode": {
        "name": "ipython",
        "version": 3
      },
      "file_extension": ".py",
      "mimetype": "text/x-python",
      "name": "python",
      "nbconvert_exporter": "python",
      "pygments_lexer": "ipython3",
      "version": "3.11.3"
    }
  },
  "nbformat": 4,
  "nbformat_minor": 0
}
