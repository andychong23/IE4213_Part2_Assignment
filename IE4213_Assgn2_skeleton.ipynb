{
  "cells": [
    {
      "cell_type": "markdown",
      "metadata": {
        "colab_type": "text",
        "id": "view-in-github"
      },
      "source": [
        "<a href=\"https://colab.research.google.com/github/andychong23/IE4213_Part2_Assignment/blob/feature%2Fandy%2FQ1/IE4213_Assgn2_skeleton.ipynb\" target=\"_parent\"><img src=\"https://colab.research.google.com/assets/colab-badge.svg\" alt=\"Open In Colab\"/></a>"
      ]
    },
    {
      "cell_type": "code",
      "execution_count": 16,
      "metadata": {
        "colab": {
          "base_uri": "https://localhost:8080/",
          "height": 106
        },
        "id": "gBUF2HJd1fVT",
        "outputId": "cedce019-fa2b-42dc-ba52-cb7fb7f86461"
      },
      "outputs": [
        {
          "ename": "SyntaxError",
          "evalue": "invalid syntax (3987471257.py, line 1)",
          "output_type": "error",
          "traceback": [
            "\u001b[1;36m  Cell \u001b[1;32mIn[16], line 1\u001b[1;36m\u001b[0m\n\u001b[1;33m    Student_1 = Andy Chong Weikang #@param {type:\"string\"}  Name of student 1\u001b[0m\n\u001b[1;37m                     ^\u001b[0m\n\u001b[1;31mSyntaxError\u001b[0m\u001b[1;31m:\u001b[0m invalid syntax\n"
          ]
        }
      ],
      "source": [
        "Student_1 = Andy Chong Weikang #@param {type:\"string\"}  Name of student 1\n",
        "Student_2 = '' #@param {type:\"string\"}  Name of student 2\n",
        "Student_3 = '' #@param {type:\"string\"}  Name of student 3/'\n",
        "Student_4 = '' #@param {type:\"string\"}  Name of student 4"
      ]
    },
    {
      "cell_type": "markdown",
      "metadata": {
        "id": "9PhWOSD2hLUM"
      },
      "source": [
        "# Overvew\n",
        "\n",
        "This is the skeleton code file for the EE4802/IE4213 assignment. Replace the `XX`. in the name of this Colab notebook with your group number (this is important for correct marks to be awarded to your group). Fill in the blank cells below with the necessary code (you should work on this Colab notebook section by section). At the end, the entire Colab notebook should generate all the required results and execute without error.\n",
        "\n",
        "The text above the blank cells provides information on the functionality that needs to be implemented. You need to write Python code at places indicated by `[WriteCode]`"
      ]
    },
    {
      "cell_type": "markdown",
      "metadata": {
        "id": "jXckzF3Fhd4p"
      },
      "source": [
        "## Install and Import Libraries"
      ]
    },
    {
      "cell_type": "code",
      "execution_count": 17,
      "metadata": {
        "id": "19JbK59PhbuE"
      },
      "outputs": [],
      "source": [
        "%%capture\n",
        "# %%capture hides the output\n",
        "# install visulization tool\n",
        "!pip install renderlab\n",
        "!pip install moviepy==1.0.3"
      ]
    },
    {
      "cell_type": "code",
      "execution_count": 18,
      "metadata": {
        "colab": {
          "base_uri": "https://localhost:8080/"
        },
        "id": "E669iRUFhn9J",
        "outputId": "97caa0bb-54b7-45ad-eae2-050bfeb8a42c"
      },
      "outputs": [],
      "source": [
        "import tensorflow as tf\n",
        "from tensorflow import keras\n",
        "assert tf.__version__ >= \"2.0\"\n",
        "\n",
        "import os\n",
        "import time\n",
        "import numpy as np\n",
        "import random\n",
        "from collections import deque\n",
        "\n",
        "import gymnasium as gym\n",
        "# import renderlab as rl"
      ]
    },
    {
      "cell_type": "code",
      "execution_count": 19,
      "metadata": {},
      "outputs": [
        {
          "name": "stdout",
          "output_type": "stream",
          "text": [
            "The tensorboard extension is already loaded. To reload it, use:\n",
            "  %reload_ext tensorboard\n"
          ]
        }
      ],
      "source": [
        "%load_ext tensorboard"
      ]
    },
    {
      "cell_type": "markdown",
      "metadata": {
        "id": "9d3w4FRMS36_"
      },
      "source": [
        "# Background"
      ]
    },
    {
      "cell_type": "markdown",
      "metadata": {
        "id": "L8RD1Ggwcqg1"
      },
      "source": [
        "## Environment Exploration: Cart-Pole\n",
        "\n",
        "The **Cart-Pole environment** is a classic reinforcement learning problem where a pole is attached by an un-actuated joint to a cart. The cart moves along a frictionless track, and the goal is to balance the pole upright by applying forces to move the cart left or right.\n",
        "\n",
        "<img src=\"https://gymnasium.farama.org/_images/cart_pole.gif\" width=\"400\">\n",
        "\n",
        "Below is a breakdown of the base Cart-Pole environment:\n"
      ]
    },
    {
      "cell_type": "markdown",
      "metadata": {
        "id": "geWhWkTJRu5w"
      },
      "source": [
        "#### - **Observation Space (*s*)**\n",
        "The observation is represented as a `ndarray` of shape `(4,)`, corresponding to:\n",
        "- **Cart Position**: Horizontal location of the cart.\n",
        "- **Cart Velocity**: Speed of the cart along the track.\n",
        "- **Pole Angle**: Angular position of the pole relative to vertical.\n",
        "- **Pole Angular Velocity**: Speed at which the pole angle changes.\n",
        "\n",
        "The observations are initialized with uniformly random values in the range `(-0.05, 0.05)`.\n"
      ]
    },
    {
      "cell_type": "markdown",
      "metadata": {
        "id": "8r3befVJR4SJ"
      },
      "source": [
        "#### - **Action Space (*a*)**\n",
        "The action is a discrete value (`0` or `1`) indicating the direction of the force applied to the cart:\n",
        "- `0`: Push the cart to the left.\n",
        "- `1`: Push the cart to the right.\n"
      ]
    },
    {
      "cell_type": "markdown",
      "metadata": {
        "id": "BfanxRL4R5jO"
      },
      "source": [
        "\n",
        "#### - **Reward Function (*r*)**\n",
        "The agent receives a reward of `+1` for each time step it successfully keeps the pole upright. The maximum achievable reward in a single episode is `500`."
      ]
    },
    {
      "cell_type": "markdown",
      "metadata": {
        "id": "spv7Ul4CR7SN"
      },
      "source": [
        "#### - **Episode Termination (*isDone*)**\n",
        "An episode ends if any of the following conditions occur:\n",
        "1. **Pole Angle** exceeds `±12°`.\n",
        "2. **Cart Position** exceeds `±2.4` (the cart reaches the edge of the track).\n",
        "3. **Truncation**: The episode reaches the maximum length of `500 steps`."
      ]
    },
    {
      "cell_type": "markdown",
      "metadata": {
        "id": "pD50TBeLif6F"
      },
      "source": [
        "## Getting Familiar with Basic Gym Usage\n",
        "\n",
        "Let's observe how to interact with a Gym environment."
      ]
    },
    {
      "cell_type": "markdown",
      "metadata": {
        "id": "kkeWe780XZVv"
      },
      "source": [
        "The classic “agent-environment loop” pictured below is a simplified representation of reinforcement learning that Gymnasium implements.\n",
        "\n",
        "<img src=\"https://drive.google.com/uc?export=view&id=1feMbDMTfOFTBtj2PAZz-kMjSQKVukEm6\" width=\"250\">\n",
        "\n",
        "\n",
        "The following section represents a simple episode of this loop, we will:\n",
        "\n",
        "1. Import the base Cart-Pole environment from the gym library and explore its functionality.\n",
        "\n",
        "2. Apply modifications to make the environment more challenging by adjusting the pole's dynamics and introducing stochastic forces.\n",
        "\n",
        "3. Sample random actions to control the cart-pole and visualize the process using `renderlab`.\n",
        "\n",
        "These steps will help us understand how the environment behaves under different conditions and prepare us for implementing reinforcement learning agents in later sections.\n",
        "\n"
      ]
    },
    {
      "cell_type": "code",
      "execution_count": 20,
      "metadata": {
        "colab": {
          "base_uri": "https://localhost:8080/",
          "height": 873
        },
        "id": "x2PMYpIKXtWv",
        "outputId": "80bda351-3d63-4102-9180-bb6b47e5a120"
      },
      "outputs": [
        {
          "name": "stdout",
          "output_type": "stream",
          "text": [
            "\n",
            "--- Exploring the Base Environment ---\n",
            "Initial Observation: [-0.00132448 -0.01550498  0.01375425 -0.00186294]\n",
            "Action Space: Discrete(2)\n",
            "Observation Space: Box([-4.8               -inf -0.41887903        -inf], [4.8               inf 0.41887903        inf], (4,), float32)\n",
            "\n",
            "--- Sampling Random Actions and Visualizing ---\n"
          ]
        },
        {
          "ename": "NameError",
          "evalue": "name 'rl' is not defined",
          "output_type": "error",
          "traceback": [
            "\u001b[1;31m---------------------------------------------------------------------------\u001b[0m",
            "\u001b[1;31mNameError\u001b[0m                                 Traceback (most recent call last)",
            "Cell \u001b[1;32mIn[20], line 16\u001b[0m\n\u001b[0;32m     14\u001b[0m \u001b[38;5;66;03m# Sample Random Actions and Visualize\u001b[39;00m\n\u001b[0;32m     15\u001b[0m \u001b[38;5;28mprint\u001b[39m(\u001b[38;5;124m\"\u001b[39m\u001b[38;5;130;01m\\n\u001b[39;00m\u001b[38;5;124m--- Sampling Random Actions and Visualizing ---\u001b[39m\u001b[38;5;124m\"\u001b[39m)\n\u001b[1;32m---> 16\u001b[0m env \u001b[38;5;241m=\u001b[39m \u001b[43mrl\u001b[49m\u001b[38;5;241m.\u001b[39mRenderFrame(env, \u001b[38;5;124m\"\u001b[39m\u001b[38;5;124m./output\u001b[39m\u001b[38;5;124m\"\u001b[39m)\n\u001b[0;32m     17\u001b[0m observation, info \u001b[38;5;241m=\u001b[39m env\u001b[38;5;241m.\u001b[39mreset()\n\u001b[0;32m     18\u001b[0m isDone \u001b[38;5;241m=\u001b[39m \u001b[38;5;28;01mFalse\u001b[39;00m\n",
            "\u001b[1;31mNameError\u001b[0m: name 'rl' is not defined"
          ]
        }
      ],
      "source": [
        "import warnings\n",
        "warnings.filterwarnings('ignore')\n",
        "\n",
        "# Import and Explore the Environment\n",
        "print(\"\\n--- Exploring the Base Environment ---\")\n",
        "env = gym.make(\"CartPole-v1\", render_mode=\"rgb_array\")\n",
        "observation, info = env.reset()\n",
        "\n",
        "# Print information about the environment\n",
        "print(f\"Initial Observation: {observation}\")\n",
        "print(f\"Action Space: {env.action_space}\")  # Discrete actions: 0 (left), 1 (right)\n",
        "print(f\"Observation Space: {env.observation_space}\")  # State variables: cart position, etc.\n",
        "\n",
        "# Sample Random Actions and Visualize\n",
        "print(\"\\n--- Sampling Random Actions and Visualizing ---\")\n",
        "env = rl.RenderFrame(env, \"./output\")\n",
        "observation, info = env.reset()\n",
        "isDone = False\n",
        "\n",
        "# Simulate an episode with random actions\n",
        "while not isDone:\n",
        "    action = env.action_space.sample()  # Take random action\n",
        "    observation, reward, terminated, truncated, info = env.step(action)\n",
        "    print(observation, reward, terminated, truncated, info)\n",
        "    isDone = terminated or truncated\n",
        "\n",
        "env.close()\n",
        "env.play()  # Play the recorded video"
      ]
    },
    {
      "cell_type": "markdown",
      "metadata": {
        "id": "s9wjDE0kfFJd"
      },
      "source": [
        "# Define Helper Functions"
      ]
    },
    {
      "cell_type": "markdown",
      "metadata": {
        "id": "B0UFVPRylCdv"
      },
      "source": [
        "## Plotting Functions"
      ]
    },
    {
      "cell_type": "code",
      "execution_count": 21,
      "metadata": {
        "id": "vsmmRtAVlUz_"
      },
      "outputs": [],
      "source": [
        "# Some plotting functions\n",
        "import matplotlib.pyplot as plt\n",
        "\n",
        "def plot_eval_rwd_mean(eval_mean_list):\n",
        "  \"\"\"Plot evaluation reward mean.\"\"\"\n",
        "  # [WriteCode]\n",
        "  plt.plot(np.array([i for i in range(len(eval_mean_list))]), eval_mean_list)\n",
        "  plt.title(\"Evaluation Reward Mean\")\n",
        "  plt.xlabel(\"Episodes\")\n",
        "  plt.ylabel(\"Reward Mean\")\n",
        "  plt.show()\n",
        "\n",
        "\n",
        "\n",
        "def plot_eval_rwd_var(eval_var_list):\n",
        "  \"\"\"Plot evaluation reward variance.\"\"\"\n",
        "  # [WriteCode]\n",
        "  plt.plot(np.array([i for i in range(len(eval_var_list))]), eval_var_list)\n",
        "  plt.title(\"Evaluation Reward Varaince\")\n",
        "  plt.xlabel(\"Episodes\")\n",
        "  plt.ylabel(\"Reward Variance\")\n",
        "  plt.show()\n",
        "\n",
        "\n",
        "\n",
        "def plot_smoothed_training_rwd(train_rwd_list, window_size=20):\n",
        "  \"\"\"Plot smoothed training rewards using a moving average.\"\"\"\n",
        "  y_output = []\n",
        "  x_output = []\n",
        "  # [WriteCode]\n",
        "  for idx in range(len(train_rwd_list) - window_size):\n",
        "    current_window = train_rwd_list[idx:idx + window_size]\n",
        "    y_output.append(sum(current_window) / window_size)\n",
        "    x_output.append(idx)\n",
        "  plt.plot(x_output, y_output)\n",
        "  plt.title(\"Smoothed Training Rewards\")\n",
        "  plt.xlabel(\"Episodes\")\n",
        "  plt.ylabel(\"Average training rewards\")\n",
        "  plt.show()\n"
      ]
    },
    {
      "cell_type": "markdown",
      "metadata": {
        "id": "N7hA67eaYkCW"
      },
      "source": [
        "## Evaluation Function\n",
        "\n",
        "Evaluate the learnt policy by running 3 evaluation episodes and computing the average and variance of rewards collected."
      ]
    },
    {
      "cell_type": "code",
      "execution_count": 22,
      "metadata": {
        "id": "kKS1vpSmYjyg"
      },
      "outputs": [],
      "source": [
        "def evaluation(model, max_timesteps=500):\n",
        "    # eval_env = gym.make(\"CartPole-v1\", render_mode=\"rgb_array\")\n",
        "    eval_env = gym.make(\"CartPole-v1\")\n",
        "    state_size = eval_env.observation_space.shape[0] # Number of observations (CartPole)\n",
        "    action_size = eval_env.action_space.n            # Number of possible actions\n",
        "    eval_reward = []\n",
        "\n",
        "    for i in range (3):\n",
        "        round_reward = 0\n",
        "        state, _ = eval_env.reset()\n",
        "        state = np.reshape(state, [1, state_size])\n",
        "\n",
        "        for i in range(max_timesteps):\n",
        "            action = np.argmax(model.predict(state, verbose=0)[0])\n",
        "            next_state, reward, terminated, truncated, _ = eval_env.step(action)\n",
        "            next_state = np.reshape(next_state, [1, state_size])\n",
        "\n",
        "            round_reward += reward\n",
        "            state = next_state\n",
        "\n",
        "            if terminated or truncated:\n",
        "                eval_reward.append(round_reward)\n",
        "                break\n",
        "\n",
        "    eval_env.close()\n",
        "\n",
        "    eval_reward_mean = np.sum(eval_reward)/len(eval_reward)\n",
        "    eval_reward_var = np.var(eval_reward)\n",
        "\n",
        "    return eval_reward_mean, eval_reward_var"
      ]
    },
    {
      "cell_type": "markdown",
      "metadata": {
        "id": "kWS8Kd8eiXau"
      },
      "source": [
        "# Setting up Tensorboard\n"
      ]
    },
    {
      "cell_type": "code",
      "execution_count": 23,
      "metadata": {
        "id": "ADO90Q7Hs-lx"
      },
      "outputs": [],
      "source": [
        "def get_run_logdir(k):\n",
        "    root_logdir = os.path.join(os.curdir, \"ee4802_logs\", k)\n",
        "    run_id = time.strftime(\"run_%Y_%m_%d-%H_%M_%S\")\n",
        "    return os.path.join(root_logdir, run_id)"
      ]
    },
    {
      "cell_type": "markdown",
      "metadata": {
        "id": "B07kopgXtOVU"
      },
      "source": [
        "# Initialize Parameters"
      ]
    },
    {
      "cell_type": "code",
      "execution_count": 24,
      "metadata": {
        "id": "JL9ABa8-vRf3"
      },
      "outputs": [],
      "source": [
        "# Use the following set of NN hyperparameters for ALL FOUR basline policies\n",
        "lr =  0.1        #@param {type:\"number\"}               # learning rate\n",
        "epoch =  32     #@param {type:\"number\"}               # epochs\n",
        "episode = 500  #@param {type:\"number\"}               # episodes\n",
        "\n",
        "epsilon = 0.9           #@param {type:\"number\"}     # Starting exploration rate\n",
        "epsilon_min = 0.1    #@param {type:\"number\"}     # Exploration rate min\n",
        "epsilon_decay = 0.99     #@param {type:\"number\"}     # Exploration rate decay\n",
        "\n",
        "gamma = 0.99          #@param {type:\"number\"}     # Agent discount factor\n",
        "\n",
        "# Use the following set of NN hyperparameters for Naive DQN, DQN and DDQN policies\n",
        "ba =  32       #@param {type:\"number\"}               # batch_size\n",
        "\n",
        "# Use the following set of RL hyperparameters for DQN and DDQN policies\n",
        "target_update_freq = 0.05 # @param {type:\"number\"}    # Target network update frequency\n"
      ]
    },
    {
      "cell_type": "markdown",
      "metadata": {
        "id": "npUYex5Em46O"
      },
      "source": [
        "# Q-Network - Baseline"
      ]
    },
    {
      "cell_type": "markdown",
      "metadata": {
        "id": "XLr4PDQ7nC5T"
      },
      "source": [
        "## Define and Compile the Neural Network\n",
        "\n",
        "A single network $Q_\\theta$ (parameterized by $\\theta$) is used to approximate $Q(s,a)$.\n",
        "\n",
        "The target used by Naive DQN is then:\n",
        "\n",
        "$Y^{NaiveQ}_t = R_{t+1} + \\gamma Q_{\\theta}(S_{t+1}, a)$\n",
        "\n",
        "The training of Q-Network does rely on a Replay Buffer."
      ]
    },
    {
      "cell_type": "code",
      "execution_count": 25,
      "metadata": {
        "colab": {
          "base_uri": "https://localhost:8080/",
          "height": 238
        },
        "id": "WyXho4UKpH3Q",
        "outputId": "aa068deb-de97-4001-a8a3-55f7d3f9b4fe"
      },
      "outputs": [
        {
          "name": "stdout",
          "output_type": "stream",
          "text": [
            "Model: \"sequential\"\n",
            "_________________________________________________________________\n",
            " Layer (type)                Output Shape              Param #   \n",
            "=================================================================\n",
            " dense (Dense)               (None, 32)                160       \n",
            "                                                                 \n",
            " dense_1 (Dense)             (None, 32)                1056      \n",
            "                                                                 \n",
            " dense_2 (Dense)             (None, 2)                 66        \n",
            "                                                                 \n",
            "=================================================================\n",
            "Total params: 1,282\n",
            "Trainable params: 1,282\n",
            "Non-trainable params: 0\n",
            "_________________________________________________________________\n"
          ]
        }
      ],
      "source": [
        "# Q-Network Baseline Model\n",
        "from keras.models import Sequential\n",
        "from keras.layers import Input, Dense, LayerNormalization\n",
        "from keras.initializers import RandomUniform\n",
        "from keras.activations import softmax, relu, tanh\n",
        "\n",
        "# [WriteCode] from ... import ...\n",
        "\n",
        "STATE_SIZE = (4,)\n",
        "ACTION_SIZE = 2\n",
        "LAYER_SIZE = 32\n",
        "SEED = 42\n",
        "\n",
        "# Define the Q-network\n",
        "model = Sequential()\n",
        "\n",
        "# [WriteCode]\n",
        "# model.add(...\n",
        "model.add(Input(shape=STATE_SIZE))\n",
        "'''\n",
        "Add in intermediate layers\n",
        "- Assume 3 layers of 32 nodes each with relu activation\n",
        "'''\n",
        "initializer = RandomUniform(minval=-0.5, maxval=0.5, seed=42)\n",
        "initializer_1 = RandomUniform(minval=-5, maxval=5, seed=42)\n",
        "model.add(Dense(LAYER_SIZE, activation=tanh, kernel_initializer=initializer))\n",
        "model.add(Dense(LAYER_SIZE, activation=tanh, kernel_initializer=initializer_1))\n",
        "model.add(Dense(ACTION_SIZE))\n",
        "\n",
        "# Compile the model\n",
        "# [WriteCode]\n",
        "model.compile(loss='mse', optimizer='adam')\n",
        "\n",
        "# Print the model summary\n",
        "# [WriteCode]\n",
        "model.summary()"
      ]
    },
    {
      "cell_type": "markdown",
      "metadata": {
        "id": "PunGDA41nK-t"
      },
      "source": [
        "## Set Up Env and Train the Policy"
      ]
    },
    {
      "cell_type": "code",
      "execution_count": 26,
      "metadata": {
        "colab": {
          "base_uri": "https://localhost:8080/"
        },
        "id": "-cDAJtaGnCQL",
        "outputId": "44893904-1e3a-47a4-fc50-c078e54e6b65"
      },
      "outputs": [
        {
          "name": "stdout",
          "output_type": "stream",
          "text": [
            "Episode 1/500 | Ep. Total Reward: 17.0 | Epsilon : 0.759 | Eval Rwd Mean: 15.00 | Eval Rwd Var: 0.67\n",
            "Episode 2/500 | Ep. Total Reward: 20.0 | Epsilon : 0.759 | Eval Rwd Mean: 9.00 | Eval Rwd Var: 0.67\n",
            "Episode 3/500 | Ep. Total Reward: 19.0 | Epsilon : 0.759 | Eval Rwd Mean: 13.67 | Eval Rwd Var: 4.22\n",
            "Episode 4/500 | Ep. Total Reward: 60.0 | Epsilon : 0.759 | Eval Rwd Mean: 13.00 | Eval Rwd Var: 18.67\n",
            "Episode 5/500 | Ep. Total Reward: 14.0 | Epsilon : 0.759 | Eval Rwd Mean: 13.33 | Eval Rwd Var: 0.22\n",
            "Episode 6/500 | Ep. Total Reward: 23.0 | Epsilon : 0.759 | Eval Rwd Mean: 18.33 | Eval Rwd Var: 1.56\n",
            "Episode 7/500 | Ep. Total Reward: 17.0 | Epsilon : 0.759 | Eval Rwd Mean: 20.67 | Eval Rwd Var: 4.22\n",
            "Episode 8/500 | Ep. Total Reward: 18.0 | Epsilon : 0.759 | Eval Rwd Mean: 15.00 | Eval Rwd Var: 2.00\n",
            "Episode 9/500 | Ep. Total Reward: 13.0 | Epsilon : 0.759 | Eval Rwd Mean: 20.00 | Eval Rwd Var: 12.67\n",
            "Episode 10/500 | Ep. Total Reward: 40.0 | Epsilon : 0.759 | Eval Rwd Mean: 27.33 | Eval Rwd Var: 17.56\n",
            "Episode 11/500 | Ep. Total Reward: 34.0 | Epsilon : 0.539 | Eval Rwd Mean: 19.33 | Eval Rwd Var: 10.89\n",
            "Episode 12/500 | Ep. Total Reward: 35.0 | Epsilon : 0.539 | Eval Rwd Mean: 10.33 | Eval Rwd Var: 0.22\n",
            "Episode 13/500 | Ep. Total Reward: 12.0 | Epsilon : 0.539 | Eval Rwd Mean: 9.67 | Eval Rwd Var: 1.56\n",
            "Episode 14/500 | Ep. Total Reward: 15.0 | Epsilon : 0.539 | Eval Rwd Mean: 9.00 | Eval Rwd Var: 0.67\n",
            "Episode 15/500 | Ep. Total Reward: 12.0 | Epsilon : 0.539 | Eval Rwd Mean: 8.67 | Eval Rwd Var: 0.22\n",
            "Episode 16/500 | Ep. Total Reward: 12.0 | Epsilon : 0.539 | Eval Rwd Mean: 9.33 | Eval Rwd Var: 0.22\n",
            "Episode 17/500 | Ep. Total Reward: 10.0 | Epsilon : 0.539 | Eval Rwd Mean: 9.33 | Eval Rwd Var: 0.89\n",
            "Episode 18/500 | Ep. Total Reward: 9.0 | Epsilon : 0.539 | Eval Rwd Mean: 9.00 | Eval Rwd Var: 0.00\n",
            "Episode 19/500 | Ep. Total Reward: 35.0 | Epsilon : 0.539 | Eval Rwd Mean: 23.00 | Eval Rwd Var: 4.67\n",
            "Episode 20/500 | Ep. Total Reward: 21.0 | Epsilon : 0.539 | Eval Rwd Mean: 26.67 | Eval Rwd Var: 16.22\n",
            "Episode 21/500 | Ep. Total Reward: 28.0 | Epsilon : 0.407 | Eval Rwd Mean: 18.67 | Eval Rwd Var: 0.22\n",
            "Episode 22/500 | Ep. Total Reward: 23.0 | Epsilon : 0.407 | Eval Rwd Mean: 44.00 | Eval Rwd Var: 392.00\n",
            "Episode 23/500 | Ep. Total Reward: 30.0 | Epsilon : 0.407 | Eval Rwd Mean: 23.33 | Eval Rwd Var: 10.89\n",
            "Episode 24/500 | Ep. Total Reward: 53.0 | Epsilon : 0.407 | Eval Rwd Mean: 26.00 | Eval Rwd Var: 2.67\n",
            "Episode 25/500 | Ep. Total Reward: 62.0 | Epsilon : 0.407 | Eval Rwd Mean: 20.33 | Eval Rwd Var: 11.56\n",
            "Episode 26/500 | Ep. Total Reward: 26.0 | Epsilon : 0.407 | Eval Rwd Mean: 15.33 | Eval Rwd Var: 2.89\n",
            "Episode 27/500 | Ep. Total Reward: 15.0 | Epsilon : 0.407 | Eval Rwd Mean: 25.00 | Eval Rwd Var: 18.67\n",
            "Episode 28/500 | Ep. Total Reward: 18.0 | Epsilon : 0.407 | Eval Rwd Mean: 15.00 | Eval Rwd Var: 2.00\n",
            "Episode 29/500 | Ep. Total Reward: 16.0 | Epsilon : 0.407 | Eval Rwd Mean: 9.00 | Eval Rwd Var: 0.67\n",
            "Episode 30/500 | Ep. Total Reward: 11.0 | Epsilon : 0.407 | Eval Rwd Mean: 12.67 | Eval Rwd Var: 0.22\n",
            "Episode 31/500 | Ep. Total Reward: 21.0 | Epsilon : 0.329 | Eval Rwd Mean: 22.00 | Eval Rwd Var: 8.67\n",
            "Episode 32/500 | Ep. Total Reward: 25.0 | Epsilon : 0.329 | Eval Rwd Mean: 9.33 | Eval Rwd Var: 0.89\n",
            "Episode 33/500 | Ep. Total Reward: 24.0 | Epsilon : 0.329 | Eval Rwd Mean: 12.00 | Eval Rwd Var: 0.67\n",
            "Episode 34/500 | Ep. Total Reward: 15.0 | Epsilon : 0.329 | Eval Rwd Mean: 20.67 | Eval Rwd Var: 0.22\n",
            "Episode 35/500 | Ep. Total Reward: 28.0 | Epsilon : 0.329 | Eval Rwd Mean: 14.00 | Eval Rwd Var: 2.00\n",
            "Episode 36/500 | Ep. Total Reward: 15.0 | Epsilon : 0.329 | Eval Rwd Mean: 31.33 | Eval Rwd Var: 20.22\n",
            "Episode 37/500 | Ep. Total Reward: 43.0 | Epsilon : 0.329 | Eval Rwd Mean: 47.67 | Eval Rwd Var: 256.22\n",
            "Episode 38/500 | Ep. Total Reward: 24.0 | Epsilon : 0.329 | Eval Rwd Mean: 51.67 | Eval Rwd Var: 941.56\n",
            "Episode 39/500 | Ep. Total Reward: 38.0 | Epsilon : 0.329 | Eval Rwd Mean: 65.67 | Eval Rwd Var: 33.56\n",
            "Episode 40/500 | Ep. Total Reward: 36.0 | Epsilon : 0.329 | Eval Rwd Mean: 15.33 | Eval Rwd Var: 2.89\n",
            "Episode 41/500 | Ep. Total Reward: 14.0 | Epsilon : 0.286 | Eval Rwd Mean: 9.33 | Eval Rwd Var: 0.89\n",
            "Episode 42/500 | Ep. Total Reward: 12.0 | Epsilon : 0.286 | Eval Rwd Mean: 16.33 | Eval Rwd Var: 1.56\n",
            "Episode 43/500 | Ep. Total Reward: 22.0 | Epsilon : 0.286 | Eval Rwd Mean: 16.67 | Eval Rwd Var: 6.89\n",
            "Episode 44/500 | Ep. Total Reward: 19.0 | Epsilon : 0.286 | Eval Rwd Mean: 15.67 | Eval Rwd Var: 1.56\n",
            "Episode 45/500 | Ep. Total Reward: 21.0 | Epsilon : 0.286 | Eval Rwd Mean: 33.00 | Eval Rwd Var: 4.67\n",
            "Episode 46/500 | Ep. Total Reward: 45.0 | Epsilon : 0.286 | Eval Rwd Mean: 14.00 | Eval Rwd Var: 2.67\n",
            "Episode 47/500 | Ep. Total Reward: 18.0 | Epsilon : 0.286 | Eval Rwd Mean: 9.33 | Eval Rwd Var: 0.22\n",
            "Episode 48/500 | Ep. Total Reward: 12.0 | Epsilon : 0.286 | Eval Rwd Mean: 17.00 | Eval Rwd Var: 2.67\n",
            "Episode 49/500 | Ep. Total Reward: 14.0 | Epsilon : 0.286 | Eval Rwd Mean: 8.67 | Eval Rwd Var: 0.22\n",
            "Episode 50/500 | Ep. Total Reward: 10.0 | Epsilon : 0.286 | Eval Rwd Mean: 16.33 | Eval Rwd Var: 1.56\n",
            "Episode 51/500 | Ep. Total Reward: 22.0 | Epsilon : 0.229 | Eval Rwd Mean: 34.00 | Eval Rwd Var: 60.67\n",
            "Episode 52/500 | Ep. Total Reward: 33.0 | Epsilon : 0.229 | Eval Rwd Mean: 50.33 | Eval Rwd Var: 21.56\n",
            "Episode 53/500 | Ep. Total Reward: 31.0 | Epsilon : 0.229 | Eval Rwd Mean: 27.33 | Eval Rwd Var: 24.89\n",
            "Episode 54/500 | Ep. Total Reward: 20.0 | Epsilon : 0.229 | Eval Rwd Mean: 9.33 | Eval Rwd Var: 0.89\n",
            "Episode 55/500 | Ep. Total Reward: 32.0 | Epsilon : 0.229 | Eval Rwd Mean: 9.67 | Eval Rwd Var: 0.22\n",
            "Episode 56/500 | Ep. Total Reward: 16.0 | Epsilon : 0.229 | Eval Rwd Mean: 9.67 | Eval Rwd Var: 0.22\n",
            "Episode 57/500 | Ep. Total Reward: 27.0 | Epsilon : 0.229 | Eval Rwd Mean: 89.00 | Eval Rwd Var: 1568.67\n",
            "Episode 58/500 | Ep. Total Reward: 34.0 | Epsilon : 0.229 | Eval Rwd Mean: 35.00 | Eval Rwd Var: 18.00\n",
            "Episode 59/500 | Ep. Total Reward: 25.0 | Epsilon : 0.229 | Eval Rwd Mean: 21.33 | Eval Rwd Var: 0.22\n",
            "Episode 60/500 | Ep. Total Reward: 25.0 | Epsilon : 0.229 | Eval Rwd Mean: 12.67 | Eval Rwd Var: 5.56\n",
            "Episode 61/500 | Ep. Total Reward: 11.0 | Epsilon : 0.205 | Eval Rwd Mean: 18.67 | Eval Rwd Var: 9.56\n",
            "Episode 62/500 | Ep. Total Reward: 26.0 | Epsilon : 0.205 | Eval Rwd Mean: 53.33 | Eval Rwd Var: 155.56\n",
            "Episode 63/500 | Ep. Total Reward: 46.0 | Epsilon : 0.205 | Eval Rwd Mean: 27.33 | Eval Rwd Var: 38.22\n",
            "Episode 64/500 | Ep. Total Reward: 39.0 | Epsilon : 0.205 | Eval Rwd Mean: 41.67 | Eval Rwd Var: 324.22\n",
            "Episode 65/500 | Ep. Total Reward: 43.0 | Epsilon : 0.205 | Eval Rwd Mean: 37.33 | Eval Rwd Var: 14.22\n",
            "Episode 66/500 | Ep. Total Reward: 22.0 | Epsilon : 0.205 | Eval Rwd Mean: 28.00 | Eval Rwd Var: 8.00\n",
            "Episode 67/500 | Ep. Total Reward: 16.0 | Epsilon : 0.205 | Eval Rwd Mean: 14.67 | Eval Rwd Var: 0.89\n",
            "Episode 68/500 | Ep. Total Reward: 14.0 | Epsilon : 0.205 | Eval Rwd Mean: 26.00 | Eval Rwd Var: 44.67\n",
            "Episode 69/500 | Ep. Total Reward: 38.0 | Epsilon : 0.205 | Eval Rwd Mean: 39.33 | Eval Rwd Var: 48.22\n",
            "Episode 70/500 | Ep. Total Reward: 36.0 | Epsilon : 0.205 | Eval Rwd Mean: 50.67 | Eval Rwd Var: 56.89\n",
            "Episode 71/500 | Ep. Total Reward: 60.0 | Epsilon : 0.112 | Eval Rwd Mean: 28.00 | Eval Rwd Var: 2.00\n",
            "Episode 72/500 | Ep. Total Reward: 17.0 | Epsilon : 0.112 | Eval Rwd Mean: 14.33 | Eval Rwd Var: 0.22\n",
            "Episode 73/500 | Ep. Total Reward: 15.0 | Epsilon : 0.112 | Eval Rwd Mean: 31.33 | Eval Rwd Var: 10.89\n",
            "Episode 74/500 | Ep. Total Reward: 16.0 | Epsilon : 0.112 | Eval Rwd Mean: 17.00 | Eval Rwd Var: 0.67\n",
            "Episode 75/500 | Ep. Total Reward: 18.0 | Epsilon : 0.112 | Eval Rwd Mean: 10.00 | Eval Rwd Var: 2.00\n",
            "Episode 76/500 | Ep. Total Reward: 11.0 | Epsilon : 0.112 | Eval Rwd Mean: 9.67 | Eval Rwd Var: 0.22\n",
            "Episode 77/500 | Ep. Total Reward: 8.0 | Epsilon : 0.112 | Eval Rwd Mean: 10.33 | Eval Rwd Var: 0.89\n",
            "Episode 78/500 | Ep. Total Reward: 10.0 | Epsilon : 0.112 | Eval Rwd Mean: 11.67 | Eval Rwd Var: 0.89\n",
            "Episode 79/500 | Ep. Total Reward: 21.0 | Epsilon : 0.112 | Eval Rwd Mean: 16.67 | Eval Rwd Var: 1.56\n",
            "Episode 80/500 | Ep. Total Reward: 14.0 | Epsilon : 0.112 | Eval Rwd Mean: 10.33 | Eval Rwd Var: 0.22\n",
            "Episode 81/500 | Ep. Total Reward: 13.0 | Epsilon : 0.100 | Eval Rwd Mean: 9.67 | Eval Rwd Var: 0.22\n",
            "Episode 82/500 | Ep. Total Reward: 8.0 | Epsilon : 0.100 | Eval Rwd Mean: 10.00 | Eval Rwd Var: 0.67\n",
            "Episode 83/500 | Ep. Total Reward: 10.0 | Epsilon : 0.100 | Eval Rwd Mean: 9.00 | Eval Rwd Var: 0.67\n",
            "Episode 84/500 | Ep. Total Reward: 9.0 | Epsilon : 0.100 | Eval Rwd Mean: 18.00 | Eval Rwd Var: 6.00\n",
            "Episode 85/500 | Ep. Total Reward: 8.0 | Epsilon : 0.100 | Eval Rwd Mean: 19.67 | Eval Rwd Var: 9.56\n",
            "Episode 86/500 | Ep. Total Reward: 33.0 | Epsilon : 0.100 | Eval Rwd Mean: 9.67 | Eval Rwd Var: 0.22\n",
            "Episode 87/500 | Ep. Total Reward: 10.0 | Epsilon : 0.100 | Eval Rwd Mean: 13.33 | Eval Rwd Var: 10.89\n",
            "Episode 88/500 | Ep. Total Reward: 24.0 | Epsilon : 0.100 | Eval Rwd Mean: 24.67 | Eval Rwd Var: 10.89\n",
            "Episode 89/500 | Ep. Total Reward: 42.0 | Epsilon : 0.100 | Eval Rwd Mean: 42.67 | Eval Rwd Var: 5.56\n",
            "Episode 90/500 | Ep. Total Reward: 76.0 | Epsilon : 0.100 | Eval Rwd Mean: 43.67 | Eval Rwd Var: 61.56\n",
            "Episode 91/500 | Ep. Total Reward: 60.0 | Epsilon : 0.100 | Eval Rwd Mean: 49.00 | Eval Rwd Var: 186.00\n",
            "Episode 92/500 | Ep. Total Reward: 34.0 | Epsilon : 0.100 | Eval Rwd Mean: 30.33 | Eval Rwd Var: 20.22\n",
            "Episode 93/500 | Ep. Total Reward: 112.0 | Epsilon : 0.100 | Eval Rwd Mean: 33.67 | Eval Rwd Var: 0.22\n",
            "Episode 94/500 | Ep. Total Reward: 61.0 | Epsilon : 0.100 | Eval Rwd Mean: 34.67 | Eval Rwd Var: 2.89\n",
            "Episode 95/500 | Ep. Total Reward: 37.0 | Epsilon : 0.100 | Eval Rwd Mean: 42.00 | Eval Rwd Var: 18.67\n",
            "Episode 96/500 | Ep. Total Reward: 95.0 | Epsilon : 0.100 | Eval Rwd Mean: 59.00 | Eval Rwd Var: 228.67\n",
            "Episode 97/500 | Ep. Total Reward: 58.0 | Epsilon : 0.100 | Eval Rwd Mean: 65.33 | Eval Rwd Var: 171.56\n",
            "Episode 98/500 | Ep. Total Reward: 74.0 | Epsilon : 0.100 | Eval Rwd Mean: 32.67 | Eval Rwd Var: 54.89\n",
            "Episode 99/500 | Ep. Total Reward: 136.0 | Epsilon : 0.100 | Eval Rwd Mean: 52.67 | Eval Rwd Var: 10.89\n",
            "Episode 100/500 | Ep. Total Reward: 48.0 | Epsilon : 0.100 | Eval Rwd Mean: 106.67 | Eval Rwd Var: 5070.89\n",
            "Episode 101/500 | Ep. Total Reward: 144.0 | Epsilon : 0.100 | Eval Rwd Mean: 35.67 | Eval Rwd Var: 24.89\n",
            "Episode 102/500 | Ep. Total Reward: 44.0 | Epsilon : 0.100 | Eval Rwd Mean: 263.00 | Eval Rwd Var: 28244.67\n",
            "Episode 103/500 | Ep. Total Reward: 111.0 | Epsilon : 0.100 | Eval Rwd Mean: 109.67 | Eval Rwd Var: 72.22\n",
            "Episode 104/500 | Ep. Total Reward: 90.0 | Epsilon : 0.100 | Eval Rwd Mean: 36.00 | Eval Rwd Var: 8.67\n",
            "Episode 105/500 | Ep. Total Reward: 44.0 | Epsilon : 0.100 | Eval Rwd Mean: 132.67 | Eval Rwd Var: 118.22\n",
            "Episode 106/500 | Ep. Total Reward: 94.0 | Epsilon : 0.100 | Eval Rwd Mean: 32.00 | Eval Rwd Var: 2.67\n",
            "Episode 107/500 | Ep. Total Reward: 37.0 | Epsilon : 0.100 | Eval Rwd Mean: 27.33 | Eval Rwd Var: 1.56\n",
            "Episode 108/500 | Ep. Total Reward: 47.0 | Epsilon : 0.100 | Eval Rwd Mean: 50.33 | Eval Rwd Var: 396.22\n",
            "Episode 109/500 | Ep. Total Reward: 98.0 | Epsilon : 0.100 | Eval Rwd Mean: 26.00 | Eval Rwd Var: 2.67\n",
            "Episode 110/500 | Ep. Total Reward: 25.0 | Epsilon : 0.100 | Eval Rwd Mean: 67.33 | Eval Rwd Var: 54.89\n",
            "Episode 111/500 | Ep. Total Reward: 67.0 | Epsilon : 0.100 | Eval Rwd Mean: 43.67 | Eval Rwd Var: 22.22\n",
            "Episode 112/500 | Ep. Total Reward: 81.0 | Epsilon : 0.100 | Eval Rwd Mean: 129.67 | Eval Rwd Var: 16.89\n",
            "Episode 113/500 | Ep. Total Reward: 98.0 | Epsilon : 0.100 | Eval Rwd Mean: 120.67 | Eval Rwd Var: 124.22\n",
            "Episode 114/500 | Ep. Total Reward: 91.0 | Epsilon : 0.100 | Eval Rwd Mean: 61.00 | Eval Rwd Var: 32.67\n",
            "Episode 115/500 | Ep. Total Reward: 72.0 | Epsilon : 0.100 | Eval Rwd Mean: 75.67 | Eval Rwd Var: 29.56\n",
            "Episode 116/500 | Ep. Total Reward: 88.0 | Epsilon : 0.100 | Eval Rwd Mean: 78.67 | Eval Rwd Var: 91.56\n",
            "Episode 117/500 | Ep. Total Reward: 118.0 | Epsilon : 0.100 | Eval Rwd Mean: 152.33 | Eval Rwd Var: 24.22\n",
            "Episode 118/500 | Ep. Total Reward: 139.0 | Epsilon : 0.100 | Eval Rwd Mean: 20.67 | Eval Rwd Var: 11.56\n",
            "Episode 119/500 | Ep. Total Reward: 20.0 | Epsilon : 0.100 | Eval Rwd Mean: 16.33 | Eval Rwd Var: 5.56\n",
            "Episode 120/500 | Ep. Total Reward: 18.0 | Epsilon : 0.100 | Eval Rwd Mean: 10.67 | Eval Rwd Var: 1.56\n",
            "Episode 121/500 | Ep. Total Reward: 22.0 | Epsilon : 0.100 | Eval Rwd Mean: 10.67 | Eval Rwd Var: 1.56\n",
            "Episode 122/500 | Ep. Total Reward: 22.0 | Epsilon : 0.100 | Eval Rwd Mean: 19.00 | Eval Rwd Var: 4.67\n",
            "Episode 123/500 | Ep. Total Reward: 25.0 | Epsilon : 0.100 | Eval Rwd Mean: 18.33 | Eval Rwd Var: 2.89\n",
            "Episode 124/500 | Ep. Total Reward: 97.0 | Epsilon : 0.100 | Eval Rwd Mean: 162.00 | Eval Rwd Var: 322.67\n",
            "Episode 125/500 | Ep. Total Reward: 212.0 | Epsilon : 0.100 | Eval Rwd Mean: 159.33 | Eval Rwd Var: 16.89\n",
            "Episode 126/500 | Ep. Total Reward: 196.0 | Epsilon : 0.100 | Eval Rwd Mean: 255.67 | Eval Rwd Var: 2510.89\n",
            "Episode 127/500 | Ep. Total Reward: 228.0 | Epsilon : 0.100 | Eval Rwd Mean: 500.00 | Eval Rwd Var: 0.00\n",
            "Early stopping triggered at Episode 127.\n",
            "Training time: 42.0976 seconds per episode\n"
          ]
        }
      ],
      "source": [
        "# For logging\n",
        "train_reward_lst = []\n",
        "eval_reward_mean_lst = []\n",
        "eval_reward_var_lst = []\n",
        "\n",
        "\n",
        "# Set up environment\n",
        "env = gym.make(\"CartPole-v1\")\n",
        "state_size = env.observation_space.shape[0] # Number of observations (CartPole)\n",
        "action_size = env.action_space.n            # Number of possible actions\n",
        "\n",
        "model_dir = \"q_net_baseline\"  # TensorBoard log directory\n",
        "cb = keras.callbacks.TensorBoard(log_dir = get_run_logdir(model_dir), histogram_freq=1)\n",
        "\n",
        "# For timing training\n",
        "total_training_time = 0\n",
        "\n",
        "for ep in range(episode):\n",
        "    state, _ = env.reset()\n",
        "    state = np.reshape(state, [1, state_size])\n",
        "    total_reward = 0\n",
        "\n",
        "    # record start time\n",
        "    start = time.time()\n",
        "\n",
        "    for _ in range(500):\n",
        "        # Interact with the environment with epsilon-greedy policy\n",
        "        if np.random.rand() <= epsilon:\n",
        "            action = np.random.choice(action_size)\n",
        "        else:\n",
        "            q_values = model.predict(state, verbose=0)\n",
        "            action = np.argmax(q_values)\n",
        "\n",
        "        next_state, reward, terminated, truncated, _ = env.step(action)\n",
        "        next_state = np.reshape(next_state, [1, state_size])\n",
        "\n",
        "        done = terminated or truncated\n",
        "\n",
        "        # Train model using Q-Learning update:  Q(s, a) = r + gamma * max Q(s', a')\n",
        "        # [WriteCode]\n",
        "        q_base = model.predict(state, verbose=0)\n",
        "        q_1_base = model.predict(next_state, verbose=0)\n",
        "        if done:\n",
        "          q_target = reward\n",
        "        else:\n",
        "          q_target = reward + gamma * np.max(q_1_base)\n",
        "\n",
        "        # print(\n",
        "        #     f'''\n",
        "        #     Action Taken: {action}\n",
        "        #     Current State: {state}\n",
        "        #     Next State: {next_state}\n",
        "        #     Total Reward: {total_reward}\n",
        "        #     Reward: {reward}\n",
        "        #     Is terminated: {terminated}\n",
        "        #     Q Values: {model.predict(state, verbose=0)}\n",
        "        #     Q Target: {q_target}\n",
        "        #     Q change: {q_target - q_base[0][action]}\n",
        "        #     '''\n",
        "        # )\n",
        "\n",
        "        q_feed = q_base.copy()\n",
        "        q_feed[0][action] = q_feed[0][action] + lr * (q_target - q_feed[0][action])\n",
        "        model.fit(state, q_feed, epochs=epoch, verbose=0, batch_size=ba, callbacks=[cb])\n",
        "        # Hints:\n",
        "\n",
        "        # 1. Compute target Q-values:\n",
        "        # - If done, Q-target = reward (no future reward)\n",
        "        # - Otherwise, Q-target = reward + gamma * max(Q(next_state, a))\n",
        "\n",
        "        # 2. Predict current Q-values for state\n",
        "        # Update only the Q-value for the taken action\n",
        "\n",
        "        # new_q_val = current_q_val + lr * (q_target - current_q_val)\n",
        "        # print(new_q_val)\n",
        "        # 3. Fit the model:\n",
        "        # - Inputs: state\n",
        "        # - Targets: updated Q-values (with action Q-value replaced by computed target)\n",
        "        # model.fit(state, new_q_val, epochs=epoch, verbose=0, batch_size=ba)\n",
        "\n",
        "\n",
        "        # Update exploration rate\n",
        "        if epsilon > epsilon_min and ep % 10 == 0:\n",
        "            epsilon *= epsilon_decay\n",
        "\n",
        "        state = next_state\n",
        "        total_reward += reward\n",
        "\n",
        "        if done:\n",
        "            break\n",
        "\n",
        "    # record end time and log training time\n",
        "    end = time.time()\n",
        "    total_training_time += end - start\n",
        "\n",
        "    # Evaluation\n",
        "    # [WriteCode]\n",
        "    eval_reward_mean, eval_reward_var = evaluation(model)\n",
        "\n",
        "    print(f\"Episode {ep + 1}/{episode} | Ep. Total Reward: {total_reward}\"\n",
        "        f\" | Epsilon : {epsilon:.3f}\"\n",
        "        f\" | Eval Rwd Mean: {eval_reward_mean:.2f}\"\n",
        "        f\" | Eval Rwd Var: {eval_reward_var:.2f}\")\n",
        "\n",
        "    # Log\n",
        "    eval_reward_mean_lst.append(eval_reward_mean)\n",
        "    eval_reward_var_lst.append(eval_reward_var)\n",
        "    train_reward_lst.append(total_reward)\n",
        "\n",
        "    # Early Stopping Condition to avoid overfitting\n",
        "    # If the evaluation reward reaches the specified threshold, stop training early.\n",
        "    # The default threshold is set to 500, but you should adjust this based on observed training performance.\n",
        "    if eval_reward_mean >= 450 and eval_reward_var <= 50 ** 2: # [Modify this threshold as needed]\n",
        "        print(f\"Early stopping triggered at Episode {ep + 1}.\")\n",
        "        break\n",
        "\n",
        "# evaluate average training time per episode\n",
        "print(f\"Training time: {total_training_time/(ep + 1):.4f} seconds per episode\")\n",
        "\n",
        "env.close()\n"
      ]
    },
    {
      "cell_type": "markdown",
      "metadata": {
        "id": "qZ86BPQR3AhY"
      },
      "source": [
        "## Plot Results"
      ]
    },
    {
      "cell_type": "code",
      "execution_count": 27,
      "metadata": {},
      "outputs": [
        {
          "data": {
            "text/html": [
              "\n",
              "      <iframe id=\"tensorboard-frame-3b466e988969be8a\" width=\"100%\" height=\"800\" frameborder=\"0\">\n",
              "      </iframe>\n",
              "      <script>\n",
              "        (function() {\n",
              "          const frame = document.getElementById(\"tensorboard-frame-3b466e988969be8a\");\n",
              "          const url = new URL(\"/\", window.location);\n",
              "          const port = 6006;\n",
              "          if (port) {\n",
              "            url.port = port;\n",
              "          }\n",
              "          frame.src = url;\n",
              "        })();\n",
              "      </script>\n",
              "    "
            ],
            "text/plain": [
              "<IPython.core.display.HTML object>"
            ]
          },
          "metadata": {},
          "output_type": "display_data"
        }
      ],
      "source": [
        "%tensorboard --logdir ee4802_logs/q_net_baseline"
      ]
    },
    {
      "cell_type": "code",
      "execution_count": 28,
      "metadata": {
        "colab": {
          "base_uri": "https://localhost:8080/",
          "height": 1000
        },
        "id": "It8u9fyj3AL5",
        "outputId": "67009d69-50fc-4673-9d5e-2bbea09580b2"
      },
      "outputs": [
        {
          "data": {
            "image/png": "[encoded data removed]",
            "text/plain": [
              "<Figure size 640x480 with 1 Axes>"
            ]
          },
          "metadata": {},
          "output_type": "display_data"
        },
        {
          "data": {
            "image/png": "[encoded data removed]",
            "text/plain": [
              "<Figure size 640x480 with 1 Axes>"
            ]
          },
          "metadata": {},
          "output_type": "display_data"
        },
        {
          "data": {
            "image/png": "[encoded data removed]",
            "text/plain": [
              "<Figure size 640x480 with 1 Axes>"
            ]
          },
          "metadata": {},
          "output_type": "display_data"
        }
      ],
      "source": [
        "# Write code to plot\n",
        "# 1) Moving Averaged Training Reward, 2) Evaluation Mean, 3) Evaluation Variance\n",
        "# [Write Code]\n",
        "\n",
        "plot_smoothed_training_rwd(eval_reward_mean_lst)\n",
        "\n",
        "plot_eval_rwd_mean(eval_reward_mean_lst)\n",
        "\n",
        "plot_eval_rwd_var(eval_reward_var_lst)"
      ]
    },
    {
      "cell_type": "markdown",
      "metadata": {
        "id": "uSlOTDlpm78g"
      },
      "source": [
        "#Q-Network - Alternative"
      ]
    },
    {
      "cell_type": "code",
      "execution_count": 29,
      "metadata": {},
      "outputs": [],
      "source": [
        "# Use the following set of NN hyperparameters for ALL FOUR basline policies\n",
        "lr =  0.01        #@param {type:\"number\"}               # learning rate\n",
        "epoch =  32     #@param {type:\"number\"}               # epochs\n",
        "episode = 500  #@param {type:\"number\"}               # episodes\n",
        "\n",
        "epsilon = 0.9           #@param {type:\"number\"}     # Starting exploration rate\n",
        "epsilon_min = 0.1    #@param {type:\"number\"}     # Exploration rate min\n",
        "epsilon_decay = 0.995     #@param {type:\"number\"}     # Exploration rate decay\n",
        "\n",
        "gamma = 0.99          #@param {type:\"number\"}     # Agent discount factor\n",
        "\n",
        "# Use the following set of NN hyperparameters for Naive DQN, DQN and DDQN policies\n",
        "ba =  32       #@param {type:\"number\"}               # batch_size\n",
        "\n",
        "# Use the following set of RL hyperparameters for DQN and DDQN policies\n",
        "target_update_freq = 0.05 # @param {type:\"number\"}    # Target network update frequency\n"
      ]
    },
    {
      "cell_type": "code",
      "execution_count": 30,
      "metadata": {
        "colab": {
          "base_uri": "https://localhost:8080/",
          "height": 306
        },
        "id": "c9zO7SZssiaR",
        "outputId": "847b4588-ecf0-480e-b124-8e0beb4b26ec"
      },
      "outputs": [
        {
          "name": "stdout",
          "output_type": "stream",
          "text": [
            "Model: \"sequential_1\"\n",
            "_________________________________________________________________\n",
            " Layer (type)                Output Shape              Param #   \n",
            "=================================================================\n",
            " dense_3 (Dense)             (None, 32)                160       \n",
            "                                                                 \n",
            " dense_4 (Dense)             (None, 32)                1056      \n",
            "                                                                 \n",
            " dense_5 (Dense)             (None, 2)                 66        \n",
            "                                                                 \n",
            "=================================================================\n",
            "Total params: 1,282\n",
            "Trainable params: 1,282\n",
            "Non-trainable params: 0\n",
            "_________________________________________________________________\n"
          ]
        }
      ],
      "source": [
        "from keras.models import Sequential\n",
        "from keras.layers import Input, Dense, LayerNormalization\n",
        "from keras.initializers import RandomUniform\n",
        "from keras.activations import softmax, relu, tanh\n",
        "\n",
        "STATE_SIZE = (4,)\n",
        "ACTION_SIZE = 2\n",
        "LAYER_SIZE = 32\n",
        "SEED = 42\n",
        "\n",
        "# Define the Q-network\n",
        "alt_model = Sequential()\n",
        "\n",
        "# [WriteCode]\n",
        "# model.add(...\n",
        "alt_model.add(Input(shape=STATE_SIZE))\n",
        "'''\n",
        "Add in intermediate layers\n",
        "- Assume 3 layers of 32 nodes each with relu activation\n",
        "'''\n",
        "initializer = RandomUniform(minval=-0.5, maxval=0.5, seed=42)\n",
        "initializer_1 = RandomUniform(minval=-5, maxval=5, seed=42)\n",
        "\n",
        "alt_model.add(Dense(LAYER_SIZE, activation=tanh, kernel_initializer=initializer))\n",
        "alt_model.add(Dense(LAYER_SIZE, activation=tanh, kernel_initializer=initializer_1))\n",
        "alt_model.add(Dense(ACTION_SIZE))\n",
        "\n",
        "# Compile the model\n",
        "# [WriteCode]\n",
        "alt_model.compile(loss='mse', optimizer='adam')\n",
        "\n",
        "# Print the model summary\n",
        "# [WriteCode]\n",
        "alt_model.summary()"
      ]
    },
    {
      "cell_type": "code",
      "execution_count": 31,
      "metadata": {
        "colab": {
          "base_uri": "https://localhost:8080/"
        },
        "id": "L_M_IusJMwwo",
        "outputId": "515454d6-3f22-49c8-d43b-236587dde34d"
      },
      "outputs": [
        {
          "name": "stdout",
          "output_type": "stream",
          "text": [
            "Episode 1/500 | Ep. Total Reward: 35.0 | Epsilon : 0.755 | Eval Rwd Mean: 39.00 | Eval Rwd Var: 88.67\n",
            "Episode 2/500 | Ep. Total Reward: 54.0 | Epsilon : 0.755 | Eval Rwd Mean: 24.33 | Eval Rwd Var: 2.89\n",
            "Episode 3/500 | Ep. Total Reward: 35.0 | Epsilon : 0.755 | Eval Rwd Mean: 36.00 | Eval Rwd Var: 18.67\n",
            "Episode 4/500 | Ep. Total Reward: 32.0 | Epsilon : 0.755 | Eval Rwd Mean: 52.67 | Eval Rwd Var: 281.56\n",
            "Episode 5/500 | Ep. Total Reward: 39.0 | Epsilon : 0.755 | Eval Rwd Mean: 31.67 | Eval Rwd Var: 28.22\n",
            "Episode 6/500 | Ep. Total Reward: 86.0 | Epsilon : 0.755 | Eval Rwd Mean: 38.00 | Eval Rwd Var: 18.00\n",
            "Episode 7/500 | Ep. Total Reward: 17.0 | Epsilon : 0.755 | Eval Rwd Mean: 34.67 | Eval Rwd Var: 20.22\n",
            "Episode 8/500 | Ep. Total Reward: 27.0 | Epsilon : 0.755 | Eval Rwd Mean: 27.67 | Eval Rwd Var: 10.89\n",
            "Episode 9/500 | Ep. Total Reward: 35.0 | Epsilon : 0.755 | Eval Rwd Mean: 35.67 | Eval Rwd Var: 76.22\n",
            "Episode 10/500 | Ep. Total Reward: 13.0 | Epsilon : 0.755 | Eval Rwd Mean: 29.67 | Eval Rwd Var: 21.56\n",
            "Episode 11/500 | Ep. Total Reward: 45.0 | Epsilon : 0.603 | Eval Rwd Mean: 29.67 | Eval Rwd Var: 76.22\n",
            "Episode 12/500 | Ep. Total Reward: 24.0 | Epsilon : 0.603 | Eval Rwd Mean: 26.33 | Eval Rwd Var: 17.56\n",
            "Episode 13/500 | Ep. Total Reward: 23.0 | Epsilon : 0.603 | Eval Rwd Mean: 38.33 | Eval Rwd Var: 43.56\n",
            "Episode 14/500 | Ep. Total Reward: 34.0 | Epsilon : 0.603 | Eval Rwd Mean: 44.00 | Eval Rwd Var: 180.67\n",
            "Episode 15/500 | Ep. Total Reward: 34.0 | Epsilon : 0.603 | Eval Rwd Mean: 39.67 | Eval Rwd Var: 140.22\n",
            "Episode 16/500 | Ep. Total Reward: 23.0 | Epsilon : 0.603 | Eval Rwd Mean: 37.67 | Eval Rwd Var: 142.89\n",
            "Episode 17/500 | Ep. Total Reward: 37.0 | Epsilon : 0.603 | Eval Rwd Mean: 36.33 | Eval Rwd Var: 74.89\n",
            "Episode 18/500 | Ep. Total Reward: 19.0 | Epsilon : 0.603 | Eval Rwd Mean: 42.33 | Eval Rwd Var: 20.22\n",
            "Episode 19/500 | Ep. Total Reward: 28.0 | Epsilon : 0.603 | Eval Rwd Mean: 31.33 | Eval Rwd Var: 54.89\n",
            "Episode 20/500 | Ep. Total Reward: 11.0 | Epsilon : 0.603 | Eval Rwd Mean: 33.33 | Eval Rwd Var: 153.56\n",
            "Episode 21/500 | Ep. Total Reward: 30.0 | Epsilon : 0.519 | Eval Rwd Mean: 39.00 | Eval Rwd Var: 220.67\n",
            "Episode 22/500 | Ep. Total Reward: 39.0 | Epsilon : 0.519 | Eval Rwd Mean: 20.00 | Eval Rwd Var: 8.00\n",
            "Episode 23/500 | Ep. Total Reward: 50.0 | Epsilon : 0.519 | Eval Rwd Mean: 24.33 | Eval Rwd Var: 1.56\n",
            "Episode 24/500 | Ep. Total Reward: 22.0 | Epsilon : 0.519 | Eval Rwd Mean: 35.00 | Eval Rwd Var: 148.67\n",
            "Episode 25/500 | Ep. Total Reward: 44.0 | Epsilon : 0.519 | Eval Rwd Mean: 53.33 | Eval Rwd Var: 713.56\n",
            "Episode 26/500 | Ep. Total Reward: 71.0 | Epsilon : 0.519 | Eval Rwd Mean: 54.00 | Eval Rwd Var: 494.00\n",
            "Episode 27/500 | Ep. Total Reward: 35.0 | Epsilon : 0.519 | Eval Rwd Mean: 32.67 | Eval Rwd Var: 14.22\n",
            "Episode 28/500 | Ep. Total Reward: 36.0 | Epsilon : 0.519 | Eval Rwd Mean: 51.00 | Eval Rwd Var: 1460.67\n",
            "Episode 29/500 | Ep. Total Reward: 25.0 | Epsilon : 0.519 | Eval Rwd Mean: 25.33 | Eval Rwd Var: 8.22\n",
            "Episode 30/500 | Ep. Total Reward: 31.0 | Epsilon : 0.519 | Eval Rwd Mean: 27.00 | Eval Rwd Var: 18.67\n",
            "Episode 31/500 | Ep. Total Reward: 22.0 | Epsilon : 0.464 | Eval Rwd Mean: 24.00 | Eval Rwd Var: 4.67\n",
            "Episode 32/500 | Ep. Total Reward: 37.0 | Epsilon : 0.464 | Eval Rwd Mean: 29.33 | Eval Rwd Var: 10.89\n",
            "Episode 33/500 | Ep. Total Reward: 30.0 | Epsilon : 0.464 | Eval Rwd Mean: 29.00 | Eval Rwd Var: 12.67\n",
            "Episode 34/500 | Ep. Total Reward: 19.0 | Epsilon : 0.464 | Eval Rwd Mean: 27.67 | Eval Rwd Var: 57.56\n",
            "Episode 35/500 | Ep. Total Reward: 15.0 | Epsilon : 0.464 | Eval Rwd Mean: 27.67 | Eval Rwd Var: 66.89\n",
            "Episode 36/500 | Ep. Total Reward: 21.0 | Epsilon : 0.464 | Eval Rwd Mean: 29.33 | Eval Rwd Var: 82.89\n",
            "Episode 37/500 | Ep. Total Reward: 22.0 | Epsilon : 0.464 | Eval Rwd Mean: 25.00 | Eval Rwd Var: 18.00\n",
            "Episode 38/500 | Ep. Total Reward: 29.0 | Epsilon : 0.464 | Eval Rwd Mean: 26.33 | Eval Rwd Var: 54.89\n",
            "Episode 39/500 | Ep. Total Reward: 31.0 | Epsilon : 0.464 | Eval Rwd Mean: 28.33 | Eval Rwd Var: 27.56\n",
            "Episode 40/500 | Ep. Total Reward: 28.0 | Epsilon : 0.464 | Eval Rwd Mean: 27.33 | Eval Rwd Var: 0.22\n",
            "Episode 41/500 | Ep. Total Reward: 16.0 | Epsilon : 0.429 | Eval Rwd Mean: 19.67 | Eval Rwd Var: 3.56\n",
            "Episode 42/500 | Ep. Total Reward: 20.0 | Epsilon : 0.429 | Eval Rwd Mean: 24.67 | Eval Rwd Var: 33.56\n",
            "Episode 43/500 | Ep. Total Reward: 19.0 | Epsilon : 0.429 | Eval Rwd Mean: 24.33 | Eval Rwd Var: 61.56\n",
            "Episode 44/500 | Ep. Total Reward: 25.0 | Epsilon : 0.429 | Eval Rwd Mean: 22.67 | Eval Rwd Var: 57.56\n",
            "Episode 45/500 | Ep. Total Reward: 20.0 | Epsilon : 0.429 | Eval Rwd Mean: 27.67 | Eval Rwd Var: 30.89\n",
            "Episode 46/500 | Ep. Total Reward: 13.0 | Epsilon : 0.429 | Eval Rwd Mean: 21.00 | Eval Rwd Var: 18.00\n",
            "Episode 47/500 | Ep. Total Reward: 26.0 | Epsilon : 0.429 | Eval Rwd Mean: 22.33 | Eval Rwd Var: 24.22\n",
            "Episode 48/500 | Ep. Total Reward: 22.0 | Epsilon : 0.429 | Eval Rwd Mean: 21.00 | Eval Rwd Var: 6.00\n",
            "Episode 49/500 | Ep. Total Reward: 21.0 | Epsilon : 0.429 | Eval Rwd Mean: 20.33 | Eval Rwd Var: 0.89\n",
            "Episode 50/500 | Ep. Total Reward: 10.0 | Epsilon : 0.429 | Eval Rwd Mean: 20.67 | Eval Rwd Var: 14.22\n",
            "Episode 51/500 | Ep. Total Reward: 26.0 | Epsilon : 0.376 | Eval Rwd Mean: 22.33 | Eval Rwd Var: 20.22\n",
            "Episode 52/500 | Ep. Total Reward: 24.0 | Epsilon : 0.376 | Eval Rwd Mean: 24.67 | Eval Rwd Var: 2.89\n",
            "Episode 53/500 | Ep. Total Reward: 20.0 | Epsilon : 0.376 | Eval Rwd Mean: 22.67 | Eval Rwd Var: 11.56\n",
            "Episode 54/500 | Ep. Total Reward: 24.0 | Epsilon : 0.376 | Eval Rwd Mean: 24.33 | Eval Rwd Var: 21.56\n",
            "Episode 55/500 | Ep. Total Reward: 18.0 | Epsilon : 0.376 | Eval Rwd Mean: 16.33 | Eval Rwd Var: 0.89\n",
            "Episode 56/500 | Ep. Total Reward: 28.0 | Epsilon : 0.376 | Eval Rwd Mean: 18.67 | Eval Rwd Var: 5.56\n",
            "Episode 57/500 | Ep. Total Reward: 20.0 | Epsilon : 0.376 | Eval Rwd Mean: 21.00 | Eval Rwd Var: 20.67\n",
            "Episode 58/500 | Ep. Total Reward: 19.0 | Epsilon : 0.376 | Eval Rwd Mean: 19.33 | Eval Rwd Var: 0.89\n",
            "Episode 59/500 | Ep. Total Reward: 19.0 | Epsilon : 0.376 | Eval Rwd Mean: 19.00 | Eval Rwd Var: 2.00\n",
            "Episode 60/500 | Ep. Total Reward: 29.0 | Epsilon : 0.376 | Eval Rwd Mean: 24.67 | Eval Rwd Var: 6.22\n",
            "Episode 61/500 | Ep. Total Reward: 18.0 | Epsilon : 0.344 | Eval Rwd Mean: 21.67 | Eval Rwd Var: 6.89\n",
            "Episode 62/500 | Ep. Total Reward: 27.0 | Epsilon : 0.344 | Eval Rwd Mean: 24.00 | Eval Rwd Var: 14.00\n",
            "Episode 63/500 | Ep. Total Reward: 17.0 | Epsilon : 0.344 | Eval Rwd Mean: 21.33 | Eval Rwd Var: 24.22\n",
            "Episode 64/500 | Ep. Total Reward: 17.0 | Epsilon : 0.344 | Eval Rwd Mean: 18.67 | Eval Rwd Var: 6.89\n",
            "Episode 65/500 | Ep. Total Reward: 22.0 | Epsilon : 0.344 | Eval Rwd Mean: 23.33 | Eval Rwd Var: 0.22\n",
            "Episode 66/500 | Ep. Total Reward: 33.0 | Epsilon : 0.344 | Eval Rwd Mean: 21.67 | Eval Rwd Var: 38.89\n",
            "Episode 67/500 | Ep. Total Reward: 17.0 | Epsilon : 0.344 | Eval Rwd Mean: 21.67 | Eval Rwd Var: 0.22\n",
            "Episode 68/500 | Ep. Total Reward: 17.0 | Epsilon : 0.344 | Eval Rwd Mean: 20.67 | Eval Rwd Var: 6.22\n",
            "Episode 69/500 | Ep. Total Reward: 22.0 | Epsilon : 0.344 | Eval Rwd Mean: 22.33 | Eval Rwd Var: 1.56\n",
            "Episode 70/500 | Ep. Total Reward: 28.0 | Epsilon : 0.344 | Eval Rwd Mean: 20.67 | Eval Rwd Var: 0.89\n",
            "Episode 71/500 | Ep. Total Reward: 19.0 | Epsilon : 0.313 | Eval Rwd Mean: 17.00 | Eval Rwd Var: 8.67\n",
            "Episode 72/500 | Ep. Total Reward: 26.0 | Epsilon : 0.313 | Eval Rwd Mean: 25.00 | Eval Rwd Var: 0.67\n",
            "Episode 73/500 | Ep. Total Reward: 34.0 | Epsilon : 0.313 | Eval Rwd Mean: 22.67 | Eval Rwd Var: 6.89\n",
            "Episode 74/500 | Ep. Total Reward: 23.0 | Epsilon : 0.313 | Eval Rwd Mean: 17.67 | Eval Rwd Var: 3.56\n",
            "Episode 75/500 | Ep. Total Reward: 17.0 | Epsilon : 0.313 | Eval Rwd Mean: 22.33 | Eval Rwd Var: 2.89\n",
            "Episode 76/500 | Ep. Total Reward: 17.0 | Epsilon : 0.313 | Eval Rwd Mean: 20.67 | Eval Rwd Var: 16.89\n",
            "Episode 77/500 | Ep. Total Reward: 23.0 | Epsilon : 0.313 | Eval Rwd Mean: 27.67 | Eval Rwd Var: 17.56\n",
            "Episode 78/500 | Ep. Total Reward: 20.0 | Epsilon : 0.313 | Eval Rwd Mean: 23.67 | Eval Rwd Var: 10.89\n",
            "Episode 79/500 | Ep. Total Reward: 29.0 | Epsilon : 0.313 | Eval Rwd Mean: 19.67 | Eval Rwd Var: 2.89\n",
            "Episode 80/500 | Ep. Total Reward: 19.0 | Epsilon : 0.313 | Eval Rwd Mean: 21.67 | Eval Rwd Var: 9.56\n",
            "Episode 81/500 | Ep. Total Reward: 26.0 | Epsilon : 0.274 | Eval Rwd Mean: 20.67 | Eval Rwd Var: 14.22\n",
            "Episode 82/500 | Ep. Total Reward: 23.0 | Epsilon : 0.274 | Eval Rwd Mean: 21.67 | Eval Rwd Var: 37.56\n",
            "Episode 83/500 | Ep. Total Reward: 21.0 | Epsilon : 0.274 | Eval Rwd Mean: 22.00 | Eval Rwd Var: 0.67\n",
            "Episode 84/500 | Ep. Total Reward: 23.0 | Epsilon : 0.274 | Eval Rwd Mean: 20.33 | Eval Rwd Var: 16.22\n",
            "Episode 85/500 | Ep. Total Reward: 24.0 | Epsilon : 0.274 | Eval Rwd Mean: 22.33 | Eval Rwd Var: 4.22\n",
            "Episode 86/500 | Ep. Total Reward: 29.0 | Epsilon : 0.274 | Eval Rwd Mean: 23.33 | Eval Rwd Var: 9.56\n",
            "Episode 87/500 | Ep. Total Reward: 27.0 | Epsilon : 0.274 | Eval Rwd Mean: 27.33 | Eval Rwd Var: 8.22\n",
            "Episode 88/500 | Ep. Total Reward: 26.0 | Epsilon : 0.274 | Eval Rwd Mean: 22.67 | Eval Rwd Var: 10.89\n",
            "Episode 89/500 | Ep. Total Reward: 29.0 | Epsilon : 0.274 | Eval Rwd Mean: 20.33 | Eval Rwd Var: 0.22\n",
            "Episode 90/500 | Ep. Total Reward: 32.0 | Epsilon : 0.274 | Eval Rwd Mean: 21.67 | Eval Rwd Var: 4.22\n",
            "Episode 91/500 | Ep. Total Reward: 20.0 | Epsilon : 0.248 | Eval Rwd Mean: 22.33 | Eval Rwd Var: 13.56\n",
            "Episode 92/500 | Ep. Total Reward: 21.0 | Epsilon : 0.248 | Eval Rwd Mean: 26.00 | Eval Rwd Var: 2.00\n",
            "Episode 93/500 | Ep. Total Reward: 28.0 | Epsilon : 0.248 | Eval Rwd Mean: 21.67 | Eval Rwd Var: 8.22\n",
            "Episode 94/500 | Ep. Total Reward: 25.0 | Epsilon : 0.248 | Eval Rwd Mean: 25.33 | Eval Rwd Var: 5.56\n",
            "Episode 95/500 | Ep. Total Reward: 30.0 | Epsilon : 0.248 | Eval Rwd Mean: 17.67 | Eval Rwd Var: 1.56\n",
            "Episode 96/500 | Ep. Total Reward: 22.0 | Epsilon : 0.248 | Eval Rwd Mean: 19.00 | Eval Rwd Var: 12.67\n",
            "Episode 97/500 | Ep. Total Reward: 15.0 | Epsilon : 0.248 | Eval Rwd Mean: 18.33 | Eval Rwd Var: 6.22\n",
            "Episode 98/500 | Ep. Total Reward: 20.0 | Epsilon : 0.248 | Eval Rwd Mean: 19.00 | Eval Rwd Var: 2.67\n",
            "Episode 99/500 | Ep. Total Reward: 14.0 | Epsilon : 0.248 | Eval Rwd Mean: 16.00 | Eval Rwd Var: 2.00\n",
            "Episode 100/500 | Ep. Total Reward: 13.0 | Epsilon : 0.248 | Eval Rwd Mean: 14.00 | Eval Rwd Var: 0.67\n",
            "Episode 101/500 | Ep. Total Reward: 11.0 | Epsilon : 0.235 | Eval Rwd Mean: 12.67 | Eval Rwd Var: 0.89\n",
            "Episode 102/500 | Ep. Total Reward: 15.0 | Epsilon : 0.235 | Eval Rwd Mean: 12.33 | Eval Rwd Var: 0.22\n",
            "Episode 103/500 | Ep. Total Reward: 10.0 | Epsilon : 0.235 | Eval Rwd Mean: 12.00 | Eval Rwd Var: 0.67\n",
            "Episode 104/500 | Ep. Total Reward: 21.0 | Epsilon : 0.235 | Eval Rwd Mean: 13.33 | Eval Rwd Var: 1.56\n",
            "Episode 105/500 | Ep. Total Reward: 13.0 | Epsilon : 0.235 | Eval Rwd Mean: 11.33 | Eval Rwd Var: 0.22\n",
            "Episode 106/500 | Ep. Total Reward: 10.0 | Epsilon : 0.235 | Eval Rwd Mean: 9.33 | Eval Rwd Var: 0.89\n",
            "Episode 107/500 | Ep. Total Reward: 13.0 | Epsilon : 0.235 | Eval Rwd Mean: 10.00 | Eval Rwd Var: 0.67\n",
            "Episode 108/500 | Ep. Total Reward: 9.0 | Epsilon : 0.235 | Eval Rwd Mean: 9.00 | Eval Rwd Var: 0.67\n",
            "Episode 109/500 | Ep. Total Reward: 10.0 | Epsilon : 0.235 | Eval Rwd Mean: 8.33 | Eval Rwd Var: 0.22\n",
            "Episode 110/500 | Ep. Total Reward: 10.0 | Epsilon : 0.235 | Eval Rwd Mean: 9.33 | Eval Rwd Var: 0.89\n",
            "Episode 111/500 | Ep. Total Reward: 16.0 | Epsilon : 0.217 | Eval Rwd Mean: 9.00 | Eval Rwd Var: 0.67\n",
            "Episode 112/500 | Ep. Total Reward: 17.0 | Epsilon : 0.217 | Eval Rwd Mean: 9.67 | Eval Rwd Var: 0.22\n",
            "Episode 113/500 | Ep. Total Reward: 10.0 | Epsilon : 0.217 | Eval Rwd Mean: 9.00 | Eval Rwd Var: 0.67\n",
            "Episode 114/500 | Ep. Total Reward: 10.0 | Epsilon : 0.217 | Eval Rwd Mean: 9.00 | Eval Rwd Var: 0.67\n",
            "Episode 115/500 | Ep. Total Reward: 9.0 | Epsilon : 0.217 | Eval Rwd Mean: 9.00 | Eval Rwd Var: 0.67\n",
            "Episode 116/500 | Ep. Total Reward: 11.0 | Epsilon : 0.217 | Eval Rwd Mean: 9.00 | Eval Rwd Var: 0.00\n",
            "Episode 117/500 | Ep. Total Reward: 14.0 | Epsilon : 0.217 | Eval Rwd Mean: 9.67 | Eval Rwd Var: 0.22\n",
            "Episode 118/500 | Ep. Total Reward: 8.0 | Epsilon : 0.217 | Eval Rwd Mean: 9.00 | Eval Rwd Var: 0.67\n",
            "Episode 119/500 | Ep. Total Reward: 10.0 | Epsilon : 0.217 | Eval Rwd Mean: 9.33 | Eval Rwd Var: 0.22\n",
            "Episode 120/500 | Ep. Total Reward: 11.0 | Epsilon : 0.217 | Eval Rwd Mean: 9.00 | Eval Rwd Var: 0.67\n",
            "Episode 121/500 | Ep. Total Reward: 10.0 | Epsilon : 0.206 | Eval Rwd Mean: 8.67 | Eval Rwd Var: 0.22\n",
            "Episode 122/500 | Ep. Total Reward: 10.0 | Epsilon : 0.206 | Eval Rwd Mean: 9.33 | Eval Rwd Var: 0.22\n",
            "Episode 123/500 | Ep. Total Reward: 11.0 | Epsilon : 0.206 | Eval Rwd Mean: 9.67 | Eval Rwd Var: 0.22\n",
            "Episode 124/500 | Ep. Total Reward: 15.0 | Epsilon : 0.206 | Eval Rwd Mean: 9.00 | Eval Rwd Var: 0.67\n",
            "Episode 125/500 | Ep. Total Reward: 12.0 | Epsilon : 0.206 | Eval Rwd Mean: 9.00 | Eval Rwd Var: 0.67\n",
            "Episode 126/500 | Ep. Total Reward: 10.0 | Epsilon : 0.206 | Eval Rwd Mean: 9.67 | Eval Rwd Var: 0.22\n",
            "Episode 127/500 | Ep. Total Reward: 11.0 | Epsilon : 0.206 | Eval Rwd Mean: 9.33 | Eval Rwd Var: 0.89\n",
            "Episode 128/500 | Ep. Total Reward: 10.0 | Epsilon : 0.206 | Eval Rwd Mean: 9.00 | Eval Rwd Var: 0.67\n",
            "Episode 129/500 | Ep. Total Reward: 13.0 | Epsilon : 0.206 | Eval Rwd Mean: 10.00 | Eval Rwd Var: 0.67\n",
            "Episode 130/500 | Ep. Total Reward: 9.0 | Epsilon : 0.206 | Eval Rwd Mean: 9.67 | Eval Rwd Var: 0.22\n",
            "Episode 131/500 | Ep. Total Reward: 10.0 | Epsilon : 0.196 | Eval Rwd Mean: 10.00 | Eval Rwd Var: 0.67\n",
            "Episode 132/500 | Ep. Total Reward: 9.0 | Epsilon : 0.196 | Eval Rwd Mean: 9.00 | Eval Rwd Var: 0.67\n",
            "Episode 133/500 | Ep. Total Reward: 10.0 | Epsilon : 0.196 | Eval Rwd Mean: 9.33 | Eval Rwd Var: 0.22\n",
            "Episode 134/500 | Ep. Total Reward: 8.0 | Epsilon : 0.196 | Eval Rwd Mean: 8.67 | Eval Rwd Var: 0.22\n",
            "Episode 135/500 | Ep. Total Reward: 9.0 | Epsilon : 0.196 | Eval Rwd Mean: 9.67 | Eval Rwd Var: 0.22\n",
            "Episode 136/500 | Ep. Total Reward: 10.0 | Epsilon : 0.196 | Eval Rwd Mean: 8.67 | Eval Rwd Var: 0.22\n",
            "Episode 137/500 | Ep. Total Reward: 13.0 | Epsilon : 0.196 | Eval Rwd Mean: 9.67 | Eval Rwd Var: 0.22\n",
            "Episode 138/500 | Ep. Total Reward: 10.0 | Epsilon : 0.196 | Eval Rwd Mean: 9.67 | Eval Rwd Var: 0.22\n",
            "Episode 139/500 | Ep. Total Reward: 11.0 | Epsilon : 0.196 | Eval Rwd Mean: 8.33 | Eval Rwd Var: 0.22\n",
            "Episode 140/500 | Ep. Total Reward: 9.0 | Epsilon : 0.196 | Eval Rwd Mean: 9.33 | Eval Rwd Var: 0.89\n",
            "Episode 141/500 | Ep. Total Reward: 9.0 | Epsilon : 0.187 | Eval Rwd Mean: 9.67 | Eval Rwd Var: 0.22\n",
            "Episode 142/500 | Ep. Total Reward: 14.0 | Epsilon : 0.187 | Eval Rwd Mean: 9.00 | Eval Rwd Var: 0.67\n",
            "Episode 143/500 | Ep. Total Reward: 10.0 | Epsilon : 0.187 | Eval Rwd Mean: 9.67 | Eval Rwd Var: 0.22\n",
            "Episode 144/500 | Ep. Total Reward: 11.0 | Epsilon : 0.187 | Eval Rwd Mean: 8.67 | Eval Rwd Var: 0.89\n",
            "Episode 145/500 | Ep. Total Reward: 12.0 | Epsilon : 0.187 | Eval Rwd Mean: 9.00 | Eval Rwd Var: 0.00\n",
            "Episode 146/500 | Ep. Total Reward: 15.0 | Epsilon : 0.187 | Eval Rwd Mean: 9.33 | Eval Rwd Var: 0.22\n",
            "Episode 147/500 | Ep. Total Reward: 8.0 | Epsilon : 0.187 | Eval Rwd Mean: 9.33 | Eval Rwd Var: 0.22\n",
            "Episode 148/500 | Ep. Total Reward: 11.0 | Epsilon : 0.187 | Eval Rwd Mean: 8.67 | Eval Rwd Var: 0.22\n",
            "Episode 149/500 | Ep. Total Reward: 11.0 | Epsilon : 0.187 | Eval Rwd Mean: 9.33 | Eval Rwd Var: 0.22\n",
            "Episode 150/500 | Ep. Total Reward: 10.0 | Epsilon : 0.187 | Eval Rwd Mean: 9.33 | Eval Rwd Var: 0.22\n",
            "Episode 151/500 | Ep. Total Reward: 9.0 | Epsilon : 0.179 | Eval Rwd Mean: 9.67 | Eval Rwd Var: 0.22\n",
            "Episode 152/500 | Ep. Total Reward: 10.0 | Epsilon : 0.179 | Eval Rwd Mean: 9.00 | Eval Rwd Var: 0.00\n",
            "Episode 153/500 | Ep. Total Reward: 8.0 | Epsilon : 0.179 | Eval Rwd Mean: 9.33 | Eval Rwd Var: 0.89\n",
            "Episode 154/500 | Ep. Total Reward: 10.0 | Epsilon : 0.179 | Eval Rwd Mean: 9.67 | Eval Rwd Var: 0.22\n",
            "Episode 155/500 | Ep. Total Reward: 11.0 | Epsilon : 0.179 | Eval Rwd Mean: 9.00 | Eval Rwd Var: 0.00\n",
            "Episode 156/500 | Ep. Total Reward: 10.0 | Epsilon : 0.179 | Eval Rwd Mean: 9.67 | Eval Rwd Var: 0.89\n",
            "Episode 157/500 | Ep. Total Reward: 11.0 | Epsilon : 0.179 | Eval Rwd Mean: 9.00 | Eval Rwd Var: 0.67\n",
            "Episode 158/500 | Ep. Total Reward: 10.0 | Epsilon : 0.179 | Eval Rwd Mean: 10.00 | Eval Rwd Var: 0.67\n",
            "Episode 159/500 | Ep. Total Reward: 14.0 | Epsilon : 0.179 | Eval Rwd Mean: 9.33 | Eval Rwd Var: 0.22\n",
            "Episode 160/500 | Ep. Total Reward: 9.0 | Epsilon : 0.179 | Eval Rwd Mean: 9.33 | Eval Rwd Var: 0.22\n",
            "Episode 161/500 | Ep. Total Reward: 12.0 | Epsilon : 0.169 | Eval Rwd Mean: 8.67 | Eval Rwd Var: 0.89\n",
            "Episode 162/500 | Ep. Total Reward: 12.0 | Epsilon : 0.169 | Eval Rwd Mean: 9.00 | Eval Rwd Var: 0.67\n",
            "Episode 163/500 | Ep. Total Reward: 10.0 | Epsilon : 0.169 | Eval Rwd Mean: 8.67 | Eval Rwd Var: 0.22\n",
            "Episode 164/500 | Ep. Total Reward: 9.0 | Epsilon : 0.169 | Eval Rwd Mean: 9.33 | Eval Rwd Var: 0.22\n",
            "Episode 165/500 | Ep. Total Reward: 8.0 | Epsilon : 0.169 | Eval Rwd Mean: 9.67 | Eval Rwd Var: 0.22\n",
            "Episode 166/500 | Ep. Total Reward: 10.0 | Epsilon : 0.169 | Eval Rwd Mean: 9.33 | Eval Rwd Var: 0.22\n",
            "Episode 167/500 | Ep. Total Reward: 10.0 | Epsilon : 0.169 | Eval Rwd Mean: 9.00 | Eval Rwd Var: 0.00\n",
            "Episode 168/500 | Ep. Total Reward: 9.0 | Epsilon : 0.169 | Eval Rwd Mean: 9.33 | Eval Rwd Var: 0.89\n",
            "Episode 169/500 | Ep. Total Reward: 9.0 | Epsilon : 0.169 | Eval Rwd Mean: 9.67 | Eval Rwd Var: 0.22\n",
            "Episode 170/500 | Ep. Total Reward: 10.0 | Epsilon : 0.169 | Eval Rwd Mean: 9.33 | Eval Rwd Var: 0.22\n",
            "Episode 171/500 | Ep. Total Reward: 12.0 | Epsilon : 0.159 | Eval Rwd Mean: 9.00 | Eval Rwd Var: 0.00\n",
            "Episode 172/500 | Ep. Total Reward: 11.0 | Epsilon : 0.159 | Eval Rwd Mean: 9.33 | Eval Rwd Var: 0.22\n",
            "Episode 173/500 | Ep. Total Reward: 15.0 | Epsilon : 0.159 | Eval Rwd Mean: 10.00 | Eval Rwd Var: 0.00\n",
            "Episode 174/500 | Ep. Total Reward: 11.0 | Epsilon : 0.159 | Eval Rwd Mean: 9.00 | Eval Rwd Var: 0.67\n",
            "Episode 175/500 | Ep. Total Reward: 10.0 | Epsilon : 0.159 | Eval Rwd Mean: 9.33 | Eval Rwd Var: 0.89\n",
            "Episode 176/500 | Ep. Total Reward: 12.0 | Epsilon : 0.159 | Eval Rwd Mean: 10.00 | Eval Rwd Var: 0.00\n",
            "Episode 177/500 | Ep. Total Reward: 8.0 | Epsilon : 0.159 | Eval Rwd Mean: 9.33 | Eval Rwd Var: 0.89\n",
            "Episode 178/500 | Ep. Total Reward: 12.0 | Epsilon : 0.159 | Eval Rwd Mean: 10.00 | Eval Rwd Var: 0.00\n",
            "Episode 179/500 | Ep. Total Reward: 8.0 | Epsilon : 0.159 | Eval Rwd Mean: 9.67 | Eval Rwd Var: 0.22\n",
            "Episode 180/500 | Ep. Total Reward: 13.0 | Epsilon : 0.159 | Eval Rwd Mean: 9.33 | Eval Rwd Var: 0.22\n",
            "Episode 181/500 | Ep. Total Reward: 11.0 | Epsilon : 0.150 | Eval Rwd Mean: 9.33 | Eval Rwd Var: 0.22\n",
            "Episode 182/500 | Ep. Total Reward: 13.0 | Epsilon : 0.150 | Eval Rwd Mean: 9.00 | Eval Rwd Var: 0.67\n",
            "Episode 183/500 | Ep. Total Reward: 10.0 | Epsilon : 0.150 | Eval Rwd Mean: 9.00 | Eval Rwd Var: 0.67\n",
            "Episode 184/500 | Ep. Total Reward: 9.0 | Epsilon : 0.150 | Eval Rwd Mean: 9.67 | Eval Rwd Var: 1.56\n",
            "Episode 185/500 | Ep. Total Reward: 12.0 | Epsilon : 0.150 | Eval Rwd Mean: 9.67 | Eval Rwd Var: 1.56\n",
            "Episode 186/500 | Ep. Total Reward: 8.0 | Epsilon : 0.150 | Eval Rwd Mean: 9.00 | Eval Rwd Var: 0.67\n",
            "Episode 187/500 | Ep. Total Reward: 10.0 | Epsilon : 0.150 | Eval Rwd Mean: 9.67 | Eval Rwd Var: 0.22\n",
            "Episode 188/500 | Ep. Total Reward: 13.0 | Epsilon : 0.150 | Eval Rwd Mean: 9.00 | Eval Rwd Var: 0.67\n",
            "Episode 189/500 | Ep. Total Reward: 8.0 | Epsilon : 0.150 | Eval Rwd Mean: 9.33 | Eval Rwd Var: 0.22\n",
            "Episode 190/500 | Ep. Total Reward: 11.0 | Epsilon : 0.150 | Eval Rwd Mean: 9.33 | Eval Rwd Var: 0.89\n",
            "Episode 191/500 | Ep. Total Reward: 10.0 | Epsilon : 0.143 | Eval Rwd Mean: 9.67 | Eval Rwd Var: 0.22\n",
            "Episode 192/500 | Ep. Total Reward: 10.0 | Epsilon : 0.143 | Eval Rwd Mean: 9.67 | Eval Rwd Var: 0.22\n",
            "Episode 193/500 | Ep. Total Reward: 10.0 | Epsilon : 0.143 | Eval Rwd Mean: 9.33 | Eval Rwd Var: 0.22\n",
            "Episode 194/500 | Ep. Total Reward: 10.0 | Epsilon : 0.143 | Eval Rwd Mean: 8.67 | Eval Rwd Var: 0.22\n",
            "Episode 195/500 | Ep. Total Reward: 10.0 | Epsilon : 0.143 | Eval Rwd Mean: 9.33 | Eval Rwd Var: 0.22\n",
            "Episode 196/500 | Ep. Total Reward: 11.0 | Epsilon : 0.143 | Eval Rwd Mean: 9.33 | Eval Rwd Var: 0.22\n",
            "Episode 197/500 | Ep. Total Reward: 9.0 | Epsilon : 0.143 | Eval Rwd Mean: 9.67 | Eval Rwd Var: 1.56\n",
            "Episode 198/500 | Ep. Total Reward: 9.0 | Epsilon : 0.143 | Eval Rwd Mean: 9.33 | Eval Rwd Var: 0.22\n",
            "Episode 199/500 | Ep. Total Reward: 10.0 | Epsilon : 0.143 | Eval Rwd Mean: 9.33 | Eval Rwd Var: 0.22\n",
            "Episode 200/500 | Ep. Total Reward: 8.0 | Epsilon : 0.143 | Eval Rwd Mean: 10.33 | Eval Rwd Var: 0.22\n",
            "Episode 201/500 | Ep. Total Reward: 10.0 | Epsilon : 0.136 | Eval Rwd Mean: 9.67 | Eval Rwd Var: 0.22\n",
            "Episode 202/500 | Ep. Total Reward: 9.0 | Epsilon : 0.136 | Eval Rwd Mean: 10.00 | Eval Rwd Var: 0.67\n",
            "Episode 203/500 | Ep. Total Reward: 8.0 | Epsilon : 0.136 | Eval Rwd Mean: 10.00 | Eval Rwd Var: 0.00\n",
            "Episode 204/500 | Ep. Total Reward: 10.0 | Epsilon : 0.136 | Eval Rwd Mean: 9.00 | Eval Rwd Var: 0.67\n",
            "Episode 205/500 | Ep. Total Reward: 10.0 | Epsilon : 0.136 | Eval Rwd Mean: 10.67 | Eval Rwd Var: 0.22\n",
            "Episode 206/500 | Ep. Total Reward: 9.0 | Epsilon : 0.136 | Eval Rwd Mean: 9.67 | Eval Rwd Var: 0.89\n",
            "Episode 207/500 | Ep. Total Reward: 10.0 | Epsilon : 0.136 | Eval Rwd Mean: 10.33 | Eval Rwd Var: 1.56\n",
            "Episode 208/500 | Ep. Total Reward: 11.0 | Epsilon : 0.136 | Eval Rwd Mean: 10.00 | Eval Rwd Var: 0.67\n",
            "Episode 209/500 | Ep. Total Reward: 16.0 | Epsilon : 0.136 | Eval Rwd Mean: 9.67 | Eval Rwd Var: 0.89\n",
            "Episode 210/500 | Ep. Total Reward: 9.0 | Epsilon : 0.136 | Eval Rwd Mean: 9.33 | Eval Rwd Var: 0.22\n",
            "Episode 211/500 | Ep. Total Reward: 12.0 | Epsilon : 0.128 | Eval Rwd Mean: 9.33 | Eval Rwd Var: 0.22\n",
            "Episode 212/500 | Ep. Total Reward: 8.0 | Epsilon : 0.128 | Eval Rwd Mean: 9.67 | Eval Rwd Var: 0.22\n",
            "Episode 213/500 | Ep. Total Reward: 10.0 | Epsilon : 0.128 | Eval Rwd Mean: 9.67 | Eval Rwd Var: 0.22\n",
            "Episode 214/500 | Ep. Total Reward: 10.0 | Epsilon : 0.128 | Eval Rwd Mean: 9.00 | Eval Rwd Var: 0.00\n",
            "Episode 215/500 | Ep. Total Reward: 11.0 | Epsilon : 0.128 | Eval Rwd Mean: 9.67 | Eval Rwd Var: 1.56\n",
            "Episode 216/500 | Ep. Total Reward: 10.0 | Epsilon : 0.128 | Eval Rwd Mean: 9.67 | Eval Rwd Var: 1.56\n",
            "Episode 217/500 | Ep. Total Reward: 9.0 | Epsilon : 0.128 | Eval Rwd Mean: 9.33 | Eval Rwd Var: 0.89\n",
            "Episode 218/500 | Ep. Total Reward: 11.0 | Epsilon : 0.128 | Eval Rwd Mean: 10.33 | Eval Rwd Var: 0.22\n",
            "Episode 219/500 | Ep. Total Reward: 9.0 | Epsilon : 0.128 | Eval Rwd Mean: 9.67 | Eval Rwd Var: 0.22\n",
            "Episode 220/500 | Ep. Total Reward: 10.0 | Epsilon : 0.128 | Eval Rwd Mean: 10.67 | Eval Rwd Var: 0.22\n",
            "Episode 221/500 | Ep. Total Reward: 9.0 | Epsilon : 0.122 | Eval Rwd Mean: 9.67 | Eval Rwd Var: 0.22\n",
            "Episode 222/500 | Ep. Total Reward: 10.0 | Epsilon : 0.122 | Eval Rwd Mean: 11.00 | Eval Rwd Var: 0.00\n",
            "Episode 223/500 | Ep. Total Reward: 11.0 | Epsilon : 0.122 | Eval Rwd Mean: 9.67 | Eval Rwd Var: 0.22\n",
            "Episode 224/500 | Ep. Total Reward: 10.0 | Epsilon : 0.122 | Eval Rwd Mean: 10.00 | Eval Rwd Var: 0.67\n",
            "Episode 225/500 | Ep. Total Reward: 9.0 | Epsilon : 0.122 | Eval Rwd Mean: 9.33 | Eval Rwd Var: 0.22\n",
            "Episode 226/500 | Ep. Total Reward: 9.0 | Epsilon : 0.122 | Eval Rwd Mean: 10.00 | Eval Rwd Var: 0.67\n",
            "Episode 227/500 | Ep. Total Reward: 10.0 | Epsilon : 0.122 | Eval Rwd Mean: 9.33 | Eval Rwd Var: 0.22\n",
            "Episode 228/500 | Ep. Total Reward: 9.0 | Epsilon : 0.122 | Eval Rwd Mean: 10.00 | Eval Rwd Var: 0.67\n",
            "Episode 229/500 | Ep. Total Reward: 9.0 | Epsilon : 0.122 | Eval Rwd Mean: 8.67 | Eval Rwd Var: 0.89\n",
            "Episode 230/500 | Ep. Total Reward: 10.0 | Epsilon : 0.122 | Eval Rwd Mean: 10.00 | Eval Rwd Var: 0.00\n",
            "Episode 231/500 | Ep. Total Reward: 10.0 | Epsilon : 0.116 | Eval Rwd Mean: 10.00 | Eval Rwd Var: 2.00\n",
            "Episode 232/500 | Ep. Total Reward: 12.0 | Epsilon : 0.116 | Eval Rwd Mean: 9.67 | Eval Rwd Var: 0.22\n",
            "Episode 233/500 | Ep. Total Reward: 11.0 | Epsilon : 0.116 | Eval Rwd Mean: 9.00 | Eval Rwd Var: 0.67\n",
            "Episode 234/500 | Ep. Total Reward: 11.0 | Epsilon : 0.116 | Eval Rwd Mean: 9.00 | Eval Rwd Var: 0.67\n",
            "Episode 235/500 | Ep. Total Reward: 9.0 | Epsilon : 0.116 | Eval Rwd Mean: 9.67 | Eval Rwd Var: 0.22\n",
            "Episode 236/500 | Ep. Total Reward: 8.0 | Epsilon : 0.116 | Eval Rwd Mean: 8.67 | Eval Rwd Var: 0.22\n",
            "Episode 237/500 | Ep. Total Reward: 10.0 | Epsilon : 0.116 | Eval Rwd Mean: 9.33 | Eval Rwd Var: 0.89\n",
            "Episode 238/500 | Ep. Total Reward: 11.0 | Epsilon : 0.116 | Eval Rwd Mean: 9.00 | Eval Rwd Var: 0.67\n",
            "Episode 239/500 | Ep. Total Reward: 10.0 | Epsilon : 0.116 | Eval Rwd Mean: 9.67 | Eval Rwd Var: 0.89\n",
            "Episode 240/500 | Ep. Total Reward: 10.0 | Epsilon : 0.116 | Eval Rwd Mean: 9.67 | Eval Rwd Var: 0.22\n",
            "Episode 241/500 | Ep. Total Reward: 9.0 | Epsilon : 0.111 | Eval Rwd Mean: 9.00 | Eval Rwd Var: 2.00\n",
            "Episode 242/500 | Ep. Total Reward: 10.0 | Epsilon : 0.111 | Eval Rwd Mean: 10.33 | Eval Rwd Var: 0.22\n",
            "Episode 243/500 | Ep. Total Reward: 11.0 | Epsilon : 0.111 | Eval Rwd Mean: 9.67 | Eval Rwd Var: 0.22\n",
            "Episode 244/500 | Ep. Total Reward: 11.0 | Epsilon : 0.111 | Eval Rwd Mean: 9.33 | Eval Rwd Var: 0.89\n",
            "Episode 245/500 | Ep. Total Reward: 10.0 | Epsilon : 0.111 | Eval Rwd Mean: 9.67 | Eval Rwd Var: 1.56\n",
            "Episode 246/500 | Ep. Total Reward: 9.0 | Epsilon : 0.111 | Eval Rwd Mean: 9.00 | Eval Rwd Var: 0.00\n",
            "Episode 247/500 | Ep. Total Reward: 11.0 | Epsilon : 0.111 | Eval Rwd Mean: 9.00 | Eval Rwd Var: 0.67\n",
            "Episode 248/500 | Ep. Total Reward: 10.0 | Epsilon : 0.111 | Eval Rwd Mean: 9.67 | Eval Rwd Var: 0.22\n",
            "Episode 249/500 | Ep. Total Reward: 11.0 | Epsilon : 0.111 | Eval Rwd Mean: 9.67 | Eval Rwd Var: 0.22\n",
            "Episode 250/500 | Ep. Total Reward: 11.0 | Epsilon : 0.111 | Eval Rwd Mean: 9.00 | Eval Rwd Var: 0.67\n",
            "Episode 251/500 | Ep. Total Reward: 10.0 | Epsilon : 0.106 | Eval Rwd Mean: 9.33 | Eval Rwd Var: 0.89\n",
            "Episode 252/500 | Ep. Total Reward: 10.0 | Epsilon : 0.106 | Eval Rwd Mean: 9.00 | Eval Rwd Var: 0.67\n",
            "Episode 253/500 | Ep. Total Reward: 8.0 | Epsilon : 0.106 | Eval Rwd Mean: 9.67 | Eval Rwd Var: 0.22\n",
            "Episode 254/500 | Ep. Total Reward: 10.0 | Epsilon : 0.106 | Eval Rwd Mean: 9.33 | Eval Rwd Var: 0.22\n",
            "Episode 255/500 | Ep. Total Reward: 9.0 | Epsilon : 0.106 | Eval Rwd Mean: 9.33 | Eval Rwd Var: 0.22\n",
            "Episode 256/500 | Ep. Total Reward: 9.0 | Epsilon : 0.106 | Eval Rwd Mean: 9.33 | Eval Rwd Var: 0.89\n",
            "Episode 257/500 | Ep. Total Reward: 10.0 | Epsilon : 0.106 | Eval Rwd Mean: 9.00 | Eval Rwd Var: 0.67\n",
            "Episode 258/500 | Ep. Total Reward: 10.0 | Epsilon : 0.106 | Eval Rwd Mean: 9.33 | Eval Rwd Var: 0.22\n",
            "Episode 259/500 | Ep. Total Reward: 9.0 | Epsilon : 0.106 | Eval Rwd Mean: 9.33 | Eval Rwd Var: 0.22\n",
            "Episode 260/500 | Ep. Total Reward: 9.0 | Epsilon : 0.106 | Eval Rwd Mean: 10.00 | Eval Rwd Var: 0.67\n",
            "Episode 261/500 | Ep. Total Reward: 10.0 | Epsilon : 0.101 | Eval Rwd Mean: 9.67 | Eval Rwd Var: 0.22\n",
            "Episode 262/500 | Ep. Total Reward: 11.0 | Epsilon : 0.101 | Eval Rwd Mean: 10.00 | Eval Rwd Var: 0.00\n",
            "Episode 263/500 | Ep. Total Reward: 10.0 | Epsilon : 0.101 | Eval Rwd Mean: 9.00 | Eval Rwd Var: 0.00\n",
            "Episode 264/500 | Ep. Total Reward: 9.0 | Epsilon : 0.101 | Eval Rwd Mean: 9.00 | Eval Rwd Var: 0.67\n",
            "Episode 265/500 | Ep. Total Reward: 13.0 | Epsilon : 0.101 | Eval Rwd Mean: 10.00 | Eval Rwd Var: 0.00\n",
            "Episode 266/500 | Ep. Total Reward: 9.0 | Epsilon : 0.101 | Eval Rwd Mean: 8.33 | Eval Rwd Var: 0.22\n",
            "Episode 267/500 | Ep. Total Reward: 9.0 | Epsilon : 0.101 | Eval Rwd Mean: 9.00 | Eval Rwd Var: 0.67\n",
            "Episode 268/500 | Ep. Total Reward: 10.0 | Epsilon : 0.101 | Eval Rwd Mean: 9.33 | Eval Rwd Var: 0.89\n",
            "Episode 269/500 | Ep. Total Reward: 9.0 | Epsilon : 0.101 | Eval Rwd Mean: 8.33 | Eval Rwd Var: 0.22\n",
            "Episode 270/500 | Ep. Total Reward: 9.0 | Epsilon : 0.101 | Eval Rwd Mean: 10.00 | Eval Rwd Var: 0.00\n",
            "Episode 271/500 | Ep. Total Reward: 10.0 | Epsilon : 0.100 | Eval Rwd Mean: 9.33 | Eval Rwd Var: 0.22\n",
            "Episode 272/500 | Ep. Total Reward: 10.0 | Epsilon : 0.100 | Eval Rwd Mean: 9.33 | Eval Rwd Var: 0.22\n",
            "Episode 273/500 | Ep. Total Reward: 10.0 | Epsilon : 0.100 | Eval Rwd Mean: 9.00 | Eval Rwd Var: 0.67\n",
            "Episode 274/500 | Ep. Total Reward: 10.0 | Epsilon : 0.100 | Eval Rwd Mean: 10.67 | Eval Rwd Var: 0.22\n",
            "Episode 275/500 | Ep. Total Reward: 10.0 | Epsilon : 0.100 | Eval Rwd Mean: 10.00 | Eval Rwd Var: 0.67\n",
            "Episode 276/500 | Ep. Total Reward: 10.0 | Epsilon : 0.100 | Eval Rwd Mean: 8.67 | Eval Rwd Var: 0.22\n",
            "Episode 277/500 | Ep. Total Reward: 10.0 | Epsilon : 0.100 | Eval Rwd Mean: 9.00 | Eval Rwd Var: 0.67\n",
            "Episode 278/500 | Ep. Total Reward: 8.0 | Epsilon : 0.100 | Eval Rwd Mean: 9.33 | Eval Rwd Var: 0.89\n",
            "Episode 279/500 | Ep. Total Reward: 10.0 | Epsilon : 0.100 | Eval Rwd Mean: 9.67 | Eval Rwd Var: 0.22\n",
            "Episode 280/500 | Ep. Total Reward: 9.0 | Epsilon : 0.100 | Eval Rwd Mean: 9.33 | Eval Rwd Var: 0.22\n",
            "Episode 281/500 | Ep. Total Reward: 10.0 | Epsilon : 0.100 | Eval Rwd Mean: 10.00 | Eval Rwd Var: 0.00\n",
            "Episode 282/500 | Ep. Total Reward: 12.0 | Epsilon : 0.100 | Eval Rwd Mean: 9.00 | Eval Rwd Var: 0.00\n",
            "Episode 283/500 | Ep. Total Reward: 10.0 | Epsilon : 0.100 | Eval Rwd Mean: 9.33 | Eval Rwd Var: 0.89\n",
            "Episode 284/500 | Ep. Total Reward: 9.0 | Epsilon : 0.100 | Eval Rwd Mean: 9.33 | Eval Rwd Var: 0.22\n",
            "Episode 285/500 | Ep. Total Reward: 8.0 | Epsilon : 0.100 | Eval Rwd Mean: 9.33 | Eval Rwd Var: 0.22\n",
            "Episode 286/500 | Ep. Total Reward: 10.0 | Epsilon : 0.100 | Eval Rwd Mean: 10.00 | Eval Rwd Var: 0.00\n",
            "Episode 287/500 | Ep. Total Reward: 9.0 | Epsilon : 0.100 | Eval Rwd Mean: 9.33 | Eval Rwd Var: 0.22\n",
            "Episode 288/500 | Ep. Total Reward: 9.0 | Epsilon : 0.100 | Eval Rwd Mean: 9.00 | Eval Rwd Var: 0.00\n",
            "Episode 289/500 | Ep. Total Reward: 10.0 | Epsilon : 0.100 | Eval Rwd Mean: 9.67 | Eval Rwd Var: 0.22\n",
            "Episode 290/500 | Ep. Total Reward: 9.0 | Epsilon : 0.100 | Eval Rwd Mean: 9.00 | Eval Rwd Var: 0.00\n",
            "Episode 291/500 | Ep. Total Reward: 11.0 | Epsilon : 0.100 | Eval Rwd Mean: 9.33 | Eval Rwd Var: 0.22\n",
            "Episode 292/500 | Ep. Total Reward: 13.0 | Epsilon : 0.100 | Eval Rwd Mean: 9.67 | Eval Rwd Var: 0.22\n",
            "Episode 293/500 | Ep. Total Reward: 9.0 | Epsilon : 0.100 | Eval Rwd Mean: 10.00 | Eval Rwd Var: 0.67\n",
            "Episode 294/500 | Ep. Total Reward: 11.0 | Epsilon : 0.100 | Eval Rwd Mean: 10.00 | Eval Rwd Var: 0.67\n",
            "Episode 295/500 | Ep. Total Reward: 12.0 | Epsilon : 0.100 | Eval Rwd Mean: 9.67 | Eval Rwd Var: 0.22\n",
            "Episode 296/500 | Ep. Total Reward: 11.0 | Epsilon : 0.100 | Eval Rwd Mean: 10.33 | Eval Rwd Var: 0.89\n",
            "Episode 297/500 | Ep. Total Reward: 10.0 | Epsilon : 0.100 | Eval Rwd Mean: 9.67 | Eval Rwd Var: 0.22\n",
            "Episode 298/500 | Ep. Total Reward: 8.0 | Epsilon : 0.100 | Eval Rwd Mean: 10.33 | Eval Rwd Var: 1.56\n",
            "Episode 299/500 | Ep. Total Reward: 10.0 | Epsilon : 0.100 | Eval Rwd Mean: 10.67 | Eval Rwd Var: 0.89\n",
            "Episode 300/500 | Ep. Total Reward: 11.0 | Epsilon : 0.100 | Eval Rwd Mean: 9.33 | Eval Rwd Var: 0.22\n",
            "Episode 301/500 | Ep. Total Reward: 9.0 | Epsilon : 0.100 | Eval Rwd Mean: 8.33 | Eval Rwd Var: 0.22\n",
            "Episode 302/500 | Ep. Total Reward: 9.0 | Epsilon : 0.100 | Eval Rwd Mean: 9.33 | Eval Rwd Var: 0.89\n",
            "Episode 303/500 | Ep. Total Reward: 9.0 | Epsilon : 0.100 | Eval Rwd Mean: 9.33 | Eval Rwd Var: 0.22\n",
            "Episode 304/500 | Ep. Total Reward: 9.0 | Epsilon : 0.100 | Eval Rwd Mean: 9.00 | Eval Rwd Var: 0.67\n",
            "Episode 305/500 | Ep. Total Reward: 10.0 | Epsilon : 0.100 | Eval Rwd Mean: 9.00 | Eval Rwd Var: 0.67\n",
            "Episode 306/500 | Ep. Total Reward: 10.0 | Epsilon : 0.100 | Eval Rwd Mean: 9.00 | Eval Rwd Var: 0.67\n",
            "Episode 307/500 | Ep. Total Reward: 9.0 | Epsilon : 0.100 | Eval Rwd Mean: 9.33 | Eval Rwd Var: 0.22\n",
            "Episode 308/500 | Ep. Total Reward: 10.0 | Epsilon : 0.100 | Eval Rwd Mean: 9.67 | Eval Rwd Var: 0.22\n",
            "Episode 309/500 | Ep. Total Reward: 9.0 | Epsilon : 0.100 | Eval Rwd Mean: 9.33 | Eval Rwd Var: 0.89\n",
            "Episode 310/500 | Ep. Total Reward: 9.0 | Epsilon : 0.100 | Eval Rwd Mean: 9.67 | Eval Rwd Var: 0.22\n",
            "Episode 311/500 | Ep. Total Reward: 9.0 | Epsilon : 0.100 | Eval Rwd Mean: 10.00 | Eval Rwd Var: 0.00\n",
            "Episode 312/500 | Ep. Total Reward: 10.0 | Epsilon : 0.100 | Eval Rwd Mean: 9.00 | Eval Rwd Var: 0.67\n",
            "Episode 313/500 | Ep. Total Reward: 10.0 | Epsilon : 0.100 | Eval Rwd Mean: 9.00 | Eval Rwd Var: 0.67\n",
            "Episode 314/500 | Ep. Total Reward: 11.0 | Epsilon : 0.100 | Eval Rwd Mean: 9.67 | Eval Rwd Var: 0.22\n",
            "Episode 315/500 | Ep. Total Reward: 9.0 | Epsilon : 0.100 | Eval Rwd Mean: 9.67 | Eval Rwd Var: 0.22\n",
            "Episode 316/500 | Ep. Total Reward: 10.0 | Epsilon : 0.100 | Eval Rwd Mean: 8.67 | Eval Rwd Var: 0.22\n",
            "Episode 317/500 | Ep. Total Reward: 9.0 | Epsilon : 0.100 | Eval Rwd Mean: 9.67 | Eval Rwd Var: 0.22\n",
            "Episode 318/500 | Ep. Total Reward: 10.0 | Epsilon : 0.100 | Eval Rwd Mean: 8.67 | Eval Rwd Var: 0.22\n",
            "Episode 319/500 | Ep. Total Reward: 11.0 | Epsilon : 0.100 | Eval Rwd Mean: 10.00 | Eval Rwd Var: 0.67\n",
            "Episode 320/500 | Ep. Total Reward: 9.0 | Epsilon : 0.100 | Eval Rwd Mean: 9.67 | Eval Rwd Var: 0.22\n",
            "Episode 321/500 | Ep. Total Reward: 9.0 | Epsilon : 0.100 | Eval Rwd Mean: 8.67 | Eval Rwd Var: 0.22\n",
            "Episode 322/500 | Ep. Total Reward: 10.0 | Epsilon : 0.100 | Eval Rwd Mean: 9.33 | Eval Rwd Var: 0.22\n",
            "Episode 323/500 | Ep. Total Reward: 12.0 | Epsilon : 0.100 | Eval Rwd Mean: 9.33 | Eval Rwd Var: 1.56\n",
            "Episode 324/500 | Ep. Total Reward: 9.0 | Epsilon : 0.100 | Eval Rwd Mean: 9.33 | Eval Rwd Var: 0.22\n",
            "Episode 325/500 | Ep. Total Reward: 9.0 | Epsilon : 0.100 | Eval Rwd Mean: 9.33 | Eval Rwd Var: 0.89\n",
            "Episode 326/500 | Ep. Total Reward: 10.0 | Epsilon : 0.100 | Eval Rwd Mean: 9.33 | Eval Rwd Var: 0.22\n",
            "Episode 327/500 | Ep. Total Reward: 8.0 | Epsilon : 0.100 | Eval Rwd Mean: 9.33 | Eval Rwd Var: 0.89\n",
            "Episode 328/500 | Ep. Total Reward: 10.0 | Epsilon : 0.100 | Eval Rwd Mean: 9.67 | Eval Rwd Var: 1.56\n",
            "Episode 329/500 | Ep. Total Reward: 9.0 | Epsilon : 0.100 | Eval Rwd Mean: 9.33 | Eval Rwd Var: 0.22\n",
            "Episode 330/500 | Ep. Total Reward: 9.0 | Epsilon : 0.100 | Eval Rwd Mean: 9.33 | Eval Rwd Var: 0.89\n",
            "Episode 331/500 | Ep. Total Reward: 9.0 | Epsilon : 0.100 | Eval Rwd Mean: 9.33 | Eval Rwd Var: 0.22\n",
            "Episode 332/500 | Ep. Total Reward: 10.0 | Epsilon : 0.100 | Eval Rwd Mean: 9.33 | Eval Rwd Var: 1.56\n",
            "Episode 333/500 | Ep. Total Reward: 10.0 | Epsilon : 0.100 | Eval Rwd Mean: 10.33 | Eval Rwd Var: 0.22\n",
            "Episode 334/500 | Ep. Total Reward: 9.0 | Epsilon : 0.100 | Eval Rwd Mean: 9.33 | Eval Rwd Var: 0.89\n",
            "Episode 335/500 | Ep. Total Reward: 10.0 | Epsilon : 0.100 | Eval Rwd Mean: 10.67 | Eval Rwd Var: 0.22\n",
            "Episode 336/500 | Ep. Total Reward: 10.0 | Epsilon : 0.100 | Eval Rwd Mean: 10.33 | Eval Rwd Var: 1.56\n",
            "Episode 337/500 | Ep. Total Reward: 9.0 | Epsilon : 0.100 | Eval Rwd Mean: 8.67 | Eval Rwd Var: 0.22\n",
            "Episode 338/500 | Ep. Total Reward: 12.0 | Epsilon : 0.100 | Eval Rwd Mean: 8.67 | Eval Rwd Var: 0.22\n",
            "Episode 339/500 | Ep. Total Reward: 12.0 | Epsilon : 0.100 | Eval Rwd Mean: 9.33 | Eval Rwd Var: 0.22\n",
            "Episode 340/500 | Ep. Total Reward: 9.0 | Epsilon : 0.100 | Eval Rwd Mean: 10.00 | Eval Rwd Var: 0.67\n",
            "Episode 341/500 | Ep. Total Reward: 9.0 | Epsilon : 0.100 | Eval Rwd Mean: 9.33 | Eval Rwd Var: 0.22\n",
            "Episode 342/500 | Ep. Total Reward: 10.0 | Epsilon : 0.100 | Eval Rwd Mean: 9.67 | Eval Rwd Var: 0.22\n",
            "Episode 343/500 | Ep. Total Reward: 11.0 | Epsilon : 0.100 | Eval Rwd Mean: 9.33 | Eval Rwd Var: 0.22\n",
            "Episode 344/500 | Ep. Total Reward: 10.0 | Epsilon : 0.100 | Eval Rwd Mean: 10.00 | Eval Rwd Var: 0.67\n",
            "Episode 345/500 | Ep. Total Reward: 10.0 | Epsilon : 0.100 | Eval Rwd Mean: 9.00 | Eval Rwd Var: 0.00\n",
            "Episode 346/500 | Ep. Total Reward: 9.0 | Epsilon : 0.100 | Eval Rwd Mean: 9.00 | Eval Rwd Var: 0.67\n",
            "Episode 347/500 | Ep. Total Reward: 9.0 | Epsilon : 0.100 | Eval Rwd Mean: 9.67 | Eval Rwd Var: 0.22\n",
            "Episode 348/500 | Ep. Total Reward: 10.0 | Epsilon : 0.100 | Eval Rwd Mean: 9.33 | Eval Rwd Var: 0.22\n",
            "Episode 349/500 | Ep. Total Reward: 11.0 | Epsilon : 0.100 | Eval Rwd Mean: 9.33 | Eval Rwd Var: 0.22\n",
            "Episode 350/500 | Ep. Total Reward: 9.0 | Epsilon : 0.100 | Eval Rwd Mean: 9.33 | Eval Rwd Var: 0.89\n",
            "Episode 351/500 | Ep. Total Reward: 11.0 | Epsilon : 0.100 | Eval Rwd Mean: 9.00 | Eval Rwd Var: 0.67\n",
            "Episode 352/500 | Ep. Total Reward: 9.0 | Epsilon : 0.100 | Eval Rwd Mean: 9.67 | Eval Rwd Var: 0.22\n",
            "Episode 353/500 | Ep. Total Reward: 10.0 | Epsilon : 0.100 | Eval Rwd Mean: 9.33 | Eval Rwd Var: 0.22\n",
            "Episode 354/500 | Ep. Total Reward: 10.0 | Epsilon : 0.100 | Eval Rwd Mean: 9.67 | Eval Rwd Var: 1.56\n",
            "Episode 355/500 | Ep. Total Reward: 10.0 | Epsilon : 0.100 | Eval Rwd Mean: 9.67 | Eval Rwd Var: 0.22\n",
            "Episode 356/500 | Ep. Total Reward: 12.0 | Epsilon : 0.100 | Eval Rwd Mean: 10.33 | Eval Rwd Var: 0.89\n",
            "Episode 357/500 | Ep. Total Reward: 12.0 | Epsilon : 0.100 | Eval Rwd Mean: 9.67 | Eval Rwd Var: 0.22\n",
            "Episode 358/500 | Ep. Total Reward: 10.0 | Epsilon : 0.100 | Eval Rwd Mean: 9.33 | Eval Rwd Var: 0.22\n",
            "Episode 359/500 | Ep. Total Reward: 12.0 | Epsilon : 0.100 | Eval Rwd Mean: 9.00 | Eval Rwd Var: 0.00\n",
            "Episode 360/500 | Ep. Total Reward: 10.0 | Epsilon : 0.100 | Eval Rwd Mean: 9.67 | Eval Rwd Var: 0.22\n",
            "Episode 361/500 | Ep. Total Reward: 10.0 | Epsilon : 0.100 | Eval Rwd Mean: 9.67 | Eval Rwd Var: 0.22\n",
            "Episode 362/500 | Ep. Total Reward: 10.0 | Epsilon : 0.100 | Eval Rwd Mean: 9.67 | Eval Rwd Var: 0.22\n",
            "Episode 363/500 | Ep. Total Reward: 9.0 | Epsilon : 0.100 | Eval Rwd Mean: 9.33 | Eval Rwd Var: 0.22\n",
            "Episode 364/500 | Ep. Total Reward: 11.0 | Epsilon : 0.100 | Eval Rwd Mean: 9.33 | Eval Rwd Var: 1.56\n",
            "Episode 365/500 | Ep. Total Reward: 9.0 | Epsilon : 0.100 | Eval Rwd Mean: 9.67 | Eval Rwd Var: 0.22\n",
            "Episode 366/500 | Ep. Total Reward: 9.0 | Epsilon : 0.100 | Eval Rwd Mean: 9.33 | Eval Rwd Var: 0.89\n",
            "Episode 367/500 | Ep. Total Reward: 10.0 | Epsilon : 0.100 | Eval Rwd Mean: 10.33 | Eval Rwd Var: 0.22\n",
            "Episode 368/500 | Ep. Total Reward: 8.0 | Epsilon : 0.100 | Eval Rwd Mean: 9.67 | Eval Rwd Var: 0.22\n",
            "Episode 369/500 | Ep. Total Reward: 10.0 | Epsilon : 0.100 | Eval Rwd Mean: 9.67 | Eval Rwd Var: 0.22\n",
            "Episode 370/500 | Ep. Total Reward: 10.0 | Epsilon : 0.100 | Eval Rwd Mean: 10.00 | Eval Rwd Var: 0.00\n",
            "Episode 371/500 | Ep. Total Reward: 13.0 | Epsilon : 0.100 | Eval Rwd Mean: 9.33 | Eval Rwd Var: 0.22\n",
            "Episode 372/500 | Ep. Total Reward: 13.0 | Epsilon : 0.100 | Eval Rwd Mean: 9.67 | Eval Rwd Var: 0.22\n",
            "Episode 373/500 | Ep. Total Reward: 10.0 | Epsilon : 0.100 | Eval Rwd Mean: 9.67 | Eval Rwd Var: 0.22\n",
            "Episode 374/500 | Ep. Total Reward: 11.0 | Epsilon : 0.100 | Eval Rwd Mean: 10.00 | Eval Rwd Var: 0.67\n",
            "Episode 375/500 | Ep. Total Reward: 8.0 | Epsilon : 0.100 | Eval Rwd Mean: 9.00 | Eval Rwd Var: 0.67\n",
            "Episode 376/500 | Ep. Total Reward: 9.0 | Epsilon : 0.100 | Eval Rwd Mean: 9.00 | Eval Rwd Var: 0.00\n",
            "Episode 377/500 | Ep. Total Reward: 10.0 | Epsilon : 0.100 | Eval Rwd Mean: 9.00 | Eval Rwd Var: 0.00\n",
            "Episode 378/500 | Ep. Total Reward: 10.0 | Epsilon : 0.100 | Eval Rwd Mean: 9.67 | Eval Rwd Var: 0.89\n",
            "Episode 379/500 | Ep. Total Reward: 15.0 | Epsilon : 0.100 | Eval Rwd Mean: 9.00 | Eval Rwd Var: 0.67\n",
            "Episode 380/500 | Ep. Total Reward: 18.0 | Epsilon : 0.100 | Eval Rwd Mean: 10.33 | Eval Rwd Var: 0.22\n",
            "Episode 381/500 | Ep. Total Reward: 10.0 | Epsilon : 0.100 | Eval Rwd Mean: 8.67 | Eval Rwd Var: 0.22\n",
            "Episode 382/500 | Ep. Total Reward: 9.0 | Epsilon : 0.100 | Eval Rwd Mean: 9.67 | Eval Rwd Var: 0.22\n",
            "Episode 383/500 | Ep. Total Reward: 10.0 | Epsilon : 0.100 | Eval Rwd Mean: 9.33 | Eval Rwd Var: 0.22\n",
            "Episode 384/500 | Ep. Total Reward: 8.0 | Epsilon : 0.100 | Eval Rwd Mean: 8.67 | Eval Rwd Var: 0.22\n",
            "Episode 385/500 | Ep. Total Reward: 9.0 | Epsilon : 0.100 | Eval Rwd Mean: 9.00 | Eval Rwd Var: 0.67\n",
            "Episode 386/500 | Ep. Total Reward: 9.0 | Epsilon : 0.100 | Eval Rwd Mean: 9.67 | Eval Rwd Var: 0.22\n",
            "Episode 387/500 | Ep. Total Reward: 9.0 | Epsilon : 0.100 | Eval Rwd Mean: 10.00 | Eval Rwd Var: 0.67\n",
            "Episode 388/500 | Ep. Total Reward: 11.0 | Epsilon : 0.100 | Eval Rwd Mean: 10.67 | Eval Rwd Var: 0.22\n",
            "Episode 389/500 | Ep. Total Reward: 9.0 | Epsilon : 0.100 | Eval Rwd Mean: 11.00 | Eval Rwd Var: 0.00\n",
            "Episode 390/500 | Ep. Total Reward: 9.0 | Epsilon : 0.100 | Eval Rwd Mean: 9.33 | Eval Rwd Var: 0.22\n",
            "Episode 391/500 | Ep. Total Reward: 10.0 | Epsilon : 0.100 | Eval Rwd Mean: 9.33 | Eval Rwd Var: 0.22\n",
            "Episode 392/500 | Ep. Total Reward: 10.0 | Epsilon : 0.100 | Eval Rwd Mean: 9.00 | Eval Rwd Var: 0.00\n",
            "Episode 393/500 | Ep. Total Reward: 9.0 | Epsilon : 0.100 | Eval Rwd Mean: 9.67 | Eval Rwd Var: 0.22\n",
            "Episode 394/500 | Ep. Total Reward: 11.0 | Epsilon : 0.100 | Eval Rwd Mean: 9.33 | Eval Rwd Var: 0.89\n",
            "Episode 395/500 | Ep. Total Reward: 9.0 | Epsilon : 0.100 | Eval Rwd Mean: 9.33 | Eval Rwd Var: 0.22\n",
            "Episode 396/500 | Ep. Total Reward: 10.0 | Epsilon : 0.100 | Eval Rwd Mean: 9.33 | Eval Rwd Var: 0.22\n",
            "Episode 397/500 | Ep. Total Reward: 13.0 | Epsilon : 0.100 | Eval Rwd Mean: 9.33 | Eval Rwd Var: 0.22\n",
            "Episode 398/500 | Ep. Total Reward: 9.0 | Epsilon : 0.100 | Eval Rwd Mean: 9.00 | Eval Rwd Var: 0.67\n",
            "Episode 399/500 | Ep. Total Reward: 10.0 | Epsilon : 0.100 | Eval Rwd Mean: 10.00 | Eval Rwd Var: 0.00\n",
            "Episode 400/500 | Ep. Total Reward: 11.0 | Epsilon : 0.100 | Eval Rwd Mean: 9.00 | Eval Rwd Var: 0.67\n",
            "Episode 401/500 | Ep. Total Reward: 10.0 | Epsilon : 0.100 | Eval Rwd Mean: 9.33 | Eval Rwd Var: 0.22\n",
            "Episode 402/500 | Ep. Total Reward: 9.0 | Epsilon : 0.100 | Eval Rwd Mean: 9.00 | Eval Rwd Var: 0.00\n",
            "Episode 403/500 | Ep. Total Reward: 11.0 | Epsilon : 0.100 | Eval Rwd Mean: 9.67 | Eval Rwd Var: 0.22\n",
            "Episode 404/500 | Ep. Total Reward: 13.0 | Epsilon : 0.100 | Eval Rwd Mean: 9.33 | Eval Rwd Var: 0.89\n",
            "Episode 405/500 | Ep. Total Reward: 9.0 | Epsilon : 0.100 | Eval Rwd Mean: 10.33 | Eval Rwd Var: 0.22\n",
            "Episode 406/500 | Ep. Total Reward: 9.0 | Epsilon : 0.100 | Eval Rwd Mean: 9.00 | Eval Rwd Var: 0.67\n",
            "Episode 407/500 | Ep. Total Reward: 11.0 | Epsilon : 0.100 | Eval Rwd Mean: 10.00 | Eval Rwd Var: 0.00\n",
            "Episode 408/500 | Ep. Total Reward: 11.0 | Epsilon : 0.100 | Eval Rwd Mean: 8.67 | Eval Rwd Var: 0.22\n",
            "Episode 409/500 | Ep. Total Reward: 10.0 | Epsilon : 0.100 | Eval Rwd Mean: 9.00 | Eval Rwd Var: 0.67\n",
            "Episode 410/500 | Ep. Total Reward: 10.0 | Epsilon : 0.100 | Eval Rwd Mean: 10.00 | Eval Rwd Var: 0.67\n",
            "Episode 411/500 | Ep. Total Reward: 9.0 | Epsilon : 0.100 | Eval Rwd Mean: 10.00 | Eval Rwd Var: 0.67\n",
            "Episode 412/500 | Ep. Total Reward: 11.0 | Epsilon : 0.100 | Eval Rwd Mean: 8.67 | Eval Rwd Var: 0.22\n",
            "Episode 413/500 | Ep. Total Reward: 9.0 | Epsilon : 0.100 | Eval Rwd Mean: 10.00 | Eval Rwd Var: 0.00\n",
            "Episode 414/500 | Ep. Total Reward: 11.0 | Epsilon : 0.100 | Eval Rwd Mean: 10.33 | Eval Rwd Var: 0.22\n",
            "Episode 415/500 | Ep. Total Reward: 9.0 | Epsilon : 0.100 | Eval Rwd Mean: 9.67 | Eval Rwd Var: 0.22\n",
            "Episode 416/500 | Ep. Total Reward: 10.0 | Epsilon : 0.100 | Eval Rwd Mean: 9.33 | Eval Rwd Var: 0.22\n",
            "Episode 417/500 | Ep. Total Reward: 11.0 | Epsilon : 0.100 | Eval Rwd Mean: 9.33 | Eval Rwd Var: 0.22\n",
            "Episode 418/500 | Ep. Total Reward: 9.0 | Epsilon : 0.100 | Eval Rwd Mean: 9.00 | Eval Rwd Var: 0.67\n",
            "Episode 419/500 | Ep. Total Reward: 9.0 | Epsilon : 0.100 | Eval Rwd Mean: 9.67 | Eval Rwd Var: 0.22\n",
            "Episode 420/500 | Ep. Total Reward: 11.0 | Epsilon : 0.100 | Eval Rwd Mean: 9.33 | Eval Rwd Var: 0.22\n",
            "Episode 421/500 | Ep. Total Reward: 12.0 | Epsilon : 0.100 | Eval Rwd Mean: 9.67 | Eval Rwd Var: 0.22\n",
            "Episode 422/500 | Ep. Total Reward: 10.0 | Epsilon : 0.100 | Eval Rwd Mean: 9.67 | Eval Rwd Var: 0.22\n",
            "Episode 423/500 | Ep. Total Reward: 9.0 | Epsilon : 0.100 | Eval Rwd Mean: 10.33 | Eval Rwd Var: 0.22\n",
            "Episode 424/500 | Ep. Total Reward: 10.0 | Epsilon : 0.100 | Eval Rwd Mean: 9.33 | Eval Rwd Var: 0.22\n",
            "Episode 425/500 | Ep. Total Reward: 11.0 | Epsilon : 0.100 | Eval Rwd Mean: 9.67 | Eval Rwd Var: 0.22\n",
            "Episode 426/500 | Ep. Total Reward: 10.0 | Epsilon : 0.100 | Eval Rwd Mean: 9.67 | Eval Rwd Var: 0.89\n",
            "Episode 427/500 | Ep. Total Reward: 11.0 | Epsilon : 0.100 | Eval Rwd Mean: 9.33 | Eval Rwd Var: 0.89\n",
            "Episode 428/500 | Ep. Total Reward: 10.0 | Epsilon : 0.100 | Eval Rwd Mean: 9.33 | Eval Rwd Var: 0.22\n",
            "Episode 429/500 | Ep. Total Reward: 10.0 | Epsilon : 0.100 | Eval Rwd Mean: 9.33 | Eval Rwd Var: 0.22\n",
            "Episode 430/500 | Ep. Total Reward: 10.0 | Epsilon : 0.100 | Eval Rwd Mean: 10.00 | Eval Rwd Var: 0.67\n",
            "Episode 431/500 | Ep. Total Reward: 10.0 | Epsilon : 0.100 | Eval Rwd Mean: 10.00 | Eval Rwd Var: 0.67\n",
            "Episode 432/500 | Ep. Total Reward: 10.0 | Epsilon : 0.100 | Eval Rwd Mean: 9.00 | Eval Rwd Var: 0.67\n",
            "Episode 433/500 | Ep. Total Reward: 10.0 | Epsilon : 0.100 | Eval Rwd Mean: 10.00 | Eval Rwd Var: 0.67\n",
            "Episode 434/500 | Ep. Total Reward: 10.0 | Epsilon : 0.100 | Eval Rwd Mean: 9.67 | Eval Rwd Var: 0.22\n",
            "Episode 435/500 | Ep. Total Reward: 9.0 | Epsilon : 0.100 | Eval Rwd Mean: 9.67 | Eval Rwd Var: 0.89\n",
            "Episode 436/500 | Ep. Total Reward: 10.0 | Epsilon : 0.100 | Eval Rwd Mean: 9.67 | Eval Rwd Var: 0.22\n",
            "Episode 437/500 | Ep. Total Reward: 10.0 | Epsilon : 0.100 | Eval Rwd Mean: 9.33 | Eval Rwd Var: 0.89\n",
            "Episode 438/500 | Ep. Total Reward: 11.0 | Epsilon : 0.100 | Eval Rwd Mean: 9.67 | Eval Rwd Var: 0.22\n",
            "Episode 439/500 | Ep. Total Reward: 9.0 | Epsilon : 0.100 | Eval Rwd Mean: 10.00 | Eval Rwd Var: 0.67\n",
            "Episode 440/500 | Ep. Total Reward: 9.0 | Epsilon : 0.100 | Eval Rwd Mean: 9.00 | Eval Rwd Var: 0.00\n",
            "Episode 441/500 | Ep. Total Reward: 10.0 | Epsilon : 0.100 | Eval Rwd Mean: 8.67 | Eval Rwd Var: 0.89\n",
            "Episode 442/500 | Ep. Total Reward: 10.0 | Epsilon : 0.100 | Eval Rwd Mean: 10.00 | Eval Rwd Var: 0.67\n",
            "Episode 443/500 | Ep. Total Reward: 10.0 | Epsilon : 0.100 | Eval Rwd Mean: 10.67 | Eval Rwd Var: 0.22\n",
            "Episode 444/500 | Ep. Total Reward: 11.0 | Epsilon : 0.100 | Eval Rwd Mean: 9.00 | Eval Rwd Var: 0.00\n",
            "Episode 445/500 | Ep. Total Reward: 12.0 | Epsilon : 0.100 | Eval Rwd Mean: 9.00 | Eval Rwd Var: 0.00\n",
            "Episode 446/500 | Ep. Total Reward: 11.0 | Epsilon : 0.100 | Eval Rwd Mean: 9.67 | Eval Rwd Var: 0.89\n",
            "Episode 447/500 | Ep. Total Reward: 8.0 | Epsilon : 0.100 | Eval Rwd Mean: 8.67 | Eval Rwd Var: 0.89\n",
            "Episode 448/500 | Ep. Total Reward: 10.0 | Epsilon : 0.100 | Eval Rwd Mean: 9.67 | Eval Rwd Var: 0.22\n",
            "Episode 449/500 | Ep. Total Reward: 11.0 | Epsilon : 0.100 | Eval Rwd Mean: 9.00 | Eval Rwd Var: 0.67\n",
            "Episode 450/500 | Ep. Total Reward: 11.0 | Epsilon : 0.100 | Eval Rwd Mean: 8.67 | Eval Rwd Var: 0.22\n",
            "Episode 451/500 | Ep. Total Reward: 9.0 | Epsilon : 0.100 | Eval Rwd Mean: 9.67 | Eval Rwd Var: 0.89\n",
            "Episode 452/500 | Ep. Total Reward: 11.0 | Epsilon : 0.100 | Eval Rwd Mean: 9.33 | Eval Rwd Var: 0.89\n",
            "Episode 453/500 | Ep. Total Reward: 10.0 | Epsilon : 0.100 | Eval Rwd Mean: 9.33 | Eval Rwd Var: 0.22\n",
            "Episode 454/500 | Ep. Total Reward: 9.0 | Epsilon : 0.100 | Eval Rwd Mean: 9.33 | Eval Rwd Var: 0.89\n",
            "Episode 455/500 | Ep. Total Reward: 9.0 | Epsilon : 0.100 | Eval Rwd Mean: 9.33 | Eval Rwd Var: 0.22\n",
            "Episode 456/500 | Ep. Total Reward: 10.0 | Epsilon : 0.100 | Eval Rwd Mean: 9.67 | Eval Rwd Var: 0.89\n",
            "Episode 457/500 | Ep. Total Reward: 11.0 | Epsilon : 0.100 | Eval Rwd Mean: 9.00 | Eval Rwd Var: 0.67\n",
            "Episode 458/500 | Ep. Total Reward: 11.0 | Epsilon : 0.100 | Eval Rwd Mean: 9.67 | Eval Rwd Var: 0.22\n",
            "Episode 459/500 | Ep. Total Reward: 13.0 | Epsilon : 0.100 | Eval Rwd Mean: 9.33 | Eval Rwd Var: 0.22\n",
            "Episode 460/500 | Ep. Total Reward: 8.0 | Epsilon : 0.100 | Eval Rwd Mean: 9.33 | Eval Rwd Var: 0.22\n",
            "Episode 461/500 | Ep. Total Reward: 9.0 | Epsilon : 0.100 | Eval Rwd Mean: 9.67 | Eval Rwd Var: 0.22\n",
            "Episode 462/500 | Ep. Total Reward: 10.0 | Epsilon : 0.100 | Eval Rwd Mean: 9.67 | Eval Rwd Var: 0.22\n",
            "Episode 463/500 | Ep. Total Reward: 13.0 | Epsilon : 0.100 | Eval Rwd Mean: 9.33 | Eval Rwd Var: 0.22\n",
            "Episode 464/500 | Ep. Total Reward: 9.0 | Epsilon : 0.100 | Eval Rwd Mean: 9.00 | Eval Rwd Var: 0.67\n",
            "Episode 465/500 | Ep. Total Reward: 10.0 | Epsilon : 0.100 | Eval Rwd Mean: 9.67 | Eval Rwd Var: 0.22\n",
            "Episode 466/500 | Ep. Total Reward: 13.0 | Epsilon : 0.100 | Eval Rwd Mean: 9.67 | Eval Rwd Var: 0.89\n",
            "Episode 467/500 | Ep. Total Reward: 11.0 | Epsilon : 0.100 | Eval Rwd Mean: 9.33 | Eval Rwd Var: 0.22\n",
            "Episode 468/500 | Ep. Total Reward: 10.0 | Epsilon : 0.100 | Eval Rwd Mean: 9.33 | Eval Rwd Var: 0.22\n",
            "Episode 469/500 | Ep. Total Reward: 10.0 | Epsilon : 0.100 | Eval Rwd Mean: 9.00 | Eval Rwd Var: 0.00\n",
            "Episode 470/500 | Ep. Total Reward: 10.0 | Epsilon : 0.100 | Eval Rwd Mean: 9.00 | Eval Rwd Var: 0.00\n",
            "Episode 471/500 | Ep. Total Reward: 10.0 | Epsilon : 0.100 | Eval Rwd Mean: 9.33 | Eval Rwd Var: 0.22\n",
            "Episode 472/500 | Ep. Total Reward: 10.0 | Epsilon : 0.100 | Eval Rwd Mean: 9.33 | Eval Rwd Var: 0.22\n",
            "Episode 473/500 | Ep. Total Reward: 9.0 | Epsilon : 0.100 | Eval Rwd Mean: 9.00 | Eval Rwd Var: 0.00\n",
            "Episode 474/500 | Ep. Total Reward: 9.0 | Epsilon : 0.100 | Eval Rwd Mean: 9.33 | Eval Rwd Var: 0.22\n",
            "Episode 475/500 | Ep. Total Reward: 12.0 | Epsilon : 0.100 | Eval Rwd Mean: 9.00 | Eval Rwd Var: 0.67\n",
            "Episode 476/500 | Ep. Total Reward: 10.0 | Epsilon : 0.100 | Eval Rwd Mean: 9.67 | Eval Rwd Var: 0.22\n",
            "Episode 477/500 | Ep. Total Reward: 11.0 | Epsilon : 0.100 | Eval Rwd Mean: 9.00 | Eval Rwd Var: 0.67\n",
            "Episode 478/500 | Ep. Total Reward: 11.0 | Epsilon : 0.100 | Eval Rwd Mean: 10.00 | Eval Rwd Var: 0.00\n",
            "Episode 479/500 | Ep. Total Reward: 9.0 | Epsilon : 0.100 | Eval Rwd Mean: 9.33 | Eval Rwd Var: 0.22\n",
            "Episode 480/500 | Ep. Total Reward: 10.0 | Epsilon : 0.100 | Eval Rwd Mean: 9.00 | Eval Rwd Var: 0.67\n",
            "Episode 481/500 | Ep. Total Reward: 10.0 | Epsilon : 0.100 | Eval Rwd Mean: 10.00 | Eval Rwd Var: 0.00\n",
            "Episode 482/500 | Ep. Total Reward: 8.0 | Epsilon : 0.100 | Eval Rwd Mean: 9.67 | Eval Rwd Var: 0.22\n",
            "Episode 483/500 | Ep. Total Reward: 10.0 | Epsilon : 0.100 | Eval Rwd Mean: 9.67 | Eval Rwd Var: 0.22\n",
            "Episode 484/500 | Ep. Total Reward: 11.0 | Epsilon : 0.100 | Eval Rwd Mean: 8.33 | Eval Rwd Var: 0.22\n",
            "Episode 485/500 | Ep. Total Reward: 9.0 | Epsilon : 0.100 | Eval Rwd Mean: 9.67 | Eval Rwd Var: 0.22\n",
            "Episode 486/500 | Ep. Total Reward: 10.0 | Epsilon : 0.100 | Eval Rwd Mean: 9.00 | Eval Rwd Var: 0.67\n",
            "Episode 487/500 | Ep. Total Reward: 10.0 | Epsilon : 0.100 | Eval Rwd Mean: 9.33 | Eval Rwd Var: 0.89\n",
            "Episode 488/500 | Ep. Total Reward: 10.0 | Epsilon : 0.100 | Eval Rwd Mean: 9.33 | Eval Rwd Var: 0.22\n",
            "Episode 489/500 | Ep. Total Reward: 11.0 | Epsilon : 0.100 | Eval Rwd Mean: 9.00 | Eval Rwd Var: 0.67\n",
            "Episode 490/500 | Ep. Total Reward: 11.0 | Epsilon : 0.100 | Eval Rwd Mean: 10.00 | Eval Rwd Var: 0.00\n",
            "Episode 491/500 | Ep. Total Reward: 9.0 | Epsilon : 0.100 | Eval Rwd Mean: 10.00 | Eval Rwd Var: 0.00\n",
            "Episode 492/500 | Ep. Total Reward: 9.0 | Epsilon : 0.100 | Eval Rwd Mean: 10.00 | Eval Rwd Var: 0.67\n",
            "Episode 493/500 | Ep. Total Reward: 10.0 | Epsilon : 0.100 | Eval Rwd Mean: 9.33 | Eval Rwd Var: 0.22\n",
            "Episode 494/500 | Ep. Total Reward: 10.0 | Epsilon : 0.100 | Eval Rwd Mean: 9.00 | Eval Rwd Var: 0.00\n",
            "Episode 495/500 | Ep. Total Reward: 9.0 | Epsilon : 0.100 | Eval Rwd Mean: 9.33 | Eval Rwd Var: 0.22\n",
            "Episode 496/500 | Ep. Total Reward: 9.0 | Epsilon : 0.100 | Eval Rwd Mean: 8.67 | Eval Rwd Var: 0.22\n",
            "Episode 497/500 | Ep. Total Reward: 9.0 | Epsilon : 0.100 | Eval Rwd Mean: 10.00 | Eval Rwd Var: 0.67\n",
            "Episode 498/500 | Ep. Total Reward: 9.0 | Epsilon : 0.100 | Eval Rwd Mean: 9.00 | Eval Rwd Var: 0.00\n",
            "Episode 499/500 | Ep. Total Reward: 9.0 | Epsilon : 0.100 | Eval Rwd Mean: 10.00 | Eval Rwd Var: 0.67\n",
            "Episode 500/500 | Ep. Total Reward: 11.0 | Epsilon : 0.100 | Eval Rwd Mean: 9.67 | Eval Rwd Var: 0.22\n",
            "Training time: 14.4822 seconds per episode\n"
          ]
        }
      ],
      "source": [
        "# For logging\n",
        "alt_train_reward_lst = []\n",
        "alt_eval_reward_mean_lst = []\n",
        "alt_eval_reward_var_lst = []\n",
        "\n",
        "\n",
        "# Set up environment\n",
        "env = gym.make(\"CartPole-v1\")\n",
        "state_size = env.observation_space.shape[0] # Number of observations (CartPole)\n",
        "action_size = env.action_space.n            # Number of possible actions\n",
        "\n",
        "model_dir = \"q_net_baseline_alt\"  # TensorBoard log directory\n",
        "cb = keras.callbacks.TensorBoard(log_dir = get_run_logdir(model_dir), histogram_freq=1)\n",
        "\n",
        "# For timing training\n",
        "total_training_time = 0\n",
        "\n",
        "for ep in range(episode):\n",
        "    state, _ = env.reset()\n",
        "    state = np.reshape(state, [1, state_size])\n",
        "    total_reward = 0\n",
        "\n",
        "    # record start time\n",
        "    start = time.time()\n",
        "\n",
        "    for _ in range(500):\n",
        "        # Interact with the environment with epsilon-greedy policy\n",
        "        if np.random.rand() <= epsilon:\n",
        "            action = np.random.choice(action_size)\n",
        "        else:\n",
        "            q_values = alt_model.predict(state, verbose=0)\n",
        "            action = np.argmax(q_values)\n",
        "\n",
        "        next_state, reward, terminated, truncated, _ = env.step(action)\n",
        "        next_state = np.reshape(next_state, [1, state_size])\n",
        "\n",
        "        done = terminated or truncated\n",
        "\n",
        "        # Train model using Q-Learning update:  Q(s, a) = r + gamma * max Q(s', a')\n",
        "        # [WriteCode]\n",
        "        q_base = alt_model.predict(state, verbose=0)\n",
        "        q_1_base = alt_model.predict(next_state, verbose=0)\n",
        "        if done:\n",
        "          q_target = reward\n",
        "        else:\n",
        "          q_target = reward + gamma * np.max(q_1_base)\n",
        "\n",
        "        q_feed = q_base.copy()\n",
        "        q_feed[0][action] = q_feed[0][action] + lr * (q_target - q_feed[0][action])\n",
        "        alt_model.fit(state, q_feed, epochs=epoch, verbose=0, batch_size=ba, callbacks=[cb])\n",
        "        # Hints:\n",
        "\n",
        "        # 1. Compute target Q-values:\n",
        "        # - If done, Q-target = reward (no future reward)\n",
        "        # - Otherwise, Q-target = reward + gamma * max(Q(next_state, a))\n",
        "\n",
        "        # 2. Predict current Q-values for state\n",
        "        # Update only the Q-value for the taken action\n",
        "\n",
        "        # new_q_val = current_q_val + lr * (q_target - current_q_val)\n",
        "        # print(new_q_val)\n",
        "        # 3. Fit the model:\n",
        "        # - Inputs: state\n",
        "        # - Targets: updated Q-values (with action Q-value replaced by computed target)\n",
        "        # model.fit(state, new_q_val, epochs=epoch, verbose=0, batch_size=ba)\n",
        "\n",
        "\n",
        "        # Update exploration rate\n",
        "        if epsilon > epsilon_min and ep % 10 == 0:\n",
        "            epsilon *= epsilon_decay\n",
        "\n",
        "        state = next_state\n",
        "        total_reward += reward\n",
        "\n",
        "        if done:\n",
        "            break\n",
        "\n",
        "    # record end time and log training time\n",
        "    end = time.time()\n",
        "    total_training_time += end - start\n",
        "\n",
        "    # Evaluation\n",
        "    # [WriteCode]\n",
        "    eval_reward_mean, eval_reward_var = evaluation(alt_model)\n",
        "\n",
        "    print(f\"Episode {ep + 1}/{episode} | Ep. Total Reward: {total_reward}\"\n",
        "        f\" | Epsilon : {epsilon:.3f}\"\n",
        "        f\" | Eval Rwd Mean: {eval_reward_mean:.2f}\"\n",
        "        f\" | Eval Rwd Var: {eval_reward_var:.2f}\")\n",
        "\n",
        "    # Log\n",
        "    alt_eval_reward_mean_lst.append(eval_reward_mean)\n",
        "    alt_eval_reward_var_lst.append(eval_reward_var)\n",
        "    alt_train_reward_lst.append(total_reward)\n",
        "\n",
        "    # Early Stopping Condition to avoid overfitting\n",
        "    # If the evaluation reward reaches the specified threshold, stop training early.\n",
        "    # The default threshold is set to 500, but you should adjust this based on observed training performance.\n",
        "    if eval_reward_mean >= 450 and eval_reward_var <= 50 ** 2: # [Modify this threshold as needed]\n",
        "        print(f\"Early stopping triggered at Episode {ep + 1}.\")\n",
        "        break\n",
        "\n",
        "# evaluate average training time per episode\n",
        "print(f\"Training time: {total_training_time/(ep + 1):.4f} seconds per episode\")\n",
        "\n",
        "env.close()\n"
      ]
    },
    {
      "cell_type": "code",
      "execution_count": 33,
      "metadata": {
        "colab": {
          "base_uri": "https://localhost:8080/",
          "height": 1000
        },
        "id": "wXCrGTHydncm",
        "outputId": "c75fb6aa-f8ff-4840-9199-e5372f2fb18c"
      },
      "outputs": [
        {
          "data": {
            "image/png": "[encoded data removed]",
            "text/plain": [
              "<Figure size 640x480 with 1 Axes>"
            ]
          },
          "metadata": {},
          "output_type": "display_data"
        },
        {
          "data": {
            "image/png": "[encoded data removed]",
            "text/plain": [
              "<Figure size 640x480 with 1 Axes>"
            ]
          },
          "metadata": {},
          "output_type": "display_data"
        },
        {
          "data": {
            "image/png": "[encoded data removed]",
            "text/plain": [
              "<Figure size 640x480 with 1 Axes>"
            ]
          },
          "metadata": {},
          "output_type": "display_data"
        }
      ],
      "source": [
        "# Write code to plot\n",
        "# 1) Moving Averaged Training Reward, 2) Evaluation Mean, 3) Evaluation Variance\n",
        "# [Write Code]\n",
        "\n",
        "plot_smoothed_training_rwd(alt_eval_reward_mean_lst)\n",
        "\n",
        "plot_eval_rwd_mean(alt_eval_reward_mean_lst)\n",
        "\n",
        "plot_eval_rwd_var(alt_eval_reward_var_lst)"
      ]
    },
    {
      "cell_type": "markdown",
      "metadata": {
        "id": "Lg9kBHn2slYF"
      },
      "source": [
        "## Comparison\n",
        "\n",
        "Compare performance of the Baseline and the Alternative Naive Q-Network Policies"
      ]
    },
    {
      "cell_type": "code",
      "execution_count": 34,
      "metadata": {},
      "outputs": [
        {
          "data": {
            "text/plain": [
              "[<tf.Variable 'dense/kernel:0' shape=(4, 32) dtype=float32, numpy=\n",
              " array([[-0.24312975, -0.16652642,  0.09981012, -0.34040082, -0.11309075,\n",
              "          0.02457953,  0.4744837 , -0.21267785, -0.39573798, -0.44623643,\n",
              "          0.19605532, -0.27265048,  0.04257224,  0.01804734,  0.51123405,\n",
              "          0.2366313 , -0.09936871, -0.15989806, -0.18060748, -0.5149632 ,\n",
              "         -0.29783374, -0.02540871,  0.02383539,  0.16287427,  0.37078428,\n",
              "          0.1983481 , -0.14935723,  0.35626066, -0.27282178,  0.20660357,\n",
              "         -0.00753143,  0.17060578],\n",
              "        [ 0.6075171 ,  0.52694196, -0.20519097,  0.11777545, -0.2898989 ,\n",
              "          0.18854626, -0.38119748, -0.73993236,  0.12217091,  0.26658675,\n",
              "          0.38961482,  0.32835293,  0.33149508,  0.30327958,  0.63012904,\n",
              "         -1.0853357 ,  0.12154969, -0.49851093,  0.22483627, -0.16965227,\n",
              "         -0.4857397 , -0.17440964,  0.34266517,  0.07247509,  0.01328713,\n",
              "         -0.11458964, -0.12541093,  0.42703822, -0.19605297,  0.4083152 ,\n",
              "         -0.14654608,  0.49364445],\n",
              "        [ 0.28757218,  0.19746418,  0.0949776 , -0.41823876, -1.1022822 ,\n",
              "         -1.177545  , -0.578443  , -0.2216199 , -0.20736419,  0.05829677,\n",
              "         -0.12575516, -0.41874227,  0.1347148 , -0.01697502,  0.47376817,\n",
              "         -1.1311115 , -0.5348135 , -0.3040396 , -0.41601604,  0.29015723,\n",
              "          0.05123546,  0.04339252,  0.2000886 , -0.5138827 , -0.33118123,\n",
              "         -0.36928383,  0.32000187, -0.46441424,  0.1861214 ,  0.02891718,\n",
              "          0.96566105, -0.17084037],\n",
              "        [-0.08891423,  0.44122273,  0.29043594, -0.5227378 , -0.8063079 ,\n",
              "         -1.329644  , -0.4389623 , -0.6066106 , -0.09013693,  0.50805277,\n",
              "          0.1262498 ,  0.11921331, -0.10408933,  0.04733201,  0.39751858,\n",
              "         -0.59805685, -0.4450287 ,  0.24902675,  0.07118843, -0.76307064,\n",
              "         -0.15743004,  0.2774763 ,  0.7928788 , -0.15014957, -0.2466509 ,\n",
              "          0.06603516, -0.24603069, -0.12165251,  0.20696983,  0.45934743,\n",
              "          0.75055385, -0.01209783]], dtype=float32)>,\n",
              " <tf.Variable 'dense/bias:0' shape=(32,) dtype=float32, numpy=\n",
              " array([-0.2355059 ,  0.49610025, -0.5435224 , -0.5194685 , -0.9240954 ,\n",
              "        -0.23637132, -0.26960066, -0.25312206, -0.17926624, -0.41715688,\n",
              "        -0.35699075, -0.16303293, -0.5922063 , -0.32971665, -0.43557414,\n",
              "         0.02415428, -0.20468272, -0.01654688,  0.53533685,  0.03021784,\n",
              "         0.08466747,  0.07702226,  0.10463099,  0.10541448,  0.40575725,\n",
              "         0.05437159, -0.12483547,  0.22418219, -0.22496182, -0.60617095,\n",
              "         0.0394735 , -0.45351437], dtype=float32)>,\n",
              " <tf.Variable 'dense_1/kernel:0' shape=(32, 32) dtype=float32, numpy=\n",
              " array([[-1.5051347 ,  0.1194719 ,  2.905271  , ...,  0.5097939 ,\n",
              "         -2.621704  ,  2.6222496 ],\n",
              "        [ 2.2806776 ,  1.6062542 , -3.1053247 , ...,  4.9979796 ,\n",
              "         -2.0017374 ,  5.6665864 ],\n",
              "        [ 2.1606846 , -2.3679283 ,  1.6057676 , ...,  0.35824078,\n",
              "          0.84733015, -0.40009683],\n",
              "        ...,\n",
              "        [-2.5645592 ,  2.9772115 ,  0.12202214, ...,  1.2766937 ,\n",
              "         -5.2327347 , -1.5633298 ],\n",
              "        [ 1.4952316 ,  1.5457445 , -0.16559733, ...,  0.70191365,\n",
              "          2.0563207 , -2.005361  ],\n",
              "        [ 4.1921606 ,  3.253234  ,  5.4283504 , ...,  0.48857605,\n",
              "         -2.3609326 , -5.088243  ]], dtype=float32)>,\n",
              " <tf.Variable 'dense_1/bias:0' shape=(32,) dtype=float32, numpy=\n",
              " array([-2.3993244 , -1.1078424 , -1.3779001 ,  1.3904243 ,  1.3686687 ,\n",
              "         0.89178336, -0.1002642 , -0.8241884 , -1.4207    ,  0.6340159 ,\n",
              "         0.27662188,  1.3040707 ,  1.2857795 ,  0.76723933,  1.5251466 ,\n",
              "         0.75503224, -0.31510964,  1.6444573 , -0.7972746 , -0.14449078,\n",
              "         1.1223578 , -1.3647839 , -1.2150029 ,  2.038242  , -1.5976548 ,\n",
              "         1.9156104 ,  1.7512497 ,  0.8724763 ,  0.5592504 ,  1.4154887 ,\n",
              "         1.7397895 ,  0.5794312 ], dtype=float32)>,\n",
              " <tf.Variable 'dense_2/kernel:0' shape=(32, 2) dtype=float32, numpy=\n",
              " array([[-1.8340503 , -1.4737707 ],\n",
              "        [-1.8980198 , -1.5755318 ],\n",
              "        [-1.3560382 , -1.4385518 ],\n",
              "        [ 1.2904128 ,  1.5577276 ],\n",
              "        [ 1.5818967 ,  1.615484  ],\n",
              "        [ 1.3136998 ,  1.615692  ],\n",
              "        [-1.8538257 , -0.35130197],\n",
              "        [-1.9359895 , -1.5011342 ],\n",
              "        [-1.7487508 , -1.7781112 ],\n",
              "        [ 1.8380843 ,  1.9115196 ],\n",
              "        [ 0.05101645, -0.7858261 ],\n",
              "        [ 1.3946254 ,  1.5256928 ],\n",
              "        [ 1.5770769 ,  1.7974179 ],\n",
              "        [ 1.8352977 ,  1.6723937 ],\n",
              "        [ 1.5378741 ,  1.4952236 ],\n",
              "        [ 1.3650776 ,  1.4798801 ],\n",
              "        [-1.0409473 ,  1.5858663 ],\n",
              "        [ 1.627545  ,  1.2773052 ],\n",
              "        [-1.1169436 , -1.3176618 ],\n",
              "        [ 0.82624507,  1.9762495 ],\n",
              "        [ 1.6988941 ,  1.7238568 ],\n",
              "        [-1.5913937 , -1.4127784 ],\n",
              "        [-1.3800577 , -1.5374075 ],\n",
              "        [ 1.576094  ,  1.5821046 ],\n",
              "        [-1.56642   , -1.6202956 ],\n",
              "        [ 1.8996434 ,  1.329479  ],\n",
              "        [ 1.4980346 ,  1.4221131 ],\n",
              "        [ 1.1721456 ,  0.78316003],\n",
              "        [ 0.75058925,  0.8104958 ],\n",
              "        [ 1.9503615 ,  1.5681777 ],\n",
              "        [ 1.8801117 ,  1.9606886 ],\n",
              "        [ 1.320845  ,  1.4478434 ]], dtype=float32)>,\n",
              " <tf.Variable 'dense_2/bias:0' shape=(2,) dtype=float32, numpy=array([1.7357749, 1.6421443], dtype=float32)>]"
            ]
          },
          "execution_count": 34,
          "metadata": {},
          "output_type": "execute_result"
        }
      ],
      "source": [
        "model.weights"
      ]
    },
    {
      "cell_type": "code",
      "execution_count": 35,
      "metadata": {},
      "outputs": [
        {
          "data": {
            "text/plain": [
              "[<tf.Variable 'dense_3/kernel:0' shape=(4, 32) dtype=float32, numpy=\n",
              " array([[-0.10034895, -0.21306753,  0.22261696, -0.4043346 , -0.3489552 ,\n",
              "          0.09005831,  0.16812025, -0.32264817, -0.35419634, -0.45727536,\n",
              "          0.44525427, -0.1761996 , -0.05756352, -0.11720254,  0.44011378,\n",
              "          0.19820601, -0.09987263, -0.37983218, -0.13018093, -0.27032956,\n",
              "         -0.26663667, -0.3370421 ,  0.03972057, -0.0199129 ,  0.25616845,\n",
              "          0.07628059, -0.3180288 ,  0.23397075, -0.15729567,  0.20772868,\n",
              "         -0.13516207,  0.28995872],\n",
              "        [ 0.45451465,  0.33331302, -0.18687002,  0.25982955,  0.01104182,\n",
              "          0.48377764, -0.02486246, -0.65687084,  0.15191507,  0.28302613,\n",
              "          0.41622043,  0.3850729 ,  0.42639485,  0.3253369 ,  0.3676658 ,\n",
              "         -0.51229197,  0.45673558, -0.5627792 ,  0.27810746, -0.24974626,\n",
              "         -0.41351035, -0.17100163, -0.11588094,  0.20579326,  0.16095151,\n",
              "         -0.36543167, -0.3588743 ,  0.43257228, -0.22499278,  0.2748419 ,\n",
              "         -0.27962276,  0.39032015],\n",
              "        [ 0.07924864, -0.06105168, -0.01342555, -0.02658371, -0.39223847,\n",
              "         -0.19714007,  0.00970116,  0.53634375,  0.14481856, -0.13151424,\n",
              "         -0.22107494, -0.30524084, -0.02191678, -0.16697359,  0.09695099,\n",
              "         -0.18622987,  0.10526924, -0.21103059, -0.17235   ,  0.23476872,\n",
              "         -0.18385516, -0.036687  , -0.53590184,  0.143585  , -0.02384018,\n",
              "         -0.04439204,  0.47262555, -0.55702114, -0.37822643, -0.16568908,\n",
              "          0.06407478, -0.05937051],\n",
              "        [-0.24869362,  0.28981212,  0.06563897, -0.42839995, -0.46821004,\n",
              "         -0.46299663, -0.14172597, -0.1367459 ,  0.3242347 ,  0.08509665,\n",
              "          0.16580224,  0.16957231, -0.44338802, -0.2182999 ,  0.08105718,\n",
              "         -0.12443752, -0.12066069,  0.523781  , -0.02595502, -0.50639397,\n",
              "         -0.34362873,  0.16436583,  0.22514187,  0.45783427,  0.08994464,\n",
              "          0.45767578, -0.05149808, -0.07109004, -0.32247475,  0.332611  ,\n",
              "         -0.04761501,  0.03572934]], dtype=float32)>,\n",
              " <tf.Variable 'dense_3/bias:0' shape=(32,) dtype=float32, numpy=\n",
              " array([ 0.06104754,  0.0044257 , -0.25199115,  0.2380871 ,  0.00890036,\n",
              "        -0.07599296, -0.04839153,  0.08646023, -0.22468393,  0.18705742,\n",
              "        -0.03682857, -0.24468596, -0.17529972,  0.10841478, -0.15002312,\n",
              "        -0.22075537,  0.14107652, -0.16842628,  0.00535122,  0.21172772,\n",
              "        -0.04704595,  0.05350684, -0.21816987, -0.09922005, -0.17662415,\n",
              "        -0.26791203, -0.04495086, -0.00410617,  0.02474143, -0.24035318,\n",
              "        -0.2022186 , -0.17868754], dtype=float32)>,\n",
              " <tf.Variable 'dense_4/kernel:0' shape=(32, 32) dtype=float32, numpy=\n",
              " array([[-2.4451542 , -0.05415656,  2.3156834 , ...,  1.0129145 ,\n",
              "         -1.6757594 ,  3.5271304 ],\n",
              "        [ 4.555125  ,  2.6837313 , -1.8696375 , ...,  3.7083752 ,\n",
              "         -3.7985995 ,  4.6807976 ],\n",
              "        [ 1.244478  , -3.3831673 ,  0.33307505, ...,  1.0079709 ,\n",
              "          1.3031793 , -0.01345568],\n",
              "        ...,\n",
              "        [-3.9836504 ,  1.8147681 , -1.4327435 , ...,  2.513812  ,\n",
              "         -4.679868  , -0.95853424],\n",
              "        [ 3.199473  ,  1.5725421 ,  0.12381548, ...,  0.17443395,\n",
              "          1.1103472 , -2.5335548 ],\n",
              "        [ 3.2307544 ,  2.1153116 ,  3.9286425 , ...,  1.8119527 ,\n",
              "         -1.7134613 , -4.3449655 ]], dtype=float32)>,\n",
              " <tf.Variable 'dense_4/bias:0' shape=(32,) dtype=float32, numpy=\n",
              " array([-0.45295954,  0.4564525 ,  0.11352075,  0.4782301 ,  0.10076092,\n",
              "         0.43000498, -0.23147833, -0.27872467,  0.29896462,  0.21770516,\n",
              "         0.30459347,  0.07107971, -0.42076993, -0.37380642,  0.07718122,\n",
              "         0.07704603,  0.43631276,  0.39477006, -0.27937537, -0.17380323,\n",
              "        -0.2881257 ,  0.28875893,  0.12140011, -0.45266005, -0.5161366 ,\n",
              "        -0.4606119 , -0.42881802,  0.172054  , -0.14070843, -0.28106198,\n",
              "         0.5937565 ,  0.27094853], dtype=float32)>,\n",
              " <tf.Variable 'dense_5/kernel:0' shape=(32, 2) dtype=float32, numpy=\n",
              " array([[-0.30463788, -0.33194467],\n",
              "        [ 0.24752215,  0.32362807],\n",
              "        [ 0.12038855,  0.06171655],\n",
              "        [ 0.34042135,  0.51241297],\n",
              "        [ 0.11917075, -0.01625396],\n",
              "        [ 0.20846722,  0.2834819 ],\n",
              "        [-0.43868682, -0.334171  ],\n",
              "        [-0.06665339, -0.16181214],\n",
              "        [-0.11811058,  0.3618206 ],\n",
              "        [ 0.00758058,  0.4812349 ],\n",
              "        [ 0.18503328,  0.40847874],\n",
              "        [ 0.04831975,  0.08388144],\n",
              "        [-0.07965595, -0.31716034],\n",
              "        [-0.06869943, -0.09977159],\n",
              "        [-0.36057863,  0.02790482],\n",
              "        [-0.2707955 ,  0.16502827],\n",
              "        [ 0.15777165,  0.27087754],\n",
              "        [ 0.1932702 ,  0.2717169 ],\n",
              "        [ 0.3709187 , -0.15817487],\n",
              "        [-0.44294167, -0.19804701],\n",
              "        [-0.29897186, -0.25563934],\n",
              "        [ 0.32460454,  0.48810014],\n",
              "        [-0.21813059,  0.20437023],\n",
              "        [-0.30305704, -0.44542012],\n",
              "        [-0.21831505, -0.4807988 ],\n",
              "        [-0.16641067, -0.06638369],\n",
              "        [-0.2729191 , -0.33301762],\n",
              "        [ 0.24942131,  0.0775956 ],\n",
              "        [-0.24026695, -0.13171883],\n",
              "        [-0.27828053, -0.39685047],\n",
              "        [ 0.05170427,  0.12009939],\n",
              "        [ 0.0254278 ,  0.4152162 ]], dtype=float32)>,\n",
              " <tf.Variable 'dense_5/bias:0' shape=(2,) dtype=float32, numpy=array([0.18596381, 0.23869199], dtype=float32)>]"
            ]
          },
          "execution_count": 35,
          "metadata": {},
          "output_type": "execute_result"
        }
      ],
      "source": [
        "alt_model.weights"
      ]
    },
    {
      "cell_type": "markdown",
      "metadata": {
        "id": "dhgXEg3097Ud"
      },
      "source": [
        "# Experience Replay Framework\n",
        "\n",
        "By now, you may have noticed that in a standard RL setup, the agent **only learns from its most recent experience** at each step. This makes training unstable and inefficient. Additionally, consecutive experiences are often highly correlated, which can lead to poor generalization.\n",
        "\n",
        "To address this, we will adopt the **Experience Replay Framework**, where past interactions are stored in a **Replay Buffer** and **a randomly sampled batch** is used to update the decision-making policy. This helps to:\n",
        "\n",
        "- **Break correlation** between consecutive experiences, stabilizing learning.\n",
        "- **Improve data efficiency** by reusing past experiences multiple times.\n",
        "- **Smooth training updates**, preventing abrupt policy changes.\n",
        "\n",
        "The figure below illustrates this process:\n",
        "\n",
        "<img src=\"https://drive.google.com/uc?export=view&id=1S3Z6Ngpzwz3haycLS-rzx-eBe9QT88MJ\" width=\"400\">\n",
        "\n",
        "- The Agent interacts with the Environment, taking actions based on its learned policy.\n",
        "- The Replay Buffer stores past experiences `(state, action, reward, next state, done)`.\n",
        "- Instead of updating after every step, the agent samples from the buffer and learns from past interactions.\n",
        "\n",
        "This framework is used in naive DQN, DQN and DDQN to stabilize Q-learning.\n",
        "\n"
      ]
    },
    {
      "cell_type": "markdown",
      "metadata": {
        "id": "CkfcXDjNriXH"
      },
      "source": [
        "## Implement Replay Buffer and Functions"
      ]
    },
    {
      "cell_type": "code",
      "execution_count": null,
      "metadata": {
        "id": "lJH9KigXsX8Y"
      },
      "outputs": [],
      "source": [
        "# Store (state, action, reward, next_state, done)\n",
        "def store_experience(replay_buffer, state, action, reward, next_stat, done):\n",
        "        replay_buffer.append((state, action, reward, next_state, done))\n",
        "\n",
        "# Sample (state, action, reward, next_state, done) mini-batch for training\n",
        "def sample_experience(replay_buffer, batch_size):\n",
        "\n",
        "    # Ensure we have enough samples\n",
        "    assert len(replay_buffer) >= batch_size, (\n",
        "        f\"Not enough samples in buffer to sample {batch_size} items.\")\n",
        "\n",
        "    # Sample a mini-batch\n",
        "    minibatch = random.sample(replay_buffer, batch_size)\n",
        "\n",
        "    states, actions, rewards, next_states, dones = zip(*minibatch)\n",
        "\n",
        "    states = np.array(states, dtype=np.float32).squeeze()\n",
        "    next_states = np.array(next_states, dtype=np.float32).squeeze()\n",
        "    actions = np.array(actions, dtype=np.int32)\n",
        "    rewards = np.array(rewards, dtype=np.float32)\n",
        "    dones = np.array(dones, dtype=np.float32)\n",
        "\n",
        "    return states, actions, rewards, next_states, dones\n",
        "\n",
        "# [Hint] You may find the following statements useful\n",
        "\"\"\"\n",
        "# Define replay buffer\n",
        "replay_buffer = deque(maxlen=10000)\n",
        "\n",
        "# Store experience tuple into replay_buffer\n",
        "store_experience(replay_buffer, state, action, reward, next_state, done)\n",
        "\n",
        "# Sample mini-batch of size ba from replay_buffer\n",
        "states, actions, rewards, next_states, dones = sample_experience(replay_buffer, ba)\n",
        "\"\"\""
      ]
    },
    {
      "cell_type": "markdown",
      "metadata": {
        "id": "OCkBN3gIiLFP"
      },
      "source": [
        "# Naive DQN - Baseline\n",
        "\n",
        "In this section, you will complete the Naive DQN alorithm by implementing the missing components marked as `[WriteCode]`.\n",
        "\n"
      ]
    },
    {
      "cell_type": "markdown",
      "metadata": {
        "id": "tyRVFFdXvFYk"
      },
      "source": [
        "## Define and Compile the Neural Network\n",
        "\n",
        "A single network $Q_\\theta$ (parameterized by $\\theta$) is used to approximate $Q(s,a)$.\n",
        "\n",
        "The target used by Naive DQN is then:\n",
        "\n",
        "$Y^{NaiveQ}_t = R_{t+1} + \\gamma Q_{\\theta}(S_{t+1}, a)$"
      ]
    },
    {
      "cell_type": "code",
      "execution_count": null,
      "metadata": {
        "id": "83PVW-l7DRc6"
      },
      "outputs": [],
      "source": [
        "# Naive DQN Baseline Model\n",
        "from keras.models import Sequential\n",
        "from keras.layers import Dense\n",
        "\n",
        "\n",
        "# [WriteCode] from ... import ...\n",
        "\n",
        "# Define the Q-network\n",
        "model = Sequential()\n",
        "\n",
        "# [WriteCode]\n",
        "# model.add(...\n",
        "\n",
        "# Compile the model\n",
        "# [WriteCode]\n",
        "\n",
        "# Print the model summary\n",
        "# [WriteCode]"
      ]
    },
    {
      "cell_type": "markdown",
      "metadata": {
        "id": "c9X6H46OIExH"
      },
      "source": [
        "## Set Up Env and Train the Policy"
      ]
    },
    {
      "cell_type": "code",
      "execution_count": null,
      "metadata": {
        "id": "wK70zqKbIHWJ"
      },
      "outputs": [],
      "source": [
        "# For logging\n",
        "train_reward_lst = []\n",
        "eval_reward_mean_lst = []\n",
        "eval_reward_var_lst = []\n",
        "\n",
        "# Set up environment\n",
        "env = gym.make(\"CartPole-v1\", render_mode=\"rgb_array\")\n",
        "state_size = env.observation_space.shape[0] # Number of observations (CartPole)\n",
        "action_size = env.action_space.n            # Number of possible actions\n",
        "\n",
        "model_dir = \"naive_dqn_baseline\"  # TensorBoard log directory\n",
        "cb = keras.callbacks.TensorBoard(log_dir = get_run_logdir(model_dir), histogram_freq=1)\n",
        "\n",
        "# For timing training\n",
        "total_training_time = 0\n",
        "\n",
        "# Define replay buffer\n",
        "# [WriteCode]\n",
        "# replay_buffer = ...\n",
        "\n",
        "for ep in range(episode):\n",
        "    state, _ = env.reset()\n",
        "    state = np.reshape(state, [1, state_size])\n",
        "    total_reward = 0\n",
        "\n",
        "    # record start time\n",
        "    start = time.time()\n",
        "\n",
        "    for _ in range(500):\n",
        "        # Interact with the environment with epsilon-greedy policy\n",
        "        if np.random.rand() <= epsilon:\n",
        "            action = np.random.choice(action_size)\n",
        "        else:\n",
        "            q_values = model.predict(state, verbose=0)\n",
        "            action = np.argmax(q_values)\n",
        "\n",
        "        next_state, reward, terminated, truncated, _ = env.step(action)\n",
        "        next_state = np.reshape(next_state, [1, state_size])\n",
        "        done = terminated or truncated\n",
        "\n",
        "        # store experience into replay buffer\n",
        "        # [WriteCode]\n",
        "\n",
        "        state = next_state\n",
        "        total_reward += reward\n",
        "\n",
        "        if done:\n",
        "            break\n",
        "\n",
        "\n",
        "        if len(replay_buffer) >= ba:\n",
        "            # Update policy with mini-batches if replay buffer contains enough samples\n",
        "            # Update policy using Q-Learning update:  Q(s, a) = r + gamma * max Q(s', a')\n",
        "            # [WriteCode]\n",
        "\n",
        "            # Hints:\n",
        "\n",
        "            # 1. Compute target Q-values:\n",
        "            # - If done, Q-target = reward (no future reward)\n",
        "            # - Otherwise, Q-target = reward + gamma * max(Q(next_state, a))\n",
        "\n",
        "            # 2. Predict current Q-values for state\n",
        "            # Update only the Q-value for the taken action\n",
        "\n",
        "            # 3. Fit the model:\n",
        "            # - Inputs: state\n",
        "            # - Targets: updated Q-values (with action Q-value replaced by computed target)\n",
        "\n",
        "            # Update exploration rate\n",
        "            if epsilon > epsilon_min:\n",
        "                epsilon *= epsilon_decay\n",
        "\n",
        "    # record end time and log training time\n",
        "    end = time.time()\n",
        "    total_training_time += end - start\n",
        "\n",
        "    # Evaluation\n",
        "    # [WriteCode]\n",
        "\n",
        "\n",
        "    print(f\"Episode {ep + 1}/{episode} | Ep. Total Reward: {total_reward}\"\n",
        "        f\" | Epsilon : {epsilon:.3f}\"\n",
        "        f\" | Eval Rwd Mean: {eval_reward_mean:.2f}\"\n",
        "        f\" | Eval Rwd Var: {eval_reward_var:.2f}\")\n",
        "\n",
        "    # Log\n",
        "    eval_reward_mean_lst.append(eval_reward_mean)\n",
        "    eval_reward_var_lst.append(eval_reward_var)\n",
        "    train_reward_lst.append(total_reward)\n",
        "\n",
        "    # Early Stopping Condition to avoid overfitting\n",
        "    # If the evaluation reward reaches the specified threshold, stop training early.\n",
        "    # The default threshold is set to 500, but you should adjust this based on observed training performance.\n",
        "    if eval_reward_mean > 500: # [Modify this threshold as needed]\n",
        "        print(f\"Early stopping triggered at Episode {ep + 1}.\")\n",
        "        break\n",
        "\n",
        "# evaluate average training time per episode\n",
        "print(f\"Training time: {total_training_time/episode:.4f} seconds per episode\")\n",
        "\n",
        "env.close()"
      ]
    },
    {
      "cell_type": "markdown",
      "metadata": {
        "id": "HMgwUOjQ30iI"
      },
      "source": [
        "## Plot Results"
      ]
    },
    {
      "cell_type": "code",
      "execution_count": null,
      "metadata": {
        "id": "FcQkJXSl30iI"
      },
      "outputs": [],
      "source": [
        "# Write code to plot\n",
        "# 1) Moving Averaged Training Reward, 2) Evaluation Mean, 3) Evaluation Variance\n",
        "# [Write Code]\n",
        "\n",
        "# plot_smoothed_training_rwd(...\n",
        "\n",
        "# plot_eval_rwd_mean(...\n",
        "\n",
        "# plot_eval_rwd_var(...\n"
      ]
    },
    {
      "cell_type": "markdown",
      "metadata": {
        "id": "qsx1mQTZwhNC"
      },
      "source": [
        "# Naive DQN - Alternative\n",
        "You may insert extra cells in the notebook to perform tuning experiments and log results effectively. Use TensorBoard, plots, or tables to visualize the impact of different hyperparameter choices."
      ]
    },
    {
      "cell_type": "code",
      "execution_count": null,
      "metadata": {
        "id": "auXumGG5w7JN"
      },
      "outputs": [],
      "source": [
        "# [Write Code]"
      ]
    },
    {
      "cell_type": "markdown",
      "metadata": {
        "id": "lAiI3y2yw47Q"
      },
      "source": [
        "## Comparison\n",
        "\n",
        "Compare performance of the Baseline and the Alternative Naive DQN Policies"
      ]
    },
    {
      "cell_type": "code",
      "execution_count": null,
      "metadata": {
        "id": "dHIjFgUhw-aR"
      },
      "outputs": [],
      "source": [
        "# [Write Code]"
      ]
    },
    {
      "cell_type": "markdown",
      "metadata": {
        "id": "Iy8REuq6iQah"
      },
      "source": [
        "# DQN\n",
        "\n",
        "In this section, you will complete the DQN algorithm by implementing the missing components marked as `[WriteCode]`.\n"
      ]
    },
    {
      "cell_type": "markdown",
      "metadata": {
        "id": "ZXqZUwXkxYci"
      },
      "source": [
        "## Define and Compile the Neural Networks"
      ]
    },
    {
      "cell_type": "markdown",
      "metadata": {
        "id": "2FvxFyz5hnEP"
      },
      "source": [
        "The standard DQN [https://arxiv.org/abs/1312.5602] approach features a periodically updated target network to stabilize training:\n",
        "\n",
        "- `target_model`: A periodically updated network that stabilizes training. During training, this network is used to compute $Q(S_{t+1}, a)$ for each possible action $a$. This network is not actively trained, but at regular intervals, its weights are copied from `eval_model`. This prevents rapid fluctuations in target Q-values and improves learning stability.\n",
        "\n",
        "- `eval_model`: The online learning network that interacts with the environment. During training, this network is used to compute $Q(S_{t}, a)$ for each possible action $a$. It updates its weights by minimizing the difference between predicted and target Q-values, improving the agent's decision-making over time.\n",
        "\n",
        "The target used by DQN is then:\n",
        "\n",
        "$Y^{Q}_t = R_{t+1} + \\gamma \\max_a Q_{target}(S_{t+1}, a)$\n",
        "\n",
        "In the following section, define `[eval_model]` and `[target_model]` with identical architectures."
      ]
    },
    {
      "cell_type": "code",
      "execution_count": null,
      "metadata": {
        "id": "NYILkt0Gzd5G"
      },
      "outputs": [],
      "source": [
        "# DQN Baseline Model\n",
        "from keras.models import Sequential\n",
        "from keras.layers import Dense\n",
        "\n",
        "\n",
        "# [WriteCode] from ... import ...\n",
        "\n",
        "# Define the eval (online) network\n",
        "eval_model = Sequential()\n",
        "\n",
        "# [WriteCode]\n",
        "# model.add(...\n",
        "\n",
        "# Compile the model\n",
        "# [WriteCode]\n",
        "\n",
        "# Print the model summary\n",
        "# [WriteCode]\n",
        "\n",
        "\n",
        "# Create target_model with the same architecture\n",
        "target_model = Sequential()\n",
        "\n",
        "# [WriteCode]\n",
        "# model.add(...\n",
        "\n",
        "# Skip compiling as target_model will not be trained with .fit()\n",
        "# Instead, weights will be copied from the online model\n",
        "target_model.set_weights(eval_model.get_weights())\n",
        "\n",
        "# Print the model summary\n",
        "# [WriteCode]\n",
        "print(target_model.summary())"
      ]
    },
    {
      "cell_type": "markdown",
      "metadata": {
        "id": "WZfiKQHk_Vjb"
      },
      "source": [
        "## Set Up Env and Train the Policy"
      ]
    },
    {
      "cell_type": "markdown",
      "metadata": {
        "id": "hsudLCVWB1Em"
      },
      "source": [
        "In this section, you will complete the DQN training routine by implementing the missing components marked as `[WriteCode]`.\n",
        "\n",
        "\n"
      ]
    },
    {
      "cell_type": "code",
      "execution_count": null,
      "metadata": {
        "id": "I96clO81hFJ_"
      },
      "outputs": [],
      "source": [
        "# For logging\n",
        "train_reward_lst = []\n",
        "eval_reward_mean_lst = []\n",
        "eval_reward_var_lst = []\n",
        "\n",
        "# Set up environment\n",
        "env = gym.make(\"CartPole-v1\", render_mode=\"rgb_array\")\n",
        "state_size = env.observation_space.shape[0] # Number of observations (CartPole)\n",
        "action_size = env.action_space.n            # Number of possible actions\n",
        "\n",
        "model_dir = \"dqn_baseline\"   # TensorBoard log directory\n",
        "cb = keras.callbacks.TensorBoard(log_dir = get_run_logdir(model_dir), histogram_freq=1)\n",
        "\n",
        "# Train Counter for weight syncing\n",
        "train_counter = 0\n",
        "\n",
        "# For timing training\n",
        "total_training_time = 0\n",
        "\n",
        "# Define replay buffer\n",
        "# replay_buffer = ...\n",
        "\n",
        "for ep in range(episode):\n",
        "    state, _ = env.reset()\n",
        "    state = np.reshape(state, [1, state_size])\n",
        "    total_reward = 0\n",
        "\n",
        "    # record start time\n",
        "    start = time.time()\n",
        "\n",
        "    for _ in range(500):\n",
        "        # Interact with the environment with epsilon-greedy policy\n",
        "        if np.random.rand() <= epsilon:\n",
        "            action = np.random.choice(action_size)\n",
        "        else:\n",
        "            q_values = eval_model.predict(state, verbose=0)\n",
        "            action = np.argmax(q_values)\n",
        "\n",
        "        next_state, reward, terminated, truncated, _ = env.step(action)\n",
        "        next_state = np.reshape(next_state, [1, state_size])\n",
        "        done = terminated or truncated\n",
        "\n",
        "        # store experience into replay buffer\n",
        "        # [WriteCode]\n",
        "\n",
        "        state = next_state\n",
        "        total_reward += reward\n",
        "\n",
        "        if done:\n",
        "            break\n",
        "\n",
        "        if len(replay_buffer) >= ba:\n",
        "            train_counter += 1\n",
        "            # Update policy with mini-batches if replay buffer contains enough samples\n",
        "            # Update policy using Deep Q-Learning update: Q(s, a) = r + gamma * max Q_target(S', a)\n",
        "            # [WriteCode]\n",
        "\n",
        "            # Compute target Q-values:\n",
        "            # - If done, Q-target = reward (no future reward)\n",
        "            # - Otherwise, Q-target = reward + gamma * max(Q_target(next_state, a))\n",
        "\n",
        "            # Predict current Q-values for state using eval_model\n",
        "            # Predict future Q-values using target_model (NOT eval_model)\n",
        "\n",
        "            # Update only the Q-value for the taken action\n",
        "\n",
        "            # Fit the model:\n",
        "            # - Inputs: state\n",
        "            # - Targets: updated Q-values (with action Q-value replaced by computed target)\n",
        "\n",
        "\n",
        "            # Update exploration rate\n",
        "            if epsilon > epsilon_min:\n",
        "                epsilon *= epsilon_decay\n",
        "\n",
        "            # Periodically update the target network\n",
        "            if train_counter % target_update_freq == 0:\n",
        "                target_model.set_weights(eval_model.get_weights())\n",
        "\n",
        "    # record end time and log training time\n",
        "    end = time.time()\n",
        "    total_training_time += end - start\n",
        "\n",
        "    # Evaluation\n",
        "    # [WriteCode]\n",
        "\n",
        "\n",
        "    print(f\"Episode {ep + 1}/{episode} | Ep. Total Reward: {total_reward}\"\n",
        "        f\" | Epsilon : {epsilon:.3f}\"\n",
        "        f\" | Eval Rwd Mean: {eval_reward_mean:.2f}\"\n",
        "        f\" | Eval Rwd Var: {eval_reward_var:.2f}\")\n",
        "\n",
        "    # Log\n",
        "    eval_reward_mean_lst.append(eval_reward_mean)\n",
        "    eval_reward_var_lst.append(eval_reward_var)\n",
        "    train_reward_lst.append(total_reward)\n",
        "\n",
        "    # Early Stopping Condition to avoid overfitting\n",
        "    # If the evaluation reward reaches the specified threshold, stop training early.\n",
        "    # The default threshold is set to 500, but you should adjust this based on observed training performance.\n",
        "    if eval_reward_mean > 500: # [Modify this threshold as needed]\n",
        "        print(f\"Early stopping triggered at Episode {ep + 1}.\")\n",
        "        break\n",
        "\n",
        "# evaluate average training time per episode\n",
        "print(f\"Training time: {total_training_time/episode:.4f} seconds per episode\")\n",
        "\n",
        "env.close()"
      ]
    },
    {
      "cell_type": "markdown",
      "metadata": {
        "id": "cWTB-X8Q35lX"
      },
      "source": [
        "## Plot Results"
      ]
    },
    {
      "cell_type": "code",
      "execution_count": null,
      "metadata": {
        "id": "gUC2aelO35lX"
      },
      "outputs": [],
      "source": [
        "# Write code to plot\n",
        "# 1) Moving Averaged Training Reward, 2) Evaluation Mean, 3) Evaluation Variance\n",
        "# [Write Code]\n",
        "plot_smoothed_training_rwd(train_reward_lst, window_size=20)\n",
        "plot_eval_rwd_mean(eval_reward_mean_lst)\n",
        "plot_eval_rwd_var(eval_reward_var_lst)"
      ]
    },
    {
      "cell_type": "markdown",
      "metadata": {
        "id": "aGOFWup5ZiYp"
      },
      "source": [
        "# DQN - Alternative\n",
        "\n",
        "You may insert extra cells in the notebook to perform tuning experiments and log results effectively. Use TensorBoard, plots, or tables to visualize the impact of different hyperparameter choices."
      ]
    },
    {
      "cell_type": "markdown",
      "metadata": {
        "id": "eOwN55lA34nm"
      },
      "source": [
        "## Plot Results"
      ]
    },
    {
      "cell_type": "code",
      "execution_count": null,
      "metadata": {
        "id": "hf5220Bw34nm"
      },
      "outputs": [],
      "source": [
        "# Write code to plot\n",
        "# 1) Moving Averaged Training Reward, 2) Evaluation Mean, 3) Evaluation Variance\n",
        "# [Write Code]\n",
        "\n",
        "# plot_smoothed_training_rwd(...\n",
        "\n",
        "# plot_eval_rwd_mean(...\n",
        "\n",
        "# plot_eval_rwd_var(..."
      ]
    },
    {
      "cell_type": "code",
      "execution_count": null,
      "metadata": {
        "id": "SvxOyxpPZlfW"
      },
      "outputs": [],
      "source": [
        "# [Write Code]"
      ]
    },
    {
      "cell_type": "markdown",
      "metadata": {
        "id": "0oTzmTnlZlru"
      },
      "source": [
        "## Comparison\n",
        "\n",
        "Compare performance of the Baseline and the Alternative DQN Policies"
      ]
    },
    {
      "cell_type": "code",
      "execution_count": null,
      "metadata": {
        "id": "HiMW7bE1Zq2B"
      },
      "outputs": [],
      "source": [
        "# [Write Code]"
      ]
    },
    {
      "cell_type": "markdown",
      "metadata": {
        "id": "4yGOGzD5iRw5"
      },
      "source": [
        "# DDQN"
      ]
    },
    {
      "cell_type": "markdown",
      "metadata": {
        "id": "-nURxQ5zZwu5"
      },
      "source": [
        "## Define and Compile the Neural Networks\n",
        "\n",
        "The Double Deep Q-Network (DDQN) [https://arxiv.org/abs/1509.06461] improves upon standard DQN by reducing overestimation bias in Q-values. DDQN achieves this by decoupling action selection from value estimation using two networks, which is almost identical as DQN:\n",
        "\n",
        "- `target_model`: A periodically updated network that stabilizes training. During training, this network is used to compute $Q(S_{t+1}, a)$ for each possible action $a$. This network is also not trained but synced from `eval_model`. **However, unlike DQN, this network is only used to evaluate the Q-value of the action chosen by `eval_model`, making value updates more stable.**\n",
        "\n",
        "- `eval_model`: The online learning network that interacts with the environment. During training, this network is used to select the best action using $\\arg\\max_a Q(S_{t}, a)$ and updates its weights by minimizing the difference between predicted and target Q-value.\n",
        "\n",
        "The target used by DDQN is then:\n",
        "\n",
        "$Y^{Q}_t = R_{t+1} + \\gamma Q_{target}(S_{t+1}, \\arg \\max_{a} Q_{eval}(S_{t+1}, a))$"
      ]
    },
    {
      "cell_type": "code",
      "execution_count": null,
      "metadata": {
        "id": "NoH_Tjmz3FBn"
      },
      "outputs": [],
      "source": [
        "# DDQN Baseline Model\n",
        "from keras.models import Sequential\n",
        "from keras.layers import Dense\n",
        "\n",
        "\n",
        "# [WriteCode] from ... import ...\n",
        "\n",
        "# Define the eval (online) network\n",
        "eval_model = Sequential()\n",
        "\n",
        "# [WriteCode]\n",
        "# model.add(...\n",
        "\n",
        "# Compile the model\n",
        "# [WriteCode]\n",
        "\n",
        "# Print the model summary\n",
        "# [WriteCode]\n",
        "\n",
        "\n",
        "\n",
        "# Create target_model with the same architecture\n",
        "target_model = Sequential()\n",
        "\n",
        "# [WriteCode]\n",
        "# model.add(...\n",
        "\n",
        "# Skip compiling as target_model will not be trained with .fit()\n",
        "# Instead, weights will be copied from the online model\n",
        "target_model.set_weights(eval_model.get_weights())\n",
        "\n",
        "# Print the model summary\n",
        "# [WriteCode]"
      ]
    },
    {
      "cell_type": "markdown",
      "metadata": {
        "id": "-uZT2NevZzo7"
      },
      "source": [
        "## Set Up Env and Train the Policy"
      ]
    },
    {
      "cell_type": "code",
      "execution_count": null,
      "metadata": {
        "id": "4U9ntMqg3TH7"
      },
      "outputs": [],
      "source": [
        "# For logging\n",
        "train_reward_lst = []\n",
        "eval_reward_mean_lst = []\n",
        "eval_reward_var_lst = []\n",
        "\n",
        "# Set up environment\n",
        "env = gym.make(\"CartPole-v1\", render_mode=\"rgb_array\")\n",
        "state_size = env.observation_space.shape[0] # Number of observations (CartPole)\n",
        "action_size = env.action_space.n            # Number of possible actions\n",
        "\n",
        "model_dir = \"ddqn_baseline\"  # TensorBoard log directory\n",
        "cb = keras.callbacks.TensorBoard(log_dir = get_run_logdir(model_dir), histogram_freq=1)\n",
        "\n",
        "# Train Counter for weight syncing\n",
        "train_counter = 0\n",
        "\n",
        "# For timing training\n",
        "total_training_time = 0\n",
        "\n",
        "# Define replay buffer\n",
        "# replay_buffer = ...\n",
        "\n",
        "for ep in range(episode):\n",
        "    state, _ = env.reset()\n",
        "    state = np.reshape(state, [1, state_size])\n",
        "    total_reward = 0\n",
        "\n",
        "    # record start time\n",
        "    start = time.time()\n",
        "\n",
        "    for _ in range(500):\n",
        "\n",
        "        # Interact with the environment with epsilon-greedy policy\n",
        "        if np.random.rand() <= epsilon:\n",
        "            action = np.random.choice(action_size)\n",
        "        else:\n",
        "            q_values = eval_model.predict(state, verbose=0)\n",
        "            action = np.argmax(q_values)\n",
        "\n",
        "        next_state, reward, terminated, truncated, _ = env.step(action)\n",
        "        next_state = np.reshape(next_state, [1, state_size])\n",
        "        done = terminated or truncated\n",
        "\n",
        "        # store experience into replay buffer\n",
        "        # [WriteCode]\n",
        "\n",
        "        state = next_state\n",
        "        total_reward += reward\n",
        "\n",
        "        if done:\n",
        "            break\n",
        "\n",
        "        if len(replay_buffer) >= ba:\n",
        "            train_counter += 1\n",
        "            # Update policy with mini-batches if replay buffer contains enough samples\n",
        "            # Update policy using Double Deep Q-Learning update:\n",
        "            # Q(s, a) = r + gamma * Q_target(S', argmax Q_eval(S', a))\n",
        "            # [WriteCode]\n",
        "\n",
        "            # Compute target Q-values:\n",
        "            # - If done, Q-target = reward (no future reward)\n",
        "            # - Otherwise, Q-target = reward + gamma * Q_target(S', argmax Q_eval(S', a))\n",
        "\n",
        "            # Predict current Q-values for state using eval_model\n",
        "            # Use eval_model to determine best action in next_state\n",
        "            # Use target_model to compute Q-value for that action\n",
        "\n",
        "            # Update only the Q-value for the taken action\n",
        "\n",
        "            # Fit the model:\n",
        "            # - Inputs: state\n",
        "            # - Targets: updated Q-values (with action Q-value replaced by computed target)\n",
        "\n",
        "\n",
        "            # Update exploration rate\n",
        "            if epsilon > epsilon_min:\n",
        "                epsilon *= epsilon_decay\n",
        "\n",
        "            # Periodically update the target network\n",
        "            if train_counter % target_update_freq == 0:\n",
        "                target_model.set_weights(eval_model.get_weights())\n",
        "\n",
        "    # record end time and log training time\n",
        "    end = time.time()\n",
        "    total_training_time += end - start\n",
        "\n",
        "    # Evaluation\n",
        "    # [WriteCode]\n",
        "\n",
        "\n",
        "    print(f\"Episode {ep + 1}/{episode} | Ep. Total Reward: {total_reward}\"\n",
        "        f\" | Epsilon : {epsilon:.3f}\"\n",
        "        f\" | Eval Rwd Mean: {eval_reward_mean:.2f}\"\n",
        "        f\" | Eval Rwd Var: {eval_reward_var:.2f}\")\n",
        "\n",
        "    # Log\n",
        "    eval_reward_mean_lst.append(eval_reward_mean)\n",
        "    eval_reward_var_lst.append(eval_reward_var)\n",
        "    train_reward_lst.append(total_reward)\n",
        "\n",
        "    # Early Stopping Condition to avoid overfitting\n",
        "    # If the evaluation reward reaches the specified threshold, stop training early.\n",
        "    # The default threshold is set to 500, but you should adjust this based on observed training performance.\n",
        "    if eval_reward_mean > 500: # [Modify this threshold as needed]\n",
        "        print(f\"Early stopping triggered at Episode {ep + 1}.\")\n",
        "        break\n",
        "\n",
        "# record end time and calculate average training time per episode\n",
        "# evaluate average training time per episode\n",
        "print(f\"Training time: {total_training_time/episode:.4f} seconds per episode\")\n",
        "\n",
        "env.close()"
      ]
    },
    {
      "cell_type": "markdown",
      "metadata": {
        "id": "oKfbQWJq363X"
      },
      "source": [
        "## Plot Results"
      ]
    },
    {
      "cell_type": "code",
      "execution_count": null,
      "metadata": {
        "id": "L7qIOwiX363Y"
      },
      "outputs": [],
      "source": [
        "# Write code to plot\n",
        "# 1) Moving Averaged Training Reward, 2) Evaluation Mean, 3) Evaluation Variance\n",
        "# [Write Code]\n",
        "\n",
        "# plot_smoothed_training_rwd(...\n",
        "\n",
        "# plot_eval_rwd_mean(...\n",
        "\n",
        "# plot_eval_rwd_var(..."
      ]
    },
    {
      "cell_type": "markdown",
      "metadata": {
        "id": "YgVEqsvQHsiD"
      },
      "source": [
        "# DDQN - Alternative\n",
        "\n",
        "You may insert extra cells in the notebook to perform tuning experiments and log results effectively. Use TensorBoard, plots, or tables to visualize the impact of different hyperparameter choices."
      ]
    },
    {
      "cell_type": "code",
      "execution_count": null,
      "metadata": {
        "id": "0xno9cGCHrx5"
      },
      "outputs": [],
      "source": [
        "# [Write Code]"
      ]
    },
    {
      "cell_type": "markdown",
      "metadata": {
        "id": "5MBGp2LfHxDr"
      },
      "source": [
        "## Comparison\n",
        "\n",
        "Compare performance of the Baseline and the Alternative DDQN Policies"
      ]
    },
    {
      "cell_type": "code",
      "execution_count": null,
      "metadata": {
        "id": "3NDTwhmwH3Lk"
      },
      "outputs": [],
      "source": [
        "# [Write Code]"
      ]
    },
    {
      "cell_type": "markdown",
      "metadata": {
        "id": "VUo4vcwQnbWV"
      },
      "source": [
        "# Visualize with Tensorboard"
      ]
    },
    {
      "cell_type": "code",
      "execution_count": null,
      "metadata": {
        "id": "ZcIJ3DQc3-Jw"
      },
      "outputs": [],
      "source": [
        "%load_ext tensorboard\n",
        "%tensorboard --logdir=./ee4802_logs --port=6006"
      ]
    },
    {
      "cell_type": "markdown",
      "metadata": {
        "id": "l-insiT7D_lq"
      },
      "source": [
        "# Comparison Across Four Alternative Policies\n",
        "\n",
        "Compare hyperparameters and performance of the four alternative policies.\n",
        "\n",
        "You may insert extra cells in the notebook to tabulate/plot/log results effectively."
      ]
    },
    {
      "cell_type": "code",
      "execution_count": null,
      "metadata": {
        "id": "SjQwsaxSE5Jh"
      },
      "outputs": [],
      "source": [
        "# [Write Code]"
      ]
    }
  ],
  "metadata": {
    "colab": {
      "include_colab_link": true,
      "provenance": []
    },
    "kernelspec": {
      "display_name": "Python 3",
      "name": "python3"
    },
    "language_info": {
      "codemirror_mode": {
        "name": "ipython",
        "version": 3
      },
      "file_extension": ".py",
      "mimetype": "text/x-python",
      "name": "python",
      "nbconvert_exporter": "python",
      "pygments_lexer": "ipython3",
      "version": "3.11.3"
    }
  },
  "nbformat": 4,
  "nbformat_minor": 0
}
