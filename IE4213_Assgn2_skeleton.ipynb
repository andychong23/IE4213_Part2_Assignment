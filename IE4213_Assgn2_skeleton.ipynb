{
  "cells": [
    {
      "cell_type": "markdown",
      "metadata": {
        "colab_type": "text",
        "id": "view-in-github"
      },
      "source": [
        "<a href=\"https://colab.research.google.com/github/andychong23/IE4213_Part2_Assignment/blob/feature%2Fandy%2FQ1/IE4213_Assgn2_skeleton.ipynb\" target=\"_parent\"><img src=\"https://colab.research.google.com/assets/colab-badge.svg\" alt=\"Open In Colab\"/></a>"
      ]
    },
    {
      "cell_type": "code",
      "execution_count": 1,
      "metadata": {
        "colab": {
          "base_uri": "https://localhost:8080/",
          "height": 106
        },
        "id": "gBUF2HJd1fVT",
        "outputId": "cedce019-fa2b-42dc-ba52-cb7fb7f86461"
      },
      "outputs": [
        {
          "ename": "SyntaxError",
          "evalue": "invalid syntax (3987471257.py, line 1)",
          "output_type": "error",
          "traceback": [
            "\u001b[1;36m  Cell \u001b[1;32mIn[1], line 1\u001b[1;36m\u001b[0m\n\u001b[1;33m    Student_1 = Andy Chong Weikang #@param {type:\"string\"}  Name of student 1\u001b[0m\n\u001b[1;37m                     ^\u001b[0m\n\u001b[1;31mSyntaxError\u001b[0m\u001b[1;31m:\u001b[0m invalid syntax\n"
          ]
        }
      ],
      "source": [
        "Student_1 = Andy Chong Weikang #@param {type:\"string\"}  Name of student 1\n",
        "Student_2 = '' #@param {type:\"string\"}  Name of student 2\n",
        "Student_3 = '' #@param {type:\"string\"}  Name of student 3/'\n",
        "Student_4 = '' #@param {type:\"string\"}  Name of student 4"
      ]
    },
    {
      "cell_type": "markdown",
      "metadata": {
        "id": "9PhWOSD2hLUM"
      },
      "source": [
        "# Overvew\n",
        "\n",
        "This is the skeleton code file for the EE4802/IE4213 assignment. Replace the `XX`. in the name of this Colab notebook with your group number (this is important for correct marks to be awarded to your group). Fill in the blank cells below with the necessary code (you should work on this Colab notebook section by section). At the end, the entire Colab notebook should generate all the required results and execute without error.\n",
        "\n",
        "The text above the blank cells provides information on the functionality that needs to be implemented. You need to write Python code at places indicated by `[WriteCode]`"
      ]
    },
    {
      "cell_type": "markdown",
      "metadata": {
        "id": "jXckzF3Fhd4p"
      },
      "source": [
        "## Install and Import Libraries"
      ]
    },
    {
      "cell_type": "code",
      "execution_count": 2,
      "metadata": {
        "id": "19JbK59PhbuE"
      },
      "outputs": [],
      "source": [
        "%%capture\n",
        "# %%capture hides the output\n",
        "# install visulization tool\n",
        "!pip install renderlab\n",
        "!pip install moviepy==1.0.3"
      ]
    },
    {
      "cell_type": "code",
      "execution_count": 3,
      "metadata": {
        "colab": {
          "base_uri": "https://localhost:8080/"
        },
        "id": "E669iRUFhn9J",
        "outputId": "97caa0bb-54b7-45ad-eae2-050bfeb8a42c"
      },
      "outputs": [],
      "source": [
        "import tensorflow as tf\n",
        "from tensorflow import keras\n",
        "assert tf.__version__ >= \"2.0\"\n",
        "\n",
        "import os\n",
        "import time\n",
        "import numpy as np\n",
        "import random\n",
        "from collections import deque\n",
        "\n",
        "import gymnasium as gym\n",
        "# import renderlab as rl"
      ]
    },
    {
      "cell_type": "markdown",
      "metadata": {
        "id": "9d3w4FRMS36_"
      },
      "source": [
        "# Background"
      ]
    },
    {
      "cell_type": "markdown",
      "metadata": {
        "id": "L8RD1Ggwcqg1"
      },
      "source": [
        "## Environment Exploration: Cart-Pole\n",
        "\n",
        "The **Cart-Pole environment** is a classic reinforcement learning problem where a pole is attached by an un-actuated joint to a cart. The cart moves along a frictionless track, and the goal is to balance the pole upright by applying forces to move the cart left or right.\n",
        "\n",
        "<img src=\"https://gymnasium.farama.org/_images/cart_pole.gif\" width=\"400\">\n",
        "\n",
        "Below is a breakdown of the base Cart-Pole environment:\n"
      ]
    },
    {
      "cell_type": "markdown",
      "metadata": {
        "id": "geWhWkTJRu5w"
      },
      "source": [
        "#### - **Observation Space (*s*)**\n",
        "The observation is represented as a `ndarray` of shape `(4,)`, corresponding to:\n",
        "- **Cart Position**: Horizontal location of the cart.\n",
        "- **Cart Velocity**: Speed of the cart along the track.\n",
        "- **Pole Angle**: Angular position of the pole relative to vertical.\n",
        "- **Pole Angular Velocity**: Speed at which the pole angle changes.\n",
        "\n",
        "The observations are initialized with uniformly random values in the range `(-0.05, 0.05)`.\n"
      ]
    },
    {
      "cell_type": "markdown",
      "metadata": {
        "id": "8r3befVJR4SJ"
      },
      "source": [
        "#### - **Action Space (*a*)**\n",
        "The action is a discrete value (`0` or `1`) indicating the direction of the force applied to the cart:\n",
        "- `0`: Push the cart to the left.\n",
        "- `1`: Push the cart to the right.\n"
      ]
    },
    {
      "cell_type": "markdown",
      "metadata": {
        "id": "BfanxRL4R5jO"
      },
      "source": [
        "\n",
        "#### - **Reward Function (*r*)**\n",
        "The agent receives a reward of `+1` for each time step it successfully keeps the pole upright. The maximum achievable reward in a single episode is `500`."
      ]
    },
    {
      "cell_type": "markdown",
      "metadata": {
        "id": "spv7Ul4CR7SN"
      },
      "source": [
        "#### - **Episode Termination (*isDone*)**\n",
        "An episode ends if any of the following conditions occur:\n",
        "1. **Pole Angle** exceeds `±12°`.\n",
        "2. **Cart Position** exceeds `±2.4` (the cart reaches the edge of the track).\n",
        "3. **Truncation**: The episode reaches the maximum length of `500 steps`."
      ]
    },
    {
      "cell_type": "markdown",
      "metadata": {
        "id": "pD50TBeLif6F"
      },
      "source": [
        "## Getting Familiar with Basic Gym Usage\n",
        "\n",
        "Let's observe how to interact with a Gym environment."
      ]
    },
    {
      "cell_type": "markdown",
      "metadata": {
        "id": "kkeWe780XZVv"
      },
      "source": [
        "The classic “agent-environment loop” pictured below is a simplified representation of reinforcement learning that Gymnasium implements.\n",
        "\n",
        "<img src=\"https://drive.google.com/uc?export=view&id=1feMbDMTfOFTBtj2PAZz-kMjSQKVukEm6\" width=\"250\">\n",
        "\n",
        "\n",
        "The following section represents a simple episode of this loop, we will:\n",
        "\n",
        "1. Import the base Cart-Pole environment from the gym library and explore its functionality.\n",
        "\n",
        "2. Apply modifications to make the environment more challenging by adjusting the pole's dynamics and introducing stochastic forces.\n",
        "\n",
        "3. Sample random actions to control the cart-pole and visualize the process using `renderlab`.\n",
        "\n",
        "These steps will help us understand how the environment behaves under different conditions and prepare us for implementing reinforcement learning agents in later sections.\n",
        "\n"
      ]
    },
    {
      "cell_type": "code",
      "execution_count": 4,
      "metadata": {
        "colab": {
          "base_uri": "https://localhost:8080/",
          "height": 873
        },
        "id": "x2PMYpIKXtWv",
        "outputId": "80bda351-3d63-4102-9180-bb6b47e5a120"
      },
      "outputs": [
        {
          "name": "stdout",
          "output_type": "stream",
          "text": [
            "\n",
            "--- Exploring the Base Environment ---\n",
            "Initial Observation: [ 0.00556335  0.03626504 -0.00477132 -0.04828468]\n",
            "Action Space: Discrete(2)\n",
            "Observation Space: Box([-4.8               -inf -0.41887903        -inf], [4.8               inf 0.41887903        inf], (4,), float32)\n",
            "\n",
            "--- Sampling Random Actions and Visualizing ---\n"
          ]
        },
        {
          "ename": "NameError",
          "evalue": "name 'rl' is not defined",
          "output_type": "error",
          "traceback": [
            "\u001b[1;31m---------------------------------------------------------------------------\u001b[0m",
            "\u001b[1;31mNameError\u001b[0m                                 Traceback (most recent call last)",
            "Cell \u001b[1;32mIn[4], line 16\u001b[0m\n\u001b[0;32m     14\u001b[0m \u001b[38;5;66;03m# Sample Random Actions and Visualize\u001b[39;00m\n\u001b[0;32m     15\u001b[0m \u001b[38;5;28mprint\u001b[39m(\u001b[38;5;124m\"\u001b[39m\u001b[38;5;130;01m\\n\u001b[39;00m\u001b[38;5;124m--- Sampling Random Actions and Visualizing ---\u001b[39m\u001b[38;5;124m\"\u001b[39m)\n\u001b[1;32m---> 16\u001b[0m env \u001b[38;5;241m=\u001b[39m \u001b[43mrl\u001b[49m\u001b[38;5;241m.\u001b[39mRenderFrame(env, \u001b[38;5;124m\"\u001b[39m\u001b[38;5;124m./output\u001b[39m\u001b[38;5;124m\"\u001b[39m)\n\u001b[0;32m     17\u001b[0m observation, info \u001b[38;5;241m=\u001b[39m env\u001b[38;5;241m.\u001b[39mreset()\n\u001b[0;32m     18\u001b[0m isDone \u001b[38;5;241m=\u001b[39m \u001b[38;5;28;01mFalse\u001b[39;00m\n",
            "\u001b[1;31mNameError\u001b[0m: name 'rl' is not defined"
          ]
        }
      ],
      "source": [
        "import warnings\n",
        "warnings.filterwarnings('ignore')\n",
        "\n",
        "# Import and Explore the Environment\n",
        "print(\"\\n--- Exploring the Base Environment ---\")\n",
        "env = gym.make(\"CartPole-v1\", render_mode=\"rgb_array\")\n",
        "observation, info = env.reset()\n",
        "\n",
        "# Print information about the environment\n",
        "print(f\"Initial Observation: {observation}\")\n",
        "print(f\"Action Space: {env.action_space}\")  # Discrete actions: 0 (left), 1 (right)\n",
        "print(f\"Observation Space: {env.observation_space}\")  # State variables: cart position, etc.\n",
        "\n",
        "# Sample Random Actions and Visualize\n",
        "print(\"\\n--- Sampling Random Actions and Visualizing ---\")\n",
        "env = rl.RenderFrame(env, \"./output\")\n",
        "observation, info = env.reset()\n",
        "isDone = False\n",
        "\n",
        "# Simulate an episode with random actions\n",
        "while not isDone:\n",
        "    action = env.action_space.sample()  # Take random action\n",
        "    observation, reward, terminated, truncated, info = env.step(action)\n",
        "    print(observation, reward, terminated, truncated, info)\n",
        "    isDone = terminated or truncated\n",
        "\n",
        "env.close()\n",
        "env.play()  # Play the recorded video"
      ]
    },
    {
      "cell_type": "markdown",
      "metadata": {
        "id": "s9wjDE0kfFJd"
      },
      "source": [
        "# Define Helper Functions"
      ]
    },
    {
      "cell_type": "markdown",
      "metadata": {
        "id": "B0UFVPRylCdv"
      },
      "source": [
        "## Plotting Functions"
      ]
    },
    {
      "cell_type": "code",
      "execution_count": 5,
      "metadata": {
        "id": "vsmmRtAVlUz_"
      },
      "outputs": [],
      "source": [
        "# Some plotting functions\n",
        "import matplotlib.pyplot as plt\n",
        "\n",
        "def plot_eval_rwd_mean(eval_mean_list):\n",
        "  \"\"\"Plot evaluation reward mean.\"\"\"\n",
        "  # [WriteCode]\n",
        "  plt.plot(np.array([i for i in range(len(eval_mean_list))]), eval_mean_list)\n",
        "  plt.title(\"Evaluation Reward Mean\")\n",
        "  plt.xlabel(\"Episodes\")\n",
        "  plt.ylabel(\"Reward Mean\")\n",
        "  plt.show()\n",
        "\n",
        "\n",
        "\n",
        "def plot_eval_rwd_var(eval_var_list):\n",
        "  \"\"\"Plot evaluation reward variance.\"\"\"\n",
        "  # [WriteCode]\n",
        "  plt.plot(np.array([i for i in range(len(eval_var_list))]), eval_var_list)\n",
        "  plt.title(\"Evaluation Reward Varaince\")\n",
        "  plt.xlabel(\"Episodes\")\n",
        "  plt.ylabel(\"Reward Variance\")\n",
        "  plt.show()\n",
        "\n",
        "\n",
        "\n",
        "def plot_smoothed_training_rwd(train_rwd_list, window_size=20):\n",
        "  \"\"\"Plot smoothed training rewards using a moving average.\"\"\"\n",
        "  y_output = []\n",
        "  x_output = []\n",
        "  # [WriteCode]\n",
        "  for idx in range(len(train_rwd_list) - window_size):\n",
        "    current_window = train_rwd_list[idx:idx + window_size]\n",
        "    y_output.append(sum(current_window) / window_size)\n",
        "    x_output.append(idx)\n",
        "  plt.plot(x_output, y_output)\n",
        "  plt.title(\"Smoothed Training Rewards\")\n",
        "  plt.xlabel(\"Episodes\")\n",
        "  plt.ylabel(\"Average training rewards\")\n",
        "  plt.show()\n"
      ]
    },
    {
      "cell_type": "markdown",
      "metadata": {
        "id": "N7hA67eaYkCW"
      },
      "source": [
        "## Evaluation Function\n",
        "\n",
        "Evaluate the learnt policy by running 3 evaluation episodes and computing the average and variance of rewards collected."
      ]
    },
    {
      "cell_type": "code",
      "execution_count": 6,
      "metadata": {
        "id": "kKS1vpSmYjyg"
      },
      "outputs": [],
      "source": [
        "def evaluation(model, max_timesteps=500):\n",
        "    # eval_env = gym.make(\"CartPole-v1\", render_mode=\"rgb_array\")\n",
        "    eval_env = gym.make(\"CartPole-v1\")\n",
        "    state_size = eval_env.observation_space.shape[0] # Number of observations (CartPole)\n",
        "    action_size = eval_env.action_space.n            # Number of possible actions\n",
        "    eval_reward = []\n",
        "\n",
        "    for i in range (3):\n",
        "        round_reward = 0\n",
        "        state, _ = eval_env.reset()\n",
        "        state = np.reshape(state, [1, state_size])\n",
        "\n",
        "        for i in range(max_timesteps):\n",
        "            action = np.argmax(model.predict(state, verbose=0)[0])\n",
        "            next_state, reward, terminated, truncated, _ = eval_env.step(action)\n",
        "            next_state = np.reshape(next_state, [1, state_size])\n",
        "\n",
        "            round_reward += reward\n",
        "            state = next_state\n",
        "\n",
        "            if terminated or truncated:\n",
        "                eval_reward.append(round_reward)\n",
        "                break\n",
        "\n",
        "    eval_env.close()\n",
        "\n",
        "    eval_reward_mean = np.sum(eval_reward)/len(eval_reward)\n",
        "    eval_reward_var = np.var(eval_reward)\n",
        "\n",
        "    return eval_reward_mean, eval_reward_var"
      ]
    },
    {
      "cell_type": "markdown",
      "metadata": {
        "id": "kWS8Kd8eiXau"
      },
      "source": [
        "# Setting up Tensorboard\n"
      ]
    },
    {
      "cell_type": "code",
      "execution_count": 7,
      "metadata": {
        "id": "ADO90Q7Hs-lx"
      },
      "outputs": [],
      "source": [
        "def get_run_logdir(k):\n",
        "    root_logdir = os.path.join(os.curdir, \"ee4802_logs\", k)\n",
        "    run_id = time.strftime(\"run_%Y_%m_%d-%H_%M_%S\")\n",
        "    return os.path.join(root_logdir, run_id)"
      ]
    },
    {
      "cell_type": "markdown",
      "metadata": {
        "id": "B07kopgXtOVU"
      },
      "source": [
        "# Initialize Parameters"
      ]
    },
    {
      "cell_type": "code",
      "execution_count": 8,
      "metadata": {
        "id": "JL9ABa8-vRf3"
      },
      "outputs": [],
      "source": [
        "# Use the following set of NN hyperparameters for ALL FOUR basline policies\n",
        "lr =  0.1        #@param {type:\"number\"}               # learning rate\n",
        "epoch =  32     #@param {type:\"number\"}               # epochs\n",
        "episode = 500  #@param {type:\"number\"}               # episodes\n",
        "\n",
        "epsilon = 0.9           #@param {type:\"number\"}     # Starting exploration rate\n",
        "epsilon_min = 0.1    #@param {type:\"number\"}     # Exploration rate min\n",
        "epsilon_decay = 0.99     #@param {type:\"number\"}     # Exploration rate decay\n",
        "\n",
        "gamma = 0.99          #@param {type:\"number\"}     # Agent discount factor\n",
        "\n",
        "# Use the following set of NN hyperparameters for Naive DQN, DQN and DDQN policies\n",
        "ba =  32       #@param {type:\"number\"}               # batch_size\n",
        "\n",
        "# Use the following set of RL hyperparameters for DQN and DDQN policies\n",
        "target_update_freq = 0.05 # @param {type:\"number\"}    # Target network update frequency\n"
      ]
    },
    {
      "cell_type": "markdown",
      "metadata": {
        "id": "npUYex5Em46O"
      },
      "source": [
        "# Q-Network - Baseline"
      ]
    },
    {
      "cell_type": "markdown",
      "metadata": {
        "id": "XLr4PDQ7nC5T"
      },
      "source": [
        "## Define and Compile the Neural Network\n",
        "\n",
        "A single network $Q_\\theta$ (parameterized by $\\theta$) is used to approximate $Q(s,a)$.\n",
        "\n",
        "The target used by Naive DQN is then:\n",
        "\n",
        "$Y^{NaiveQ}_t = R_{t+1} + \\gamma Q_{\\theta}(S_{t+1}, a)$\n",
        "\n",
        "The training of Q-Network does rely on a Replay Buffer."
      ]
    },
    {
      "cell_type": "code",
      "execution_count": 9,
      "metadata": {
        "colab": {
          "base_uri": "https://localhost:8080/",
          "height": 238
        },
        "id": "WyXho4UKpH3Q",
        "outputId": "aa068deb-de97-4001-a8a3-55f7d3f9b4fe"
      },
      "outputs": [
        {
          "name": "stdout",
          "output_type": "stream",
          "text": [
            "Model: \"sequential\"\n",
            "_________________________________________________________________\n",
            " Layer (type)                Output Shape              Param #   \n",
            "=================================================================\n",
            " dense (Dense)               (None, 32)                160       \n",
            "                                                                 \n",
            " dense_1 (Dense)             (None, 32)                1056      \n",
            "                                                                 \n",
            " dense_2 (Dense)             (None, 2)                 66        \n",
            "                                                                 \n",
            "=================================================================\n",
            "Total params: 1,282\n",
            "Trainable params: 1,282\n",
            "Non-trainable params: 0\n",
            "_________________________________________________________________\n"
          ]
        }
      ],
      "source": [
        "# Q-Network Baseline Model\n",
        "from keras.models import Sequential\n",
        "from keras.layers import Input, Dense, LayerNormalization\n",
        "from keras.initializers import RandomUniform\n",
        "from keras.activations import softmax, relu, tanh\n",
        "\n",
        "# [WriteCode] from ... import ...\n",
        "\n",
        "STATE_SIZE = (4,)\n",
        "ACTION_SIZE = 2\n",
        "LAYER_SIZE = 32\n",
        "SEED = 42\n",
        "\n",
        "# Define the Q-network\n",
        "model = Sequential()\n",
        "\n",
        "# [WriteCode]\n",
        "# model.add(...\n",
        "model.add(Input(shape=STATE_SIZE))\n",
        "'''\n",
        "Add in intermediate layers\n",
        "- Assume 3 layers of 32 nodes each with relu activation\n",
        "'''\n",
        "initializer = RandomUniform(minval=-0.5, maxval=0.5, seed=42)\n",
        "initializer_1 = RandomUniform(minval=-5, maxval=5, seed=42)\n",
        "model.add(Dense(LAYER_SIZE, activation=tanh, kernel_initializer=initializer))\n",
        "model.add(Dense(LAYER_SIZE, activation=tanh, kernel_initializer=initializer_1))\n",
        "model.add(Dense(ACTION_SIZE))\n",
        "\n",
        "# Compile the model\n",
        "# [WriteCode]\n",
        "model.compile(loss='mse', optimizer='adam')\n",
        "\n",
        "# Print the model summary\n",
        "# [WriteCode]\n",
        "model.summary()"
      ]
    },
    {
      "cell_type": "markdown",
      "metadata": {
        "id": "PunGDA41nK-t"
      },
      "source": [
        "## Set Up Env and Train the Policy"
      ]
    },
    {
      "cell_type": "code",
      "execution_count": null,
      "metadata": {
        "colab": {
          "base_uri": "https://localhost:8080/"
        },
        "id": "-cDAJtaGnCQL",
        "outputId": "44893904-1e3a-47a4-fc50-c078e54e6b65"
      },
      "outputs": [
        {
          "name": "stdout",
          "output_type": "stream",
          "text": [
            "Episode 1/500 | Ep. Total Reward: 16.0 | Epsilon : 0.766 | Eval Rwd Mean: 9.00 | Eval Rwd Var: 0.00\n",
            "Episode 2/500 | Ep. Total Reward: 10.0 | Epsilon : 0.766 | Eval Rwd Mean: 9.67 | Eval Rwd Var: 0.22\n",
            "Episode 3/500 | Ep. Total Reward: 22.0 | Epsilon : 0.766 | Eval Rwd Mean: 12.00 | Eval Rwd Var: 2.00\n",
            "Episode 4/500 | Ep. Total Reward: 25.0 | Epsilon : 0.766 | Eval Rwd Mean: 16.00 | Eval Rwd Var: 0.67\n",
            "Episode 5/500 | Ep. Total Reward: 11.0 | Epsilon : 0.766 | Eval Rwd Mean: 8.67 | Eval Rwd Var: 0.89\n",
            "Episode 6/500 | Ep. Total Reward: 16.0 | Epsilon : 0.766 | Eval Rwd Mean: 8.67 | Eval Rwd Var: 0.89\n",
            "Episode 7/500 | Ep. Total Reward: 15.0 | Epsilon : 0.766 | Eval Rwd Mean: 22.33 | Eval Rwd Var: 6.22\n",
            "Episode 8/500 | Ep. Total Reward: 12.0 | Epsilon : 0.766 | Eval Rwd Mean: 24.00 | Eval Rwd Var: 4.67\n",
            "Episode 9/500 | Ep. Total Reward: 48.0 | Epsilon : 0.766 | Eval Rwd Mean: 19.67 | Eval Rwd Var: 9.56\n",
            "Episode 10/500 | Ep. Total Reward: 112.0 | Epsilon : 0.766 | Eval Rwd Mean: 61.00 | Eval Rwd Var: 1376.00\n",
            "Episode 11/500 | Ep. Total Reward: 73.0 | Epsilon : 0.368 | Eval Rwd Mean: 36.00 | Eval Rwd Var: 42.00\n",
            "Episode 12/500 | Ep. Total Reward: 33.0 | Epsilon : 0.368 | Eval Rwd Mean: 43.33 | Eval Rwd Var: 353.56\n",
            "Episode 13/500 | Ep. Total Reward: 69.0 | Epsilon : 0.368 | Eval Rwd Mean: 24.33 | Eval Rwd Var: 8.22\n",
            "Episode 14/500 | Ep. Total Reward: 12.0 | Epsilon : 0.368 | Eval Rwd Mean: 10.00 | Eval Rwd Var: 0.00\n",
            "Episode 15/500 | Ep. Total Reward: 14.0 | Epsilon : 0.368 | Eval Rwd Mean: 9.00 | Eval Rwd Var: 0.67\n",
            "Episode 16/500 | Ep. Total Reward: 9.0 | Epsilon : 0.368 | Eval Rwd Mean: 18.33 | Eval Rwd Var: 8.22\n",
            "Episode 17/500 | Ep. Total Reward: 74.0 | Epsilon : 0.368 | Eval Rwd Mean: 67.00 | Eval Rwd Var: 690.67\n",
            "Episode 18/500 | Ep. Total Reward: 30.0 | Epsilon : 0.368 | Eval Rwd Mean: 47.00 | Eval Rwd Var: 298.67\n",
            "Episode 19/500 | Ep. Total Reward: 37.0 | Epsilon : 0.368 | Eval Rwd Mean: 43.00 | Eval Rwd Var: 206.00\n",
            "Episode 20/500 | Ep. Total Reward: 66.0 | Epsilon : 0.368 | Eval Rwd Mean: 73.00 | Eval Rwd Var: 220.67\n",
            "Episode 21/500 | Ep. Total Reward: 102.0 | Epsilon : 0.132 | Eval Rwd Mean: 41.00 | Eval Rwd Var: 134.00\n",
            "Episode 22/500 | Ep. Total Reward: 56.0 | Epsilon : 0.132 | Eval Rwd Mean: 37.67 | Eval Rwd Var: 77.56\n",
            "Episode 23/500 | Ep. Total Reward: 60.0 | Epsilon : 0.132 | Eval Rwd Mean: 26.67 | Eval Rwd Var: 4.22\n",
            "Episode 24/500 | Ep. Total Reward: 47.0 | Epsilon : 0.132 | Eval Rwd Mean: 55.00 | Eval Rwd Var: 482.00\n",
            "Episode 25/500 | Ep. Total Reward: 57.0 | Epsilon : 0.132 | Eval Rwd Mean: 28.67 | Eval Rwd Var: 2.89\n",
            "Episode 26/500 | Ep. Total Reward: 24.0 | Epsilon : 0.132 | Eval Rwd Mean: 9.00 | Eval Rwd Var: 0.67\n",
            "Episode 27/500 | Ep. Total Reward: 10.0 | Epsilon : 0.132 | Eval Rwd Mean: 21.67 | Eval Rwd Var: 9.56\n",
            "Episode 28/500 | Ep. Total Reward: 27.0 | Epsilon : 0.132 | Eval Rwd Mean: 9.33 | Eval Rwd Var: 0.22\n",
            "Episode 29/500 | Ep. Total Reward: 9.0 | Epsilon : 0.132 | Eval Rwd Mean: 26.67 | Eval Rwd Var: 17.56\n",
            "Episode 30/500 | Ep. Total Reward: 43.0 | Epsilon : 0.132 | Eval Rwd Mean: 71.33 | Eval Rwd Var: 164.22\n",
            "Episode 31/500 | Ep. Total Reward: 52.0 | Epsilon : 0.100 | Eval Rwd Mean: 20.00 | Eval Rwd Var: 6.00\n",
            "Episode 32/500 | Ep. Total Reward: 22.0 | Epsilon : 0.100 | Eval Rwd Mean: 9.33 | Eval Rwd Var: 0.89\n",
            "Episode 33/500 | Ep. Total Reward: 9.0 | Epsilon : 0.100 | Eval Rwd Mean: 49.00 | Eval Rwd Var: 104.00\n",
            "Episode 34/500 | Ep. Total Reward: 54.0 | Epsilon : 0.100 | Eval Rwd Mean: 19.67 | Eval Rwd Var: 6.22\n",
            "Episode 35/500 | Ep. Total Reward: 36.0 | Epsilon : 0.100 | Eval Rwd Mean: 28.00 | Eval Rwd Var: 4.67\n",
            "Episode 36/500 | Ep. Total Reward: 29.0 | Epsilon : 0.100 | Eval Rwd Mean: 21.67 | Eval Rwd Var: 9.56\n",
            "Episode 37/500 | Ep. Total Reward: 43.0 | Epsilon : 0.100 | Eval Rwd Mean: 30.00 | Eval Rwd Var: 20.67\n",
            "Episode 38/500 | Ep. Total Reward: 38.0 | Epsilon : 0.100 | Eval Rwd Mean: 23.33 | Eval Rwd Var: 29.56\n",
            "Episode 39/500 | Ep. Total Reward: 29.0 | Epsilon : 0.100 | Eval Rwd Mean: 20.00 | Eval Rwd Var: 8.67\n",
            "Episode 40/500 | Ep. Total Reward: 34.0 | Epsilon : 0.100 | Eval Rwd Mean: 23.67 | Eval Rwd Var: 5.56\n",
            "Episode 41/500 | Ep. Total Reward: 83.0 | Epsilon : 0.100 | Eval Rwd Mean: 9.33 | Eval Rwd Var: 0.22\n",
            "Episode 42/500 | Ep. Total Reward: 9.0 | Epsilon : 0.100 | Eval Rwd Mean: 49.00 | Eval Rwd Var: 4.67\n",
            "Episode 43/500 | Ep. Total Reward: 92.0 | Epsilon : 0.100 | Eval Rwd Mean: 97.00 | Eval Rwd Var: 3786.00\n",
            "Episode 44/500 | Ep. Total Reward: 80.0 | Epsilon : 0.100 | Eval Rwd Mean: 37.33 | Eval Rwd Var: 62.89\n",
            "Episode 45/500 | Ep. Total Reward: 50.0 | Epsilon : 0.100 | Eval Rwd Mean: 44.33 | Eval Rwd Var: 38.22\n",
            "Episode 46/500 | Ep. Total Reward: 71.0 | Epsilon : 0.100 | Eval Rwd Mean: 27.33 | Eval Rwd Var: 20.22\n",
            "Episode 47/500 | Ep. Total Reward: 78.0 | Epsilon : 0.100 | Eval Rwd Mean: 42.33 | Eval Rwd Var: 184.89\n",
            "Episode 48/500 | Ep. Total Reward: 72.0 | Epsilon : 0.100 | Eval Rwd Mean: 197.33 | Eval Rwd Var: 5928.22\n",
            "Episode 49/500 | Ep. Total Reward: 59.0 | Epsilon : 0.100 | Eval Rwd Mean: 33.67 | Eval Rwd Var: 42.89\n",
            "Episode 50/500 | Ep. Total Reward: 44.0 | Epsilon : 0.100 | Eval Rwd Mean: 86.00 | Eval Rwd Var: 278.00\n",
            "Episode 51/500 | Ep. Total Reward: 42.0 | Epsilon : 0.100 | Eval Rwd Mean: 43.33 | Eval Rwd Var: 174.22\n",
            "Episode 52/500 | Ep. Total Reward: 65.0 | Epsilon : 0.100 | Eval Rwd Mean: 62.00 | Eval Rwd Var: 8.67\n",
            "Episode 53/500 | Ep. Total Reward: 71.0 | Epsilon : 0.100 | Eval Rwd Mean: 40.00 | Eval Rwd Var: 164.67\n",
            "Episode 54/500 | Ep. Total Reward: 28.0 | Epsilon : 0.100 | Eval Rwd Mean: 55.33 | Eval Rwd Var: 800.22\n",
            "Episode 55/500 | Ep. Total Reward: 53.0 | Epsilon : 0.100 | Eval Rwd Mean: 47.00 | Eval Rwd Var: 98.00\n",
            "Episode 56/500 | Ep. Total Reward: 61.0 | Epsilon : 0.100 | Eval Rwd Mean: 47.33 | Eval Rwd Var: 26.89\n",
            "Episode 57/500 | Ep. Total Reward: 59.0 | Epsilon : 0.100 | Eval Rwd Mean: 21.00 | Eval Rwd Var: 8.67\n",
            "Episode 58/500 | Ep. Total Reward: 34.0 | Epsilon : 0.100 | Eval Rwd Mean: 53.33 | Eval Rwd Var: 66.89\n",
            "Episode 59/500 | Ep. Total Reward: 82.0 | Epsilon : 0.100 | Eval Rwd Mean: 50.33 | Eval Rwd Var: 33.56\n",
            "Episode 60/500 | Ep. Total Reward: 46.0 | Epsilon : 0.100 | Eval Rwd Mean: 120.33 | Eval Rwd Var: 402.89\n",
            "Episode 61/500 | Ep. Total Reward: 78.0 | Epsilon : 0.100 | Eval Rwd Mean: 121.00 | Eval Rwd Var: 824.00\n",
            "Episode 62/500 | Ep. Total Reward: 115.0 | Epsilon : 0.100 | Eval Rwd Mean: 40.00 | Eval Rwd Var: 20.67\n",
            "Episode 63/500 | Ep. Total Reward: 50.0 | Epsilon : 0.100 | Eval Rwd Mean: 47.00 | Eval Rwd Var: 322.67\n",
            "Episode 64/500 | Ep. Total Reward: 85.0 | Epsilon : 0.100 | Eval Rwd Mean: 28.33 | Eval Rwd Var: 6.22\n",
            "Episode 65/500 | Ep. Total Reward: 102.0 | Epsilon : 0.100 | Eval Rwd Mean: 178.67 | Eval Rwd Var: 24293.56\n",
            "Episode 66/500 | Ep. Total Reward: 97.0 | Epsilon : 0.100 | Eval Rwd Mean: 500.00 | Eval Rwd Var: 0.00\n",
            "Early stopping triggered at Episode 66.\n",
            "Training time: 7.5216 seconds per episode\n"
          ]
        }
      ],
      "source": [
        "# For logging\n",
        "train_reward_lst = []\n",
        "eval_reward_mean_lst = []\n",
        "eval_reward_var_lst = []\n",
        "\n",
        "\n",
        "# Set up environment\n",
        "env = gym.make(\"CartPole-v1\")\n",
        "state_size = env.observation_space.shape[0] # Number of observations (CartPole)\n",
        "action_size = env.action_space.n            # Number of possible actions\n",
        "\n",
        "model_dir = \"q_net_baseline\"  # TensorBoard log directory\n",
        "cb = keras.callbacks.TensorBoard(log_dir = get_run_logdir(model_dir), histogram_freq=1)\n",
        "\n",
        "# For timing training\n",
        "total_training_time = 0\n",
        "\n",
        "for ep in range(episode):\n",
        "    state, _ = env.reset()\n",
        "    state = np.reshape(state, [1, state_size])\n",
        "    total_reward = 0\n",
        "\n",
        "    # record start time\n",
        "    start = time.time()\n",
        "\n",
        "    for _ in range(500):\n",
        "        # Interact with the environment with epsilon-greedy policy\n",
        "        if np.random.rand() <= epsilon:\n",
        "            action = np.random.choice(action_size)\n",
        "        else:\n",
        "            q_values = model.predict(state, verbose=0)\n",
        "            action = np.argmax(q_values)\n",
        "\n",
        "        next_state, reward, terminated, truncated, _ = env.step(action)\n",
        "        next_state = np.reshape(next_state, [1, state_size])\n",
        "\n",
        "        done = terminated or truncated\n",
        "\n",
        "        # Train model using Q-Learning update:  Q(s, a) = r + gamma * max Q(s', a')\n",
        "        # [WriteCode]\n",
        "        q_base = model.predict(state, verbose=0)\n",
        "        q_1_base = model.predict(next_state, verbose=0)\n",
        "        if done:\n",
        "          q_target = reward\n",
        "        else:\n",
        "          q_target = reward + gamma * np.max(q_1_base)\n",
        "\n",
        "        # print(\n",
        "        #     f'''\n",
        "        #     Action Taken: {action}\n",
        "        #     Current State: {state}\n",
        "        #     Next State: {next_state}\n",
        "        #     Total Reward: {total_reward}\n",
        "        #     Reward: {reward}\n",
        "        #     Is terminated: {terminated}\n",
        "        #     Q Values: {model.predict(state, verbose=0)}\n",
        "        #     Q Target: {q_target}\n",
        "        #     Q change: {q_target - q_base[0][action]}\n",
        "        #     '''\n",
        "        # )\n",
        "\n",
        "        q_feed = q_base.copy()\n",
        "        q_feed[0][action] = q_feed[0][action] + lr * (q_target - q_feed[0][action])\n",
        "        model.fit(state, q_feed, epochs=epoch, verbose=0, batch_size=ba)\n",
        "        # Hints:\n",
        "\n",
        "        # 1. Compute target Q-values:\n",
        "        # - If done, Q-target = reward (no future reward)\n",
        "        # - Otherwise, Q-target = reward + gamma * max(Q(next_state, a))\n",
        "\n",
        "        # 2. Predict current Q-values for state\n",
        "        # Update only the Q-value for the taken action\n",
        "\n",
        "        # new_q_val = current_q_val + lr * (q_target - current_q_val)\n",
        "        # print(new_q_val)\n",
        "        # 3. Fit the model:\n",
        "        # - Inputs: state\n",
        "        # - Targets: updated Q-values (with action Q-value replaced by computed target)\n",
        "        # model.fit(state, new_q_val, epochs=epoch, verbose=0, batch_size=ba)\n",
        "\n",
        "\n",
        "        # Update exploration rate\n",
        "        if epsilon > epsilon_min and ep % 10 == 0:\n",
        "            epsilon *= epsilon_decay\n",
        "\n",
        "        state = next_state\n",
        "        total_reward += reward\n",
        "\n",
        "        if done:\n",
        "            break\n",
        "\n",
        "    # record end time and log training time\n",
        "    end = time.time()\n",
        "    total_training_time += end - start\n",
        "\n",
        "    # Evaluation\n",
        "    # [WriteCode]\n",
        "    eval_reward_mean, eval_reward_var = evaluation(model)\n",
        "\n",
        "    print(f\"Episode {ep + 1}/{episode} | Ep. Total Reward: {total_reward}\"\n",
        "        f\" | Epsilon : {epsilon:.3f}\"\n",
        "        f\" | Eval Rwd Mean: {eval_reward_mean:.2f}\"\n",
        "        f\" | Eval Rwd Var: {eval_reward_var:.2f}\")\n",
        "\n",
        "    # Log\n",
        "    eval_reward_mean_lst.append(eval_reward_mean)\n",
        "    eval_reward_var_lst.append(eval_reward_var)\n",
        "    train_reward_lst.append(total_reward)\n",
        "\n",
        "    # Early Stopping Condition to avoid overfitting\n",
        "    # If the evaluation reward reaches the specified threshold, stop training early.\n",
        "    # The default threshold is set to 500, but you should adjust this based on observed training performance.\n",
        "    if eval_reward_mean >= 450 and eval_reward_var <= 50 ** 2: # [Modify this threshold as needed]\n",
        "        print(f\"Early stopping triggered at Episode {ep + 1}.\")\n",
        "        break\n",
        "\n",
        "# evaluate average training time per episode\n",
        "print(f\"Training time: {total_training_time/(ep + 1):.4f} seconds per episode\")\n",
        "\n",
        "env.close()\n"
      ]
    },
    {
      "cell_type": "code",
      "execution_count": 21,
      "metadata": {},
      "outputs": [],
      "source": [
        "test_mean = []\n",
        "test_var = []\n",
        "test_sd = []\n",
        "\n",
        "for i in range(50):\n",
        "    eval_reward_mean, eval_reward_var = evaluation(model)\n",
        "    test_mean.append(eval_reward_mean)\n",
        "    test_var.append(eval_reward_var)\n",
        "    test_sd.append(eval_reward_var ** 0.5)\n",
        "    "
      ]
    },
    {
      "cell_type": "code",
      "execution_count": 27,
      "metadata": {},
      "outputs": [
        {
          "data": {
            "text/plain": [
              "([500.0,\n",
              "  500.0,\n",
              "  267.6666666666667,\n",
              "  405.0,\n",
              "  419.3333333333333,\n",
              "  232.33333333333334,\n",
              "  316.6666666666667,\n",
              "  230.0,\n",
              "  500.0,\n",
              "  222.66666666666666,\n",
              "  500.0,\n",
              "  500.0,\n",
              "  500.0,\n",
              "  500.0,\n",
              "  405.3333333333333,\n",
              "  305.0,\n",
              "  311.6666666666667,\n",
              "  405.3333333333333,\n",
              "  393.3333333333333,\n",
              "  305.3333333333333,\n",
              "  500.0,\n",
              "  215.33333333333334,\n",
              "  412.0,\n",
              "  500.0,\n",
              "  373.3333333333333,\n",
              "  409.3333333333333,\n",
              "  307.3333333333333,\n",
              "  431.6666666666667,\n",
              "  321.6666666666667,\n",
              "  401.3333333333333,\n",
              "  297.0,\n",
              "  500.0,\n",
              "  416.0,\n",
              "  500.0,\n",
              "  444.6666666666667,\n",
              "  318.6666666666667,\n",
              "  403.6666666666667,\n",
              "  400.6666666666667,\n",
              "  293.3333333333333,\n",
              "  464.3333333333333,\n",
              "  314.0,\n",
              "  300.3333333333333,\n",
              "  403.6666666666667,\n",
              "  334.3333333333333,\n",
              "  402.6666666666667,\n",
              "  320.0,\n",
              "  423.0,\n",
              "  500.0,\n",
              "  415.3333333333333,\n",
              "  311.6666666666667],\n",
              " [0.0,\n",
              "  0.0,\n",
              "  2220.222222222222,\n",
              "  18050.0,\n",
              "  11029.555555555555,\n",
              "  342.8888888888889,\n",
              "  17328.222222222223,\n",
              "  684.6666666666666,\n",
              "  0.0,\n",
              "  6182.888888888888,\n",
              "  0.0,\n",
              "  0.0,\n",
              "  0.0,\n",
              "  0.0,\n",
              "  17923.555555555555,\n",
              "  19350.0,\n",
              "  18622.888888888887,\n",
              "  17923.555555555555,\n",
              "  22755.55555555555,\n",
              "  18971.555555555555,\n",
              "  0.0,\n",
              "  43.55555555555555,\n",
              "  15488.0,\n",
              "  0.0,\n",
              "  13068.222222222224,\n",
              "  16440.888888888887,\n",
              "  18584.222222222223,\n",
              "  9338.888888888889,\n",
              "  15929.555555555555,\n",
              "  19470.222222222223,\n",
              "  20612.666666666668,\n",
              "  0.0,\n",
              "  14112.0,\n",
              "  0.0,\n",
              "  6123.555555555555,\n",
              "  16824.88888888889,\n",
              "  18560.222222222223,\n",
              "  19734.222222222223,\n",
              "  21806.222222222223,\n",
              "  2544.222222222222,\n",
              "  17898.0,\n",
              "  22293.55555555556,\n",
              "  18560.222222222223,\n",
              "  14762.88888888889,\n",
              "  18947.555555555555,\n",
              "  16686.0,\n",
              "  11858.0,\n",
              "  0.0,\n",
              "  14336.888888888889,\n",
              "  18482.88888888889],\n",
              " [0.0,\n",
              "  0.0,\n",
              "  47.11923410054775,\n",
              "  134.35028842544403,\n",
              "  105.02169088124393,\n",
              "  18.517259216441534,\n",
              "  131.6367054518694,\n",
              "  26.166135875720485,\n",
              "  0.0,\n",
              "  78.63134800376302,\n",
              "  0.0,\n",
              "  0.0,\n",
              "  0.0,\n",
              "  0.0,\n",
              "  133.878883904653,\n",
              "  139.10427743243557,\n",
              "  136.4657059077074,\n",
              "  133.878883904653,\n",
              "  150.84944665313012,\n",
              "  137.7372700308655,\n",
              "  0.0,\n",
              "  6.599663291074443,\n",
              "  124.45079348883236,\n",
              "  0.0,\n",
              "  114.31632526556399,\n",
              "  128.2220296551606,\n",
              "  136.3239605580113,\n",
              "  96.6379267621615,\n",
              "  126.21234311887072,\n",
              "  139.53573815414538,\n",
              "  143.57112058720816,\n",
              "  0.0,\n",
              "  118.79393923933998,\n",
              "  0.0,\n",
              "  78.25315045131126,\n",
              "  129.7107894081633,\n",
              "  136.23590650860817,\n",
              "  140.47854719572743,\n",
              "  147.66930020224996,\n",
              "  50.44028372464039,\n",
              "  133.78340704287658,\n",
              "  149.31026607556348,\n",
              "  136.23590650860817,\n",
              "  121.50262914393619,\n",
              "  137.65012007098125,\n",
              "  129.1743008496659,\n",
              "  108.89444430272832,\n",
              "  0.0,\n",
              "  119.73674828092204,\n",
              "  135.9517888403418])"
            ]
          },
          "execution_count": 27,
          "metadata": {},
          "output_type": "execute_result"
        }
      ],
      "source": [
        "test_mean, test_var, test_sd"
      ]
    },
    {
      "cell_type": "markdown",
      "metadata": {
        "id": "qZ86BPQR3AhY"
      },
      "source": [
        "## Plot Results"
      ]
    },
    {
      "cell_type": "code",
      "execution_count": 11,
      "metadata": {
        "colab": {
          "base_uri": "https://localhost:8080/",
          "height": 1000
        },
        "id": "It8u9fyj3AL5",
        "outputId": "67009d69-50fc-4673-9d5e-2bbea09580b2"
      },
      "outputs": [
        {
          "data": {
            "image/png": "[encoded data removed]",
            "text/plain": [
              "<Figure size 640x480 with 1 Axes>"
            ]
          },
          "metadata": {},
          "output_type": "display_data"
        },
        {
          "data": {
            "image/png": "[encoded data removed]",
            "text/plain": [
              "<Figure size 640x480 with 1 Axes>"
            ]
          },
          "metadata": {},
          "output_type": "display_data"
        },
        {
          "data": {
            "image/png": "[encoded data removed]",
            "text/plain": [
              "<Figure size 640x480 with 1 Axes>"
            ]
          },
          "metadata": {},
          "output_type": "display_data"
        }
      ],
      "source": [
        "# Write code to plot\n",
        "# 1) Moving Averaged Training Reward, 2) Evaluation Mean, 3) Evaluation Variance\n",
        "# [Write Code]\n",
        "\n",
        "plot_smoothed_training_rwd(eval_reward_mean_lst)\n",
        "\n",
        "plot_eval_rwd_mean(eval_reward_mean_lst)\n",
        "\n",
        "plot_eval_rwd_var(eval_reward_var_lst)"
      ]
    },
    {
      "cell_type": "markdown",
      "metadata": {
        "id": "uSlOTDlpm78g"
      },
      "source": [
        "#Q-Network - Alternative"
      ]
    },
    {
      "cell_type": "code",
      "execution_count": 12,
      "metadata": {},
      "outputs": [],
      "source": [
        "# Use the following set of NN hyperparameters for ALL FOUR basline policies\n",
        "lr =  0.01        #@param {type:\"number\"}               # learning rate\n",
        "epoch =  32     #@param {type:\"number\"}               # epochs\n",
        "episode = 500  #@param {type:\"number\"}               # episodes\n",
        "\n",
        "epsilon = 0.9           #@param {type:\"number\"}     # Starting exploration rate\n",
        "epsilon_min = 0.1    #@param {type:\"number\"}     # Exploration rate min\n",
        "epsilon_decay = 0.995     #@param {type:\"number\"}     # Exploration rate decay\n",
        "\n",
        "gamma = 0.99          #@param {type:\"number\"}     # Agent discount factor\n",
        "\n",
        "# Use the following set of NN hyperparameters for Naive DQN, DQN and DDQN policies\n",
        "ba =  32       #@param {type:\"number\"}               # batch_size\n",
        "\n",
        "# Use the following set of RL hyperparameters for DQN and DDQN policies\n",
        "target_update_freq = 0.05 # @param {type:\"number\"}    # Target network update frequency\n"
      ]
    },
    {
      "cell_type": "code",
      "execution_count": 13,
      "metadata": {
        "colab": {
          "base_uri": "https://localhost:8080/",
          "height": 306
        },
        "id": "c9zO7SZssiaR",
        "outputId": "847b4588-ecf0-480e-b124-8e0beb4b26ec"
      },
      "outputs": [
        {
          "name": "stdout",
          "output_type": "stream",
          "text": [
            "Model: \"sequential_1\"\n",
            "_________________________________________________________________\n",
            " Layer (type)                Output Shape              Param #   \n",
            "=================================================================\n",
            " dense_3 (Dense)             (None, 32)                160       \n",
            "                                                                 \n",
            " dense_4 (Dense)             (None, 32)                1056      \n",
            "                                                                 \n",
            " dense_5 (Dense)             (None, 2)                 66        \n",
            "                                                                 \n",
            "=================================================================\n",
            "Total params: 1,282\n",
            "Trainable params: 1,282\n",
            "Non-trainable params: 0\n",
            "_________________________________________________________________\n"
          ]
        }
      ],
      "source": [
        "from keras.models import Sequential\n",
        "from keras.layers import Input, Dense, LayerNormalization\n",
        "from keras.initializers import RandomUniform\n",
        "from keras.activations import softmax, relu, tanh\n",
        "\n",
        "STATE_SIZE = (4,)\n",
        "ACTION_SIZE = 2\n",
        "LAYER_SIZE = 32\n",
        "SEED = 42\n",
        "\n",
        "# Define the Q-network\n",
        "alt_model = Sequential()\n",
        "\n",
        "# [WriteCode]\n",
        "# model.add(...\n",
        "alt_model.add(Input(shape=STATE_SIZE))\n",
        "'''\n",
        "Add in intermediate layers\n",
        "- Assume 3 layers of 32 nodes each with relu activation\n",
        "'''\n",
        "initializer = RandomUniform(minval=-0.5, maxval=0.5, seed=42)\n",
        "initializer_1 = RandomUniform(minval=-5, maxval=5, seed=42)\n",
        "\n",
        "alt_model.add(Dense(LAYER_SIZE, activation=tanh, kernel_initializer=initializer))\n",
        "alt_model.add(Dense(LAYER_SIZE, activation=relu, kernel_initializer=initializer_1))\n",
        "alt_model.add(Dense(ACTION_SIZE))\n",
        "\n",
        "# Compile the model\n",
        "# [WriteCode]\n",
        "alt_model.compile(loss='mse', optimizer='adam')\n",
        "\n",
        "# Print the model summary\n",
        "# [WriteCode]\n",
        "alt_model.summary()"
      ]
    },
    {
      "cell_type": "code",
      "execution_count": 14,
      "metadata": {
        "colab": {
          "base_uri": "https://localhost:8080/"
        },
        "id": "L_M_IusJMwwo",
        "outputId": "515454d6-3f22-49c8-d43b-236587dde34d"
      },
      "outputs": [
        {
          "name": "stdout",
          "output_type": "stream",
          "text": [
            "Episode 1/500 | Ep. Total Reward: 15.0 | Epsilon : 0.835 | Eval Rwd Mean: 9.67 | Eval Rwd Var: 0.22\n",
            "Episode 2/500 | Ep. Total Reward: 14.0 | Epsilon : 0.835 | Eval Rwd Mean: 9.67 | Eval Rwd Var: 0.22\n",
            "Episode 3/500 | Ep. Total Reward: 20.0 | Epsilon : 0.835 | Eval Rwd Mean: 10.33 | Eval Rwd Var: 3.56\n",
            "Episode 4/500 | Ep. Total Reward: 22.0 | Epsilon : 0.835 | Eval Rwd Mean: 9.33 | Eval Rwd Var: 0.22\n",
            "Episode 5/500 | Ep. Total Reward: 42.0 | Epsilon : 0.835 | Eval Rwd Mean: 10.00 | Eval Rwd Var: 0.00\n",
            "Episode 6/500 | Ep. Total Reward: 16.0 | Epsilon : 0.835 | Eval Rwd Mean: 17.67 | Eval Rwd Var: 133.56\n",
            "Episode 7/500 | Ep. Total Reward: 11.0 | Epsilon : 0.835 | Eval Rwd Mean: 11.67 | Eval Rwd Var: 10.89\n",
            "Episode 8/500 | Ep. Total Reward: 29.0 | Epsilon : 0.835 | Eval Rwd Mean: 13.33 | Eval Rwd Var: 29.56\n",
            "Episode 9/500 | Ep. Total Reward: 19.0 | Epsilon : 0.835 | Eval Rwd Mean: 10.33 | Eval Rwd Var: 0.22\n",
            "Episode 10/500 | Ep. Total Reward: 15.0 | Epsilon : 0.835 | Eval Rwd Mean: 12.00 | Eval Rwd Var: 12.67\n",
            "Episode 11/500 | Ep. Total Reward: 15.0 | Epsilon : 0.774 | Eval Rwd Mean: 10.00 | Eval Rwd Var: 0.00\n",
            "Episode 12/500 | Ep. Total Reward: 20.0 | Epsilon : 0.774 | Eval Rwd Mean: 24.33 | Eval Rwd Var: 133.56\n",
            "Episode 13/500 | Ep. Total Reward: 14.0 | Epsilon : 0.774 | Eval Rwd Mean: 10.33 | Eval Rwd Var: 0.22\n",
            "Episode 14/500 | Ep. Total Reward: 40.0 | Epsilon : 0.774 | Eval Rwd Mean: 13.00 | Eval Rwd Var: 24.67\n",
            "Episode 15/500 | Ep. Total Reward: 29.0 | Epsilon : 0.774 | Eval Rwd Mean: 14.00 | Eval Rwd Var: 50.67\n",
            "Episode 16/500 | Ep. Total Reward: 13.0 | Epsilon : 0.774 | Eval Rwd Mean: 19.33 | Eval Rwd Var: 24.22\n",
            "Episode 17/500 | Ep. Total Reward: 19.0 | Epsilon : 0.774 | Eval Rwd Mean: 28.33 | Eval Rwd Var: 1.56\n",
            "Episode 18/500 | Ep. Total Reward: 13.0 | Epsilon : 0.774 | Eval Rwd Mean: 16.00 | Eval Rwd Var: 84.67\n",
            "Episode 19/500 | Ep. Total Reward: 23.0 | Epsilon : 0.774 | Eval Rwd Mean: 15.00 | Eval Rwd Var: 44.67\n",
            "Episode 20/500 | Ep. Total Reward: 19.0 | Epsilon : 0.774 | Eval Rwd Mean: 10.00 | Eval Rwd Var: 0.67\n",
            "Episode 21/500 | Ep. Total Reward: 18.0 | Epsilon : 0.708 | Eval Rwd Mean: 16.67 | Eval Rwd Var: 102.89\n",
            "Episode 22/500 | Ep. Total Reward: 17.0 | Epsilon : 0.708 | Eval Rwd Mean: 10.00 | Eval Rwd Var: 0.67\n",
            "Episode 23/500 | Ep. Total Reward: 9.0 | Epsilon : 0.708 | Eval Rwd Mean: 10.00 | Eval Rwd Var: 0.67\n",
            "Episode 24/500 | Ep. Total Reward: 11.0 | Epsilon : 0.708 | Eval Rwd Mean: 9.33 | Eval Rwd Var: 0.89\n",
            "Episode 25/500 | Ep. Total Reward: 9.0 | Epsilon : 0.708 | Eval Rwd Mean: 10.33 | Eval Rwd Var: 1.56\n",
            "Episode 26/500 | Ep. Total Reward: 13.0 | Epsilon : 0.708 | Eval Rwd Mean: 16.67 | Eval Rwd Var: 88.89\n",
            "Episode 27/500 | Ep. Total Reward: 19.0 | Epsilon : 0.708 | Eval Rwd Mean: 9.33 | Eval Rwd Var: 0.22\n",
            "Episode 28/500 | Ep. Total Reward: 21.0 | Epsilon : 0.708 | Eval Rwd Mean: 9.33 | Eval Rwd Var: 0.22\n",
            "Episode 29/500 | Ep. Total Reward: 13.0 | Epsilon : 0.708 | Eval Rwd Mean: 9.33 | Eval Rwd Var: 0.22\n",
            "Episode 30/500 | Ep. Total Reward: 11.0 | Epsilon : 0.708 | Eval Rwd Mean: 9.33 | Eval Rwd Var: 0.22\n",
            "Episode 31/500 | Ep. Total Reward: 16.0 | Epsilon : 0.653 | Eval Rwd Mean: 8.67 | Eval Rwd Var: 0.89\n",
            "Episode 32/500 | Ep. Total Reward: 10.0 | Epsilon : 0.653 | Eval Rwd Mean: 10.33 | Eval Rwd Var: 0.22\n",
            "Episode 33/500 | Ep. Total Reward: 15.0 | Epsilon : 0.653 | Eval Rwd Mean: 9.33 | Eval Rwd Var: 1.56\n",
            "Episode 34/500 | Ep. Total Reward: 10.0 | Epsilon : 0.653 | Eval Rwd Mean: 9.67 | Eval Rwd Var: 0.22\n",
            "Episode 35/500 | Ep. Total Reward: 20.0 | Epsilon : 0.653 | Eval Rwd Mean: 8.33 | Eval Rwd Var: 0.22\n",
            "Episode 36/500 | Ep. Total Reward: 12.0 | Epsilon : 0.653 | Eval Rwd Mean: 9.67 | Eval Rwd Var: 0.22\n",
            "Episode 37/500 | Ep. Total Reward: 12.0 | Epsilon : 0.653 | Eval Rwd Mean: 9.33 | Eval Rwd Var: 0.89\n",
            "Episode 38/500 | Ep. Total Reward: 11.0 | Epsilon : 0.653 | Eval Rwd Mean: 9.33 | Eval Rwd Var: 0.89\n",
            "Episode 39/500 | Ep. Total Reward: 19.0 | Epsilon : 0.653 | Eval Rwd Mean: 9.67 | Eval Rwd Var: 0.22\n",
            "Episode 40/500 | Ep. Total Reward: 11.0 | Epsilon : 0.653 | Eval Rwd Mean: 9.00 | Eval Rwd Var: 0.67\n",
            "Episode 41/500 | Ep. Total Reward: 18.0 | Epsilon : 0.597 | Eval Rwd Mean: 9.33 | Eval Rwd Var: 0.22\n",
            "Episode 42/500 | Ep. Total Reward: 11.0 | Epsilon : 0.597 | Eval Rwd Mean: 9.00 | Eval Rwd Var: 0.67\n",
            "Episode 43/500 | Ep. Total Reward: 10.0 | Epsilon : 0.597 | Eval Rwd Mean: 9.00 | Eval Rwd Var: 0.67\n",
            "Episode 44/500 | Ep. Total Reward: 11.0 | Epsilon : 0.597 | Eval Rwd Mean: 9.00 | Eval Rwd Var: 0.67\n",
            "Episode 45/500 | Ep. Total Reward: 12.0 | Epsilon : 0.597 | Eval Rwd Mean: 8.33 | Eval Rwd Var: 0.22\n",
            "Episode 46/500 | Ep. Total Reward: 24.0 | Epsilon : 0.597 | Eval Rwd Mean: 8.33 | Eval Rwd Var: 0.22\n",
            "Episode 47/500 | Ep. Total Reward: 21.0 | Epsilon : 0.597 | Eval Rwd Mean: 9.33 | Eval Rwd Var: 0.89\n",
            "Episode 48/500 | Ep. Total Reward: 12.0 | Epsilon : 0.597 | Eval Rwd Mean: 8.33 | Eval Rwd Var: 0.22\n",
            "Episode 49/500 | Ep. Total Reward: 14.0 | Epsilon : 0.597 | Eval Rwd Mean: 9.67 | Eval Rwd Var: 0.89\n",
            "Episode 50/500 | Ep. Total Reward: 10.0 | Epsilon : 0.597 | Eval Rwd Mean: 9.67 | Eval Rwd Var: 0.22\n",
            "Episode 51/500 | Ep. Total Reward: 20.0 | Epsilon : 0.540 | Eval Rwd Mean: 8.67 | Eval Rwd Var: 0.22\n",
            "Episode 52/500 | Ep. Total Reward: 11.0 | Epsilon : 0.540 | Eval Rwd Mean: 8.67 | Eval Rwd Var: 0.22\n",
            "Episode 53/500 | Ep. Total Reward: 11.0 | Epsilon : 0.540 | Eval Rwd Mean: 9.33 | Eval Rwd Var: 0.89\n",
            "Episode 54/500 | Ep. Total Reward: 26.0 | Epsilon : 0.540 | Eval Rwd Mean: 9.00 | Eval Rwd Var: 0.67\n",
            "Episode 55/500 | Ep. Total Reward: 14.0 | Epsilon : 0.540 | Eval Rwd Mean: 9.33 | Eval Rwd Var: 0.22\n",
            "Episode 56/500 | Ep. Total Reward: 16.0 | Epsilon : 0.540 | Eval Rwd Mean: 10.00 | Eval Rwd Var: 0.00\n",
            "Episode 57/500 | Ep. Total Reward: 10.0 | Epsilon : 0.540 | Eval Rwd Mean: 9.00 | Eval Rwd Var: 0.67\n",
            "Episode 58/500 | Ep. Total Reward: 12.0 | Epsilon : 0.540 | Eval Rwd Mean: 8.67 | Eval Rwd Var: 0.22\n",
            "Episode 59/500 | Ep. Total Reward: 11.0 | Epsilon : 0.540 | Eval Rwd Mean: 10.00 | Eval Rwd Var: 0.67\n",
            "Episode 60/500 | Ep. Total Reward: 12.0 | Epsilon : 0.540 | Eval Rwd Mean: 9.33 | Eval Rwd Var: 0.89\n",
            "Episode 61/500 | Ep. Total Reward: 10.0 | Epsilon : 0.513 | Eval Rwd Mean: 9.33 | Eval Rwd Var: 0.22\n",
            "Episode 62/500 | Ep. Total Reward: 10.0 | Epsilon : 0.513 | Eval Rwd Mean: 9.67 | Eval Rwd Var: 0.22\n",
            "Episode 63/500 | Ep. Total Reward: 13.0 | Epsilon : 0.513 | Eval Rwd Mean: 10.00 | Eval Rwd Var: 0.67\n",
            "Episode 64/500 | Ep. Total Reward: 14.0 | Epsilon : 0.513 | Eval Rwd Mean: 9.33 | Eval Rwd Var: 0.89\n",
            "Episode 65/500 | Ep. Total Reward: 12.0 | Epsilon : 0.513 | Eval Rwd Mean: 9.33 | Eval Rwd Var: 0.22\n",
            "Episode 66/500 | Ep. Total Reward: 16.0 | Epsilon : 0.513 | Eval Rwd Mean: 8.67 | Eval Rwd Var: 0.22\n",
            "Episode 67/500 | Ep. Total Reward: 11.0 | Epsilon : 0.513 | Eval Rwd Mean: 9.00 | Eval Rwd Var: 0.67\n",
            "Episode 68/500 | Ep. Total Reward: 14.0 | Epsilon : 0.513 | Eval Rwd Mean: 9.00 | Eval Rwd Var: 0.67\n",
            "Episode 69/500 | Ep. Total Reward: 9.0 | Epsilon : 0.513 | Eval Rwd Mean: 9.33 | Eval Rwd Var: 0.22\n",
            "Episode 70/500 | Ep. Total Reward: 11.0 | Epsilon : 0.513 | Eval Rwd Mean: 9.00 | Eval Rwd Var: 0.00\n",
            "Episode 71/500 | Ep. Total Reward: 14.0 | Epsilon : 0.479 | Eval Rwd Mean: 9.67 | Eval Rwd Var: 0.22\n",
            "Episode 72/500 | Ep. Total Reward: 8.0 | Epsilon : 0.479 | Eval Rwd Mean: 9.00 | Eval Rwd Var: 0.67\n",
            "Episode 73/500 | Ep. Total Reward: 11.0 | Epsilon : 0.479 | Eval Rwd Mean: 9.00 | Eval Rwd Var: 0.00\n",
            "Episode 74/500 | Ep. Total Reward: 12.0 | Epsilon : 0.479 | Eval Rwd Mean: 8.67 | Eval Rwd Var: 0.22\n",
            "Episode 75/500 | Ep. Total Reward: 13.0 | Epsilon : 0.479 | Eval Rwd Mean: 9.00 | Eval Rwd Var: 0.67\n",
            "Episode 76/500 | Ep. Total Reward: 9.0 | Epsilon : 0.479 | Eval Rwd Mean: 9.67 | Eval Rwd Var: 0.22\n",
            "Episode 77/500 | Ep. Total Reward: 9.0 | Epsilon : 0.479 | Eval Rwd Mean: 9.67 | Eval Rwd Var: 0.22\n",
            "Episode 78/500 | Ep. Total Reward: 11.0 | Epsilon : 0.479 | Eval Rwd Mean: 9.67 | Eval Rwd Var: 0.22\n",
            "Episode 79/500 | Ep. Total Reward: 11.0 | Epsilon : 0.479 | Eval Rwd Mean: 9.00 | Eval Rwd Var: 0.67\n",
            "Episode 80/500 | Ep. Total Reward: 16.0 | Epsilon : 0.479 | Eval Rwd Mean: 9.67 | Eval Rwd Var: 0.22\n",
            "Episode 81/500 | Ep. Total Reward: 11.0 | Epsilon : 0.453 | Eval Rwd Mean: 9.33 | Eval Rwd Var: 0.22\n",
            "Episode 82/500 | Ep. Total Reward: 16.0 | Epsilon : 0.453 | Eval Rwd Mean: 8.67 | Eval Rwd Var: 0.22\n",
            "Episode 83/500 | Ep. Total Reward: 16.0 | Epsilon : 0.453 | Eval Rwd Mean: 9.00 | Eval Rwd Var: 0.00\n",
            "Episode 84/500 | Ep. Total Reward: 11.0 | Epsilon : 0.453 | Eval Rwd Mean: 10.00 | Eval Rwd Var: 0.00\n",
            "Episode 85/500 | Ep. Total Reward: 11.0 | Epsilon : 0.453 | Eval Rwd Mean: 9.00 | Eval Rwd Var: 0.00\n",
            "Episode 86/500 | Ep. Total Reward: 11.0 | Epsilon : 0.453 | Eval Rwd Mean: 9.00 | Eval Rwd Var: 0.67\n",
            "Episode 87/500 | Ep. Total Reward: 16.0 | Epsilon : 0.453 | Eval Rwd Mean: 8.33 | Eval Rwd Var: 0.22\n",
            "Episode 88/500 | Ep. Total Reward: 13.0 | Epsilon : 0.453 | Eval Rwd Mean: 9.33 | Eval Rwd Var: 0.89\n",
            "Episode 89/500 | Ep. Total Reward: 11.0 | Epsilon : 0.453 | Eval Rwd Mean: 9.00 | Eval Rwd Var: 0.00\n",
            "Episode 90/500 | Ep. Total Reward: 15.0 | Epsilon : 0.453 | Eval Rwd Mean: 9.00 | Eval Rwd Var: 0.67\n",
            "Episode 91/500 | Ep. Total Reward: 9.0 | Epsilon : 0.433 | Eval Rwd Mean: 9.00 | Eval Rwd Var: 0.67\n",
            "Episode 92/500 | Ep. Total Reward: 17.0 | Epsilon : 0.433 | Eval Rwd Mean: 9.00 | Eval Rwd Var: 0.67\n",
            "Episode 93/500 | Ep. Total Reward: 16.0 | Epsilon : 0.433 | Eval Rwd Mean: 9.67 | Eval Rwd Var: 0.22\n",
            "Episode 94/500 | Ep. Total Reward: 9.0 | Epsilon : 0.433 | Eval Rwd Mean: 9.67 | Eval Rwd Var: 0.22\n",
            "Episode 95/500 | Ep. Total Reward: 15.0 | Epsilon : 0.433 | Eval Rwd Mean: 10.00 | Eval Rwd Var: 0.00\n",
            "Episode 96/500 | Ep. Total Reward: 11.0 | Epsilon : 0.433 | Eval Rwd Mean: 9.67 | Eval Rwd Var: 0.22\n",
            "Episode 97/500 | Ep. Total Reward: 13.0 | Epsilon : 0.433 | Eval Rwd Mean: 9.33 | Eval Rwd Var: 0.22\n",
            "Episode 98/500 | Ep. Total Reward: 18.0 | Epsilon : 0.433 | Eval Rwd Mean: 9.00 | Eval Rwd Var: 0.00\n",
            "Episode 99/500 | Ep. Total Reward: 18.0 | Epsilon : 0.433 | Eval Rwd Mean: 9.33 | Eval Rwd Var: 0.89\n",
            "Episode 100/500 | Ep. Total Reward: 14.0 | Epsilon : 0.433 | Eval Rwd Mean: 9.33 | Eval Rwd Var: 0.89\n",
            "Episode 101/500 | Ep. Total Reward: 9.0 | Epsilon : 0.414 | Eval Rwd Mean: 8.67 | Eval Rwd Var: 0.22\n",
            "Episode 102/500 | Ep. Total Reward: 13.0 | Epsilon : 0.414 | Eval Rwd Mean: 9.00 | Eval Rwd Var: 0.67\n",
            "Episode 103/500 | Ep. Total Reward: 11.0 | Epsilon : 0.414 | Eval Rwd Mean: 9.00 | Eval Rwd Var: 0.00\n",
            "Episode 104/500 | Ep. Total Reward: 10.0 | Epsilon : 0.414 | Eval Rwd Mean: 8.67 | Eval Rwd Var: 0.22\n",
            "Episode 105/500 | Ep. Total Reward: 10.0 | Epsilon : 0.414 | Eval Rwd Mean: 9.33 | Eval Rwd Var: 0.89\n",
            "Episode 106/500 | Ep. Total Reward: 9.0 | Epsilon : 0.414 | Eval Rwd Mean: 9.00 | Eval Rwd Var: 0.67\n",
            "Episode 107/500 | Ep. Total Reward: 10.0 | Epsilon : 0.414 | Eval Rwd Mean: 9.33 | Eval Rwd Var: 0.22\n",
            "Episode 108/500 | Ep. Total Reward: 12.0 | Epsilon : 0.414 | Eval Rwd Mean: 9.33 | Eval Rwd Var: 0.22\n",
            "Episode 109/500 | Ep. Total Reward: 9.0 | Epsilon : 0.414 | Eval Rwd Mean: 9.67 | Eval Rwd Var: 0.22\n",
            "Episode 110/500 | Ep. Total Reward: 12.0 | Epsilon : 0.414 | Eval Rwd Mean: 9.00 | Eval Rwd Var: 0.67\n",
            "Episode 111/500 | Ep. Total Reward: 12.0 | Epsilon : 0.390 | Eval Rwd Mean: 9.67 | Eval Rwd Var: 0.22\n",
            "Episode 112/500 | Ep. Total Reward: 13.0 | Epsilon : 0.390 | Eval Rwd Mean: 9.33 | Eval Rwd Var: 0.22\n",
            "Episode 113/500 | Ep. Total Reward: 12.0 | Epsilon : 0.390 | Eval Rwd Mean: 9.00 | Eval Rwd Var: 0.00\n",
            "Episode 114/500 | Ep. Total Reward: 13.0 | Epsilon : 0.390 | Eval Rwd Mean: 9.67 | Eval Rwd Var: 0.89\n",
            "Episode 115/500 | Ep. Total Reward: 9.0 | Epsilon : 0.390 | Eval Rwd Mean: 9.33 | Eval Rwd Var: 0.22\n",
            "Episode 116/500 | Ep. Total Reward: 11.0 | Epsilon : 0.390 | Eval Rwd Mean: 9.00 | Eval Rwd Var: 0.67\n",
            "Episode 117/500 | Ep. Total Reward: 9.0 | Epsilon : 0.390 | Eval Rwd Mean: 9.33 | Eval Rwd Var: 0.22\n",
            "Episode 118/500 | Ep. Total Reward: 11.0 | Epsilon : 0.390 | Eval Rwd Mean: 10.00 | Eval Rwd Var: 0.00\n",
            "Episode 119/500 | Ep. Total Reward: 14.0 | Epsilon : 0.390 | Eval Rwd Mean: 9.33 | Eval Rwd Var: 0.22\n",
            "Episode 120/500 | Ep. Total Reward: 15.0 | Epsilon : 0.390 | Eval Rwd Mean: 9.00 | Eval Rwd Var: 0.67\n",
            "Episode 121/500 | Ep. Total Reward: 12.0 | Epsilon : 0.367 | Eval Rwd Mean: 10.00 | Eval Rwd Var: 0.00\n",
            "Episode 122/500 | Ep. Total Reward: 10.0 | Epsilon : 0.367 | Eval Rwd Mean: 9.33 | Eval Rwd Var: 0.22\n",
            "Episode 123/500 | Ep. Total Reward: 14.0 | Epsilon : 0.367 | Eval Rwd Mean: 10.00 | Eval Rwd Var: 0.00\n",
            "Episode 124/500 | Ep. Total Reward: 11.0 | Epsilon : 0.367 | Eval Rwd Mean: 9.00 | Eval Rwd Var: 0.67\n",
            "Episode 125/500 | Ep. Total Reward: 9.0 | Epsilon : 0.367 | Eval Rwd Mean: 9.33 | Eval Rwd Var: 0.89\n",
            "Episode 126/500 | Ep. Total Reward: 11.0 | Epsilon : 0.367 | Eval Rwd Mean: 9.33 | Eval Rwd Var: 0.89\n",
            "Episode 127/500 | Ep. Total Reward: 9.0 | Epsilon : 0.367 | Eval Rwd Mean: 9.33 | Eval Rwd Var: 0.22\n",
            "Episode 128/500 | Ep. Total Reward: 11.0 | Epsilon : 0.367 | Eval Rwd Mean: 9.00 | Eval Rwd Var: 0.00\n",
            "Episode 129/500 | Ep. Total Reward: 9.0 | Epsilon : 0.367 | Eval Rwd Mean: 8.33 | Eval Rwd Var: 0.22\n",
            "Episode 130/500 | Ep. Total Reward: 17.0 | Epsilon : 0.367 | Eval Rwd Mean: 8.33 | Eval Rwd Var: 0.22\n",
            "Episode 131/500 | Ep. Total Reward: 12.0 | Epsilon : 0.346 | Eval Rwd Mean: 9.33 | Eval Rwd Var: 0.22\n",
            "Episode 132/500 | Ep. Total Reward: 11.0 | Epsilon : 0.346 | Eval Rwd Mean: 9.00 | Eval Rwd Var: 0.67\n",
            "Episode 133/500 | Ep. Total Reward: 15.0 | Epsilon : 0.346 | Eval Rwd Mean: 9.00 | Eval Rwd Var: 0.67\n",
            "Episode 134/500 | Ep. Total Reward: 20.0 | Epsilon : 0.346 | Eval Rwd Mean: 9.33 | Eval Rwd Var: 0.22\n",
            "Episode 135/500 | Ep. Total Reward: 9.0 | Epsilon : 0.346 | Eval Rwd Mean: 9.67 | Eval Rwd Var: 0.22\n",
            "Episode 136/500 | Ep. Total Reward: 13.0 | Epsilon : 0.346 | Eval Rwd Mean: 9.33 | Eval Rwd Var: 0.89\n",
            "Episode 137/500 | Ep. Total Reward: 10.0 | Epsilon : 0.346 | Eval Rwd Mean: 9.00 | Eval Rwd Var: 0.67\n",
            "Episode 138/500 | Ep. Total Reward: 12.0 | Epsilon : 0.346 | Eval Rwd Mean: 9.33 | Eval Rwd Var: 0.22\n",
            "Episode 139/500 | Ep. Total Reward: 9.0 | Epsilon : 0.346 | Eval Rwd Mean: 10.33 | Eval Rwd Var: 0.22\n",
            "Episode 140/500 | Ep. Total Reward: 9.0 | Epsilon : 0.346 | Eval Rwd Mean: 9.33 | Eval Rwd Var: 0.22\n",
            "Episode 141/500 | Ep. Total Reward: 10.0 | Epsilon : 0.329 | Eval Rwd Mean: 9.67 | Eval Rwd Var: 0.22\n",
            "Episode 142/500 | Ep. Total Reward: 12.0 | Epsilon : 0.329 | Eval Rwd Mean: 9.67 | Eval Rwd Var: 0.22\n",
            "Episode 143/500 | Ep. Total Reward: 9.0 | Epsilon : 0.329 | Eval Rwd Mean: 9.33 | Eval Rwd Var: 0.22\n",
            "Episode 144/500 | Ep. Total Reward: 14.0 | Epsilon : 0.329 | Eval Rwd Mean: 9.00 | Eval Rwd Var: 0.00\n",
            "Episode 145/500 | Ep. Total Reward: 12.0 | Epsilon : 0.329 | Eval Rwd Mean: 10.00 | Eval Rwd Var: 0.00\n",
            "Episode 146/500 | Ep. Total Reward: 10.0 | Epsilon : 0.329 | Eval Rwd Mean: 9.67 | Eval Rwd Var: 1.56\n",
            "Episode 147/500 | Ep. Total Reward: 9.0 | Epsilon : 0.329 | Eval Rwd Mean: 8.67 | Eval Rwd Var: 0.22\n",
            "Episode 148/500 | Ep. Total Reward: 10.0 | Epsilon : 0.329 | Eval Rwd Mean: 8.33 | Eval Rwd Var: 0.22\n",
            "Episode 149/500 | Ep. Total Reward: 11.0 | Epsilon : 0.329 | Eval Rwd Mean: 9.67 | Eval Rwd Var: 0.22\n",
            "Episode 150/500 | Ep. Total Reward: 13.0 | Epsilon : 0.329 | Eval Rwd Mean: 9.33 | Eval Rwd Var: 0.89\n",
            "Episode 151/500 | Ep. Total Reward: 10.0 | Epsilon : 0.313 | Eval Rwd Mean: 9.00 | Eval Rwd Var: 0.00\n",
            "Episode 152/500 | Ep. Total Reward: 10.0 | Epsilon : 0.313 | Eval Rwd Mean: 9.00 | Eval Rwd Var: 0.00\n",
            "Episode 153/500 | Ep. Total Reward: 10.0 | Epsilon : 0.313 | Eval Rwd Mean: 9.67 | Eval Rwd Var: 0.22\n",
            "Episode 154/500 | Ep. Total Reward: 11.0 | Epsilon : 0.313 | Eval Rwd Mean: 9.33 | Eval Rwd Var: 1.56\n",
            "Episode 155/500 | Ep. Total Reward: 11.0 | Epsilon : 0.313 | Eval Rwd Mean: 9.33 | Eval Rwd Var: 0.22\n",
            "Episode 156/500 | Ep. Total Reward: 10.0 | Epsilon : 0.313 | Eval Rwd Mean: 8.67 | Eval Rwd Var: 0.22\n",
            "Episode 157/500 | Ep. Total Reward: 9.0 | Epsilon : 0.313 | Eval Rwd Mean: 9.33 | Eval Rwd Var: 0.22\n",
            "Episode 158/500 | Ep. Total Reward: 19.0 | Epsilon : 0.313 | Eval Rwd Mean: 9.33 | Eval Rwd Var: 0.22\n",
            "Episode 159/500 | Ep. Total Reward: 15.0 | Epsilon : 0.313 | Eval Rwd Mean: 9.33 | Eval Rwd Var: 0.22\n",
            "Episode 160/500 | Ep. Total Reward: 10.0 | Epsilon : 0.313 | Eval Rwd Mean: 8.67 | Eval Rwd Var: 0.89\n",
            "Episode 161/500 | Ep. Total Reward: 11.0 | Epsilon : 0.296 | Eval Rwd Mean: 9.33 | Eval Rwd Var: 0.22\n",
            "Episode 162/500 | Ep. Total Reward: 13.0 | Epsilon : 0.296 | Eval Rwd Mean: 9.00 | Eval Rwd Var: 0.67\n",
            "Episode 163/500 | Ep. Total Reward: 12.0 | Epsilon : 0.296 | Eval Rwd Mean: 9.67 | Eval Rwd Var: 0.22\n",
            "Episode 164/500 | Ep. Total Reward: 10.0 | Epsilon : 0.296 | Eval Rwd Mean: 9.00 | Eval Rwd Var: 0.67\n",
            "Episode 165/500 | Ep. Total Reward: 11.0 | Epsilon : 0.296 | Eval Rwd Mean: 9.00 | Eval Rwd Var: 0.67\n",
            "Episode 166/500 | Ep. Total Reward: 10.0 | Epsilon : 0.296 | Eval Rwd Mean: 9.33 | Eval Rwd Var: 0.89\n",
            "Episode 167/500 | Ep. Total Reward: 9.0 | Epsilon : 0.296 | Eval Rwd Mean: 9.00 | Eval Rwd Var: 0.67\n",
            "Episode 168/500 | Ep. Total Reward: 10.0 | Epsilon : 0.296 | Eval Rwd Mean: 10.00 | Eval Rwd Var: 0.00\n",
            "Episode 169/500 | Ep. Total Reward: 11.0 | Epsilon : 0.296 | Eval Rwd Mean: 8.67 | Eval Rwd Var: 0.89\n",
            "Episode 170/500 | Ep. Total Reward: 9.0 | Epsilon : 0.296 | Eval Rwd Mean: 9.00 | Eval Rwd Var: 0.67\n",
            "Episode 171/500 | Ep. Total Reward: 13.0 | Epsilon : 0.277 | Eval Rwd Mean: 8.33 | Eval Rwd Var: 0.22\n",
            "Episode 172/500 | Ep. Total Reward: 10.0 | Epsilon : 0.277 | Eval Rwd Mean: 9.33 | Eval Rwd Var: 0.22\n",
            "Episode 173/500 | Ep. Total Reward: 11.0 | Epsilon : 0.277 | Eval Rwd Mean: 9.00 | Eval Rwd Var: 0.67\n",
            "Episode 174/500 | Ep. Total Reward: 10.0 | Epsilon : 0.277 | Eval Rwd Mean: 10.00 | Eval Rwd Var: 0.67\n",
            "Episode 175/500 | Ep. Total Reward: 10.0 | Epsilon : 0.277 | Eval Rwd Mean: 8.67 | Eval Rwd Var: 0.22\n",
            "Episode 176/500 | Ep. Total Reward: 9.0 | Epsilon : 0.277 | Eval Rwd Mean: 9.00 | Eval Rwd Var: 0.67\n",
            "Episode 177/500 | Ep. Total Reward: 9.0 | Epsilon : 0.277 | Eval Rwd Mean: 10.00 | Eval Rwd Var: 0.00\n",
            "Episode 178/500 | Ep. Total Reward: 11.0 | Epsilon : 0.277 | Eval Rwd Mean: 9.33 | Eval Rwd Var: 0.22\n",
            "Episode 179/500 | Ep. Total Reward: 11.0 | Epsilon : 0.277 | Eval Rwd Mean: 9.67 | Eval Rwd Var: 0.22\n",
            "Episode 180/500 | Ep. Total Reward: 13.0 | Epsilon : 0.277 | Eval Rwd Mean: 9.67 | Eval Rwd Var: 0.22\n",
            "Episode 181/500 | Ep. Total Reward: 11.0 | Epsilon : 0.262 | Eval Rwd Mean: 8.67 | Eval Rwd Var: 0.22\n",
            "Episode 182/500 | Ep. Total Reward: 11.0 | Epsilon : 0.262 | Eval Rwd Mean: 9.67 | Eval Rwd Var: 0.22\n",
            "Episode 183/500 | Ep. Total Reward: 11.0 | Epsilon : 0.262 | Eval Rwd Mean: 9.67 | Eval Rwd Var: 1.56\n",
            "Episode 184/500 | Ep. Total Reward: 12.0 | Epsilon : 0.262 | Eval Rwd Mean: 9.00 | Eval Rwd Var: 0.00\n",
            "Episode 185/500 | Ep. Total Reward: 10.0 | Epsilon : 0.262 | Eval Rwd Mean: 10.00 | Eval Rwd Var: 0.00\n",
            "Episode 186/500 | Ep. Total Reward: 11.0 | Epsilon : 0.262 | Eval Rwd Mean: 9.67 | Eval Rwd Var: 0.22\n",
            "Episode 187/500 | Ep. Total Reward: 12.0 | Epsilon : 0.262 | Eval Rwd Mean: 9.33 | Eval Rwd Var: 0.22\n",
            "Episode 188/500 | Ep. Total Reward: 11.0 | Epsilon : 0.262 | Eval Rwd Mean: 9.33 | Eval Rwd Var: 0.89\n",
            "Episode 189/500 | Ep. Total Reward: 14.0 | Epsilon : 0.262 | Eval Rwd Mean: 9.67 | Eval Rwd Var: 1.56\n",
            "Episode 190/500 | Ep. Total Reward: 8.0 | Epsilon : 0.262 | Eval Rwd Mean: 9.00 | Eval Rwd Var: 0.67\n",
            "Episode 191/500 | Ep. Total Reward: 11.0 | Epsilon : 0.248 | Eval Rwd Mean: 8.67 | Eval Rwd Var: 0.22\n",
            "Episode 192/500 | Ep. Total Reward: 10.0 | Epsilon : 0.248 | Eval Rwd Mean: 10.00 | Eval Rwd Var: 0.67\n",
            "Episode 193/500 | Ep. Total Reward: 9.0 | Epsilon : 0.248 | Eval Rwd Mean: 9.33 | Eval Rwd Var: 0.22\n",
            "Episode 194/500 | Ep. Total Reward: 12.0 | Epsilon : 0.248 | Eval Rwd Mean: 9.00 | Eval Rwd Var: 0.67\n",
            "Episode 195/500 | Ep. Total Reward: 11.0 | Epsilon : 0.248 | Eval Rwd Mean: 10.33 | Eval Rwd Var: 0.22\n",
            "Episode 196/500 | Ep. Total Reward: 10.0 | Epsilon : 0.248 | Eval Rwd Mean: 9.67 | Eval Rwd Var: 0.22\n",
            "Episode 197/500 | Ep. Total Reward: 12.0 | Epsilon : 0.248 | Eval Rwd Mean: 9.33 | Eval Rwd Var: 0.22\n",
            "Episode 198/500 | Ep. Total Reward: 11.0 | Epsilon : 0.248 | Eval Rwd Mean: 10.00 | Eval Rwd Var: 0.00\n",
            "Episode 199/500 | Ep. Total Reward: 10.0 | Epsilon : 0.248 | Eval Rwd Mean: 9.00 | Eval Rwd Var: 0.67\n",
            "Episode 200/500 | Ep. Total Reward: 9.0 | Epsilon : 0.248 | Eval Rwd Mean: 9.33 | Eval Rwd Var: 0.89\n",
            "Episode 201/500 | Ep. Total Reward: 9.0 | Epsilon : 0.237 | Eval Rwd Mean: 9.00 | Eval Rwd Var: 0.67\n",
            "Episode 202/500 | Ep. Total Reward: 9.0 | Epsilon : 0.237 | Eval Rwd Mean: 9.33 | Eval Rwd Var: 0.22\n",
            "Episode 203/500 | Ep. Total Reward: 18.0 | Epsilon : 0.237 | Eval Rwd Mean: 9.33 | Eval Rwd Var: 0.22\n",
            "Episode 204/500 | Ep. Total Reward: 11.0 | Epsilon : 0.237 | Eval Rwd Mean: 9.67 | Eval Rwd Var: 1.56\n",
            "Episode 205/500 | Ep. Total Reward: 12.0 | Epsilon : 0.237 | Eval Rwd Mean: 9.67 | Eval Rwd Var: 0.22\n",
            "Episode 206/500 | Ep. Total Reward: 10.0 | Epsilon : 0.237 | Eval Rwd Mean: 10.00 | Eval Rwd Var: 0.00\n",
            "Episode 207/500 | Ep. Total Reward: 10.0 | Epsilon : 0.237 | Eval Rwd Mean: 9.67 | Eval Rwd Var: 0.22\n",
            "Episode 208/500 | Ep. Total Reward: 12.0 | Epsilon : 0.237 | Eval Rwd Mean: 10.00 | Eval Rwd Var: 0.00\n",
            "Episode 209/500 | Ep. Total Reward: 9.0 | Epsilon : 0.237 | Eval Rwd Mean: 9.00 | Eval Rwd Var: 0.67\n",
            "Episode 210/500 | Ep. Total Reward: 11.0 | Epsilon : 0.237 | Eval Rwd Mean: 9.33 | Eval Rwd Var: 0.22\n",
            "Episode 211/500 | Ep. Total Reward: 12.0 | Epsilon : 0.223 | Eval Rwd Mean: 9.33 | Eval Rwd Var: 0.22\n",
            "Episode 212/500 | Ep. Total Reward: 14.0 | Epsilon : 0.223 | Eval Rwd Mean: 9.67 | Eval Rwd Var: 0.22\n",
            "Episode 213/500 | Ep. Total Reward: 10.0 | Epsilon : 0.223 | Eval Rwd Mean: 10.00 | Eval Rwd Var: 0.00\n",
            "Episode 214/500 | Ep. Total Reward: 10.0 | Epsilon : 0.223 | Eval Rwd Mean: 9.00 | Eval Rwd Var: 0.00\n",
            "Episode 215/500 | Ep. Total Reward: 13.0 | Epsilon : 0.223 | Eval Rwd Mean: 9.67 | Eval Rwd Var: 0.22\n",
            "Episode 216/500 | Ep. Total Reward: 9.0 | Epsilon : 0.223 | Eval Rwd Mean: 9.33 | Eval Rwd Var: 0.22\n",
            "Episode 217/500 | Ep. Total Reward: 11.0 | Epsilon : 0.223 | Eval Rwd Mean: 9.33 | Eval Rwd Var: 0.22\n",
            "Episode 218/500 | Ep. Total Reward: 9.0 | Epsilon : 0.223 | Eval Rwd Mean: 8.33 | Eval Rwd Var: 0.22\n",
            "Episode 219/500 | Ep. Total Reward: 9.0 | Epsilon : 0.223 | Eval Rwd Mean: 10.00 | Eval Rwd Var: 0.00\n",
            "Episode 220/500 | Ep. Total Reward: 10.0 | Epsilon : 0.223 | Eval Rwd Mean: 9.00 | Eval Rwd Var: 0.00\n",
            "Episode 221/500 | Ep. Total Reward: 11.0 | Epsilon : 0.211 | Eval Rwd Mean: 9.33 | Eval Rwd Var: 0.22\n",
            "Episode 222/500 | Ep. Total Reward: 10.0 | Epsilon : 0.211 | Eval Rwd Mean: 8.67 | Eval Rwd Var: 0.89\n",
            "Episode 223/500 | Ep. Total Reward: 11.0 | Epsilon : 0.211 | Eval Rwd Mean: 9.00 | Eval Rwd Var: 0.67\n",
            "Episode 224/500 | Ep. Total Reward: 12.0 | Epsilon : 0.211 | Eval Rwd Mean: 9.67 | Eval Rwd Var: 0.22\n",
            "Episode 225/500 | Ep. Total Reward: 16.0 | Epsilon : 0.211 | Eval Rwd Mean: 8.67 | Eval Rwd Var: 0.22\n",
            "Episode 226/500 | Ep. Total Reward: 17.0 | Epsilon : 0.211 | Eval Rwd Mean: 9.33 | Eval Rwd Var: 0.89\n",
            "Episode 227/500 | Ep. Total Reward: 11.0 | Epsilon : 0.211 | Eval Rwd Mean: 9.33 | Eval Rwd Var: 0.22\n",
            "Episode 228/500 | Ep. Total Reward: 11.0 | Epsilon : 0.211 | Eval Rwd Mean: 9.00 | Eval Rwd Var: 0.00\n",
            "Episode 229/500 | Ep. Total Reward: 11.0 | Epsilon : 0.211 | Eval Rwd Mean: 10.33 | Eval Rwd Var: 0.22\n",
            "Episode 230/500 | Ep. Total Reward: 10.0 | Epsilon : 0.211 | Eval Rwd Mean: 9.33 | Eval Rwd Var: 0.22\n",
            "Episode 231/500 | Ep. Total Reward: 12.0 | Epsilon : 0.199 | Eval Rwd Mean: 9.67 | Eval Rwd Var: 0.22\n",
            "Episode 232/500 | Ep. Total Reward: 12.0 | Epsilon : 0.199 | Eval Rwd Mean: 8.67 | Eval Rwd Var: 0.22\n",
            "Episode 233/500 | Ep. Total Reward: 11.0 | Epsilon : 0.199 | Eval Rwd Mean: 9.33 | Eval Rwd Var: 0.22\n",
            "Episode 234/500 | Ep. Total Reward: 12.0 | Epsilon : 0.199 | Eval Rwd Mean: 9.00 | Eval Rwd Var: 0.67\n",
            "Episode 235/500 | Ep. Total Reward: 10.0 | Epsilon : 0.199 | Eval Rwd Mean: 9.67 | Eval Rwd Var: 0.22\n",
            "Episode 236/500 | Ep. Total Reward: 9.0 | Epsilon : 0.199 | Eval Rwd Mean: 9.33 | Eval Rwd Var: 0.22\n",
            "Episode 237/500 | Ep. Total Reward: 9.0 | Epsilon : 0.199 | Eval Rwd Mean: 9.67 | Eval Rwd Var: 0.22\n",
            "Episode 238/500 | Ep. Total Reward: 10.0 | Epsilon : 0.199 | Eval Rwd Mean: 10.00 | Eval Rwd Var: 0.67\n",
            "Episode 239/500 | Ep. Total Reward: 9.0 | Epsilon : 0.199 | Eval Rwd Mean: 9.33 | Eval Rwd Var: 0.22\n",
            "Episode 240/500 | Ep. Total Reward: 11.0 | Epsilon : 0.199 | Eval Rwd Mean: 9.33 | Eval Rwd Var: 0.22\n",
            "Episode 241/500 | Ep. Total Reward: 9.0 | Epsilon : 0.190 | Eval Rwd Mean: 9.33 | Eval Rwd Var: 0.22\n",
            "Episode 242/500 | Ep. Total Reward: 10.0 | Epsilon : 0.190 | Eval Rwd Mean: 8.67 | Eval Rwd Var: 0.22\n",
            "Episode 243/500 | Ep. Total Reward: 13.0 | Epsilon : 0.190 | Eval Rwd Mean: 10.00 | Eval Rwd Var: 0.00\n",
            "Episode 244/500 | Ep. Total Reward: 10.0 | Epsilon : 0.190 | Eval Rwd Mean: 9.33 | Eval Rwd Var: 0.89\n",
            "Episode 245/500 | Ep. Total Reward: 9.0 | Epsilon : 0.190 | Eval Rwd Mean: 9.67 | Eval Rwd Var: 0.22\n",
            "Episode 246/500 | Ep. Total Reward: 8.0 | Epsilon : 0.190 | Eval Rwd Mean: 8.33 | Eval Rwd Var: 0.22\n",
            "Episode 247/500 | Ep. Total Reward: 10.0 | Epsilon : 0.190 | Eval Rwd Mean: 9.67 | Eval Rwd Var: 0.89\n",
            "Episode 248/500 | Ep. Total Reward: 10.0 | Epsilon : 0.190 | Eval Rwd Mean: 9.67 | Eval Rwd Var: 0.22\n",
            "Episode 249/500 | Ep. Total Reward: 10.0 | Epsilon : 0.190 | Eval Rwd Mean: 9.00 | Eval Rwd Var: 0.67\n",
            "Episode 250/500 | Ep. Total Reward: 10.0 | Epsilon : 0.190 | Eval Rwd Mean: 8.67 | Eval Rwd Var: 0.22\n",
            "Episode 251/500 | Ep. Total Reward: 12.0 | Epsilon : 0.179 | Eval Rwd Mean: 9.00 | Eval Rwd Var: 0.67\n",
            "Episode 252/500 | Ep. Total Reward: 11.0 | Epsilon : 0.179 | Eval Rwd Mean: 9.33 | Eval Rwd Var: 0.22\n",
            "Episode 253/500 | Ep. Total Reward: 9.0 | Epsilon : 0.179 | Eval Rwd Mean: 9.33 | Eval Rwd Var: 0.22\n",
            "Episode 254/500 | Ep. Total Reward: 12.0 | Epsilon : 0.179 | Eval Rwd Mean: 9.67 | Eval Rwd Var: 0.22\n",
            "Episode 255/500 | Ep. Total Reward: 12.0 | Epsilon : 0.179 | Eval Rwd Mean: 9.33 | Eval Rwd Var: 0.89\n",
            "Episode 256/500 | Ep. Total Reward: 8.0 | Epsilon : 0.179 | Eval Rwd Mean: 10.00 | Eval Rwd Var: 0.00\n",
            "Episode 257/500 | Ep. Total Reward: 9.0 | Epsilon : 0.179 | Eval Rwd Mean: 9.33 | Eval Rwd Var: 0.22\n",
            "Episode 258/500 | Ep. Total Reward: 10.0 | Epsilon : 0.179 | Eval Rwd Mean: 8.33 | Eval Rwd Var: 0.22\n",
            "Episode 259/500 | Ep. Total Reward: 8.0 | Epsilon : 0.179 | Eval Rwd Mean: 9.67 | Eval Rwd Var: 0.22\n",
            "Episode 260/500 | Ep. Total Reward: 10.0 | Epsilon : 0.179 | Eval Rwd Mean: 9.67 | Eval Rwd Var: 0.22\n",
            "Episode 261/500 | Ep. Total Reward: 10.0 | Epsilon : 0.170 | Eval Rwd Mean: 9.67 | Eval Rwd Var: 0.22\n",
            "Episode 262/500 | Ep. Total Reward: 9.0 | Epsilon : 0.170 | Eval Rwd Mean: 9.00 | Eval Rwd Var: 0.00\n",
            "Episode 263/500 | Ep. Total Reward: 9.0 | Epsilon : 0.170 | Eval Rwd Mean: 9.33 | Eval Rwd Var: 0.22\n",
            "Episode 264/500 | Ep. Total Reward: 10.0 | Epsilon : 0.170 | Eval Rwd Mean: 8.67 | Eval Rwd Var: 0.22\n",
            "Episode 265/500 | Ep. Total Reward: 9.0 | Epsilon : 0.170 | Eval Rwd Mean: 9.67 | Eval Rwd Var: 1.56\n",
            "Episode 266/500 | Ep. Total Reward: 11.0 | Epsilon : 0.170 | Eval Rwd Mean: 9.33 | Eval Rwd Var: 0.89\n",
            "Episode 267/500 | Ep. Total Reward: 10.0 | Epsilon : 0.170 | Eval Rwd Mean: 9.33 | Eval Rwd Var: 1.56\n",
            "Episode 268/500 | Ep. Total Reward: 9.0 | Epsilon : 0.170 | Eval Rwd Mean: 9.00 | Eval Rwd Var: 0.67\n",
            "Episode 269/500 | Ep. Total Reward: 10.0 | Epsilon : 0.170 | Eval Rwd Mean: 8.67 | Eval Rwd Var: 0.22\n",
            "Episode 270/500 | Ep. Total Reward: 9.0 | Epsilon : 0.170 | Eval Rwd Mean: 9.33 | Eval Rwd Var: 0.22\n",
            "Episode 271/500 | Ep. Total Reward: 11.0 | Epsilon : 0.161 | Eval Rwd Mean: 9.33 | Eval Rwd Var: 0.22\n",
            "Episode 272/500 | Ep. Total Reward: 9.0 | Epsilon : 0.161 | Eval Rwd Mean: 10.00 | Eval Rwd Var: 0.00\n",
            "Episode 273/500 | Ep. Total Reward: 10.0 | Epsilon : 0.161 | Eval Rwd Mean: 11.00 | Eval Rwd Var: 0.00\n",
            "Episode 274/500 | Ep. Total Reward: 9.0 | Epsilon : 0.161 | Eval Rwd Mean: 9.67 | Eval Rwd Var: 0.22\n",
            "Episode 275/500 | Ep. Total Reward: 10.0 | Epsilon : 0.161 | Eval Rwd Mean: 10.00 | Eval Rwd Var: 0.00\n",
            "Episode 276/500 | Ep. Total Reward: 13.0 | Epsilon : 0.161 | Eval Rwd Mean: 9.33 | Eval Rwd Var: 0.22\n",
            "Episode 277/500 | Ep. Total Reward: 11.0 | Epsilon : 0.161 | Eval Rwd Mean: 9.33 | Eval Rwd Var: 0.22\n",
            "Episode 278/500 | Ep. Total Reward: 8.0 | Epsilon : 0.161 | Eval Rwd Mean: 8.67 | Eval Rwd Var: 0.22\n",
            "Episode 279/500 | Ep. Total Reward: 12.0 | Epsilon : 0.161 | Eval Rwd Mean: 9.00 | Eval Rwd Var: 0.00\n",
            "Episode 280/500 | Ep. Total Reward: 12.0 | Epsilon : 0.161 | Eval Rwd Mean: 9.00 | Eval Rwd Var: 0.00\n",
            "Episode 281/500 | Ep. Total Reward: 10.0 | Epsilon : 0.153 | Eval Rwd Mean: 9.67 | Eval Rwd Var: 0.22\n",
            "Episode 282/500 | Ep. Total Reward: 11.0 | Epsilon : 0.153 | Eval Rwd Mean: 9.67 | Eval Rwd Var: 0.22\n",
            "Episode 283/500 | Ep. Total Reward: 9.0 | Epsilon : 0.153 | Eval Rwd Mean: 9.33 | Eval Rwd Var: 0.22\n",
            "Episode 284/500 | Ep. Total Reward: 11.0 | Epsilon : 0.153 | Eval Rwd Mean: 10.00 | Eval Rwd Var: 0.00\n",
            "Episode 285/500 | Ep. Total Reward: 8.0 | Epsilon : 0.153 | Eval Rwd Mean: 8.67 | Eval Rwd Var: 0.22\n",
            "Episode 286/500 | Ep. Total Reward: 8.0 | Epsilon : 0.153 | Eval Rwd Mean: 9.33 | Eval Rwd Var: 0.22\n",
            "Episode 287/500 | Ep. Total Reward: 10.0 | Epsilon : 0.153 | Eval Rwd Mean: 9.67 | Eval Rwd Var: 0.22\n",
            "Episode 288/500 | Ep. Total Reward: 10.0 | Epsilon : 0.153 | Eval Rwd Mean: 9.33 | Eval Rwd Var: 0.22\n",
            "Episode 289/500 | Ep. Total Reward: 11.0 | Epsilon : 0.153 | Eval Rwd Mean: 9.67 | Eval Rwd Var: 0.22\n",
            "Episode 290/500 | Ep. Total Reward: 10.0 | Epsilon : 0.153 | Eval Rwd Mean: 9.33 | Eval Rwd Var: 0.22\n",
            "Episode 291/500 | Ep. Total Reward: 9.0 | Epsilon : 0.147 | Eval Rwd Mean: 9.33 | Eval Rwd Var: 0.22\n",
            "Episode 292/500 | Ep. Total Reward: 10.0 | Epsilon : 0.147 | Eval Rwd Mean: 9.00 | Eval Rwd Var: 0.67\n",
            "Episode 293/500 | Ep. Total Reward: 9.0 | Epsilon : 0.147 | Eval Rwd Mean: 9.67 | Eval Rwd Var: 0.22\n",
            "Episode 294/500 | Ep. Total Reward: 8.0 | Epsilon : 0.147 | Eval Rwd Mean: 8.67 | Eval Rwd Var: 0.89\n",
            "Episode 295/500 | Ep. Total Reward: 9.0 | Epsilon : 0.147 | Eval Rwd Mean: 9.33 | Eval Rwd Var: 0.22\n",
            "Episode 296/500 | Ep. Total Reward: 9.0 | Epsilon : 0.147 | Eval Rwd Mean: 9.67 | Eval Rwd Var: 0.22\n",
            "Episode 297/500 | Ep. Total Reward: 8.0 | Epsilon : 0.147 | Eval Rwd Mean: 10.00 | Eval Rwd Var: 0.00\n",
            "Episode 298/500 | Ep. Total Reward: 8.0 | Epsilon : 0.147 | Eval Rwd Mean: 9.33 | Eval Rwd Var: 1.56\n",
            "Episode 299/500 | Ep. Total Reward: 9.0 | Epsilon : 0.147 | Eval Rwd Mean: 9.33 | Eval Rwd Var: 0.22\n",
            "Episode 300/500 | Ep. Total Reward: 8.0 | Epsilon : 0.147 | Eval Rwd Mean: 8.67 | Eval Rwd Var: 0.89\n",
            "Episode 301/500 | Ep. Total Reward: 8.0 | Epsilon : 0.141 | Eval Rwd Mean: 9.00 | Eval Rwd Var: 0.67\n",
            "Episode 302/500 | Ep. Total Reward: 11.0 | Epsilon : 0.141 | Eval Rwd Mean: 9.00 | Eval Rwd Var: 0.67\n",
            "Episode 303/500 | Ep. Total Reward: 8.0 | Epsilon : 0.141 | Eval Rwd Mean: 10.67 | Eval Rwd Var: 0.22\n",
            "Episode 304/500 | Ep. Total Reward: 10.0 | Epsilon : 0.141 | Eval Rwd Mean: 9.00 | Eval Rwd Var: 0.00\n",
            "Episode 305/500 | Ep. Total Reward: 11.0 | Epsilon : 0.141 | Eval Rwd Mean: 9.33 | Eval Rwd Var: 0.22\n",
            "Episode 306/500 | Ep. Total Reward: 11.0 | Epsilon : 0.141 | Eval Rwd Mean: 9.67 | Eval Rwd Var: 0.22\n",
            "Episode 307/500 | Ep. Total Reward: 9.0 | Epsilon : 0.141 | Eval Rwd Mean: 10.00 | Eval Rwd Var: 0.00\n",
            "Episode 308/500 | Ep. Total Reward: 10.0 | Epsilon : 0.141 | Eval Rwd Mean: 9.67 | Eval Rwd Var: 0.22\n",
            "Episode 309/500 | Ep. Total Reward: 10.0 | Epsilon : 0.141 | Eval Rwd Mean: 9.67 | Eval Rwd Var: 0.22\n",
            "Episode 310/500 | Ep. Total Reward: 8.0 | Epsilon : 0.141 | Eval Rwd Mean: 9.00 | Eval Rwd Var: 0.67\n",
            "Episode 311/500 | Ep. Total Reward: 8.0 | Epsilon : 0.135 | Eval Rwd Mean: 9.00 | Eval Rwd Var: 0.00\n",
            "Episode 312/500 | Ep. Total Reward: 9.0 | Epsilon : 0.135 | Eval Rwd Mean: 9.33 | Eval Rwd Var: 0.22\n",
            "Episode 313/500 | Ep. Total Reward: 13.0 | Epsilon : 0.135 | Eval Rwd Mean: 8.67 | Eval Rwd Var: 0.22\n",
            "Episode 314/500 | Ep. Total Reward: 9.0 | Epsilon : 0.135 | Eval Rwd Mean: 9.33 | Eval Rwd Var: 0.22\n",
            "Episode 315/500 | Ep. Total Reward: 9.0 | Epsilon : 0.135 | Eval Rwd Mean: 9.67 | Eval Rwd Var: 0.22\n",
            "Episode 316/500 | Ep. Total Reward: 10.0 | Epsilon : 0.135 | Eval Rwd Mean: 9.33 | Eval Rwd Var: 0.22\n",
            "Episode 317/500 | Ep. Total Reward: 12.0 | Epsilon : 0.135 | Eval Rwd Mean: 9.00 | Eval Rwd Var: 0.67\n",
            "Episode 318/500 | Ep. Total Reward: 8.0 | Epsilon : 0.135 | Eval Rwd Mean: 9.67 | Eval Rwd Var: 0.22\n",
            "Episode 319/500 | Ep. Total Reward: 10.0 | Epsilon : 0.135 | Eval Rwd Mean: 9.33 | Eval Rwd Var: 0.22\n",
            "Episode 320/500 | Ep. Total Reward: 10.0 | Epsilon : 0.135 | Eval Rwd Mean: 10.00 | Eval Rwd Var: 0.00\n",
            "Episode 321/500 | Ep. Total Reward: 8.0 | Epsilon : 0.130 | Eval Rwd Mean: 9.00 | Eval Rwd Var: 0.00\n",
            "Episode 322/500 | Ep. Total Reward: 8.0 | Epsilon : 0.130 | Eval Rwd Mean: 8.33 | Eval Rwd Var: 0.22\n",
            "Episode 323/500 | Ep. Total Reward: 10.0 | Epsilon : 0.130 | Eval Rwd Mean: 8.67 | Eval Rwd Var: 0.22\n",
            "Episode 324/500 | Ep. Total Reward: 9.0 | Epsilon : 0.130 | Eval Rwd Mean: 9.33 | Eval Rwd Var: 0.22\n",
            "Episode 325/500 | Ep. Total Reward: 9.0 | Epsilon : 0.130 | Eval Rwd Mean: 8.33 | Eval Rwd Var: 0.22\n",
            "Episode 326/500 | Ep. Total Reward: 11.0 | Epsilon : 0.130 | Eval Rwd Mean: 9.33 | Eval Rwd Var: 0.22\n",
            "Episode 327/500 | Ep. Total Reward: 10.0 | Epsilon : 0.130 | Eval Rwd Mean: 9.33 | Eval Rwd Var: 0.89\n",
            "Episode 328/500 | Ep. Total Reward: 8.0 | Epsilon : 0.130 | Eval Rwd Mean: 9.33 | Eval Rwd Var: 0.89\n",
            "Episode 329/500 | Ep. Total Reward: 8.0 | Epsilon : 0.130 | Eval Rwd Mean: 9.33 | Eval Rwd Var: 0.22\n",
            "Episode 330/500 | Ep. Total Reward: 11.0 | Epsilon : 0.130 | Eval Rwd Mean: 9.33 | Eval Rwd Var: 0.89\n",
            "Episode 331/500 | Ep. Total Reward: 13.0 | Epsilon : 0.122 | Eval Rwd Mean: 8.00 | Eval Rwd Var: 0.00\n",
            "Episode 332/500 | Ep. Total Reward: 10.0 | Epsilon : 0.122 | Eval Rwd Mean: 9.33 | Eval Rwd Var: 0.22\n",
            "Episode 333/500 | Ep. Total Reward: 12.0 | Epsilon : 0.122 | Eval Rwd Mean: 9.67 | Eval Rwd Var: 0.22\n",
            "Episode 334/500 | Ep. Total Reward: 11.0 | Epsilon : 0.122 | Eval Rwd Mean: 9.67 | Eval Rwd Var: 0.22\n",
            "Episode 335/500 | Ep. Total Reward: 9.0 | Epsilon : 0.122 | Eval Rwd Mean: 9.00 | Eval Rwd Var: 0.67\n",
            "Episode 336/500 | Ep. Total Reward: 10.0 | Epsilon : 0.122 | Eval Rwd Mean: 9.67 | Eval Rwd Var: 0.22\n",
            "Episode 337/500 | Ep. Total Reward: 10.0 | Epsilon : 0.122 | Eval Rwd Mean: 9.67 | Eval Rwd Var: 0.22\n",
            "Episode 338/500 | Ep. Total Reward: 8.0 | Epsilon : 0.122 | Eval Rwd Mean: 9.67 | Eval Rwd Var: 0.22\n",
            "Episode 339/500 | Ep. Total Reward: 11.0 | Epsilon : 0.122 | Eval Rwd Mean: 9.33 | Eval Rwd Var: 0.22\n",
            "Episode 340/500 | Ep. Total Reward: 10.0 | Epsilon : 0.122 | Eval Rwd Mean: 9.00 | Eval Rwd Var: 0.67\n",
            "Episode 341/500 | Ep. Total Reward: 11.0 | Epsilon : 0.115 | Eval Rwd Mean: 9.00 | Eval Rwd Var: 0.67\n",
            "Episode 342/500 | Ep. Total Reward: 9.0 | Epsilon : 0.115 | Eval Rwd Mean: 8.67 | Eval Rwd Var: 0.89\n",
            "Episode 343/500 | Ep. Total Reward: 8.0 | Epsilon : 0.115 | Eval Rwd Mean: 9.33 | Eval Rwd Var: 0.22\n",
            "Episode 344/500 | Ep. Total Reward: 9.0 | Epsilon : 0.115 | Eval Rwd Mean: 10.33 | Eval Rwd Var: 0.89\n",
            "Episode 345/500 | Ep. Total Reward: 9.0 | Epsilon : 0.115 | Eval Rwd Mean: 8.67 | Eval Rwd Var: 0.22\n",
            "Episode 346/500 | Ep. Total Reward: 10.0 | Epsilon : 0.115 | Eval Rwd Mean: 9.67 | Eval Rwd Var: 1.56\n",
            "Episode 347/500 | Ep. Total Reward: 10.0 | Epsilon : 0.115 | Eval Rwd Mean: 10.00 | Eval Rwd Var: 0.00\n",
            "Episode 348/500 | Ep. Total Reward: 9.0 | Epsilon : 0.115 | Eval Rwd Mean: 9.33 | Eval Rwd Var: 0.22\n",
            "Episode 349/500 | Ep. Total Reward: 10.0 | Epsilon : 0.115 | Eval Rwd Mean: 9.33 | Eval Rwd Var: 0.22\n",
            "Episode 350/500 | Ep. Total Reward: 10.0 | Epsilon : 0.115 | Eval Rwd Mean: 10.00 | Eval Rwd Var: 0.67\n",
            "Episode 351/500 | Ep. Total Reward: 8.0 | Epsilon : 0.111 | Eval Rwd Mean: 9.33 | Eval Rwd Var: 0.22\n",
            "Episode 352/500 | Ep. Total Reward: 11.0 | Epsilon : 0.111 | Eval Rwd Mean: 9.67 | Eval Rwd Var: 0.22\n",
            "Episode 353/500 | Ep. Total Reward: 11.0 | Epsilon : 0.111 | Eval Rwd Mean: 10.33 | Eval Rwd Var: 0.22\n",
            "Episode 354/500 | Ep. Total Reward: 9.0 | Epsilon : 0.111 | Eval Rwd Mean: 9.00 | Eval Rwd Var: 0.67\n",
            "Episode 355/500 | Ep. Total Reward: 9.0 | Epsilon : 0.111 | Eval Rwd Mean: 8.67 | Eval Rwd Var: 0.22\n",
            "Episode 356/500 | Ep. Total Reward: 10.0 | Epsilon : 0.111 | Eval Rwd Mean: 9.67 | Eval Rwd Var: 0.22\n",
            "Episode 357/500 | Ep. Total Reward: 12.0 | Epsilon : 0.111 | Eval Rwd Mean: 9.67 | Eval Rwd Var: 0.22\n",
            "Episode 358/500 | Ep. Total Reward: 15.0 | Epsilon : 0.111 | Eval Rwd Mean: 10.33 | Eval Rwd Var: 0.22\n",
            "Episode 359/500 | Ep. Total Reward: 10.0 | Epsilon : 0.111 | Eval Rwd Mean: 8.67 | Eval Rwd Var: 0.89\n",
            "Episode 360/500 | Ep. Total Reward: 9.0 | Epsilon : 0.111 | Eval Rwd Mean: 9.33 | Eval Rwd Var: 0.22\n",
            "Episode 361/500 | Ep. Total Reward: 9.0 | Epsilon : 0.106 | Eval Rwd Mean: 9.33 | Eval Rwd Var: 0.89\n",
            "Episode 362/500 | Ep. Total Reward: 9.0 | Epsilon : 0.106 | Eval Rwd Mean: 8.67 | Eval Rwd Var: 0.22\n",
            "Episode 363/500 | Ep. Total Reward: 10.0 | Epsilon : 0.106 | Eval Rwd Mean: 9.00 | Eval Rwd Var: 0.67\n",
            "Episode 364/500 | Ep. Total Reward: 9.0 | Epsilon : 0.106 | Eval Rwd Mean: 9.67 | Eval Rwd Var: 0.22\n",
            "Episode 365/500 | Ep. Total Reward: 9.0 | Epsilon : 0.106 | Eval Rwd Mean: 9.33 | Eval Rwd Var: 0.89\n",
            "Episode 366/500 | Ep. Total Reward: 9.0 | Epsilon : 0.106 | Eval Rwd Mean: 8.67 | Eval Rwd Var: 0.22\n",
            "Episode 367/500 | Ep. Total Reward: 10.0 | Epsilon : 0.106 | Eval Rwd Mean: 9.33 | Eval Rwd Var: 0.22\n",
            "Episode 368/500 | Ep. Total Reward: 9.0 | Epsilon : 0.106 | Eval Rwd Mean: 9.33 | Eval Rwd Var: 0.22\n",
            "Episode 369/500 | Ep. Total Reward: 8.0 | Epsilon : 0.106 | Eval Rwd Mean: 9.00 | Eval Rwd Var: 0.67\n",
            "Episode 370/500 | Ep. Total Reward: 9.0 | Epsilon : 0.106 | Eval Rwd Mean: 9.67 | Eval Rwd Var: 1.56\n",
            "Episode 371/500 | Ep. Total Reward: 10.0 | Epsilon : 0.101 | Eval Rwd Mean: 9.33 | Eval Rwd Var: 0.22\n",
            "Episode 372/500 | Ep. Total Reward: 11.0 | Epsilon : 0.101 | Eval Rwd Mean: 9.00 | Eval Rwd Var: 0.00\n",
            "Episode 373/500 | Ep. Total Reward: 14.0 | Epsilon : 0.101 | Eval Rwd Mean: 9.33 | Eval Rwd Var: 0.89\n",
            "Episode 374/500 | Ep. Total Reward: 10.0 | Epsilon : 0.101 | Eval Rwd Mean: 9.67 | Eval Rwd Var: 0.22\n",
            "Episode 375/500 | Ep. Total Reward: 9.0 | Epsilon : 0.101 | Eval Rwd Mean: 9.00 | Eval Rwd Var: 0.67\n",
            "Episode 376/500 | Ep. Total Reward: 10.0 | Epsilon : 0.101 | Eval Rwd Mean: 10.00 | Eval Rwd Var: 0.67\n",
            "Episode 377/500 | Ep. Total Reward: 10.0 | Epsilon : 0.101 | Eval Rwd Mean: 9.00 | Eval Rwd Var: 0.00\n",
            "Episode 378/500 | Ep. Total Reward: 10.0 | Epsilon : 0.101 | Eval Rwd Mean: 9.33 | Eval Rwd Var: 0.22\n",
            "Episode 379/500 | Ep. Total Reward: 10.0 | Epsilon : 0.101 | Eval Rwd Mean: 9.33 | Eval Rwd Var: 0.89\n",
            "Episode 380/500 | Ep. Total Reward: 9.0 | Epsilon : 0.101 | Eval Rwd Mean: 9.33 | Eval Rwd Var: 0.89\n",
            "Episode 381/500 | Ep. Total Reward: 10.0 | Epsilon : 0.100 | Eval Rwd Mean: 10.00 | Eval Rwd Var: 0.67\n",
            "Episode 382/500 | Ep. Total Reward: 9.0 | Epsilon : 0.100 | Eval Rwd Mean: 9.33 | Eval Rwd Var: 0.22\n",
            "Episode 383/500 | Ep. Total Reward: 9.0 | Epsilon : 0.100 | Eval Rwd Mean: 9.67 | Eval Rwd Var: 0.22\n",
            "Episode 384/500 | Ep. Total Reward: 13.0 | Epsilon : 0.100 | Eval Rwd Mean: 8.67 | Eval Rwd Var: 0.22\n",
            "Episode 385/500 | Ep. Total Reward: 9.0 | Epsilon : 0.100 | Eval Rwd Mean: 10.00 | Eval Rwd Var: 0.67\n",
            "Episode 386/500 | Ep. Total Reward: 9.0 | Epsilon : 0.100 | Eval Rwd Mean: 9.33 | Eval Rwd Var: 0.22\n",
            "Episode 387/500 | Ep. Total Reward: 9.0 | Epsilon : 0.100 | Eval Rwd Mean: 9.33 | Eval Rwd Var: 0.89\n",
            "Episode 388/500 | Ep. Total Reward: 11.0 | Epsilon : 0.100 | Eval Rwd Mean: 9.00 | Eval Rwd Var: 0.67\n",
            "Episode 389/500 | Ep. Total Reward: 9.0 | Epsilon : 0.100 | Eval Rwd Mean: 9.67 | Eval Rwd Var: 0.22\n",
            "Episode 390/500 | Ep. Total Reward: 8.0 | Epsilon : 0.100 | Eval Rwd Mean: 9.67 | Eval Rwd Var: 0.22\n",
            "Episode 391/500 | Ep. Total Reward: 9.0 | Epsilon : 0.100 | Eval Rwd Mean: 9.67 | Eval Rwd Var: 1.56\n",
            "Episode 392/500 | Ep. Total Reward: 9.0 | Epsilon : 0.100 | Eval Rwd Mean: 9.00 | Eval Rwd Var: 0.67\n",
            "Episode 393/500 | Ep. Total Reward: 8.0 | Epsilon : 0.100 | Eval Rwd Mean: 9.33 | Eval Rwd Var: 0.22\n",
            "Episode 394/500 | Ep. Total Reward: 10.0 | Epsilon : 0.100 | Eval Rwd Mean: 10.00 | Eval Rwd Var: 0.00\n",
            "Episode 395/500 | Ep. Total Reward: 8.0 | Epsilon : 0.100 | Eval Rwd Mean: 9.00 | Eval Rwd Var: 0.00\n",
            "Episode 396/500 | Ep. Total Reward: 9.0 | Epsilon : 0.100 | Eval Rwd Mean: 10.00 | Eval Rwd Var: 0.67\n",
            "Episode 397/500 | Ep. Total Reward: 11.0 | Epsilon : 0.100 | Eval Rwd Mean: 9.67 | Eval Rwd Var: 0.22\n",
            "Episode 398/500 | Ep. Total Reward: 11.0 | Epsilon : 0.100 | Eval Rwd Mean: 9.67 | Eval Rwd Var: 0.22\n",
            "Episode 399/500 | Ep. Total Reward: 9.0 | Epsilon : 0.100 | Eval Rwd Mean: 9.33 | Eval Rwd Var: 0.22\n",
            "Episode 400/500 | Ep. Total Reward: 9.0 | Epsilon : 0.100 | Eval Rwd Mean: 9.33 | Eval Rwd Var: 0.89\n",
            "Episode 401/500 | Ep. Total Reward: 9.0 | Epsilon : 0.100 | Eval Rwd Mean: 9.00 | Eval Rwd Var: 0.67\n",
            "Episode 402/500 | Ep. Total Reward: 9.0 | Epsilon : 0.100 | Eval Rwd Mean: 9.33 | Eval Rwd Var: 0.89\n",
            "Episode 403/500 | Ep. Total Reward: 10.0 | Epsilon : 0.100 | Eval Rwd Mean: 9.33 | Eval Rwd Var: 0.89\n",
            "Episode 404/500 | Ep. Total Reward: 13.0 | Epsilon : 0.100 | Eval Rwd Mean: 9.67 | Eval Rwd Var: 0.22\n",
            "Episode 405/500 | Ep. Total Reward: 8.0 | Epsilon : 0.100 | Eval Rwd Mean: 9.33 | Eval Rwd Var: 0.22\n",
            "Episode 406/500 | Ep. Total Reward: 12.0 | Epsilon : 0.100 | Eval Rwd Mean: 9.33 | Eval Rwd Var: 0.22\n",
            "Episode 407/500 | Ep. Total Reward: 10.0 | Epsilon : 0.100 | Eval Rwd Mean: 10.33 | Eval Rwd Var: 0.22\n",
            "Episode 408/500 | Ep. Total Reward: 11.0 | Epsilon : 0.100 | Eval Rwd Mean: 10.00 | Eval Rwd Var: 0.67\n",
            "Episode 409/500 | Ep. Total Reward: 10.0 | Epsilon : 0.100 | Eval Rwd Mean: 9.67 | Eval Rwd Var: 0.22\n",
            "Episode 410/500 | Ep. Total Reward: 9.0 | Epsilon : 0.100 | Eval Rwd Mean: 9.67 | Eval Rwd Var: 0.22\n",
            "Episode 411/500 | Ep. Total Reward: 10.0 | Epsilon : 0.100 | Eval Rwd Mean: 10.67 | Eval Rwd Var: 0.22\n",
            "Episode 412/500 | Ep. Total Reward: 10.0 | Epsilon : 0.100 | Eval Rwd Mean: 9.67 | Eval Rwd Var: 0.22\n",
            "Episode 413/500 | Ep. Total Reward: 8.0 | Epsilon : 0.100 | Eval Rwd Mean: 9.33 | Eval Rwd Var: 0.22\n",
            "Episode 414/500 | Ep. Total Reward: 9.0 | Epsilon : 0.100 | Eval Rwd Mean: 9.00 | Eval Rwd Var: 0.67\n",
            "Episode 415/500 | Ep. Total Reward: 10.0 | Epsilon : 0.100 | Eval Rwd Mean: 9.67 | Eval Rwd Var: 0.22\n",
            "Episode 416/500 | Ep. Total Reward: 9.0 | Epsilon : 0.100 | Eval Rwd Mean: 10.00 | Eval Rwd Var: 0.00\n",
            "Episode 417/500 | Ep. Total Reward: 9.0 | Epsilon : 0.100 | Eval Rwd Mean: 10.00 | Eval Rwd Var: 0.67\n",
            "Episode 418/500 | Ep. Total Reward: 10.0 | Epsilon : 0.100 | Eval Rwd Mean: 8.33 | Eval Rwd Var: 0.22\n",
            "Episode 419/500 | Ep. Total Reward: 11.0 | Epsilon : 0.100 | Eval Rwd Mean: 9.33 | Eval Rwd Var: 0.22\n",
            "Episode 420/500 | Ep. Total Reward: 10.0 | Epsilon : 0.100 | Eval Rwd Mean: 8.67 | Eval Rwd Var: 0.22\n",
            "Episode 421/500 | Ep. Total Reward: 11.0 | Epsilon : 0.100 | Eval Rwd Mean: 10.00 | Eval Rwd Var: 0.00\n",
            "Episode 422/500 | Ep. Total Reward: 8.0 | Epsilon : 0.100 | Eval Rwd Mean: 9.33 | Eval Rwd Var: 0.89\n",
            "Episode 423/500 | Ep. Total Reward: 10.0 | Epsilon : 0.100 | Eval Rwd Mean: 10.00 | Eval Rwd Var: 0.00\n",
            "Episode 424/500 | Ep. Total Reward: 12.0 | Epsilon : 0.100 | Eval Rwd Mean: 9.67 | Eval Rwd Var: 0.22\n",
            "Episode 425/500 | Ep. Total Reward: 8.0 | Epsilon : 0.100 | Eval Rwd Mean: 10.00 | Eval Rwd Var: 0.67\n",
            "Episode 426/500 | Ep. Total Reward: 11.0 | Epsilon : 0.100 | Eval Rwd Mean: 9.67 | Eval Rwd Var: 0.22\n",
            "Episode 427/500 | Ep. Total Reward: 8.0 | Epsilon : 0.100 | Eval Rwd Mean: 9.33 | Eval Rwd Var: 0.22\n",
            "Episode 428/500 | Ep. Total Reward: 11.0 | Epsilon : 0.100 | Eval Rwd Mean: 9.67 | Eval Rwd Var: 0.89\n",
            "Episode 429/500 | Ep. Total Reward: 9.0 | Epsilon : 0.100 | Eval Rwd Mean: 9.67 | Eval Rwd Var: 0.89\n",
            "Episode 430/500 | Ep. Total Reward: 8.0 | Epsilon : 0.100 | Eval Rwd Mean: 9.67 | Eval Rwd Var: 0.22\n",
            "Episode 431/500 | Ep. Total Reward: 8.0 | Epsilon : 0.100 | Eval Rwd Mean: 10.00 | Eval Rwd Var: 0.67\n",
            "Episode 432/500 | Ep. Total Reward: 10.0 | Epsilon : 0.100 | Eval Rwd Mean: 9.67 | Eval Rwd Var: 0.22\n",
            "Episode 433/500 | Ep. Total Reward: 10.0 | Epsilon : 0.100 | Eval Rwd Mean: 10.00 | Eval Rwd Var: 0.00\n",
            "Episode 434/500 | Ep. Total Reward: 9.0 | Epsilon : 0.100 | Eval Rwd Mean: 9.33 | Eval Rwd Var: 0.89\n",
            "Episode 435/500 | Ep. Total Reward: 10.0 | Epsilon : 0.100 | Eval Rwd Mean: 9.00 | Eval Rwd Var: 0.67\n",
            "Episode 436/500 | Ep. Total Reward: 9.0 | Epsilon : 0.100 | Eval Rwd Mean: 9.33 | Eval Rwd Var: 0.89\n",
            "Episode 437/500 | Ep. Total Reward: 8.0 | Epsilon : 0.100 | Eval Rwd Mean: 9.67 | Eval Rwd Var: 0.22\n",
            "Episode 438/500 | Ep. Total Reward: 10.0 | Epsilon : 0.100 | Eval Rwd Mean: 9.67 | Eval Rwd Var: 1.56\n",
            "Episode 439/500 | Ep. Total Reward: 9.0 | Epsilon : 0.100 | Eval Rwd Mean: 10.00 | Eval Rwd Var: 0.67\n",
            "Episode 440/500 | Ep. Total Reward: 9.0 | Epsilon : 0.100 | Eval Rwd Mean: 9.00 | Eval Rwd Var: 0.67\n",
            "Episode 441/500 | Ep. Total Reward: 10.0 | Epsilon : 0.100 | Eval Rwd Mean: 9.00 | Eval Rwd Var: 0.00\n",
            "Episode 442/500 | Ep. Total Reward: 10.0 | Epsilon : 0.100 | Eval Rwd Mean: 9.00 | Eval Rwd Var: 0.67\n",
            "Episode 443/500 | Ep. Total Reward: 12.0 | Epsilon : 0.100 | Eval Rwd Mean: 9.33 | Eval Rwd Var: 1.56\n",
            "Episode 444/500 | Ep. Total Reward: 9.0 | Epsilon : 0.100 | Eval Rwd Mean: 9.00 | Eval Rwd Var: 0.67\n",
            "Episode 445/500 | Ep. Total Reward: 11.0 | Epsilon : 0.100 | Eval Rwd Mean: 9.33 | Eval Rwd Var: 0.22\n",
            "Episode 446/500 | Ep. Total Reward: 10.0 | Epsilon : 0.100 | Eval Rwd Mean: 9.67 | Eval Rwd Var: 0.22\n",
            "Episode 447/500 | Ep. Total Reward: 9.0 | Epsilon : 0.100 | Eval Rwd Mean: 10.00 | Eval Rwd Var: 0.67\n",
            "Episode 448/500 | Ep. Total Reward: 9.0 | Epsilon : 0.100 | Eval Rwd Mean: 10.00 | Eval Rwd Var: 0.00\n",
            "Episode 449/500 | Ep. Total Reward: 12.0 | Epsilon : 0.100 | Eval Rwd Mean: 9.00 | Eval Rwd Var: 0.67\n",
            "Episode 450/500 | Ep. Total Reward: 8.0 | Epsilon : 0.100 | Eval Rwd Mean: 9.00 | Eval Rwd Var: 0.00\n",
            "Episode 451/500 | Ep. Total Reward: 9.0 | Epsilon : 0.100 | Eval Rwd Mean: 9.33 | Eval Rwd Var: 0.22\n",
            "Episode 452/500 | Ep. Total Reward: 12.0 | Epsilon : 0.100 | Eval Rwd Mean: 9.67 | Eval Rwd Var: 0.22\n",
            "Episode 453/500 | Ep. Total Reward: 11.0 | Epsilon : 0.100 | Eval Rwd Mean: 10.00 | Eval Rwd Var: 0.00\n",
            "Episode 454/500 | Ep. Total Reward: 10.0 | Epsilon : 0.100 | Eval Rwd Mean: 8.67 | Eval Rwd Var: 0.22\n",
            "Episode 455/500 | Ep. Total Reward: 10.0 | Epsilon : 0.100 | Eval Rwd Mean: 8.33 | Eval Rwd Var: 0.22\n",
            "Episode 456/500 | Ep. Total Reward: 10.0 | Epsilon : 0.100 | Eval Rwd Mean: 9.33 | Eval Rwd Var: 0.22\n",
            "Episode 457/500 | Ep. Total Reward: 8.0 | Epsilon : 0.100 | Eval Rwd Mean: 9.33 | Eval Rwd Var: 0.22\n",
            "Episode 458/500 | Ep. Total Reward: 9.0 | Epsilon : 0.100 | Eval Rwd Mean: 9.33 | Eval Rwd Var: 0.22\n",
            "Episode 459/500 | Ep. Total Reward: 11.0 | Epsilon : 0.100 | Eval Rwd Mean: 9.67 | Eval Rwd Var: 0.22\n",
            "Episode 460/500 | Ep. Total Reward: 10.0 | Epsilon : 0.100 | Eval Rwd Mean: 9.33 | Eval Rwd Var: 0.89\n",
            "Episode 461/500 | Ep. Total Reward: 10.0 | Epsilon : 0.100 | Eval Rwd Mean: 10.00 | Eval Rwd Var: 0.00\n",
            "Episode 462/500 | Ep. Total Reward: 10.0 | Epsilon : 0.100 | Eval Rwd Mean: 10.00 | Eval Rwd Var: 0.67\n",
            "Episode 463/500 | Ep. Total Reward: 9.0 | Epsilon : 0.100 | Eval Rwd Mean: 10.67 | Eval Rwd Var: 0.22\n",
            "Episode 464/500 | Ep. Total Reward: 8.0 | Epsilon : 0.100 | Eval Rwd Mean: 9.33 | Eval Rwd Var: 0.22\n",
            "Episode 465/500 | Ep. Total Reward: 10.0 | Epsilon : 0.100 | Eval Rwd Mean: 9.33 | Eval Rwd Var: 0.89\n",
            "Episode 466/500 | Ep. Total Reward: 17.0 | Epsilon : 0.100 | Eval Rwd Mean: 9.33 | Eval Rwd Var: 0.22\n",
            "Episode 467/500 | Ep. Total Reward: 9.0 | Epsilon : 0.100 | Eval Rwd Mean: 10.00 | Eval Rwd Var: 0.00\n",
            "Episode 468/500 | Ep. Total Reward: 10.0 | Epsilon : 0.100 | Eval Rwd Mean: 9.67 | Eval Rwd Var: 0.22\n",
            "Episode 469/500 | Ep. Total Reward: 9.0 | Epsilon : 0.100 | Eval Rwd Mean: 9.33 | Eval Rwd Var: 0.22\n",
            "Episode 470/500 | Ep. Total Reward: 11.0 | Epsilon : 0.100 | Eval Rwd Mean: 9.67 | Eval Rwd Var: 0.22\n",
            "Episode 471/500 | Ep. Total Reward: 10.0 | Epsilon : 0.100 | Eval Rwd Mean: 9.67 | Eval Rwd Var: 0.22\n",
            "Episode 472/500 | Ep. Total Reward: 10.0 | Epsilon : 0.100 | Eval Rwd Mean: 9.00 | Eval Rwd Var: 0.67\n",
            "Episode 473/500 | Ep. Total Reward: 9.0 | Epsilon : 0.100 | Eval Rwd Mean: 9.33 | Eval Rwd Var: 0.22\n",
            "Episode 474/500 | Ep. Total Reward: 10.0 | Epsilon : 0.100 | Eval Rwd Mean: 9.33 | Eval Rwd Var: 0.22\n",
            "Episode 475/500 | Ep. Total Reward: 10.0 | Epsilon : 0.100 | Eval Rwd Mean: 9.33 | Eval Rwd Var: 0.22\n",
            "Episode 476/500 | Ep. Total Reward: 12.0 | Epsilon : 0.100 | Eval Rwd Mean: 9.67 | Eval Rwd Var: 0.22\n",
            "Episode 477/500 | Ep. Total Reward: 10.0 | Epsilon : 0.100 | Eval Rwd Mean: 9.00 | Eval Rwd Var: 0.00\n",
            "Episode 478/500 | Ep. Total Reward: 11.0 | Epsilon : 0.100 | Eval Rwd Mean: 10.00 | Eval Rwd Var: 0.00\n",
            "Episode 479/500 | Ep. Total Reward: 9.0 | Epsilon : 0.100 | Eval Rwd Mean: 9.00 | Eval Rwd Var: 0.67\n",
            "Episode 480/500 | Ep. Total Reward: 13.0 | Epsilon : 0.100 | Eval Rwd Mean: 9.00 | Eval Rwd Var: 0.67\n",
            "Episode 481/500 | Ep. Total Reward: 9.0 | Epsilon : 0.100 | Eval Rwd Mean: 10.00 | Eval Rwd Var: 0.67\n",
            "Episode 482/500 | Ep. Total Reward: 8.0 | Epsilon : 0.100 | Eval Rwd Mean: 9.67 | Eval Rwd Var: 0.89\n",
            "Episode 483/500 | Ep. Total Reward: 10.0 | Epsilon : 0.100 | Eval Rwd Mean: 9.67 | Eval Rwd Var: 0.22\n",
            "Episode 484/500 | Ep. Total Reward: 14.0 | Epsilon : 0.100 | Eval Rwd Mean: 9.67 | Eval Rwd Var: 0.22\n",
            "Episode 485/500 | Ep. Total Reward: 8.0 | Epsilon : 0.100 | Eval Rwd Mean: 9.33 | Eval Rwd Var: 0.89\n",
            "Episode 486/500 | Ep. Total Reward: 9.0 | Epsilon : 0.100 | Eval Rwd Mean: 9.00 | Eval Rwd Var: 0.00\n",
            "Episode 487/500 | Ep. Total Reward: 10.0 | Epsilon : 0.100 | Eval Rwd Mean: 8.67 | Eval Rwd Var: 0.22\n",
            "Episode 488/500 | Ep. Total Reward: 10.0 | Epsilon : 0.100 | Eval Rwd Mean: 9.33 | Eval Rwd Var: 0.89\n",
            "Episode 489/500 | Ep. Total Reward: 10.0 | Epsilon : 0.100 | Eval Rwd Mean: 9.33 | Eval Rwd Var: 0.22\n",
            "Episode 490/500 | Ep. Total Reward: 9.0 | Epsilon : 0.100 | Eval Rwd Mean: 9.00 | Eval Rwd Var: 0.67\n",
            "Episode 491/500 | Ep. Total Reward: 8.0 | Epsilon : 0.100 | Eval Rwd Mean: 9.67 | Eval Rwd Var: 0.22\n",
            "Episode 492/500 | Ep. Total Reward: 10.0 | Epsilon : 0.100 | Eval Rwd Mean: 9.67 | Eval Rwd Var: 0.22\n",
            "Episode 493/500 | Ep. Total Reward: 11.0 | Epsilon : 0.100 | Eval Rwd Mean: 9.33 | Eval Rwd Var: 0.22\n",
            "Episode 494/500 | Ep. Total Reward: 11.0 | Epsilon : 0.100 | Eval Rwd Mean: 9.33 | Eval Rwd Var: 0.22\n",
            "Episode 495/500 | Ep. Total Reward: 9.0 | Epsilon : 0.100 | Eval Rwd Mean: 10.33 | Eval Rwd Var: 0.22\n",
            "Episode 496/500 | Ep. Total Reward: 8.0 | Epsilon : 0.100 | Eval Rwd Mean: 9.67 | Eval Rwd Var: 0.22\n",
            "Episode 497/500 | Ep. Total Reward: 10.0 | Epsilon : 0.100 | Eval Rwd Mean: 9.67 | Eval Rwd Var: 0.22\n",
            "Episode 498/500 | Ep. Total Reward: 11.0 | Epsilon : 0.100 | Eval Rwd Mean: 9.67 | Eval Rwd Var: 0.22\n",
            "Episode 499/500 | Ep. Total Reward: 12.0 | Epsilon : 0.100 | Eval Rwd Mean: 9.00 | Eval Rwd Var: 0.00\n",
            "Episode 500/500 | Ep. Total Reward: 9.0 | Epsilon : 0.100 | Eval Rwd Mean: 9.67 | Eval Rwd Var: 0.22\n",
            "Training time: 1.6981 seconds per episode\n"
          ]
        }
      ],
      "source": [
        "# For logging\n",
        "alt_train_reward_lst = []\n",
        "alt_eval_reward_mean_lst = []\n",
        "alt_eval_reward_var_lst = []\n",
        "\n",
        "\n",
        "# Set up environment\n",
        "env = gym.make(\"CartPole-v1\")\n",
        "state_size = env.observation_space.shape[0] # Number of observations (CartPole)\n",
        "action_size = env.action_space.n            # Number of possible actions\n",
        "\n",
        "model_dir = \"q_net_baseline_alt\"  # TensorBoard log directory\n",
        "cb = keras.callbacks.TensorBoard(log_dir = get_run_logdir(model_dir), histogram_freq=1)\n",
        "\n",
        "# For timing training\n",
        "total_training_time = 0\n",
        "\n",
        "for ep in range(episode):\n",
        "    state, _ = env.reset()\n",
        "    state = np.reshape(state, [1, state_size])\n",
        "    total_reward = 0\n",
        "\n",
        "    # record start time\n",
        "    start = time.time()\n",
        "\n",
        "    for _ in range(500):\n",
        "        # Interact with the environment with epsilon-greedy policy\n",
        "        if np.random.rand() <= epsilon:\n",
        "            action = np.random.choice(action_size)\n",
        "        else:\n",
        "            q_values = alt_model.predict(state, verbose=0)\n",
        "            action = np.argmax(q_values)\n",
        "\n",
        "        next_state, reward, terminated, truncated, _ = env.step(action)\n",
        "        next_state = np.reshape(next_state, [1, state_size])\n",
        "\n",
        "        done = terminated or truncated\n",
        "\n",
        "        # Train model using Q-Learning update:  Q(s, a) = r + gamma * max Q(s', a')\n",
        "        # [WriteCode]\n",
        "        q_base = alt_model.predict(state, verbose=0)\n",
        "        q_1_base = alt_model.predict(next_state, verbose=0)\n",
        "        if done:\n",
        "          q_target = reward\n",
        "        else:\n",
        "          q_target = reward + gamma * np.max(q_1_base)\n",
        "\n",
        "        q_feed = q_base.copy()\n",
        "        q_feed[0][action] = q_feed[0][action] + lr * (q_target - q_feed[0][action])\n",
        "        alt_model.fit(state, q_feed, epochs=epoch, verbose=0, batch_size=ba)\n",
        "        # Hints:\n",
        "\n",
        "        # 1. Compute target Q-values:\n",
        "        # - If done, Q-target = reward (no future reward)\n",
        "        # - Otherwise, Q-target = reward + gamma * max(Q(next_state, a))\n",
        "\n",
        "        # 2. Predict current Q-values for state\n",
        "        # Update only the Q-value for the taken action\n",
        "\n",
        "        # new_q_val = current_q_val + lr * (q_target - current_q_val)\n",
        "        # print(new_q_val)\n",
        "        # 3. Fit the model:\n",
        "        # - Inputs: state\n",
        "        # - Targets: updated Q-values (with action Q-value replaced by computed target)\n",
        "        # model.fit(state, new_q_val, epochs=epoch, verbose=0, batch_size=ba)\n",
        "\n",
        "\n",
        "        # Update exploration rate\n",
        "        if epsilon > epsilon_min and ep % 10 == 0:\n",
        "            epsilon *= epsilon_decay\n",
        "\n",
        "        state = next_state\n",
        "        total_reward += reward\n",
        "\n",
        "        if done:\n",
        "            break\n",
        "\n",
        "    # record end time and log training time\n",
        "    end = time.time()\n",
        "    total_training_time += end - start\n",
        "\n",
        "    # Evaluation\n",
        "    # [WriteCode]\n",
        "    eval_reward_mean, eval_reward_var = evaluation(alt_model)\n",
        "\n",
        "    print(f\"Episode {ep + 1}/{episode} | Ep. Total Reward: {total_reward}\"\n",
        "        f\" | Epsilon : {epsilon:.3f}\"\n",
        "        f\" | Eval Rwd Mean: {eval_reward_mean:.2f}\"\n",
        "        f\" | Eval Rwd Var: {eval_reward_var:.2f}\")\n",
        "\n",
        "    # Log\n",
        "    alt_eval_reward_mean_lst.append(eval_reward_mean)\n",
        "    alt_eval_reward_var_lst.append(eval_reward_var)\n",
        "    alt_train_reward_lst.append(total_reward)\n",
        "\n",
        "    # Early Stopping Condition to avoid overfitting\n",
        "    # If the evaluation reward reaches the specified threshold, stop training early.\n",
        "    # The default threshold is set to 500, but you should adjust this based on observed training performance.\n",
        "    if eval_reward_mean >= 450 and eval_reward_var <= 50 ** 2: # [Modify this threshold as needed]\n",
        "        print(f\"Early stopping triggered at Episode {ep + 1}.\")\n",
        "        break\n",
        "\n",
        "# evaluate average training time per episode\n",
        "print(f\"Training time: {total_training_time/(ep + 1):.4f} seconds per episode\")\n",
        "\n",
        "env.close()\n"
      ]
    },
    {
      "cell_type": "code",
      "execution_count": 15,
      "metadata": {
        "colab": {
          "base_uri": "https://localhost:8080/",
          "height": 1000
        },
        "id": "wXCrGTHydncm",
        "outputId": "c75fb6aa-f8ff-4840-9199-e5372f2fb18c"
      },
      "outputs": [
        {
          "data": {
            "image/png": "[encoded data removed]",
            "text/plain": [
              "<Figure size 640x480 with 1 Axes>"
            ]
          },
          "metadata": {},
          "output_type": "display_data"
        },
        {
          "data": {
            "image/png": "[encoded data removed]",
            "text/plain": [
              "<Figure size 640x480 with 1 Axes>"
            ]
          },
          "metadata": {},
          "output_type": "display_data"
        },
        {
          "data": {
            "image/png": "[encoded data removed]",
            "text/plain": [
              "<Figure size 640x480 with 1 Axes>"
            ]
          },
          "metadata": {},
          "output_type": "display_data"
        }
      ],
      "source": [
        "# Write code to plot\n",
        "# 1) Moving Averaged Training Reward, 2) Evaluation Mean, 3) Evaluation Variance\n",
        "# [Write Code]\n",
        "\n",
        "plot_smoothed_training_rwd(alt_eval_reward_mean_lst)\n",
        "\n",
        "plot_eval_rwd_mean(alt_eval_reward_mean_lst)\n",
        "\n",
        "plot_eval_rwd_var(alt_eval_reward_var_lst)"
      ]
    },
    {
      "cell_type": "markdown",
      "metadata": {
        "id": "Lg9kBHn2slYF"
      },
      "source": [
        "## Comparison\n",
        "\n",
        "Compare performance of the Baseline and the Alternative Naive Q-Network Policies"
      ]
    },
    {
      "cell_type": "code",
      "execution_count": 17,
      "metadata": {
        "id": "E6DiE3YRsm2k"
      },
      "outputs": [],
      "source": [
        "# [Write Code]\n",
        "model.save(\"good_model.keras\")\n",
        "alt_model.save(\"alt_model.keras\")"
      ]
    },
    {
      "cell_type": "code",
      "execution_count": 20,
      "metadata": {},
      "outputs": [
        {
          "data": {
            "text/plain": [
              "[<tf.Variable 'dense/kernel:0' shape=(4, 32) dtype=float32, numpy=\n",
              " array([[-0.16681175,  0.07137442,  0.4839991 , -0.2826891 , -0.27168503,\n",
              "          0.13418552,  0.40758777, -0.08381837, -0.41267926, -0.47297513,\n",
              "          0.44887927, -0.02184136,  0.14025533,  0.13497587,  0.3073845 ,\n",
              "          0.05439847,  0.12698038, -0.26846087, -0.19128287, -0.30881914,\n",
              "         -0.2407334 ,  0.11544611, -0.07661065, -0.22469258,  0.4077571 ,\n",
              "         -0.04894356, -0.19157957,  0.4996568 , -0.19755214,  0.00104952,\n",
              "         -0.02240673,  0.1482231 ],\n",
              "        [ 0.3292006 ,  0.4696239 ,  0.2396815 ,  0.41976872,  0.15625326,\n",
              "          0.52901345,  0.44718847, -0.46462408, -0.21365541,  0.3646924 ,\n",
              "          0.65239304,  0.43962342,  0.2059623 ,  0.41429448,  0.74112386,\n",
              "         -0.87885404,  0.48223272, -0.41741517,  0.00706293, -0.24793173,\n",
              "         -0.29293036,  0.08619778,  0.12490623,  0.33677337, -0.02410677,\n",
              "         -0.03238977, -0.31582722,  0.5278075 , -0.20735292,  0.38920206,\n",
              "         -0.10452458,  0.03231192],\n",
              "        [-0.34543926,  0.08522594,  0.2635716 ,  0.5506453 , -0.09191489,\n",
              "         -0.11123916,  0.49850586,  0.4573962 , -0.3869149 , -0.22445571,\n",
              "          0.25644913, -0.3698344 , -0.1654079 ,  0.34471706,  0.4203234 ,\n",
              "         -0.7130168 ,  0.24584602, -0.36330807, -0.48731256,  0.51187676,\n",
              "         -0.16797441,  0.17452309, -0.2772514 ,  0.20109782, -0.47160962,\n",
              "         -0.15146525,  0.40709555, -0.10577108, -0.5462253 ,  0.09454751,\n",
              "          0.5091503 , -0.10480523],\n",
              "        [-0.71820045,  0.7090842 ,  0.17946082,  0.19859912, -0.49115774,\n",
              "         -0.28616622,  0.26392528, -0.37875223,  0.04260027,  0.26723778,\n",
              "          0.7364682 ,  0.24618328, -0.40143928,  0.27096522,  0.25496817,\n",
              "         -0.62393606,  0.28927273,  0.2842756 , -0.07506065, -0.16689177,\n",
              "         -0.7786686 ,  0.34127524,  0.27051663,  0.37143382, -0.36843783,\n",
              "          0.14634281, -0.10268746,  0.19502912, -0.8677353 ,  0.41487768,\n",
              "          0.3399994 ,  0.34741187]], dtype=float32)>,\n",
              " <tf.Variable 'dense/bias:0' shape=(32,) dtype=float32, numpy=\n",
              " array([ 0.04507092,  0.03658662, -0.11491746, -0.54487455,  0.03782354,\n",
              "        -0.36265367,  0.03347905, -0.2647551 , -0.28917906,  0.19617535,\n",
              "         0.04039063, -0.08777639, -0.33172986,  0.31369495,  0.28665468,\n",
              "         0.34095553, -0.19073193,  0.66364145, -0.2843365 , -0.01637665,\n",
              "         0.32946947,  0.19064215,  0.31441104, -0.03764043, -0.18844703,\n",
              "         0.28718314, -0.0733882 , -0.01534499, -0.09755703,  0.3301908 ,\n",
              "         0.5306601 ,  0.07171201], dtype=float32)>,\n",
              " <tf.Variable 'dense_1/kernel:0' shape=(32, 32) dtype=float32, numpy=\n",
              " array([[-2.035805  ,  0.23467806,  1.6427802 , ...,  0.6092363 ,\n",
              "         -1.205415  ,  3.327561  ],\n",
              "        [ 4.8305984 ,  3.0560832 , -1.7279844 , ...,  3.5562322 ,\n",
              "         -3.4427946 ,  5.213189  ],\n",
              "        [-0.00629386, -3.4514356 ,  1.3194923 , ...,  1.6214266 ,\n",
              "          0.9935604 ,  0.6614006 ],\n",
              "        ...,\n",
              "        [-3.5028465 ,  2.7770019 , -2.5381308 , ...,  1.905676  ,\n",
              "         -2.938819  , -1.0265441 ],\n",
              "        [ 3.6778061 ,  2.5011392 , -0.8043903 , ..., -0.42580432,\n",
              "          2.4200175 , -2.9391522 ],\n",
              "        [ 2.6970057 ,  2.5741277 ,  3.9928718 , ...,  1.0427227 ,\n",
              "         -1.434323  , -4.259904  ]], dtype=float32)>,\n",
              " <tf.Variable 'dense_1/bias:0' shape=(32,) dtype=float32, numpy=\n",
              " array([ 0.93025583,  0.8082223 , -1.1563647 , -1.242615  ,  0.53241247,\n",
              "         0.7673658 ,  0.53782654,  0.32759982, -0.5956187 , -0.10752903,\n",
              "         0.03776442, -1.249672  ,  1.0232385 ,  0.38459256,  0.71003413,\n",
              "         0.5932263 ,  0.99866414, -1.4102015 , -0.650751  ,  0.44795206,\n",
              "         0.07631928, -0.62052673,  0.744521  , -1.0250884 ,  1.1371533 ,\n",
              "         0.73715955, -0.8414427 , -0.7000391 ,  0.7962641 , -0.5492242 ,\n",
              "         0.88592815, -0.6585481 ], dtype=float32)>,\n",
              " <tf.Variable 'dense_2/kernel:0' shape=(32, 2) dtype=float32, numpy=\n",
              " array([[ 0.52751124,  1.1271629 ],\n",
              "        [ 1.6800303 ,  1.2152007 ],\n",
              "        [-1.2449148 , -1.1155324 ],\n",
              "        [-1.2771434 , -1.3356177 ],\n",
              "        [ 1.195062  ,  0.8851415 ],\n",
              "        [ 1.4147167 ,  1.432224  ],\n",
              "        [ 1.4458499 ,  1.3951964 ],\n",
              "        [ 1.1788962 ,  1.3223634 ],\n",
              "        [-1.4490244 , -1.2259294 ],\n",
              "        [-0.9825232 ,  0.6895432 ],\n",
              "        [-0.6751074 , -1.0556126 ],\n",
              "        [-1.2614169 , -1.2185546 ],\n",
              "        [ 1.1213689 ,  1.3904618 ],\n",
              "        [ 0.98648906,  1.3221405 ],\n",
              "        [ 1.0303355 ,  1.2161367 ],\n",
              "        [ 1.5198356 ,  1.502424  ],\n",
              "        [ 1.4269087 ,  1.5023143 ],\n",
              "        [-1.2420409 , -1.1663026 ],\n",
              "        [-0.7066145 , -1.110893  ],\n",
              "        [ 1.173499  ,  1.2585071 ],\n",
              "        [ 0.7517922 ,  1.352545  ],\n",
              "        [-1.1152833 , -1.3687974 ],\n",
              "        [ 1.1758093 ,  1.304494  ],\n",
              "        [-1.4552538 , -1.2046036 ],\n",
              "        [ 1.1827526 ,  1.0926633 ],\n",
              "        [ 1.2011749 ,  1.8792394 ],\n",
              "        [-1.2670368 , -0.98603517],\n",
              "        [-0.96090704, -1.4091505 ],\n",
              "        [ 1.4869871 ,  1.4471618 ],\n",
              "        [-1.2466365 , -0.84239715],\n",
              "        [ 0.8848295 ,  0.58552116],\n",
              "        [-1.5859206 , -1.1257396 ]], dtype=float32)>,\n",
              " <tf.Variable 'dense_2/bias:0' shape=(2,) dtype=float32, numpy=array([1.3534   , 1.3187377], dtype=float32)>]"
            ]
          },
          "execution_count": 20,
          "metadata": {},
          "output_type": "execute_result"
        }
      ],
      "source": [
        "model.weights"
      ]
    },
    {
      "cell_type": "code",
      "execution_count": 19,
      "metadata": {},
      "outputs": [
        {
          "data": {
            "text/plain": [
              "[<tf.Variable 'dense_6/kernel:0' shape=(4, 32) dtype=float32, numpy=\n",
              " array([[-2.12746292e-01, -8.48552138e-02,  1.52834639e-01,\n",
              "         -4.19687033e-01, -4.09464449e-01,  2.17197523e-01,\n",
              "          3.65041554e-01, -4.08954173e-01, -4.85114694e-01,\n",
              "         -5.38584113e-01,  3.07885587e-01, -1.73068896e-01,\n",
              "         -1.74241841e-01, -1.17746018e-01,  8.58382881e-02,\n",
              "          3.45526844e-01,  1.68284088e-01, -4.10576612e-01,\n",
              "         -9.86603871e-02, -2.50820190e-01, -3.30454499e-01,\n",
              "          9.79937166e-02, -1.13658078e-01,  1.29176797e-02,\n",
              "         -3.54926125e-03, -5.69676282e-03, -2.34138235e-01,\n",
              "          1.13889620e-01, -2.85596937e-01,  1.70121230e-02,\n",
              "         -2.45516911e-01,  3.68627876e-01],\n",
              "        [ 3.68988633e-01,  3.23568046e-01, -7.53408968e-02,\n",
              "          3.26844692e-01, -3.06306798e-02,  1.04482436e+00,\n",
              "          6.35684609e-01, -5.12076795e-01, -1.82420582e-01,\n",
              "          1.52223125e-01,  2.87298262e-01,  2.95245737e-01,\n",
              "          1.68740407e-01,  4.63623255e-01,  3.12780738e-01,\n",
              "         -4.59913731e-01,  5.08588314e-01, -3.72241467e-01,\n",
              "          1.47753283e-01, -8.17721933e-02, -3.77604723e-01,\n",
              "         -4.75067422e-02, -1.04819313e-01,  2.38251925e-01,\n",
              "          1.08543195e-01, -6.72414660e-01, -5.70700943e-01,\n",
              "          3.20371151e-01, -1.90123796e-01,  2.69998372e-01,\n",
              "         -3.31006140e-01,  7.22291052e-01],\n",
              "        [ 7.20400289e-02, -3.08521122e-01, -1.12442737e-02,\n",
              "         -1.83627903e-02, -3.13241303e-01, -4.10699099e-01,\n",
              "         -2.88925111e-01,  5.32940865e-01,  2.71117836e-01,\n",
              "         -1.00088045e-01,  6.14932738e-02, -2.64166027e-01,\n",
              "          1.32132443e-02, -1.63325846e-01,  2.10428163e-01,\n",
              "         -3.97514075e-01, -2.29006231e-01, -1.44326553e-01,\n",
              "         -1.68544605e-01,  1.90349698e-01, -7.27928802e-02,\n",
              "         -4.26047683e-01, -2.96754450e-01,  2.03762367e-01,\n",
              "         -6.74355179e-02,  9.25904885e-02,  4.14660662e-01,\n",
              "         -3.21356088e-01, -3.11806828e-01,  1.63225055e-01,\n",
              "          2.44141817e-01, -2.90747304e-02],\n",
              "        [-1.27946198e-01,  2.35869020e-01, -3.68655920e-02,\n",
              "         -4.41756278e-01, -4.02257144e-01, -1.02861321e+00,\n",
              "         -8.24904382e-01, -2.15264529e-01,  6.27259195e-01,\n",
              "          2.27359086e-01,  3.15147370e-01,  2.15051949e-01,\n",
              "         -1.99391887e-01, -3.19866449e-01,  1.83082029e-01,\n",
              "         -2.10987389e-01, -2.49566928e-01,  3.72608364e-01,\n",
              "          1.05948962e-01, -6.76466942e-01, -3.60220402e-01,\n",
              "         -5.13213966e-03,  2.35652313e-01,  4.24910337e-01,\n",
              "          7.18346015e-02,  7.36740947e-01,  1.21547140e-01,\n",
              "          7.82868080e-03, -3.64784628e-01,  4.12727296e-01,\n",
              "         -2.72472535e-04, -2.29417592e-01]], dtype=float32)>,\n",
              " <tf.Variable 'dense_6/bias:0' shape=(32,) dtype=float32, numpy=\n",
              " array([-0.42213675,  0.02654759,  0.00179592,  0.77025974, -0.46404588,\n",
              "         0.90943277,  0.8497637 ,  0.33273306, -0.6920761 ,  0.31204444,\n",
              "         0.27599335,  0.01545829, -0.45826992,  0.21728857,  0.0039626 ,\n",
              "        -0.3614862 ,  0.70043075,  0.49736708, -0.00135102,  0.818129  ,\n",
              "        -0.24365915, -0.24332449,  0.33991793, -0.30299377,  0.00240068,\n",
              "        -0.86179245, -0.76746756,  0.41305926, -0.31647676, -0.38491824,\n",
              "         0.31164125,  0.91366696], dtype=float32)>,\n",
              " <tf.Variable 'dense_7/kernel:0' shape=(32, 32) dtype=float32, numpy=\n",
              " array([[-0.1970855 ,  0.03788728,  0.22271271, ...,  0.15526262,\n",
              "         -0.07037657,  0.39665094],\n",
              "        [ 0.5072099 ,  0.3415691 , -0.17067224, ...,  0.44139895,\n",
              "         -0.3602949 ,  0.47428343],\n",
              "        [ 0.09203404, -0.2779369 ,  0.04876771, ...,  0.15626808,\n",
              "          0.12698846, -0.01463274],\n",
              "        ...,\n",
              "        [-0.37561256,  0.34000498, -0.10298087, ...,  0.3176976 ,\n",
              "         -0.34589654, -0.10462123],\n",
              "        [ 0.25365913,  0.22338209,  0.02145525, ..., -0.07193141,\n",
              "          0.02015156, -0.27900395],\n",
              "        [ 0.22934523,  0.15413935,  0.38961303, ...,  0.06528671,\n",
              "         -0.24900067, -0.39545417]], dtype=float32)>,\n",
              " <tf.Variable 'dense_7/bias:0' shape=(32,) dtype=float32, numpy=\n",
              " array([-0.18791823, -0.20952438, -0.12945446,  0.42662227, -0.14253366,\n",
              "        -0.1513323 , -0.09554355, -0.06375884,  0.43577036,  0.4494486 ,\n",
              "        -0.0928729 ,  0.02485251, -0.02640278, -0.09249902, -0.03592368,\n",
              "         0.37970993, -0.18122515, -0.21874732,  0.20914438, -0.08415477,\n",
              "        -0.03747739, -0.12542275,  0.2815048 , -0.01581785,  0.2195011 ,\n",
              "        -0.16862148,  0.23619102, -0.14832897, -0.23574312, -0.0664987 ,\n",
              "        -0.2035021 , -0.06338874], dtype=float32)>,\n",
              " <tf.Variable 'dense_8/kernel:0' shape=(32, 2) dtype=float32, numpy=\n",
              " array([[-1.31238252e-02, -1.83546814e-04],\n",
              "        [ 7.57029699e-03,  6.30323915e-03],\n",
              "        [-4.03193310e-02, -1.76540196e-01],\n",
              "        [ 3.56294215e-01,  4.74881738e-01],\n",
              "        [-6.49225265e-02,  2.53299177e-02],\n",
              "        [-5.16988803e-03, -2.32895035e-02],\n",
              "        [ 3.42593163e-01, -1.97370291e-01],\n",
              "        [ 3.48314255e-01, -1.49753958e-01],\n",
              "        [ 5.67286611e-01,  5.29103041e-01],\n",
              "        [ 3.91344637e-01,  6.26572430e-01],\n",
              "        [-2.19476998e-01, -2.31229797e-01],\n",
              "        [ 3.94686282e-01, -3.09536252e-02],\n",
              "        [-3.54680538e-01, -2.77068108e-01],\n",
              "        [-1.00466512e-01, -4.02147993e-02],\n",
              "        [ 3.34044039e-01, -1.51731595e-01],\n",
              "        [ 1.76316276e-01,  3.95307899e-01],\n",
              "        [-2.75462922e-02,  1.59935933e-02],\n",
              "        [ 2.79757548e-02, -3.03557087e-02],\n",
              "        [ 9.96464491e-02,  2.54729480e-01],\n",
              "        [ 3.14086839e-03, -7.52413005e-04],\n",
              "        [-2.93864191e-01,  1.43612102e-01],\n",
              "        [ 8.43963772e-03, -8.81131887e-02],\n",
              "        [ 1.11227021e-01,  3.07471037e-01],\n",
              "        [-1.04069084e-01,  9.63317752e-02],\n",
              "        [-1.33320726e-02,  4.52700704e-01],\n",
              "        [ 1.52730821e-02,  3.25527880e-03],\n",
              "        [-1.18652871e-02,  4.24697220e-01],\n",
              "        [-7.38010481e-02, -1.96872763e-02],\n",
              "        [ 2.30436753e-02, -1.37220519e-02],\n",
              "        [ 7.80219659e-02, -1.18740955e-02],\n",
              "        [-5.75067895e-03, -2.68400889e-02],\n",
              "        [-2.19769761e-01,  1.98888183e-01]], dtype=float32)>,\n",
              " <tf.Variable 'dense_8/bias:0' shape=(2,) dtype=float32, numpy=array([0.33535942, 0.4483794 ], dtype=float32)>]"
            ]
          },
          "execution_count": 19,
          "metadata": {},
          "output_type": "execute_result"
        }
      ],
      "source": [
        "alt_model.weights"
      ]
    },
    {
      "cell_type": "markdown",
      "metadata": {
        "id": "dhgXEg3097Ud"
      },
      "source": [
        "# Experience Replay Framework\n",
        "\n",
        "By now, you may have noticed that in a standard RL setup, the agent **only learns from its most recent experience** at each step. This makes training unstable and inefficient. Additionally, consecutive experiences are often highly correlated, which can lead to poor generalization.\n",
        "\n",
        "To address this, we will adopt the **Experience Replay Framework**, where past interactions are stored in a **Replay Buffer** and **a randomly sampled batch** is used to update the decision-making policy. This helps to:\n",
        "\n",
        "- **Break correlation** between consecutive experiences, stabilizing learning.\n",
        "- **Improve data efficiency** by reusing past experiences multiple times.\n",
        "- **Smooth training updates**, preventing abrupt policy changes.\n",
        "\n",
        "The figure below illustrates this process:\n",
        "\n",
        "<img src=\"https://drive.google.com/uc?export=view&id=1S3Z6Ngpzwz3haycLS-rzx-eBe9QT88MJ\" width=\"400\">\n",
        "\n",
        "- The Agent interacts with the Environment, taking actions based on its learned policy.\n",
        "- The Replay Buffer stores past experiences `(state, action, reward, next state, done)`.\n",
        "- Instead of updating after every step, the agent samples from the buffer and learns from past interactions.\n",
        "\n",
        "This framework is used in naive DQN, DQN and DDQN to stabilize Q-learning.\n",
        "\n"
      ]
    },
    {
      "cell_type": "markdown",
      "metadata": {
        "id": "CkfcXDjNriXH"
      },
      "source": [
        "## Implement Replay Buffer and Functions"
      ]
    },
    {
      "cell_type": "code",
      "execution_count": null,
      "metadata": {
        "id": "lJH9KigXsX8Y"
      },
      "outputs": [],
      "source": [
        "# Store (state, action, reward, next_state, done)\n",
        "def store_experience(replay_buffer, state, action, reward, next_stat, done):\n",
        "        replay_buffer.append((state, action, reward, next_state, done))\n",
        "\n",
        "# Sample (state, action, reward, next_state, done) mini-batch for training\n",
        "def sample_experience(replay_buffer, batch_size):\n",
        "\n",
        "    # Ensure we have enough samples\n",
        "    assert len(replay_buffer) >= batch_size, (\n",
        "        f\"Not enough samples in buffer to sample {batch_size} items.\")\n",
        "\n",
        "    # Sample a mini-batch\n",
        "    minibatch = random.sample(replay_buffer, batch_size)\n",
        "\n",
        "    states, actions, rewards, next_states, dones = zip(*minibatch)\n",
        "\n",
        "    states = np.array(states, dtype=np.float32).squeeze()\n",
        "    next_states = np.array(next_states, dtype=np.float32).squeeze()\n",
        "    actions = np.array(actions, dtype=np.int32)\n",
        "    rewards = np.array(rewards, dtype=np.float32)\n",
        "    dones = np.array(dones, dtype=np.float32)\n",
        "\n",
        "    return states, actions, rewards, next_states, dones\n",
        "\n",
        "# [Hint] You may find the following statements useful\n",
        "\"\"\"\n",
        "# Define replay buffer\n",
        "replay_buffer = deque(maxlen=10000)\n",
        "\n",
        "# Store experience tuple into replay_buffer\n",
        "store_experience(replay_buffer, state, action, reward, next_state, done)\n",
        "\n",
        "# Sample mini-batch of size ba from replay_buffer\n",
        "states, actions, rewards, next_states, dones = sample_experience(replay_buffer, ba)\n",
        "\"\"\""
      ]
    },
    {
      "cell_type": "markdown",
      "metadata": {
        "id": "OCkBN3gIiLFP"
      },
      "source": [
        "# Naive DQN - Baseline\n",
        "\n",
        "In this section, you will complete the Naive DQN alorithm by implementing the missing components marked as `[WriteCode]`.\n",
        "\n"
      ]
    },
    {
      "cell_type": "markdown",
      "metadata": {
        "id": "tyRVFFdXvFYk"
      },
      "source": [
        "## Define and Compile the Neural Network\n",
        "\n",
        "A single network $Q_\\theta$ (parameterized by $\\theta$) is used to approximate $Q(s,a)$.\n",
        "\n",
        "The target used by Naive DQN is then:\n",
        "\n",
        "$Y^{NaiveQ}_t = R_{t+1} + \\gamma Q_{\\theta}(S_{t+1}, a)$"
      ]
    },
    {
      "cell_type": "code",
      "execution_count": null,
      "metadata": {
        "id": "83PVW-l7DRc6"
      },
      "outputs": [],
      "source": [
        "# Naive DQN Baseline Model\n",
        "from keras.models import Sequential\n",
        "from keras.layers import Dense\n",
        "\n",
        "\n",
        "# [WriteCode] from ... import ...\n",
        "\n",
        "# Define the Q-network\n",
        "model = Sequential()\n",
        "\n",
        "# [WriteCode]\n",
        "# model.add(...\n",
        "\n",
        "# Compile the model\n",
        "# [WriteCode]\n",
        "\n",
        "# Print the model summary\n",
        "# [WriteCode]"
      ]
    },
    {
      "cell_type": "markdown",
      "metadata": {
        "id": "c9X6H46OIExH"
      },
      "source": [
        "## Set Up Env and Train the Policy"
      ]
    },
    {
      "cell_type": "code",
      "execution_count": null,
      "metadata": {
        "id": "wK70zqKbIHWJ"
      },
      "outputs": [],
      "source": [
        "# For logging\n",
        "train_reward_lst = []\n",
        "eval_reward_mean_lst = []\n",
        "eval_reward_var_lst = []\n",
        "\n",
        "# Set up environment\n",
        "env = gym.make(\"CartPole-v1\", render_mode=\"rgb_array\")\n",
        "state_size = env.observation_space.shape[0] # Number of observations (CartPole)\n",
        "action_size = env.action_space.n            # Number of possible actions\n",
        "\n",
        "model_dir = \"naive_dqn_baseline\"  # TensorBoard log directory\n",
        "cb = keras.callbacks.TensorBoard(log_dir = get_run_logdir(model_dir), histogram_freq=1)\n",
        "\n",
        "# For timing training\n",
        "total_training_time = 0\n",
        "\n",
        "# Define replay buffer\n",
        "# [WriteCode]\n",
        "# replay_buffer = ...\n",
        "\n",
        "for ep in range(episode):\n",
        "    state, _ = env.reset()\n",
        "    state = np.reshape(state, [1, state_size])\n",
        "    total_reward = 0\n",
        "\n",
        "    # record start time\n",
        "    start = time.time()\n",
        "\n",
        "    for _ in range(500):\n",
        "        # Interact with the environment with epsilon-greedy policy\n",
        "        if np.random.rand() <= epsilon:\n",
        "            action = np.random.choice(action_size)\n",
        "        else:\n",
        "            q_values = model.predict(state, verbose=0)\n",
        "            action = np.argmax(q_values)\n",
        "\n",
        "        next_state, reward, terminated, truncated, _ = env.step(action)\n",
        "        next_state = np.reshape(next_state, [1, state_size])\n",
        "        done = terminated or truncated\n",
        "\n",
        "        # store experience into replay buffer\n",
        "        # [WriteCode]\n",
        "\n",
        "        state = next_state\n",
        "        total_reward += reward\n",
        "\n",
        "        if done:\n",
        "            break\n",
        "\n",
        "\n",
        "        if len(replay_buffer) >= ba:\n",
        "            # Update policy with mini-batches if replay buffer contains enough samples\n",
        "            # Update policy using Q-Learning update:  Q(s, a) = r + gamma * max Q(s', a')\n",
        "            # [WriteCode]\n",
        "\n",
        "            # Hints:\n",
        "\n",
        "            # 1. Compute target Q-values:\n",
        "            # - If done, Q-target = reward (no future reward)\n",
        "            # - Otherwise, Q-target = reward + gamma * max(Q(next_state, a))\n",
        "\n",
        "            # 2. Predict current Q-values for state\n",
        "            # Update only the Q-value for the taken action\n",
        "\n",
        "            # 3. Fit the model:\n",
        "            # - Inputs: state\n",
        "            # - Targets: updated Q-values (with action Q-value replaced by computed target)\n",
        "\n",
        "            # Update exploration rate\n",
        "            if epsilon > epsilon_min:\n",
        "                epsilon *= epsilon_decay\n",
        "\n",
        "    # record end time and log training time\n",
        "    end = time.time()\n",
        "    total_training_time += end - start\n",
        "\n",
        "    # Evaluation\n",
        "    # [WriteCode]\n",
        "\n",
        "\n",
        "    print(f\"Episode {ep + 1}/{episode} | Ep. Total Reward: {total_reward}\"\n",
        "        f\" | Epsilon : {epsilon:.3f}\"\n",
        "        f\" | Eval Rwd Mean: {eval_reward_mean:.2f}\"\n",
        "        f\" | Eval Rwd Var: {eval_reward_var:.2f}\")\n",
        "\n",
        "    # Log\n",
        "    eval_reward_mean_lst.append(eval_reward_mean)\n",
        "    eval_reward_var_lst.append(eval_reward_var)\n",
        "    train_reward_lst.append(total_reward)\n",
        "\n",
        "    # Early Stopping Condition to avoid overfitting\n",
        "    # If the evaluation reward reaches the specified threshold, stop training early.\n",
        "    # The default threshold is set to 500, but you should adjust this based on observed training performance.\n",
        "    if eval_reward_mean > 500: # [Modify this threshold as needed]\n",
        "        print(f\"Early stopping triggered at Episode {ep + 1}.\")\n",
        "        break\n",
        "\n",
        "# evaluate average training time per episode\n",
        "print(f\"Training time: {total_training_time/episode:.4f} seconds per episode\")\n",
        "\n",
        "env.close()"
      ]
    },
    {
      "cell_type": "markdown",
      "metadata": {
        "id": "HMgwUOjQ30iI"
      },
      "source": [
        "## Plot Results"
      ]
    },
    {
      "cell_type": "code",
      "execution_count": null,
      "metadata": {
        "id": "FcQkJXSl30iI"
      },
      "outputs": [],
      "source": [
        "# Write code to plot\n",
        "# 1) Moving Averaged Training Reward, 2) Evaluation Mean, 3) Evaluation Variance\n",
        "# [Write Code]\n",
        "\n",
        "# plot_smoothed_training_rwd(...\n",
        "\n",
        "# plot_eval_rwd_mean(...\n",
        "\n",
        "# plot_eval_rwd_var(...\n"
      ]
    },
    {
      "cell_type": "markdown",
      "metadata": {
        "id": "qsx1mQTZwhNC"
      },
      "source": [
        "# Naive DQN - Alternative\n",
        "You may insert extra cells in the notebook to perform tuning experiments and log results effectively. Use TensorBoard, plots, or tables to visualize the impact of different hyperparameter choices."
      ]
    },
    {
      "cell_type": "code",
      "execution_count": null,
      "metadata": {
        "id": "auXumGG5w7JN"
      },
      "outputs": [],
      "source": [
        "# [Write Code]"
      ]
    },
    {
      "cell_type": "markdown",
      "metadata": {
        "id": "lAiI3y2yw47Q"
      },
      "source": [
        "## Comparison\n",
        "\n",
        "Compare performance of the Baseline and the Alternative Naive DQN Policies"
      ]
    },
    {
      "cell_type": "code",
      "execution_count": null,
      "metadata": {
        "id": "dHIjFgUhw-aR"
      },
      "outputs": [],
      "source": [
        "# [Write Code]"
      ]
    },
    {
      "cell_type": "markdown",
      "metadata": {
        "id": "Iy8REuq6iQah"
      },
      "source": [
        "# DQN\n",
        "\n",
        "In this section, you will complete the DQN algorithm by implementing the missing components marked as `[WriteCode]`.\n"
      ]
    },
    {
      "cell_type": "markdown",
      "metadata": {
        "id": "ZXqZUwXkxYci"
      },
      "source": [
        "## Define and Compile the Neural Networks"
      ]
    },
    {
      "cell_type": "markdown",
      "metadata": {
        "id": "2FvxFyz5hnEP"
      },
      "source": [
        "The standard DQN [https://arxiv.org/abs/1312.5602] approach features a periodically updated target network to stabilize training:\n",
        "\n",
        "- `target_model`: A periodically updated network that stabilizes training. During training, this network is used to compute $Q(S_{t+1}, a)$ for each possible action $a$. This network is not actively trained, but at regular intervals, its weights are copied from `eval_model`. This prevents rapid fluctuations in target Q-values and improves learning stability.\n",
        "\n",
        "- `eval_model`: The online learning network that interacts with the environment. During training, this network is used to compute $Q(S_{t}, a)$ for each possible action $a$. It updates its weights by minimizing the difference between predicted and target Q-values, improving the agent's decision-making over time.\n",
        "\n",
        "The target used by DQN is then:\n",
        "\n",
        "$Y^{Q}_t = R_{t+1} + \\gamma \\max_a Q_{target}(S_{t+1}, a)$\n",
        "\n",
        "In the following section, define `[eval_model]` and `[target_model]` with identical architectures."
      ]
    },
    {
      "cell_type": "code",
      "execution_count": null,
      "metadata": {
        "id": "NYILkt0Gzd5G"
      },
      "outputs": [],
      "source": [
        "# DQN Baseline Model\n",
        "from keras.models import Sequential\n",
        "from keras.layers import Dense\n",
        "\n",
        "\n",
        "# [WriteCode] from ... import ...\n",
        "\n",
        "# Define the eval (online) network\n",
        "eval_model = Sequential()\n",
        "\n",
        "# [WriteCode]\n",
        "# model.add(...\n",
        "\n",
        "# Compile the model\n",
        "# [WriteCode]\n",
        "\n",
        "# Print the model summary\n",
        "# [WriteCode]\n",
        "\n",
        "\n",
        "# Create target_model with the same architecture\n",
        "target_model = Sequential()\n",
        "\n",
        "# [WriteCode]\n",
        "# model.add(...\n",
        "\n",
        "# Skip compiling as target_model will not be trained with .fit()\n",
        "# Instead, weights will be copied from the online model\n",
        "target_model.set_weights(eval_model.get_weights())\n",
        "\n",
        "# Print the model summary\n",
        "# [WriteCode]\n",
        "print(target_model.summary())"
      ]
    },
    {
      "cell_type": "markdown",
      "metadata": {
        "id": "WZfiKQHk_Vjb"
      },
      "source": [
        "## Set Up Env and Train the Policy"
      ]
    },
    {
      "cell_type": "markdown",
      "metadata": {
        "id": "hsudLCVWB1Em"
      },
      "source": [
        "In this section, you will complete the DQN training routine by implementing the missing components marked as `[WriteCode]`.\n",
        "\n",
        "\n"
      ]
    },
    {
      "cell_type": "code",
      "execution_count": null,
      "metadata": {
        "id": "I96clO81hFJ_"
      },
      "outputs": [],
      "source": [
        "# For logging\n",
        "train_reward_lst = []\n",
        "eval_reward_mean_lst = []\n",
        "eval_reward_var_lst = []\n",
        "\n",
        "# Set up environment\n",
        "env = gym.make(\"CartPole-v1\", render_mode=\"rgb_array\")\n",
        "state_size = env.observation_space.shape[0] # Number of observations (CartPole)\n",
        "action_size = env.action_space.n            # Number of possible actions\n",
        "\n",
        "model_dir = \"dqn_baseline\"   # TensorBoard log directory\n",
        "cb = keras.callbacks.TensorBoard(log_dir = get_run_logdir(model_dir), histogram_freq=1)\n",
        "\n",
        "# Train Counter for weight syncing\n",
        "train_counter = 0\n",
        "\n",
        "# For timing training\n",
        "total_training_time = 0\n",
        "\n",
        "# Define replay buffer\n",
        "# replay_buffer = ...\n",
        "\n",
        "for ep in range(episode):\n",
        "    state, _ = env.reset()\n",
        "    state = np.reshape(state, [1, state_size])\n",
        "    total_reward = 0\n",
        "\n",
        "    # record start time\n",
        "    start = time.time()\n",
        "\n",
        "    for _ in range(500):\n",
        "        # Interact with the environment with epsilon-greedy policy\n",
        "        if np.random.rand() <= epsilon:\n",
        "            action = np.random.choice(action_size)\n",
        "        else:\n",
        "            q_values = eval_model.predict(state, verbose=0)\n",
        "            action = np.argmax(q_values)\n",
        "\n",
        "        next_state, reward, terminated, truncated, _ = env.step(action)\n",
        "        next_state = np.reshape(next_state, [1, state_size])\n",
        "        done = terminated or truncated\n",
        "\n",
        "        # store experience into replay buffer\n",
        "        # [WriteCode]\n",
        "\n",
        "        state = next_state\n",
        "        total_reward += reward\n",
        "\n",
        "        if done:\n",
        "            break\n",
        "\n",
        "        if len(replay_buffer) >= ba:\n",
        "            train_counter += 1\n",
        "            # Update policy with mini-batches if replay buffer contains enough samples\n",
        "            # Update policy using Deep Q-Learning update: Q(s, a) = r + gamma * max Q_target(S', a)\n",
        "            # [WriteCode]\n",
        "\n",
        "            # Compute target Q-values:\n",
        "            # - If done, Q-target = reward (no future reward)\n",
        "            # - Otherwise, Q-target = reward + gamma * max(Q_target(next_state, a))\n",
        "\n",
        "            # Predict current Q-values for state using eval_model\n",
        "            # Predict future Q-values using target_model (NOT eval_model)\n",
        "\n",
        "            # Update only the Q-value for the taken action\n",
        "\n",
        "            # Fit the model:\n",
        "            # - Inputs: state\n",
        "            # - Targets: updated Q-values (with action Q-value replaced by computed target)\n",
        "\n",
        "\n",
        "            # Update exploration rate\n",
        "            if epsilon > epsilon_min:\n",
        "                epsilon *= epsilon_decay\n",
        "\n",
        "            # Periodically update the target network\n",
        "            if train_counter % target_update_freq == 0:\n",
        "                target_model.set_weights(eval_model.get_weights())\n",
        "\n",
        "    # record end time and log training time\n",
        "    end = time.time()\n",
        "    total_training_time += end - start\n",
        "\n",
        "    # Evaluation\n",
        "    # [WriteCode]\n",
        "\n",
        "\n",
        "    print(f\"Episode {ep + 1}/{episode} | Ep. Total Reward: {total_reward}\"\n",
        "        f\" | Epsilon : {epsilon:.3f}\"\n",
        "        f\" | Eval Rwd Mean: {eval_reward_mean:.2f}\"\n",
        "        f\" | Eval Rwd Var: {eval_reward_var:.2f}\")\n",
        "\n",
        "    # Log\n",
        "    eval_reward_mean_lst.append(eval_reward_mean)\n",
        "    eval_reward_var_lst.append(eval_reward_var)\n",
        "    train_reward_lst.append(total_reward)\n",
        "\n",
        "    # Early Stopping Condition to avoid overfitting\n",
        "    # If the evaluation reward reaches the specified threshold, stop training early.\n",
        "    # The default threshold is set to 500, but you should adjust this based on observed training performance.\n",
        "    if eval_reward_mean > 500: # [Modify this threshold as needed]\n",
        "        print(f\"Early stopping triggered at Episode {ep + 1}.\")\n",
        "        break\n",
        "\n",
        "# evaluate average training time per episode\n",
        "print(f\"Training time: {total_training_time/episode:.4f} seconds per episode\")\n",
        "\n",
        "env.close()"
      ]
    },
    {
      "cell_type": "markdown",
      "metadata": {
        "id": "cWTB-X8Q35lX"
      },
      "source": [
        "## Plot Results"
      ]
    },
    {
      "cell_type": "code",
      "execution_count": null,
      "metadata": {
        "id": "gUC2aelO35lX"
      },
      "outputs": [],
      "source": [
        "# Write code to plot\n",
        "# 1) Moving Averaged Training Reward, 2) Evaluation Mean, 3) Evaluation Variance\n",
        "# [Write Code]\n",
        "plot_smoothed_training_rwd(train_reward_lst, window_size=20)\n",
        "plot_eval_rwd_mean(eval_reward_mean_lst)\n",
        "plot_eval_rwd_var(eval_reward_var_lst)"
      ]
    },
    {
      "cell_type": "markdown",
      "metadata": {
        "id": "aGOFWup5ZiYp"
      },
      "source": [
        "# DQN - Alternative\n",
        "\n",
        "You may insert extra cells in the notebook to perform tuning experiments and log results effectively. Use TensorBoard, plots, or tables to visualize the impact of different hyperparameter choices."
      ]
    },
    {
      "cell_type": "markdown",
      "metadata": {
        "id": "eOwN55lA34nm"
      },
      "source": [
        "## Plot Results"
      ]
    },
    {
      "cell_type": "code",
      "execution_count": null,
      "metadata": {
        "id": "hf5220Bw34nm"
      },
      "outputs": [],
      "source": [
        "# Write code to plot\n",
        "# 1) Moving Averaged Training Reward, 2) Evaluation Mean, 3) Evaluation Variance\n",
        "# [Write Code]\n",
        "\n",
        "# plot_smoothed_training_rwd(...\n",
        "\n",
        "# plot_eval_rwd_mean(...\n",
        "\n",
        "# plot_eval_rwd_var(..."
      ]
    },
    {
      "cell_type": "code",
      "execution_count": null,
      "metadata": {
        "id": "SvxOyxpPZlfW"
      },
      "outputs": [],
      "source": [
        "# [Write Code]"
      ]
    },
    {
      "cell_type": "markdown",
      "metadata": {
        "id": "0oTzmTnlZlru"
      },
      "source": [
        "## Comparison\n",
        "\n",
        "Compare performance of the Baseline and the Alternative DQN Policies"
      ]
    },
    {
      "cell_type": "code",
      "execution_count": null,
      "metadata": {
        "id": "HiMW7bE1Zq2B"
      },
      "outputs": [],
      "source": [
        "# [Write Code]"
      ]
    },
    {
      "cell_type": "markdown",
      "metadata": {
        "id": "4yGOGzD5iRw5"
      },
      "source": [
        "# DDQN"
      ]
    },
    {
      "cell_type": "markdown",
      "metadata": {
        "id": "-nURxQ5zZwu5"
      },
      "source": [
        "## Define and Compile the Neural Networks\n",
        "\n",
        "The Double Deep Q-Network (DDQN) [https://arxiv.org/abs/1509.06461] improves upon standard DQN by reducing overestimation bias in Q-values. DDQN achieves this by decoupling action selection from value estimation using two networks, which is almost identical as DQN:\n",
        "\n",
        "- `target_model`: A periodically updated network that stabilizes training. During training, this network is used to compute $Q(S_{t+1}, a)$ for each possible action $a$. This network is also not trained but synced from `eval_model`. **However, unlike DQN, this network is only used to evaluate the Q-value of the action chosen by `eval_model`, making value updates more stable.**\n",
        "\n",
        "- `eval_model`: The online learning network that interacts with the environment. During training, this network is used to select the best action using $\\arg\\max_a Q(S_{t}, a)$ and updates its weights by minimizing the difference between predicted and target Q-value.\n",
        "\n",
        "The target used by DDQN is then:\n",
        "\n",
        "$Y^{Q}_t = R_{t+1} + \\gamma Q_{target}(S_{t+1}, \\arg \\max_{a} Q_{eval}(S_{t+1}, a))$"
      ]
    },
    {
      "cell_type": "code",
      "execution_count": null,
      "metadata": {
        "id": "NoH_Tjmz3FBn"
      },
      "outputs": [],
      "source": [
        "# DDQN Baseline Model\n",
        "from keras.models import Sequential\n",
        "from keras.layers import Dense\n",
        "\n",
        "\n",
        "# [WriteCode] from ... import ...\n",
        "\n",
        "# Define the eval (online) network\n",
        "eval_model = Sequential()\n",
        "\n",
        "# [WriteCode]\n",
        "# model.add(...\n",
        "\n",
        "# Compile the model\n",
        "# [WriteCode]\n",
        "\n",
        "# Print the model summary\n",
        "# [WriteCode]\n",
        "\n",
        "\n",
        "\n",
        "# Create target_model with the same architecture\n",
        "target_model = Sequential()\n",
        "\n",
        "# [WriteCode]\n",
        "# model.add(...\n",
        "\n",
        "# Skip compiling as target_model will not be trained with .fit()\n",
        "# Instead, weights will be copied from the online model\n",
        "target_model.set_weights(eval_model.get_weights())\n",
        "\n",
        "# Print the model summary\n",
        "# [WriteCode]"
      ]
    },
    {
      "cell_type": "markdown",
      "metadata": {
        "id": "-uZT2NevZzo7"
      },
      "source": [
        "## Set Up Env and Train the Policy"
      ]
    },
    {
      "cell_type": "code",
      "execution_count": null,
      "metadata": {
        "id": "4U9ntMqg3TH7"
      },
      "outputs": [],
      "source": [
        "# For logging\n",
        "train_reward_lst = []\n",
        "eval_reward_mean_lst = []\n",
        "eval_reward_var_lst = []\n",
        "\n",
        "# Set up environment\n",
        "env = gym.make(\"CartPole-v1\", render_mode=\"rgb_array\")\n",
        "state_size = env.observation_space.shape[0] # Number of observations (CartPole)\n",
        "action_size = env.action_space.n            # Number of possible actions\n",
        "\n",
        "model_dir = \"ddqn_baseline\"  # TensorBoard log directory\n",
        "cb = keras.callbacks.TensorBoard(log_dir = get_run_logdir(model_dir), histogram_freq=1)\n",
        "\n",
        "# Train Counter for weight syncing\n",
        "train_counter = 0\n",
        "\n",
        "# For timing training\n",
        "total_training_time = 0\n",
        "\n",
        "# Define replay buffer\n",
        "# replay_buffer = ...\n",
        "\n",
        "for ep in range(episode):\n",
        "    state, _ = env.reset()\n",
        "    state = np.reshape(state, [1, state_size])\n",
        "    total_reward = 0\n",
        "\n",
        "    # record start time\n",
        "    start = time.time()\n",
        "\n",
        "    for _ in range(500):\n",
        "\n",
        "        # Interact with the environment with epsilon-greedy policy\n",
        "        if np.random.rand() <= epsilon:\n",
        "            action = np.random.choice(action_size)\n",
        "        else:\n",
        "            q_values = eval_model.predict(state, verbose=0)\n",
        "            action = np.argmax(q_values)\n",
        "\n",
        "        next_state, reward, terminated, truncated, _ = env.step(action)\n",
        "        next_state = np.reshape(next_state, [1, state_size])\n",
        "        done = terminated or truncated\n",
        "\n",
        "        # store experience into replay buffer\n",
        "        # [WriteCode]\n",
        "\n",
        "        state = next_state\n",
        "        total_reward += reward\n",
        "\n",
        "        if done:\n",
        "            break\n",
        "\n",
        "        if len(replay_buffer) >= ba:\n",
        "            train_counter += 1\n",
        "            # Update policy with mini-batches if replay buffer contains enough samples\n",
        "            # Update policy using Double Deep Q-Learning update:\n",
        "            # Q(s, a) = r + gamma * Q_target(S', argmax Q_eval(S', a))\n",
        "            # [WriteCode]\n",
        "\n",
        "            # Compute target Q-values:\n",
        "            # - If done, Q-target = reward (no future reward)\n",
        "            # - Otherwise, Q-target = reward + gamma * Q_target(S', argmax Q_eval(S', a))\n",
        "\n",
        "            # Predict current Q-values for state using eval_model\n",
        "            # Use eval_model to determine best action in next_state\n",
        "            # Use target_model to compute Q-value for that action\n",
        "\n",
        "            # Update only the Q-value for the taken action\n",
        "\n",
        "            # Fit the model:\n",
        "            # - Inputs: state\n",
        "            # - Targets: updated Q-values (with action Q-value replaced by computed target)\n",
        "\n",
        "\n",
        "            # Update exploration rate\n",
        "            if epsilon > epsilon_min:\n",
        "                epsilon *= epsilon_decay\n",
        "\n",
        "            # Periodically update the target network\n",
        "            if train_counter % target_update_freq == 0:\n",
        "                target_model.set_weights(eval_model.get_weights())\n",
        "\n",
        "    # record end time and log training time\n",
        "    end = time.time()\n",
        "    total_training_time += end - start\n",
        "\n",
        "    # Evaluation\n",
        "    # [WriteCode]\n",
        "\n",
        "\n",
        "    print(f\"Episode {ep + 1}/{episode} | Ep. Total Reward: {total_reward}\"\n",
        "        f\" | Epsilon : {epsilon:.3f}\"\n",
        "        f\" | Eval Rwd Mean: {eval_reward_mean:.2f}\"\n",
        "        f\" | Eval Rwd Var: {eval_reward_var:.2f}\")\n",
        "\n",
        "    # Log\n",
        "    eval_reward_mean_lst.append(eval_reward_mean)\n",
        "    eval_reward_var_lst.append(eval_reward_var)\n",
        "    train_reward_lst.append(total_reward)\n",
        "\n",
        "    # Early Stopping Condition to avoid overfitting\n",
        "    # If the evaluation reward reaches the specified threshold, stop training early.\n",
        "    # The default threshold is set to 500, but you should adjust this based on observed training performance.\n",
        "    if eval_reward_mean > 500: # [Modify this threshold as needed]\n",
        "        print(f\"Early stopping triggered at Episode {ep + 1}.\")\n",
        "        break\n",
        "\n",
        "# record end time and calculate average training time per episode\n",
        "# evaluate average training time per episode\n",
        "print(f\"Training time: {total_training_time/episode:.4f} seconds per episode\")\n",
        "\n",
        "env.close()"
      ]
    },
    {
      "cell_type": "markdown",
      "metadata": {
        "id": "oKfbQWJq363X"
      },
      "source": [
        "## Plot Results"
      ]
    },
    {
      "cell_type": "code",
      "execution_count": null,
      "metadata": {
        "id": "L7qIOwiX363Y"
      },
      "outputs": [],
      "source": [
        "# Write code to plot\n",
        "# 1) Moving Averaged Training Reward, 2) Evaluation Mean, 3) Evaluation Variance\n",
        "# [Write Code]\n",
        "\n",
        "# plot_smoothed_training_rwd(...\n",
        "\n",
        "# plot_eval_rwd_mean(...\n",
        "\n",
        "# plot_eval_rwd_var(..."
      ]
    },
    {
      "cell_type": "markdown",
      "metadata": {
        "id": "YgVEqsvQHsiD"
      },
      "source": [
        "# DDQN - Alternative\n",
        "\n",
        "You may insert extra cells in the notebook to perform tuning experiments and log results effectively. Use TensorBoard, plots, or tables to visualize the impact of different hyperparameter choices."
      ]
    },
    {
      "cell_type": "code",
      "execution_count": null,
      "metadata": {
        "id": "0xno9cGCHrx5"
      },
      "outputs": [],
      "source": [
        "# [Write Code]"
      ]
    },
    {
      "cell_type": "markdown",
      "metadata": {
        "id": "5MBGp2LfHxDr"
      },
      "source": [
        "## Comparison\n",
        "\n",
        "Compare performance of the Baseline and the Alternative DDQN Policies"
      ]
    },
    {
      "cell_type": "code",
      "execution_count": null,
      "metadata": {
        "id": "3NDTwhmwH3Lk"
      },
      "outputs": [],
      "source": [
        "# [Write Code]"
      ]
    },
    {
      "cell_type": "markdown",
      "metadata": {
        "id": "VUo4vcwQnbWV"
      },
      "source": [
        "# Visualize with Tensorboard"
      ]
    },
    {
      "cell_type": "code",
      "execution_count": null,
      "metadata": {
        "id": "ZcIJ3DQc3-Jw"
      },
      "outputs": [],
      "source": [
        "%load_ext tensorboard\n",
        "%tensorboard --logdir=./ee4802_logs --port=6006"
      ]
    },
    {
      "cell_type": "markdown",
      "metadata": {
        "id": "l-insiT7D_lq"
      },
      "source": [
        "# Comparison Across Four Alternative Policies\n",
        "\n",
        "Compare hyperparameters and performance of the four alternative policies.\n",
        "\n",
        "You may insert extra cells in the notebook to tabulate/plot/log results effectively."
      ]
    },
    {
      "cell_type": "code",
      "execution_count": null,
      "metadata": {
        "id": "SjQwsaxSE5Jh"
      },
      "outputs": [],
      "source": [
        "# [Write Code]"
      ]
    }
  ],
  "metadata": {
    "colab": {
      "include_colab_link": true,
      "provenance": []
    },
    "kernelspec": {
      "display_name": "Python 3",
      "name": "python3"
    },
    "language_info": {
      "codemirror_mode": {
        "name": "ipython",
        "version": 3
      },
      "file_extension": ".py",
      "mimetype": "text/x-python",
      "name": "python",
      "nbconvert_exporter": "python",
      "pygments_lexer": "ipython3",
      "version": "3.11.3"
    }
  },
  "nbformat": 4,
  "nbformat_minor": 0
}
