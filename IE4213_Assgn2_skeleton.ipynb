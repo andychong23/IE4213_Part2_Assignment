{
  "cells": [
    {
      "cell_type": "code",
      "execution_count": 9,
      "metadata": {
        "id": "gBUF2HJd1fVT"
      },
      "outputs": [],
      "source": [
        "Student_1 = 'Andy' #@param {type:\"string\"}  Name of student 1\n",
        "Student_2 = 'Yin Li' #@param {type:\"string\"}  Name of student 2\n",
        "Student_3 = '' #@param {type:\"string\"}  Name of student 3\n",
        "Student_4 = '' #@param {type:\"string\"}  Name of student 4"
      ]
    },
    {
      "cell_type": "markdown",
      "metadata": {
        "id": "9PhWOSD2hLUM"
      },
      "source": [
        "# Overvew\n",
        "\n",
        "This is the skeleton code file for the EE4802/IE4213 assignment. Replace the `XX`. in the name of this Colab notebook with your group number (this is important for correct marks to be awarded to your group). Fill in the blank cells below with the necessary code (you should work on this Colab notebook section by section). At the end, the entire Colab notebook should generate all the required results and execute without error.\n",
        "\n",
        "The text above the blank cells provides information on the functionality that needs to be implemented. You need to write Python code at places indicated by `[WriteCode]`"
      ]
    },
    {
      "cell_type": "markdown",
      "metadata": {
        "id": "jXckzF3Fhd4p"
      },
      "source": [
        "## Install and Import Libraries"
      ]
    },
    {
      "cell_type": "code",
      "execution_count": 10,
      "metadata": {
        "id": "19JbK59PhbuE"
      },
      "outputs": [],
      "source": [
        "%%capture\n",
        "# %%capture hides the output\n",
        "# install visulization tool\n",
        "%pip install renderlab\n"
      ]
    },
    {
      "cell_type": "code",
      "execution_count": 11,
      "metadata": {
        "colab": {
          "base_uri": "https://localhost:8080/"
        },
        "id": "E669iRUFhn9J",
        "outputId": "c26df2a0-5d5a-4aa5-ee0a-7d0d6de578c5"
      },
      "outputs": [
        {
          "ename": "ModuleNotFoundError",
          "evalue": "No module named 'moviepy.editor'",
          "output_type": "error",
          "traceback": [
            "\u001b[0;31m---------------------------------------------------------------------------\u001b[0m",
            "\u001b[0;31mModuleNotFoundError\u001b[0m                       Traceback (most recent call last)",
            "Cell \u001b[0;32mIn[11], line 12\u001b[0m\n\u001b[1;32m      9\u001b[0m \u001b[38;5;28;01mfrom\u001b[39;00m \u001b[38;5;21;01mcollections\u001b[39;00m \u001b[38;5;28;01mimport\u001b[39;00m deque\n\u001b[1;32m     11\u001b[0m \u001b[38;5;28;01mimport\u001b[39;00m \u001b[38;5;21;01mgymnasium\u001b[39;00m \u001b[38;5;28;01mas\u001b[39;00m \u001b[38;5;21;01mgym\u001b[39;00m\n\u001b[0;32m---> 12\u001b[0m \u001b[38;5;28;01mimport\u001b[39;00m \u001b[38;5;21;01mrenderlab\u001b[39;00m \u001b[38;5;28;01mas\u001b[39;00m \u001b[38;5;21;01mrl\u001b[39;00m\n",
            "File \u001b[0;32m/opt/anaconda3/lib/python3.11/site-packages/renderlab/__init__.py:1\u001b[0m\n\u001b[0;32m----> 1\u001b[0m \u001b[38;5;28;01mfrom\u001b[39;00m \u001b[38;5;21;01m.\u001b[39;00m\u001b[38;5;21;01mrender_frame\u001b[39;00m \u001b[38;5;28;01mimport\u001b[39;00m RenderFrame\n",
            "File \u001b[0;32m/opt/anaconda3/lib/python3.11/site-packages/renderlab/render_frame.py:2\u001b[0m\n\u001b[1;32m      1\u001b[0m \u001b[38;5;28;01mfrom\u001b[39;00m \u001b[38;5;21;01mIPython\u001b[39;00m\u001b[38;5;21;01m.\u001b[39;00m\u001b[38;5;21;01mcore\u001b[39;00m\u001b[38;5;21;01m.\u001b[39;00m\u001b[38;5;21;01mdisplay\u001b[39;00m \u001b[38;5;28;01mimport\u001b[39;00m Video, display\n\u001b[0;32m----> 2\u001b[0m \u001b[38;5;28;01mfrom\u001b[39;00m \u001b[38;5;21;01mmoviepy\u001b[39;00m\u001b[38;5;21;01m.\u001b[39;00m\u001b[38;5;21;01meditor\u001b[39;00m \u001b[38;5;28;01mimport\u001b[39;00m \u001b[38;5;241m*\u001b[39m\n\u001b[1;32m      4\u001b[0m \u001b[38;5;28;01mimport\u001b[39;00m \u001b[38;5;21;01mgymnasium\u001b[39;00m \u001b[38;5;28;01mas\u001b[39;00m \u001b[38;5;21;01mgym\u001b[39;00m\n\u001b[1;32m      5\u001b[0m \u001b[38;5;28;01mimport\u001b[39;00m \u001b[38;5;21;01mtime\u001b[39;00m\n",
            "\u001b[0;31mModuleNotFoundError\u001b[0m: No module named 'moviepy.editor'"
          ]
        }
      ],
      "source": [
        "import tensorflow as tf\n",
        "from tensorflow import keras\n",
        "assert tf.__version__ >= \"2.0\"\n",
        "\n",
        "import os\n",
        "import time\n",
        "import numpy as np\n",
        "import random\n",
        "from collections import deque\n",
        "\n",
        "import gymnasium as gym\n",
        "import renderlab as rl"
      ]
    },
    {
      "cell_type": "markdown",
      "metadata": {
        "id": "9d3w4FRMS36_"
      },
      "source": [
        "# Background"
      ]
    },
    {
      "cell_type": "markdown",
      "metadata": {
        "id": "L8RD1Ggwcqg1"
      },
      "source": [
        "## Environment Exploration: Cart-Pole\n",
        "\n",
        "The **Cart-Pole environment** is a classic reinforcement learning problem where a pole is attached by an un-actuated joint to a cart. The cart moves along a frictionless track, and the goal is to balance the pole upright by applying forces to move the cart left or right.\n",
        "\n",
        "<img src=\"https://gymnasium.farama.org/_images/cart_pole.gif\" width=\"400\">\n",
        "\n",
        "Below is a breakdown of the base Cart-Pole environment:\n"
      ]
    },
    {
      "cell_type": "markdown",
      "metadata": {
        "id": "geWhWkTJRu5w"
      },
      "source": [
        "#### - **Observation Space (*s*)**\n",
        "The observation is represented as a `ndarray` of shape `(4,)`, corresponding to:\n",
        "- **Cart Position**: Horizontal location of the cart.\n",
        "- **Cart Velocity**: Speed of the cart along the track.\n",
        "- **Pole Angle**: Angular position of the pole relative to vertical.\n",
        "- **Pole Angular Velocity**: Speed at which the pole angle changes.\n",
        "\n",
        "The observations are initialized with uniformly random values in the range `(-0.05, 0.05)`.\n"
      ]
    },
    {
      "cell_type": "markdown",
      "metadata": {
        "id": "8r3befVJR4SJ"
      },
      "source": [
        "#### - **Action Space (*a*)**\n",
        "The action is a discrete value (`0` or `1`) indicating the direction of the force applied to the cart:\n",
        "- `0`: Push the cart to the left.\n",
        "- `1`: Push the cart to the right.\n"
      ]
    },
    {
      "cell_type": "markdown",
      "metadata": {
        "id": "BfanxRL4R5jO"
      },
      "source": [
        "\n",
        "#### - **Reward Function (*r*)**\n",
        "The agent receives a reward of `+1` for each time step it successfully keeps the pole upright. The maximum achievable reward in a single episode is `500`."
      ]
    },
    {
      "cell_type": "markdown",
      "metadata": {
        "id": "spv7Ul4CR7SN"
      },
      "source": [
        "#### - **Episode Termination (*isDone*)**\n",
        "An episode ends if any of the following conditions occur:\n",
        "1. **Pole Angle** exceeds `±12°`.\n",
        "2. **Cart Position** exceeds `±2.4` (the cart reaches the edge of the track).\n",
        "3. **Truncation**: The episode reaches the maximum length of `500 steps`."
      ]
    },
    {
      "cell_type": "markdown",
      "metadata": {
        "id": "pD50TBeLif6F"
      },
      "source": [
        "## Getting Familiar with Basic Gym Usage\n",
        "\n",
        "Let's observe how to interact with a Gym environment."
      ]
    },
    {
      "cell_type": "markdown",
      "metadata": {
        "id": "kkeWe780XZVv"
      },
      "source": [
        "The classic “agent-environment loop” pictured below is a simplified representation of reinforcement learning that Gymnasium implements.\n",
        "\n",
        "<img src=\"https://drive.google.com/uc?export=view&id=1feMbDMTfOFTBtj2PAZz-kMjSQKVukEm6\" width=\"250\">\n",
        "\n",
        "\n",
        "The following section represents a simple episode of this loop, we will:\n",
        "\n",
        "1. Import the base Cart-Pole environment from the gym library and explore its functionality.\n",
        "\n",
        "2. Apply modifications to make the environment more challenging by adjusting the pole's dynamics and introducing stochastic forces.\n",
        "\n",
        "3. Sample random actions to control the cart-pole and visualize the process using `renderlab`.\n",
        "\n",
        "These steps will help us understand how the environment behaves under different conditions and prepare us for implementing reinforcement learning agents in later sections.\n",
        "\n"
      ]
    },
    {
      "cell_type": "code",
      "execution_count": 12,
      "metadata": {
        "colab": {
          "base_uri": "https://localhost:8080/",
          "height": 1000
        },
        "id": "x2PMYpIKXtWv",
        "outputId": "f7c649d3-d156-4134-9fc5-2ad1a4f10d87"
      },
      "outputs": [
        {
          "name": "stdout",
          "output_type": "stream",
          "text": [
            "\n",
            "--- Exploring the Base Environment ---\n",
            "Initial Observation: [-0.03885504  0.0280333  -0.00587526 -0.04399119]\n",
            "Action Space: Discrete(2)\n",
            "Observation Space: Box([-4.8               -inf -0.41887903        -inf], [4.8               inf 0.41887903        inf], (4,), float32)\n",
            "\n",
            "--- Sampling Random Actions and Visualizing ---\n"
          ]
        },
        {
          "ename": "NameError",
          "evalue": "name 'rl' is not defined",
          "output_type": "error",
          "traceback": [
            "\u001b[0;31m---------------------------------------------------------------------------\u001b[0m",
            "\u001b[0;31mNameError\u001b[0m                                 Traceback (most recent call last)",
            "Cell \u001b[0;32mIn[12], line 16\u001b[0m\n\u001b[1;32m     14\u001b[0m \u001b[38;5;66;03m# Sample Random Actions and Visualize\u001b[39;00m\n\u001b[1;32m     15\u001b[0m \u001b[38;5;28mprint\u001b[39m(\u001b[38;5;124m\"\u001b[39m\u001b[38;5;130;01m\\n\u001b[39;00m\u001b[38;5;124m--- Sampling Random Actions and Visualizing ---\u001b[39m\u001b[38;5;124m\"\u001b[39m)\n\u001b[0;32m---> 16\u001b[0m env \u001b[38;5;241m=\u001b[39m rl\u001b[38;5;241m.\u001b[39mRenderFrame(env, \u001b[38;5;124m\"\u001b[39m\u001b[38;5;124m./output\u001b[39m\u001b[38;5;124m\"\u001b[39m)\n\u001b[1;32m     17\u001b[0m observation, info \u001b[38;5;241m=\u001b[39m env\u001b[38;5;241m.\u001b[39mreset()\n\u001b[1;32m     18\u001b[0m isDone \u001b[38;5;241m=\u001b[39m \u001b[38;5;28;01mFalse\u001b[39;00m\n",
            "\u001b[0;31mNameError\u001b[0m: name 'rl' is not defined"
          ]
        }
      ],
      "source": [
        "import warnings\n",
        "warnings.filterwarnings('ignore')\n",
        "\n",
        "# Import and Explore the Environment\n",
        "print(\"\\n--- Exploring the Base Environment ---\")\n",
        "env = gym.make(\"CartPole-v1\", render_mode=\"rgb_array\")\n",
        "observation, info = env.reset()\n",
        "\n",
        "# Print information about the environment\n",
        "print(f\"Initial Observation: {observation}\")\n",
        "print(f\"Action Space: {env.action_space}\")  # Discrete actions: 0 (left), 1 (right)\n",
        "print(f\"Observation Space: {env.observation_space}\")  # State variables: cart position, etc.\n",
        "\n",
        "# Sample Random Actions and Visualize\n",
        "print(\"\\n--- Sampling Random Actions and Visualizing ---\")\n",
        "env = rl.RenderFrame(env, \"./output\")\n",
        "observation, info = env.reset()\n",
        "isDone = False\n",
        "\n",
        "# Simulate an episode with random actions\n",
        "while not isDone:\n",
        "    action = env.action_space.sample()  # Take random action\n",
        "    observation, reward, terminated, truncated, info = env.step(action)\n",
        "    print(observation, reward)\n",
        "    isDone = terminated or truncated\n",
        "\n",
        "env.close()\n",
        "env.play()  # Play the recorded video"
      ]
    },
    {
      "cell_type": "markdown",
      "metadata": {
        "id": "s9wjDE0kfFJd"
      },
      "source": [
        "# Define Helper Functions"
      ]
    },
    {
      "cell_type": "markdown",
      "metadata": {
        "id": "B0UFVPRylCdv"
      },
      "source": [
        "## Plotting Functions"
      ]
    },
    {
      "cell_type": "code",
      "execution_count": 13,
      "metadata": {
        "id": "vsmmRtAVlUz_"
      },
      "outputs": [],
      "source": [
        "# Some plotting functions\n",
        "import matplotlib.pyplot as plt\n",
        "\n",
        "def plot_eval_rwd_mean(eval_mean_list):\n",
        "  \"\"\"Plot evaluation reward mean.\"\"\"\n",
        "  # [WriteCode]\n",
        "  plt.plot(np.array([i for i in range(len(eval_mean_list))]), eval_mean_list)\n",
        "  plt.title(\"Evaluation Reward Mean\")\n",
        "  plt.xlabel(\"Episodes\")\n",
        "  plt.ylabel(\"Reward Mean\")\n",
        "  plt.show()\n",
        "\n",
        "\n",
        "\n",
        "def plot_eval_rwd_var(eval_var_list):\n",
        "  \"\"\"Plot evaluation reward variance.\"\"\"\n",
        "  # [WriteCode]\n",
        "  plt.plot(np.array([i for i in range(len(eval_var_list))]), eval_var_list)\n",
        "  plt.title(\"Evaluation Reward Varaince\")\n",
        "  plt.xlabel(\"Episodes\")\n",
        "  plt.ylabel(\"Reward Variance\")\n",
        "  plt.show()\n",
        "\n",
        "\n",
        "\n",
        "def plot_smoothed_training_rwd(train_rwd_list, window_size=20):\n",
        "  \"\"\"Plot smoothed training rewards using a moving average.\"\"\"\n",
        "  y_output = []\n",
        "  x_output = []\n",
        "  # [WriteCode]\n",
        "  for idx in range(len(train_rwd_list) - window_size):\n",
        "    current_window = train_rwd_list[idx:idx + window_size]\n",
        "    y_output.append(sum(current_window) / window_size)\n",
        "    x_output.append(idx)\n",
        "  plt.plot(x_output, y_output)\n",
        "  plt.title(\"Smoothed Training Rewards\")\n",
        "  plt.xlabel(\"Episodes\")\n",
        "  plt.ylabel(\"Average training rewards\")\n",
        "  plt.show()\n"
      ]
    },
    {
      "cell_type": "markdown",
      "metadata": {
        "id": "N7hA67eaYkCW"
      },
      "source": [
        "## Evaluation Function\n",
        "\n",
        "Evaluate the learnt policy by running 3 evaluation episodes and computing the average and variance of rewards collected."
      ]
    },
    {
      "cell_type": "code",
      "execution_count": 15,
      "metadata": {
        "id": "kKS1vpSmYjyg"
      },
      "outputs": [],
      "source": [
        "def evaluation(model, max_timesteps=500):\n",
        "    eval_env = gym.make(\"CartPole-v1\", render_mode=\"rgb_array\")\n",
        "    state_size = eval_env.observation_space.shape[0] # Number of observations (CartPole)\n",
        "    action_size = eval_env.action_space.n            # Number of possible actions\n",
        "    eval_reward = []\n",
        "\n",
        "    for i in range (3):\n",
        "        round_reward = 0\n",
        "        state, _ = eval_env.reset()\n",
        "        state = np.reshape(state, [1, state_size])\n",
        "\n",
        "        for i in range(max_timesteps):\n",
        "            action = np.argmax(model.predict(state, verbose=0)[0])\n",
        "            next_state, reward, terminated, truncated, _ = eval_env.step(action)\n",
        "            next_state = np.reshape(next_state, [1, state_size])\n",
        "\n",
        "            round_reward += reward\n",
        "            state = next_state\n",
        "\n",
        "            if terminated or truncated:\n",
        "                eval_reward.append(round_reward)\n",
        "                break\n",
        "\n",
        "    eval_env.close()\n",
        "\n",
        "    eval_reward_mean = np.sum(eval_reward)/len(eval_reward)\n",
        "    eval_reward_var = np.var(eval_reward)\n",
        "\n",
        "    return eval_reward_mean, eval_reward_var"
      ]
    },
    {
      "cell_type": "markdown",
      "metadata": {
        "id": "kWS8Kd8eiXau"
      },
      "source": [
        "# Setting up Tensorboard\n"
      ]
    },
    {
      "cell_type": "code",
      "execution_count": 16,
      "metadata": {
        "id": "ADO90Q7Hs-lx"
      },
      "outputs": [],
      "source": [
        "def get_run_logdir(k):\n",
        "    root_logdir = os.path.join(os.curdir, \"ee4802_logs\", k)\n",
        "    run_id = time.strftime(\"run_%Y_%m_%d-%H_%M_%S\")\n",
        "    return os.path.join(root_logdir, run_id)"
      ]
    },
    {
      "cell_type": "markdown",
      "metadata": {
        "id": "B07kopgXtOVU"
      },
      "source": [
        "# Initialize Parameters"
      ]
    },
    {
      "cell_type": "code",
      "execution_count": 17,
      "metadata": {
        "id": "JL9ABa8-vRf3"
      },
      "outputs": [],
      "source": [
        "# Use the following set of NN hyperparameters for ALL FOUR basline policies\n",
        "lr =  0.1    #@param {type:\"number\"}               # learning rate\n",
        "epoch =  32     #@param {type:\"number\"}               # epochs\n",
        "episode = 500  #@param {type:\"number\"}               # episodes\n",
        "\n",
        "epsilon = 0.9           #@param {type:\"number\"}     # Starting exploration rate\n",
        "epsilon_min = 0.1    #@param {type:\"number\"}     # Exploration rate min\n",
        "epsilon_decay = 0.99    #@param {type:\"number\"}     # Exploration rate decay\n",
        "\n",
        "gamma = 0.99          #@param {type:\"number\"}     # Agent discount factor\n",
        "\n",
        "# Use the following set of NN hyperparameters for Naive DQN, DQN and DDQN policies\n",
        "ba =  32       #@param {type:\"number\"}               # batch_size\n",
        "\n",
        "# Use the following set of RL hyperparameters for DQN and DDQN policies\n",
        "target_update_freq = 100 # @param {type:\"number\"}    # Target network update frequency\n"
      ]
    },
    {
      "cell_type": "markdown",
      "metadata": {
        "id": "npUYex5Em46O"
      },
      "source": [
        "# Q-Network - Baseline"
      ]
    },
    {
      "cell_type": "markdown",
      "metadata": {
        "id": "XLr4PDQ7nC5T"
      },
      "source": [
        "## Define and Compile the Neural Network\n",
        "\n",
        "A single network $Q_\\theta$ (parameterized by $\\theta$) is used to approximate $Q(s,a)$.\n",
        "\n",
        "The target used by Naive DQN is then:\n",
        "\n",
        "$Y^{NaiveQ}_t = R_{t+1} + \\gamma Q_{\\theta}(S_{t+1}, a)$\n",
        "\n",
        "The training of Q-Network does not rely on a Replay Buffer."
      ]
    },
    {
      "cell_type": "code",
      "execution_count": 9,
      "metadata": {
        "colab": {
          "base_uri": "https://localhost:8080/",
          "height": 232
        },
        "id": "WyXho4UKpH3Q",
        "outputId": "e87961d7-3927-4ac7-80bf-526ad7cb2c1a"
      },
      "outputs": [
        {
          "data": {
            "text/html": [
              "<pre style=\"white-space:pre;overflow-x:auto;line-height:normal;font-family:Menlo,'DejaVu Sans Mono',consolas,'Courier New',monospace\"><span style=\"font-weight: bold\">Model: \"sequential_2\"</span>\n",
              "</pre>\n"
            ],
            "text/plain": [
              "\u001b[1mModel: \"sequential_2\"\u001b[0m\n"
            ]
          },
          "metadata": {},
          "output_type": "display_data"
        },
        {
          "data": {
            "text/html": [
              "<pre style=\"white-space:pre;overflow-x:auto;line-height:normal;font-family:Menlo,'DejaVu Sans Mono',consolas,'Courier New',monospace\">┏━━━━━━━━━━━━━━━━━━━━━━━━━━━━━━━━━┳━━━━━━━━━━━━━━━━━━━━━━━━┳━━━━━━━━━━━━━━━┓\n",
              "┃<span style=\"font-weight: bold\"> Layer (type)                    </span>┃<span style=\"font-weight: bold\"> Output Shape           </span>┃<span style=\"font-weight: bold\">       Param # </span>┃\n",
              "┡━━━━━━━━━━━━━━━━━━━━━━━━━━━━━━━━━╇━━━━━━━━━━━━━━━━━━━━━━━━╇━━━━━━━━━━━━━━━┩\n",
              "│ dense_3 (<span style=\"color: #0087ff; text-decoration-color: #0087ff\">Dense</span>)                 │ (<span style=\"color: #00d7ff; text-decoration-color: #00d7ff\">None</span>, <span style=\"color: #00af00; text-decoration-color: #00af00\">32</span>)             │           <span style=\"color: #00af00; text-decoration-color: #00af00\">160</span> │\n",
              "├─────────────────────────────────┼────────────────────────┼───────────────┤\n",
              "│ dense_4 (<span style=\"color: #0087ff; text-decoration-color: #0087ff\">Dense</span>)                 │ (<span style=\"color: #00d7ff; text-decoration-color: #00d7ff\">None</span>, <span style=\"color: #00af00; text-decoration-color: #00af00\">32</span>)             │         <span style=\"color: #00af00; text-decoration-color: #00af00\">1,056</span> │\n",
              "├─────────────────────────────────┼────────────────────────┼───────────────┤\n",
              "│ dense_5 (<span style=\"color: #0087ff; text-decoration-color: #0087ff\">Dense</span>)                 │ (<span style=\"color: #00d7ff; text-decoration-color: #00d7ff\">None</span>, <span style=\"color: #00af00; text-decoration-color: #00af00\">2</span>)              │            <span style=\"color: #00af00; text-decoration-color: #00af00\">66</span> │\n",
              "└─────────────────────────────────┴────────────────────────┴───────────────┘\n",
              "</pre>\n"
            ],
            "text/plain": [
              "┏━━━━━━━━━━━━━━━━━━━━━━━━━━━━━━━━━┳━━━━━━━━━━━━━━━━━━━━━━━━┳━━━━━━━━━━━━━━━┓\n",
              "┃\u001b[1m \u001b[0m\u001b[1mLayer (type)                   \u001b[0m\u001b[1m \u001b[0m┃\u001b[1m \u001b[0m\u001b[1mOutput Shape          \u001b[0m\u001b[1m \u001b[0m┃\u001b[1m \u001b[0m\u001b[1m      Param #\u001b[0m\u001b[1m \u001b[0m┃\n",
              "┡━━━━━━━━━━━━━━━━━━━━━━━━━━━━━━━━━╇━━━━━━━━━━━━━━━━━━━━━━━━╇━━━━━━━━━━━━━━━┩\n",
              "│ dense_3 (\u001b[38;5;33mDense\u001b[0m)                 │ (\u001b[38;5;45mNone\u001b[0m, \u001b[38;5;34m32\u001b[0m)             │           \u001b[38;5;34m160\u001b[0m │\n",
              "├─────────────────────────────────┼────────────────────────┼───────────────┤\n",
              "│ dense_4 (\u001b[38;5;33mDense\u001b[0m)                 │ (\u001b[38;5;45mNone\u001b[0m, \u001b[38;5;34m32\u001b[0m)             │         \u001b[38;5;34m1,056\u001b[0m │\n",
              "├─────────────────────────────────┼────────────────────────┼───────────────┤\n",
              "│ dense_5 (\u001b[38;5;33mDense\u001b[0m)                 │ (\u001b[38;5;45mNone\u001b[0m, \u001b[38;5;34m2\u001b[0m)              │            \u001b[38;5;34m66\u001b[0m │\n",
              "└─────────────────────────────────┴────────────────────────┴───────────────┘\n"
            ]
          },
          "metadata": {},
          "output_type": "display_data"
        },
        {
          "data": {
            "text/html": [
              "<pre style=\"white-space:pre;overflow-x:auto;line-height:normal;font-family:Menlo,'DejaVu Sans Mono',consolas,'Courier New',monospace\"><span style=\"font-weight: bold\"> Total params: </span><span style=\"color: #00af00; text-decoration-color: #00af00\">1,282</span> (5.01 KB)\n",
              "</pre>\n"
            ],
            "text/plain": [
              "\u001b[1m Total params: \u001b[0m\u001b[38;5;34m1,282\u001b[0m (5.01 KB)\n"
            ]
          },
          "metadata": {},
          "output_type": "display_data"
        },
        {
          "data": {
            "text/html": [
              "<pre style=\"white-space:pre;overflow-x:auto;line-height:normal;font-family:Menlo,'DejaVu Sans Mono',consolas,'Courier New',monospace\"><span style=\"font-weight: bold\"> Trainable params: </span><span style=\"color: #00af00; text-decoration-color: #00af00\">1,282</span> (5.01 KB)\n",
              "</pre>\n"
            ],
            "text/plain": [
              "\u001b[1m Trainable params: \u001b[0m\u001b[38;5;34m1,282\u001b[0m (5.01 KB)\n"
            ]
          },
          "metadata": {},
          "output_type": "display_data"
        },
        {
          "data": {
            "text/html": [
              "<pre style=\"white-space:pre;overflow-x:auto;line-height:normal;font-family:Menlo,'DejaVu Sans Mono',consolas,'Courier New',monospace\"><span style=\"font-weight: bold\"> Non-trainable params: </span><span style=\"color: #00af00; text-decoration-color: #00af00\">0</span> (0.00 B)\n",
              "</pre>\n"
            ],
            "text/plain": [
              "\u001b[1m Non-trainable params: \u001b[0m\u001b[38;5;34m0\u001b[0m (0.00 B)\n"
            ]
          },
          "metadata": {},
          "output_type": "display_data"
        }
      ],
      "source": [
        "# Q-Network Baseline Model\n",
        "from keras.models import Sequential\n",
        "from keras.layers import Dense\n",
        "from keras.initializers import RandomUniform\n",
        "\n",
        "# [WriteCode] from ... import ...\n",
        "from keras.optimizers import Adam\n",
        "\n",
        "# Define the Q-network\n",
        "model = Sequential()\n",
        "\n",
        "# [WriteCode]\n",
        "# model.add(...\n",
        "initializer = RandomUniform(minval=-0.5, maxval=0.5, seed=42)\n",
        "initializer_1 = RandomUniform(minval=-5, maxval=5, seed=42)\n",
        "model.add(Dense(32, input_dim=4, activation='tanh', kernel_initializer=initializer))  # Input layer with 4 observables\n",
        "model.add(Dense(32, activation='tanh', kernel_initializer=initializer_1))  # Hidden layer\n",
        "model.add(Dense(2, activation='linear'))  # Output layer action\n",
        "\n",
        "# Compile the model\n",
        "# [WriteCode]\n",
        "model.compile(loss='mse', optimizer='Adam')\n",
        "\n",
        "\n",
        "# Print the model summary\n",
        "# [WriteCode]\n",
        "model.summary()"
      ]
    },
    {
      "cell_type": "markdown",
      "metadata": {
        "id": "PunGDA41nK-t"
      },
      "source": [
        "## Set Up Env and Train the Policy"
      ]
    },
    {
      "cell_type": "code",
      "execution_count": 10,
      "metadata": {
        "colab": {
          "base_uri": "https://localhost:8080/",
          "height": 365
        },
        "id": "-cDAJtaGnCQL",
        "outputId": "b426776a-3e67-46ee-8504-2fab1d7e034e"
      },
      "outputs": [
        {
          "ename": "NameError",
          "evalue": "name 'get_run_logdir' is not defined",
          "output_type": "error",
          "traceback": [
            "\u001b[0;31m---------------------------------------------------------------------------\u001b[0m",
            "\u001b[0;31mNameError\u001b[0m                                 Traceback (most recent call last)",
            "Cell \u001b[0;32mIn[10], line 13\u001b[0m\n\u001b[1;32m     10\u001b[0m action_size \u001b[38;5;241m=\u001b[39m env\u001b[38;5;241m.\u001b[39maction_space\u001b[38;5;241m.\u001b[39mn            \u001b[38;5;66;03m# Number of possible actions\u001b[39;00m\n\u001b[1;32m     12\u001b[0m model_dir \u001b[38;5;241m=\u001b[39m \u001b[38;5;124m\"\u001b[39m\u001b[38;5;124mq_net_baseline\u001b[39m\u001b[38;5;124m\"\u001b[39m  \u001b[38;5;66;03m# TensorBoard log directory\u001b[39;00m\n\u001b[0;32m---> 13\u001b[0m cb \u001b[38;5;241m=\u001b[39m keras\u001b[38;5;241m.\u001b[39mcallbacks\u001b[38;5;241m.\u001b[39mTensorBoard(log_dir \u001b[38;5;241m=\u001b[39m get_run_logdir(model_dir), histogram_freq\u001b[38;5;241m=\u001b[39m\u001b[38;5;241m1\u001b[39m)\n\u001b[1;32m     15\u001b[0m \u001b[38;5;66;03m# For timing training\u001b[39;00m\n\u001b[1;32m     16\u001b[0m total_training_time \u001b[38;5;241m=\u001b[39m \u001b[38;5;241m0\u001b[39m\n",
            "\u001b[0;31mNameError\u001b[0m: name 'get_run_logdir' is not defined"
          ]
        }
      ],
      "source": [
        "# For logging\n",
        "train_reward_lst = []\n",
        "eval_reward_mean_lst = []\n",
        "eval_reward_var_lst = []\n",
        "\n",
        "\n",
        "# Set up environment\n",
        "env = gym.make(\"CartPole-v1\", render_mode=\"rgb_array\")\n",
        "state_size = env.observation_space.shape[0] # Number of observations (CartPole)\n",
        "action_size = env.action_space.n            # Number of possible actions\n",
        "\n",
        "model_dir = \"q_net_baseline\"  # TensorBoard log directory\n",
        "cb = keras.callbacks.TensorBoard(log_dir = get_run_logdir(model_dir), histogram_freq=1)\n",
        "\n",
        "# For timing training\n",
        "total_training_time = 0\n",
        "\n",
        "\n",
        "for ep in range(episode):\n",
        "    state, _ = env.reset()\n",
        "    state = np.reshape(state, [1, state_size])\n",
        "    total_reward = 0\n",
        "\n",
        "    # record start time\n",
        "    start = time.time()\n",
        "\n",
        "    for _ in range(500):\n",
        "        # Interact with the environment with epsilon-greedy policy\n",
        "        if np.random.rand() <= epsilon:\n",
        "            action = np.random.choice(action_size)\n",
        "        else:\n",
        "            q_values = model.predict(state, verbose=0)\n",
        "            action = np.argmax(q_values)\n",
        "\n",
        "        next_state, reward, terminated, truncated, _ = env.step(action)\n",
        "        next_state = np.reshape(next_state, [1, state_size])\n",
        "        done = terminated or truncated\n",
        "\n",
        "        # Train model using Q-Learning update:  Q(s, a) = r + gamma * max Q(s', a')\n",
        "        # [WriteCode]\n",
        "        q_values = model.predict(state, verbose=0)\n",
        "        target_q_values = q_values.copy()\n",
        "\n",
        "        if done:\n",
        "            target_q_values[0][action] = reward  # No future reward if done\n",
        "        else:\n",
        "            future_q = np.max(model.predict(next_state, verbose=0))\n",
        "            target_q_values[0][action] = reward + gamma * future_q  # Bellman update\n",
        "        model.fit(state, target_q_values, epochs=1, verbose=0) # fit the model\n",
        "\n",
        "        # Hints:\n",
        "\n",
        "        # 1. Compute target Q-values:\n",
        "        # - If done, Q-target = reward (no future reward)\n",
        "        # - Otherwise, Q-target = reward + gamma * max(Q(next_state, a))\n",
        "\n",
        "        # 2. Predict current Q-values for state\n",
        "        # Update only the Q-value for the taken action\n",
        "\n",
        "        # 3. Fit the model:\n",
        "        # - Inputs: state\n",
        "        # - Targets: updated Q-values (with action Q-value replaced by computed target)\n",
        "\n",
        "\n",
        "        # Update exploration rate\n",
        "        if epsilon > epsilon_min:\n",
        "            epsilon *= epsilon_decay\n",
        "\n",
        "        state = next_state\n",
        "        total_reward += reward\n",
        "\n",
        "        if done:\n",
        "            break\n",
        "\n",
        "    # record end time and log training time\n",
        "    end = time.time()\n",
        "    total_training_time += end - start\n",
        "\n",
        "    # Evaluation\n",
        "    # [WriteCode]\n",
        "    eval_rewards = []\n",
        "    for _ in range(10):  # Run 10 test episodes\n",
        "        state, _ = env.reset()\n",
        "        state = np.reshape(state, [1, state_size])\n",
        "        total_eval_reward = 0\n",
        "        for _ in range(500):\n",
        "            q_values = model.predict(state, verbose=0)\n",
        "            action = np.argmax(q_values)  # Greedy action (no exploration)\n",
        "            next_state, reward, terminated, truncated, _ = env.step(action)\n",
        "            next_state = np.reshape(next_state, [1, state_size])\n",
        "            total_eval_reward += reward\n",
        "            state = next_state\n",
        "            if terminated or truncated:\n",
        "                break\n",
        "        eval_rewards.append(total_eval_reward)\n",
        "    eval_reward_mean = np.mean(eval_rewards)\n",
        "    eval_reward_var = np.var(eval_rewards)\n",
        "\n",
        "    print(f\"Episode {ep + 1}/{episode} | Ep. Total Reward: {total_reward}\"\n",
        "        f\" | Epsilon : {epsilon:.3f}\"\n",
        "        f\" | Eval Rwd Mean: {eval_reward_mean:.2f}\"\n",
        "        f\" | Eval Rwd Var: {eval_reward_var:.2f}\")\n",
        "\n",
        "    # Log\n",
        "    eval_reward_mean_lst.append(eval_reward_mean)\n",
        "    eval_reward_var_lst.append(eval_reward_var)\n",
        "    train_reward_lst.append(total_reward)\n",
        "\n",
        "    # Early Stopping Condition to avoid overfitting\n",
        "    # If the evaluation reward reaches the specified threshold, stop training early.\n",
        "    # The default threshold is set to 500, but you should adjust this based on observed training performance.\n",
        "    if eval_reward_mean >= 500: # [Modify this threshold as needed]\n",
        "        print(f\"Early stopping triggered at Episode {ep + 1}.\")\n",
        "        break\n",
        "\n",
        "# evaluate average training time per episode\n",
        "print(f\"Training time: {total_training_time/(ep + 1):.4f} seconds per episode\")\n",
        "\n",
        "env.close()\n"
      ]
    },
    {
      "cell_type": "markdown",
      "metadata": {
        "id": "qZ86BPQR3AhY"
      },
      "source": [
        "## Plot Results"
      ]
    },
    {
      "cell_type": "code",
      "execution_count": null,
      "metadata": {
        "id": "It8u9fyj3AL5"
      },
      "outputs": [],
      "source": [
        "# Write code to plot\n",
        "# 1) Moving Averaged Training Reward, 2) Evaluation Mean, 3) Evaluation Variance\n",
        "# [Write Code]\n",
        "\n",
        "# plot_smoothed_training_rwd(...\n",
        "\n",
        "# plot_eval_rwd_mean(...\n",
        "\n",
        "# plot_eval_rwd_var(..."
      ]
    },
    {
      "cell_type": "markdown",
      "metadata": {
        "id": "uSlOTDlpm78g"
      },
      "source": [
        "#Q-Network - Alternative"
      ]
    },
    {
      "cell_type": "code",
      "execution_count": null,
      "metadata": {
        "id": "c9zO7SZssiaR"
      },
      "outputs": [],
      "source": [
        "# [Write Code]"
      ]
    },
    {
      "cell_type": "markdown",
      "metadata": {
        "id": "Lg9kBHn2slYF"
      },
      "source": [
        "## Comparison\n",
        "\n",
        "Compare performance of the Baseline and the Alternative Naive Q-Network Policies"
      ]
    },
    {
      "cell_type": "code",
      "execution_count": null,
      "metadata": {
        "id": "E6DiE3YRsm2k"
      },
      "outputs": [],
      "source": [
        "# [Write Code]"
      ]
    },
    {
      "cell_type": "markdown",
      "metadata": {
        "id": "dhgXEg3097Ud"
      },
      "source": [
        "# Experience Replay Framework\n",
        "\n",
        "By now, you may have noticed that in a standard RL setup, the agent **only learns from its most recent experience** at each step. This makes training unstable and inefficient. Additionally, consecutive experiences are often highly correlated, which can lead to poor generalization.\n",
        "\n",
        "To address this, we will adopt the **Experience Replay Framework**, where past interactions are stored in a **Replay Buffer** and **a randomly sampled batch** is used to update the decision-making policy. This helps to:\n",
        "\n",
        "- **Break correlation** between consecutive experiences, stabilizing learning.\n",
        "- **Improve data efficiency** by reusing past experiences multiple times.\n",
        "- **Smooth training updates**, preventing abrupt policy changes.\n",
        "\n",
        "The figure below illustrates this process:\n",
        "\n",
        "<img src=\"https://drive.google.com/uc?export=view&id=1S3Z6Ngpzwz3haycLS-rzx-eBe9QT88MJ\" width=\"400\">\n",
        "\n",
        "- The Agent interacts with the Environment, taking actions based on its learned policy.\n",
        "- The Replay Buffer stores past experiences `(state, action, reward, next state, done)`.\n",
        "- Instead of updating after every step, the agent samples from the buffer and learns from past interactions.\n",
        "\n",
        "This framework is used in naive DQN, DQN and DDQN to stabilize Q-learning.\n",
        "\n"
      ]
    },
    {
      "cell_type": "markdown",
      "metadata": {
        "id": "CkfcXDjNriXH"
      },
      "source": [
        "## Implement Replay Buffer and Functions"
      ]
    },
    {
      "cell_type": "code",
      "execution_count": 19,
      "metadata": {
        "colab": {
          "base_uri": "https://localhost:8080/",
          "height": 89
        },
        "id": "lJH9KigXsX8Y",
        "outputId": "afc97d5f-2851-43b1-cef7-2bfec8680e6b"
      },
      "outputs": [
        {
          "data": {
            "text/plain": [
              "'\\n# Define replay buffer\\nreplay_buffer = deque(maxlen=10000)\\n\\n# Store experience tuple into replay_buffer\\nstore_experience(replay_buffer, state, action, reward, next_state, done)\\n\\n# Sample mini-batch of size ba from replay_buffer\\nstates, actions, rewards, next_states, dones = sample_experience(replay_buffer, ba)\\n'"
            ]
          },
          "execution_count": 19,
          "metadata": {},
          "output_type": "execute_result"
        }
      ],
      "source": [
        "# Store (state, action, reward, next_state, done)\n",
        "def store_experience(replay_buffer, state, action, reward, next_stat, done):\n",
        "        replay_buffer.append((state, action, reward, next_state, done))\n",
        "\n",
        "# Sample (state, action, reward, next_state, done) mini-batch for training\n",
        "def sample_experience(replay_buffer, batch_size):\n",
        "\n",
        "    # Ensure we have enough samples\n",
        "    assert len(replay_buffer) >= batch_size, (\n",
        "        f\"Not enough samples in buffer to sample {batch_size} items.\")\n",
        "\n",
        "    # Sample a mini-batch\n",
        "    minibatch = random.sample(replay_buffer, batch_size)\n",
        "\n",
        "    states, actions, rewards, next_states, dones = zip(*minibatch)\n",
        "\n",
        "    states = np.array(states, dtype=np.float32).squeeze()\n",
        "    next_states = np.array(next_states, dtype=np.float32).squeeze()\n",
        "    actions = np.array(actions, dtype=np.int32)\n",
        "    rewards = np.array(rewards, dtype=np.float32)\n",
        "    dones = np.array(dones, dtype=np.float32)\n",
        "\n",
        "    return states, actions, rewards, next_states, dones\n",
        "\n",
        "# [Hint] You may find the following statements useful\n",
        "\"\"\"\n",
        "# Define replay buffer\n",
        "replay_buffer = deque(maxlen=10000)\n",
        "\n",
        "# Store experience tuple into replay_buffer\n",
        "store_experience(replay_buffer, state, action, reward, next_state, done)\n",
        "\n",
        "# Sample mini-batch of size ba from replay_buffer\n",
        "states, actions, rewards, next_states, dones = sample_experience(replay_buffer, ba)\n",
        "\"\"\""
      ]
    },
    {
      "cell_type": "markdown",
      "metadata": {
        "id": "OCkBN3gIiLFP"
      },
      "source": [
        "# Naive DQN - Baseline\n",
        "\n",
        "In this section, you will complete the Naive DQN alorithm by implementing the missing components marked as `[WriteCode]`.\n",
        "\n"
      ]
    },
    {
      "cell_type": "markdown",
      "metadata": {
        "id": "tyRVFFdXvFYk"
      },
      "source": [
        "## Define and Compile the Neural Network\n",
        "\n",
        "A single network $Q_\\theta$ (parameterized by $\\theta$) is used to approximate $Q(s,a)$.\n",
        "\n",
        "The target used by Naive DQN is then:\n",
        "\n",
        "$Y^{NaiveQ}_t = R_{t+1} + \\gamma Q_{\\theta}(S_{t+1}, a)$"
      ]
    },
    {
      "cell_type": "code",
      "execution_count": 20,
      "metadata": {},
      "outputs": [],
      "source": [
        "%load_ext tensorboard"
      ]
    },
    {
      "cell_type": "code",
      "execution_count": 21,
      "metadata": {
        "colab": {
          "base_uri": "https://localhost:8080/",
          "height": 232
        },
        "id": "83PVW-l7DRc6",
        "outputId": "59591699-eaa0-4d11-d159-0c65fbfe59eb"
      },
      "outputs": [
        {
          "data": {
            "text/html": [
              "<pre style=\"white-space:pre;overflow-x:auto;line-height:normal;font-family:Menlo,'DejaVu Sans Mono',consolas,'Courier New',monospace\"><span style=\"font-weight: bold\">Model: \"sequential\"</span>\n",
              "</pre>\n"
            ],
            "text/plain": [
              "\u001b[1mModel: \"sequential\"\u001b[0m\n"
            ]
          },
          "metadata": {},
          "output_type": "display_data"
        },
        {
          "data": {
            "text/html": [
              "<pre style=\"white-space:pre;overflow-x:auto;line-height:normal;font-family:Menlo,'DejaVu Sans Mono',consolas,'Courier New',monospace\">┏━━━━━━━━━━━━━━━━━━━━━━━━━━━━━━━━━┳━━━━━━━━━━━━━━━━━━━━━━━━┳━━━━━━━━━━━━━━━┓\n",
              "┃<span style=\"font-weight: bold\"> Layer (type)                    </span>┃<span style=\"font-weight: bold\"> Output Shape           </span>┃<span style=\"font-weight: bold\">       Param # </span>┃\n",
              "┡━━━━━━━━━━━━━━━━━━━━━━━━━━━━━━━━━╇━━━━━━━━━━━━━━━━━━━━━━━━╇━━━━━━━━━━━━━━━┩\n",
              "│ dense (<span style=\"color: #0087ff; text-decoration-color: #0087ff\">Dense</span>)                   │ (<span style=\"color: #00d7ff; text-decoration-color: #00d7ff\">None</span>, <span style=\"color: #00af00; text-decoration-color: #00af00\">32</span>)             │           <span style=\"color: #00af00; text-decoration-color: #00af00\">160</span> │\n",
              "├─────────────────────────────────┼────────────────────────┼───────────────┤\n",
              "│ dense_1 (<span style=\"color: #0087ff; text-decoration-color: #0087ff\">Dense</span>)                 │ (<span style=\"color: #00d7ff; text-decoration-color: #00d7ff\">None</span>, <span style=\"color: #00af00; text-decoration-color: #00af00\">32</span>)             │         <span style=\"color: #00af00; text-decoration-color: #00af00\">1,056</span> │\n",
              "├─────────────────────────────────┼────────────────────────┼───────────────┤\n",
              "│ dense_2 (<span style=\"color: #0087ff; text-decoration-color: #0087ff\">Dense</span>)                 │ (<span style=\"color: #00d7ff; text-decoration-color: #00d7ff\">None</span>, <span style=\"color: #00af00; text-decoration-color: #00af00\">2</span>)              │            <span style=\"color: #00af00; text-decoration-color: #00af00\">66</span> │\n",
              "└─────────────────────────────────┴────────────────────────┴───────────────┘\n",
              "</pre>\n"
            ],
            "text/plain": [
              "┏━━━━━━━━━━━━━━━━━━━━━━━━━━━━━━━━━┳━━━━━━━━━━━━━━━━━━━━━━━━┳━━━━━━━━━━━━━━━┓\n",
              "┃\u001b[1m \u001b[0m\u001b[1mLayer (type)                   \u001b[0m\u001b[1m \u001b[0m┃\u001b[1m \u001b[0m\u001b[1mOutput Shape          \u001b[0m\u001b[1m \u001b[0m┃\u001b[1m \u001b[0m\u001b[1m      Param #\u001b[0m\u001b[1m \u001b[0m┃\n",
              "┡━━━━━━━━━━━━━━━━━━━━━━━━━━━━━━━━━╇━━━━━━━━━━━━━━━━━━━━━━━━╇━━━━━━━━━━━━━━━┩\n",
              "│ dense (\u001b[38;5;33mDense\u001b[0m)                   │ (\u001b[38;5;45mNone\u001b[0m, \u001b[38;5;34m32\u001b[0m)             │           \u001b[38;5;34m160\u001b[0m │\n",
              "├─────────────────────────────────┼────────────────────────┼───────────────┤\n",
              "│ dense_1 (\u001b[38;5;33mDense\u001b[0m)                 │ (\u001b[38;5;45mNone\u001b[0m, \u001b[38;5;34m32\u001b[0m)             │         \u001b[38;5;34m1,056\u001b[0m │\n",
              "├─────────────────────────────────┼────────────────────────┼───────────────┤\n",
              "│ dense_2 (\u001b[38;5;33mDense\u001b[0m)                 │ (\u001b[38;5;45mNone\u001b[0m, \u001b[38;5;34m2\u001b[0m)              │            \u001b[38;5;34m66\u001b[0m │\n",
              "└─────────────────────────────────┴────────────────────────┴───────────────┘\n"
            ]
          },
          "metadata": {},
          "output_type": "display_data"
        },
        {
          "data": {
            "text/html": [
              "<pre style=\"white-space:pre;overflow-x:auto;line-height:normal;font-family:Menlo,'DejaVu Sans Mono',consolas,'Courier New',monospace\"><span style=\"font-weight: bold\"> Total params: </span><span style=\"color: #00af00; text-decoration-color: #00af00\">1,282</span> (5.01 KB)\n",
              "</pre>\n"
            ],
            "text/plain": [
              "\u001b[1m Total params: \u001b[0m\u001b[38;5;34m1,282\u001b[0m (5.01 KB)\n"
            ]
          },
          "metadata": {},
          "output_type": "display_data"
        },
        {
          "data": {
            "text/html": [
              "<pre style=\"white-space:pre;overflow-x:auto;line-height:normal;font-family:Menlo,'DejaVu Sans Mono',consolas,'Courier New',monospace\"><span style=\"font-weight: bold\"> Trainable params: </span><span style=\"color: #00af00; text-decoration-color: #00af00\">1,282</span> (5.01 KB)\n",
              "</pre>\n"
            ],
            "text/plain": [
              "\u001b[1m Trainable params: \u001b[0m\u001b[38;5;34m1,282\u001b[0m (5.01 KB)\n"
            ]
          },
          "metadata": {},
          "output_type": "display_data"
        },
        {
          "data": {
            "text/html": [
              "<pre style=\"white-space:pre;overflow-x:auto;line-height:normal;font-family:Menlo,'DejaVu Sans Mono',consolas,'Courier New',monospace\"><span style=\"font-weight: bold\"> Non-trainable params: </span><span style=\"color: #00af00; text-decoration-color: #00af00\">0</span> (0.00 B)\n",
              "</pre>\n"
            ],
            "text/plain": [
              "\u001b[1m Non-trainable params: \u001b[0m\u001b[38;5;34m0\u001b[0m (0.00 B)\n"
            ]
          },
          "metadata": {},
          "output_type": "display_data"
        }
      ],
      "source": [
        "# Naive DQN Baseline Model\n",
        "from keras.models import Sequential\n",
        "from keras.layers import Input, Dense\n",
        "from keras.initializers import RandomUniform\n",
        "\n",
        "state_size = (4,) # Number of observations (CartPole)\n",
        "action_size = 2        # Number of possible actions\n",
        "\n",
        "# [WriteCode] from ... import ...\n",
        "from keras.optimizers import Adam\n",
        "# Define the Q-network\n",
        "model = Sequential()\n",
        "\n",
        "# [WriteCode]\n",
        "# model.add(...\n",
        "model.add(Input(shape=state_size))\n",
        "initialiser = RandomUniform(minval=-0.5, maxval=0.5, seed=42)\n",
        "initialiser_1 = RandomUniform(minval=-5, maxval=5, seed=42)\n",
        "model.add(Dense(32, activation='tanh', kernel_initializer=initialiser))  # First hidden layer\n",
        "model.add(Dense(32, activation='tanh', kernel_initializer=initialiser_1))  # Second hidden layer\n",
        "model.add(Dense(action_size))  # Output layer (Q-values for each action)\n",
        "\n",
        "# Compile the model\n",
        "# [WriteCode]\n",
        "model.compile(optimizer='Adam', loss='mean_squared_error')\n",
        "\n",
        "# Print the model summary\n",
        "# [WriteCode]\n",
        "model.summary()"
      ]
    },
    {
      "cell_type": "markdown",
      "metadata": {
        "id": "c9X6H46OIExH"
      },
      "source": [
        "## Set Up Env and Train the Policy"
      ]
    },
    {
      "cell_type": "code",
      "execution_count": 22,
      "metadata": {
        "colab": {
          "base_uri": "https://localhost:8080/"
        },
        "id": "wK70zqKbIHWJ",
        "outputId": "be4160d7-9a1e-4943-b411-bc0597509ffd"
      },
      "outputs": [
        {
          "name": "stdout",
          "output_type": "stream",
          "text": [
            "Episode 1/500 | Ep. Total Reward: 48.0 | Epsilon : 0.766 | Eval Rwd Mean: 72.33 | Eval Rwd Var: 704.89\n",
            "Episode 2/500 | Ep. Total Reward: 12.0 | Epsilon : 0.686 | Eval Rwd Mean: 93.00 | Eval Rwd Var: 116.67\n",
            "Episode 3/500 | Ep. Total Reward: 126.0 | Epsilon : 0.195 | Eval Rwd Mean: 123.00 | Eval Rwd Var: 412.67\n",
            "Episode 4/500 | Ep. Total Reward: 37.0 | Epsilon : 0.136 | Eval Rwd Mean: 57.00 | Eval Rwd Var: 8.00\n",
            "Episode 5/500 | Ep. Total Reward: 52.0 | Epsilon : 0.100 | Eval Rwd Mean: 66.33 | Eval Rwd Var: 21.56\n",
            "Episode 6/500 | Ep. Total Reward: 298.0 | Epsilon : 0.100 | Eval Rwd Mean: 189.33 | Eval Rwd Var: 54.89\n",
            "Episode 7/500 | Ep. Total Reward: 316.0 | Epsilon : 0.100 | Eval Rwd Mean: 86.33 | Eval Rwd Var: 1.56\n",
            "Episode 8/500 | Ep. Total Reward: 113.0 | Epsilon : 0.100 | Eval Rwd Mean: 108.33 | Eval Rwd Var: 32.89\n",
            "Episode 9/500 | Ep. Total Reward: 159.0 | Epsilon : 0.100 | Eval Rwd Mean: 170.67 | Eval Rwd Var: 22.22\n",
            "Episode 10/500 | Ep. Total Reward: 150.0 | Epsilon : 0.100 | Eval Rwd Mean: 101.00 | Eval Rwd Var: 8.00\n",
            "Episode 11/500 | Ep. Total Reward: 156.0 | Epsilon : 0.100 | Eval Rwd Mean: 99.33 | Eval Rwd Var: 33.56\n",
            "Episode 12/500 | Ep. Total Reward: 170.0 | Epsilon : 0.100 | Eval Rwd Mean: 106.33 | Eval Rwd Var: 4.22\n",
            "Episode 13/500 | Ep. Total Reward: 146.0 | Epsilon : 0.100 | Eval Rwd Mean: 133.67 | Eval Rwd Var: 24.22\n",
            "Episode 14/500 | Ep. Total Reward: 67.0 | Epsilon : 0.100 | Eval Rwd Mean: 103.67 | Eval Rwd Var: 6.89\n",
            "Episode 15/500 | Ep. Total Reward: 340.0 | Epsilon : 0.100 | Eval Rwd Mean: 110.00 | Eval Rwd Var: 8.67\n",
            "Episode 16/500 | Ep. Total Reward: 36.0 | Epsilon : 0.100 | Eval Rwd Mean: 105.33 | Eval Rwd Var: 6.89\n",
            "Episode 17/500 | Ep. Total Reward: 32.0 | Epsilon : 0.100 | Eval Rwd Mean: 124.33 | Eval Rwd Var: 22.22\n",
            "Episode 18/500 | Ep. Total Reward: 105.0 | Epsilon : 0.100 | Eval Rwd Mean: 500.00 | Eval Rwd Var: 0.00\n",
            "Early stopping triggered at Episode 18.\n",
            "Training time: 2.9617 seconds per episode\n"
          ]
        }
      ],
      "source": [
        "# For logging\n",
        "train_reward_lst = []\n",
        "eval_reward_mean_lst = []\n",
        "eval_reward_var_lst = []\n",
        "\n",
        "# Set up environment\n",
        "env = gym.make(\"CartPole-v1\", render_mode=\"rgb_array\")\n",
        "state_size = env.observation_space.shape[0] # Number of observations (CartPole)\n",
        "action_size = env.action_space.n            # Number of possible actions\n",
        "\n",
        "model_dir = \"naive_dqn_baseline\"  # TensorBoard log directory\n",
        "cb = keras.callbacks.TensorBoard(log_dir = get_run_logdir(model_dir), histogram_freq=1)\n",
        "\n",
        "# For timing training\n",
        "total_training_time = 0\n",
        "\n",
        "# Define replay buffer\n",
        "# [WriteCode]\n",
        "replay_buffer = deque(maxlen=10000)\n",
        "\n",
        "for ep in range(episode):\n",
        "    state, _ = env.reset()\n",
        "    state = np.reshape(state, [1, state_size])\n",
        "    total_reward = 0\n",
        "\n",
        "    # record start time\n",
        "    start = time.time()\n",
        "\n",
        "    for _ in range(500):\n",
        "        # Interact with the environment with epsilon-greedy policy\n",
        "        if np.random.rand() <= epsilon:\n",
        "            action = np.random.choice(action_size)\n",
        "        else:\n",
        "            q_values = model.predict(state, verbose=0)\n",
        "            action = np.argmax(q_values)\n",
        "\n",
        "        next_state, reward, terminated, truncated, _ = env.step(action)\n",
        "        next_state = np.reshape(next_state, [1, state_size])\n",
        "        done = terminated or truncated\n",
        "\n",
        "        # store experience into replay buffer\n",
        "        # [WriteCode]\n",
        "        store_experience(replay_buffer, state, action, reward, next_state, done)\n",
        "\n",
        "        state = next_state\n",
        "        total_reward += reward\n",
        "\n",
        "        if done:\n",
        "            break\n",
        "\n",
        "\n",
        "        if len(replay_buffer) >= ba:\n",
        "            # Update policy with mini-batches if replay buffer contains enough samples\n",
        "            # Update policy using Q-Learning update:  Q(s, a) = r + gamma * max Q(s', a')\n",
        "            # [WriteCode]\n",
        "            # Sample a mini-batch\n",
        "            states, actions, rewards, next_states, dones = sample_experience(replay_buffer, ba)\n",
        "\n",
        "            # Compute target Q-values\n",
        "            q_targets = rewards + (gamma * np.amax(model.predict(next_states, verbose=0), axis=1)) * (1 - dones)\n",
        "\n",
        "            # Predict current Q-values for states\n",
        "            q_values = model.predict(states, verbose=0)\n",
        "\n",
        "            # Update Q-value for the taken action\n",
        "            for i, action in enumerate(actions):\n",
        "                q_values[i][action] = q_targets[i]\n",
        "\n",
        "            # Fit the model to the updated Q-values\n",
        "            model.fit(states, q_values, epochs=epoch, verbose=0, callbacks=[cb])\n",
        "\n",
        "\n",
        "            # Hints:\n",
        "\n",
        "            # 1. Compute target Q-values:\n",
        "            # - If done, Q-target = reward (no future reward)\n",
        "            # - Otherwise, Q-target = reward + gamma * max(Q(next_state, a))\n",
        "\n",
        "            # 2. Predict current Q-values for state\n",
        "            # Update only the Q-value for the taken action\n",
        "\n",
        "            # 3. Fit the model:\n",
        "            # - Inputs: state\n",
        "            # - Targets: updated Q-values (with action Q-value replaced by computed target)\n",
        "\n",
        "            # Update exploration rate\n",
        "            if epsilon > epsilon_min:\n",
        "                epsilon *= epsilon_decay\n",
        "\n",
        "    # record end time and log training time\n",
        "    end = time.time()\n",
        "    total_training_time += end - start\n",
        "\n",
        "    # Evaluation\n",
        "    # [WriteCode]\n",
        "    eval_reward_mean, eval_reward_var = evaluation(model)\n",
        "\n",
        "\n",
        "    print(f\"Episode {ep + 1}/{episode} | Ep. Total Reward: {total_reward}\"\n",
        "        f\" | Epsilon : {epsilon:.3f}\"\n",
        "        f\" | Eval Rwd Mean: {eval_reward_mean:.2f}\"\n",
        "        f\" | Eval Rwd Var: {eval_reward_var:.2f}\")\n",
        "\n",
        "    # Log\n",
        "    eval_reward_mean_lst.append(eval_reward_mean)\n",
        "    eval_reward_var_lst.append(eval_reward_var)\n",
        "    train_reward_lst.append(total_reward)\n",
        "\n",
        "    # Early Stopping Condition to avoid overfitting\n",
        "    # If the evaluation reward reaches the specified threshold, stop training early.\n",
        "    # The default threshold is set to 500, but you should adjust this based on observed training performance.\n",
        "    if eval_reward_mean >= 500: # [Modify this threshold as needed]\n",
        "        print(f\"Early stopping triggered at Episode {ep + 1}.\")\n",
        "        break\n",
        "\n",
        "# evaluate average training time per episode\n",
        "print(f\"Training time: {total_training_time/episode:.4f} seconds per episode\")\n",
        "\n",
        "\n",
        "env.close()"
      ]
    },
    {
      "cell_type": "markdown",
      "metadata": {
        "id": "HMgwUOjQ30iI"
      },
      "source": [
        "## Plot Results"
      ]
    },
    {
      "cell_type": "code",
      "execution_count": 23,
      "metadata": {
        "id": "FcQkJXSl30iI"
      },
      "outputs": [
        {
          "data": {
            "image/png": "[encoded data removed]",
            "text/plain": [
              "<Figure size 640x480 with 1 Axes>"
            ]
          },
          "metadata": {},
          "output_type": "display_data"
        },
        {
          "data": {
            "image/png": "[encoded data removed]",
            "text/plain": [
              "<Figure size 640x480 with 1 Axes>"
            ]
          },
          "metadata": {},
          "output_type": "display_data"
        },
        {
          "data": {
            "image/png": "[encoded data removed]",
            "text/plain": [
              "<Figure size 640x480 with 1 Axes>"
            ]
          },
          "metadata": {},
          "output_type": "display_data"
        }
      ],
      "source": [
        "# Write code to plot\n",
        "# 1) Moving Averaged Training Reward, 2) Evaluation Mean, 3) Evaluation Variance\n",
        "# [Write Code]\n",
        "\n",
        "# plot_smoothed_training_rwd(...\n",
        "plot_smoothed_training_rwd(train_reward_lst, window_size=20)\n",
        "plot_eval_rwd_mean(eval_reward_mean_lst)\n",
        "plot_eval_rwd_var(eval_reward_var_lst)\n",
        "\n",
        "# plot_eval_rwd_mean(...\n",
        "\n",
        "# plot_eval_rwd_var(...\n"
      ]
    },
    {
      "cell_type": "markdown",
      "metadata": {
        "id": "qsx1mQTZwhNC"
      },
      "source": [
        "# Naive DQN - Alternative\n",
        "You may insert extra cells in the notebook to perform tuning experiments and log results effectively. Use TensorBoard, plots, or tables to visualize the impact of different hyperparameter choices."
      ]
    },
    {
      "cell_type": "code",
      "execution_count": 24,
      "metadata": {},
      "outputs": [],
      "source": [
        "def save_model(train_reward, eval_mean, eval_var, model, model_name):\n",
        "  np.savetxt(f\"{model_name}_train_reward.csv\", train_reward, delimiter=\",\", fmt='%s')\n",
        "  np.savetxt(f\"{model_name}_eval_mean.csv\", eval_mean, delimiter=\",\", fmt='%s')\n",
        "  np.savetxt(f\"{model_name}_eval_var.csv\", eval_var, delimiter=\",\", fmt='%s')\n",
        "  model.save(f\"{model_name}.keras\")\n"
      ]
    },
    {
      "cell_type": "code",
      "execution_count": 31,
      "metadata": {
        "id": "auXumGG5w7JN"
      },
      "outputs": [],
      "source": [
        "# [Write Code]\n",
        "lr =  0.1     #@param {type:\"number\"}               # learning rate\n",
        "epoch =  16     #@param {type:\"number\"}               # epochs\n",
        "episode = 500  #@param {type:\"number\"}               # episodes\n",
        "\n",
        "epsilon = 0.9           #@param {type:\"number\"}     # Starting exploration rate\n",
        "epsilon_min = 0.1    #@param {type:\"number\"}     # Exploration rate min\n",
        "epsilon_decay = 0.995     #@param {type:\"number\"}     # Exploration rate decay\n",
        "\n",
        "gamma = 0.99          #@param {type:\"number\"}     # Agent discount factor\n",
        "\n",
        "# Use the following set of NN hyperparameters for Naive DQN, DQN and DDQN policies\n",
        "ba =  32       #@param {type:\"number\"}               # batch_size\n",
        "\n",
        "# Use the following set of RL hyperparameters for DQN and DDQN policies\n",
        "target_update_freq = 100 # @param {type:\"number\"}    # Target network update frequency"
      ]
    },
    {
      "cell_type": "code",
      "execution_count": 32,
      "metadata": {},
      "outputs": [
        {
          "data": {
            "text/html": [
              "<pre style=\"white-space:pre;overflow-x:auto;line-height:normal;font-family:Menlo,'DejaVu Sans Mono',consolas,'Courier New',monospace\"><span style=\"font-weight: bold\">Model: \"sequential_2\"</span>\n",
              "</pre>\n"
            ],
            "text/plain": [
              "\u001b[1mModel: \"sequential_2\"\u001b[0m\n"
            ]
          },
          "metadata": {},
          "output_type": "display_data"
        },
        {
          "data": {
            "text/html": [
              "<pre style=\"white-space:pre;overflow-x:auto;line-height:normal;font-family:Menlo,'DejaVu Sans Mono',consolas,'Courier New',monospace\">┏━━━━━━━━━━━━━━━━━━━━━━━━━━━━━━━━━┳━━━━━━━━━━━━━━━━━━━━━━━━┳━━━━━━━━━━━━━━━┓\n",
              "┃<span style=\"font-weight: bold\"> Layer (type)                    </span>┃<span style=\"font-weight: bold\"> Output Shape           </span>┃<span style=\"font-weight: bold\">       Param # </span>┃\n",
              "┡━━━━━━━━━━━━━━━━━━━━━━━━━━━━━━━━━╇━━━━━━━━━━━━━━━━━━━━━━━━╇━━━━━━━━━━━━━━━┩\n",
              "│ dense_6 (<span style=\"color: #0087ff; text-decoration-color: #0087ff\">Dense</span>)                 │ (<span style=\"color: #00d7ff; text-decoration-color: #00d7ff\">None</span>, <span style=\"color: #00af00; text-decoration-color: #00af00\">32</span>)             │           <span style=\"color: #00af00; text-decoration-color: #00af00\">160</span> │\n",
              "├─────────────────────────────────┼────────────────────────┼───────────────┤\n",
              "│ dense_7 (<span style=\"color: #0087ff; text-decoration-color: #0087ff\">Dense</span>)                 │ (<span style=\"color: #00d7ff; text-decoration-color: #00d7ff\">None</span>, <span style=\"color: #00af00; text-decoration-color: #00af00\">32</span>)             │         <span style=\"color: #00af00; text-decoration-color: #00af00\">1,056</span> │\n",
              "├─────────────────────────────────┼────────────────────────┼───────────────┤\n",
              "│ dense_8 (<span style=\"color: #0087ff; text-decoration-color: #0087ff\">Dense</span>)                 │ (<span style=\"color: #00d7ff; text-decoration-color: #00d7ff\">None</span>, <span style=\"color: #00af00; text-decoration-color: #00af00\">2</span>)              │            <span style=\"color: #00af00; text-decoration-color: #00af00\">66</span> │\n",
              "└─────────────────────────────────┴────────────────────────┴───────────────┘\n",
              "</pre>\n"
            ],
            "text/plain": [
              "┏━━━━━━━━━━━━━━━━━━━━━━━━━━━━━━━━━┳━━━━━━━━━━━━━━━━━━━━━━━━┳━━━━━━━━━━━━━━━┓\n",
              "┃\u001b[1m \u001b[0m\u001b[1mLayer (type)                   \u001b[0m\u001b[1m \u001b[0m┃\u001b[1m \u001b[0m\u001b[1mOutput Shape          \u001b[0m\u001b[1m \u001b[0m┃\u001b[1m \u001b[0m\u001b[1m      Param #\u001b[0m\u001b[1m \u001b[0m┃\n",
              "┡━━━━━━━━━━━━━━━━━━━━━━━━━━━━━━━━━╇━━━━━━━━━━━━━━━━━━━━━━━━╇━━━━━━━━━━━━━━━┩\n",
              "│ dense_6 (\u001b[38;5;33mDense\u001b[0m)                 │ (\u001b[38;5;45mNone\u001b[0m, \u001b[38;5;34m32\u001b[0m)             │           \u001b[38;5;34m160\u001b[0m │\n",
              "├─────────────────────────────────┼────────────────────────┼───────────────┤\n",
              "│ dense_7 (\u001b[38;5;33mDense\u001b[0m)                 │ (\u001b[38;5;45mNone\u001b[0m, \u001b[38;5;34m32\u001b[0m)             │         \u001b[38;5;34m1,056\u001b[0m │\n",
              "├─────────────────────────────────┼────────────────────────┼───────────────┤\n",
              "│ dense_8 (\u001b[38;5;33mDense\u001b[0m)                 │ (\u001b[38;5;45mNone\u001b[0m, \u001b[38;5;34m2\u001b[0m)              │            \u001b[38;5;34m66\u001b[0m │\n",
              "└─────────────────────────────────┴────────────────────────┴───────────────┘\n"
            ]
          },
          "metadata": {},
          "output_type": "display_data"
        },
        {
          "data": {
            "text/html": [
              "<pre style=\"white-space:pre;overflow-x:auto;line-height:normal;font-family:Menlo,'DejaVu Sans Mono',consolas,'Courier New',monospace\"><span style=\"font-weight: bold\"> Total params: </span><span style=\"color: #00af00; text-decoration-color: #00af00\">1,282</span> (5.01 KB)\n",
              "</pre>\n"
            ],
            "text/plain": [
              "\u001b[1m Total params: \u001b[0m\u001b[38;5;34m1,282\u001b[0m (5.01 KB)\n"
            ]
          },
          "metadata": {},
          "output_type": "display_data"
        },
        {
          "data": {
            "text/html": [
              "<pre style=\"white-space:pre;overflow-x:auto;line-height:normal;font-family:Menlo,'DejaVu Sans Mono',consolas,'Courier New',monospace\"><span style=\"font-weight: bold\"> Trainable params: </span><span style=\"color: #00af00; text-decoration-color: #00af00\">1,282</span> (5.01 KB)\n",
              "</pre>\n"
            ],
            "text/plain": [
              "\u001b[1m Trainable params: \u001b[0m\u001b[38;5;34m1,282\u001b[0m (5.01 KB)\n"
            ]
          },
          "metadata": {},
          "output_type": "display_data"
        },
        {
          "data": {
            "text/html": [
              "<pre style=\"white-space:pre;overflow-x:auto;line-height:normal;font-family:Menlo,'DejaVu Sans Mono',consolas,'Courier New',monospace\"><span style=\"font-weight: bold\"> Non-trainable params: </span><span style=\"color: #00af00; text-decoration-color: #00af00\">0</span> (0.00 B)\n",
              "</pre>\n"
            ],
            "text/plain": [
              "\u001b[1m Non-trainable params: \u001b[0m\u001b[38;5;34m0\u001b[0m (0.00 B)\n"
            ]
          },
          "metadata": {},
          "output_type": "display_data"
        }
      ],
      "source": [
        "# Naive DQN Alternative Model (but same structure anyway)\n",
        "from keras.models import Sequential\n",
        "from keras.layers import Input, Dense\n",
        "from keras.initializers import RandomUniform\n",
        "\n",
        "state_size = (4,) # Number of observations (CartPole)\n",
        "action_size = 2        # Number of possible actions\n",
        "\n",
        "# [WriteCode] from ... import ...\n",
        "from keras.optimizers import Adam\n",
        "# Define the Q-network\n",
        "alt_model = Sequential()\n",
        "\n",
        "# [WriteCode]\n",
        "# model.add(...\n",
        "alt_model.add(Input(shape=state_size))\n",
        "initialiser = RandomUniform(minval=-0.5, maxval=0.5, seed=42)\n",
        "initialiser_1 = RandomUniform(minval=-5, maxval=5, seed=42)\n",
        "alt_model.add(Dense(32, activation='tanh', kernel_initializer=initialiser))  # First hidden layer\n",
        "alt_model.add(Dense(32, activation='tanh', kernel_initializer=initialiser_1))  # Second hidden layer\n",
        "alt_model.add(Dense(action_size))  # Output layer (Q-values for each action)\n",
        "\n",
        "# Compile the model\n",
        "# [WriteCode]\n",
        "alt_model.compile(optimizer='Adam', loss='mean_squared_error')\n",
        "\n",
        "# Print the model summary\n",
        "# [WriteCode]\n",
        "alt_model.summary()"
      ]
    },
    {
      "cell_type": "code",
      "execution_count": 33,
      "metadata": {},
      "outputs": [
        {
          "name": "stdout",
          "output_type": "stream",
          "text": [
            "Episode 1/500 | Ep. Total Reward: 33.0 | Epsilon : 0.895 | Eval Rwd Mean: 337.00 | Eval Rwd Var: 292.67\n",
            "Episode 2/500 | Ep. Total Reward: 18.0 | Epsilon : 0.822 | Eval Rwd Mean: 202.67 | Eval Rwd Var: 106.89\n",
            "Episode 3/500 | Ep. Total Reward: 33.0 | Epsilon : 0.700 | Eval Rwd Mean: 500.00 | Eval Rwd Var: 0.00\n",
            "Early stopping triggered at Episode 3.\n",
            "Training time: 0.0352 seconds per episode\n"
          ]
        }
      ],
      "source": [
        "# For logging\n",
        "train_reward_lst = []\n",
        "eval_reward_mean_lst = []\n",
        "eval_reward_var_lst = []\n",
        "\n",
        "# Set up environment\n",
        "env = gym.make(\"CartPole-v1\", render_mode=\"rgb_array\")\n",
        "state_size = env.observation_space.shape[0] # Number of observations (CartPole)\n",
        "action_size = env.action_space.n            # Number of possible actions\n",
        "\n",
        "model_dir = \"naive_dqn_baseline\"  # TensorBoard log directory\n",
        "cb = keras.callbacks.TensorBoard(log_dir = get_run_logdir(model_dir), histogram_freq=1)\n",
        "\n",
        "# For timing training\n",
        "total_training_time = 0\n",
        "\n",
        "# Define replay buffer\n",
        "# [WriteCode]\n",
        "replay_buffer = deque(maxlen=10000)\n",
        "\n",
        "for ep in range(episode):\n",
        "    state, _ = env.reset()\n",
        "    state = np.reshape(state, [1, state_size])\n",
        "    total_reward = 0\n",
        "\n",
        "    # record start time\n",
        "    start = time.time()\n",
        "\n",
        "    for _ in range(500):\n",
        "        # Interact with the environment with epsilon-greedy policy\n",
        "        if np.random.rand() <= epsilon:\n",
        "            action = np.random.choice(action_size)\n",
        "        else:\n",
        "            q_values = model.predict(state, verbose=0)\n",
        "            action = np.argmax(q_values)\n",
        "\n",
        "        next_state, reward, terminated, truncated, _ = env.step(action)\n",
        "        next_state = np.reshape(next_state, [1, state_size])\n",
        "        done = terminated or truncated\n",
        "\n",
        "        # store experience into replay buffer\n",
        "        # [WriteCode]\n",
        "        store_experience(replay_buffer, state, action, reward, next_state, done)\n",
        "\n",
        "        state = next_state\n",
        "        total_reward += reward\n",
        "\n",
        "        if done:\n",
        "            break\n",
        "\n",
        "\n",
        "        if len(replay_buffer) >= ba:\n",
        "            # Update policy with mini-batches if replay buffer contains enough samples\n",
        "            # Update policy using Q-Learning update:  Q(s, a) = r + gamma * max Q(s', a')\n",
        "            # [WriteCode]\n",
        "            # Sample a mini-batch\n",
        "            states, actions, rewards, next_states, dones = sample_experience(replay_buffer, ba)\n",
        "\n",
        "            # Compute target Q-values\n",
        "            q_targets = rewards + (gamma * np.amax(model.predict(next_states, verbose=0), axis=1)) * (1 - dones)\n",
        "\n",
        "            # Predict current Q-values for states\n",
        "            q_values = model.predict(states, verbose=0)\n",
        "\n",
        "            # Update Q-value for the taken action\n",
        "            for i, action in enumerate(actions):\n",
        "                q_values[i][action] = q_targets[i]\n",
        "\n",
        "            # Fit the model to the updated Q-values\n",
        "            model.fit(states, q_values, epochs=epoch, verbose=0, callbacks=[cb])\n",
        "\n",
        "\n",
        "            # Hints:\n",
        "\n",
        "            # 1. Compute target Q-values:\n",
        "            # - If done, Q-target = reward (no future reward)\n",
        "            # - Otherwise, Q-target = reward + gamma * max(Q(next_state, a))\n",
        "\n",
        "            # 2. Predict current Q-values for state\n",
        "            # Update only the Q-value for the taken action\n",
        "\n",
        "            # 3. Fit the model:\n",
        "            # - Inputs: state\n",
        "            # - Targets: updated Q-values (with action Q-value replaced by computed target)\n",
        "\n",
        "            # Update exploration rate\n",
        "            if epsilon > epsilon_min:\n",
        "                epsilon *= epsilon_decay\n",
        "\n",
        "    # record end time and log training time\n",
        "    end = time.time()\n",
        "    total_training_time += end - start\n",
        "\n",
        "    # Evaluation\n",
        "    # [WriteCode]\n",
        "    eval_reward_mean, eval_reward_var = evaluation(model)\n",
        "\n",
        "\n",
        "    print(f\"Episode {ep + 1}/{episode} | Ep. Total Reward: {total_reward}\"\n",
        "        f\" | Epsilon : {epsilon:.3f}\"\n",
        "        f\" | Eval Rwd Mean: {eval_reward_mean:.2f}\"\n",
        "        f\" | Eval Rwd Var: {eval_reward_var:.2f}\")\n",
        "\n",
        "    # Log\n",
        "    eval_reward_mean_lst.append(eval_reward_mean)\n",
        "    eval_reward_var_lst.append(eval_reward_var)\n",
        "    train_reward_lst.append(total_reward)\n",
        "\n",
        "    # Early Stopping Condition to avoid overfitting\n",
        "    # If the evaluation reward reaches the specified threshold, stop training early.\n",
        "    # The default threshold is set to 500, but you should adjust this based on observed training performance.\n",
        "    if eval_reward_mean >= 500: # [Modify this threshold as needed]\n",
        "        print(f\"Early stopping triggered at Episode {ep + 1}.\")\n",
        "        break\n",
        "\n",
        "# evaluate average training time per episode\n",
        "print(f\"Training time: {total_training_time/episode:.4f} seconds per episode\")\n",
        "\n",
        "\n",
        "env.close()"
      ]
    },
    {
      "cell_type": "code",
      "execution_count": 34,
      "metadata": {},
      "outputs": [
        {
          "data": {
            "image/png": "[encoded data removed]",
            "text/plain": [
              "<Figure size 640x480 with 1 Axes>"
            ]
          },
          "metadata": {},
          "output_type": "display_data"
        },
        {
          "data": {
            "image/png": "[encoded data removed]",
            "text/plain": [
              "<Figure size 640x480 with 1 Axes>"
            ]
          },
          "metadata": {},
          "output_type": "display_data"
        },
        {
          "data": {
            "image/png": "[encoded data removed]",
            "text/plain": [
              "<Figure size 640x480 with 1 Axes>"
            ]
          },
          "metadata": {},
          "output_type": "display_data"
        }
      ],
      "source": [
        "plot_smoothed_training_rwd(train_reward_lst, window_size=20)\n",
        "plot_eval_rwd_mean(eval_reward_mean_lst)\n",
        "plot_eval_rwd_var(eval_reward_var_lst)"
      ]
    },
    {
      "cell_type": "markdown",
      "metadata": {
        "id": "lAiI3y2yw47Q"
      },
      "source": [
        "## Comparison\n",
        "\n",
        "Compare performance of the Baseline and the Alternative Naive DQN Policies"
      ]
    },
    {
      "cell_type": "code",
      "execution_count": 35,
      "metadata": {
        "id": "dHIjFgUhw-aR"
      },
      "outputs": [
        {
          "data": {
            "image/png": "[encoded data removed]",
            "text/plain": [
              "<Figure size 640x640 with 2 Axes>"
            ]
          },
          "metadata": {},
          "output_type": "display_data"
        }
      ],
      "source": [
        "# [Write Code]\n",
        "ITERATIONS = 10\n",
        "\n",
        "base_eval_mean = []\n",
        "base_eval_var = []\n",
        "alt_eval_mean = []\n",
        "alt_eval_var = []\n",
        "\n",
        "for i in range(ITERATIONS):\n",
        "    eval_mean, eval_var = evaluation(model)\n",
        "    base_eval_mean.append(eval_mean)\n",
        "    base_eval_var.append(eval_var)\n",
        "    \n",
        "    eval_mean, eval_var = evaluation(alt_model)\n",
        "    alt_eval_mean.append(eval_mean)\n",
        "    alt_eval_var.append(eval_var)\n",
        "\n",
        "def plot_evaluation_metrics(base_eval_mean, base_eval_var, alt_eval_mean, alt_eval_var, iterations):\n",
        "  plt.figure(figsize=(6.4,6.4))\n",
        "  plt.subplot(2, 1, 1)\n",
        "  plt.plot([i for i in range(iterations)], base_eval_mean, label=\"base_eval_mean\", color=\"blue\")\n",
        "  plt.plot([i for i in range(iterations)], alt_eval_mean, label=\"alt_eval_mean\", color=\"red\")\n",
        "  plt.xlabel(\"Iterations\")\n",
        "  plt.ylabel(\"Eval mean\")\n",
        "  plt.title(\"Comparison of Eval Reward Mean\")\n",
        "  plt.legend()\n",
        "\n",
        "  plt.subplot(2, 1, 2)\n",
        "  plt.plot([i for i in range(iterations)], base_eval_var, label=\"base_eval_var\", color=\"blue\")\n",
        "  plt.plot([i for i in range(iterations)], alt_eval_var, label=\"alt_eval_var\", color=\"red\")\n",
        "  plt.xlabel(\"Iterations\")\n",
        "  plt.ylabel(\"Eval Var\")\n",
        "  plt.title(\"Comparison of Eval Reward Var\")\n",
        "  plt.legend()\n",
        "\n",
        "  plt.show()\n",
        "\n",
        "\n",
        "plot_evaluation_metrics(base_eval_mean, base_eval_var, alt_eval_mean, alt_eval_var, ITERATIONS)\n",
        "\n"
      ]
    },
    {
      "cell_type": "code",
      "execution_count": 36,
      "metadata": {},
      "outputs": [],
      "source": [
        "def save_model(train_reward, eval_mean, eval_var, model, model_name):\n",
        "  np.savetxt(f\"{model_name}_train_reward.csv\", train_reward, delimiter=\",\", fmt='%s')\n",
        "  np.savetxt(f\"{model_name}_eval_mean.csv\", eval_mean, delimiter=\",\", fmt='%s')\n",
        "  np.savetxt(f\"{model_name}_eval_var.csv\", eval_var, delimiter=\",\", fmt='%s')\n",
        "  model.save(f\"{model_name}.keras\")"
      ]
    },
    {
      "cell_type": "markdown",
      "metadata": {
        "id": "Iy8REuq6iQah"
      },
      "source": [
        "# DQN\n",
        "\n",
        "In this section, you will complete the DQN algorithm by implementing the missing components marked as `[WriteCode]`.\n"
      ]
    },
    {
      "cell_type": "markdown",
      "metadata": {
        "id": "ZXqZUwXkxYci"
      },
      "source": [
        "## Define and Compile the Neural Networks"
      ]
    },
    {
      "cell_type": "markdown",
      "metadata": {
        "id": "2FvxFyz5hnEP"
      },
      "source": [
        "The standard DQN [https://arxiv.org/abs/1312.5602] approach features a periodically updated target network to stabilize training:\n",
        "\n",
        "- `target_model`: A periodically updated network that stabilizes training. During training, this network is used to compute $Q(S_{t+1}, a)$ for each possible action $a$. This network is not actively trained, but at regular intervals, its weights are copied from `eval_model`. This prevents rapid fluctuations in target Q-values and improves learning stability.\n",
        "\n",
        "- `eval_model`: The online learning network that interacts with the environment. During training, this network is used to compute $Q(S_{t}, a)$ for each possible action $a$. It updates its weights by minimizing the difference between predicted and target Q-values, improving the agent's decision-making over time.\n",
        "\n",
        "The target used by DQN is then:\n",
        "\n",
        "$Y^{Q}_t = R_{t+1} + \\gamma \\max_a Q_{target}(S_{t+1}, a)$\n",
        "\n",
        "In the following section, define `[eval_model]` and `[target_model]` with identical architectures."
      ]
    },
    {
      "cell_type": "code",
      "execution_count": null,
      "metadata": {
        "id": "NYILkt0Gzd5G"
      },
      "outputs": [],
      "source": [
        "# DQN Baseline Model\n",
        "from keras.models import Sequential\n",
        "from keras.layers import Dense\n",
        "\n",
        "\n",
        "# [WriteCode] from ... import ...\n",
        "\n",
        "# Define the eval (online) network\n",
        "eval_model = Sequential()\n",
        "\n",
        "# [WriteCode]\n",
        "# model.add(...\n",
        "\n",
        "# Compile the model\n",
        "# [WriteCode]\n",
        "\n",
        "# Print the model summary\n",
        "# [WriteCode]\n",
        "\n",
        "\n",
        "# Create target_model with the same architecture\n",
        "target_model = Sequential()\n",
        "\n",
        "# [WriteCode]\n",
        "# model.add(...\n",
        "\n",
        "# Skip compiling as target_model will not be trained with .fit()\n",
        "# Instead, weights will be copied from the online model\n",
        "target_model.set_weights(eval_model.get_weights())\n",
        "\n",
        "# Print the model summary\n",
        "# [WriteCode]\n",
        "print(target_model.summary())"
      ]
    },
    {
      "cell_type": "markdown",
      "metadata": {
        "id": "WZfiKQHk_Vjb"
      },
      "source": [
        "## Set Up Env and Train the Policy"
      ]
    },
    {
      "cell_type": "markdown",
      "metadata": {
        "id": "hsudLCVWB1Em"
      },
      "source": [
        "In this section, you will complete the DQN training routine by implementing the missing components marked as `[WriteCode]`.\n",
        "\n",
        "\n"
      ]
    },
    {
      "cell_type": "code",
      "execution_count": null,
      "metadata": {
        "id": "I96clO81hFJ_"
      },
      "outputs": [],
      "source": [
        "# For logging\n",
        "train_reward_lst = []\n",
        "eval_reward_mean_lst = []\n",
        "eval_reward_var_lst = []\n",
        "\n",
        "# Set up environment\n",
        "env = gym.make(\"CartPole-v1\", render_mode=\"rgb_array\")\n",
        "state_size = env.observation_space.shape[0] # Number of observations (CartPole)\n",
        "action_size = env.action_space.n            # Number of possible actions\n",
        "\n",
        "model_dir = \"dqn_baseline\"   # TensorBoard log directory\n",
        "cb = keras.callbacks.TensorBoard(log_dir = get_run_logdir(model_dir), histogram_freq=1)\n",
        "\n",
        "# Train Counter for weight syncing\n",
        "train_counter = 0\n",
        "\n",
        "# For timing training\n",
        "total_training_time = 0\n",
        "\n",
        "# Define replay buffer\n",
        "# replay_buffer = ...\n",
        "\n",
        "for ep in range(episode):\n",
        "    state, _ = env.reset()\n",
        "    state = np.reshape(state, [1, state_size])\n",
        "    total_reward = 0\n",
        "\n",
        "    # record start time\n",
        "    start = time.time()\n",
        "\n",
        "    for _ in range(500):\n",
        "        # Interact with the environment with epsilon-greedy policy\n",
        "        if np.random.rand() <= epsilon:\n",
        "            action = np.random.choice(action_size)\n",
        "        else:\n",
        "            q_values = eval_model.predict(state, verbose=0)\n",
        "            action = np.argmax(q_values)\n",
        "\n",
        "        next_state, reward, terminated, truncated, _ = env.step(action)\n",
        "        next_state = np.reshape(next_state, [1, state_size])\n",
        "        done = terminated or truncated\n",
        "\n",
        "        # store experience into replay buffer\n",
        "        # [WriteCode]\n",
        "\n",
        "        state = next_state\n",
        "        total_reward += reward\n",
        "\n",
        "        if done:\n",
        "            break\n",
        "\n",
        "        if len(replay_buffer) >= ba:\n",
        "            train_counter += 1\n",
        "            # Update policy with mini-batches if replay buffer contains enough samples\n",
        "            # Update policy using Deep Q-Learning update: Q(s, a) = r + gamma * max Q_target(S', a)\n",
        "            # [WriteCode]\n",
        "\n",
        "            # Compute target Q-values:\n",
        "            # - If done, Q-target = reward (no future reward)\n",
        "            # - Otherwise, Q-target = reward + gamma * max(Q_target(next_state, a))\n",
        "\n",
        "            # Predict current Q-values for state using eval_model\n",
        "            # Predict future Q-values using target_model (NOT eval_model)\n",
        "\n",
        "            # Update only the Q-value for the taken action\n",
        "\n",
        "            # Fit the model:\n",
        "            # - Inputs: state\n",
        "            # - Targets: updated Q-values (with action Q-value replaced by computed target)\n",
        "\n",
        "\n",
        "            # Update exploration rate\n",
        "            if epsilon > epsilon_min:\n",
        "                epsilon *= epsilon_decay\n",
        "\n",
        "            # Periodically update the target network\n",
        "            if train_counter % target_update_freq == 0:\n",
        "                target_model.set_weights(eval_model.get_weights())\n",
        "\n",
        "    # record end time and log training time\n",
        "    end = time.time()\n",
        "    total_training_time += end - start\n",
        "\n",
        "    # Evaluation\n",
        "    # [WriteCode]\n",
        "\n",
        "\n",
        "    print(f\"Episode {ep + 1}/{episode} | Ep. Total Reward: {total_reward}\"\n",
        "        f\" | Epsilon : {epsilon:.3f}\"\n",
        "        f\" | Eval Rwd Mean: {eval_reward_mean:.2f}\"\n",
        "        f\" | Eval Rwd Var: {eval_reward_var:.2f}\")\n",
        "\n",
        "    # Log\n",
        "    eval_reward_mean_lst.append(eval_reward_mean)\n",
        "    eval_reward_var_lst.append(eval_reward_var)\n",
        "    train_reward_lst.append(total_reward)\n",
        "\n",
        "    # Early Stopping Condition to avoid overfitting\n",
        "    # If the evaluation reward reaches the specified threshold, stop training early.\n",
        "    # The default threshold is set to 500, but you should adjust this based on observed training performance.\n",
        "    if eval_reward_mean > 500: # [Modify this threshold as needed]\n",
        "        print(f\"Early stopping triggered at Episode {ep + 1}.\")\n",
        "        break\n",
        "\n",
        "# evaluate average training time per episode\n",
        "print(f\"Training time: {total_training_time/episode:.4f} seconds per episode\")\n",
        "\n",
        "env.close()"
      ]
    },
    {
      "cell_type": "markdown",
      "metadata": {
        "id": "cWTB-X8Q35lX"
      },
      "source": [
        "## Plot Results"
      ]
    },
    {
      "cell_type": "code",
      "execution_count": null,
      "metadata": {
        "id": "gUC2aelO35lX"
      },
      "outputs": [],
      "source": [
        "# Write code to plot\n",
        "# 1) Moving Averaged Training Reward, 2) Evaluation Mean, 3) Evaluation Variance\n",
        "# [Write Code]\n",
        "plot_smoothed_training_rwd(train_reward_lst, window_size=20)\n",
        "plot_eval_rwd_mean(eval_reward_mean_lst)\n",
        "plot_eval_rwd_var(eval_reward_var_lst)"
      ]
    },
    {
      "cell_type": "markdown",
      "metadata": {
        "id": "aGOFWup5ZiYp"
      },
      "source": [
        "# DQN - Alternative\n",
        "\n",
        "You may insert extra cells in the notebook to perform tuning experiments and log results effectively. Use TensorBoard, plots, or tables to visualize the impact of different hyperparameter choices."
      ]
    },
    {
      "cell_type": "markdown",
      "metadata": {
        "id": "eOwN55lA34nm"
      },
      "source": [
        "## Plot Results"
      ]
    },
    {
      "cell_type": "code",
      "execution_count": null,
      "metadata": {
        "id": "hf5220Bw34nm"
      },
      "outputs": [],
      "source": [
        "# Write code to plot\n",
        "# 1) Moving Averaged Training Reward, 2) Evaluation Mean, 3) Evaluation Variance\n",
        "# [Write Code]\n",
        "\n",
        "# plot_smoothed_training_rwd(...\n",
        "\n",
        "# plot_eval_rwd_mean(...\n",
        "\n",
        "# plot_eval_rwd_var(..."
      ]
    },
    {
      "cell_type": "code",
      "execution_count": null,
      "metadata": {
        "id": "SvxOyxpPZlfW"
      },
      "outputs": [],
      "source": [
        "# [Write Code]"
      ]
    },
    {
      "cell_type": "markdown",
      "metadata": {
        "id": "0oTzmTnlZlru"
      },
      "source": [
        "## Comparison\n",
        "\n",
        "Compare performance of the Baseline and the Alternative DQN Policies"
      ]
    },
    {
      "cell_type": "code",
      "execution_count": null,
      "metadata": {
        "id": "HiMW7bE1Zq2B"
      },
      "outputs": [],
      "source": [
        "# [Write Code]"
      ]
    },
    {
      "cell_type": "markdown",
      "metadata": {
        "id": "4yGOGzD5iRw5"
      },
      "source": [
        "# DDQN"
      ]
    },
    {
      "cell_type": "markdown",
      "metadata": {
        "id": "-nURxQ5zZwu5"
      },
      "source": [
        "## Define and Compile the Neural Networks\n",
        "\n",
        "The Double Deep Q-Network (DDQN) [https://arxiv.org/abs/1509.06461] improves upon standard DQN by reducing overestimation bias in Q-values. DDQN achieves this by decoupling action selection from value estimation using two networks, which is almost identical as DQN:\n",
        "\n",
        "- `target_model`: A periodically updated network that stabilizes training. During training, this network is used to compute $Q(S_{t+1}, a)$ for each possible action $a$. This network is also not trained but synced from `eval_model`. **However, unlike DQN, this network is only used to evaluate the Q-value of the action chosen by `eval_model`, making value updates more stable.**\n",
        "\n",
        "- `eval_model`: The online learning network that interacts with the environment. During training, this network is used to select the best action using $\\arg\\max_a Q(S_{t}, a)$ and updates its weights by minimizing the difference between predicted and target Q-value.\n",
        "\n",
        "The target used by DDQN is then:\n",
        "\n",
        "$Y^{Q}_t = R_{t+1} + \\gamma Q_{target}(S_{t+1}, \\arg \\max_{a} Q_{eval}(S_{t+1}, a))$"
      ]
    },
    {
      "cell_type": "code",
      "execution_count": null,
      "metadata": {
        "id": "NoH_Tjmz3FBn"
      },
      "outputs": [],
      "source": [
        "# DDQN Baseline Model\n",
        "from keras.models import Sequential\n",
        "from keras.layers import Dense\n",
        "\n",
        "\n",
        "# [WriteCode] from ... import ...\n",
        "\n",
        "# Define the eval (online) network\n",
        "eval_model = Sequential()\n",
        "\n",
        "# [WriteCode]\n",
        "# model.add(...\n",
        "\n",
        "# Compile the model\n",
        "# [WriteCode]\n",
        "\n",
        "# Print the model summary\n",
        "# [WriteCode]\n",
        "\n",
        "\n",
        "\n",
        "# Create target_model with the same architecture\n",
        "target_model = Sequential()\n",
        "\n",
        "# [WriteCode]\n",
        "# model.add(...\n",
        "\n",
        "# Skip compiling as target_model will not be trained with .fit()\n",
        "# Instead, weights will be copied from the online model\n",
        "target_model.set_weights(eval_model.get_weights())\n",
        "\n",
        "# Print the model summary\n",
        "# [WriteCode]"
      ]
    },
    {
      "cell_type": "markdown",
      "metadata": {
        "id": "-uZT2NevZzo7"
      },
      "source": [
        "## Set Up Env and Train the Policy"
      ]
    },
    {
      "cell_type": "code",
      "execution_count": null,
      "metadata": {
        "id": "4U9ntMqg3TH7"
      },
      "outputs": [],
      "source": [
        "# For logging\n",
        "train_reward_lst = []\n",
        "eval_reward_mean_lst = []\n",
        "eval_reward_var_lst = []\n",
        "\n",
        "# Set up environment\n",
        "env = gym.make(\"CartPole-v1\", render_mode=\"rgb_array\")\n",
        "state_size = env.observation_space.shape[0] # Number of observations (CartPole)\n",
        "action_size = env.action_space.n            # Number of possible actions\n",
        "\n",
        "model_dir = \"ddqn_baseline\"  # TensorBoard log directory\n",
        "cb = keras.callbacks.TensorBoard(log_dir = get_run_logdir(model_dir), histogram_freq=1)\n",
        "\n",
        "# Train Counter for weight syncing\n",
        "train_counter = 0\n",
        "\n",
        "# For timing training\n",
        "total_training_time = 0\n",
        "\n",
        "# Define replay buffer\n",
        "# replay_buffer = ...\n",
        "\n",
        "for ep in range(episode):\n",
        "    state, _ = env.reset()\n",
        "    state = np.reshape(state, [1, state_size])\n",
        "    total_reward = 0\n",
        "\n",
        "    # record start time\n",
        "    start = time.time()\n",
        "\n",
        "    for _ in range(500):\n",
        "\n",
        "        # Interact with the environment with epsilon-greedy policy\n",
        "        if np.random.rand() <= epsilon:\n",
        "            action = np.random.choice(action_size)\n",
        "        else:\n",
        "            q_values = eval_model.predict(state, verbose=0)\n",
        "            action = np.argmax(q_values)\n",
        "\n",
        "        next_state, reward, terminated, truncated, _ = env.step(action)\n",
        "        next_state = np.reshape(next_state, [1, state_size])\n",
        "        done = terminated or truncated\n",
        "\n",
        "        # store experience into replay buffer\n",
        "        # [WriteCode]\n",
        "\n",
        "        state = next_state\n",
        "        total_reward += reward\n",
        "\n",
        "        if done:\n",
        "            break\n",
        "\n",
        "        if len(replay_buffer) >= ba:\n",
        "            train_counter += 1\n",
        "            # Update policy with mini-batches if replay buffer contains enough samples\n",
        "            # Update policy using Double Deep Q-Learning update:\n",
        "            # Q(s, a) = r + gamma * Q_target(S', argmax Q_eval(S', a))\n",
        "            # [WriteCode]\n",
        "\n",
        "            # Compute target Q-values:\n",
        "            # - If done, Q-target = reward (no future reward)\n",
        "            # - Otherwise, Q-target = reward + gamma * Q_target(S', argmax Q_eval(S', a))\n",
        "\n",
        "            # Predict current Q-values for state using eval_model\n",
        "            # Use eval_model to determine best action in next_state\n",
        "            # Use target_model to compute Q-value for that action\n",
        "\n",
        "            # Update only the Q-value for the taken action\n",
        "\n",
        "            # Fit the model:\n",
        "            # - Inputs: state\n",
        "            # - Targets: updated Q-values (with action Q-value replaced by computed target)\n",
        "\n",
        "\n",
        "            # Update exploration rate\n",
        "            if epsilon > epsilon_min:\n",
        "                epsilon *= epsilon_decay\n",
        "\n",
        "            # Periodically update the target network\n",
        "            if train_counter % target_update_freq == 0:\n",
        "                target_model.set_weights(eval_model.get_weights())\n",
        "\n",
        "    # record end time and log training time\n",
        "    end = time.time()\n",
        "    total_training_time += end - start\n",
        "\n",
        "    # Evaluation\n",
        "    # [WriteCode]\n",
        "\n",
        "\n",
        "    print(f\"Episode {ep + 1}/{episode} | Ep. Total Reward: {total_reward}\"\n",
        "        f\" | Epsilon : {epsilon:.3f}\"\n",
        "        f\" | Eval Rwd Mean: {eval_reward_mean:.2f}\"\n",
        "        f\" | Eval Rwd Var: {eval_reward_var:.2f}\")\n",
        "\n",
        "    # Log\n",
        "    eval_reward_mean_lst.append(eval_reward_mean)\n",
        "    eval_reward_var_lst.append(eval_reward_var)\n",
        "    train_reward_lst.append(total_reward)\n",
        "\n",
        "    # Early Stopping Condition to avoid overfitting\n",
        "    # If the evaluation reward reaches the specified threshold, stop training early.\n",
        "    # The default threshold is set to 500, but you should adjust this based on observed training performance.\n",
        "    if eval_reward_mean > 500: # [Modify this threshold as needed]\n",
        "        print(f\"Early stopping triggered at Episode {ep + 1}.\")\n",
        "        break\n",
        "\n",
        "# record end time and calculate average training time per episode\n",
        "# evaluate average training time per episode\n",
        "print(f\"Training time: {total_training_time/episode:.4f} seconds per episode\")\n",
        "\n",
        "env.close()"
      ]
    },
    {
      "cell_type": "markdown",
      "metadata": {
        "id": "oKfbQWJq363X"
      },
      "source": [
        "## Plot Results"
      ]
    },
    {
      "cell_type": "code",
      "execution_count": null,
      "metadata": {
        "id": "L7qIOwiX363Y"
      },
      "outputs": [],
      "source": [
        "# Write code to plot\n",
        "# 1) Moving Averaged Training Reward, 2) Evaluation Mean, 3) Evaluation Variance\n",
        "# [Write Code]\n",
        "\n",
        "# plot_smoothed_training_rwd(...\n",
        "\n",
        "# plot_eval_rwd_mean(...\n",
        "\n",
        "# plot_eval_rwd_var(..."
      ]
    },
    {
      "cell_type": "markdown",
      "metadata": {
        "id": "YgVEqsvQHsiD"
      },
      "source": [
        "# DDQN - Alternative\n",
        "\n",
        "You may insert extra cells in the notebook to perform tuning experiments and log results effectively. Use TensorBoard, plots, or tables to visualize the impact of different hyperparameter choices."
      ]
    },
    {
      "cell_type": "code",
      "execution_count": null,
      "metadata": {
        "id": "0xno9cGCHrx5"
      },
      "outputs": [],
      "source": [
        "# [Write Code]"
      ]
    },
    {
      "cell_type": "markdown",
      "metadata": {
        "id": "5MBGp2LfHxDr"
      },
      "source": [
        "## Comparison\n",
        "\n",
        "Compare performance of the Baseline and the Alternative DDQN Policies"
      ]
    },
    {
      "cell_type": "code",
      "execution_count": null,
      "metadata": {
        "id": "3NDTwhmwH3Lk"
      },
      "outputs": [],
      "source": [
        "# [Write Code]"
      ]
    },
    {
      "cell_type": "markdown",
      "metadata": {
        "id": "VUo4vcwQnbWV"
      },
      "source": [
        "# Visualize with Tensorboard"
      ]
    },
    {
      "cell_type": "code",
      "execution_count": 17,
      "metadata": {
        "id": "ZcIJ3DQc3-Jw"
      },
      "outputs": [
        {
          "data": {
            "text/plain": [
              "Reusing TensorBoard on port 6006 (pid 94189), started 2 days, 19:49:04 ago. (Use '!kill 94189' to kill it.)"
            ]
          },
          "metadata": {},
          "output_type": "display_data"
        },
        {
          "data": {
            "text/html": [
              "\n",
              "      <iframe id=\"tensorboard-frame-eb3d8e2a306e2d7\" width=\"100%\" height=\"800\" frameborder=\"0\">\n",
              "      </iframe>\n",
              "      <script>\n",
              "        (function() {\n",
              "          const frame = document.getElementById(\"tensorboard-frame-eb3d8e2a306e2d7\");\n",
              "          const url = new URL(\"http://localhost\");\n",
              "          const port = 6006;\n",
              "          if (port) {\n",
              "            url.port = port;\n",
              "          }\n",
              "          frame.src = url;\n",
              "        })();\n",
              "      </script>\n",
              "    "
            ],
            "text/plain": [
              "<IPython.core.display.HTML object>"
            ]
          },
          "metadata": {},
          "output_type": "display_data"
        }
      ],
      "source": [
        "%tensorboard --logdir=./ee4802_logs --port=6006"
      ]
    },
    {
      "cell_type": "markdown",
      "metadata": {
        "id": "l-insiT7D_lq"
      },
      "source": [
        "# Comparison Across Four Alternative Policies\n",
        "\n",
        "Compare hyperparameters and performance of the four alternative policies.\n",
        "\n",
        "You may insert extra cells in the notebook to tabulate/plot/log results effectively."
      ]
    },
    {
      "cell_type": "code",
      "execution_count": null,
      "metadata": {
        "id": "SjQwsaxSE5Jh"
      },
      "outputs": [],
      "source": [
        "# [Write Code]"
      ]
    }
  ],
  "metadata": {
    "colab": {
      "collapsed_sections": [
        "PunGDA41nK-t",
        "qZ86BPQR3AhY",
        "uSlOTDlpm78g"
      ],
      "provenance": [],
      "toc_visible": true
    },
    "kernelspec": {
      "display_name": "base",
      "language": "python",
      "name": "python3"
    },
    "language_info": {
      "codemirror_mode": {
        "name": "ipython",
        "version": 3
      },
      "file_extension": ".py",
      "mimetype": "text/x-python",
      "name": "python",
      "nbconvert_exporter": "python",
      "pygments_lexer": "ipython3",
      "version": "3.11.7"
    }
  },
  "nbformat": 4,
  "nbformat_minor": 0
}
