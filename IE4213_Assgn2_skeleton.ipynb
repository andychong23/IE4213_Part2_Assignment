{
  "cells": [
    {
      "cell_type": "markdown",
      "metadata": {
        "colab_type": "text",
        "id": "view-in-github"
      },
      "source": [
        "<a href=\"https://colab.research.google.com/github/andychong23/IE4213_Part2_Assignment/blob/feature%2Fandy%2FQ1/IE4213_Assgn2_skeleton.ipynb\" target=\"_parent\"><img src=\"https://colab.research.google.com/assets/colab-badge.svg\" alt=\"Open In Colab\"/></a>"
      ]
    },
    {
      "cell_type": "code",
      "execution_count": 1,
      "metadata": {
        "colab": {
          "base_uri": "https://localhost:8080/",
          "height": 106
        },
        "id": "gBUF2HJd1fVT",
        "outputId": "cedce019-fa2b-42dc-ba52-cb7fb7f86461"
      },
      "outputs": [
        {
          "ename": "SyntaxError",
          "evalue": "invalid syntax (3987471257.py, line 1)",
          "output_type": "error",
          "traceback": [
            "\u001b[1;36m  Cell \u001b[1;32mIn[1], line 1\u001b[1;36m\u001b[0m\n\u001b[1;33m    Student_1 = Andy Chong Weikang #@param {type:\"string\"}  Name of student 1\u001b[0m\n\u001b[1;37m                     ^\u001b[0m\n\u001b[1;31mSyntaxError\u001b[0m\u001b[1;31m:\u001b[0m invalid syntax\n"
          ]
        }
      ],
      "source": [
        "Student_1 = Andy Chong Weikang #@param {type:\"string\"}  Name of student 1\n",
        "Student_2 = '' #@param {type:\"string\"}  Name of student 2\n",
        "Student_3 = '' #@param {type:\"string\"}  Name of student 3/'\n",
        "Student_4 = '' #@param {type:\"string\"}  Name of student 4"
      ]
    },
    {
      "cell_type": "markdown",
      "metadata": {
        "id": "9PhWOSD2hLUM"
      },
      "source": [
        "# Overvew\n",
        "\n",
        "This is the skeleton code file for the EE4802/IE4213 assignment. Replace the `XX`. in the name of this Colab notebook with your group number (this is important for correct marks to be awarded to your group). Fill in the blank cells below with the necessary code (you should work on this Colab notebook section by section). At the end, the entire Colab notebook should generate all the required results and execute without error.\n",
        "\n",
        "The text above the blank cells provides information on the functionality that needs to be implemented. You need to write Python code at places indicated by `[WriteCode]`"
      ]
    },
    {
      "cell_type": "markdown",
      "metadata": {
        "id": "jXckzF3Fhd4p"
      },
      "source": [
        "## Install and Import Libraries"
      ]
    },
    {
      "cell_type": "code",
      "execution_count": 1,
      "metadata": {
        "id": "19JbK59PhbuE"
      },
      "outputs": [],
      "source": [
        "%%capture\n",
        "# %%capture hides the output\n",
        "# install visulization tool\n",
        "!pip install renderlab\n",
        "!pip install moviepy==1.0.3"
      ]
    },
    {
      "cell_type": "code",
      "execution_count": 2,
      "metadata": {
        "colab": {
          "base_uri": "https://localhost:8080/"
        },
        "id": "E669iRUFhn9J",
        "outputId": "97caa0bb-54b7-45ad-eae2-050bfeb8a42c"
      },
      "outputs": [],
      "source": [
        "import tensorflow as tf\n",
        "from tensorflow import keras\n",
        "assert tf.__version__ >= \"2.0\"\n",
        "\n",
        "import os\n",
        "import time\n",
        "import numpy as np\n",
        "import random\n",
        "from collections import deque\n",
        "\n",
        "import gymnasium as gym\n",
        "# import renderlab as rl"
      ]
    },
    {
      "cell_type": "code",
      "execution_count": 3,
      "metadata": {},
      "outputs": [],
      "source": [
        "%load_ext tensorboard"
      ]
    },
    {
      "cell_type": "markdown",
      "metadata": {
        "id": "9d3w4FRMS36_"
      },
      "source": [
        "# Background"
      ]
    },
    {
      "cell_type": "markdown",
      "metadata": {
        "id": "L8RD1Ggwcqg1"
      },
      "source": [
        "## Environment Exploration: Cart-Pole\n",
        "\n",
        "The **Cart-Pole environment** is a classic reinforcement learning problem where a pole is attached by an un-actuated joint to a cart. The cart moves along a frictionless track, and the goal is to balance the pole upright by applying forces to move the cart left or right.\n",
        "\n",
        "<img src=\"https://gymnasium.farama.org/_images/cart_pole.gif\" width=\"400\">\n",
        "\n",
        "Below is a breakdown of the base Cart-Pole environment:\n"
      ]
    },
    {
      "cell_type": "markdown",
      "metadata": {
        "id": "geWhWkTJRu5w"
      },
      "source": [
        "#### - **Observation Space (*s*)**\n",
        "The observation is represented as a `ndarray` of shape `(4,)`, corresponding to:\n",
        "- **Cart Position**: Horizontal location of the cart.\n",
        "- **Cart Velocity**: Speed of the cart along the track.\n",
        "- **Pole Angle**: Angular position of the pole relative to vertical.\n",
        "- **Pole Angular Velocity**: Speed at which the pole angle changes.\n",
        "\n",
        "The observations are initialized with uniformly random values in the range `(-0.05, 0.05)`.\n"
      ]
    },
    {
      "cell_type": "markdown",
      "metadata": {
        "id": "8r3befVJR4SJ"
      },
      "source": [
        "#### - **Action Space (*a*)**\n",
        "The action is a discrete value (`0` or `1`) indicating the direction of the force applied to the cart:\n",
        "- `0`: Push the cart to the left.\n",
        "- `1`: Push the cart to the right.\n"
      ]
    },
    {
      "cell_type": "markdown",
      "metadata": {
        "id": "BfanxRL4R5jO"
      },
      "source": [
        "\n",
        "#### - **Reward Function (*r*)**\n",
        "The agent receives a reward of `+1` for each time step it successfully keeps the pole upright. The maximum achievable reward in a single episode is `500`."
      ]
    },
    {
      "cell_type": "markdown",
      "metadata": {
        "id": "spv7Ul4CR7SN"
      },
      "source": [
        "#### - **Episode Termination (*isDone*)**\n",
        "An episode ends if any of the following conditions occur:\n",
        "1. **Pole Angle** exceeds `±12°`.\n",
        "2. **Cart Position** exceeds `±2.4` (the cart reaches the edge of the track).\n",
        "3. **Truncation**: The episode reaches the maximum length of `500 steps`."
      ]
    },
    {
      "cell_type": "markdown",
      "metadata": {
        "id": "pD50TBeLif6F"
      },
      "source": [
        "## Getting Familiar with Basic Gym Usage\n",
        "\n",
        "Let's observe how to interact with a Gym environment."
      ]
    },
    {
      "cell_type": "markdown",
      "metadata": {
        "id": "kkeWe780XZVv"
      },
      "source": [
        "The classic “agent-environment loop” pictured below is a simplified representation of reinforcement learning that Gymnasium implements.\n",
        "\n",
        "<img src=\"https://drive.google.com/uc?export=view&id=1feMbDMTfOFTBtj2PAZz-kMjSQKVukEm6\" width=\"250\">\n",
        "\n",
        "\n",
        "The following section represents a simple episode of this loop, we will:\n",
        "\n",
        "1. Import the base Cart-Pole environment from the gym library and explore its functionality.\n",
        "\n",
        "2. Apply modifications to make the environment more challenging by adjusting the pole's dynamics and introducing stochastic forces.\n",
        "\n",
        "3. Sample random actions to control the cart-pole and visualize the process using `renderlab`.\n",
        "\n",
        "These steps will help us understand how the environment behaves under different conditions and prepare us for implementing reinforcement learning agents in later sections.\n",
        "\n"
      ]
    },
    {
      "cell_type": "code",
      "execution_count": 6,
      "metadata": {
        "colab": {
          "base_uri": "https://localhost:8080/",
          "height": 873
        },
        "id": "x2PMYpIKXtWv",
        "outputId": "80bda351-3d63-4102-9180-bb6b47e5a120"
      },
      "outputs": [
        {
          "name": "stdout",
          "output_type": "stream",
          "text": [
            "\n",
            "--- Exploring the Base Environment ---\n",
            "Initial Observation: [0.01254153 0.01532862 0.04032419 0.02983848]\n",
            "Action Space: Discrete(2)\n",
            "Observation Space: Box([-4.8               -inf -0.41887903        -inf], [4.8               inf 0.41887903        inf], (4,), float32)\n",
            "\n",
            "--- Sampling Random Actions and Visualizing ---\n"
          ]
        },
        {
          "ename": "NameError",
          "evalue": "name 'rl' is not defined",
          "output_type": "error",
          "traceback": [
            "\u001b[1;31m---------------------------------------------------------------------------\u001b[0m",
            "\u001b[1;31mNameError\u001b[0m                                 Traceback (most recent call last)",
            "Cell \u001b[1;32mIn[6], line 16\u001b[0m\n\u001b[0;32m     14\u001b[0m \u001b[38;5;66;03m# Sample Random Actions and Visualize\u001b[39;00m\n\u001b[0;32m     15\u001b[0m \u001b[38;5;28mprint\u001b[39m(\u001b[38;5;124m\"\u001b[39m\u001b[38;5;130;01m\\n\u001b[39;00m\u001b[38;5;124m--- Sampling Random Actions and Visualizing ---\u001b[39m\u001b[38;5;124m\"\u001b[39m)\n\u001b[1;32m---> 16\u001b[0m env \u001b[38;5;241m=\u001b[39m \u001b[43mrl\u001b[49m\u001b[38;5;241m.\u001b[39mRenderFrame(env, \u001b[38;5;124m\"\u001b[39m\u001b[38;5;124m./output\u001b[39m\u001b[38;5;124m\"\u001b[39m)\n\u001b[0;32m     17\u001b[0m observation, info \u001b[38;5;241m=\u001b[39m env\u001b[38;5;241m.\u001b[39mreset()\n\u001b[0;32m     18\u001b[0m isDone \u001b[38;5;241m=\u001b[39m \u001b[38;5;28;01mFalse\u001b[39;00m\n",
            "\u001b[1;31mNameError\u001b[0m: name 'rl' is not defined"
          ]
        }
      ],
      "source": [
        "import warnings\n",
        "warnings.filterwarnings('ignore')\n",
        "\n",
        "# Import and Explore the Environment\n",
        "print(\"\\n--- Exploring the Base Environment ---\")\n",
        "env = gym.make(\"CartPole-v1\", render_mode=\"rgb_array\")\n",
        "observation, info = env.reset()\n",
        "\n",
        "# Print information about the environment\n",
        "print(f\"Initial Observation: {observation}\")\n",
        "print(f\"Action Space: {env.action_space}\")  # Discrete actions: 0 (left), 1 (right)\n",
        "print(f\"Observation Space: {env.observation_space}\")  # State variables: cart position, etc.\n",
        "\n",
        "# Sample Random Actions and Visualize\n",
        "print(\"\\n--- Sampling Random Actions and Visualizing ---\")\n",
        "env = rl.RenderFrame(env, \"./output\")\n",
        "observation, info = env.reset()\n",
        "isDone = False\n",
        "\n",
        "# Simulate an episode with random actions\n",
        "while not isDone:\n",
        "    action = env.action_space.sample()  # Take random action\n",
        "    observation, reward, terminated, truncated, info = env.step(action)\n",
        "    print(observation, reward, terminated, truncated, info)\n",
        "    isDone = terminated or truncated\n",
        "\n",
        "env.close()\n",
        "env.play()  # Play the recorded video"
      ]
    },
    {
      "cell_type": "markdown",
      "metadata": {
        "id": "s9wjDE0kfFJd"
      },
      "source": [
        "# Define Helper Functions"
      ]
    },
    {
      "cell_type": "markdown",
      "metadata": {
        "id": "B0UFVPRylCdv"
      },
      "source": [
        "## Plotting Functions"
      ]
    },
    {
      "cell_type": "code",
      "execution_count": 4,
      "metadata": {
        "id": "vsmmRtAVlUz_"
      },
      "outputs": [],
      "source": [
        "# Some plotting functions\n",
        "import matplotlib.pyplot as plt\n",
        "\n",
        "def plot_eval_rwd_mean(eval_mean_list):\n",
        "  \"\"\"Plot evaluation reward mean.\"\"\"\n",
        "  # [WriteCode]\n",
        "  plt.plot(np.array([i for i in range(len(eval_mean_list))]), eval_mean_list)\n",
        "  plt.title(\"Evaluation Reward Mean\")\n",
        "  plt.xlabel(\"Episodes\")\n",
        "  plt.ylabel(\"Reward Mean\")\n",
        "  plt.show()\n",
        "\n",
        "\n",
        "\n",
        "def plot_eval_rwd_var(eval_var_list):\n",
        "  \"\"\"Plot evaluation reward variance.\"\"\"\n",
        "  # [WriteCode]\n",
        "  plt.plot(np.array([i for i in range(len(eval_var_list))]), eval_var_list)\n",
        "  plt.title(\"Evaluation Reward Varaince\")\n",
        "  plt.xlabel(\"Episodes\")\n",
        "  plt.ylabel(\"Reward Variance\")\n",
        "  plt.show()\n",
        "\n",
        "\n",
        "\n",
        "def plot_smoothed_training_rwd(train_rwd_list, window_size=20):\n",
        "  \"\"\"Plot smoothed training rewards using a moving average.\"\"\"\n",
        "  y_output = []\n",
        "  x_output = []\n",
        "  # [WriteCode]\n",
        "  for idx in range(len(train_rwd_list) - window_size):\n",
        "    current_window = train_rwd_list[idx:idx + window_size]\n",
        "    y_output.append(sum(current_window) / window_size)\n",
        "    x_output.append(idx)\n",
        "  plt.plot(x_output, y_output)\n",
        "  plt.title(\"Smoothed Training Rewards\")\n",
        "  plt.xlabel(\"Episodes\")\n",
        "  plt.ylabel(\"Average training rewards\")\n",
        "  plt.show()\n"
      ]
    },
    {
      "cell_type": "markdown",
      "metadata": {
        "id": "N7hA67eaYkCW"
      },
      "source": [
        "## Evaluation Function\n",
        "\n",
        "Evaluate the learnt policy by running 3 evaluation episodes and computing the average and variance of rewards collected."
      ]
    },
    {
      "cell_type": "code",
      "execution_count": 5,
      "metadata": {
        "id": "kKS1vpSmYjyg"
      },
      "outputs": [],
      "source": [
        "def evaluation(model, max_timesteps=500):\n",
        "    # eval_env = gym.make(\"CartPole-v1\", render_mode=\"rgb_array\")\n",
        "    eval_env = gym.make(\"CartPole-v1\")\n",
        "    state_size = eval_env.observation_space.shape[0] # Number of observations (CartPole)\n",
        "    action_size = eval_env.action_space.n            # Number of possible actions\n",
        "    eval_reward = []\n",
        "\n",
        "    for i in range (3):\n",
        "        round_reward = 0\n",
        "        state, _ = eval_env.reset()\n",
        "        state = np.reshape(state, [1, state_size])\n",
        "\n",
        "        for i in range(max_timesteps):\n",
        "            action = np.argmax(model.predict(state, verbose=0)[0])\n",
        "            next_state, reward, terminated, truncated, _ = eval_env.step(action)\n",
        "            next_state = np.reshape(next_state, [1, state_size])\n",
        "\n",
        "            round_reward += reward\n",
        "            state = next_state\n",
        "\n",
        "            if terminated or truncated:\n",
        "                eval_reward.append(round_reward)\n",
        "                break\n",
        "\n",
        "    eval_env.close()\n",
        "\n",
        "    eval_reward_mean = np.sum(eval_reward)/len(eval_reward)\n",
        "    eval_reward_var = np.var(eval_reward)\n",
        "\n",
        "    return eval_reward_mean, eval_reward_var"
      ]
    },
    {
      "cell_type": "markdown",
      "metadata": {
        "id": "kWS8Kd8eiXau"
      },
      "source": [
        "# Setting up Tensorboard\n"
      ]
    },
    {
      "cell_type": "code",
      "execution_count": 6,
      "metadata": {
        "id": "ADO90Q7Hs-lx"
      },
      "outputs": [],
      "source": [
        "def get_run_logdir(k):\n",
        "    root_logdir = os.path.join(os.curdir, \"ee4802_logs\", k)\n",
        "    run_id = time.strftime(\"run_%Y_%m_%d-%H_%M_%S\")\n",
        "    return os.path.join(root_logdir, run_id)"
      ]
    },
    {
      "cell_type": "code",
      "execution_count": 7,
      "metadata": {},
      "outputs": [
        {
          "data": {
            "text/html": [
              "\n",
              "      <iframe id=\"tensorboard-frame-26a67f35cd4e2732\" width=\"100%\" height=\"800\" frameborder=\"0\">\n",
              "      </iframe>\n",
              "      <script>\n",
              "        (function() {\n",
              "          const frame = document.getElementById(\"tensorboard-frame-26a67f35cd4e2732\");\n",
              "          const url = new URL(\"/\", window.location);\n",
              "          const port = 6008;\n",
              "          if (port) {\n",
              "            url.port = port;\n",
              "          }\n",
              "          frame.src = url;\n",
              "        })();\n",
              "      </script>\n",
              "    "
            ],
            "text/plain": [
              "<IPython.core.display.HTML object>"
            ]
          },
          "metadata": {},
          "output_type": "display_data"
        }
      ],
      "source": [
        "%tensorboard --logdir=./ee4802_logs --port=6008"
      ]
    },
    {
      "cell_type": "markdown",
      "metadata": {
        "id": "B07kopgXtOVU"
      },
      "source": [
        "# Initialize Parameters"
      ]
    },
    {
      "cell_type": "code",
      "execution_count": 8,
      "metadata": {
        "id": "JL9ABa8-vRf3"
      },
      "outputs": [],
      "source": [
        "# Use the following set of NN hyperparameters for ALL FOUR basline policies\n",
        "lr =  0.1        #@param {type:\"number\"}               # learning rate\n",
        "epoch =  32     #@param {type:\"number\"}               # epochs\n",
        "episode = 500  #@param {type:\"number\"}               # episodes\n",
        "\n",
        "epsilon = 0.9           #@param {type:\"number\"}     # Starting exploration rate\n",
        "epsilon_min = 0.1    #@param {type:\"number\"}     # Exploration rate min\n",
        "epsilon_decay = 0.99     #@param {type:\"number\"}     # Exploration rate decay\n",
        "\n",
        "gamma = 0.99          #@param {type:\"number\"}     # Agent discount factor\n",
        "\n",
        "# Use the following set of NN hyperparameters for Naive DQN, DQN and DDQN policies\n",
        "ba =  32       #@param {type:\"number\"}               # batch_size\n",
        "\n",
        "# Use the following set of RL hyperparameters for DQN and DDQN policies\n",
        "target_update_freq = 100 # @param {type:\"number\"}    # Target network update frequency\n"
      ]
    },
    {
      "cell_type": "markdown",
      "metadata": {
        "id": "npUYex5Em46O"
      },
      "source": [
        "# Q-Network - Baseline"
      ]
    },
    {
      "cell_type": "markdown",
      "metadata": {
        "id": "XLr4PDQ7nC5T"
      },
      "source": [
        "## Define and Compile the Neural Network\n",
        "\n",
        "A single network $Q_\\theta$ (parameterized by $\\theta$) is used to approximate $Q(s,a)$.\n",
        "\n",
        "The target used by Naive DQN is then:\n",
        "\n",
        "$Y^{NaiveQ}_t = R_{t+1} + \\gamma Q_{\\theta}(S_{t+1}, a)$\n",
        "\n",
        "The training of Q-Network does rely on a Replay Buffer."
      ]
    },
    {
      "cell_type": "code",
      "execution_count": 9,
      "metadata": {
        "colab": {
          "base_uri": "https://localhost:8080/",
          "height": 238
        },
        "id": "WyXho4UKpH3Q",
        "outputId": "aa068deb-de97-4001-a8a3-55f7d3f9b4fe"
      },
      "outputs": [
        {
          "name": "stdout",
          "output_type": "stream",
          "text": [
            "Model: \"sequential\"\n",
            "_________________________________________________________________\n",
            " Layer (type)                Output Shape              Param #   \n",
            "=================================================================\n",
            " dense (Dense)               (None, 32)                160       \n",
            "                                                                 \n",
            " dense_1 (Dense)             (None, 32)                1056      \n",
            "                                                                 \n",
            " dense_2 (Dense)             (None, 2)                 66        \n",
            "                                                                 \n",
            "=================================================================\n",
            "Total params: 1,282\n",
            "Trainable params: 1,282\n",
            "Non-trainable params: 0\n",
            "_________________________________________________________________\n"
          ]
        }
      ],
      "source": [
        "# Q-Network Baseline Model\n",
        "from keras.models import Sequential\n",
        "from keras.layers import Input, Dense, LayerNormalization\n",
        "from keras.initializers import RandomUniform\n",
        "from keras.activations import softmax, relu, tanh\n",
        "\n",
        "# [WriteCode] from ... import ...\n",
        "\n",
        "STATE_SIZE = (4,)\n",
        "ACTION_SIZE = 2\n",
        "LAYER_SIZE = 32\n",
        "SEED = 42\n",
        "\n",
        "# Define the Q-network\n",
        "model = Sequential()\n",
        "\n",
        "# [WriteCode]\n",
        "# model.add(...\n",
        "model.add(Input(shape=STATE_SIZE))\n",
        "'''\n",
        "Add in intermediate layers\n",
        "- Assume 3 layers of 32 nodes each with relu activation\n",
        "'''\n",
        "initializer = RandomUniform(minval=-0.5, maxval=0.5, seed=42)\n",
        "initializer_1 = RandomUniform(minval=-5, maxval=5, seed=42)\n",
        "model.add(Dense(LAYER_SIZE, activation=tanh, kernel_initializer=initializer))\n",
        "model.add(Dense(LAYER_SIZE, activation=tanh, kernel_initializer=initializer_1))\n",
        "model.add(Dense(ACTION_SIZE))\n",
        "\n",
        "# Compile the model\n",
        "# [WriteCode]\n",
        "model.compile(loss='mse', optimizer='adam')\n",
        "\n",
        "# Print the model summary\n",
        "# [WriteCode]\n",
        "model.summary()"
      ]
    },
    {
      "cell_type": "markdown",
      "metadata": {
        "id": "PunGDA41nK-t"
      },
      "source": [
        "## Set Up Env and Train the Policy"
      ]
    },
    {
      "cell_type": "code",
      "execution_count": 10,
      "metadata": {
        "colab": {
          "base_uri": "https://localhost:8080/"
        },
        "id": "-cDAJtaGnCQL",
        "outputId": "44893904-1e3a-47a4-fc50-c078e54e6b65"
      },
      "outputs": [
        {
          "name": "stdout",
          "output_type": "stream",
          "text": [
            "Episode 1/500 | Ep. Total Reward: 18.0 | Epsilon : 0.751 | Eval Rwd Mean: 9.33 | Eval Rwd Var: 0.89\n",
            "Episode 2/500 | Ep. Total Reward: 10.0 | Epsilon : 0.751 | Eval Rwd Mean: 9.67 | Eval Rwd Var: 0.22\n",
            "Episode 3/500 | Ep. Total Reward: 14.0 | Epsilon : 0.751 | Eval Rwd Mean: 9.00 | Eval Rwd Var: 0.00\n",
            "Episode 4/500 | Ep. Total Reward: 16.0 | Epsilon : 0.751 | Eval Rwd Mean: 10.00 | Eval Rwd Var: 0.67\n",
            "Episode 5/500 | Ep. Total Reward: 11.0 | Epsilon : 0.751 | Eval Rwd Mean: 9.33 | Eval Rwd Var: 0.22\n",
            "Episode 6/500 | Ep. Total Reward: 18.0 | Epsilon : 0.751 | Eval Rwd Mean: 9.33 | Eval Rwd Var: 0.22\n",
            "Episode 7/500 | Ep. Total Reward: 43.0 | Epsilon : 0.751 | Eval Rwd Mean: 38.00 | Eval Rwd Var: 32.67\n",
            "Episode 8/500 | Ep. Total Reward: 32.0 | Epsilon : 0.751 | Eval Rwd Mean: 10.67 | Eval Rwd Var: 6.22\n",
            "Episode 9/500 | Ep. Total Reward: 20.0 | Epsilon : 0.751 | Eval Rwd Mean: 12.67 | Eval Rwd Var: 2.89\n",
            "Episode 10/500 | Ep. Total Reward: 43.0 | Epsilon : 0.751 | Eval Rwd Mean: 25.33 | Eval Rwd Var: 6.89\n",
            "Episode 11/500 | Ep. Total Reward: 19.0 | Epsilon : 0.621 | Eval Rwd Mean: 20.33 | Eval Rwd Var: 10.89\n",
            "Episode 12/500 | Ep. Total Reward: 14.0 | Epsilon : 0.621 | Eval Rwd Mean: 10.00 | Eval Rwd Var: 0.67\n",
            "Episode 13/500 | Ep. Total Reward: 29.0 | Epsilon : 0.621 | Eval Rwd Mean: 8.67 | Eval Rwd Var: 0.89\n",
            "Episode 14/500 | Ep. Total Reward: 20.0 | Epsilon : 0.621 | Eval Rwd Mean: 17.00 | Eval Rwd Var: 32.67\n",
            "Episode 15/500 | Ep. Total Reward: 31.0 | Epsilon : 0.621 | Eval Rwd Mean: 22.67 | Eval Rwd Var: 11.56\n",
            "Episode 16/500 | Ep. Total Reward: 22.0 | Epsilon : 0.621 | Eval Rwd Mean: 21.00 | Eval Rwd Var: 8.00\n",
            "Episode 17/500 | Ep. Total Reward: 20.0 | Epsilon : 0.621 | Eval Rwd Mean: 11.67 | Eval Rwd Var: 0.22\n",
            "Episode 18/500 | Ep. Total Reward: 11.0 | Epsilon : 0.621 | Eval Rwd Mean: 10.00 | Eval Rwd Var: 0.67\n",
            "Episode 19/500 | Ep. Total Reward: 12.0 | Epsilon : 0.621 | Eval Rwd Mean: 9.33 | Eval Rwd Var: 0.22\n",
            "Episode 20/500 | Ep. Total Reward: 9.0 | Epsilon : 0.621 | Eval Rwd Mean: 9.33 | Eval Rwd Var: 0.22\n",
            "Episode 21/500 | Ep. Total Reward: 12.0 | Epsilon : 0.550 | Eval Rwd Mean: 9.00 | Eval Rwd Var: 0.67\n",
            "Episode 22/500 | Ep. Total Reward: 24.0 | Epsilon : 0.550 | Eval Rwd Mean: 16.00 | Eval Rwd Var: 4.67\n",
            "Episode 23/500 | Ep. Total Reward: 18.0 | Epsilon : 0.550 | Eval Rwd Mean: 25.00 | Eval Rwd Var: 2.67\n",
            "Episode 24/500 | Ep. Total Reward: 24.0 | Epsilon : 0.550 | Eval Rwd Mean: 28.67 | Eval Rwd Var: 9.56\n",
            "Episode 25/500 | Ep. Total Reward: 50.0 | Epsilon : 0.550 | Eval Rwd Mean: 17.00 | Eval Rwd Var: 0.67\n",
            "Episode 26/500 | Ep. Total Reward: 27.0 | Epsilon : 0.550 | Eval Rwd Mean: 47.67 | Eval Rwd Var: 96.89\n",
            "Episode 27/500 | Ep. Total Reward: 39.0 | Epsilon : 0.550 | Eval Rwd Mean: 43.33 | Eval Rwd Var: 93.56\n",
            "Episode 28/500 | Ep. Total Reward: 29.0 | Epsilon : 0.550 | Eval Rwd Mean: 9.00 | Eval Rwd Var: 0.67\n",
            "Episode 29/500 | Ep. Total Reward: 10.0 | Epsilon : 0.550 | Eval Rwd Mean: 28.33 | Eval Rwd Var: 16.89\n",
            "Episode 30/500 | Ep. Total Reward: 34.0 | Epsilon : 0.550 | Eval Rwd Mean: 8.67 | Eval Rwd Var: 0.22\n",
            "Episode 31/500 | Ep. Total Reward: 16.0 | Epsilon : 0.468 | Eval Rwd Mean: 80.67 | Eval Rwd Var: 11.56\n",
            "Episode 32/500 | Ep. Total Reward: 54.0 | Epsilon : 0.468 | Eval Rwd Mean: 15.33 | Eval Rwd Var: 0.22\n",
            "Episode 33/500 | Ep. Total Reward: 16.0 | Epsilon : 0.468 | Eval Rwd Mean: 29.67 | Eval Rwd Var: 27.56\n",
            "Episode 34/500 | Ep. Total Reward: 45.0 | Epsilon : 0.468 | Eval Rwd Mean: 143.67 | Eval Rwd Var: 1693.56\n",
            "Episode 35/500 | Ep. Total Reward: 50.0 | Epsilon : 0.468 | Eval Rwd Mean: 74.33 | Eval Rwd Var: 74.89\n",
            "Episode 36/500 | Ep. Total Reward: 36.0 | Epsilon : 0.468 | Eval Rwd Mean: 9.33 | Eval Rwd Var: 0.89\n",
            "Episode 37/500 | Ep. Total Reward: 13.0 | Epsilon : 0.468 | Eval Rwd Mean: 10.00 | Eval Rwd Var: 0.00\n",
            "Episode 38/500 | Ep. Total Reward: 13.0 | Epsilon : 0.468 | Eval Rwd Mean: 14.67 | Eval Rwd Var: 2.89\n",
            "Episode 39/500 | Ep. Total Reward: 25.0 | Epsilon : 0.468 | Eval Rwd Mean: 8.67 | Eval Rwd Var: 0.22\n",
            "Episode 40/500 | Ep. Total Reward: 12.0 | Epsilon : 0.468 | Eval Rwd Mean: 9.67 | Eval Rwd Var: 0.22\n",
            "Episode 41/500 | Ep. Total Reward: 9.0 | Epsilon : 0.428 | Eval Rwd Mean: 9.33 | Eval Rwd Var: 0.22\n",
            "Episode 42/500 | Ep. Total Reward: 14.0 | Epsilon : 0.428 | Eval Rwd Mean: 9.33 | Eval Rwd Var: 1.56\n",
            "Episode 43/500 | Ep. Total Reward: 17.0 | Epsilon : 0.428 | Eval Rwd Mean: 9.33 | Eval Rwd Var: 0.22\n",
            "Episode 44/500 | Ep. Total Reward: 10.0 | Epsilon : 0.428 | Eval Rwd Mean: 9.33 | Eval Rwd Var: 1.56\n",
            "Episode 45/500 | Ep. Total Reward: 15.0 | Epsilon : 0.428 | Eval Rwd Mean: 16.67 | Eval Rwd Var: 9.56\n",
            "Episode 46/500 | Ep. Total Reward: 43.0 | Epsilon : 0.428 | Eval Rwd Mean: 17.00 | Eval Rwd Var: 8.00\n",
            "Episode 47/500 | Ep. Total Reward: 32.0 | Epsilon : 0.428 | Eval Rwd Mean: 9.67 | Eval Rwd Var: 0.22\n",
            "Episode 48/500 | Ep. Total Reward: 14.0 | Epsilon : 0.428 | Eval Rwd Mean: 15.33 | Eval Rwd Var: 1.56\n",
            "Episode 49/500 | Ep. Total Reward: 27.0 | Epsilon : 0.428 | Eval Rwd Mean: 125.67 | Eval Rwd Var: 6766.89\n",
            "Episode 50/500 | Ep. Total Reward: 76.0 | Epsilon : 0.428 | Eval Rwd Mean: 69.00 | Eval Rwd Var: 162.67\n",
            "Episode 51/500 | Ep. Total Reward: 68.0 | Epsilon : 0.216 | Eval Rwd Mean: 58.33 | Eval Rwd Var: 144.89\n",
            "Episode 52/500 | Ep. Total Reward: 46.0 | Epsilon : 0.216 | Eval Rwd Mean: 35.00 | Eval Rwd Var: 26.00\n",
            "Episode 53/500 | Ep. Total Reward: 59.0 | Epsilon : 0.216 | Eval Rwd Mean: 55.33 | Eval Rwd Var: 124.22\n",
            "Episode 54/500 | Ep. Total Reward: 28.0 | Epsilon : 0.216 | Eval Rwd Mean: 26.67 | Eval Rwd Var: 9.56\n",
            "Episode 55/500 | Ep. Total Reward: 48.0 | Epsilon : 0.216 | Eval Rwd Mean: 27.00 | Eval Rwd Var: 34.67\n",
            "Episode 56/500 | Ep. Total Reward: 60.0 | Epsilon : 0.216 | Eval Rwd Mean: 48.33 | Eval Rwd Var: 20.22\n",
            "Episode 57/500 | Ep. Total Reward: 66.0 | Epsilon : 0.216 | Eval Rwd Mean: 13.67 | Eval Rwd Var: 5.56\n",
            "Episode 58/500 | Ep. Total Reward: 41.0 | Epsilon : 0.216 | Eval Rwd Mean: 17.00 | Eval Rwd Var: 2.67\n",
            "Episode 59/500 | Ep. Total Reward: 51.0 | Epsilon : 0.216 | Eval Rwd Mean: 26.67 | Eval Rwd Var: 9.56\n",
            "Episode 60/500 | Ep. Total Reward: 158.0 | Epsilon : 0.216 | Eval Rwd Mean: 9.67 | Eval Rwd Var: 0.22\n",
            "Episode 61/500 | Ep. Total Reward: 12.0 | Epsilon : 0.191 | Eval Rwd Mean: 9.33 | Eval Rwd Var: 0.22\n",
            "Episode 62/500 | Ep. Total Reward: 10.0 | Epsilon : 0.191 | Eval Rwd Mean: 9.33 | Eval Rwd Var: 0.89\n",
            "Episode 63/500 | Ep. Total Reward: 16.0 | Epsilon : 0.191 | Eval Rwd Mean: 9.00 | Eval Rwd Var: 0.00\n",
            "Episode 64/500 | Ep. Total Reward: 10.0 | Epsilon : 0.191 | Eval Rwd Mean: 10.00 | Eval Rwd Var: 2.00\n",
            "Episode 65/500 | Ep. Total Reward: 12.0 | Epsilon : 0.191 | Eval Rwd Mean: 9.33 | Eval Rwd Var: 0.89\n",
            "Episode 66/500 | Ep. Total Reward: 10.0 | Epsilon : 0.191 | Eval Rwd Mean: 10.67 | Eval Rwd Var: 1.56\n",
            "Episode 67/500 | Ep. Total Reward: 17.0 | Epsilon : 0.191 | Eval Rwd Mean: 9.33 | Eval Rwd Var: 0.22\n",
            "Episode 68/500 | Ep. Total Reward: 10.0 | Epsilon : 0.191 | Eval Rwd Mean: 36.00 | Eval Rwd Var: 50.67\n",
            "Episode 69/500 | Ep. Total Reward: 201.0 | Epsilon : 0.191 | Eval Rwd Mean: 8.67 | Eval Rwd Var: 0.22\n",
            "Episode 70/500 | Ep. Total Reward: 12.0 | Epsilon : 0.191 | Eval Rwd Mean: 10.67 | Eval Rwd Var: 0.22\n",
            "Episode 71/500 | Ep. Total Reward: 11.0 | Epsilon : 0.171 | Eval Rwd Mean: 22.00 | Eval Rwd Var: 2.00\n",
            "Episode 72/500 | Ep. Total Reward: 69.0 | Epsilon : 0.171 | Eval Rwd Mean: 21.33 | Eval Rwd Var: 0.89\n",
            "Episode 73/500 | Ep. Total Reward: 29.0 | Epsilon : 0.171 | Eval Rwd Mean: 29.00 | Eval Rwd Var: 8.00\n",
            "Episode 74/500 | Ep. Total Reward: 110.0 | Epsilon : 0.171 | Eval Rwd Mean: 21.33 | Eval Rwd Var: 8.22\n",
            "Episode 75/500 | Ep. Total Reward: 153.0 | Epsilon : 0.171 | Eval Rwd Mean: 37.00 | Eval Rwd Var: 8.67\n",
            "Episode 76/500 | Ep. Total Reward: 315.0 | Epsilon : 0.171 | Eval Rwd Mean: 307.33 | Eval Rwd Var: 1426.89\n",
            "Episode 77/500 | Ep. Total Reward: 289.0 | Epsilon : 0.171 | Eval Rwd Mean: 9.33 | Eval Rwd Var: 0.22\n",
            "Episode 78/500 | Ep. Total Reward: 11.0 | Epsilon : 0.171 | Eval Rwd Mean: 9.33 | Eval Rwd Var: 0.89\n",
            "Episode 79/500 | Ep. Total Reward: 9.0 | Epsilon : 0.171 | Eval Rwd Mean: 9.67 | Eval Rwd Var: 0.22\n",
            "Episode 80/500 | Ep. Total Reward: 16.0 | Epsilon : 0.171 | Eval Rwd Mean: 9.33 | Eval Rwd Var: 0.22\n",
            "Episode 81/500 | Ep. Total Reward: 10.0 | Epsilon : 0.155 | Eval Rwd Mean: 10.33 | Eval Rwd Var: 0.22\n",
            "Episode 82/500 | Ep. Total Reward: 87.0 | Epsilon : 0.155 | Eval Rwd Mean: 17.00 | Eval Rwd Var: 0.00\n",
            "Episode 83/500 | Ep. Total Reward: 72.0 | Epsilon : 0.155 | Eval Rwd Mean: 208.00 | Eval Rwd Var: 854.00\n",
            "Episode 84/500 | Ep. Total Reward: 235.0 | Epsilon : 0.155 | Eval Rwd Mean: 9.00 | Eval Rwd Var: 0.67\n",
            "Episode 85/500 | Ep. Total Reward: 11.0 | Epsilon : 0.155 | Eval Rwd Mean: 266.33 | Eval Rwd Var: 101.56\n",
            "Episode 86/500 | Ep. Total Reward: 128.0 | Epsilon : 0.155 | Eval Rwd Mean: 14.33 | Eval Rwd Var: 1.56\n",
            "Episode 87/500 | Ep. Total Reward: 138.0 | Epsilon : 0.155 | Eval Rwd Mean: 133.00 | Eval Rwd Var: 450.00\n",
            "Episode 88/500 | Ep. Total Reward: 210.0 | Epsilon : 0.155 | Eval Rwd Mean: 9.33 | Eval Rwd Var: 0.22\n",
            "Episode 89/500 | Ep. Total Reward: 9.0 | Epsilon : 0.155 | Eval Rwd Mean: 9.33 | Eval Rwd Var: 0.22\n",
            "Episode 90/500 | Ep. Total Reward: 9.0 | Epsilon : 0.155 | Eval Rwd Mean: 9.33 | Eval Rwd Var: 0.22\n",
            "Episode 91/500 | Ep. Total Reward: 11.0 | Epsilon : 0.139 | Eval Rwd Mean: 108.33 | Eval Rwd Var: 106.89\n",
            "Episode 92/500 | Ep. Total Reward: 176.0 | Epsilon : 0.139 | Eval Rwd Mean: 9.67 | Eval Rwd Var: 0.89\n",
            "Episode 93/500 | Ep. Total Reward: 82.0 | Epsilon : 0.139 | Eval Rwd Mean: 102.00 | Eval Rwd Var: 348.67\n",
            "Episode 94/500 | Ep. Total Reward: 130.0 | Epsilon : 0.139 | Eval Rwd Mean: 14.33 | Eval Rwd Var: 2.89\n",
            "Episode 95/500 | Ep. Total Reward: 14.0 | Epsilon : 0.139 | Eval Rwd Mean: 112.33 | Eval Rwd Var: 88.89\n",
            "Episode 96/500 | Ep. Total Reward: 80.0 | Epsilon : 0.139 | Eval Rwd Mean: 9.33 | Eval Rwd Var: 0.89\n",
            "Episode 97/500 | Ep. Total Reward: 11.0 | Epsilon : 0.139 | Eval Rwd Mean: 27.00 | Eval Rwd Var: 8.67\n",
            "Episode 98/500 | Ep. Total Reward: 213.0 | Epsilon : 0.139 | Eval Rwd Mean: 51.00 | Eval Rwd Var: 88.67\n",
            "Episode 99/500 | Ep. Total Reward: 127.0 | Epsilon : 0.139 | Eval Rwd Mean: 31.67 | Eval Rwd Var: 6.22\n",
            "Episode 100/500 | Ep. Total Reward: 95.0 | Epsilon : 0.139 | Eval Rwd Mean: 10.33 | Eval Rwd Var: 0.22\n",
            "Episode 101/500 | Ep. Total Reward: 14.0 | Epsilon : 0.121 | Eval Rwd Mean: 10.00 | Eval Rwd Var: 0.00\n",
            "Episode 102/500 | Ep. Total Reward: 10.0 | Epsilon : 0.121 | Eval Rwd Mean: 14.33 | Eval Rwd Var: 0.89\n",
            "Episode 103/500 | Ep. Total Reward: 162.0 | Epsilon : 0.121 | Eval Rwd Mean: 105.67 | Eval Rwd Var: 634.89\n",
            "Episode 104/500 | Ep. Total Reward: 115.0 | Epsilon : 0.121 | Eval Rwd Mean: 24.00 | Eval Rwd Var: 24.67\n",
            "Episode 105/500 | Ep. Total Reward: 33.0 | Epsilon : 0.121 | Eval Rwd Mean: 23.00 | Eval Rwd Var: 0.00\n",
            "Episode 106/500 | Ep. Total Reward: 36.0 | Epsilon : 0.121 | Eval Rwd Mean: 44.00 | Eval Rwd Var: 18.00\n",
            "Episode 107/500 | Ep. Total Reward: 113.0 | Epsilon : 0.121 | Eval Rwd Mean: 13.67 | Eval Rwd Var: 1.56\n",
            "Episode 108/500 | Ep. Total Reward: 181.0 | Epsilon : 0.121 | Eval Rwd Mean: 158.67 | Eval Rwd Var: 3072.22\n",
            "Episode 109/500 | Ep. Total Reward: 91.0 | Epsilon : 0.121 | Eval Rwd Mean: 106.00 | Eval Rwd Var: 18.00\n",
            "Episode 110/500 | Ep. Total Reward: 109.0 | Epsilon : 0.121 | Eval Rwd Mean: 77.00 | Eval Rwd Var: 146.00\n",
            "Episode 111/500 | Ep. Total Reward: 51.0 | Epsilon : 0.100 | Eval Rwd Mean: 24.00 | Eval Rwd Var: 4.67\n",
            "Episode 112/500 | Ep. Total Reward: 22.0 | Epsilon : 0.100 | Eval Rwd Mean: 117.33 | Eval Rwd Var: 43.56\n",
            "Episode 113/500 | Ep. Total Reward: 111.0 | Epsilon : 0.100 | Eval Rwd Mean: 33.67 | Eval Rwd Var: 10.89\n",
            "Episode 114/500 | Ep. Total Reward: 43.0 | Epsilon : 0.100 | Eval Rwd Mean: 24.33 | Eval Rwd Var: 2.89\n",
            "Episode 115/500 | Ep. Total Reward: 49.0 | Epsilon : 0.100 | Eval Rwd Mean: 364.67 | Eval Rwd Var: 36630.22\n",
            "Episode 116/500 | Ep. Total Reward: 195.0 | Epsilon : 0.100 | Eval Rwd Mean: 341.00 | Eval Rwd Var: 32940.67\n",
            "Episode 117/500 | Ep. Total Reward: 155.0 | Epsilon : 0.100 | Eval Rwd Mean: 41.00 | Eval Rwd Var: 172.67\n",
            "Episode 118/500 | Ep. Total Reward: 128.0 | Epsilon : 0.100 | Eval Rwd Mean: 208.00 | Eval Rwd Var: 42634.67\n",
            "Episode 119/500 | Ep. Total Reward: 166.0 | Epsilon : 0.100 | Eval Rwd Mean: 59.33 | Eval Rwd Var: 2.89\n",
            "Episode 120/500 | Ep. Total Reward: 142.0 | Epsilon : 0.100 | Eval Rwd Mean: 20.67 | Eval Rwd Var: 13.56\n",
            "Episode 121/500 | Ep. Total Reward: 194.0 | Epsilon : 0.100 | Eval Rwd Mean: 28.33 | Eval Rwd Var: 50.89\n",
            "Episode 122/500 | Ep. Total Reward: 30.0 | Epsilon : 0.100 | Eval Rwd Mean: 24.00 | Eval Rwd Var: 8.67\n",
            "Episode 123/500 | Ep. Total Reward: 23.0 | Epsilon : 0.100 | Eval Rwd Mean: 220.67 | Eval Rwd Var: 10437.56\n",
            "Episode 124/500 | Ep. Total Reward: 178.0 | Epsilon : 0.100 | Eval Rwd Mean: 146.67 | Eval Rwd Var: 12569.56\n",
            "Episode 125/500 | Ep. Total Reward: 267.0 | Epsilon : 0.100 | Eval Rwd Mean: 31.00 | Eval Rwd Var: 32.67\n",
            "Episode 126/500 | Ep. Total Reward: 219.0 | Epsilon : 0.100 | Eval Rwd Mean: 20.00 | Eval Rwd Var: 4.67\n",
            "Episode 127/500 | Ep. Total Reward: 100.0 | Epsilon : 0.100 | Eval Rwd Mean: 387.00 | Eval Rwd Var: 25538.00\n",
            "Episode 128/500 | Ep. Total Reward: 116.0 | Epsilon : 0.100 | Eval Rwd Mean: 9.33 | Eval Rwd Var: 0.22\n",
            "Episode 129/500 | Ep. Total Reward: 11.0 | Epsilon : 0.100 | Eval Rwd Mean: 9.67 | Eval Rwd Var: 0.22\n",
            "Episode 130/500 | Ep. Total Reward: 9.0 | Epsilon : 0.100 | Eval Rwd Mean: 35.33 | Eval Rwd Var: 6.22\n",
            "Episode 131/500 | Ep. Total Reward: 374.0 | Epsilon : 0.100 | Eval Rwd Mean: 10.00 | Eval Rwd Var: 2.00\n",
            "Episode 132/500 | Ep. Total Reward: 13.0 | Epsilon : 0.100 | Eval Rwd Mean: 9.33 | Eval Rwd Var: 0.89\n",
            "Episode 133/500 | Ep. Total Reward: 12.0 | Epsilon : 0.100 | Eval Rwd Mean: 12.33 | Eval Rwd Var: 0.89\n",
            "Episode 134/500 | Ep. Total Reward: 185.0 | Epsilon : 0.100 | Eval Rwd Mean: 10.00 | Eval Rwd Var: 0.00\n",
            "Episode 135/500 | Ep. Total Reward: 14.0 | Epsilon : 0.100 | Eval Rwd Mean: 9.67 | Eval Rwd Var: 0.22\n",
            "Episode 136/500 | Ep. Total Reward: 10.0 | Epsilon : 0.100 | Eval Rwd Mean: 15.00 | Eval Rwd Var: 0.67\n",
            "Episode 137/500 | Ep. Total Reward: 62.0 | Epsilon : 0.100 | Eval Rwd Mean: 106.67 | Eval Rwd Var: 48.22\n",
            "Episode 138/500 | Ep. Total Reward: 106.0 | Epsilon : 0.100 | Eval Rwd Mean: 67.00 | Eval Rwd Var: 2.67\n",
            "Episode 139/500 | Ep. Total Reward: 500.0 | Epsilon : 0.100 | Eval Rwd Mean: 11.00 | Eval Rwd Var: 0.00\n",
            "Episode 140/500 | Ep. Total Reward: 82.0 | Epsilon : 0.100 | Eval Rwd Mean: 30.00 | Eval Rwd Var: 4.67\n",
            "Episode 141/500 | Ep. Total Reward: 108.0 | Epsilon : 0.100 | Eval Rwd Mean: 126.67 | Eval Rwd Var: 28.22\n",
            "Episode 142/500 | Ep. Total Reward: 145.0 | Epsilon : 0.100 | Eval Rwd Mean: 122.33 | Eval Rwd Var: 366.22\n",
            "Episode 143/500 | Ep. Total Reward: 156.0 | Epsilon : 0.100 | Eval Rwd Mean: 9.00 | Eval Rwd Var: 0.67\n",
            "Episode 144/500 | Ep. Total Reward: 10.0 | Epsilon : 0.100 | Eval Rwd Mean: 9.67 | Eval Rwd Var: 0.22\n",
            "Episode 145/500 | Ep. Total Reward: 9.0 | Epsilon : 0.100 | Eval Rwd Mean: 9.00 | Eval Rwd Var: 0.67\n",
            "Episode 146/500 | Ep. Total Reward: 29.0 | Epsilon : 0.100 | Eval Rwd Mean: 474.67 | Eval Rwd Var: 587.56\n",
            "Early stopping triggered at Episode 146.\n",
            "Training time: 77.2885 seconds per episode\n"
          ]
        }
      ],
      "source": [
        "# For logging\n",
        "train_reward_lst = []\n",
        "eval_reward_mean_lst = []\n",
        "eval_reward_var_lst = []\n",
        "\n",
        "\n",
        "# Set up environment\n",
        "env = gym.make(\"CartPole-v1\")\n",
        "state_size = env.observation_space.shape[0] # Number of observations (CartPole)\n",
        "action_size = env.action_space.n            # Number of possible actions\n",
        "\n",
        "model_dir = \"q_net_baseline\"  # TensorBoard log directory\n",
        "cb = keras.callbacks.TensorBoard(log_dir = get_run_logdir(model_dir), histogram_freq=1)\n",
        "\n",
        "# For timing training\n",
        "total_training_time = 0\n",
        "\n",
        "for ep in range(episode):\n",
        "    state, _ = env.reset()\n",
        "    state = np.reshape(state, [1, state_size])\n",
        "    total_reward = 0\n",
        "\n",
        "    # record start time\n",
        "    start = time.time()\n",
        "\n",
        "    for _ in range(500):\n",
        "        # Interact with the environment with epsilon-greedy policy\n",
        "        if np.random.rand() <= epsilon:\n",
        "            action = np.random.choice(action_size)\n",
        "        else:\n",
        "            q_values = model.predict(state, verbose=0)\n",
        "            action = np.argmax(q_values)\n",
        "\n",
        "        next_state, reward, terminated, truncated, _ = env.step(action)\n",
        "        next_state = np.reshape(next_state, [1, state_size])\n",
        "\n",
        "        done = terminated or truncated\n",
        "\n",
        "        # Train model using Q-Learning update:  Q(s, a) = r + gamma * max Q(s', a')\n",
        "        # [WriteCode]\n",
        "        q_base = model.predict(state, verbose=0)\n",
        "        q_1_base = model.predict(next_state, verbose=0)\n",
        "        if done:\n",
        "          q_target = reward\n",
        "        else:\n",
        "          q_target = reward + gamma * np.max(q_1_base)\n",
        "\n",
        "        # print(\n",
        "        #     f'''\n",
        "        #     Action Taken: {action}\n",
        "        #     Current State: {state}\n",
        "        #     Next State: {next_state}\n",
        "        #     Total Reward: {total_reward}\n",
        "        #     Reward: {reward}\n",
        "        #     Is terminated: {terminated}\n",
        "        #     Q Values: {model.predict(state, verbose=0)}\n",
        "        #     Q Target: {q_target}\n",
        "        #     Q change: {q_target - q_base[0][action]}\n",
        "        #     '''\n",
        "        # )\n",
        "\n",
        "        q_feed = q_base.copy()\n",
        "        q_feed[0][action] = q_feed[0][action] + lr * (q_target - q_feed[0][action])\n",
        "        model.fit(state, q_feed, epochs=epoch, verbose=0, batch_size=ba, callbacks=[cb])\n",
        "        # Hints:\n",
        "\n",
        "        # 1. Compute target Q-values:\n",
        "        # - If done, Q-target = reward (no future reward)\n",
        "        # - Otherwise, Q-target = reward + gamma * max(Q(next_state, a))\n",
        "\n",
        "        # 2. Predict current Q-values for state\n",
        "        # Update only the Q-value for the taken action\n",
        "\n",
        "        # new_q_val = current_q_val + lr * (q_target - current_q_val)\n",
        "        # print(new_q_val)\n",
        "        # 3. Fit the model:\n",
        "        # - Inputs: state\n",
        "        # - Targets: updated Q-values (with action Q-value replaced by computed target)\n",
        "        # model.fit(state, new_q_val, epochs=epoch, verbose=0, batch_size=ba)\n",
        "\n",
        "\n",
        "        # Update exploration rate\n",
        "        if epsilon > epsilon_min and ep % 10 == 0:\n",
        "            epsilon *= epsilon_decay\n",
        "\n",
        "        state = next_state\n",
        "        total_reward += reward\n",
        "\n",
        "        if done:\n",
        "            break\n",
        "\n",
        "    # record end time and log training time\n",
        "    end = time.time()\n",
        "    total_training_time += end - start\n",
        "\n",
        "    # Evaluation\n",
        "    # [WriteCode]\n",
        "    eval_reward_mean, eval_reward_var = evaluation(model)\n",
        "\n",
        "    print(f\"Episode {ep + 1}/{episode} | Ep. Total Reward: {total_reward}\"\n",
        "        f\" | Epsilon : {epsilon:.3f}\"\n",
        "        f\" | Eval Rwd Mean: {eval_reward_mean:.2f}\"\n",
        "        f\" | Eval Rwd Var: {eval_reward_var:.2f}\")\n",
        "\n",
        "    # Log\n",
        "    eval_reward_mean_lst.append(eval_reward_mean)\n",
        "    eval_reward_var_lst.append(eval_reward_var)\n",
        "    train_reward_lst.append(total_reward)\n",
        "\n",
        "    # Early Stopping Condition to avoid overfitting\n",
        "    # If the evaluation reward reaches the specified threshold, stop training early.\n",
        "    # The default threshold is set to 500, but you should adjust this based on observed training performance.\n",
        "    if eval_reward_mean >= 450 and eval_reward_var <= 25 ** 2: # [Modify this threshold as needed]\n",
        "        print(f\"Early stopping triggered at Episode {ep + 1}.\")\n",
        "        break\n",
        "\n",
        "# evaluate average training time per episode\n",
        "print(f\"Training time: {total_training_time/(ep + 1):.4f} seconds per episode\")\n",
        "\n",
        "env.close()\n"
      ]
    },
    {
      "cell_type": "markdown",
      "metadata": {
        "id": "qZ86BPQR3AhY"
      },
      "source": [
        "## Plot Results"
      ]
    },
    {
      "cell_type": "code",
      "execution_count": 11,
      "metadata": {
        "colab": {
          "base_uri": "https://localhost:8080/",
          "height": 1000
        },
        "id": "It8u9fyj3AL5",
        "outputId": "67009d69-50fc-4673-9d5e-2bbea09580b2"
      },
      "outputs": [
        {
          "data": {
            "image/png": "[encoded data removed]",
            "text/plain": [
              "<Figure size 640x480 with 1 Axes>"
            ]
          },
          "metadata": {},
          "output_type": "display_data"
        },
        {
          "data": {
            "image/png": "[encoded data removed]",
            "text/plain": [
              "<Figure size 640x480 with 1 Axes>"
            ]
          },
          "metadata": {},
          "output_type": "display_data"
        },
        {
          "data": {
            "image/png": "[encoded data removed]",
            "text/plain": [
              "<Figure size 640x480 with 1 Axes>"
            ]
          },
          "metadata": {},
          "output_type": "display_data"
        }
      ],
      "source": [
        "# Write code to plot\n",
        "# 1) Moving Averaged Training Reward, 2) Evaluation Mean, 3) Evaluation Variance\n",
        "# [Write Code]\n",
        "\n",
        "plot_smoothed_training_rwd(eval_reward_mean_lst)\n",
        "\n",
        "plot_eval_rwd_mean(eval_reward_mean_lst)\n",
        "\n",
        "plot_eval_rwd_var(eval_reward_var_lst)"
      ]
    },
    {
      "cell_type": "code",
      "execution_count": 12,
      "metadata": {},
      "outputs": [],
      "source": [
        "model.save(\"q_network_base.keras\")"
      ]
    },
    {
      "cell_type": "markdown",
      "metadata": {
        "id": "uSlOTDlpm78g"
      },
      "source": [
        "# Q-Network - Alternative"
      ]
    },
    {
      "cell_type": "code",
      "execution_count": 13,
      "metadata": {},
      "outputs": [],
      "source": [
        "# Use the following set of NN hyperparameters for ALL FOUR basline policies\n",
        "lr =  0.1        #@param {type:\"number\"}               # learning rate\n",
        "epoch =  16     #@param {type:\"number\"}               # epochs\n",
        "episode = 500  #@param {type:\"number\"}               # episodes\n",
        "\n",
        "epsilon = 0.9           #@param {type:\"number\"}     # Starting exploration rate\n",
        "epsilon_min = 0.1    #@param {type:\"number\"}     # Exploration rate min\n",
        "epsilon_decay = 0.995     #@param {type:\"number\"}     # Exploration rate decay\n",
        "\n",
        "gamma = 0.99          #@param {type:\"number\"}     # Agent discount factor\n",
        "\n",
        "# Use the following set of NN hyperparameters for Naive DQN, DQN and DDQN policies\n",
        "ba =  32       #@param {type:\"number\"}               # batch_size\n",
        "\n",
        "# Use the following set of RL hyperparameters for DQN and DDQN policies\n",
        "target_update_freq = 100 # @param {type:\"number\"}    # Target network update frequency\n"
      ]
    },
    {
      "cell_type": "code",
      "execution_count": 14,
      "metadata": {
        "colab": {
          "base_uri": "https://localhost:8080/",
          "height": 306
        },
        "id": "c9zO7SZssiaR",
        "outputId": "847b4588-ecf0-480e-b124-8e0beb4b26ec"
      },
      "outputs": [
        {
          "name": "stdout",
          "output_type": "stream",
          "text": [
            "Model: \"sequential_1\"\n",
            "_________________________________________________________________\n",
            " Layer (type)                Output Shape              Param #   \n",
            "=================================================================\n",
            " dense_3 (Dense)             (None, 32)                160       \n",
            "                                                                 \n",
            " dense_4 (Dense)             (None, 32)                1056      \n",
            "                                                                 \n",
            " dense_5 (Dense)             (None, 2)                 66        \n",
            "                                                                 \n",
            "=================================================================\n",
            "Total params: 1,282\n",
            "Trainable params: 1,282\n",
            "Non-trainable params: 0\n",
            "_________________________________________________________________\n"
          ]
        }
      ],
      "source": [
        "from keras.models import Sequential\n",
        "from keras.layers import Input, Dense, LayerNormalization\n",
        "from keras.initializers import RandomUniform\n",
        "from keras.activations import softmax, relu, tanh\n",
        "\n",
        "STATE_SIZE = (4,)\n",
        "ACTION_SIZE = 2\n",
        "LAYER_SIZE = 32\n",
        "SEED = 42\n",
        "\n",
        "# Define the Q-network\n",
        "alt_model = Sequential()\n",
        "\n",
        "# [WriteCode]\n",
        "# model.add(...\n",
        "alt_model.add(Input(shape=STATE_SIZE))\n",
        "'''\n",
        "Add in intermediate layers\n",
        "- Assume 3 layers of 32 nodes each with relu activation\n",
        "'''\n",
        "initializer = RandomUniform(minval=-0.5, maxval=0.5, seed=42)\n",
        "initializer_1 = RandomUniform(minval=-5, maxval=5, seed=42)\n",
        "\n",
        "alt_model.add(Dense(LAYER_SIZE, activation=tanh, kernel_initializer=initializer))\n",
        "alt_model.add(Dense(LAYER_SIZE, activation=tanh, kernel_initializer=initializer_1))\n",
        "alt_model.add(Dense(ACTION_SIZE))\n",
        "\n",
        "# Compile the model\n",
        "# [WriteCode]\n",
        "alt_model.compile(loss='mse', optimizer='adam')\n",
        "\n",
        "# Print the model summary\n",
        "# [WriteCode]\n",
        "alt_model.summary()"
      ]
    },
    {
      "cell_type": "code",
      "execution_count": 15,
      "metadata": {
        "colab": {
          "base_uri": "https://localhost:8080/"
        },
        "id": "L_M_IusJMwwo",
        "outputId": "515454d6-3f22-49c8-d43b-236587dde34d"
      },
      "outputs": [
        {
          "name": "stdout",
          "output_type": "stream",
          "text": [
            "Episode 1/500 | Ep. Total Reward: 12.0 | Epsilon : 0.847 | Eval Rwd Mean: 23.33 | Eval Rwd Var: 1.56\n",
            "Episode 2/500 | Ep. Total Reward: 56.0 | Epsilon : 0.847 | Eval Rwd Mean: 39.33 | Eval Rwd Var: 190.89\n",
            "Episode 3/500 | Ep. Total Reward: 20.0 | Epsilon : 0.847 | Eval Rwd Mean: 24.33 | Eval Rwd Var: 73.56\n",
            "Episode 4/500 | Ep. Total Reward: 18.0 | Epsilon : 0.847 | Eval Rwd Mean: 40.67 | Eval Rwd Var: 210.89\n",
            "Episode 5/500 | Ep. Total Reward: 13.0 | Epsilon : 0.847 | Eval Rwd Mean: 22.67 | Eval Rwd Var: 188.22\n",
            "Episode 6/500 | Ep. Total Reward: 9.0 | Epsilon : 0.847 | Eval Rwd Mean: 8.67 | Eval Rwd Var: 0.22\n",
            "Episode 7/500 | Ep. Total Reward: 19.0 | Epsilon : 0.847 | Eval Rwd Mean: 39.33 | Eval Rwd Var: 1901.56\n",
            "Episode 8/500 | Ep. Total Reward: 16.0 | Epsilon : 0.847 | Eval Rwd Mean: 23.67 | Eval Rwd Var: 113.56\n",
            "Episode 9/500 | Ep. Total Reward: 18.0 | Epsilon : 0.847 | Eval Rwd Mean: 24.33 | Eval Rwd Var: 501.56\n",
            "Episode 10/500 | Ep. Total Reward: 27.0 | Epsilon : 0.847 | Eval Rwd Mean: 9.33 | Eval Rwd Var: 0.22\n",
            "Episode 11/500 | Ep. Total Reward: 14.0 | Epsilon : 0.790 | Eval Rwd Mean: 9.33 | Eval Rwd Var: 0.89\n",
            "Episode 12/500 | Ep. Total Reward: 12.0 | Epsilon : 0.790 | Eval Rwd Mean: 9.33 | Eval Rwd Var: 0.22\n",
            "Episode 13/500 | Ep. Total Reward: 21.0 | Epsilon : 0.790 | Eval Rwd Mean: 19.33 | Eval Rwd Var: 160.22\n",
            "Episode 14/500 | Ep. Total Reward: 17.0 | Epsilon : 0.790 | Eval Rwd Mean: 9.00 | Eval Rwd Var: 0.00\n",
            "Episode 15/500 | Ep. Total Reward: 13.0 | Epsilon : 0.790 | Eval Rwd Mean: 10.00 | Eval Rwd Var: 0.67\n",
            "Episode 16/500 | Ep. Total Reward: 10.0 | Epsilon : 0.790 | Eval Rwd Mean: 9.00 | Eval Rwd Var: 2.00\n",
            "Episode 17/500 | Ep. Total Reward: 20.0 | Epsilon : 0.790 | Eval Rwd Mean: 9.00 | Eval Rwd Var: 0.67\n",
            "Episode 18/500 | Ep. Total Reward: 38.0 | Epsilon : 0.790 | Eval Rwd Mean: 9.67 | Eval Rwd Var: 0.22\n",
            "Episode 19/500 | Ep. Total Reward: 15.0 | Epsilon : 0.790 | Eval Rwd Mean: 9.67 | Eval Rwd Var: 0.22\n",
            "Episode 20/500 | Ep. Total Reward: 31.0 | Epsilon : 0.790 | Eval Rwd Mean: 26.33 | Eval Rwd Var: 8.22\n",
            "Episode 21/500 | Ep. Total Reward: 29.0 | Epsilon : 0.683 | Eval Rwd Mean: 23.33 | Eval Rwd Var: 4.22\n",
            "Episode 22/500 | Ep. Total Reward: 32.0 | Epsilon : 0.683 | Eval Rwd Mean: 16.33 | Eval Rwd Var: 0.22\n",
            "Episode 23/500 | Ep. Total Reward: 30.0 | Epsilon : 0.683 | Eval Rwd Mean: 68.67 | Eval Rwd Var: 806.89\n",
            "Episode 24/500 | Ep. Total Reward: 47.0 | Epsilon : 0.683 | Eval Rwd Mean: 9.67 | Eval Rwd Var: 0.22\n",
            "Episode 25/500 | Ep. Total Reward: 12.0 | Epsilon : 0.683 | Eval Rwd Mean: 13.00 | Eval Rwd Var: 0.67\n",
            "Episode 26/500 | Ep. Total Reward: 29.0 | Epsilon : 0.683 | Eval Rwd Mean: 29.67 | Eval Rwd Var: 9.56\n",
            "Episode 27/500 | Ep. Total Reward: 14.0 | Epsilon : 0.683 | Eval Rwd Mean: 9.33 | Eval Rwd Var: 0.22\n",
            "Episode 28/500 | Ep. Total Reward: 19.0 | Epsilon : 0.683 | Eval Rwd Mean: 9.67 | Eval Rwd Var: 0.22\n",
            "Episode 29/500 | Ep. Total Reward: 20.0 | Epsilon : 0.683 | Eval Rwd Mean: 9.33 | Eval Rwd Var: 0.22\n",
            "Episode 30/500 | Ep. Total Reward: 16.0 | Epsilon : 0.683 | Eval Rwd Mean: 9.33 | Eval Rwd Var: 0.22\n",
            "Episode 31/500 | Ep. Total Reward: 12.0 | Epsilon : 0.643 | Eval Rwd Mean: 24.00 | Eval Rwd Var: 20.67\n",
            "Episode 32/500 | Ep. Total Reward: 9.0 | Epsilon : 0.643 | Eval Rwd Mean: 9.33 | Eval Rwd Var: 0.22\n",
            "Episode 33/500 | Ep. Total Reward: 12.0 | Epsilon : 0.643 | Eval Rwd Mean: 9.00 | Eval Rwd Var: 0.67\n",
            "Episode 34/500 | Ep. Total Reward: 22.0 | Epsilon : 0.643 | Eval Rwd Mean: 29.67 | Eval Rwd Var: 14.89\n",
            "Episode 35/500 | Ep. Total Reward: 70.0 | Epsilon : 0.643 | Eval Rwd Mean: 9.00 | Eval Rwd Var: 0.00\n",
            "Episode 36/500 | Ep. Total Reward: 14.0 | Epsilon : 0.643 | Eval Rwd Mean: 34.33 | Eval Rwd Var: 2.89\n",
            "Episode 37/500 | Ep. Total Reward: 23.0 | Epsilon : 0.643 | Eval Rwd Mean: 34.00 | Eval Rwd Var: 8.67\n",
            "Episode 38/500 | Ep. Total Reward: 15.0 | Epsilon : 0.643 | Eval Rwd Mean: 50.00 | Eval Rwd Var: 522.67\n",
            "Episode 39/500 | Ep. Total Reward: 56.0 | Epsilon : 0.643 | Eval Rwd Mean: 44.67 | Eval Rwd Var: 122.89\n",
            "Episode 40/500 | Ep. Total Reward: 37.0 | Epsilon : 0.643 | Eval Rwd Mean: 48.00 | Eval Rwd Var: 128.67\n",
            "Episode 41/500 | Ep. Total Reward: 46.0 | Epsilon : 0.511 | Eval Rwd Mean: 52.33 | Eval Rwd Var: 240.89\n",
            "Episode 42/500 | Ep. Total Reward: 64.0 | Epsilon : 0.511 | Eval Rwd Mean: 9.67 | Eval Rwd Var: 1.56\n",
            "Episode 43/500 | Ep. Total Reward: 99.0 | Epsilon : 0.511 | Eval Rwd Mean: 30.00 | Eval Rwd Var: 18.67\n",
            "Episode 44/500 | Ep. Total Reward: 35.0 | Epsilon : 0.511 | Eval Rwd Mean: 10.00 | Eval Rwd Var: 0.67\n",
            "Episode 45/500 | Ep. Total Reward: 29.0 | Epsilon : 0.511 | Eval Rwd Mean: 9.00 | Eval Rwd Var: 0.67\n",
            "Episode 46/500 | Ep. Total Reward: 64.0 | Epsilon : 0.511 | Eval Rwd Mean: 8.67 | Eval Rwd Var: 0.22\n",
            "Episode 47/500 | Ep. Total Reward: 11.0 | Epsilon : 0.511 | Eval Rwd Mean: 9.00 | Eval Rwd Var: 0.00\n",
            "Episode 48/500 | Ep. Total Reward: 13.0 | Epsilon : 0.511 | Eval Rwd Mean: 8.00 | Eval Rwd Var: 0.00\n",
            "Episode 49/500 | Ep. Total Reward: 81.0 | Epsilon : 0.511 | Eval Rwd Mean: 18.33 | Eval Rwd Var: 48.22\n",
            "Episode 50/500 | Ep. Total Reward: 15.0 | Epsilon : 0.511 | Eval Rwd Mean: 87.00 | Eval Rwd Var: 4424.00\n",
            "Episode 51/500 | Ep. Total Reward: 63.0 | Epsilon : 0.372 | Eval Rwd Mean: 26.33 | Eval Rwd Var: 4.22\n",
            "Episode 52/500 | Ep. Total Reward: 39.0 | Epsilon : 0.372 | Eval Rwd Mean: 24.00 | Eval Rwd Var: 18.67\n",
            "Episode 53/500 | Ep. Total Reward: 25.0 | Epsilon : 0.372 | Eval Rwd Mean: 23.67 | Eval Rwd Var: 24.22\n",
            "Episode 54/500 | Ep. Total Reward: 59.0 | Epsilon : 0.372 | Eval Rwd Mean: 24.00 | Eval Rwd Var: 4.67\n",
            "Episode 55/500 | Ep. Total Reward: 34.0 | Epsilon : 0.372 | Eval Rwd Mean: 26.33 | Eval Rwd Var: 32.89\n",
            "Episode 56/500 | Ep. Total Reward: 138.0 | Epsilon : 0.372 | Eval Rwd Mean: 32.33 | Eval Rwd Var: 29.56\n",
            "Episode 57/500 | Ep. Total Reward: 33.0 | Epsilon : 0.372 | Eval Rwd Mean: 24.67 | Eval Rwd Var: 3.56\n",
            "Episode 58/500 | Ep. Total Reward: 21.0 | Epsilon : 0.372 | Eval Rwd Mean: 24.33 | Eval Rwd Var: 22.22\n",
            "Episode 59/500 | Ep. Total Reward: 55.0 | Epsilon : 0.372 | Eval Rwd Mean: 17.00 | Eval Rwd Var: 8.67\n",
            "Episode 60/500 | Ep. Total Reward: 26.0 | Epsilon : 0.372 | Eval Rwd Mean: 39.33 | Eval Rwd Var: 11.56\n",
            "Episode 61/500 | Ep. Total Reward: 56.0 | Epsilon : 0.281 | Eval Rwd Mean: 55.33 | Eval Rwd Var: 259.56\n",
            "Episode 62/500 | Ep. Total Reward: 80.0 | Epsilon : 0.281 | Eval Rwd Mean: 39.33 | Eval Rwd Var: 14.89\n",
            "Episode 63/500 | Ep. Total Reward: 67.0 | Epsilon : 0.281 | Eval Rwd Mean: 17.67 | Eval Rwd Var: 0.89\n",
            "Episode 64/500 | Ep. Total Reward: 28.0 | Epsilon : 0.281 | Eval Rwd Mean: 23.33 | Eval Rwd Var: 38.22\n",
            "Episode 65/500 | Ep. Total Reward: 41.0 | Epsilon : 0.281 | Eval Rwd Mean: 114.67 | Eval Rwd Var: 2044.22\n",
            "Episode 66/500 | Ep. Total Reward: 224.0 | Epsilon : 0.281 | Eval Rwd Mean: 18.00 | Eval Rwd Var: 2.00\n",
            "Episode 67/500 | Ep. Total Reward: 20.0 | Epsilon : 0.281 | Eval Rwd Mean: 43.67 | Eval Rwd Var: 176.89\n",
            "Episode 68/500 | Ep. Total Reward: 21.0 | Epsilon : 0.281 | Eval Rwd Mean: 39.67 | Eval Rwd Var: 133.56\n",
            "Episode 69/500 | Ep. Total Reward: 32.0 | Epsilon : 0.281 | Eval Rwd Mean: 51.00 | Eval Rwd Var: 148.67\n",
            "Episode 70/500 | Ep. Total Reward: 21.0 | Epsilon : 0.281 | Eval Rwd Mean: 52.33 | Eval Rwd Var: 4.22\n",
            "Episode 71/500 | Ep. Total Reward: 46.0 | Epsilon : 0.223 | Eval Rwd Mean: 29.33 | Eval Rwd Var: 11.56\n",
            "Episode 72/500 | Ep. Total Reward: 33.0 | Epsilon : 0.223 | Eval Rwd Mean: 36.00 | Eval Rwd Var: 4.67\n",
            "Episode 73/500 | Ep. Total Reward: 55.0 | Epsilon : 0.223 | Eval Rwd Mean: 151.00 | Eval Rwd Var: 6082.67\n",
            "Episode 74/500 | Ep. Total Reward: 121.0 | Epsilon : 0.223 | Eval Rwd Mean: 57.67 | Eval Rwd Var: 181.56\n",
            "Episode 75/500 | Ep. Total Reward: 22.0 | Epsilon : 0.223 | Eval Rwd Mean: 26.33 | Eval Rwd Var: 1.56\n",
            "Episode 76/500 | Ep. Total Reward: 23.0 | Epsilon : 0.223 | Eval Rwd Mean: 31.00 | Eval Rwd Var: 40.67\n",
            "Episode 77/500 | Ep. Total Reward: 293.0 | Epsilon : 0.223 | Eval Rwd Mean: 48.00 | Eval Rwd Var: 8.67\n",
            "Episode 78/500 | Ep. Total Reward: 68.0 | Epsilon : 0.223 | Eval Rwd Mean: 43.67 | Eval Rwd Var: 6.22\n",
            "Episode 79/500 | Ep. Total Reward: 137.0 | Epsilon : 0.223 | Eval Rwd Mean: 56.67 | Eval Rwd Var: 8.22\n",
            "Episode 80/500 | Ep. Total Reward: 262.0 | Epsilon : 0.223 | Eval Rwd Mean: 22.00 | Eval Rwd Var: 8.00\n",
            "Episode 81/500 | Ep. Total Reward: 15.0 | Epsilon : 0.207 | Eval Rwd Mean: 10.00 | Eval Rwd Var: 0.00\n",
            "Episode 82/500 | Ep. Total Reward: 9.0 | Epsilon : 0.207 | Eval Rwd Mean: 9.33 | Eval Rwd Var: 0.22\n",
            "Episode 83/500 | Ep. Total Reward: 9.0 | Epsilon : 0.207 | Eval Rwd Mean: 10.67 | Eval Rwd Var: 0.22\n",
            "Episode 84/500 | Ep. Total Reward: 18.0 | Epsilon : 0.207 | Eval Rwd Mean: 12.00 | Eval Rwd Var: 0.67\n",
            "Episode 85/500 | Ep. Total Reward: 15.0 | Epsilon : 0.207 | Eval Rwd Mean: 11.67 | Eval Rwd Var: 0.89\n",
            "Episode 86/500 | Ep. Total Reward: 11.0 | Epsilon : 0.207 | Eval Rwd Mean: 9.33 | Eval Rwd Var: 0.22\n",
            "Episode 87/500 | Ep. Total Reward: 12.0 | Epsilon : 0.207 | Eval Rwd Mean: 10.00 | Eval Rwd Var: 0.67\n",
            "Episode 88/500 | Ep. Total Reward: 10.0 | Epsilon : 0.207 | Eval Rwd Mean: 13.33 | Eval Rwd Var: 1.56\n",
            "Episode 89/500 | Ep. Total Reward: 88.0 | Epsilon : 0.207 | Eval Rwd Mean: 19.67 | Eval Rwd Var: 0.22\n",
            "Episode 90/500 | Ep. Total Reward: 20.0 | Epsilon : 0.207 | Eval Rwd Mean: 16.67 | Eval Rwd Var: 0.22\n",
            "Episode 91/500 | Ep. Total Reward: 24.0 | Epsilon : 0.184 | Eval Rwd Mean: 62.00 | Eval Rwd Var: 4.67\n",
            "Episode 92/500 | Ep. Total Reward: 309.0 | Epsilon : 0.184 | Eval Rwd Mean: 93.67 | Eval Rwd Var: 10.89\n",
            "Episode 93/500 | Ep. Total Reward: 75.0 | Epsilon : 0.184 | Eval Rwd Mean: 68.33 | Eval Rwd Var: 99.56\n",
            "Episode 94/500 | Ep. Total Reward: 76.0 | Epsilon : 0.184 | Eval Rwd Mean: 31.00 | Eval Rwd Var: 4.67\n",
            "Episode 95/500 | Ep. Total Reward: 56.0 | Epsilon : 0.184 | Eval Rwd Mean: 39.33 | Eval Rwd Var: 16.89\n",
            "Episode 96/500 | Ep. Total Reward: 64.0 | Epsilon : 0.184 | Eval Rwd Mean: 69.00 | Eval Rwd Var: 98.67\n",
            "Episode 97/500 | Ep. Total Reward: 40.0 | Epsilon : 0.184 | Eval Rwd Mean: 43.00 | Eval Rwd Var: 74.67\n",
            "Episode 98/500 | Ep. Total Reward: 126.0 | Epsilon : 0.184 | Eval Rwd Mean: 21.67 | Eval Rwd Var: 20.22\n",
            "Episode 99/500 | Ep. Total Reward: 327.0 | Epsilon : 0.184 | Eval Rwd Mean: 35.67 | Eval Rwd Var: 2.89\n",
            "Episode 100/500 | Ep. Total Reward: 489.0 | Epsilon : 0.184 | Eval Rwd Mean: 10.33 | Eval Rwd Var: 1.56\n",
            "Episode 101/500 | Ep. Total Reward: 10.0 | Epsilon : 0.175 | Eval Rwd Mean: 29.33 | Eval Rwd Var: 4.22\n",
            "Episode 102/500 | Ep. Total Reward: 333.0 | Epsilon : 0.175 | Eval Rwd Mean: 27.67 | Eval Rwd Var: 14.89\n",
            "Episode 103/500 | Ep. Total Reward: 429.0 | Epsilon : 0.175 | Eval Rwd Mean: 21.33 | Eval Rwd Var: 11.56\n",
            "Episode 104/500 | Ep. Total Reward: 338.0 | Epsilon : 0.175 | Eval Rwd Mean: 24.67 | Eval Rwd Var: 16.22\n",
            "Episode 105/500 | Ep. Total Reward: 70.0 | Epsilon : 0.175 | Eval Rwd Mean: 14.00 | Eval Rwd Var: 0.67\n",
            "Episode 106/500 | Ep. Total Reward: 14.0 | Epsilon : 0.175 | Eval Rwd Mean: 30.67 | Eval Rwd Var: 14.89\n",
            "Episode 107/500 | Ep. Total Reward: 248.0 | Epsilon : 0.175 | Eval Rwd Mean: 488.33 | Eval Rwd Var: 141.56\n",
            "Early stopping triggered at Episode 107.\n",
            "Training time: 41.1155 seconds per episode\n"
          ]
        }
      ],
      "source": [
        "# For logging\n",
        "alt_train_reward_lst = []\n",
        "alt_eval_reward_mean_lst = []\n",
        "alt_eval_reward_var_lst = []\n",
        "\n",
        "\n",
        "# Set up environment\n",
        "env = gym.make(\"CartPole-v1\")\n",
        "state_size = env.observation_space.shape[0] # Number of observations (CartPole)\n",
        "action_size = env.action_space.n            # Number of possible actions\n",
        "\n",
        "model_dir = \"q_net_baseline_alt\"  # TensorBoard log directory\n",
        "cb = keras.callbacks.TensorBoard(log_dir = get_run_logdir(model_dir), histogram_freq=1)\n",
        "\n",
        "# For timing training\n",
        "total_training_time = 0\n",
        "\n",
        "for ep in range(episode):\n",
        "    state, _ = env.reset()\n",
        "    state = np.reshape(state, [1, state_size])\n",
        "    total_reward = 0\n",
        "\n",
        "    # record start time\n",
        "    start = time.time()\n",
        "\n",
        "    for _ in range(500):\n",
        "        # Interact with the environment with epsilon-greedy policy\n",
        "        if np.random.rand() <= epsilon:\n",
        "            action = np.random.choice(action_size)\n",
        "        else:\n",
        "            q_values = alt_model.predict(state, verbose=0)\n",
        "            action = np.argmax(q_values)\n",
        "\n",
        "        next_state, reward, terminated, truncated, _ = env.step(action)\n",
        "        next_state = np.reshape(next_state, [1, state_size])\n",
        "\n",
        "        done = terminated or truncated\n",
        "\n",
        "        # Train model using Q-Learning update:  Q(s, a) = r + gamma * max Q(s', a')\n",
        "        # [WriteCode]\n",
        "        q_base = alt_model.predict(state, verbose=0)\n",
        "        q_1_base = alt_model.predict(next_state, verbose=0)\n",
        "        if done:\n",
        "          q_target = reward\n",
        "        else:\n",
        "          q_target = reward + gamma * np.max(q_1_base)\n",
        "\n",
        "        q_feed = q_base.copy()\n",
        "        q_feed[0][action] = q_feed[0][action] + lr * (q_target - q_feed[0][action])\n",
        "        alt_model.fit(state, q_feed, epochs=epoch, verbose=0, batch_size=ba, callbacks=[cb])\n",
        "        # Hints:\n",
        "\n",
        "        # 1. Compute target Q-values:\n",
        "        # - If done, Q-target = reward (no future reward)\n",
        "        # - Otherwise, Q-target = reward + gamma * max(Q(next_state, a))\n",
        "\n",
        "        # 2. Predict current Q-values for state\n",
        "        # Update only the Q-value for the taken action\n",
        "\n",
        "        # new_q_val = current_q_val + lr * (q_target - current_q_val)\n",
        "        # print(new_q_val)\n",
        "        # 3. Fit the model:\n",
        "        # - Inputs: state\n",
        "        # - Targets: updated Q-values (with action Q-value replaced by computed target)\n",
        "        # model.fit(state, new_q_val, epochs=epoch, verbose=0, batch_size=ba)\n",
        "\n",
        "\n",
        "        # Update exploration rate\n",
        "        if epsilon > epsilon_min and ep % 10 == 0:\n",
        "            epsilon *= epsilon_decay\n",
        "\n",
        "        state = next_state\n",
        "        total_reward += reward\n",
        "\n",
        "        if done:\n",
        "            break\n",
        "\n",
        "    # record end time and log training time\n",
        "    end = time.time()\n",
        "    total_training_time += end - start\n",
        "\n",
        "    # Evaluation\n",
        "    # [WriteCode]\n",
        "    eval_reward_mean, eval_reward_var = evaluation(alt_model)\n",
        "\n",
        "    print(f\"Episode {ep + 1}/{episode} | Ep. Total Reward: {total_reward}\"\n",
        "        f\" | Epsilon : {epsilon:.3f}\"\n",
        "        f\" | Eval Rwd Mean: {eval_reward_mean:.2f}\"\n",
        "        f\" | Eval Rwd Var: {eval_reward_var:.2f}\")\n",
        "\n",
        "    # Log\n",
        "    alt_eval_reward_mean_lst.append(eval_reward_mean)\n",
        "    alt_eval_reward_var_lst.append(eval_reward_var)\n",
        "    alt_train_reward_lst.append(total_reward)\n",
        "\n",
        "    # Early Stopping Condition to avoid overfitting\n",
        "    # If the evaluation reward reaches the specified threshold, stop training early.\n",
        "    # The default threshold is set to 500, but you should adjust this based on observed training performance.\n",
        "    if eval_reward_mean >= 450 and eval_reward_var <= 25 ** 2: # [Modify this threshold as needed]\n",
        "        print(f\"Early stopping triggered at Episode {ep + 1}.\")\n",
        "        break\n",
        "\n",
        "# evaluate average training time per episode\n",
        "print(f\"Training time: {total_training_time/(ep + 1):.4f} seconds per episode\")\n",
        "\n",
        "env.close()\n"
      ]
    },
    {
      "cell_type": "code",
      "execution_count": 16,
      "metadata": {
        "colab": {
          "base_uri": "https://localhost:8080/",
          "height": 1000
        },
        "id": "wXCrGTHydncm",
        "outputId": "c75fb6aa-f8ff-4840-9199-e5372f2fb18c"
      },
      "outputs": [
        {
          "data": {
            "image/png": "[encoded data removed]",
            "text/plain": [
              "<Figure size 640x480 with 1 Axes>"
            ]
          },
          "metadata": {},
          "output_type": "display_data"
        },
        {
          "data": {
            "image/png": "[encoded data removed]",
            "text/plain": [
              "<Figure size 640x480 with 1 Axes>"
            ]
          },
          "metadata": {},
          "output_type": "display_data"
        },
        {
          "data": {
            "image/png": "[encoded data removed]",
            "text/plain": [
              "<Figure size 640x480 with 1 Axes>"
            ]
          },
          "metadata": {},
          "output_type": "display_data"
        }
      ],
      "source": [
        "# Write code to plot\n",
        "# 1) Moving Averaged Training Reward, 2) Evaluation Mean, 3) Evaluation Variance\n",
        "# [Write Code]\n",
        "\n",
        "plot_smoothed_training_rwd(alt_eval_reward_mean_lst)\n",
        "\n",
        "plot_eval_rwd_mean(alt_eval_reward_mean_lst)\n",
        "\n",
        "plot_eval_rwd_var(alt_eval_reward_var_lst)"
      ]
    },
    {
      "cell_type": "code",
      "execution_count": 17,
      "metadata": {},
      "outputs": [],
      "source": [
        "alt_model.save(\"q_network_alt.keras\")"
      ]
    },
    {
      "cell_type": "code",
      "execution_count": 3,
      "metadata": {},
      "outputs": [],
      "source": [
        "model = tf.keras.models.load_model(\"q_network_base.keras\")\n",
        "alt_model = tf.keras.models.load_model(\"q_network_alt.keras\")"
      ]
    },
    {
      "cell_type": "code",
      "execution_count": 10,
      "metadata": {},
      "outputs": [],
      "source": [
        "import gymnasium as gym\n",
        "import numpy as np"
      ]
    },
    {
      "cell_type": "code",
      "execution_count": 11,
      "metadata": {},
      "outputs": [],
      "source": [
        "def evaluation(model, max_timesteps=500):\n",
        "    # eval_env = gym.make(\"CartPole-v1\", render_mode=\"rgb_array\")\n",
        "    eval_env = gym.make(\"CartPole-v1\")\n",
        "    state_size = eval_env.observation_space.shape[0] # Number of observations (CartPole)\n",
        "    action_size = eval_env.action_space.n            # Number of possible actions\n",
        "    eval_reward = []\n",
        "\n",
        "    for i in range (3):\n",
        "        round_reward = 0\n",
        "        state, _ = eval_env.reset()\n",
        "        state = np.reshape(state, [1, state_size])\n",
        "\n",
        "        for i in range(max_timesteps):\n",
        "            action = np.argmax(model.predict(state, verbose=0)[0])\n",
        "            next_state, reward, terminated, truncated, _ = eval_env.step(action)\n",
        "            next_state = np.reshape(next_state, [1, state_size])\n",
        "\n",
        "            round_reward += reward\n",
        "            state = next_state\n",
        "\n",
        "            if terminated or truncated:\n",
        "                eval_reward.append(round_reward)\n",
        "                break\n",
        "\n",
        "    eval_env.close()\n",
        "\n",
        "    eval_reward_mean = np.sum(eval_reward)/len(eval_reward)\n",
        "    eval_reward_var = np.var(eval_reward)\n",
        "\n",
        "    return eval_reward_mean, eval_reward_var"
      ]
    },
    {
      "cell_type": "code",
      "execution_count": 12,
      "metadata": {},
      "outputs": [
        {
          "name": "stdout",
          "output_type": "stream",
          "text": [
            "Base\n",
            "(483.0, 578.0)\n",
            "(473.6666666666667, 450.8888888888889)\n",
            "(464.6666666666667, 2496.888888888889)\n",
            "(500.0, 0.0)\n",
            "(465.6666666666667, 597.5555555555555)\n",
            "(490.3333333333333, 186.88888888888889)\n",
            "(487.3333333333333, 320.88888888888886)\n",
            "(490.0, 60.666666666666664)\n",
            "(474.0, 340.6666666666667)\n",
            "(500.0, 0.0)\n",
            "\n",
            "Alt:\n",
            "(493.0, 98.0)\n",
            "(486.0, 130.66666666666666)\n",
            "(477.3333333333333, 141.55555555555554)\n",
            "(497.3333333333333, 14.222222222222223)\n",
            "(495.6666666666667, 9.555555555555557)\n",
            "(492.6666666666667, 29.555555555555557)\n",
            "(495.0, 50.0)\n",
            "(483.3333333333333, 141.55555555555554)\n",
            "(488.3333333333333, 128.2222222222222)\n",
            "(500.0, 0.0)\n"
          ]
        }
      ],
      "source": [
        "print(\"Base\")\n",
        "for i in range(10):\n",
        "    print(evaluation(model))\n",
        "    \n",
        "print(\"\\nAlt:\")\n",
        "for i in range(10):\n",
        "    print(evaluation(alt_model))"
      ]
    },
    {
      "cell_type": "markdown",
      "metadata": {
        "id": "Lg9kBHn2slYF"
      },
      "source": [
        "## Comparison\n",
        "\n",
        "Compare performance of the Baseline and the Alternative Naive Q-Network Policies"
      ]
    },
    {
      "cell_type": "code",
      "execution_count": 13,
      "metadata": {},
      "outputs": [
        {
          "data": {
            "text/plain": [
              "[<tf.Variable 'dense/kernel:0' shape=(4, 32) dtype=float32, numpy=\n",
              " array([[ 0.02604186, -0.08026302,  0.69878364, -0.4036259 , -0.06770577,\n",
              "          0.4270477 , -0.12511133, -0.1789266 , -0.46617192, -0.00405665,\n",
              "          0.719035  , -0.12558523, -0.05829082,  0.31268057, -0.05520938,\n",
              "          0.12920861,  0.4642047 , -0.5242104 ,  0.04354537, -0.31442368,\n",
              "         -0.55144817,  0.25413612,  0.22983742, -0.37809864,  0.0531491 ,\n",
              "          0.4766065 , -0.65309495,  0.08728524, -0.36680242,  0.22043248,\n",
              "         -0.10178442,  0.6552859 ],\n",
              "        [-0.06530201,  0.35450676,  0.24604018,  0.10521957,  0.0245208 ,\n",
              "          0.5908047 ,  0.17826211, -0.54978144, -0.02468614,  0.63121843,\n",
              "          0.72988784,  0.3828793 , -0.2087615 ,  0.85273695,  0.26655284,\n",
              "         -0.69684917,  0.6876958 , -0.65943706,  0.0128204 , -0.6236062 ,\n",
              "          0.04124422,  0.15932474,  0.33073336, -0.14596015,  0.5182807 ,\n",
              "          0.30643177, -1.0772998 ,  0.1592323 , -0.16139911,  0.49755618,\n",
              "          0.01457545,  0.5529595 ],\n",
              "        [ 0.38111266, -0.09235194, -0.55101013,  0.24576104, -0.22331437,\n",
              "          0.09614741,  0.49541676,  0.76729035,  0.29253995,  0.38854098,\n",
              "         -0.3531409 ,  0.21506406, -1.1205083 ,  0.32843614,  0.17984298,\n",
              "         -0.7232229 , -0.6132202 ,  0.45983985, -0.08866937, -0.2543154 ,\n",
              "          0.44232732, -0.39623344,  0.00594173,  0.36662433,  0.20803957,\n",
              "          1.1913894 ,  0.03454125, -1.176265  , -0.11889421,  0.52157533,\n",
              "          0.88327926, -0.51318026],\n",
              "        [ 0.26276127,  0.81409883, -0.5230814 , -0.14874405, -0.41250262,\n",
              "          0.07220492,  0.2278962 ,  0.41710782,  0.25281224,  0.7360427 ,\n",
              "          0.30532405,  0.61341584, -0.88059044,  0.24208699, -0.05543606,\n",
              "         -0.46158016, -0.39610484,  0.7255819 , -0.18254444, -0.55555254,\n",
              "         -0.58947825,  0.3317134 ,  0.42393944,  0.14512615,  0.29697976,\n",
              "          1.1345297 , -0.32157722, -0.5645465 , -0.2981544 ,  0.53422993,\n",
              "          0.6816359 , -0.04708296]], dtype=float32)>,\n",
              " <tf.Variable 'dense/bias:0' shape=(32,) dtype=float32, numpy=\n",
              " array([ 0.43883085, -0.15786138,  0.07708748,  0.08425638,  0.12557936,\n",
              "         0.33796322, -0.09877928,  0.11323597,  0.26065156, -0.19652846,\n",
              "         0.01316773,  0.60694927,  0.7121283 ,  0.40734738,  0.5217077 ,\n",
              "        -0.04238228, -0.22720781, -0.51535046, -0.04787288,  0.12521775,\n",
              "        -0.13169149,  0.15659904, -0.24820422, -0.6857885 , -0.2909694 ,\n",
              "         0.05715751, -0.22511709, -0.60819817, -0.13414691, -0.10230409,\n",
              "        -0.86607444, -0.5123357 ], dtype=float32)>,\n",
              " <tf.Variable 'dense_1/kernel:0' shape=(32, 32) dtype=float32, numpy=\n",
              " array([[-1.7981944 , -0.655656  ,  3.6436007 , ..., -0.7441779 ,\n",
              "         -3.1121495 ,  2.388967  ],\n",
              "        [ 4.405798  ,  3.005183  , -3.6129916 , ...,  5.157186  ,\n",
              "         -2.7920356 ,  5.7284126 ],\n",
              "        [ 1.5349658 , -2.3449073 ,  0.30818   , ..., -0.31665203,\n",
              "          1.7830539 ,  0.21465622],\n",
              "        ...,\n",
              "        [-4.2425237 ,  1.7289875 , -0.27665642, ...,  1.1368797 ,\n",
              "         -5.121006  , -2.2993226 ],\n",
              "        [ 2.4823966 ,  2.5800796 , -1.0477322 , ...,  1.6736275 ,\n",
              "          2.0778859 , -1.524387  ],\n",
              "        [ 3.9530256 ,  3.178614  ,  3.2905986 , ...,  0.38318813,\n",
              "         -1.233662  , -3.7820494 ]], dtype=float32)>,\n",
              " <tf.Variable 'dense_1/bias:0' shape=(32,) dtype=float32, numpy=\n",
              " array([-0.26862553, -1.6694733 ,  1.4112978 , -0.7867194 ,  0.4143703 ,\n",
              "        -0.85895365, -0.55764395,  1.3620995 , -0.91131055, -1.0305005 ,\n",
              "         1.1795666 ,  1.7745252 , -1.5831637 , -1.2742789 , -1.3244544 ,\n",
              "        -1.8380758 , -1.6091201 ,  1.7638265 ,  0.9809044 , -1.3531139 ,\n",
              "        -1.5891935 , -0.1920096 ,  1.6757096 , -2.2335658 ,  0.06497896,\n",
              "         1.4029545 ,  2.5083811 ,  1.8851855 , -1.3635609 , -1.9170188 ,\n",
              "        -1.6330286 , -1.7507457 ], dtype=float32)>,\n",
              " <tf.Variable 'dense_2/kernel:0' shape=(32, 2) dtype=float32, numpy=\n",
              " array([[-2.4231656 , -2.559749  ],\n",
              "        [-2.131553  , -2.1496644 ],\n",
              "        [ 1.692889  ,  0.43070403],\n",
              "        [-2.4221313 , -2.0774605 ],\n",
              "        [-1.1125559 ,  0.5060456 ],\n",
              "        [-1.9629489 , -2.6093411 ],\n",
              "        [-1.8595563 , -0.32971597],\n",
              "        [ 1.8544345 ,  2.3447351 ],\n",
              "        [-1.7768558 , -1.5972195 ],\n",
              "        [-2.2904391 , -2.655405  ],\n",
              "        [ 2.4562647 ,  2.418794  ],\n",
              "        [ 2.5153942 ,  2.3677394 ],\n",
              "        [-2.5966945 , -2.5562537 ],\n",
              "        [-2.1497006 , -2.9443097 ],\n",
              "        [-1.829651  , -1.5929058 ],\n",
              "        [-2.2939968 , -2.4913588 ],\n",
              "        [-2.4800923 , -2.3901646 ],\n",
              "        [ 1.8947786 ,  2.2490242 ],\n",
              "        [ 1.8890237 ,  1.9106842 ],\n",
              "        [-2.6748486 , -2.3185995 ],\n",
              "        [-2.4257538 , -2.2927604 ],\n",
              "        [ 1.4391152 , -1.3901981 ],\n",
              "        [ 1.892416  ,  2.3308403 ],\n",
              "        [-1.9408715 , -2.1288912 ],\n",
              "        [ 0.9250248 ,  2.4765263 ],\n",
              "        [ 1.9596937 ,  2.446098  ],\n",
              "        [ 2.2854376 ,  2.2159317 ],\n",
              "        [ 2.2001154 ,  2.2887614 ],\n",
              "        [-2.70539   , -2.6260002 ],\n",
              "        [-2.19332   , -2.372615  ],\n",
              "        [-2.544714  , -2.5353956 ],\n",
              "        [-2.1568182 , -2.0513618 ]], dtype=float32)>,\n",
              " <tf.Variable 'dense_2/bias:0' shape=(2,) dtype=float32, numpy=array([2.4065006, 2.4754689], dtype=float32)>]"
            ]
          },
          "execution_count": 13,
          "metadata": {},
          "output_type": "execute_result"
        }
      ],
      "source": [
        "model.weights"
      ]
    },
    {
      "cell_type": "code",
      "execution_count": 14,
      "metadata": {},
      "outputs": [
        {
          "data": {
            "text/plain": [
              "[<tf.Variable 'dense_3/kernel:0' shape=(4, 32) dtype=float32, numpy=\n",
              " array([[-0.03274799, -0.01950786,  0.12932971, -0.40449306,  0.02237788,\n",
              "          0.04763256, -0.07584667, -0.11517829, -0.01384377,  0.02174293,\n",
              "          0.18860954, -0.24320714,  0.12429243, -0.0768097 ,  0.161471  ,\n",
              "          0.3384506 ,  0.3029642 , -0.19767487, -0.28701538,  0.2373525 ,\n",
              "         -0.13323158, -0.05689148, -0.21771687, -0.22031997,  0.2926229 ,\n",
              "          0.22036994, -0.03192095,  0.20267399, -0.382452  ,  0.28628397,\n",
              "         -0.17172456,  0.21110675],\n",
              "        [ 0.085634  ,  0.04135758,  0.16495217, -0.0296369 , -0.36751047,\n",
              "          0.29162216,  0.39749956, -0.9218331 ,  0.19763505,  0.18434899,\n",
              "          0.58844316,  0.56375295,  0.29023683,  0.11154023,  0.78937167,\n",
              "         -0.8330658 , -0.03097094, -0.44313806,  0.32603562, -0.36685997,\n",
              "         -0.54863137, -0.05565668, -0.45715222,  0.6605164 , -0.0759669 ,\n",
              "         -0.2874797 ,  0.10378426,  0.29143932, -0.26184356,  0.14124887,\n",
              "         -0.5645418 ,  0.2919364 ],\n",
              "        [-0.25540143, -0.67921585,  0.20755179,  0.23393938, -0.47897673,\n",
              "         -0.42316502,  0.0052959 , -0.03895794,  0.28590637, -0.4917703 ,\n",
              "          0.44197494,  0.16682424, -0.35712305, -0.02918953,  0.5897319 ,\n",
              "         -0.6431672 , -0.71896017, -0.40102825,  0.44634926,  0.30435672,\n",
              "         -0.5306298 ,  0.02935388, -0.37441212,  0.51726717, -0.0883355 ,\n",
              "          0.06487018,  0.280208  , -0.24719687, -0.70053387, -0.28321585,\n",
              "          0.252658  ,  0.02857611],\n",
              "        [-0.07625086,  0.17710947,  0.09141745,  0.02842472, -0.43673843,\n",
              "         -0.49129078, -0.27708682, -0.6062713 ,  0.4895148 ,  0.02884561,\n",
              "          0.60553247,  0.28751114, -0.34229434, -0.17908044,  0.09431532,\n",
              "         -0.4956446 , -0.29002392,  0.3865287 ,  0.7270936 , -0.41574225,\n",
              "         -0.74357665,  0.05096102,  0.28039297,  0.60975647,  0.10610493,\n",
              "          0.34987134, -0.20674787,  0.19438618, -0.6652043 ,  0.25233454,\n",
              "         -0.06496448,  0.22805019]], dtype=float32)>,\n",
              " <tf.Variable 'dense_3/bias:0' shape=(32,) dtype=float32, numpy=\n",
              " array([ 0.4246536 ,  0.36589608, -0.38316175,  0.20015214,  0.3155288 ,\n",
              "         0.5379971 , -0.00182249,  0.23930432,  0.3561951 ,  0.39552096,\n",
              "         0.29181364,  0.07602622,  0.566886  ,  0.32349494, -0.04376669,\n",
              "        -0.31717086, -0.06681755, -0.3562579 , -0.22638685,  0.19594467,\n",
              "        -0.2265881 ,  0.21943016,  0.03121745, -0.12261232,  0.56623095,\n",
              "        -0.0532363 , -0.14055306,  0.22820824, -0.16627276,  0.4274537 ,\n",
              "        -0.00339872,  0.21156512], dtype=float32)>,\n",
              " <tf.Variable 'dense_4/kernel:0' shape=(32, 32) dtype=float32, numpy=\n",
              " array([[-1.9645282 ,  0.39930877,  1.3173891 , ...,  0.414923  ,\n",
              "         -1.9053898 ,  4.05656   ],\n",
              "        [ 5.0020723 ,  3.014109  , -3.0496168 , ...,  2.9447827 ,\n",
              "         -3.073303  ,  5.5364084 ],\n",
              "        [-0.2470742 , -3.433101  ,  1.4741387 , ...,  1.4700594 ,\n",
              "          1.6690847 , -0.68201727],\n",
              "        ...,\n",
              "        [-3.8581247 ,  2.4821477 , -2.4006865 , ...,  1.4348412 ,\n",
              "         -3.6420991 , -0.1722756 ],\n",
              "        [ 4.059201  ,  1.5984188 , -0.18006612, ...,  0.18534268,\n",
              "          1.2997055 , -1.6895921 ],\n",
              "        [ 2.0766947 ,  2.5949225 ,  3.7506719 , ...,  1.0342917 ,\n",
              "         -1.5003371 , -4.2331715 ]], dtype=float32)>,\n",
              " <tf.Variable 'dense_4/bias:0' shape=(32,) dtype=float32, numpy=\n",
              " array([ 1.0806941 ,  0.49329177, -1.0814421 , -1.3485274 , -0.74411327,\n",
              "         0.41460162,  0.58297825, -0.9006298 ,  0.53469855, -0.6574501 ,\n",
              "         0.829935  , -1.6875966 , -0.44076362, -1.1901037 , -0.63670146,\n",
              "        -0.4074199 , -0.17260425,  0.33743283,  1.1181756 , -0.45433483,\n",
              "        -0.1637623 ,  0.06970352,  0.7143586 ,  0.90910125,  0.37110612,\n",
              "        -0.3394739 ,  0.40434712,  0.84847856, -1.1717596 , -0.58830386,\n",
              "         0.34095752,  0.8402485 ], dtype=float32)>,\n",
              " <tf.Variable 'dense_5/kernel:0' shape=(32, 2) dtype=float32, numpy=\n",
              " array([[ 2.3877215 ,  2.5935316 ],\n",
              "        [ 2.688075  ,  3.3704646 ],\n",
              "        [-2.8569016 , -2.715439  ],\n",
              "        [-2.4867854 , -3.007143  ],\n",
              "        [-2.3781095 , -2.2722435 ],\n",
              "        [ 2.4092145 ,  3.2681189 ],\n",
              "        [ 2.3412244 ,  2.175419  ],\n",
              "        [-3.1838822 , -1.6391119 ],\n",
              "        [ 2.0986736 ,  2.4892771 ],\n",
              "        [-1.7559724 , -2.624898  ],\n",
              "        [ 2.739992  ,  2.2911234 ],\n",
              "        [-2.3045251 , -2.2841153 ],\n",
              "        [-2.4237072 , -2.478428  ],\n",
              "        [-2.6008244 , -2.8268836 ],\n",
              "        [-2.5394185 , -2.3349202 ],\n",
              "        [-2.2654772 , -2.0720038 ],\n",
              "        [-1.2934364 , -2.8866286 ],\n",
              "        [ 2.7000046 ,  1.9311287 ],\n",
              "        [ 2.2242084 ,  2.238796  ],\n",
              "        [-2.6609678 , -1.9701334 ],\n",
              "        [-2.4974205 , -2.3938203 ],\n",
              "        [-0.5856044 , -1.413034  ],\n",
              "        [ 2.185597  ,  2.3714633 ],\n",
              "        [ 2.2934403 ,  2.7559855 ],\n",
              "        [ 2.416198  ,  2.565983  ],\n",
              "        [-1.4465122 , -0.42375863],\n",
              "        [ 2.451104  ,  2.2982957 ],\n",
              "        [ 2.4357743 ,  2.7885761 ],\n",
              "        [-2.4823582 , -2.2045615 ],\n",
              "        [-2.8875692 , -2.2534115 ],\n",
              "        [-2.5792878 ,  0.95552146],\n",
              "        [ 1.8319494 ,  2.3872647 ]], dtype=float32)>,\n",
              " <tf.Variable 'dense_5/bias:0' shape=(2,) dtype=float32, numpy=array([2.3511655, 2.38165  ], dtype=float32)>]"
            ]
          },
          "execution_count": 14,
          "metadata": {},
          "output_type": "execute_result"
        }
      ],
      "source": [
        "alt_model.weights"
      ]
    },
    {
      "cell_type": "markdown",
      "metadata": {
        "id": "dhgXEg3097Ud"
      },
      "source": [
        "# Experience Replay Framework\n",
        "\n",
        "By now, you may have noticed that in a standard RL setup, the agent **only learns from its most recent experience** at each step. This makes training unstable and inefficient. Additionally, consecutive experiences are often highly correlated, which can lead to poor generalization.\n",
        "\n",
        "To address this, we will adopt the **Experience Replay Framework**, where past interactions are stored in a **Replay Buffer** and **a randomly sampled batch** is used to update the decision-making policy. This helps to:\n",
        "\n",
        "- **Break correlation** between consecutive experiences, stabilizing learning.\n",
        "- **Improve data efficiency** by reusing past experiences multiple times.\n",
        "- **Smooth training updates**, preventing abrupt policy changes.\n",
        "\n",
        "The figure below illustrates this process:\n",
        "\n",
        "<img src=\"https://drive.google.com/uc?export=view&id=1S3Z6Ngpzwz3haycLS-rzx-eBe9QT88MJ\" width=\"400\">\n",
        "\n",
        "- The Agent interacts with the Environment, taking actions based on its learned policy.\n",
        "- The Replay Buffer stores past experiences `(state, action, reward, next state, done)`.\n",
        "- Instead of updating after every step, the agent samples from the buffer and learns from past interactions.\n",
        "\n",
        "This framework is used in naive DQN, DQN and DDQN to stabilize Q-learning.\n",
        "\n"
      ]
    },
    {
      "cell_type": "markdown",
      "metadata": {
        "id": "CkfcXDjNriXH"
      },
      "source": [
        "## Implement Replay Buffer and Functions"
      ]
    },
    {
      "cell_type": "code",
      "execution_count": null,
      "metadata": {
        "id": "lJH9KigXsX8Y"
      },
      "outputs": [],
      "source": [
        "# Store (state, action, reward, next_state, done)\n",
        "def store_experience(replay_buffer, state, action, reward, next_stat, done):\n",
        "        replay_buffer.append((state, action, reward, next_state, done))\n",
        "\n",
        "# Sample (state, action, reward, next_state, done) mini-batch for training\n",
        "def sample_experience(replay_buffer, batch_size):\n",
        "\n",
        "    # Ensure we have enough samples\n",
        "    assert len(replay_buffer) >= batch_size, (\n",
        "        f\"Not enough samples in buffer to sample {batch_size} items.\")\n",
        "\n",
        "    # Sample a mini-batch\n",
        "    minibatch = random.sample(replay_buffer, batch_size)\n",
        "\n",
        "    states, actions, rewards, next_states, dones = zip(*minibatch)\n",
        "\n",
        "    states = np.array(states, dtype=np.float32).squeeze()\n",
        "    next_states = np.array(next_states, dtype=np.float32).squeeze()\n",
        "    actions = np.array(actions, dtype=np.int32)\n",
        "    rewards = np.array(rewards, dtype=np.float32)\n",
        "    dones = np.array(dones, dtype=np.float32)\n",
        "\n",
        "    return states, actions, rewards, next_states, dones\n",
        "\n",
        "# [Hint] You may find the following statements useful\n",
        "\"\"\"\n",
        "# Define replay buffer\n",
        "replay_buffer = deque(maxlen=10000)\n",
        "\n",
        "# Store experience tuple into replay_buffer\n",
        "store_experience(replay_buffer, state, action, reward, next_state, done)\n",
        "\n",
        "# Sample mini-batch of size ba from replay_buffer\n",
        "states, actions, rewards, next_states, dones = sample_experience(replay_buffer, ba)\n",
        "\"\"\""
      ]
    },
    {
      "cell_type": "markdown",
      "metadata": {
        "id": "OCkBN3gIiLFP"
      },
      "source": [
        "# Naive DQN - Baseline\n",
        "\n",
        "In this section, you will complete the Naive DQN alorithm by implementing the missing components marked as `[WriteCode]`.\n",
        "\n"
      ]
    },
    {
      "cell_type": "markdown",
      "metadata": {
        "id": "tyRVFFdXvFYk"
      },
      "source": [
        "## Define and Compile the Neural Network\n",
        "\n",
        "A single network $Q_\\theta$ (parameterized by $\\theta$) is used to approximate $Q(s,a)$.\n",
        "\n",
        "The target used by Naive DQN is then:\n",
        "\n",
        "$Y^{NaiveQ}_t = R_{t+1} + \\gamma Q_{\\theta}(S_{t+1}, a)$"
      ]
    },
    {
      "cell_type": "code",
      "execution_count": null,
      "metadata": {
        "id": "83PVW-l7DRc6"
      },
      "outputs": [],
      "source": [
        "# Naive DQN Baseline Model\n",
        "from keras.models import Sequential\n",
        "from keras.layers import Dense\n",
        "\n",
        "\n",
        "# [WriteCode] from ... import ...\n",
        "\n",
        "# Define the Q-network\n",
        "model = Sequential()\n",
        "\n",
        "# [WriteCode]\n",
        "# model.add(...\n",
        "\n",
        "# Compile the model\n",
        "# [WriteCode]\n",
        "\n",
        "# Print the model summary\n",
        "# [WriteCode]"
      ]
    },
    {
      "cell_type": "markdown",
      "metadata": {
        "id": "c9X6H46OIExH"
      },
      "source": [
        "## Set Up Env and Train the Policy"
      ]
    },
    {
      "cell_type": "code",
      "execution_count": null,
      "metadata": {
        "id": "wK70zqKbIHWJ"
      },
      "outputs": [],
      "source": [
        "# For logging\n",
        "train_reward_lst = []\n",
        "eval_reward_mean_lst = []\n",
        "eval_reward_var_lst = []\n",
        "\n",
        "# Set up environment\n",
        "env = gym.make(\"CartPole-v1\", render_mode=\"rgb_array\")\n",
        "state_size = env.observation_space.shape[0] # Number of observations (CartPole)\n",
        "action_size = env.action_space.n            # Number of possible actions\n",
        "\n",
        "model_dir = \"naive_dqn_baseline\"  # TensorBoard log directory\n",
        "cb = keras.callbacks.TensorBoard(log_dir = get_run_logdir(model_dir), histogram_freq=1)\n",
        "\n",
        "# For timing training\n",
        "total_training_time = 0\n",
        "\n",
        "# Define replay buffer\n",
        "# [WriteCode]\n",
        "# replay_buffer = ...\n",
        "\n",
        "for ep in range(episode):\n",
        "    state, _ = env.reset()\n",
        "    state = np.reshape(state, [1, state_size])\n",
        "    total_reward = 0\n",
        "\n",
        "    # record start time\n",
        "    start = time.time()\n",
        "\n",
        "    for _ in range(500):\n",
        "        # Interact with the environment with epsilon-greedy policy\n",
        "        if np.random.rand() <= epsilon:\n",
        "            action = np.random.choice(action_size)\n",
        "        else:\n",
        "            q_values = model.predict(state, verbose=0)\n",
        "            action = np.argmax(q_values)\n",
        "\n",
        "        next_state, reward, terminated, truncated, _ = env.step(action)\n",
        "        next_state = np.reshape(next_state, [1, state_size])\n",
        "        done = terminated or truncated\n",
        "\n",
        "        # store experience into replay buffer\n",
        "        # [WriteCode]\n",
        "\n",
        "        state = next_state\n",
        "        total_reward += reward\n",
        "\n",
        "        if done:\n",
        "            break\n",
        "\n",
        "\n",
        "        if len(replay_buffer) >= ba:\n",
        "            # Update policy with mini-batches if replay buffer contains enough samples\n",
        "            # Update policy using Q-Learning update:  Q(s, a) = r + gamma * max Q(s', a')\n",
        "            # [WriteCode]\n",
        "\n",
        "            # Hints:\n",
        "\n",
        "            # 1. Compute target Q-values:\n",
        "            # - If done, Q-target = reward (no future reward)\n",
        "            # - Otherwise, Q-target = reward + gamma * max(Q(next_state, a))\n",
        "\n",
        "            # 2. Predict current Q-values for state\n",
        "            # Update only the Q-value for the taken action\n",
        "\n",
        "            # 3. Fit the model:\n",
        "            # - Inputs: state\n",
        "            # - Targets: updated Q-values (with action Q-value replaced by computed target)\n",
        "\n",
        "            # Update exploration rate\n",
        "            if epsilon > epsilon_min:\n",
        "                epsilon *= epsilon_decay\n",
        "\n",
        "    # record end time and log training time\n",
        "    end = time.time()\n",
        "    total_training_time += end - start\n",
        "\n",
        "    # Evaluation\n",
        "    # [WriteCode]\n",
        "\n",
        "\n",
        "    print(f\"Episode {ep + 1}/{episode} | Ep. Total Reward: {total_reward}\"\n",
        "        f\" | Epsilon : {epsilon:.3f}\"\n",
        "        f\" | Eval Rwd Mean: {eval_reward_mean:.2f}\"\n",
        "        f\" | Eval Rwd Var: {eval_reward_var:.2f}\")\n",
        "\n",
        "    # Log\n",
        "    eval_reward_mean_lst.append(eval_reward_mean)\n",
        "    eval_reward_var_lst.append(eval_reward_var)\n",
        "    train_reward_lst.append(total_reward)\n",
        "\n",
        "    # Early Stopping Condition to avoid overfitting\n",
        "    # If the evaluation reward reaches the specified threshold, stop training early.\n",
        "    # The default threshold is set to 500, but you should adjust this based on observed training performance.\n",
        "    if eval_reward_mean > 500: # [Modify this threshold as needed]\n",
        "        print(f\"Early stopping triggered at Episode {ep + 1}.\")\n",
        "        break\n",
        "\n",
        "# evaluate average training time per episode\n",
        "print(f\"Training time: {total_training_time/episode:.4f} seconds per episode\")\n",
        "\n",
        "env.close()"
      ]
    },
    {
      "cell_type": "markdown",
      "metadata": {
        "id": "HMgwUOjQ30iI"
      },
      "source": [
        "## Plot Results"
      ]
    },
    {
      "cell_type": "code",
      "execution_count": null,
      "metadata": {
        "id": "FcQkJXSl30iI"
      },
      "outputs": [],
      "source": [
        "# Write code to plot\n",
        "# 1) Moving Averaged Training Reward, 2) Evaluation Mean, 3) Evaluation Variance\n",
        "# [Write Code]\n",
        "\n",
        "# plot_smoothed_training_rwd(...\n",
        "\n",
        "# plot_eval_rwd_mean(...\n",
        "\n",
        "# plot_eval_rwd_var(...\n"
      ]
    },
    {
      "cell_type": "markdown",
      "metadata": {
        "id": "qsx1mQTZwhNC"
      },
      "source": [
        "# Naive DQN - Alternative\n",
        "You may insert extra cells in the notebook to perform tuning experiments and log results effectively. Use TensorBoard, plots, or tables to visualize the impact of different hyperparameter choices."
      ]
    },
    {
      "cell_type": "code",
      "execution_count": null,
      "metadata": {
        "id": "auXumGG5w7JN"
      },
      "outputs": [],
      "source": [
        "# [Write Code]"
      ]
    },
    {
      "cell_type": "markdown",
      "metadata": {
        "id": "lAiI3y2yw47Q"
      },
      "source": [
        "## Comparison\n",
        "\n",
        "Compare performance of the Baseline and the Alternative Naive DQN Policies"
      ]
    },
    {
      "cell_type": "code",
      "execution_count": null,
      "metadata": {
        "id": "dHIjFgUhw-aR"
      },
      "outputs": [],
      "source": [
        "# [Write Code]"
      ]
    },
    {
      "cell_type": "markdown",
      "metadata": {
        "id": "Iy8REuq6iQah"
      },
      "source": [
        "# DQN\n",
        "\n",
        "In this section, you will complete the DQN algorithm by implementing the missing components marked as `[WriteCode]`.\n"
      ]
    },
    {
      "cell_type": "markdown",
      "metadata": {
        "id": "ZXqZUwXkxYci"
      },
      "source": [
        "## Define and Compile the Neural Networks"
      ]
    },
    {
      "cell_type": "markdown",
      "metadata": {
        "id": "2FvxFyz5hnEP"
      },
      "source": [
        "The standard DQN [https://arxiv.org/abs/1312.5602] approach features a periodically updated target network to stabilize training:\n",
        "\n",
        "- `target_model`: A periodically updated network that stabilizes training. During training, this network is used to compute $Q(S_{t+1}, a)$ for each possible action $a$. This network is not actively trained, but at regular intervals, its weights are copied from `eval_model`. This prevents rapid fluctuations in target Q-values and improves learning stability.\n",
        "\n",
        "- `eval_model`: The online learning network that interacts with the environment. During training, this network is used to compute $Q(S_{t}, a)$ for each possible action $a$. It updates its weights by minimizing the difference between predicted and target Q-values, improving the agent's decision-making over time.\n",
        "\n",
        "The target used by DQN is then:\n",
        "\n",
        "$Y^{Q}_t = R_{t+1} + \\gamma \\max_a Q_{target}(S_{t+1}, a)$\n",
        "\n",
        "In the following section, define `[eval_model]` and `[target_model]` with identical architectures."
      ]
    },
    {
      "cell_type": "code",
      "execution_count": null,
      "metadata": {
        "id": "NYILkt0Gzd5G"
      },
      "outputs": [],
      "source": [
        "# DQN Baseline Model\n",
        "from keras.models import Sequential\n",
        "from keras.layers import Dense\n",
        "\n",
        "\n",
        "# [WriteCode] from ... import ...\n",
        "\n",
        "# Define the eval (online) network\n",
        "eval_model = Sequential()\n",
        "\n",
        "# [WriteCode]\n",
        "# model.add(...\n",
        "\n",
        "# Compile the model\n",
        "# [WriteCode]\n",
        "\n",
        "# Print the model summary\n",
        "# [WriteCode]\n",
        "\n",
        "\n",
        "# Create target_model with the same architecture\n",
        "target_model = Sequential()\n",
        "\n",
        "# [WriteCode]\n",
        "# model.add(...\n",
        "\n",
        "# Skip compiling as target_model will not be trained with .fit()\n",
        "# Instead, weights will be copied from the online model\n",
        "target_model.set_weights(eval_model.get_weights())\n",
        "\n",
        "# Print the model summary\n",
        "# [WriteCode]\n",
        "print(target_model.summary())"
      ]
    },
    {
      "cell_type": "markdown",
      "metadata": {
        "id": "WZfiKQHk_Vjb"
      },
      "source": [
        "## Set Up Env and Train the Policy"
      ]
    },
    {
      "cell_type": "markdown",
      "metadata": {
        "id": "hsudLCVWB1Em"
      },
      "source": [
        "In this section, you will complete the DQN training routine by implementing the missing components marked as `[WriteCode]`.\n",
        "\n",
        "\n"
      ]
    },
    {
      "cell_type": "code",
      "execution_count": null,
      "metadata": {
        "id": "I96clO81hFJ_"
      },
      "outputs": [],
      "source": [
        "# For logging\n",
        "train_reward_lst = []\n",
        "eval_reward_mean_lst = []\n",
        "eval_reward_var_lst = []\n",
        "\n",
        "# Set up environment\n",
        "env = gym.make(\"CartPole-v1\", render_mode=\"rgb_array\")\n",
        "state_size = env.observation_space.shape[0] # Number of observations (CartPole)\n",
        "action_size = env.action_space.n            # Number of possible actions\n",
        "\n",
        "model_dir = \"dqn_baseline\"   # TensorBoard log directory\n",
        "cb = keras.callbacks.TensorBoard(log_dir = get_run_logdir(model_dir), histogram_freq=1)\n",
        "\n",
        "# Train Counter for weight syncing\n",
        "train_counter = 0\n",
        "\n",
        "# For timing training\n",
        "total_training_time = 0\n",
        "\n",
        "# Define replay buffer\n",
        "# replay_buffer = ...\n",
        "\n",
        "for ep in range(episode):\n",
        "    state, _ = env.reset()\n",
        "    state = np.reshape(state, [1, state_size])\n",
        "    total_reward = 0\n",
        "\n",
        "    # record start time\n",
        "    start = time.time()\n",
        "\n",
        "    for _ in range(500):\n",
        "        # Interact with the environment with epsilon-greedy policy\n",
        "        if np.random.rand() <= epsilon:\n",
        "            action = np.random.choice(action_size)\n",
        "        else:\n",
        "            q_values = eval_model.predict(state, verbose=0)\n",
        "            action = np.argmax(q_values)\n",
        "\n",
        "        next_state, reward, terminated, truncated, _ = env.step(action)\n",
        "        next_state = np.reshape(next_state, [1, state_size])\n",
        "        done = terminated or truncated\n",
        "\n",
        "        # store experience into replay buffer\n",
        "        # [WriteCode]\n",
        "\n",
        "        state = next_state\n",
        "        total_reward += reward\n",
        "\n",
        "        if done:\n",
        "            break\n",
        "\n",
        "        if len(replay_buffer) >= ba:\n",
        "            train_counter += 1\n",
        "            # Update policy with mini-batches if replay buffer contains enough samples\n",
        "            # Update policy using Deep Q-Learning update: Q(s, a) = r + gamma * max Q_target(S', a)\n",
        "            # [WriteCode]\n",
        "\n",
        "            # Compute target Q-values:\n",
        "            # - If done, Q-target = reward (no future reward)\n",
        "            # - Otherwise, Q-target = reward + gamma * max(Q_target(next_state, a))\n",
        "\n",
        "            # Predict current Q-values for state using eval_model\n",
        "            # Predict future Q-values using target_model (NOT eval_model)\n",
        "\n",
        "            # Update only the Q-value for the taken action\n",
        "\n",
        "            # Fit the model:\n",
        "            # - Inputs: state\n",
        "            # - Targets: updated Q-values (with action Q-value replaced by computed target)\n",
        "\n",
        "\n",
        "            # Update exploration rate\n",
        "            if epsilon > epsilon_min:\n",
        "                epsilon *= epsilon_decay\n",
        "\n",
        "            # Periodically update the target network\n",
        "            if train_counter % target_update_freq == 0:\n",
        "                target_model.set_weights(eval_model.get_weights())\n",
        "\n",
        "    # record end time and log training time\n",
        "    end = time.time()\n",
        "    total_training_time += end - start\n",
        "\n",
        "    # Evaluation\n",
        "    # [WriteCode]\n",
        "\n",
        "\n",
        "    print(f\"Episode {ep + 1}/{episode} | Ep. Total Reward: {total_reward}\"\n",
        "        f\" | Epsilon : {epsilon:.3f}\"\n",
        "        f\" | Eval Rwd Mean: {eval_reward_mean:.2f}\"\n",
        "        f\" | Eval Rwd Var: {eval_reward_var:.2f}\")\n",
        "\n",
        "    # Log\n",
        "    eval_reward_mean_lst.append(eval_reward_mean)\n",
        "    eval_reward_var_lst.append(eval_reward_var)\n",
        "    train_reward_lst.append(total_reward)\n",
        "\n",
        "    # Early Stopping Condition to avoid overfitting\n",
        "    # If the evaluation reward reaches the specified threshold, stop training early.\n",
        "    # The default threshold is set to 500, but you should adjust this based on observed training performance.\n",
        "    if eval_reward_mean > 500: # [Modify this threshold as needed]\n",
        "        print(f\"Early stopping triggered at Episode {ep + 1}.\")\n",
        "        break\n",
        "\n",
        "# evaluate average training time per episode\n",
        "print(f\"Training time: {total_training_time/episode:.4f} seconds per episode\")\n",
        "\n",
        "env.close()"
      ]
    },
    {
      "cell_type": "markdown",
      "metadata": {
        "id": "cWTB-X8Q35lX"
      },
      "source": [
        "## Plot Results"
      ]
    },
    {
      "cell_type": "code",
      "execution_count": null,
      "metadata": {
        "id": "gUC2aelO35lX"
      },
      "outputs": [],
      "source": [
        "# Write code to plot\n",
        "# 1) Moving Averaged Training Reward, 2) Evaluation Mean, 3) Evaluation Variance\n",
        "# [Write Code]\n",
        "plot_smoothed_training_rwd(train_reward_lst, window_size=20)\n",
        "plot_eval_rwd_mean(eval_reward_mean_lst)\n",
        "plot_eval_rwd_var(eval_reward_var_lst)"
      ]
    },
    {
      "cell_type": "markdown",
      "metadata": {
        "id": "aGOFWup5ZiYp"
      },
      "source": [
        "# DQN - Alternative\n",
        "\n",
        "You may insert extra cells in the notebook to perform tuning experiments and log results effectively. Use TensorBoard, plots, or tables to visualize the impact of different hyperparameter choices."
      ]
    },
    {
      "cell_type": "markdown",
      "metadata": {
        "id": "eOwN55lA34nm"
      },
      "source": [
        "## Plot Results"
      ]
    },
    {
      "cell_type": "code",
      "execution_count": null,
      "metadata": {
        "id": "hf5220Bw34nm"
      },
      "outputs": [],
      "source": [
        "# Write code to plot\n",
        "# 1) Moving Averaged Training Reward, 2) Evaluation Mean, 3) Evaluation Variance\n",
        "# [Write Code]\n",
        "\n",
        "# plot_smoothed_training_rwd(...\n",
        "\n",
        "# plot_eval_rwd_mean(...\n",
        "\n",
        "# plot_eval_rwd_var(..."
      ]
    },
    {
      "cell_type": "code",
      "execution_count": null,
      "metadata": {
        "id": "SvxOyxpPZlfW"
      },
      "outputs": [],
      "source": [
        "# [Write Code]"
      ]
    },
    {
      "cell_type": "markdown",
      "metadata": {
        "id": "0oTzmTnlZlru"
      },
      "source": [
        "## Comparison\n",
        "\n",
        "Compare performance of the Baseline and the Alternative DQN Policies"
      ]
    },
    {
      "cell_type": "code",
      "execution_count": null,
      "metadata": {
        "id": "HiMW7bE1Zq2B"
      },
      "outputs": [],
      "source": [
        "# [Write Code]"
      ]
    },
    {
      "cell_type": "markdown",
      "metadata": {
        "id": "4yGOGzD5iRw5"
      },
      "source": [
        "# DDQN"
      ]
    },
    {
      "cell_type": "markdown",
      "metadata": {
        "id": "-nURxQ5zZwu5"
      },
      "source": [
        "## Define and Compile the Neural Networks\n",
        "\n",
        "The Double Deep Q-Network (DDQN) [https://arxiv.org/abs/1509.06461] improves upon standard DQN by reducing overestimation bias in Q-values. DDQN achieves this by decoupling action selection from value estimation using two networks, which is almost identical as DQN:\n",
        "\n",
        "- `target_model`: A periodically updated network that stabilizes training. During training, this network is used to compute $Q(S_{t+1}, a)$ for each possible action $a$. This network is also not trained but synced from `eval_model`. **However, unlike DQN, this network is only used to evaluate the Q-value of the action chosen by `eval_model`, making value updates more stable.**\n",
        "\n",
        "- `eval_model`: The online learning network that interacts with the environment. During training, this network is used to select the best action using $\\arg\\max_a Q(S_{t}, a)$ and updates its weights by minimizing the difference between predicted and target Q-value.\n",
        "\n",
        "The target used by DDQN is then:\n",
        "\n",
        "$Y^{Q}_t = R_{t+1} + \\gamma Q_{target}(S_{t+1}, \\arg \\max_{a} Q_{eval}(S_{t+1}, a))$"
      ]
    },
    {
      "cell_type": "code",
      "execution_count": null,
      "metadata": {
        "id": "NoH_Tjmz3FBn"
      },
      "outputs": [],
      "source": [
        "# DDQN Baseline Model\n",
        "from keras.models import Sequential\n",
        "from keras.layers import Dense\n",
        "\n",
        "\n",
        "# [WriteCode] from ... import ...\n",
        "\n",
        "# Define the eval (online) network\n",
        "eval_model = Sequential()\n",
        "\n",
        "# [WriteCode]\n",
        "# model.add(...\n",
        "\n",
        "# Compile the model\n",
        "# [WriteCode]\n",
        "\n",
        "# Print the model summary\n",
        "# [WriteCode]\n",
        "\n",
        "\n",
        "\n",
        "# Create target_model with the same architecture\n",
        "target_model = Sequential()\n",
        "\n",
        "# [WriteCode]\n",
        "# model.add(...\n",
        "\n",
        "# Skip compiling as target_model will not be trained with .fit()\n",
        "# Instead, weights will be copied from the online model\n",
        "target_model.set_weights(eval_model.get_weights())\n",
        "\n",
        "# Print the model summary\n",
        "# [WriteCode]"
      ]
    },
    {
      "cell_type": "markdown",
      "metadata": {
        "id": "-uZT2NevZzo7"
      },
      "source": [
        "## Set Up Env and Train the Policy"
      ]
    },
    {
      "cell_type": "code",
      "execution_count": null,
      "metadata": {
        "id": "4U9ntMqg3TH7"
      },
      "outputs": [],
      "source": [
        "# For logging\n",
        "train_reward_lst = []\n",
        "eval_reward_mean_lst = []\n",
        "eval_reward_var_lst = []\n",
        "\n",
        "# Set up environment\n",
        "env = gym.make(\"CartPole-v1\", render_mode=\"rgb_array\")\n",
        "state_size = env.observation_space.shape[0] # Number of observations (CartPole)\n",
        "action_size = env.action_space.n            # Number of possible actions\n",
        "\n",
        "model_dir = \"ddqn_baseline\"  # TensorBoard log directory\n",
        "cb = keras.callbacks.TensorBoard(log_dir = get_run_logdir(model_dir), histogram_freq=1)\n",
        "\n",
        "# Train Counter for weight syncing\n",
        "train_counter = 0\n",
        "\n",
        "# For timing training\n",
        "total_training_time = 0\n",
        "\n",
        "# Define replay buffer\n",
        "# replay_buffer = ...\n",
        "\n",
        "for ep in range(episode):\n",
        "    state, _ = env.reset()\n",
        "    state = np.reshape(state, [1, state_size])\n",
        "    total_reward = 0\n",
        "\n",
        "    # record start time\n",
        "    start = time.time()\n",
        "\n",
        "    for _ in range(500):\n",
        "\n",
        "        # Interact with the environment with epsilon-greedy policy\n",
        "        if np.random.rand() <= epsilon:\n",
        "            action = np.random.choice(action_size)\n",
        "        else:\n",
        "            q_values = eval_model.predict(state, verbose=0)\n",
        "            action = np.argmax(q_values)\n",
        "\n",
        "        next_state, reward, terminated, truncated, _ = env.step(action)\n",
        "        next_state = np.reshape(next_state, [1, state_size])\n",
        "        done = terminated or truncated\n",
        "\n",
        "        # store experience into replay buffer\n",
        "        # [WriteCode]\n",
        "\n",
        "        state = next_state\n",
        "        total_reward += reward\n",
        "\n",
        "        if done:\n",
        "            break\n",
        "\n",
        "        if len(replay_buffer) >= ba:\n",
        "            train_counter += 1\n",
        "            # Update policy with mini-batches if replay buffer contains enough samples\n",
        "            # Update policy using Double Deep Q-Learning update:\n",
        "            # Q(s, a) = r + gamma * Q_target(S', argmax Q_eval(S', a))\n",
        "            # [WriteCode]\n",
        "\n",
        "            # Compute target Q-values:\n",
        "            # - If done, Q-target = reward (no future reward)\n",
        "            # - Otherwise, Q-target = reward + gamma * Q_target(S', argmax Q_eval(S', a))\n",
        "\n",
        "            # Predict current Q-values for state using eval_model\n",
        "            # Use eval_model to determine best action in next_state\n",
        "            # Use target_model to compute Q-value for that action\n",
        "\n",
        "            # Update only the Q-value for the taken action\n",
        "\n",
        "            # Fit the model:\n",
        "            # - Inputs: state\n",
        "            # - Targets: updated Q-values (with action Q-value replaced by computed target)\n",
        "\n",
        "\n",
        "            # Update exploration rate\n",
        "            if epsilon > epsilon_min:\n",
        "                epsilon *= epsilon_decay\n",
        "\n",
        "            # Periodically update the target network\n",
        "            if train_counter % target_update_freq == 0:\n",
        "                target_model.set_weights(eval_model.get_weights())\n",
        "\n",
        "    # record end time and log training time\n",
        "    end = time.time()\n",
        "    total_training_time += end - start\n",
        "\n",
        "    # Evaluation\n",
        "    # [WriteCode]\n",
        "\n",
        "\n",
        "    print(f\"Episode {ep + 1}/{episode} | Ep. Total Reward: {total_reward}\"\n",
        "        f\" | Epsilon : {epsilon:.3f}\"\n",
        "        f\" | Eval Rwd Mean: {eval_reward_mean:.2f}\"\n",
        "        f\" | Eval Rwd Var: {eval_reward_var:.2f}\")\n",
        "\n",
        "    # Log\n",
        "    eval_reward_mean_lst.append(eval_reward_mean)\n",
        "    eval_reward_var_lst.append(eval_reward_var)\n",
        "    train_reward_lst.append(total_reward)\n",
        "\n",
        "    # Early Stopping Condition to avoid overfitting\n",
        "    # If the evaluation reward reaches the specified threshold, stop training early.\n",
        "    # The default threshold is set to 500, but you should adjust this based on observed training performance.\n",
        "    if eval_reward_mean > 500: # [Modify this threshold as needed]\n",
        "        print(f\"Early stopping triggered at Episode {ep + 1}.\")\n",
        "        break\n",
        "\n",
        "# record end time and calculate average training time per episode\n",
        "# evaluate average training time per episode\n",
        "print(f\"Training time: {total_training_time/episode:.4f} seconds per episode\")\n",
        "\n",
        "env.close()"
      ]
    },
    {
      "cell_type": "markdown",
      "metadata": {
        "id": "oKfbQWJq363X"
      },
      "source": [
        "## Plot Results"
      ]
    },
    {
      "cell_type": "code",
      "execution_count": null,
      "metadata": {
        "id": "L7qIOwiX363Y"
      },
      "outputs": [],
      "source": [
        "# Write code to plot\n",
        "# 1) Moving Averaged Training Reward, 2) Evaluation Mean, 3) Evaluation Variance\n",
        "# [Write Code]\n",
        "\n",
        "# plot_smoothed_training_rwd(...\n",
        "\n",
        "# plot_eval_rwd_mean(...\n",
        "\n",
        "# plot_eval_rwd_var(..."
      ]
    },
    {
      "cell_type": "markdown",
      "metadata": {
        "id": "YgVEqsvQHsiD"
      },
      "source": [
        "# DDQN - Alternative\n",
        "\n",
        "You may insert extra cells in the notebook to perform tuning experiments and log results effectively. Use TensorBoard, plots, or tables to visualize the impact of different hyperparameter choices."
      ]
    },
    {
      "cell_type": "code",
      "execution_count": null,
      "metadata": {
        "id": "0xno9cGCHrx5"
      },
      "outputs": [],
      "source": [
        "# [Write Code]"
      ]
    },
    {
      "cell_type": "markdown",
      "metadata": {
        "id": "5MBGp2LfHxDr"
      },
      "source": [
        "## Comparison\n",
        "\n",
        "Compare performance of the Baseline and the Alternative DDQN Policies"
      ]
    },
    {
      "cell_type": "code",
      "execution_count": null,
      "metadata": {
        "id": "3NDTwhmwH3Lk"
      },
      "outputs": [],
      "source": [
        "# [Write Code]"
      ]
    },
    {
      "cell_type": "markdown",
      "metadata": {
        "id": "VUo4vcwQnbWV"
      },
      "source": [
        "# Visualize with Tensorboard"
      ]
    },
    {
      "cell_type": "code",
      "execution_count": null,
      "metadata": {
        "id": "ZcIJ3DQc3-Jw"
      },
      "outputs": [],
      "source": [
        "%load_ext tensorboard\n",
        "%tensorboard --logdir=./ee4802_logs --port=6006"
      ]
    },
    {
      "cell_type": "markdown",
      "metadata": {
        "id": "l-insiT7D_lq"
      },
      "source": [
        "# Comparison Across Four Alternative Policies\n",
        "\n",
        "Compare hyperparameters and performance of the four alternative policies.\n",
        "\n",
        "You may insert extra cells in the notebook to tabulate/plot/log results effectively."
      ]
    },
    {
      "cell_type": "code",
      "execution_count": null,
      "metadata": {
        "id": "SjQwsaxSE5Jh"
      },
      "outputs": [],
      "source": [
        "# [Write Code]"
      ]
    }
  ],
  "metadata": {
    "colab": {
      "include_colab_link": true,
      "provenance": []
    },
    "kernelspec": {
      "display_name": "Python 3",
      "name": "python3"
    },
    "language_info": {
      "codemirror_mode": {
        "name": "ipython",
        "version": 3
      },
      "file_extension": ".py",
      "mimetype": "text/x-python",
      "name": "python",
      "nbconvert_exporter": "python",
      "pygments_lexer": "ipython3",
      "version": "3.11.3"
    }
  },
  "nbformat": 4,
  "nbformat_minor": 0
}
