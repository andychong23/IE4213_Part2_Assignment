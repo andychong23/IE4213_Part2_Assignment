{
  "cells": [
    {
      "cell_type": "markdown",
      "metadata": {
        "id": "view-in-github",
        "colab_type": "text"
      },
      "source": [
        "<a href=\"https://colab.research.google.com/github/andychong23/IE4213_Part2_Assignment/blob/feature%2Fandy%2FQ1/IE4213_Assgn2_skeleton.ipynb\" target=\"_parent\"><img src=\"https://colab.research.google.com/assets/colab-badge.svg\" alt=\"Open In Colab\"/></a>"
      ]
    },
    {
      "cell_type": "code",
      "execution_count": 9,
      "metadata": {
        "id": "gBUF2HJd1fVT",
        "outputId": "cedce019-fa2b-42dc-ba52-cb7fb7f86461",
        "colab": {
          "base_uri": "https://localhost:8080/",
          "height": 106
        }
      },
      "outputs": [
        {
          "output_type": "error",
          "ename": "SyntaxError",
          "evalue": "invalid syntax (<ipython-input-9-6be2c206b8cb>, line 1)",
          "traceback": [
            "\u001b[0;36m  File \u001b[0;32m\"<ipython-input-9-6be2c206b8cb>\"\u001b[0;36m, line \u001b[0;32m1\u001b[0m\n\u001b[0;31m    Student_1 = Andy Chong Weikang #@param {type:\"string\"}  Name of student 1\u001b[0m\n\u001b[0m                     ^\u001b[0m\n\u001b[0;31mSyntaxError\u001b[0m\u001b[0;31m:\u001b[0m invalid syntax\n"
          ]
        }
      ],
      "source": [
        "Student_1 = Andy Chong Weikang #@param {type:\"string\"}  Name of student 1\n",
        "Student_2 = '' #@param {type:\"string\"}  Name of student 2\n",
        "Student_3 = '' #@param {type:\"string\"}  Name of student 3/'\n",
        "Student_4 = '' #@param {type:\"string\"}  Name of student 4"
      ]
    },
    {
      "cell_type": "markdown",
      "metadata": {
        "id": "9PhWOSD2hLUM"
      },
      "source": [
        "# Overvew\n",
        "\n",
        "This is the skeleton code file for the EE4802/IE4213 assignment. Replace the `XX`. in the name of this Colab notebook with your group number (this is important for correct marks to be awarded to your group). Fill in the blank cells below with the necessary code (you should work on this Colab notebook section by section). At the end, the entire Colab notebook should generate all the required results and execute without error.\n",
        "\n",
        "The text above the blank cells provides information on the functionality that needs to be implemented. You need to write Python code at places indicated by `[WriteCode]`"
      ]
    },
    {
      "cell_type": "markdown",
      "metadata": {
        "id": "jXckzF3Fhd4p"
      },
      "source": [
        "## Install and Import Libraries"
      ]
    },
    {
      "cell_type": "code",
      "execution_count": 10,
      "metadata": {
        "id": "19JbK59PhbuE"
      },
      "outputs": [],
      "source": [
        "%%capture\n",
        "# %%capture hides the output\n",
        "# install visulization tool\n",
        "!pip install renderlab"
      ]
    },
    {
      "cell_type": "code",
      "execution_count": 11,
      "metadata": {
        "id": "E669iRUFhn9J",
        "colab": {
          "base_uri": "https://localhost:8080/"
        },
        "outputId": "97caa0bb-54b7-45ad-eae2-050bfeb8a42c"
      },
      "outputs": [
        {
          "output_type": "stream",
          "name": "stderr",
          "text": [
            "WARNING:py.warnings:/usr/local/lib/python3.11/dist-packages/moviepy/video/io/sliders.py:61: SyntaxWarning: \"is\" with a literal. Did you mean \"==\"?\n",
            "  if event.key is 'enter':\n",
            "\n"
          ]
        }
      ],
      "source": [
        "import tensorflow as tf\n",
        "from tensorflow import keras\n",
        "assert tf.__version__ >= \"2.0\"\n",
        "\n",
        "import os\n",
        "import time\n",
        "import numpy as np\n",
        "import random\n",
        "from collections import deque\n",
        "\n",
        "import gymnasium as gym\n",
        "import renderlab as rl"
      ]
    },
    {
      "cell_type": "markdown",
      "metadata": {
        "id": "9d3w4FRMS36_"
      },
      "source": [
        "# Background"
      ]
    },
    {
      "cell_type": "markdown",
      "metadata": {
        "id": "L8RD1Ggwcqg1"
      },
      "source": [
        "## Environment Exploration: Cart-Pole\n",
        "\n",
        "The **Cart-Pole environment** is a classic reinforcement learning problem where a pole is attached by an un-actuated joint to a cart. The cart moves along a frictionless track, and the goal is to balance the pole upright by applying forces to move the cart left or right.\n",
        "\n",
        "<img src=\"https://gymnasium.farama.org/_images/cart_pole.gif\" width=\"400\">\n",
        "\n",
        "Below is a breakdown of the base Cart-Pole environment:\n"
      ]
    },
    {
      "cell_type": "markdown",
      "metadata": {
        "id": "geWhWkTJRu5w"
      },
      "source": [
        "#### - **Observation Space (*s*)**\n",
        "The observation is represented as a `ndarray` of shape `(4,)`, corresponding to:\n",
        "- **Cart Position**: Horizontal location of the cart.\n",
        "- **Cart Velocity**: Speed of the cart along the track.\n",
        "- **Pole Angle**: Angular position of the pole relative to vertical.\n",
        "- **Pole Angular Velocity**: Speed at which the pole angle changes.\n",
        "\n",
        "The observations are initialized with uniformly random values in the range `(-0.05, 0.05)`.\n"
      ]
    },
    {
      "cell_type": "markdown",
      "metadata": {
        "id": "8r3befVJR4SJ"
      },
      "source": [
        "#### - **Action Space (*a*)**\n",
        "The action is a discrete value (`0` or `1`) indicating the direction of the force applied to the cart:\n",
        "- `0`: Push the cart to the left.\n",
        "- `1`: Push the cart to the right.\n"
      ]
    },
    {
      "cell_type": "markdown",
      "metadata": {
        "id": "BfanxRL4R5jO"
      },
      "source": [
        "\n",
        "#### - **Reward Function (*r*)**\n",
        "The agent receives a reward of `+1` for each time step it successfully keeps the pole upright. The maximum achievable reward in a single episode is `500`."
      ]
    },
    {
      "cell_type": "markdown",
      "metadata": {
        "id": "spv7Ul4CR7SN"
      },
      "source": [
        "#### - **Episode Termination (*isDone*)**\n",
        "An episode ends if any of the following conditions occur:\n",
        "1. **Pole Angle** exceeds `±12°`.\n",
        "2. **Cart Position** exceeds `±2.4` (the cart reaches the edge of the track).\n",
        "3. **Truncation**: The episode reaches the maximum length of `500 steps`."
      ]
    },
    {
      "cell_type": "markdown",
      "metadata": {
        "id": "pD50TBeLif6F"
      },
      "source": [
        "## Getting Familiar with Basic Gym Usage\n",
        "\n",
        "Let's observe how to interact with a Gym environment."
      ]
    },
    {
      "cell_type": "markdown",
      "metadata": {
        "id": "kkeWe780XZVv"
      },
      "source": [
        "The classic “agent-environment loop” pictured below is a simplified representation of reinforcement learning that Gymnasium implements.\n",
        "\n",
        "<img src=\"https://drive.google.com/uc?export=view&id=1feMbDMTfOFTBtj2PAZz-kMjSQKVukEm6\" width=\"250\">\n",
        "\n",
        "\n",
        "The following section represents a simple episode of this loop, we will:\n",
        "\n",
        "1. Import the base Cart-Pole environment from the gym library and explore its functionality.\n",
        "\n",
        "2. Apply modifications to make the environment more challenging by adjusting the pole's dynamics and introducing stochastic forces.\n",
        "\n",
        "3. Sample random actions to control the cart-pole and visualize the process using `renderlab`.\n",
        "\n",
        "These steps will help us understand how the environment behaves under different conditions and prepare us for implementing reinforcement learning agents in later sections.\n",
        "\n"
      ]
    },
    {
      "cell_type": "code",
      "execution_count": 12,
      "metadata": {
        "id": "x2PMYpIKXtWv",
        "outputId": "80bda351-3d63-4102-9180-bb6b47e5a120",
        "colab": {
          "base_uri": "https://localhost:8080/",
          "height": 873
        }
      },
      "outputs": [
        {
          "output_type": "stream",
          "name": "stdout",
          "text": [
            "\n",
            "--- Exploring the Base Environment ---\n",
            "Initial Observation: [-0.02962013 -0.00159097 -0.04168802  0.03846101]\n",
            "Action Space: Discrete(2)\n",
            "Observation Space: Box([-4.8               -inf -0.41887903        -inf], [4.8               inf 0.41887903        inf], (4,), float32)\n",
            "\n",
            "--- Sampling Random Actions and Visualizing ---\n",
            "[-0.04369853  0.17052269 -0.03985009 -0.27354568] 1.0 False False {}\n",
            "[-0.04028808 -0.02400867 -0.04532101  0.00630687] 1.0 False False {}\n",
            "[-0.04076825  0.17173296 -0.04519487 -0.3003239 ] 1.0 False False {}\n",
            "[-0.03733359  0.36746898 -0.05120135 -0.6069109 ] 1.0 False False {}\n",
            "[-0.02998421  0.1730989  -0.06333957 -0.3307845 ] 1.0 False False {}\n",
            "[-0.02652223 -0.02106692 -0.06995526 -0.05872917] 1.0 False False {}\n",
            "[-0.02694357  0.1749847  -0.07112984 -0.3726374 ] 1.0 False False {}\n",
            "[-0.02344388  0.37104124 -0.07858258 -0.6868731 ] 1.0 False False {}\n",
            "[-0.01602305  0.56716096 -0.09232005 -1.0032244 ] 1.0 False False {}\n",
            "[-0.00467983  0.76338685 -0.11238454 -1.3234134 ] 1.0 False False {}\n",
            "[ 0.0105879  0.5698496 -0.1388528 -1.0679104] 1.0 False False {}\n",
            "[ 0.0219849   0.7665078  -0.16021101 -1.4007502 ] 1.0 False False {}\n",
            "[ 0.03731505  0.9632166  -0.18822601 -1.7389356 ] 1.0 False False {}\n",
            "[ 0.05657938  1.1599188  -0.22300473 -2.0837896 ] 1.0 True False {}\n",
            "Moviepy - Building video temp-{start}.mp4.\n",
            "Moviepy - Writing video temp-{start}.mp4\n",
            "\n"
          ]
        },
        {
          "output_type": "stream",
          "name": "stderr",
          "text": []
        },
        {
          "output_type": "stream",
          "name": "stdout",
          "text": [
            "Moviepy - Done !\n",
            "Moviepy - video ready temp-{start}.mp4\n"
          ]
        },
        {
          "output_type": "display_data",
          "data": {
            "text/plain": [
              "<IPython.core.display.Video object>"
            ],
            "text/html": [
              "<video controls  >\n",
              " <source src=\"data:video/mp4;base64,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\" type=\"video/mp4\">\n",
              " Your browser does not support the video tag.\n",
              " </video>"
            ]
          },
          "metadata": {}
        }
      ],
      "source": [
        "import warnings\n",
        "warnings.filterwarnings('ignore')\n",
        "\n",
        "# Import and Explore the Environment\n",
        "print(\"\\n--- Exploring the Base Environment ---\")\n",
        "env = gym.make(\"CartPole-v1\", render_mode=\"rgb_array\")\n",
        "observation, info = env.reset()\n",
        "\n",
        "# Print information about the environment\n",
        "print(f\"Initial Observation: {observation}\")\n",
        "print(f\"Action Space: {env.action_space}\")  # Discrete actions: 0 (left), 1 (right)\n",
        "print(f\"Observation Space: {env.observation_space}\")  # State variables: cart position, etc.\n",
        "\n",
        "# Sample Random Actions and Visualize\n",
        "print(\"\\n--- Sampling Random Actions and Visualizing ---\")\n",
        "env = rl.RenderFrame(env, \"./output\")\n",
        "observation, info = env.reset()\n",
        "isDone = False\n",
        "\n",
        "# Simulate an episode with random actions\n",
        "while not isDone:\n",
        "    action = env.action_space.sample()  # Take random action\n",
        "    observation, reward, terminated, truncated, info = env.step(action)\n",
        "    print(observation, reward, terminated, truncated, info)\n",
        "    isDone = terminated or truncated\n",
        "\n",
        "env.close()\n",
        "env.play()  # Play the recorded video"
      ]
    },
    {
      "cell_type": "markdown",
      "source": [
        "# Define Helper Functions"
      ],
      "metadata": {
        "id": "s9wjDE0kfFJd"
      }
    },
    {
      "cell_type": "markdown",
      "metadata": {
        "id": "B0UFVPRylCdv"
      },
      "source": [
        "## Plotting Functions"
      ]
    },
    {
      "cell_type": "code",
      "execution_count": 13,
      "metadata": {
        "id": "vsmmRtAVlUz_"
      },
      "outputs": [],
      "source": [
        "# Some plotting functions\n",
        "import matplotlib.pyplot as plt\n",
        "\n",
        "def plot_eval_rwd_mean(eval_mean_list):\n",
        "  \"\"\"Plot evaluation reward mean.\"\"\"\n",
        "  # [WriteCode]\n",
        "  plt.plot(np.array([i for i in range(len(eval_mean_list))]), eval_mean_list)\n",
        "  plt.title(\"Evaluation Reward Mean\")\n",
        "  plt.xlabel(\"Episodes\")\n",
        "  plt.ylabel(\"Reward Mean\")\n",
        "  plt.show()\n",
        "\n",
        "\n",
        "\n",
        "def plot_eval_rwd_var(eval_var_list):\n",
        "  \"\"\"Plot evaluation reward variance.\"\"\"\n",
        "  # [WriteCode]\n",
        "  plt.plot(np.array([i for i in range(len(eval_var_list))]), eval_var_list)\n",
        "  plt.title(\"Evaluation Reward Varaince\")\n",
        "  plt.xlabel(\"Episodes\")\n",
        "  plt.ylabel(\"Reward Variance\")\n",
        "  plt.show()\n",
        "\n",
        "\n",
        "\n",
        "def plot_smoothed_training_rwd(train_rwd_list, window_size=20):\n",
        "  \"\"\"Plot smoothed training rewards using a moving average.\"\"\"\n",
        "  y_output = []\n",
        "  x_output = []\n",
        "  # [WriteCode]\n",
        "  for idx in range(len(train_rwd_list) - window_size):\n",
        "    current_window = train_rwd_list[idx:idx + window_size]\n",
        "    y_output.append(sum(current_window) / window_size)\n",
        "    x_output.append(idx)\n",
        "  plt.plot(x_output, y_output)\n",
        "  plt.title(\"Smoothed Training Rewards\")\n",
        "  plt.xlabel(\"Episodes\")\n",
        "  plt.ylabel(\"Average training rewards\")\n",
        "  plt.show()\n"
      ]
    },
    {
      "cell_type": "markdown",
      "source": [
        "## Evaluation Function\n",
        "\n",
        "Evaluate the learnt policy by running 3 evaluation episodes and computing the average and variance of rewards collected."
      ],
      "metadata": {
        "id": "N7hA67eaYkCW"
      }
    },
    {
      "cell_type": "code",
      "source": [
        "def evaluation(model, max_timesteps=500):\n",
        "    # eval_env = gym.make(\"CartPole-v1\", render_mode=\"rgb_array\")\n",
        "    eval_env = gym.make(\"CartPole-v1\")\n",
        "    state_size = eval_env.observation_space.shape[0] # Number of observations (CartPole)\n",
        "    action_size = eval_env.action_space.n            # Number of possible actions\n",
        "    eval_reward = []\n",
        "\n",
        "    for i in range (3):\n",
        "        round_reward = 0\n",
        "        state, _ = eval_env.reset()\n",
        "        state = np.reshape(state, [1, state_size])\n",
        "\n",
        "        for i in range(max_timesteps):\n",
        "            action = np.argmax(model.predict(state, verbose=0)[0])\n",
        "            next_state, reward, terminated, truncated, _ = eval_env.step(action)\n",
        "            next_state = np.reshape(next_state, [1, state_size])\n",
        "\n",
        "            round_reward += reward\n",
        "            state = next_state\n",
        "\n",
        "            if terminated or truncated:\n",
        "                eval_reward.append(round_reward)\n",
        "                break\n",
        "\n",
        "    eval_env.close()\n",
        "\n",
        "    eval_reward_mean = np.sum(eval_reward)/len(eval_reward)\n",
        "    eval_reward_var = np.var(eval_reward)\n",
        "\n",
        "    return eval_reward_mean, eval_reward_var"
      ],
      "metadata": {
        "id": "kKS1vpSmYjyg"
      },
      "execution_count": 14,
      "outputs": []
    },
    {
      "cell_type": "markdown",
      "metadata": {
        "id": "kWS8Kd8eiXau"
      },
      "source": [
        "# Setting up Tensorboard\n"
      ]
    },
    {
      "cell_type": "code",
      "execution_count": 15,
      "metadata": {
        "id": "ADO90Q7Hs-lx"
      },
      "outputs": [],
      "source": [
        "def get_run_logdir(k):\n",
        "    root_logdir = os.path.join(os.curdir, \"ee4802_logs\", k)\n",
        "    run_id = time.strftime(\"run_%Y_%m_%d-%H_%M_%S\")\n",
        "    return os.path.join(root_logdir, run_id)"
      ]
    },
    {
      "cell_type": "markdown",
      "metadata": {
        "id": "B07kopgXtOVU"
      },
      "source": [
        "# Initialize Parameters"
      ]
    },
    {
      "cell_type": "code",
      "execution_count": 16,
      "metadata": {
        "id": "JL9ABa8-vRf3"
      },
      "outputs": [],
      "source": [
        "# Use the following set of NN hyperparameters for ALL FOUR basline policies\n",
        "lr =  0.1        #@param {type:\"number\"}               # learning rate\n",
        "epoch =  32     #@param {type:\"number\"}               # epochs\n",
        "episode = 500  #@param {type:\"number\"}               # episodes\n",
        "\n",
        "epsilon = 0.9           #@param {type:\"number\"}     # Starting exploration rate\n",
        "epsilon_min = 0.1    #@param {type:\"number\"}     # Exploration rate min\n",
        "epsilon_decay = 0.99     #@param {type:\"number\"}     # Exploration rate decay\n",
        "\n",
        "gamma = 0.99          #@param {type:\"number\"}     # Agent discount factor\n",
        "\n",
        "# Use the following set of NN hyperparameters for Naive DQN, DQN and DDQN policies\n",
        "ba =  32       #@param {type:\"number\"}               # batch_size\n",
        "\n",
        "# Use the following set of RL hyperparameters for DQN and DDQN policies\n",
        "target_update_freq = 0 # @param {type:\"number\"}    # Target network update frequency\n"
      ]
    },
    {
      "cell_type": "markdown",
      "source": [
        "# Q-Network - Baseline"
      ],
      "metadata": {
        "id": "npUYex5Em46O"
      }
    },
    {
      "cell_type": "markdown",
      "source": [
        "## Define and Compile the Neural Network\n",
        "\n",
        "A single network $Q_\\theta$ (parameterized by $\\theta$) is used to approximate $Q(s,a)$.\n",
        "\n",
        "The target used by Naive DQN is then:\n",
        "\n",
        "$Y^{NaiveQ}_t = R_{t+1} + \\gamma Q_{\\theta}(S_{t+1}, a)$\n",
        "\n",
        "The training of Q-Network does rely on a Replay Buffer."
      ],
      "metadata": {
        "id": "XLr4PDQ7nC5T"
      }
    },
    {
      "cell_type": "code",
      "source": [
        "# Q-Network Baseline Model\n",
        "from keras.models import Sequential\n",
        "from keras.layers import Input, Dense, LayerNormalization\n",
        "from keras.initializers import RandomUniform\n",
        "from keras.activations import softmax, relu\n",
        "\n",
        "# [WriteCode] from ... import ...\n",
        "\n",
        "STATE_SIZE = (4,)\n",
        "ACTION_SIZE = 2\n",
        "LAYER_SIZE = 32\n",
        "SEED = 42\n",
        "\n",
        "# Define the Q-network\n",
        "model = Sequential()\n",
        "\n",
        "# [WriteCode]\n",
        "# model.add(...\n",
        "model.add(Input(shape=STATE_SIZE))\n",
        "'''\n",
        "Add in intermediate layers\n",
        "- Assume 3 layers of 32 nodes each with relu activation\n",
        "'''\n",
        "initializer = RandomUniform(minval=-0.5, maxval=0.5, seed=42)\n",
        "model.add(Dense(LAYER_SIZE, activation=relu, kernel_initializer=initializer))\n",
        "model.add(Dense(LAYER_SIZE, activation=relu, kernel_initializer=initializer))\n",
        "model.add(Dense(ACTION_SIZE))\n",
        "\n",
        "# Compile the model\n",
        "# [WriteCode]\n",
        "model.compile(loss='mse', optimizer='adam')\n",
        "\n",
        "# Print the model summary\n",
        "# [WriteCode]\n",
        "model.summary()"
      ],
      "metadata": {
        "id": "WyXho4UKpH3Q",
        "outputId": "aa068deb-de97-4001-a8a3-55f7d3f9b4fe",
        "colab": {
          "base_uri": "https://localhost:8080/",
          "height": 238
        }
      },
      "execution_count": 17,
      "outputs": [
        {
          "output_type": "display_data",
          "data": {
            "text/plain": [
              "\u001b[1mModel: \"sequential_1\"\u001b[0m\n"
            ],
            "text/html": [
              "<pre style=\"white-space:pre;overflow-x:auto;line-height:normal;font-family:Menlo,'DejaVu Sans Mono',consolas,'Courier New',monospace\"><span style=\"font-weight: bold\">Model: \"sequential_1\"</span>\n",
              "</pre>\n"
            ]
          },
          "metadata": {}
        },
        {
          "output_type": "display_data",
          "data": {
            "text/plain": [
              "┏━━━━━━━━━━━━━━━━━━━━━━━━━━━━━━━━━━━━━━┳━━━━━━━━━━━━━━━━━━━━━━━━━━━━━┳━━━━━━━━━━━━━━━━━┓\n",
              "┃\u001b[1m \u001b[0m\u001b[1mLayer (type)                        \u001b[0m\u001b[1m \u001b[0m┃\u001b[1m \u001b[0m\u001b[1mOutput Shape               \u001b[0m\u001b[1m \u001b[0m┃\u001b[1m \u001b[0m\u001b[1m        Param #\u001b[0m\u001b[1m \u001b[0m┃\n",
              "┡━━━━━━━━━━━━━━━━━━━━━━━━━━━━━━━━━━━━━━╇━━━━━━━━━━━━━━━━━━━━━━━━━━━━━╇━━━━━━━━━━━━━━━━━┩\n",
              "│ dense_3 (\u001b[38;5;33mDense\u001b[0m)                      │ (\u001b[38;5;45mNone\u001b[0m, \u001b[38;5;34m32\u001b[0m)                  │             \u001b[38;5;34m160\u001b[0m │\n",
              "├──────────────────────────────────────┼─────────────────────────────┼─────────────────┤\n",
              "│ dense_4 (\u001b[38;5;33mDense\u001b[0m)                      │ (\u001b[38;5;45mNone\u001b[0m, \u001b[38;5;34m32\u001b[0m)                  │           \u001b[38;5;34m1,056\u001b[0m │\n",
              "├──────────────────────────────────────┼─────────────────────────────┼─────────────────┤\n",
              "│ dense_5 (\u001b[38;5;33mDense\u001b[0m)                      │ (\u001b[38;5;45mNone\u001b[0m, \u001b[38;5;34m2\u001b[0m)                   │              \u001b[38;5;34m66\u001b[0m │\n",
              "└──────────────────────────────────────┴─────────────────────────────┴─────────────────┘\n"
            ],
            "text/html": [
              "<pre style=\"white-space:pre;overflow-x:auto;line-height:normal;font-family:Menlo,'DejaVu Sans Mono',consolas,'Courier New',monospace\">┏━━━━━━━━━━━━━━━━━━━━━━━━━━━━━━━━━━━━━━┳━━━━━━━━━━━━━━━━━━━━━━━━━━━━━┳━━━━━━━━━━━━━━━━━┓\n",
              "┃<span style=\"font-weight: bold\"> Layer (type)                         </span>┃<span style=\"font-weight: bold\"> Output Shape                </span>┃<span style=\"font-weight: bold\">         Param # </span>┃\n",
              "┡━━━━━━━━━━━━━━━━━━━━━━━━━━━━━━━━━━━━━━╇━━━━━━━━━━━━━━━━━━━━━━━━━━━━━╇━━━━━━━━━━━━━━━━━┩\n",
              "│ dense_3 (<span style=\"color: #0087ff; text-decoration-color: #0087ff\">Dense</span>)                      │ (<span style=\"color: #00d7ff; text-decoration-color: #00d7ff\">None</span>, <span style=\"color: #00af00; text-decoration-color: #00af00\">32</span>)                  │             <span style=\"color: #00af00; text-decoration-color: #00af00\">160</span> │\n",
              "├──────────────────────────────────────┼─────────────────────────────┼─────────────────┤\n",
              "│ dense_4 (<span style=\"color: #0087ff; text-decoration-color: #0087ff\">Dense</span>)                      │ (<span style=\"color: #00d7ff; text-decoration-color: #00d7ff\">None</span>, <span style=\"color: #00af00; text-decoration-color: #00af00\">32</span>)                  │           <span style=\"color: #00af00; text-decoration-color: #00af00\">1,056</span> │\n",
              "├──────────────────────────────────────┼─────────────────────────────┼─────────────────┤\n",
              "│ dense_5 (<span style=\"color: #0087ff; text-decoration-color: #0087ff\">Dense</span>)                      │ (<span style=\"color: #00d7ff; text-decoration-color: #00d7ff\">None</span>, <span style=\"color: #00af00; text-decoration-color: #00af00\">2</span>)                   │              <span style=\"color: #00af00; text-decoration-color: #00af00\">66</span> │\n",
              "└──────────────────────────────────────┴─────────────────────────────┴─────────────────┘\n",
              "</pre>\n"
            ]
          },
          "metadata": {}
        },
        {
          "output_type": "display_data",
          "data": {
            "text/plain": [
              "\u001b[1m Total params: \u001b[0m\u001b[38;5;34m1,282\u001b[0m (5.01 KB)\n"
            ],
            "text/html": [
              "<pre style=\"white-space:pre;overflow-x:auto;line-height:normal;font-family:Menlo,'DejaVu Sans Mono',consolas,'Courier New',monospace\"><span style=\"font-weight: bold\"> Total params: </span><span style=\"color: #00af00; text-decoration-color: #00af00\">1,282</span> (5.01 KB)\n",
              "</pre>\n"
            ]
          },
          "metadata": {}
        },
        {
          "output_type": "display_data",
          "data": {
            "text/plain": [
              "\u001b[1m Trainable params: \u001b[0m\u001b[38;5;34m1,282\u001b[0m (5.01 KB)\n"
            ],
            "text/html": [
              "<pre style=\"white-space:pre;overflow-x:auto;line-height:normal;font-family:Menlo,'DejaVu Sans Mono',consolas,'Courier New',monospace\"><span style=\"font-weight: bold\"> Trainable params: </span><span style=\"color: #00af00; text-decoration-color: #00af00\">1,282</span> (5.01 KB)\n",
              "</pre>\n"
            ]
          },
          "metadata": {}
        },
        {
          "output_type": "display_data",
          "data": {
            "text/plain": [
              "\u001b[1m Non-trainable params: \u001b[0m\u001b[38;5;34m0\u001b[0m (0.00 B)\n"
            ],
            "text/html": [
              "<pre style=\"white-space:pre;overflow-x:auto;line-height:normal;font-family:Menlo,'DejaVu Sans Mono',consolas,'Courier New',monospace\"><span style=\"font-weight: bold\"> Non-trainable params: </span><span style=\"color: #00af00; text-decoration-color: #00af00\">0</span> (0.00 B)\n",
              "</pre>\n"
            ]
          },
          "metadata": {}
        }
      ]
    },
    {
      "cell_type": "markdown",
      "source": [
        "## Set Up Env and Train the Policy"
      ],
      "metadata": {
        "id": "PunGDA41nK-t"
      }
    },
    {
      "cell_type": "code",
      "source": [
        "# For logging\n",
        "train_reward_lst = []\n",
        "eval_reward_mean_lst = []\n",
        "eval_reward_var_lst = []\n",
        "\n",
        "\n",
        "# Set up environment\n",
        "env = gym.make(\"CartPole-v1\")\n",
        "state_size = env.observation_space.shape[0] # Number of observations (CartPole)\n",
        "action_size = env.action_space.n            # Number of possible actions\n",
        "\n",
        "model_dir = \"q_net_baseline\"  # TensorBoard log directory\n",
        "cb = keras.callbacks.TensorBoard(log_dir = get_run_logdir(model_dir), histogram_freq=1)\n",
        "\n",
        "# For timing training\n",
        "total_training_time = 0\n",
        "\n",
        "for ep in range(episode):\n",
        "    state, _ = env.reset()\n",
        "    state = np.reshape(state, [1, state_size])\n",
        "    total_reward = 0\n",
        "\n",
        "    # record start time\n",
        "    start = time.time()\n",
        "\n",
        "    for _ in range(500):\n",
        "        # Interact with the environment with epsilon-greedy policy\n",
        "        if np.random.rand() <= epsilon:\n",
        "            action = np.random.choice(action_size)\n",
        "        else:\n",
        "            q_values = model.predict(state, verbose=0)\n",
        "            action = np.argmax(q_values)\n",
        "\n",
        "        next_state, reward, terminated, truncated, _ = env.step(action)\n",
        "        next_state = np.reshape(next_state, [1, state_size])\n",
        "\n",
        "        done = terminated or truncated\n",
        "\n",
        "        # Train model using Q-Learning update:  Q(s, a) = r + gamma * max Q(s', a')\n",
        "        # [WriteCode]\n",
        "        q_base = model.predict(state, verbose=0)\n",
        "        q_1_base = model.predict(next_state, verbose=0)\n",
        "        if done:\n",
        "          q_target = reward\n",
        "        else:\n",
        "          q_target = reward + gamma * np.max(q_1_base)\n",
        "\n",
        "        # print(\n",
        "        #     f'''\n",
        "        #     Action Taken: {action}\n",
        "        #     Current State: {state}\n",
        "        #     Next State: {next_state}\n",
        "        #     Total Reward: {total_reward}\n",
        "        #     Reward: {reward}\n",
        "        #     Is terminated: {terminated}\n",
        "        #     Q Values: {model.predict(state, verbose=0)}\n",
        "        #     Q Target: {q_target}\n",
        "        #     Q change: {q_target - q_base[0][action]}\n",
        "        #     '''\n",
        "        # )\n",
        "\n",
        "        q_feed = q_base.copy()\n",
        "        q_feed[0][action] = q_feed[0][action] + lr * (q_target - q_feed[0][action])\n",
        "        model.fit(state, q_feed, epochs=epoch, verbose=0, batch_size=ba)\n",
        "        # Hints:\n",
        "\n",
        "        # 1. Compute target Q-values:\n",
        "        # - If done, Q-target = reward (no future reward)\n",
        "        # - Otherwise, Q-target = reward + gamma * max(Q(next_state, a))\n",
        "\n",
        "        # 2. Predict current Q-values for state\n",
        "        # Update only the Q-value for the taken action\n",
        "\n",
        "        # new_q_val = current_q_val + lr * (q_target - current_q_val)\n",
        "        # print(new_q_val)\n",
        "        # 3. Fit the model:\n",
        "        # - Inputs: state\n",
        "        # - Targets: updated Q-values (with action Q-value replaced by computed target)\n",
        "        # model.fit(state, new_q_val, epochs=epoch, verbose=0, batch_size=ba)\n",
        "\n",
        "\n",
        "        # Update exploration rate\n",
        "        if epsilon > epsilon_min and ep % 10 == 0:\n",
        "            epsilon *= epsilon_decay\n",
        "\n",
        "        state = next_state\n",
        "        total_reward += reward\n",
        "\n",
        "        if done:\n",
        "            break\n",
        "\n",
        "    # record end time and log training time\n",
        "    end = time.time()\n",
        "    total_training_time += end - start\n",
        "\n",
        "    # Evaluation\n",
        "    # [WriteCode]\n",
        "    eval_reward_mean, eval_reward_var = evaluation(model)\n",
        "\n",
        "    print(f\"Episode {ep + 1}/{episode} | Ep. Total Reward: {total_reward}\"\n",
        "        f\" | Epsilon : {epsilon:.3f}\"\n",
        "        f\" | Eval Rwd Mean: {eval_reward_mean:.2f}\"\n",
        "        f\" | Eval Rwd Var: {eval_reward_var:.2f}\")\n",
        "\n",
        "    # Log\n",
        "    eval_reward_mean_lst.append(eval_reward_mean)\n",
        "    eval_reward_var_lst.append(eval_reward_var)\n",
        "    train_reward_lst.append(total_reward)\n",
        "\n",
        "    # Early Stopping Condition to avoid overfitting\n",
        "    # If the evaluation reward reaches the specified threshold, stop training early.\n",
        "    # The default threshold is set to 500, but you should adjust this based on observed training performance.\n",
        "    if eval_reward_mean > 500: # [Modify this threshold as needed]\n",
        "        print(f\"Early stopping triggered at Episode {ep + 1}.\")\n",
        "        break\n",
        "\n",
        "# evaluate average training time per episode\n",
        "print(f\"Training time: {total_training_time/(ep + 1):.4f} seconds per episode\")\n",
        "\n",
        "env.close()\n"
      ],
      "metadata": {
        "id": "-cDAJtaGnCQL",
        "outputId": "44893904-1e3a-47a4-fc50-c078e54e6b65",
        "colab": {
          "base_uri": "https://localhost:8080/"
        }
      },
      "execution_count": 18,
      "outputs": [
        {
          "output_type": "stream",
          "name": "stdout",
          "text": [
            "Episode 1/500 | Ep. Total Reward: 15.0 | Epsilon : 0.774 | Eval Rwd Mean: 9.67 | Eval Rwd Var: 0.22\n",
            "Episode 2/500 | Ep. Total Reward: 10.0 | Epsilon : 0.774 | Eval Rwd Mean: 9.33 | Eval Rwd Var: 0.89\n",
            "Episode 3/500 | Ep. Total Reward: 12.0 | Epsilon : 0.774 | Eval Rwd Mean: 9.67 | Eval Rwd Var: 0.22\n",
            "Episode 4/500 | Ep. Total Reward: 62.0 | Epsilon : 0.774 | Eval Rwd Mean: 9.33 | Eval Rwd Var: 0.22\n",
            "Episode 5/500 | Ep. Total Reward: 20.0 | Epsilon : 0.774 | Eval Rwd Mean: 9.67 | Eval Rwd Var: 0.22\n",
            "Episode 6/500 | Ep. Total Reward: 15.0 | Epsilon : 0.774 | Eval Rwd Mean: 9.00 | Eval Rwd Var: 0.67\n",
            "Episode 7/500 | Ep. Total Reward: 11.0 | Epsilon : 0.774 | Eval Rwd Mean: 9.00 | Eval Rwd Var: 0.67\n",
            "Episode 8/500 | Ep. Total Reward: 23.0 | Epsilon : 0.774 | Eval Rwd Mean: 8.33 | Eval Rwd Var: 0.22\n",
            "Episode 9/500 | Ep. Total Reward: 21.0 | Epsilon : 0.774 | Eval Rwd Mean: 9.00 | Eval Rwd Var: 0.67\n",
            "Episode 10/500 | Ep. Total Reward: 33.0 | Epsilon : 0.774 | Eval Rwd Mean: 9.67 | Eval Rwd Var: 0.22\n",
            "Episode 11/500 | Ep. Total Reward: 14.0 | Epsilon : 0.672 | Eval Rwd Mean: 8.67 | Eval Rwd Var: 0.22\n",
            "Episode 12/500 | Ep. Total Reward: 10.0 | Epsilon : 0.672 | Eval Rwd Mean: 9.00 | Eval Rwd Var: 0.67\n",
            "Episode 13/500 | Ep. Total Reward: 9.0 | Epsilon : 0.672 | Eval Rwd Mean: 9.00 | Eval Rwd Var: 0.00\n",
            "Episode 14/500 | Ep. Total Reward: 22.0 | Epsilon : 0.672 | Eval Rwd Mean: 9.33 | Eval Rwd Var: 1.56\n",
            "Episode 15/500 | Ep. Total Reward: 14.0 | Epsilon : 0.672 | Eval Rwd Mean: 8.67 | Eval Rwd Var: 0.22\n",
            "Episode 16/500 | Ep. Total Reward: 9.0 | Epsilon : 0.672 | Eval Rwd Mean: 9.33 | Eval Rwd Var: 0.22\n",
            "Episode 17/500 | Ep. Total Reward: 17.0 | Epsilon : 0.672 | Eval Rwd Mean: 9.00 | Eval Rwd Var: 0.67\n",
            "Episode 18/500 | Ep. Total Reward: 9.0 | Epsilon : 0.672 | Eval Rwd Mean: 9.33 | Eval Rwd Var: 0.22\n",
            "Episode 19/500 | Ep. Total Reward: 10.0 | Epsilon : 0.672 | Eval Rwd Mean: 9.00 | Eval Rwd Var: 0.67\n",
            "Episode 20/500 | Ep. Total Reward: 13.0 | Epsilon : 0.672 | Eval Rwd Mean: 9.00 | Eval Rwd Var: 0.67\n",
            "Episode 21/500 | Ep. Total Reward: 12.0 | Epsilon : 0.596 | Eval Rwd Mean: 9.00 | Eval Rwd Var: 0.67\n",
            "Episode 22/500 | Ep. Total Reward: 11.0 | Epsilon : 0.596 | Eval Rwd Mean: 9.33 | Eval Rwd Var: 0.22\n",
            "Episode 23/500 | Ep. Total Reward: 12.0 | Epsilon : 0.596 | Eval Rwd Mean: 9.67 | Eval Rwd Var: 0.22\n",
            "Episode 24/500 | Ep. Total Reward: 8.0 | Epsilon : 0.596 | Eval Rwd Mean: 9.33 | Eval Rwd Var: 0.22\n",
            "Episode 25/500 | Ep. Total Reward: 15.0 | Epsilon : 0.596 | Eval Rwd Mean: 10.33 | Eval Rwd Var: 0.22\n",
            "Episode 26/500 | Ep. Total Reward: 18.0 | Epsilon : 0.596 | Eval Rwd Mean: 9.33 | Eval Rwd Var: 0.22\n",
            "Episode 27/500 | Ep. Total Reward: 15.0 | Epsilon : 0.596 | Eval Rwd Mean: 9.00 | Eval Rwd Var: 0.67\n",
            "Episode 28/500 | Ep. Total Reward: 14.0 | Epsilon : 0.596 | Eval Rwd Mean: 10.33 | Eval Rwd Var: 0.89\n",
            "Episode 29/500 | Ep. Total Reward: 13.0 | Epsilon : 0.596 | Eval Rwd Mean: 9.33 | Eval Rwd Var: 0.22\n",
            "Episode 30/500 | Ep. Total Reward: 14.0 | Epsilon : 0.596 | Eval Rwd Mean: 9.67 | Eval Rwd Var: 0.22\n",
            "Episode 31/500 | Ep. Total Reward: 10.0 | Epsilon : 0.539 | Eval Rwd Mean: 9.33 | Eval Rwd Var: 0.22\n",
            "Episode 32/500 | Ep. Total Reward: 9.0 | Epsilon : 0.539 | Eval Rwd Mean: 10.00 | Eval Rwd Var: 0.00\n",
            "Episode 33/500 | Ep. Total Reward: 14.0 | Epsilon : 0.539 | Eval Rwd Mean: 10.00 | Eval Rwd Var: 0.67\n",
            "Episode 34/500 | Ep. Total Reward: 9.0 | Epsilon : 0.539 | Eval Rwd Mean: 9.67 | Eval Rwd Var: 0.22\n",
            "Episode 35/500 | Ep. Total Reward: 13.0 | Epsilon : 0.539 | Eval Rwd Mean: 9.00 | Eval Rwd Var: 0.00\n",
            "Episode 36/500 | Ep. Total Reward: 11.0 | Epsilon : 0.539 | Eval Rwd Mean: 9.33 | Eval Rwd Var: 0.22\n",
            "Episode 37/500 | Ep. Total Reward: 16.0 | Epsilon : 0.539 | Eval Rwd Mean: 9.67 | Eval Rwd Var: 0.22\n",
            "Episode 38/500 | Ep. Total Reward: 16.0 | Epsilon : 0.539 | Eval Rwd Mean: 9.33 | Eval Rwd Var: 0.22\n",
            "Episode 39/500 | Ep. Total Reward: 9.0 | Epsilon : 0.539 | Eval Rwd Mean: 9.33 | Eval Rwd Var: 0.22\n",
            "Episode 40/500 | Ep. Total Reward: 16.0 | Epsilon : 0.539 | Eval Rwd Mean: 9.00 | Eval Rwd Var: 0.00\n",
            "Episode 41/500 | Ep. Total Reward: 10.0 | Epsilon : 0.488 | Eval Rwd Mean: 9.67 | Eval Rwd Var: 0.22\n",
            "Episode 42/500 | Ep. Total Reward: 15.0 | Epsilon : 0.488 | Eval Rwd Mean: 9.00 | Eval Rwd Var: 0.67\n",
            "Episode 43/500 | Ep. Total Reward: 9.0 | Epsilon : 0.488 | Eval Rwd Mean: 9.67 | Eval Rwd Var: 0.89\n",
            "Episode 44/500 | Ep. Total Reward: 13.0 | Epsilon : 0.488 | Eval Rwd Mean: 9.33 | Eval Rwd Var: 0.22\n",
            "Episode 45/500 | Ep. Total Reward: 12.0 | Epsilon : 0.488 | Eval Rwd Mean: 9.67 | Eval Rwd Var: 1.56\n",
            "Episode 46/500 | Ep. Total Reward: 13.0 | Epsilon : 0.488 | Eval Rwd Mean: 10.33 | Eval Rwd Var: 0.22\n",
            "Episode 47/500 | Ep. Total Reward: 9.0 | Epsilon : 0.488 | Eval Rwd Mean: 10.00 | Eval Rwd Var: 0.67\n",
            "Episode 48/500 | Ep. Total Reward: 16.0 | Epsilon : 0.488 | Eval Rwd Mean: 9.33 | Eval Rwd Var: 0.22\n",
            "Episode 49/500 | Ep. Total Reward: 9.0 | Epsilon : 0.488 | Eval Rwd Mean: 9.67 | Eval Rwd Var: 0.22\n",
            "Episode 50/500 | Ep. Total Reward: 10.0 | Epsilon : 0.488 | Eval Rwd Mean: 9.33 | Eval Rwd Var: 0.22\n",
            "Episode 51/500 | Ep. Total Reward: 13.0 | Epsilon : 0.428 | Eval Rwd Mean: 9.67 | Eval Rwd Var: 0.22\n",
            "Episode 52/500 | Ep. Total Reward: 13.0 | Epsilon : 0.428 | Eval Rwd Mean: 8.67 | Eval Rwd Var: 0.22\n",
            "Episode 53/500 | Ep. Total Reward: 14.0 | Epsilon : 0.428 | Eval Rwd Mean: 9.67 | Eval Rwd Var: 0.22\n",
            "Episode 54/500 | Ep. Total Reward: 22.0 | Epsilon : 0.428 | Eval Rwd Mean: 10.00 | Eval Rwd Var: 0.67\n",
            "Episode 55/500 | Ep. Total Reward: 18.0 | Epsilon : 0.428 | Eval Rwd Mean: 8.67 | Eval Rwd Var: 0.22\n",
            "Episode 56/500 | Ep. Total Reward: 9.0 | Epsilon : 0.428 | Eval Rwd Mean: 9.67 | Eval Rwd Var: 0.22\n",
            "Episode 57/500 | Ep. Total Reward: 12.0 | Epsilon : 0.428 | Eval Rwd Mean: 9.33 | Eval Rwd Var: 0.22\n",
            "Episode 58/500 | Ep. Total Reward: 11.0 | Epsilon : 0.428 | Eval Rwd Mean: 8.67 | Eval Rwd Var: 0.22\n",
            "Episode 59/500 | Ep. Total Reward: 22.0 | Epsilon : 0.428 | Eval Rwd Mean: 9.67 | Eval Rwd Var: 0.22\n",
            "Episode 60/500 | Ep. Total Reward: 24.0 | Epsilon : 0.428 | Eval Rwd Mean: 10.00 | Eval Rwd Var: 0.00\n",
            "Episode 61/500 | Ep. Total Reward: 15.0 | Epsilon : 0.368 | Eval Rwd Mean: 9.33 | Eval Rwd Var: 0.89\n",
            "Episode 62/500 | Ep. Total Reward: 12.0 | Epsilon : 0.368 | Eval Rwd Mean: 9.33 | Eval Rwd Var: 0.22\n",
            "Episode 63/500 | Ep. Total Reward: 22.0 | Epsilon : 0.368 | Eval Rwd Mean: 9.33 | Eval Rwd Var: 0.22\n",
            "Episode 64/500 | Ep. Total Reward: 14.0 | Epsilon : 0.368 | Eval Rwd Mean: 8.67 | Eval Rwd Var: 0.89\n",
            "Episode 65/500 | Ep. Total Reward: 14.0 | Epsilon : 0.368 | Eval Rwd Mean: 10.00 | Eval Rwd Var: 0.67\n",
            "Episode 66/500 | Ep. Total Reward: 10.0 | Epsilon : 0.368 | Eval Rwd Mean: 9.67 | Eval Rwd Var: 0.22\n",
            "Episode 67/500 | Ep. Total Reward: 11.0 | Epsilon : 0.368 | Eval Rwd Mean: 10.00 | Eval Rwd Var: 0.67\n",
            "Episode 68/500 | Ep. Total Reward: 10.0 | Epsilon : 0.368 | Eval Rwd Mean: 8.33 | Eval Rwd Var: 0.22\n",
            "Episode 69/500 | Ep. Total Reward: 13.0 | Epsilon : 0.368 | Eval Rwd Mean: 9.33 | Eval Rwd Var: 0.22\n",
            "Episode 70/500 | Ep. Total Reward: 10.0 | Epsilon : 0.368 | Eval Rwd Mean: 9.00 | Eval Rwd Var: 0.67\n",
            "Episode 71/500 | Ep. Total Reward: 16.0 | Epsilon : 0.313 | Eval Rwd Mean: 9.33 | Eval Rwd Var: 0.22\n",
            "Episode 72/500 | Ep. Total Reward: 9.0 | Epsilon : 0.313 | Eval Rwd Mean: 9.33 | Eval Rwd Var: 0.22\n",
            "Episode 73/500 | Ep. Total Reward: 12.0 | Epsilon : 0.313 | Eval Rwd Mean: 9.67 | Eval Rwd Var: 0.22\n",
            "Episode 74/500 | Ep. Total Reward: 13.0 | Epsilon : 0.313 | Eval Rwd Mean: 10.00 | Eval Rwd Var: 0.67\n",
            "Episode 75/500 | Ep. Total Reward: 8.0 | Epsilon : 0.313 | Eval Rwd Mean: 9.33 | Eval Rwd Var: 0.22\n",
            "Episode 76/500 | Ep. Total Reward: 13.0 | Epsilon : 0.313 | Eval Rwd Mean: 9.33 | Eval Rwd Var: 0.89\n",
            "Episode 77/500 | Ep. Total Reward: 10.0 | Epsilon : 0.313 | Eval Rwd Mean: 10.00 | Eval Rwd Var: 0.67\n",
            "Episode 78/500 | Ep. Total Reward: 10.0 | Epsilon : 0.313 | Eval Rwd Mean: 9.67 | Eval Rwd Var: 0.22\n",
            "Episode 79/500 | Ep. Total Reward: 8.0 | Epsilon : 0.313 | Eval Rwd Mean: 9.00 | Eval Rwd Var: 0.67\n",
            "Episode 80/500 | Ep. Total Reward: 10.0 | Epsilon : 0.313 | Eval Rwd Mean: 9.00 | Eval Rwd Var: 0.67\n",
            "Episode 81/500 | Ep. Total Reward: 10.0 | Epsilon : 0.283 | Eval Rwd Mean: 9.00 | Eval Rwd Var: 0.00\n",
            "Episode 82/500 | Ep. Total Reward: 12.0 | Epsilon : 0.283 | Eval Rwd Mean: 10.00 | Eval Rwd Var: 0.00\n",
            "Episode 83/500 | Ep. Total Reward: 9.0 | Epsilon : 0.283 | Eval Rwd Mean: 10.00 | Eval Rwd Var: 0.00\n",
            "Episode 84/500 | Ep. Total Reward: 11.0 | Epsilon : 0.283 | Eval Rwd Mean: 9.33 | Eval Rwd Var: 0.22\n",
            "Episode 85/500 | Ep. Total Reward: 14.0 | Epsilon : 0.283 | Eval Rwd Mean: 11.67 | Eval Rwd Var: 0.22\n",
            "Episode 86/500 | Ep. Total Reward: 13.0 | Epsilon : 0.283 | Eval Rwd Mean: 9.00 | Eval Rwd Var: 0.67\n",
            "Episode 87/500 | Ep. Total Reward: 10.0 | Epsilon : 0.283 | Eval Rwd Mean: 9.33 | Eval Rwd Var: 0.22\n",
            "Episode 88/500 | Ep. Total Reward: 12.0 | Epsilon : 0.283 | Eval Rwd Mean: 10.00 | Eval Rwd Var: 0.67\n",
            "Episode 89/500 | Ep. Total Reward: 12.0 | Epsilon : 0.283 | Eval Rwd Mean: 15.00 | Eval Rwd Var: 2.67\n",
            "Episode 90/500 | Ep. Total Reward: 12.0 | Epsilon : 0.283 | Eval Rwd Mean: 9.67 | Eval Rwd Var: 0.22\n",
            "Episode 91/500 | Ep. Total Reward: 9.0 | Epsilon : 0.259 | Eval Rwd Mean: 58.00 | Eval Rwd Var: 200.67\n",
            "Episode 92/500 | Ep. Total Reward: 33.0 | Epsilon : 0.259 | Eval Rwd Mean: 10.00 | Eval Rwd Var: 0.67\n",
            "Episode 93/500 | Ep. Total Reward: 12.0 | Epsilon : 0.259 | Eval Rwd Mean: 33.33 | Eval Rwd Var: 26.89\n",
            "Episode 94/500 | Ep. Total Reward: 14.0 | Epsilon : 0.259 | Eval Rwd Mean: 13.00 | Eval Rwd Var: 2.67\n",
            "Episode 95/500 | Ep. Total Reward: 12.0 | Epsilon : 0.259 | Eval Rwd Mean: 10.33 | Eval Rwd Var: 0.22\n",
            "Episode 96/500 | Ep. Total Reward: 12.0 | Epsilon : 0.259 | Eval Rwd Mean: 32.67 | Eval Rwd Var: 4.22\n",
            "Episode 97/500 | Ep. Total Reward: 20.0 | Epsilon : 0.259 | Eval Rwd Mean: 11.67 | Eval Rwd Var: 2.89\n",
            "Episode 98/500 | Ep. Total Reward: 11.0 | Epsilon : 0.259 | Eval Rwd Mean: 10.00 | Eval Rwd Var: 0.67\n",
            "Episode 99/500 | Ep. Total Reward: 10.0 | Epsilon : 0.259 | Eval Rwd Mean: 10.33 | Eval Rwd Var: 0.89\n",
            "Episode 100/500 | Ep. Total Reward: 10.0 | Epsilon : 0.259 | Eval Rwd Mean: 9.00 | Eval Rwd Var: 0.67\n",
            "Episode 101/500 | Ep. Total Reward: 9.0 | Epsilon : 0.236 | Eval Rwd Mean: 9.67 | Eval Rwd Var: 0.22\n",
            "Episode 102/500 | Ep. Total Reward: 14.0 | Epsilon : 0.236 | Eval Rwd Mean: 10.00 | Eval Rwd Var: 0.00\n",
            "Episode 103/500 | Ep. Total Reward: 10.0 | Epsilon : 0.236 | Eval Rwd Mean: 11.67 | Eval Rwd Var: 0.89\n",
            "Episode 104/500 | Ep. Total Reward: 37.0 | Epsilon : 0.236 | Eval Rwd Mean: 33.67 | Eval Rwd Var: 9.56\n",
            "Episode 105/500 | Ep. Total Reward: 14.0 | Epsilon : 0.236 | Eval Rwd Mean: 23.67 | Eval Rwd Var: 11.56\n",
            "Episode 106/500 | Ep. Total Reward: 28.0 | Epsilon : 0.236 | Eval Rwd Mean: 46.00 | Eval Rwd Var: 34.67\n",
            "Episode 107/500 | Ep. Total Reward: 35.0 | Epsilon : 0.236 | Eval Rwd Mean: 15.67 | Eval Rwd Var: 1.56\n",
            "Episode 108/500 | Ep. Total Reward: 16.0 | Epsilon : 0.236 | Eval Rwd Mean: 8.33 | Eval Rwd Var: 0.22\n",
            "Episode 109/500 | Ep. Total Reward: 10.0 | Epsilon : 0.236 | Eval Rwd Mean: 11.33 | Eval Rwd Var: 1.56\n",
            "Episode 110/500 | Ep. Total Reward: 15.0 | Epsilon : 0.236 | Eval Rwd Mean: 10.67 | Eval Rwd Var: 1.56\n",
            "Episode 111/500 | Ep. Total Reward: 9.0 | Epsilon : 0.216 | Eval Rwd Mean: 15.67 | Eval Rwd Var: 1.56\n",
            "Episode 112/500 | Ep. Total Reward: 13.0 | Epsilon : 0.216 | Eval Rwd Mean: 23.00 | Eval Rwd Var: 8.67\n",
            "Episode 113/500 | Ep. Total Reward: 52.0 | Epsilon : 0.216 | Eval Rwd Mean: 9.67 | Eval Rwd Var: 0.22\n",
            "Episode 114/500 | Ep. Total Reward: 9.0 | Epsilon : 0.216 | Eval Rwd Mean: 10.00 | Eval Rwd Var: 2.67\n",
            "Episode 115/500 | Ep. Total Reward: 10.0 | Epsilon : 0.216 | Eval Rwd Mean: 9.67 | Eval Rwd Var: 0.22\n",
            "Episode 116/500 | Ep. Total Reward: 11.0 | Epsilon : 0.216 | Eval Rwd Mean: 8.67 | Eval Rwd Var: 0.22\n",
            "Episode 117/500 | Ep. Total Reward: 10.0 | Epsilon : 0.216 | Eval Rwd Mean: 13.00 | Eval Rwd Var: 0.67\n",
            "Episode 118/500 | Ep. Total Reward: 14.0 | Epsilon : 0.216 | Eval Rwd Mean: 8.67 | Eval Rwd Var: 0.22\n",
            "Episode 119/500 | Ep. Total Reward: 14.0 | Epsilon : 0.216 | Eval Rwd Mean: 20.33 | Eval Rwd Var: 2.89\n",
            "Episode 120/500 | Ep. Total Reward: 23.0 | Epsilon : 0.216 | Eval Rwd Mean: 9.67 | Eval Rwd Var: 0.22\n",
            "Episode 121/500 | Ep. Total Reward: 9.0 | Epsilon : 0.197 | Eval Rwd Mean: 275.67 | Eval Rwd Var: 1.56\n",
            "Episode 122/500 | Ep. Total Reward: 49.0 | Epsilon : 0.197 | Eval Rwd Mean: 10.00 | Eval Rwd Var: 0.00\n",
            "Episode 123/500 | Ep. Total Reward: 11.0 | Epsilon : 0.197 | Eval Rwd Mean: 13.00 | Eval Rwd Var: 0.00\n",
            "Episode 124/500 | Ep. Total Reward: 10.0 | Epsilon : 0.197 | Eval Rwd Mean: 25.33 | Eval Rwd Var: 6.22\n",
            "Episode 125/500 | Ep. Total Reward: 24.0 | Epsilon : 0.197 | Eval Rwd Mean: 10.33 | Eval Rwd Var: 0.89\n",
            "Episode 126/500 | Ep. Total Reward: 10.0 | Epsilon : 0.197 | Eval Rwd Mean: 9.67 | Eval Rwd Var: 0.22\n",
            "Episode 127/500 | Ep. Total Reward: 8.0 | Epsilon : 0.197 | Eval Rwd Mean: 10.33 | Eval Rwd Var: 0.89\n",
            "Episode 128/500 | Ep. Total Reward: 10.0 | Epsilon : 0.197 | Eval Rwd Mean: 16.33 | Eval Rwd Var: 0.22\n",
            "Episode 129/500 | Ep. Total Reward: 25.0 | Epsilon : 0.197 | Eval Rwd Mean: 10.67 | Eval Rwd Var: 0.22\n",
            "Episode 130/500 | Ep. Total Reward: 9.0 | Epsilon : 0.197 | Eval Rwd Mean: 9.00 | Eval Rwd Var: 0.67\n",
            "Episode 131/500 | Ep. Total Reward: 10.0 | Epsilon : 0.178 | Eval Rwd Mean: 9.33 | Eval Rwd Var: 0.22\n",
            "Episode 132/500 | Ep. Total Reward: 10.0 | Epsilon : 0.178 | Eval Rwd Mean: 56.33 | Eval Rwd Var: 32.89\n",
            "Episode 133/500 | Ep. Total Reward: 30.0 | Epsilon : 0.178 | Eval Rwd Mean: 15.00 | Eval Rwd Var: 0.67\n",
            "Episode 134/500 | Ep. Total Reward: 13.0 | Epsilon : 0.178 | Eval Rwd Mean: 12.67 | Eval Rwd Var: 0.22\n",
            "Episode 135/500 | Ep. Total Reward: 9.0 | Epsilon : 0.178 | Eval Rwd Mean: 136.67 | Eval Rwd Var: 108.22\n",
            "Episode 136/500 | Ep. Total Reward: 27.0 | Epsilon : 0.178 | Eval Rwd Mean: 15.00 | Eval Rwd Var: 2.00\n",
            "Episode 137/500 | Ep. Total Reward: 15.0 | Epsilon : 0.178 | Eval Rwd Mean: 9.00 | Eval Rwd Var: 0.67\n",
            "Episode 138/500 | Ep. Total Reward: 10.0 | Epsilon : 0.178 | Eval Rwd Mean: 9.67 | Eval Rwd Var: 0.22\n",
            "Episode 139/500 | Ep. Total Reward: 12.0 | Epsilon : 0.178 | Eval Rwd Mean: 9.33 | Eval Rwd Var: 0.89\n",
            "Episode 140/500 | Ep. Total Reward: 11.0 | Epsilon : 0.178 | Eval Rwd Mean: 10.00 | Eval Rwd Var: 0.67\n",
            "Episode 141/500 | Ep. Total Reward: 8.0 | Epsilon : 0.165 | Eval Rwd Mean: 10.33 | Eval Rwd Var: 0.22\n",
            "Episode 142/500 | Ep. Total Reward: 11.0 | Epsilon : 0.165 | Eval Rwd Mean: 10.33 | Eval Rwd Var: 0.89\n",
            "Episode 143/500 | Ep. Total Reward: 17.0 | Epsilon : 0.165 | Eval Rwd Mean: 9.33 | Eval Rwd Var: 0.22\n",
            "Episode 144/500 | Ep. Total Reward: 8.0 | Epsilon : 0.165 | Eval Rwd Mean: 12.33 | Eval Rwd Var: 0.89\n",
            "Episode 145/500 | Ep. Total Reward: 40.0 | Epsilon : 0.165 | Eval Rwd Mean: 9.33 | Eval Rwd Var: 0.89\n",
            "Episode 146/500 | Ep. Total Reward: 9.0 | Epsilon : 0.165 | Eval Rwd Mean: 9.33 | Eval Rwd Var: 0.22\n",
            "Episode 147/500 | Ep. Total Reward: 10.0 | Epsilon : 0.165 | Eval Rwd Mean: 9.33 | Eval Rwd Var: 0.89\n",
            "Episode 148/500 | Ep. Total Reward: 10.0 | Epsilon : 0.165 | Eval Rwd Mean: 9.00 | Eval Rwd Var: 2.00\n",
            "Episode 149/500 | Ep. Total Reward: 11.0 | Epsilon : 0.165 | Eval Rwd Mean: 9.00 | Eval Rwd Var: 0.67\n",
            "Episode 150/500 | Ep. Total Reward: 8.0 | Epsilon : 0.165 | Eval Rwd Mean: 9.33 | Eval Rwd Var: 0.22\n",
            "Episode 151/500 | Ep. Total Reward: 10.0 | Epsilon : 0.149 | Eval Rwd Mean: 11.00 | Eval Rwd Var: 0.67\n",
            "Episode 152/500 | Ep. Total Reward: 12.0 | Epsilon : 0.149 | Eval Rwd Mean: 57.33 | Eval Rwd Var: 16.89\n",
            "Episode 153/500 | Ep. Total Reward: 27.0 | Epsilon : 0.149 | Eval Rwd Mean: 9.33 | Eval Rwd Var: 0.22\n",
            "Episode 154/500 | Ep. Total Reward: 12.0 | Epsilon : 0.149 | Eval Rwd Mean: 22.67 | Eval Rwd Var: 2.89\n",
            "Episode 155/500 | Ep. Total Reward: 66.0 | Epsilon : 0.149 | Eval Rwd Mean: 9.33 | Eval Rwd Var: 0.22\n",
            "Episode 156/500 | Ep. Total Reward: 12.0 | Epsilon : 0.149 | Eval Rwd Mean: 170.00 | Eval Rwd Var: 416.67\n",
            "Episode 157/500 | Ep. Total Reward: 34.0 | Epsilon : 0.149 | Eval Rwd Mean: 12.00 | Eval Rwd Var: 2.67\n",
            "Episode 158/500 | Ep. Total Reward: 11.0 | Epsilon : 0.149 | Eval Rwd Mean: 9.00 | Eval Rwd Var: 0.00\n",
            "Episode 159/500 | Ep. Total Reward: 8.0 | Epsilon : 0.149 | Eval Rwd Mean: 11.67 | Eval Rwd Var: 0.22\n",
            "Episode 160/500 | Ep. Total Reward: 9.0 | Epsilon : 0.149 | Eval Rwd Mean: 181.33 | Eval Rwd Var: 780.22\n",
            "Episode 161/500 | Ep. Total Reward: 20.0 | Epsilon : 0.122 | Eval Rwd Mean: 9.33 | Eval Rwd Var: 0.22\n",
            "Episode 162/500 | Ep. Total Reward: 9.0 | Epsilon : 0.122 | Eval Rwd Mean: 9.00 | Eval Rwd Var: 0.67\n",
            "Episode 163/500 | Ep. Total Reward: 13.0 | Epsilon : 0.122 | Eval Rwd Mean: 124.33 | Eval Rwd Var: 953.56\n",
            "Episode 164/500 | Ep. Total Reward: 35.0 | Epsilon : 0.122 | Eval Rwd Mean: 9.00 | Eval Rwd Var: 0.67\n",
            "Episode 165/500 | Ep. Total Reward: 11.0 | Epsilon : 0.122 | Eval Rwd Mean: 10.67 | Eval Rwd Var: 1.56\n",
            "Episode 166/500 | Ep. Total Reward: 10.0 | Epsilon : 0.122 | Eval Rwd Mean: 9.33 | Eval Rwd Var: 0.22\n",
            "Episode 167/500 | Ep. Total Reward: 11.0 | Epsilon : 0.122 | Eval Rwd Mean: 9.67 | Eval Rwd Var: 0.22\n",
            "Episode 168/500 | Ep. Total Reward: 10.0 | Epsilon : 0.122 | Eval Rwd Mean: 15.67 | Eval Rwd Var: 0.89\n",
            "Episode 169/500 | Ep. Total Reward: 13.0 | Epsilon : 0.122 | Eval Rwd Mean: 10.33 | Eval Rwd Var: 0.22\n",
            "Episode 170/500 | Ep. Total Reward: 8.0 | Epsilon : 0.122 | Eval Rwd Mean: 248.00 | Eval Rwd Var: 210.67\n",
            "Episode 171/500 | Ep. Total Reward: 122.0 | Epsilon : 0.100 | Eval Rwd Mean: 12.33 | Eval Rwd Var: 1.56\n",
            "Episode 172/500 | Ep. Total Reward: 14.0 | Epsilon : 0.100 | Eval Rwd Mean: 28.67 | Eval Rwd Var: 16.89\n",
            "Episode 173/500 | Ep. Total Reward: 16.0 | Epsilon : 0.100 | Eval Rwd Mean: 8.67 | Eval Rwd Var: 0.22\n",
            "Episode 174/500 | Ep. Total Reward: 11.0 | Epsilon : 0.100 | Eval Rwd Mean: 15.00 | Eval Rwd Var: 2.67\n",
            "Episode 175/500 | Ep. Total Reward: 17.0 | Epsilon : 0.100 | Eval Rwd Mean: 18.67 | Eval Rwd Var: 3.56\n",
            "Episode 176/500 | Ep. Total Reward: 15.0 | Epsilon : 0.100 | Eval Rwd Mean: 21.33 | Eval Rwd Var: 2.89\n",
            "Episode 177/500 | Ep. Total Reward: 16.0 | Epsilon : 0.100 | Eval Rwd Mean: 9.33 | Eval Rwd Var: 0.22\n",
            "Episode 178/500 | Ep. Total Reward: 11.0 | Epsilon : 0.100 | Eval Rwd Mean: 9.33 | Eval Rwd Var: 0.22\n",
            "Episode 179/500 | Ep. Total Reward: 8.0 | Epsilon : 0.100 | Eval Rwd Mean: 9.67 | Eval Rwd Var: 0.22\n",
            "Episode 180/500 | Ep. Total Reward: 9.0 | Epsilon : 0.100 | Eval Rwd Mean: 10.33 | Eval Rwd Var: 0.89\n",
            "Episode 181/500 | Ep. Total Reward: 9.0 | Epsilon : 0.100 | Eval Rwd Mean: 16.67 | Eval Rwd Var: 2.89\n",
            "Episode 182/500 | Ep. Total Reward: 22.0 | Epsilon : 0.100 | Eval Rwd Mean: 11.00 | Eval Rwd Var: 2.00\n",
            "Episode 183/500 | Ep. Total Reward: 10.0 | Epsilon : 0.100 | Eval Rwd Mean: 14.00 | Eval Rwd Var: 2.00\n",
            "Episode 184/500 | Ep. Total Reward: 16.0 | Epsilon : 0.100 | Eval Rwd Mean: 9.00 | Eval Rwd Var: 0.00\n",
            "Episode 185/500 | Ep. Total Reward: 13.0 | Epsilon : 0.100 | Eval Rwd Mean: 12.33 | Eval Rwd Var: 1.56\n",
            "Episode 186/500 | Ep. Total Reward: 10.0 | Epsilon : 0.100 | Eval Rwd Mean: 9.00 | Eval Rwd Var: 0.00\n",
            "Episode 187/500 | Ep. Total Reward: 10.0 | Epsilon : 0.100 | Eval Rwd Mean: 10.33 | Eval Rwd Var: 1.56\n",
            "Episode 188/500 | Ep. Total Reward: 11.0 | Epsilon : 0.100 | Eval Rwd Mean: 9.33 | Eval Rwd Var: 0.22\n",
            "Episode 189/500 | Ep. Total Reward: 10.0 | Epsilon : 0.100 | Eval Rwd Mean: 10.33 | Eval Rwd Var: 0.22\n",
            "Episode 190/500 | Ep. Total Reward: 10.0 | Epsilon : 0.100 | Eval Rwd Mean: 9.67 | Eval Rwd Var: 0.22\n",
            "Episode 191/500 | Ep. Total Reward: 9.0 | Epsilon : 0.100 | Eval Rwd Mean: 9.67 | Eval Rwd Var: 0.89\n",
            "Episode 192/500 | Ep. Total Reward: 10.0 | Epsilon : 0.100 | Eval Rwd Mean: 11.00 | Eval Rwd Var: 0.67\n",
            "Episode 193/500 | Ep. Total Reward: 10.0 | Epsilon : 0.100 | Eval Rwd Mean: 45.00 | Eval Rwd Var: 128.00\n",
            "Episode 194/500 | Ep. Total Reward: 63.0 | Epsilon : 0.100 | Eval Rwd Mean: 39.00 | Eval Rwd Var: 24.67\n",
            "Episode 195/500 | Ep. Total Reward: 69.0 | Epsilon : 0.100 | Eval Rwd Mean: 10.33 | Eval Rwd Var: 1.56\n",
            "Episode 196/500 | Ep. Total Reward: 9.0 | Epsilon : 0.100 | Eval Rwd Mean: 9.67 | Eval Rwd Var: 0.22\n",
            "Episode 197/500 | Ep. Total Reward: 10.0 | Epsilon : 0.100 | Eval Rwd Mean: 9.67 | Eval Rwd Var: 0.22\n",
            "Episode 198/500 | Ep. Total Reward: 10.0 | Epsilon : 0.100 | Eval Rwd Mean: 13.33 | Eval Rwd Var: 1.56\n",
            "Episode 199/500 | Ep. Total Reward: 13.0 | Epsilon : 0.100 | Eval Rwd Mean: 10.00 | Eval Rwd Var: 0.67\n",
            "Episode 200/500 | Ep. Total Reward: 12.0 | Epsilon : 0.100 | Eval Rwd Mean: 9.33 | Eval Rwd Var: 0.22\n",
            "Episode 201/500 | Ep. Total Reward: 9.0 | Epsilon : 0.100 | Eval Rwd Mean: 9.67 | Eval Rwd Var: 0.22\n",
            "Episode 202/500 | Ep. Total Reward: 10.0 | Epsilon : 0.100 | Eval Rwd Mean: 9.00 | Eval Rwd Var: 0.67\n",
            "Episode 203/500 | Ep. Total Reward: 10.0 | Epsilon : 0.100 | Eval Rwd Mean: 9.00 | Eval Rwd Var: 0.00\n",
            "Episode 204/500 | Ep. Total Reward: 10.0 | Epsilon : 0.100 | Eval Rwd Mean: 9.33 | Eval Rwd Var: 0.22\n",
            "Episode 205/500 | Ep. Total Reward: 11.0 | Epsilon : 0.100 | Eval Rwd Mean: 9.33 | Eval Rwd Var: 0.22\n",
            "Episode 206/500 | Ep. Total Reward: 10.0 | Epsilon : 0.100 | Eval Rwd Mean: 8.67 | Eval Rwd Var: 0.22\n",
            "Episode 207/500 | Ep. Total Reward: 9.0 | Epsilon : 0.100 | Eval Rwd Mean: 9.00 | Eval Rwd Var: 0.00\n",
            "Episode 208/500 | Ep. Total Reward: 11.0 | Epsilon : 0.100 | Eval Rwd Mean: 11.00 | Eval Rwd Var: 0.67\n",
            "Episode 209/500 | Ep. Total Reward: 16.0 | Epsilon : 0.100 | Eval Rwd Mean: 10.33 | Eval Rwd Var: 0.22\n",
            "Episode 210/500 | Ep. Total Reward: 12.0 | Epsilon : 0.100 | Eval Rwd Mean: 36.00 | Eval Rwd Var: 8.67\n",
            "Episode 211/500 | Ep. Total Reward: 40.0 | Epsilon : 0.100 | Eval Rwd Mean: 9.67 | Eval Rwd Var: 0.22\n",
            "Episode 212/500 | Ep. Total Reward: 11.0 | Epsilon : 0.100 | Eval Rwd Mean: 10.00 | Eval Rwd Var: 0.67\n",
            "Episode 213/500 | Ep. Total Reward: 10.0 | Epsilon : 0.100 | Eval Rwd Mean: 15.33 | Eval Rwd Var: 4.22\n",
            "Episode 214/500 | Ep. Total Reward: 12.0 | Epsilon : 0.100 | Eval Rwd Mean: 9.67 | Eval Rwd Var: 0.22\n",
            "Episode 215/500 | Ep. Total Reward: 9.0 | Epsilon : 0.100 | Eval Rwd Mean: 9.33 | Eval Rwd Var: 1.56\n",
            "Episode 216/500 | Ep. Total Reward: 8.0 | Epsilon : 0.100 | Eval Rwd Mean: 14.67 | Eval Rwd Var: 5.56\n",
            "Episode 217/500 | Ep. Total Reward: 15.0 | Epsilon : 0.100 | Eval Rwd Mean: 25.67 | Eval Rwd Var: 14.89\n",
            "Episode 218/500 | Ep. Total Reward: 49.0 | Epsilon : 0.100 | Eval Rwd Mean: 10.00 | Eval Rwd Var: 2.00\n",
            "Episode 219/500 | Ep. Total Reward: 10.0 | Epsilon : 0.100 | Eval Rwd Mean: 8.33 | Eval Rwd Var: 0.22\n",
            "Episode 220/500 | Ep. Total Reward: 9.0 | Epsilon : 0.100 | Eval Rwd Mean: 11.00 | Eval Rwd Var: 2.67\n",
            "Episode 221/500 | Ep. Total Reward: 14.0 | Epsilon : 0.100 | Eval Rwd Mean: 9.33 | Eval Rwd Var: 0.89\n",
            "Episode 222/500 | Ep. Total Reward: 10.0 | Epsilon : 0.100 | Eval Rwd Mean: 12.67 | Eval Rwd Var: 0.89\n",
            "Episode 223/500 | Ep. Total Reward: 9.0 | Epsilon : 0.100 | Eval Rwd Mean: 9.00 | Eval Rwd Var: 0.67\n",
            "Episode 224/500 | Ep. Total Reward: 8.0 | Epsilon : 0.100 | Eval Rwd Mean: 10.33 | Eval Rwd Var: 0.89\n",
            "Episode 225/500 | Ep. Total Reward: 12.0 | Epsilon : 0.100 | Eval Rwd Mean: 9.67 | Eval Rwd Var: 0.22\n",
            "Episode 226/500 | Ep. Total Reward: 9.0 | Epsilon : 0.100 | Eval Rwd Mean: 9.00 | Eval Rwd Var: 0.00\n",
            "Episode 227/500 | Ep. Total Reward: 9.0 | Epsilon : 0.100 | Eval Rwd Mean: 9.00 | Eval Rwd Var: 0.00\n",
            "Episode 228/500 | Ep. Total Reward: 12.0 | Epsilon : 0.100 | Eval Rwd Mean: 12.33 | Eval Rwd Var: 3.56\n",
            "Episode 229/500 | Ep. Total Reward: 17.0 | Epsilon : 0.100 | Eval Rwd Mean: 11.00 | Eval Rwd Var: 0.00\n",
            "Episode 230/500 | Ep. Total Reward: 11.0 | Epsilon : 0.100 | Eval Rwd Mean: 10.00 | Eval Rwd Var: 0.67\n",
            "Episode 231/500 | Ep. Total Reward: 13.0 | Epsilon : 0.100 | Eval Rwd Mean: 8.67 | Eval Rwd Var: 0.22\n",
            "Episode 232/500 | Ep. Total Reward: 11.0 | Epsilon : 0.100 | Eval Rwd Mean: 12.00 | Eval Rwd Var: 0.67\n",
            "Episode 233/500 | Ep. Total Reward: 12.0 | Epsilon : 0.100 | Eval Rwd Mean: 10.00 | Eval Rwd Var: 0.00\n",
            "Episode 234/500 | Ep. Total Reward: 13.0 | Epsilon : 0.100 | Eval Rwd Mean: 15.00 | Eval Rwd Var: 2.00\n",
            "Episode 235/500 | Ep. Total Reward: 41.0 | Epsilon : 0.100 | Eval Rwd Mean: 16.00 | Eval Rwd Var: 0.67\n",
            "Episode 236/500 | Ep. Total Reward: 10.0 | Epsilon : 0.100 | Eval Rwd Mean: 43.67 | Eval Rwd Var: 150.89\n",
            "Episode 237/500 | Ep. Total Reward: 14.0 | Epsilon : 0.100 | Eval Rwd Mean: 31.33 | Eval Rwd Var: 10.89\n",
            "Episode 238/500 | Ep. Total Reward: 23.0 | Epsilon : 0.100 | Eval Rwd Mean: 9.67 | Eval Rwd Var: 0.22\n",
            "Episode 239/500 | Ep. Total Reward: 10.0 | Epsilon : 0.100 | Eval Rwd Mean: 10.00 | Eval Rwd Var: 0.00\n",
            "Episode 240/500 | Ep. Total Reward: 11.0 | Epsilon : 0.100 | Eval Rwd Mean: 10.33 | Eval Rwd Var: 3.56\n",
            "Episode 241/500 | Ep. Total Reward: 9.0 | Epsilon : 0.100 | Eval Rwd Mean: 16.33 | Eval Rwd Var: 0.22\n",
            "Episode 242/500 | Ep. Total Reward: 11.0 | Epsilon : 0.100 | Eval Rwd Mean: 9.00 | Eval Rwd Var: 0.00\n",
            "Episode 243/500 | Ep. Total Reward: 10.0 | Epsilon : 0.100 | Eval Rwd Mean: 10.00 | Eval Rwd Var: 0.00\n",
            "Episode 244/500 | Ep. Total Reward: 9.0 | Epsilon : 0.100 | Eval Rwd Mean: 10.00 | Eval Rwd Var: 0.00\n",
            "Episode 245/500 | Ep. Total Reward: 12.0 | Epsilon : 0.100 | Eval Rwd Mean: 21.00 | Eval Rwd Var: 4.67\n",
            "Episode 246/500 | Ep. Total Reward: 15.0 | Epsilon : 0.100 | Eval Rwd Mean: 248.33 | Eval Rwd Var: 27320.22\n",
            "Episode 247/500 | Ep. Total Reward: 95.0 | Epsilon : 0.100 | Eval Rwd Mean: 11.33 | Eval Rwd Var: 2.89\n",
            "Episode 248/500 | Ep. Total Reward: 10.0 | Epsilon : 0.100 | Eval Rwd Mean: 8.33 | Eval Rwd Var: 0.22\n",
            "Episode 249/500 | Ep. Total Reward: 10.0 | Epsilon : 0.100 | Eval Rwd Mean: 9.67 | Eval Rwd Var: 0.22\n",
            "Episode 250/500 | Ep. Total Reward: 10.0 | Epsilon : 0.100 | Eval Rwd Mean: 12.00 | Eval Rwd Var: 0.67\n",
            "Episode 251/500 | Ep. Total Reward: 12.0 | Epsilon : 0.100 | Eval Rwd Mean: 55.67 | Eval Rwd Var: 42.89\n",
            "Episode 252/500 | Ep. Total Reward: 62.0 | Epsilon : 0.100 | Eval Rwd Mean: 11.33 | Eval Rwd Var: 2.89\n",
            "Episode 253/500 | Ep. Total Reward: 9.0 | Epsilon : 0.100 | Eval Rwd Mean: 18.67 | Eval Rwd Var: 2.89\n",
            "Episode 254/500 | Ep. Total Reward: 17.0 | Epsilon : 0.100 | Eval Rwd Mean: 9.33 | Eval Rwd Var: 0.89\n",
            "Episode 255/500 | Ep. Total Reward: 8.0 | Epsilon : 0.100 | Eval Rwd Mean: 12.67 | Eval Rwd Var: 4.22\n",
            "Episode 256/500 | Ep. Total Reward: 12.0 | Epsilon : 0.100 | Eval Rwd Mean: 30.33 | Eval Rwd Var: 2.89\n",
            "Episode 257/500 | Ep. Total Reward: 25.0 | Epsilon : 0.100 | Eval Rwd Mean: 13.00 | Eval Rwd Var: 4.67\n",
            "Episode 258/500 | Ep. Total Reward: 12.0 | Epsilon : 0.100 | Eval Rwd Mean: 9.33 | Eval Rwd Var: 0.22\n",
            "Episode 259/500 | Ep. Total Reward: 10.0 | Epsilon : 0.100 | Eval Rwd Mean: 10.33 | Eval Rwd Var: 1.56\n",
            "Episode 260/500 | Ep. Total Reward: 16.0 | Epsilon : 0.100 | Eval Rwd Mean: 9.33 | Eval Rwd Var: 0.22\n",
            "Episode 261/500 | Ep. Total Reward: 10.0 | Epsilon : 0.100 | Eval Rwd Mean: 10.67 | Eval Rwd Var: 1.56\n",
            "Episode 262/500 | Ep. Total Reward: 9.0 | Epsilon : 0.100 | Eval Rwd Mean: 15.00 | Eval Rwd Var: 0.67\n",
            "Episode 263/500 | Ep. Total Reward: 9.0 | Epsilon : 0.100 | Eval Rwd Mean: 9.33 | Eval Rwd Var: 0.22\n",
            "Episode 264/500 | Ep. Total Reward: 10.0 | Epsilon : 0.100 | Eval Rwd Mean: 11.33 | Eval Rwd Var: 1.56\n",
            "Episode 265/500 | Ep. Total Reward: 12.0 | Epsilon : 0.100 | Eval Rwd Mean: 64.00 | Eval Rwd Var: 158.00\n",
            "Episode 266/500 | Ep. Total Reward: 42.0 | Epsilon : 0.100 | Eval Rwd Mean: 10.33 | Eval Rwd Var: 0.22\n",
            "Episode 267/500 | Ep. Total Reward: 10.0 | Epsilon : 0.100 | Eval Rwd Mean: 12.00 | Eval Rwd Var: 2.00\n",
            "Episode 268/500 | Ep. Total Reward: 11.0 | Epsilon : 0.100 | Eval Rwd Mean: 26.67 | Eval Rwd Var: 6.89\n",
            "Episode 269/500 | Ep. Total Reward: 24.0 | Epsilon : 0.100 | Eval Rwd Mean: 17.67 | Eval Rwd Var: 4.22\n",
            "Episode 270/500 | Ep. Total Reward: 26.0 | Epsilon : 0.100 | Eval Rwd Mean: 20.00 | Eval Rwd Var: 0.00\n",
            "Episode 271/500 | Ep. Total Reward: 17.0 | Epsilon : 0.100 | Eval Rwd Mean: 9.00 | Eval Rwd Var: 0.67\n",
            "Episode 272/500 | Ep. Total Reward: 10.0 | Epsilon : 0.100 | Eval Rwd Mean: 12.33 | Eval Rwd Var: 1.56\n",
            "Episode 273/500 | Ep. Total Reward: 13.0 | Epsilon : 0.100 | Eval Rwd Mean: 41.67 | Eval Rwd Var: 1.56\n",
            "Episode 274/500 | Ep. Total Reward: 70.0 | Epsilon : 0.100 | Eval Rwd Mean: 16.00 | Eval Rwd Var: 2.67\n",
            "Episode 275/500 | Ep. Total Reward: 29.0 | Epsilon : 0.100 | Eval Rwd Mean: 12.00 | Eval Rwd Var: 0.67\n",
            "Episode 276/500 | Ep. Total Reward: 14.0 | Epsilon : 0.100 | Eval Rwd Mean: 25.67 | Eval Rwd Var: 16.89\n",
            "Episode 277/500 | Ep. Total Reward: 72.0 | Epsilon : 0.100 | Eval Rwd Mean: 51.33 | Eval Rwd Var: 30.89\n",
            "Episode 278/500 | Ep. Total Reward: 33.0 | Epsilon : 0.100 | Eval Rwd Mean: 18.00 | Eval Rwd Var: 2.67\n",
            "Episode 279/500 | Ep. Total Reward: 17.0 | Epsilon : 0.100 | Eval Rwd Mean: 10.33 | Eval Rwd Var: 0.89\n",
            "Episode 280/500 | Ep. Total Reward: 11.0 | Epsilon : 0.100 | Eval Rwd Mean: 9.00 | Eval Rwd Var: 0.67\n",
            "Episode 281/500 | Ep. Total Reward: 12.0 | Epsilon : 0.100 | Eval Rwd Mean: 12.33 | Eval Rwd Var: 1.56\n",
            "Episode 282/500 | Ep. Total Reward: 11.0 | Epsilon : 0.100 | Eval Rwd Mean: 9.67 | Eval Rwd Var: 0.22\n",
            "Episode 283/500 | Ep. Total Reward: 10.0 | Epsilon : 0.100 | Eval Rwd Mean: 9.33 | Eval Rwd Var: 0.22\n",
            "Episode 284/500 | Ep. Total Reward: 11.0 | Epsilon : 0.100 | Eval Rwd Mean: 9.33 | Eval Rwd Var: 0.22\n",
            "Episode 285/500 | Ep. Total Reward: 11.0 | Epsilon : 0.100 | Eval Rwd Mean: 24.33 | Eval Rwd Var: 0.89\n",
            "Episode 286/500 | Ep. Total Reward: 31.0 | Epsilon : 0.100 | Eval Rwd Mean: 33.00 | Eval Rwd Var: 0.67\n",
            "Episode 287/500 | Ep. Total Reward: 31.0 | Epsilon : 0.100 | Eval Rwd Mean: 9.67 | Eval Rwd Var: 0.22\n",
            "Episode 288/500 | Ep. Total Reward: 10.0 | Epsilon : 0.100 | Eval Rwd Mean: 10.00 | Eval Rwd Var: 0.67\n",
            "Episode 289/500 | Ep. Total Reward: 10.0 | Epsilon : 0.100 | Eval Rwd Mean: 13.33 | Eval Rwd Var: 2.89\n",
            "Episode 290/500 | Ep. Total Reward: 10.0 | Epsilon : 0.100 | Eval Rwd Mean: 9.67 | Eval Rwd Var: 0.22\n",
            "Episode 291/500 | Ep. Total Reward: 9.0 | Epsilon : 0.100 | Eval Rwd Mean: 9.67 | Eval Rwd Var: 0.22\n",
            "Episode 292/500 | Ep. Total Reward: 9.0 | Epsilon : 0.100 | Eval Rwd Mean: 11.67 | Eval Rwd Var: 1.56\n",
            "Episode 293/500 | Ep. Total Reward: 12.0 | Epsilon : 0.100 | Eval Rwd Mean: 8.67 | Eval Rwd Var: 0.22\n",
            "Episode 294/500 | Ep. Total Reward: 8.0 | Epsilon : 0.100 | Eval Rwd Mean: 10.67 | Eval Rwd Var: 0.22\n",
            "Episode 295/500 | Ep. Total Reward: 10.0 | Epsilon : 0.100 | Eval Rwd Mean: 11.67 | Eval Rwd Var: 1.56\n",
            "Episode 296/500 | Ep. Total Reward: 16.0 | Epsilon : 0.100 | Eval Rwd Mean: 9.33 | Eval Rwd Var: 0.22\n",
            "Episode 297/500 | Ep. Total Reward: 9.0 | Epsilon : 0.100 | Eval Rwd Mean: 9.67 | Eval Rwd Var: 0.22\n",
            "Episode 298/500 | Ep. Total Reward: 12.0 | Epsilon : 0.100 | Eval Rwd Mean: 16.00 | Eval Rwd Var: 0.67\n",
            "Episode 299/500 | Ep. Total Reward: 12.0 | Epsilon : 0.100 | Eval Rwd Mean: 10.00 | Eval Rwd Var: 0.00\n",
            "Episode 300/500 | Ep. Total Reward: 10.0 | Epsilon : 0.100 | Eval Rwd Mean: 10.33 | Eval Rwd Var: 0.22\n",
            "Episode 301/500 | Ep. Total Reward: 12.0 | Epsilon : 0.100 | Eval Rwd Mean: 15.00 | Eval Rwd Var: 2.00\n",
            "Episode 302/500 | Ep. Total Reward: 13.0 | Epsilon : 0.100 | Eval Rwd Mean: 41.33 | Eval Rwd Var: 76.22\n",
            "Episode 303/500 | Ep. Total Reward: 33.0 | Epsilon : 0.100 | Eval Rwd Mean: 13.33 | Eval Rwd Var: 4.22\n",
            "Episode 304/500 | Ep. Total Reward: 15.0 | Epsilon : 0.100 | Eval Rwd Mean: 28.67 | Eval Rwd Var: 27.56\n",
            "Episode 305/500 | Ep. Total Reward: 25.0 | Epsilon : 0.100 | Eval Rwd Mean: 64.33 | Eval Rwd Var: 150.22\n",
            "Episode 306/500 | Ep. Total Reward: 44.0 | Epsilon : 0.100 | Eval Rwd Mean: 15.67 | Eval Rwd Var: 2.89\n",
            "Episode 307/500 | Ep. Total Reward: 17.0 | Epsilon : 0.100 | Eval Rwd Mean: 9.67 | Eval Rwd Var: 0.22\n",
            "Episode 308/500 | Ep. Total Reward: 10.0 | Epsilon : 0.100 | Eval Rwd Mean: 11.33 | Eval Rwd Var: 0.89\n",
            "Episode 309/500 | Ep. Total Reward: 12.0 | Epsilon : 0.100 | Eval Rwd Mean: 9.00 | Eval Rwd Var: 0.67\n",
            "Episode 310/500 | Ep. Total Reward: 11.0 | Epsilon : 0.100 | Eval Rwd Mean: 10.33 | Eval Rwd Var: 0.89\n",
            "Episode 311/500 | Ep. Total Reward: 8.0 | Epsilon : 0.100 | Eval Rwd Mean: 9.67 | Eval Rwd Var: 0.22\n",
            "Episode 312/500 | Ep. Total Reward: 8.0 | Epsilon : 0.100 | Eval Rwd Mean: 9.33 | Eval Rwd Var: 0.89\n",
            "Episode 313/500 | Ep. Total Reward: 10.0 | Epsilon : 0.100 | Eval Rwd Mean: 9.33 | Eval Rwd Var: 0.22\n",
            "Episode 314/500 | Ep. Total Reward: 10.0 | Epsilon : 0.100 | Eval Rwd Mean: 9.00 | Eval Rwd Var: 0.67\n",
            "Episode 315/500 | Ep. Total Reward: 11.0 | Epsilon : 0.100 | Eval Rwd Mean: 9.00 | Eval Rwd Var: 0.00\n",
            "Episode 316/500 | Ep. Total Reward: 9.0 | Epsilon : 0.100 | Eval Rwd Mean: 11.33 | Eval Rwd Var: 0.22\n",
            "Episode 317/500 | Ep. Total Reward: 9.0 | Epsilon : 0.100 | Eval Rwd Mean: 9.33 | Eval Rwd Var: 1.56\n",
            "Episode 318/500 | Ep. Total Reward: 9.0 | Epsilon : 0.100 | Eval Rwd Mean: 10.33 | Eval Rwd Var: 0.89\n",
            "Episode 319/500 | Ep. Total Reward: 10.0 | Epsilon : 0.100 | Eval Rwd Mean: 8.00 | Eval Rwd Var: 0.00\n",
            "Episode 320/500 | Ep. Total Reward: 11.0 | Epsilon : 0.100 | Eval Rwd Mean: 8.33 | Eval Rwd Var: 0.22\n",
            "Episode 321/500 | Ep. Total Reward: 10.0 | Epsilon : 0.100 | Eval Rwd Mean: 11.67 | Eval Rwd Var: 0.22\n",
            "Episode 322/500 | Ep. Total Reward: 11.0 | Epsilon : 0.100 | Eval Rwd Mean: 9.67 | Eval Rwd Var: 0.22\n",
            "Episode 323/500 | Ep. Total Reward: 10.0 | Epsilon : 0.100 | Eval Rwd Mean: 9.33 | Eval Rwd Var: 1.56\n",
            "Episode 324/500 | Ep. Total Reward: 11.0 | Epsilon : 0.100 | Eval Rwd Mean: 10.00 | Eval Rwd Var: 0.00\n",
            "Episode 325/500 | Ep. Total Reward: 12.0 | Epsilon : 0.100 | Eval Rwd Mean: 9.33 | Eval Rwd Var: 1.56\n",
            "Episode 326/500 | Ep. Total Reward: 9.0 | Epsilon : 0.100 | Eval Rwd Mean: 9.33 | Eval Rwd Var: 0.89\n",
            "Episode 327/500 | Ep. Total Reward: 10.0 | Epsilon : 0.100 | Eval Rwd Mean: 9.67 | Eval Rwd Var: 0.22\n",
            "Episode 328/500 | Ep. Total Reward: 9.0 | Epsilon : 0.100 | Eval Rwd Mean: 9.00 | Eval Rwd Var: 0.67\n",
            "Episode 329/500 | Ep. Total Reward: 9.0 | Epsilon : 0.100 | Eval Rwd Mean: 8.67 | Eval Rwd Var: 0.89\n",
            "Episode 330/500 | Ep. Total Reward: 10.0 | Epsilon : 0.100 | Eval Rwd Mean: 9.00 | Eval Rwd Var: 0.00\n",
            "Episode 331/500 | Ep. Total Reward: 10.0 | Epsilon : 0.100 | Eval Rwd Mean: 9.67 | Eval Rwd Var: 0.22\n",
            "Episode 332/500 | Ep. Total Reward: 10.0 | Epsilon : 0.100 | Eval Rwd Mean: 9.33 | Eval Rwd Var: 0.22\n",
            "Episode 333/500 | Ep. Total Reward: 9.0 | Epsilon : 0.100 | Eval Rwd Mean: 9.33 | Eval Rwd Var: 0.22\n",
            "Episode 334/500 | Ep. Total Reward: 13.0 | Epsilon : 0.100 | Eval Rwd Mean: 9.67 | Eval Rwd Var: 0.22\n",
            "Episode 335/500 | Ep. Total Reward: 10.0 | Epsilon : 0.100 | Eval Rwd Mean: 9.33 | Eval Rwd Var: 0.89\n",
            "Episode 336/500 | Ep. Total Reward: 10.0 | Epsilon : 0.100 | Eval Rwd Mean: 9.33 | Eval Rwd Var: 0.89\n",
            "Episode 337/500 | Ep. Total Reward: 10.0 | Epsilon : 0.100 | Eval Rwd Mean: 9.33 | Eval Rwd Var: 0.89\n",
            "Episode 338/500 | Ep. Total Reward: 12.0 | Epsilon : 0.100 | Eval Rwd Mean: 9.33 | Eval Rwd Var: 0.22\n",
            "Episode 339/500 | Ep. Total Reward: 11.0 | Epsilon : 0.100 | Eval Rwd Mean: 9.67 | Eval Rwd Var: 0.22\n",
            "Episode 340/500 | Ep. Total Reward: 10.0 | Epsilon : 0.100 | Eval Rwd Mean: 9.67 | Eval Rwd Var: 0.22\n",
            "Episode 341/500 | Ep. Total Reward: 11.0 | Epsilon : 0.100 | Eval Rwd Mean: 10.33 | Eval Rwd Var: 0.22\n",
            "Episode 342/500 | Ep. Total Reward: 11.0 | Epsilon : 0.100 | Eval Rwd Mean: 9.33 | Eval Rwd Var: 0.89\n",
            "Episode 343/500 | Ep. Total Reward: 9.0 | Epsilon : 0.100 | Eval Rwd Mean: 10.00 | Eval Rwd Var: 0.00\n",
            "Episode 344/500 | Ep. Total Reward: 12.0 | Epsilon : 0.100 | Eval Rwd Mean: 9.67 | Eval Rwd Var: 1.56\n",
            "Episode 345/500 | Ep. Total Reward: 10.0 | Epsilon : 0.100 | Eval Rwd Mean: 10.00 | Eval Rwd Var: 0.00\n",
            "Episode 346/500 | Ep. Total Reward: 9.0 | Epsilon : 0.100 | Eval Rwd Mean: 12.33 | Eval Rwd Var: 2.89\n",
            "Episode 347/500 | Ep. Total Reward: 20.0 | Epsilon : 0.100 | Eval Rwd Mean: 9.67 | Eval Rwd Var: 0.22\n",
            "Episode 348/500 | Ep. Total Reward: 11.0 | Epsilon : 0.100 | Eval Rwd Mean: 9.33 | Eval Rwd Var: 0.22\n",
            "Episode 349/500 | Ep. Total Reward: 9.0 | Epsilon : 0.100 | Eval Rwd Mean: 9.33 | Eval Rwd Var: 0.22\n",
            "Episode 350/500 | Ep. Total Reward: 10.0 | Epsilon : 0.100 | Eval Rwd Mean: 9.67 | Eval Rwd Var: 0.22\n",
            "Episode 351/500 | Ep. Total Reward: 10.0 | Epsilon : 0.100 | Eval Rwd Mean: 24.33 | Eval Rwd Var: 1.56\n",
            "Episode 352/500 | Ep. Total Reward: 18.0 | Epsilon : 0.100 | Eval Rwd Mean: 15.33 | Eval Rwd Var: 0.22\n",
            "Episode 353/500 | Ep. Total Reward: 9.0 | Epsilon : 0.100 | Eval Rwd Mean: 67.33 | Eval Rwd Var: 859.56\n",
            "Episode 354/500 | Ep. Total Reward: 14.0 | Epsilon : 0.100 | Eval Rwd Mean: 36.67 | Eval Rwd Var: 0.22\n",
            "Episode 355/500 | Ep. Total Reward: 18.0 | Epsilon : 0.100 | Eval Rwd Mean: 197.67 | Eval Rwd Var: 42470.22\n",
            "Episode 356/500 | Ep. Total Reward: 17.0 | Epsilon : 0.100 | Eval Rwd Mean: 61.00 | Eval Rwd Var: 292.67\n",
            "Episode 357/500 | Ep. Total Reward: 23.0 | Epsilon : 0.100 | Eval Rwd Mean: 9.67 | Eval Rwd Var: 0.22\n",
            "Episode 358/500 | Ep. Total Reward: 12.0 | Epsilon : 0.100 | Eval Rwd Mean: 10.67 | Eval Rwd Var: 1.56\n",
            "Episode 359/500 | Ep. Total Reward: 8.0 | Epsilon : 0.100 | Eval Rwd Mean: 15.00 | Eval Rwd Var: 0.67\n",
            "Episode 360/500 | Ep. Total Reward: 11.0 | Epsilon : 0.100 | Eval Rwd Mean: 9.00 | Eval Rwd Var: 0.67\n",
            "Episode 361/500 | Ep. Total Reward: 10.0 | Epsilon : 0.100 | Eval Rwd Mean: 9.33 | Eval Rwd Var: 0.22\n",
            "Episode 362/500 | Ep. Total Reward: 10.0 | Epsilon : 0.100 | Eval Rwd Mean: 9.33 | Eval Rwd Var: 0.22\n",
            "Episode 363/500 | Ep. Total Reward: 13.0 | Epsilon : 0.100 | Eval Rwd Mean: 14.00 | Eval Rwd Var: 0.67\n",
            "Episode 364/500 | Ep. Total Reward: 13.0 | Epsilon : 0.100 | Eval Rwd Mean: 21.00 | Eval Rwd Var: 0.67\n",
            "Episode 365/500 | Ep. Total Reward: 19.0 | Epsilon : 0.100 | Eval Rwd Mean: 9.67 | Eval Rwd Var: 2.89\n",
            "Episode 366/500 | Ep. Total Reward: 13.0 | Epsilon : 0.100 | Eval Rwd Mean: 13.00 | Eval Rwd Var: 2.67\n",
            "Episode 367/500 | Ep. Total Reward: 12.0 | Epsilon : 0.100 | Eval Rwd Mean: 9.67 | Eval Rwd Var: 0.22\n",
            "Episode 368/500 | Ep. Total Reward: 9.0 | Epsilon : 0.100 | Eval Rwd Mean: 10.00 | Eval Rwd Var: 2.00\n",
            "Episode 369/500 | Ep. Total Reward: 10.0 | Epsilon : 0.100 | Eval Rwd Mean: 9.00 | Eval Rwd Var: 0.00\n",
            "Episode 370/500 | Ep. Total Reward: 11.0 | Epsilon : 0.100 | Eval Rwd Mean: 10.00 | Eval Rwd Var: 0.67\n",
            "Episode 371/500 | Ep. Total Reward: 9.0 | Epsilon : 0.100 | Eval Rwd Mean: 11.00 | Eval Rwd Var: 0.67\n",
            "Episode 372/500 | Ep. Total Reward: 10.0 | Epsilon : 0.100 | Eval Rwd Mean: 12.33 | Eval Rwd Var: 0.22\n",
            "Episode 373/500 | Ep. Total Reward: 10.0 | Epsilon : 0.100 | Eval Rwd Mean: 17.67 | Eval Rwd Var: 1.56\n",
            "Episode 374/500 | Ep. Total Reward: 11.0 | Epsilon : 0.100 | Eval Rwd Mean: 21.33 | Eval Rwd Var: 8.22\n",
            "Episode 375/500 | Ep. Total Reward: 20.0 | Epsilon : 0.100 | Eval Rwd Mean: 12.67 | Eval Rwd Var: 0.22\n",
            "Episode 376/500 | Ep. Total Reward: 12.0 | Epsilon : 0.100 | Eval Rwd Mean: 9.67 | Eval Rwd Var: 1.56\n",
            "Episode 377/500 | Ep. Total Reward: 10.0 | Epsilon : 0.100 | Eval Rwd Mean: 11.33 | Eval Rwd Var: 0.22\n",
            "Episode 378/500 | Ep. Total Reward: 9.0 | Epsilon : 0.100 | Eval Rwd Mean: 9.00 | Eval Rwd Var: 0.67\n",
            "Episode 379/500 | Ep. Total Reward: 10.0 | Epsilon : 0.100 | Eval Rwd Mean: 8.67 | Eval Rwd Var: 0.89\n",
            "Episode 380/500 | Ep. Total Reward: 11.0 | Epsilon : 0.100 | Eval Rwd Mean: 8.67 | Eval Rwd Var: 0.22\n",
            "Episode 381/500 | Ep. Total Reward: 9.0 | Epsilon : 0.100 | Eval Rwd Mean: 8.33 | Eval Rwd Var: 0.22\n",
            "Episode 382/500 | Ep. Total Reward: 10.0 | Epsilon : 0.100 | Eval Rwd Mean: 9.33 | Eval Rwd Var: 0.22\n",
            "Episode 383/500 | Ep. Total Reward: 9.0 | Epsilon : 0.100 | Eval Rwd Mean: 9.00 | Eval Rwd Var: 0.00\n",
            "Episode 384/500 | Ep. Total Reward: 9.0 | Epsilon : 0.100 | Eval Rwd Mean: 9.33 | Eval Rwd Var: 0.22\n",
            "Episode 385/500 | Ep. Total Reward: 10.0 | Epsilon : 0.100 | Eval Rwd Mean: 9.00 | Eval Rwd Var: 0.00\n",
            "Episode 386/500 | Ep. Total Reward: 13.0 | Epsilon : 0.100 | Eval Rwd Mean: 14.00 | Eval Rwd Var: 0.00\n",
            "Episode 387/500 | Ep. Total Reward: 13.0 | Epsilon : 0.100 | Eval Rwd Mean: 17.67 | Eval Rwd Var: 10.89\n",
            "Episode 388/500 | Ep. Total Reward: 13.0 | Epsilon : 0.100 | Eval Rwd Mean: 12.00 | Eval Rwd Var: 0.67\n",
            "Episode 389/500 | Ep. Total Reward: 14.0 | Epsilon : 0.100 | Eval Rwd Mean: 10.00 | Eval Rwd Var: 0.67\n",
            "Episode 390/500 | Ep. Total Reward: 11.0 | Epsilon : 0.100 | Eval Rwd Mean: 9.33 | Eval Rwd Var: 0.22\n",
            "Episode 391/500 | Ep. Total Reward: 9.0 | Epsilon : 0.100 | Eval Rwd Mean: 9.00 | Eval Rwd Var: 0.00\n",
            "Episode 392/500 | Ep. Total Reward: 10.0 | Epsilon : 0.100 | Eval Rwd Mean: 9.33 | Eval Rwd Var: 0.89\n",
            "Episode 393/500 | Ep. Total Reward: 8.0 | Epsilon : 0.100 | Eval Rwd Mean: 9.33 | Eval Rwd Var: 0.22\n",
            "Episode 394/500 | Ep. Total Reward: 13.0 | Epsilon : 0.100 | Eval Rwd Mean: 9.67 | Eval Rwd Var: 0.22\n",
            "Episode 395/500 | Ep. Total Reward: 9.0 | Epsilon : 0.100 | Eval Rwd Mean: 9.00 | Eval Rwd Var: 0.00\n",
            "Episode 396/500 | Ep. Total Reward: 10.0 | Epsilon : 0.100 | Eval Rwd Mean: 11.00 | Eval Rwd Var: 0.00\n",
            "Episode 397/500 | Ep. Total Reward: 10.0 | Epsilon : 0.100 | Eval Rwd Mean: 9.67 | Eval Rwd Var: 0.22\n",
            "Episode 398/500 | Ep. Total Reward: 10.0 | Epsilon : 0.100 | Eval Rwd Mean: 10.33 | Eval Rwd Var: 0.22\n",
            "Episode 399/500 | Ep. Total Reward: 9.0 | Epsilon : 0.100 | Eval Rwd Mean: 13.67 | Eval Rwd Var: 0.22\n",
            "Episode 400/500 | Ep. Total Reward: 13.0 | Epsilon : 0.100 | Eval Rwd Mean: 18.33 | Eval Rwd Var: 8.22\n",
            "Episode 401/500 | Ep. Total Reward: 13.0 | Epsilon : 0.100 | Eval Rwd Mean: 12.33 | Eval Rwd Var: 4.22\n",
            "Episode 402/500 | Ep. Total Reward: 15.0 | Epsilon : 0.100 | Eval Rwd Mean: 11.00 | Eval Rwd Var: 0.00\n",
            "Episode 403/500 | Ep. Total Reward: 11.0 | Epsilon : 0.100 | Eval Rwd Mean: 9.33 | Eval Rwd Var: 0.89\n",
            "Episode 404/500 | Ep. Total Reward: 9.0 | Epsilon : 0.100 | Eval Rwd Mean: 9.33 | Eval Rwd Var: 0.22\n",
            "Episode 405/500 | Ep. Total Reward: 11.0 | Epsilon : 0.100 | Eval Rwd Mean: 9.00 | Eval Rwd Var: 0.00\n",
            "Episode 406/500 | Ep. Total Reward: 8.0 | Epsilon : 0.100 | Eval Rwd Mean: 10.00 | Eval Rwd Var: 2.00\n",
            "Episode 407/500 | Ep. Total Reward: 12.0 | Epsilon : 0.100 | Eval Rwd Mean: 8.67 | Eval Rwd Var: 0.22\n",
            "Episode 408/500 | Ep. Total Reward: 10.0 | Epsilon : 0.100 | Eval Rwd Mean: 9.67 | Eval Rwd Var: 0.22\n",
            "Episode 409/500 | Ep. Total Reward: 9.0 | Epsilon : 0.100 | Eval Rwd Mean: 9.67 | Eval Rwd Var: 0.89\n",
            "Episode 410/500 | Ep. Total Reward: 8.0 | Epsilon : 0.100 | Eval Rwd Mean: 9.00 | Eval Rwd Var: 0.67\n",
            "Episode 411/500 | Ep. Total Reward: 10.0 | Epsilon : 0.100 | Eval Rwd Mean: 11.67 | Eval Rwd Var: 0.22\n",
            "Episode 412/500 | Ep. Total Reward: 9.0 | Epsilon : 0.100 | Eval Rwd Mean: 14.00 | Eval Rwd Var: 2.00\n",
            "Episode 413/500 | Ep. Total Reward: 15.0 | Epsilon : 0.100 | Eval Rwd Mean: 12.00 | Eval Rwd Var: 2.00\n",
            "Episode 414/500 | Ep. Total Reward: 16.0 | Epsilon : 0.100 | Eval Rwd Mean: 11.33 | Eval Rwd Var: 0.22\n",
            "Episode 415/500 | Ep. Total Reward: 10.0 | Epsilon : 0.100 | Eval Rwd Mean: 13.67 | Eval Rwd Var: 0.89\n",
            "Episode 416/500 | Ep. Total Reward: 12.0 | Epsilon : 0.100 | Eval Rwd Mean: 11.67 | Eval Rwd Var: 1.56\n",
            "Episode 417/500 | Ep. Total Reward: 11.0 | Epsilon : 0.100 | Eval Rwd Mean: 9.33 | Eval Rwd Var: 0.22\n",
            "Episode 418/500 | Ep. Total Reward: 12.0 | Epsilon : 0.100 | Eval Rwd Mean: 12.33 | Eval Rwd Var: 1.56\n",
            "Episode 419/500 | Ep. Total Reward: 12.0 | Epsilon : 0.100 | Eval Rwd Mean: 14.00 | Eval Rwd Var: 0.67\n",
            "Episode 420/500 | Ep. Total Reward: 15.0 | Epsilon : 0.100 | Eval Rwd Mean: 13.00 | Eval Rwd Var: 0.67\n",
            "Episode 421/500 | Ep. Total Reward: 16.0 | Epsilon : 0.100 | Eval Rwd Mean: 11.67 | Eval Rwd Var: 5.56\n",
            "Episode 422/500 | Ep. Total Reward: 16.0 | Epsilon : 0.100 | Eval Rwd Mean: 10.33 | Eval Rwd Var: 0.89\n",
            "Episode 423/500 | Ep. Total Reward: 11.0 | Epsilon : 0.100 | Eval Rwd Mean: 10.00 | Eval Rwd Var: 0.67\n",
            "Episode 424/500 | Ep. Total Reward: 8.0 | Epsilon : 0.100 | Eval Rwd Mean: 12.33 | Eval Rwd Var: 0.22\n",
            "Episode 425/500 | Ep. Total Reward: 9.0 | Epsilon : 0.100 | Eval Rwd Mean: 9.33 | Eval Rwd Var: 0.22\n",
            "Episode 426/500 | Ep. Total Reward: 10.0 | Epsilon : 0.100 | Eval Rwd Mean: 10.33 | Eval Rwd Var: 0.89\n",
            "Episode 427/500 | Ep. Total Reward: 10.0 | Epsilon : 0.100 | Eval Rwd Mean: 10.67 | Eval Rwd Var: 0.22\n",
            "Episode 428/500 | Ep. Total Reward: 10.0 | Epsilon : 0.100 | Eval Rwd Mean: 14.67 | Eval Rwd Var: 1.56\n",
            "Episode 429/500 | Ep. Total Reward: 17.0 | Epsilon : 0.100 | Eval Rwd Mean: 11.00 | Eval Rwd Var: 0.67\n",
            "Episode 430/500 | Ep. Total Reward: 11.0 | Epsilon : 0.100 | Eval Rwd Mean: 9.33 | Eval Rwd Var: 1.56\n",
            "Episode 431/500 | Ep. Total Reward: 14.0 | Epsilon : 0.100 | Eval Rwd Mean: 15.00 | Eval Rwd Var: 0.67\n",
            "Episode 432/500 | Ep. Total Reward: 14.0 | Epsilon : 0.100 | Eval Rwd Mean: 28.00 | Eval Rwd Var: 14.00\n",
            "Episode 433/500 | Ep. Total Reward: 67.0 | Epsilon : 0.100 | Eval Rwd Mean: 17.00 | Eval Rwd Var: 8.67\n",
            "Episode 434/500 | Ep. Total Reward: 14.0 | Epsilon : 0.100 | Eval Rwd Mean: 16.67 | Eval Rwd Var: 2.89\n",
            "Episode 435/500 | Ep. Total Reward: 14.0 | Epsilon : 0.100 | Eval Rwd Mean: 21.67 | Eval Rwd Var: 0.22\n",
            "Episode 436/500 | Ep. Total Reward: 16.0 | Epsilon : 0.100 | Eval Rwd Mean: 10.00 | Eval Rwd Var: 0.67\n",
            "Episode 437/500 | Ep. Total Reward: 10.0 | Epsilon : 0.100 | Eval Rwd Mean: 9.67 | Eval Rwd Var: 0.22\n",
            "Episode 438/500 | Ep. Total Reward: 11.0 | Epsilon : 0.100 | Eval Rwd Mean: 13.33 | Eval Rwd Var: 0.89\n",
            "Episode 439/500 | Ep. Total Reward: 12.0 | Epsilon : 0.100 | Eval Rwd Mean: 10.33 | Eval Rwd Var: 0.89\n",
            "Episode 440/500 | Ep. Total Reward: 9.0 | Epsilon : 0.100 | Eval Rwd Mean: 9.00 | Eval Rwd Var: 0.67\n",
            "Episode 441/500 | Ep. Total Reward: 10.0 | Epsilon : 0.100 | Eval Rwd Mean: 11.33 | Eval Rwd Var: 0.22\n",
            "Episode 442/500 | Ep. Total Reward: 10.0 | Epsilon : 0.100 | Eval Rwd Mean: 9.33 | Eval Rwd Var: 0.22\n",
            "Episode 443/500 | Ep. Total Reward: 8.0 | Epsilon : 0.100 | Eval Rwd Mean: 10.67 | Eval Rwd Var: 0.22\n",
            "Episode 444/500 | Ep. Total Reward: 10.0 | Epsilon : 0.100 | Eval Rwd Mean: 11.33 | Eval Rwd Var: 0.22\n",
            "Episode 445/500 | Ep. Total Reward: 10.0 | Epsilon : 0.100 | Eval Rwd Mean: 10.33 | Eval Rwd Var: 0.22\n",
            "Episode 446/500 | Ep. Total Reward: 9.0 | Epsilon : 0.100 | Eval Rwd Mean: 10.00 | Eval Rwd Var: 0.00\n",
            "Episode 447/500 | Ep. Total Reward: 11.0 | Epsilon : 0.100 | Eval Rwd Mean: 9.67 | Eval Rwd Var: 1.56\n",
            "Episode 448/500 | Ep. Total Reward: 8.0 | Epsilon : 0.100 | Eval Rwd Mean: 8.67 | Eval Rwd Var: 0.22\n",
            "Episode 449/500 | Ep. Total Reward: 9.0 | Epsilon : 0.100 | Eval Rwd Mean: 9.33 | Eval Rwd Var: 0.22\n",
            "Episode 450/500 | Ep. Total Reward: 10.0 | Epsilon : 0.100 | Eval Rwd Mean: 10.00 | Eval Rwd Var: 0.67\n",
            "Episode 451/500 | Ep. Total Reward: 11.0 | Epsilon : 0.100 | Eval Rwd Mean: 9.33 | Eval Rwd Var: 0.22\n",
            "Episode 452/500 | Ep. Total Reward: 13.0 | Epsilon : 0.100 | Eval Rwd Mean: 10.00 | Eval Rwd Var: 0.00\n",
            "Episode 453/500 | Ep. Total Reward: 10.0 | Epsilon : 0.100 | Eval Rwd Mean: 9.33 | Eval Rwd Var: 0.22\n",
            "Episode 454/500 | Ep. Total Reward: 10.0 | Epsilon : 0.100 | Eval Rwd Mean: 9.33 | Eval Rwd Var: 0.22\n",
            "Episode 455/500 | Ep. Total Reward: 10.0 | Epsilon : 0.100 | Eval Rwd Mean: 9.00 | Eval Rwd Var: 0.67\n",
            "Episode 456/500 | Ep. Total Reward: 10.0 | Epsilon : 0.100 | Eval Rwd Mean: 8.67 | Eval Rwd Var: 0.22\n",
            "Episode 457/500 | Ep. Total Reward: 10.0 | Epsilon : 0.100 | Eval Rwd Mean: 8.33 | Eval Rwd Var: 0.22\n",
            "Episode 458/500 | Ep. Total Reward: 10.0 | Epsilon : 0.100 | Eval Rwd Mean: 9.33 | Eval Rwd Var: 0.22\n",
            "Episode 459/500 | Ep. Total Reward: 10.0 | Epsilon : 0.100 | Eval Rwd Mean: 9.67 | Eval Rwd Var: 0.22\n",
            "Episode 460/500 | Ep. Total Reward: 11.0 | Epsilon : 0.100 | Eval Rwd Mean: 9.00 | Eval Rwd Var: 0.67\n",
            "Episode 461/500 | Ep. Total Reward: 10.0 | Epsilon : 0.100 | Eval Rwd Mean: 9.67 | Eval Rwd Var: 0.22\n",
            "Episode 462/500 | Ep. Total Reward: 11.0 | Epsilon : 0.100 | Eval Rwd Mean: 9.00 | Eval Rwd Var: 0.67\n",
            "Episode 463/500 | Ep. Total Reward: 9.0 | Epsilon : 0.100 | Eval Rwd Mean: 9.00 | Eval Rwd Var: 0.67\n",
            "Episode 464/500 | Ep. Total Reward: 10.0 | Epsilon : 0.100 | Eval Rwd Mean: 9.33 | Eval Rwd Var: 0.22\n",
            "Episode 465/500 | Ep. Total Reward: 9.0 | Epsilon : 0.100 | Eval Rwd Mean: 9.67 | Eval Rwd Var: 0.22\n",
            "Episode 466/500 | Ep. Total Reward: 10.0 | Epsilon : 0.100 | Eval Rwd Mean: 10.00 | Eval Rwd Var: 0.00\n",
            "Episode 467/500 | Ep. Total Reward: 10.0 | Epsilon : 0.100 | Eval Rwd Mean: 10.33 | Eval Rwd Var: 0.22\n",
            "Episode 468/500 | Ep. Total Reward: 10.0 | Epsilon : 0.100 | Eval Rwd Mean: 9.67 | Eval Rwd Var: 0.22\n",
            "Episode 469/500 | Ep. Total Reward: 10.0 | Epsilon : 0.100 | Eval Rwd Mean: 8.67 | Eval Rwd Var: 0.22\n",
            "Episode 470/500 | Ep. Total Reward: 11.0 | Epsilon : 0.100 | Eval Rwd Mean: 12.33 | Eval Rwd Var: 0.22\n",
            "Episode 471/500 | Ep. Total Reward: 13.0 | Epsilon : 0.100 | Eval Rwd Mean: 11.00 | Eval Rwd Var: 0.67\n",
            "Episode 472/500 | Ep. Total Reward: 9.0 | Epsilon : 0.100 | Eval Rwd Mean: 13.33 | Eval Rwd Var: 0.89\n",
            "Episode 473/500 | Ep. Total Reward: 15.0 | Epsilon : 0.100 | Eval Rwd Mean: 12.67 | Eval Rwd Var: 1.56\n",
            "Episode 474/500 | Ep. Total Reward: 15.0 | Epsilon : 0.100 | Eval Rwd Mean: 11.67 | Eval Rwd Var: 1.56\n",
            "Episode 475/500 | Ep. Total Reward: 17.0 | Epsilon : 0.100 | Eval Rwd Mean: 13.67 | Eval Rwd Var: 1.56\n",
            "Episode 476/500 | Ep. Total Reward: 14.0 | Epsilon : 0.100 | Eval Rwd Mean: 13.00 | Eval Rwd Var: 2.00\n",
            "Episode 477/500 | Ep. Total Reward: 13.0 | Epsilon : 0.100 | Eval Rwd Mean: 17.33 | Eval Rwd Var: 5.56\n",
            "Episode 478/500 | Ep. Total Reward: 13.0 | Epsilon : 0.100 | Eval Rwd Mean: 12.00 | Eval Rwd Var: 0.67\n",
            "Episode 479/500 | Ep. Total Reward: 16.0 | Epsilon : 0.100 | Eval Rwd Mean: 24.00 | Eval Rwd Var: 4.67\n",
            "Episode 480/500 | Ep. Total Reward: 28.0 | Epsilon : 0.100 | Eval Rwd Mean: 18.00 | Eval Rwd Var: 0.67\n",
            "Episode 481/500 | Ep. Total Reward: 16.0 | Epsilon : 0.100 | Eval Rwd Mean: 15.33 | Eval Rwd Var: 2.89\n",
            "Episode 482/500 | Ep. Total Reward: 17.0 | Epsilon : 0.100 | Eval Rwd Mean: 29.33 | Eval Rwd Var: 1.56\n",
            "Episode 483/500 | Ep. Total Reward: 36.0 | Epsilon : 0.100 | Eval Rwd Mean: 18.33 | Eval Rwd Var: 6.89\n",
            "Episode 484/500 | Ep. Total Reward: 21.0 | Epsilon : 0.100 | Eval Rwd Mean: 17.00 | Eval Rwd Var: 8.67\n",
            "Episode 485/500 | Ep. Total Reward: 14.0 | Epsilon : 0.100 | Eval Rwd Mean: 11.00 | Eval Rwd Var: 0.67\n",
            "Episode 486/500 | Ep. Total Reward: 13.0 | Epsilon : 0.100 | Eval Rwd Mean: 12.33 | Eval Rwd Var: 0.22\n",
            "Episode 487/500 | Ep. Total Reward: 12.0 | Epsilon : 0.100 | Eval Rwd Mean: 11.00 | Eval Rwd Var: 0.00\n",
            "Episode 488/500 | Ep. Total Reward: 11.0 | Epsilon : 0.100 | Eval Rwd Mean: 8.67 | Eval Rwd Var: 0.89\n",
            "Episode 489/500 | Ep. Total Reward: 11.0 | Epsilon : 0.100 | Eval Rwd Mean: 9.33 | Eval Rwd Var: 0.22\n",
            "Episode 490/500 | Ep. Total Reward: 10.0 | Epsilon : 0.100 | Eval Rwd Mean: 11.67 | Eval Rwd Var: 1.56\n",
            "Episode 491/500 | Ep. Total Reward: 13.0 | Epsilon : 0.100 | Eval Rwd Mean: 9.33 | Eval Rwd Var: 0.22\n",
            "Episode 492/500 | Ep. Total Reward: 10.0 | Epsilon : 0.100 | Eval Rwd Mean: 11.67 | Eval Rwd Var: 0.89\n",
            "Episode 493/500 | Ep. Total Reward: 10.0 | Epsilon : 0.100 | Eval Rwd Mean: 16.33 | Eval Rwd Var: 0.89\n",
            "Episode 494/500 | Ep. Total Reward: 12.0 | Epsilon : 0.100 | Eval Rwd Mean: 25.00 | Eval Rwd Var: 0.67\n",
            "Episode 495/500 | Ep. Total Reward: 52.0 | Epsilon : 0.100 | Eval Rwd Mean: 60.33 | Eval Rwd Var: 28.22\n",
            "Episode 496/500 | Ep. Total Reward: 91.0 | Epsilon : 0.100 | Eval Rwd Mean: 14.67 | Eval Rwd Var: 0.22\n",
            "Episode 497/500 | Ep. Total Reward: 12.0 | Epsilon : 0.100 | Eval Rwd Mean: 9.33 | Eval Rwd Var: 0.22\n",
            "Episode 498/500 | Ep. Total Reward: 8.0 | Epsilon : 0.100 | Eval Rwd Mean: 9.00 | Eval Rwd Var: 0.00\n",
            "Episode 499/500 | Ep. Total Reward: 10.0 | Epsilon : 0.100 | Eval Rwd Mean: 12.67 | Eval Rwd Var: 0.22\n",
            "Episode 500/500 | Ep. Total Reward: 13.0 | Epsilon : 0.100 | Eval Rwd Mean: 18.33 | Eval Rwd Var: 1.56\n",
            "Training time: 29.4897 seconds per episode\n"
          ]
        }
      ]
    },
    {
      "cell_type": "markdown",
      "source": [
        "## Plot Results"
      ],
      "metadata": {
        "id": "qZ86BPQR3AhY"
      }
    },
    {
      "cell_type": "code",
      "source": [
        "# Write code to plot\n",
        "# 1) Moving Averaged Training Reward, 2) Evaluation Mean, 3) Evaluation Variance\n",
        "# [Write Code]\n",
        "\n",
        "plot_smoothed_training_rwd(eval_reward_mean_lst)\n",
        "\n",
        "plot_eval_rwd_mean(eval_reward_mean_lst)\n",
        "\n",
        "plot_eval_rwd_var(eval_reward_var_lst)"
      ],
      "metadata": {
        "id": "It8u9fyj3AL5",
        "outputId": "67009d69-50fc-4673-9d5e-2bbea09580b2",
        "colab": {
          "base_uri": "https://localhost:8080/",
          "height": 1000
        }
      },
      "execution_count": 19,
      "outputs": [
        {
          "output_type": "display_data",
          "data": {
            "text/plain": [
              "<Figure size 640x480 with 1 Axes>"
            ],
            "image/png": "[encoded data removed]"
          },
          "metadata": {}
        },
        {
          "output_type": "display_data",
          "data": {
            "text/plain": [
              "<Figure size 640x480 with 1 Axes>"
            ],
            "image/png": "[encoded data removed]"
          },
          "metadata": {}
        },
        {
          "output_type": "display_data",
          "data": {
            "text/plain": [
              "<Figure size 640x480 with 1 Axes>"
            ],
            "image/png": "[encoded data removed]"
          },
          "metadata": {}
        }
      ]
    },
    {
      "cell_type": "markdown",
      "source": [
        "#Q-Network - Alternative"
      ],
      "metadata": {
        "id": "uSlOTDlpm78g"
      }
    },
    {
      "cell_type": "code",
      "source": [
        "# [Write Code]\n",
        "# Q-Network Baseline Model\n",
        "from keras.layers import Dropout\n",
        "\n",
        "# [WriteCode] from ... import ...\n",
        "\n",
        "STATE_SIZE = (4,)\n",
        "ACTION_SIZE = 2\n",
        "LAYER_SIZE = 32\n",
        "epsilon = 0.9\n",
        "\n",
        "# Define the Q-network\n",
        "model_alt = Sequential()\n",
        "\n",
        "# [WriteCode]\n",
        "# model.add(...\n",
        "model_alt.add(Input(shape=STATE_SIZE))\n",
        "model_alt.add(Dense(LAYER_SIZE, activation=relu, kernel_initializer=initializer))\n",
        "# add drop out to make it an ensemble, model seems like its overfitting\n",
        "model_alt.add(Dropout(0.25))\n",
        "model_alt.add(Dense(LAYER_SIZE, activation=relu, kernel_initializer=initializer))\n",
        "model_alt.add(Dropout(0.25))\n",
        "model_alt.add(Dense(ACTION_SIZE))\n",
        "\n",
        "# Compile the model\n",
        "# [WriteCode]\n",
        "model_alt.compile(loss='mse', optimizer='adam')\n",
        "\n",
        "# Print the model summary\n",
        "# [WriteCode]\n",
        "model_alt.summary()"
      ],
      "metadata": {
        "id": "c9zO7SZssiaR",
        "colab": {
          "base_uri": "https://localhost:8080/",
          "height": 306
        },
        "outputId": "847b4588-ecf0-480e-b124-8e0beb4b26ec"
      },
      "execution_count": 20,
      "outputs": [
        {
          "output_type": "display_data",
          "data": {
            "text/plain": [
              "\u001b[1mModel: \"sequential_2\"\u001b[0m\n"
            ],
            "text/html": [
              "<pre style=\"white-space:pre;overflow-x:auto;line-height:normal;font-family:Menlo,'DejaVu Sans Mono',consolas,'Courier New',monospace\"><span style=\"font-weight: bold\">Model: \"sequential_2\"</span>\n",
              "</pre>\n"
            ]
          },
          "metadata": {}
        },
        {
          "output_type": "display_data",
          "data": {
            "text/plain": [
              "┏━━━━━━━━━━━━━━━━━━━━━━━━━━━━━━━━━━━━━━┳━━━━━━━━━━━━━━━━━━━━━━━━━━━━━┳━━━━━━━━━━━━━━━━━┓\n",
              "┃\u001b[1m \u001b[0m\u001b[1mLayer (type)                        \u001b[0m\u001b[1m \u001b[0m┃\u001b[1m \u001b[0m\u001b[1mOutput Shape               \u001b[0m\u001b[1m \u001b[0m┃\u001b[1m \u001b[0m\u001b[1m        Param #\u001b[0m\u001b[1m \u001b[0m┃\n",
              "┡━━━━━━━━━━━━━━━━━━━━━━━━━━━━━━━━━━━━━━╇━━━━━━━━━━━━━━━━━━━━━━━━━━━━━╇━━━━━━━━━━━━━━━━━┩\n",
              "│ dense_6 (\u001b[38;5;33mDense\u001b[0m)                      │ (\u001b[38;5;45mNone\u001b[0m, \u001b[38;5;34m32\u001b[0m)                  │             \u001b[38;5;34m160\u001b[0m │\n",
              "├──────────────────────────────────────┼─────────────────────────────┼─────────────────┤\n",
              "│ dropout (\u001b[38;5;33mDropout\u001b[0m)                    │ (\u001b[38;5;45mNone\u001b[0m, \u001b[38;5;34m32\u001b[0m)                  │               \u001b[38;5;34m0\u001b[0m │\n",
              "├──────────────────────────────────────┼─────────────────────────────┼─────────────────┤\n",
              "│ dense_7 (\u001b[38;5;33mDense\u001b[0m)                      │ (\u001b[38;5;45mNone\u001b[0m, \u001b[38;5;34m32\u001b[0m)                  │           \u001b[38;5;34m1,056\u001b[0m │\n",
              "├──────────────────────────────────────┼─────────────────────────────┼─────────────────┤\n",
              "│ dropout_1 (\u001b[38;5;33mDropout\u001b[0m)                  │ (\u001b[38;5;45mNone\u001b[0m, \u001b[38;5;34m32\u001b[0m)                  │               \u001b[38;5;34m0\u001b[0m │\n",
              "├──────────────────────────────────────┼─────────────────────────────┼─────────────────┤\n",
              "│ dense_8 (\u001b[38;5;33mDense\u001b[0m)                      │ (\u001b[38;5;45mNone\u001b[0m, \u001b[38;5;34m2\u001b[0m)                   │              \u001b[38;5;34m66\u001b[0m │\n",
              "└──────────────────────────────────────┴─────────────────────────────┴─────────────────┘\n"
            ],
            "text/html": [
              "<pre style=\"white-space:pre;overflow-x:auto;line-height:normal;font-family:Menlo,'DejaVu Sans Mono',consolas,'Courier New',monospace\">┏━━━━━━━━━━━━━━━━━━━━━━━━━━━━━━━━━━━━━━┳━━━━━━━━━━━━━━━━━━━━━━━━━━━━━┳━━━━━━━━━━━━━━━━━┓\n",
              "┃<span style=\"font-weight: bold\"> Layer (type)                         </span>┃<span style=\"font-weight: bold\"> Output Shape                </span>┃<span style=\"font-weight: bold\">         Param # </span>┃\n",
              "┡━━━━━━━━━━━━━━━━━━━━━━━━━━━━━━━━━━━━━━╇━━━━━━━━━━━━━━━━━━━━━━━━━━━━━╇━━━━━━━━━━━━━━━━━┩\n",
              "│ dense_6 (<span style=\"color: #0087ff; text-decoration-color: #0087ff\">Dense</span>)                      │ (<span style=\"color: #00d7ff; text-decoration-color: #00d7ff\">None</span>, <span style=\"color: #00af00; text-decoration-color: #00af00\">32</span>)                  │             <span style=\"color: #00af00; text-decoration-color: #00af00\">160</span> │\n",
              "├──────────────────────────────────────┼─────────────────────────────┼─────────────────┤\n",
              "│ dropout (<span style=\"color: #0087ff; text-decoration-color: #0087ff\">Dropout</span>)                    │ (<span style=\"color: #00d7ff; text-decoration-color: #00d7ff\">None</span>, <span style=\"color: #00af00; text-decoration-color: #00af00\">32</span>)                  │               <span style=\"color: #00af00; text-decoration-color: #00af00\">0</span> │\n",
              "├──────────────────────────────────────┼─────────────────────────────┼─────────────────┤\n",
              "│ dense_7 (<span style=\"color: #0087ff; text-decoration-color: #0087ff\">Dense</span>)                      │ (<span style=\"color: #00d7ff; text-decoration-color: #00d7ff\">None</span>, <span style=\"color: #00af00; text-decoration-color: #00af00\">32</span>)                  │           <span style=\"color: #00af00; text-decoration-color: #00af00\">1,056</span> │\n",
              "├──────────────────────────────────────┼─────────────────────────────┼─────────────────┤\n",
              "│ dropout_1 (<span style=\"color: #0087ff; text-decoration-color: #0087ff\">Dropout</span>)                  │ (<span style=\"color: #00d7ff; text-decoration-color: #00d7ff\">None</span>, <span style=\"color: #00af00; text-decoration-color: #00af00\">32</span>)                  │               <span style=\"color: #00af00; text-decoration-color: #00af00\">0</span> │\n",
              "├──────────────────────────────────────┼─────────────────────────────┼─────────────────┤\n",
              "│ dense_8 (<span style=\"color: #0087ff; text-decoration-color: #0087ff\">Dense</span>)                      │ (<span style=\"color: #00d7ff; text-decoration-color: #00d7ff\">None</span>, <span style=\"color: #00af00; text-decoration-color: #00af00\">2</span>)                   │              <span style=\"color: #00af00; text-decoration-color: #00af00\">66</span> │\n",
              "└──────────────────────────────────────┴─────────────────────────────┴─────────────────┘\n",
              "</pre>\n"
            ]
          },
          "metadata": {}
        },
        {
          "output_type": "display_data",
          "data": {
            "text/plain": [
              "\u001b[1m Total params: \u001b[0m\u001b[38;5;34m1,282\u001b[0m (5.01 KB)\n"
            ],
            "text/html": [
              "<pre style=\"white-space:pre;overflow-x:auto;line-height:normal;font-family:Menlo,'DejaVu Sans Mono',consolas,'Courier New',monospace\"><span style=\"font-weight: bold\"> Total params: </span><span style=\"color: #00af00; text-decoration-color: #00af00\">1,282</span> (5.01 KB)\n",
              "</pre>\n"
            ]
          },
          "metadata": {}
        },
        {
          "output_type": "display_data",
          "data": {
            "text/plain": [
              "\u001b[1m Trainable params: \u001b[0m\u001b[38;5;34m1,282\u001b[0m (5.01 KB)\n"
            ],
            "text/html": [
              "<pre style=\"white-space:pre;overflow-x:auto;line-height:normal;font-family:Menlo,'DejaVu Sans Mono',consolas,'Courier New',monospace\"><span style=\"font-weight: bold\"> Trainable params: </span><span style=\"color: #00af00; text-decoration-color: #00af00\">1,282</span> (5.01 KB)\n",
              "</pre>\n"
            ]
          },
          "metadata": {}
        },
        {
          "output_type": "display_data",
          "data": {
            "text/plain": [
              "\u001b[1m Non-trainable params: \u001b[0m\u001b[38;5;34m0\u001b[0m (0.00 B)\n"
            ],
            "text/html": [
              "<pre style=\"white-space:pre;overflow-x:auto;line-height:normal;font-family:Menlo,'DejaVu Sans Mono',consolas,'Courier New',monospace\"><span style=\"font-weight: bold\"> Non-trainable params: </span><span style=\"color: #00af00; text-decoration-color: #00af00\">0</span> (0.00 B)\n",
              "</pre>\n"
            ]
          },
          "metadata": {}
        }
      ]
    },
    {
      "cell_type": "code",
      "source": [
        "# For logging\n",
        "alt_train_reward_lst = []\n",
        "alt_eval_reward_mean_lst = []\n",
        "alt_eval_reward_var_lst = []\n",
        "\n",
        "\n",
        "# Set up environment\n",
        "env = gym.make(\"CartPole-v1\")\n",
        "state_size = env.observation_space.shape[0] # Number of observations (CartPole)\n",
        "action_size = env.action_space.n            # Number of possible actions\n",
        "\n",
        "model_dir = \"q_net_baseline_alt\"  # TensorBoard log directory\n",
        "cb = keras.callbacks.TensorBoard(log_dir = get_run_logdir(model_dir), histogram_freq=1)\n",
        "\n",
        "# For timing training\n",
        "total_training_time = 0\n",
        "\n",
        "for ep in range(episode):\n",
        "    state, _ = env.reset()\n",
        "    state = np.reshape(state, [1, state_size])\n",
        "    total_reward = 0\n",
        "\n",
        "    # record start time\n",
        "    start = time.time()\n",
        "\n",
        "    for _ in range(500):\n",
        "        # Interact with the environment with epsilon-greedy policy\n",
        "        if np.random.rand() <= epsilon:\n",
        "            action = np.random.choice(action_size)\n",
        "        else:\n",
        "            q_values = model.predict(state, verbose=0)\n",
        "            action = np.argmax(q_values)\n",
        "\n",
        "        next_state, reward, terminated, truncated, _ = env.step(action)\n",
        "        next_state = np.reshape(next_state, [1, state_size])\n",
        "\n",
        "        done = terminated or truncated\n",
        "\n",
        "        # Train model using Q-Learning update:  Q(s, a) = r + gamma * max Q(s', a')\n",
        "        # [WriteCode]\n",
        "        q_base = model_alt.predict(state, verbose=0)\n",
        "        q_1_base = model_alt.predict(next_state, verbose=0)\n",
        "        if done:\n",
        "          q_target = reward\n",
        "        else:\n",
        "          q_target = reward + gamma * np.max(q_1_base)\n",
        "\n",
        "        q_feed = q_base.copy()\n",
        "        q_feed[0][action] = q_feed[0][action] + lr * (q_target - q_feed[0][action])\n",
        "        model_alt.fit(state, q_feed, epochs=epoch, verbose=0, batch_size=ba)\n",
        "        # Hints:\n",
        "\n",
        "        # 1. Compute target Q-values:\n",
        "        # - If done, Q-target = reward (no future reward)\n",
        "        # - Otherwise, Q-target = reward + gamma * max(Q(next_state, a))\n",
        "\n",
        "        # 2. Predict current Q-values for state\n",
        "        # Update only the Q-value for the taken action\n",
        "\n",
        "        # new_q_val = current_q_val + lr * (q_target - current_q_val)\n",
        "        # print(new_q_val)\n",
        "        # 3. Fit the model:\n",
        "        # - Inputs: state\n",
        "        # - Targets: updated Q-values (with action Q-value replaced by computed target)\n",
        "        # model.fit(state, new_q_val, epochs=epoch, verbose=0, batch_size=ba)\n",
        "\n",
        "\n",
        "        # Update exploration rate\n",
        "        if epsilon > epsilon_min and ep % 10 == 0:\n",
        "            epsilon *= epsilon_decay\n",
        "\n",
        "        state = next_state\n",
        "        total_reward += reward\n",
        "\n",
        "        if done:\n",
        "            break\n",
        "\n",
        "    # record end time and log training time\n",
        "    end = time.time()\n",
        "    total_training_time += end - start\n",
        "\n",
        "    # Evaluation\n",
        "    # [WriteCode]\n",
        "    eval_reward_mean, eval_reward_var = evaluation(model)\n",
        "\n",
        "    print(f\"Episode {ep + 1}/{episode} | Ep. Total Reward: {total_reward}\"\n",
        "        f\" | Epsilon : {epsilon:.3f}\"\n",
        "        f\" | Eval Rwd Mean: {eval_reward_mean:.2f}\"\n",
        "        f\" | Eval Rwd Var: {eval_reward_var:.2f}\")\n",
        "\n",
        "    # Log\n",
        "    alt_eval_reward_mean_lst.append(eval_reward_mean)\n",
        "    alt_eval_reward_var_lst.append(eval_reward_var)\n",
        "    alt_train_reward_lst.append(total_reward)\n",
        "\n",
        "    # Early Stopping Condition to avoid overfitting\n",
        "    # If the evaluation reward reaches the specified threshold, stop training early.\n",
        "    # The default threshold is set to 500, but you should adjust this based on observed training performance.\n",
        "    if eval_reward_mean > 300: # [Modify this threshold as needed]\n",
        "        print(f\"Early stopping triggered at Episode {ep + 1}.\")\n",
        "        break\n",
        "\n",
        "# evaluate average training time per episode\n",
        "print(f\"Training time: {total_training_time/(ep + 1):.4f} seconds per episode\")\n",
        "\n",
        "env.close()\n"
      ],
      "metadata": {
        "colab": {
          "base_uri": "https://localhost:8080/"
        },
        "id": "L_M_IusJMwwo",
        "outputId": "515454d6-3f22-49c8-d43b-236587dde34d"
      },
      "execution_count": 21,
      "outputs": [
        {
          "output_type": "stream",
          "name": "stdout",
          "text": [
            "Episode 1/500 | Ep. Total Reward: 14.0 | Epsilon : 0.782 | Eval Rwd Mean: 19.33 | Eval Rwd Var: 8.22\n",
            "Episode 2/500 | Ep. Total Reward: 22.0 | Epsilon : 0.782 | Eval Rwd Mean: 21.67 | Eval Rwd Var: 8.22\n",
            "Episode 3/500 | Ep. Total Reward: 15.0 | Epsilon : 0.782 | Eval Rwd Mean: 19.33 | Eval Rwd Var: 6.22\n",
            "Episode 4/500 | Ep. Total Reward: 20.0 | Epsilon : 0.782 | Eval Rwd Mean: 21.33 | Eval Rwd Var: 0.22\n",
            "Episode 5/500 | Ep. Total Reward: 24.0 | Epsilon : 0.782 | Eval Rwd Mean: 19.00 | Eval Rwd Var: 4.67\n",
            "Episode 6/500 | Ep. Total Reward: 51.0 | Epsilon : 0.782 | Eval Rwd Mean: 19.33 | Eval Rwd Var: 2.89\n",
            "Episode 7/500 | Ep. Total Reward: 18.0 | Epsilon : 0.782 | Eval Rwd Mean: 20.33 | Eval Rwd Var: 8.22\n",
            "Episode 8/500 | Ep. Total Reward: 39.0 | Epsilon : 0.782 | Eval Rwd Mean: 23.33 | Eval Rwd Var: 0.89\n",
            "Episode 9/500 | Ep. Total Reward: 31.0 | Epsilon : 0.782 | Eval Rwd Mean: 19.00 | Eval Rwd Var: 0.67\n",
            "Episode 10/500 | Ep. Total Reward: 17.0 | Epsilon : 0.782 | Eval Rwd Mean: 18.33 | Eval Rwd Var: 6.89\n",
            "Episode 11/500 | Ep. Total Reward: 18.0 | Epsilon : 0.652 | Eval Rwd Mean: 17.33 | Eval Rwd Var: 0.89\n",
            "Episode 12/500 | Ep. Total Reward: 16.0 | Epsilon : 0.652 | Eval Rwd Mean: 17.67 | Eval Rwd Var: 0.22\n",
            "Episode 13/500 | Ep. Total Reward: 9.0 | Epsilon : 0.652 | Eval Rwd Mean: 20.67 | Eval Rwd Var: 2.89\n",
            "Episode 14/500 | Ep. Total Reward: 19.0 | Epsilon : 0.652 | Eval Rwd Mean: 19.33 | Eval Rwd Var: 6.22\n",
            "Episode 15/500 | Ep. Total Reward: 24.0 | Epsilon : 0.652 | Eval Rwd Mean: 17.67 | Eval Rwd Var: 1.56\n",
            "Episode 16/500 | Ep. Total Reward: 25.0 | Epsilon : 0.652 | Eval Rwd Mean: 18.00 | Eval Rwd Var: 2.00\n",
            "Episode 17/500 | Ep. Total Reward: 21.0 | Epsilon : 0.652 | Eval Rwd Mean: 19.33 | Eval Rwd Var: 13.56\n",
            "Episode 18/500 | Ep. Total Reward: 21.0 | Epsilon : 0.652 | Eval Rwd Mean: 20.00 | Eval Rwd Var: 6.00\n",
            "Episode 19/500 | Ep. Total Reward: 17.0 | Epsilon : 0.652 | Eval Rwd Mean: 21.33 | Eval Rwd Var: 2.89\n",
            "Episode 20/500 | Ep. Total Reward: 25.0 | Epsilon : 0.652 | Eval Rwd Mean: 20.67 | Eval Rwd Var: 0.89\n",
            "Episode 21/500 | Ep. Total Reward: 19.0 | Epsilon : 0.539 | Eval Rwd Mean: 18.00 | Eval Rwd Var: 2.67\n",
            "Episode 22/500 | Ep. Total Reward: 35.0 | Epsilon : 0.539 | Eval Rwd Mean: 19.67 | Eval Rwd Var: 9.56\n",
            "Episode 23/500 | Ep. Total Reward: 18.0 | Epsilon : 0.539 | Eval Rwd Mean: 17.67 | Eval Rwd Var: 2.89\n",
            "Episode 24/500 | Ep. Total Reward: 17.0 | Epsilon : 0.539 | Eval Rwd Mean: 18.00 | Eval Rwd Var: 2.67\n",
            "Episode 25/500 | Ep. Total Reward: 13.0 | Epsilon : 0.539 | Eval Rwd Mean: 17.33 | Eval Rwd Var: 1.56\n",
            "Episode 26/500 | Ep. Total Reward: 21.0 | Epsilon : 0.539 | Eval Rwd Mean: 18.00 | Eval Rwd Var: 0.67\n",
            "Episode 27/500 | Ep. Total Reward: 19.0 | Epsilon : 0.539 | Eval Rwd Mean: 20.67 | Eval Rwd Var: 0.89\n",
            "Episode 28/500 | Ep. Total Reward: 30.0 | Epsilon : 0.539 | Eval Rwd Mean: 17.67 | Eval Rwd Var: 2.89\n",
            "Episode 29/500 | Ep. Total Reward: 25.0 | Epsilon : 0.539 | Eval Rwd Mean: 21.67 | Eval Rwd Var: 5.56\n",
            "Episode 30/500 | Ep. Total Reward: 20.0 | Epsilon : 0.539 | Eval Rwd Mean: 18.00 | Eval Rwd Var: 4.67\n",
            "Episode 31/500 | Ep. Total Reward: 30.0 | Epsilon : 0.399 | Eval Rwd Mean: 21.00 | Eval Rwd Var: 0.67\n",
            "Episode 32/500 | Ep. Total Reward: 25.0 | Epsilon : 0.399 | Eval Rwd Mean: 16.33 | Eval Rwd Var: 3.56\n",
            "Episode 33/500 | Ep. Total Reward: 22.0 | Epsilon : 0.399 | Eval Rwd Mean: 18.00 | Eval Rwd Var: 8.00\n",
            "Episode 34/500 | Ep. Total Reward: 25.0 | Epsilon : 0.399 | Eval Rwd Mean: 21.00 | Eval Rwd Var: 4.67\n",
            "Episode 35/500 | Ep. Total Reward: 24.0 | Epsilon : 0.399 | Eval Rwd Mean: 17.67 | Eval Rwd Var: 0.89\n",
            "Episode 36/500 | Ep. Total Reward: 17.0 | Epsilon : 0.399 | Eval Rwd Mean: 18.00 | Eval Rwd Var: 0.00\n",
            "Episode 37/500 | Ep. Total Reward: 17.0 | Epsilon : 0.399 | Eval Rwd Mean: 20.00 | Eval Rwd Var: 8.00\n",
            "Episode 38/500 | Ep. Total Reward: 16.0 | Epsilon : 0.399 | Eval Rwd Mean: 19.00 | Eval Rwd Var: 4.67\n",
            "Episode 39/500 | Ep. Total Reward: 21.0 | Epsilon : 0.399 | Eval Rwd Mean: 22.33 | Eval Rwd Var: 4.22\n",
            "Episode 40/500 | Ep. Total Reward: 16.0 | Epsilon : 0.399 | Eval Rwd Mean: 19.67 | Eval Rwd Var: 2.89\n",
            "Episode 41/500 | Ep. Total Reward: 15.0 | Epsilon : 0.343 | Eval Rwd Mean: 18.67 | Eval Rwd Var: 14.22\n",
            "Episode 42/500 | Ep. Total Reward: 20.0 | Epsilon : 0.343 | Eval Rwd Mean: 17.33 | Eval Rwd Var: 0.22\n",
            "Episode 43/500 | Ep. Total Reward: 18.0 | Epsilon : 0.343 | Eval Rwd Mean: 19.00 | Eval Rwd Var: 4.67\n",
            "Episode 44/500 | Ep. Total Reward: 20.0 | Epsilon : 0.343 | Eval Rwd Mean: 20.00 | Eval Rwd Var: 8.67\n",
            "Episode 45/500 | Ep. Total Reward: 23.0 | Epsilon : 0.343 | Eval Rwd Mean: 23.00 | Eval Rwd Var: 2.00\n",
            "Episode 46/500 | Ep. Total Reward: 18.0 | Epsilon : 0.343 | Eval Rwd Mean: 21.00 | Eval Rwd Var: 8.67\n",
            "Episode 47/500 | Ep. Total Reward: 20.0 | Epsilon : 0.343 | Eval Rwd Mean: 21.33 | Eval Rwd Var: 2.89\n",
            "Episode 48/500 | Ep. Total Reward: 21.0 | Epsilon : 0.343 | Eval Rwd Mean: 21.33 | Eval Rwd Var: 0.89\n",
            "Episode 49/500 | Ep. Total Reward: 22.0 | Epsilon : 0.343 | Eval Rwd Mean: 18.00 | Eval Rwd Var: 4.67\n",
            "Episode 50/500 | Ep. Total Reward: 16.0 | Epsilon : 0.343 | Eval Rwd Mean: 19.00 | Eval Rwd Var: 18.67\n",
            "Episode 51/500 | Ep. Total Reward: 21.0 | Epsilon : 0.278 | Eval Rwd Mean: 18.00 | Eval Rwd Var: 0.67\n",
            "Episode 52/500 | Ep. Total Reward: 22.0 | Epsilon : 0.278 | Eval Rwd Mean: 18.67 | Eval Rwd Var: 0.89\n",
            "Episode 53/500 | Ep. Total Reward: 22.0 | Epsilon : 0.278 | Eval Rwd Mean: 19.33 | Eval Rwd Var: 3.56\n",
            "Episode 54/500 | Ep. Total Reward: 19.0 | Epsilon : 0.278 | Eval Rwd Mean: 17.00 | Eval Rwd Var: 2.67\n",
            "Episode 55/500 | Ep. Total Reward: 14.0 | Epsilon : 0.278 | Eval Rwd Mean: 19.67 | Eval Rwd Var: 0.22\n",
            "Episode 56/500 | Ep. Total Reward: 20.0 | Epsilon : 0.278 | Eval Rwd Mean: 21.33 | Eval Rwd Var: 6.22\n",
            "Episode 57/500 | Ep. Total Reward: 19.0 | Epsilon : 0.278 | Eval Rwd Mean: 19.33 | Eval Rwd Var: 1.56\n",
            "Episode 58/500 | Ep. Total Reward: 22.0 | Epsilon : 0.278 | Eval Rwd Mean: 18.67 | Eval Rwd Var: 3.56\n",
            "Episode 59/500 | Ep. Total Reward: 22.0 | Epsilon : 0.278 | Eval Rwd Mean: 18.00 | Eval Rwd Var: 8.67\n",
            "Episode 60/500 | Ep. Total Reward: 18.0 | Epsilon : 0.278 | Eval Rwd Mean: 20.00 | Eval Rwd Var: 0.67\n",
            "Episode 61/500 | Ep. Total Reward: 15.0 | Epsilon : 0.239 | Eval Rwd Mean: 18.33 | Eval Rwd Var: 16.22\n",
            "Episode 62/500 | Ep. Total Reward: 17.0 | Epsilon : 0.239 | Eval Rwd Mean: 20.33 | Eval Rwd Var: 6.22\n",
            "Episode 63/500 | Ep. Total Reward: 22.0 | Epsilon : 0.239 | Eval Rwd Mean: 18.00 | Eval Rwd Var: 6.00\n",
            "Episode 64/500 | Ep. Total Reward: 24.0 | Epsilon : 0.239 | Eval Rwd Mean: 19.33 | Eval Rwd Var: 8.22\n",
            "Episode 65/500 | Ep. Total Reward: 14.0 | Epsilon : 0.239 | Eval Rwd Mean: 21.00 | Eval Rwd Var: 0.67\n",
            "Episode 66/500 | Ep. Total Reward: 24.0 | Epsilon : 0.239 | Eval Rwd Mean: 18.67 | Eval Rwd Var: 6.22\n",
            "Episode 67/500 | Ep. Total Reward: 14.0 | Epsilon : 0.239 | Eval Rwd Mean: 16.00 | Eval Rwd Var: 0.67\n",
            "Episode 68/500 | Ep. Total Reward: 22.0 | Epsilon : 0.239 | Eval Rwd Mean: 18.33 | Eval Rwd Var: 2.89\n",
            "Episode 69/500 | Ep. Total Reward: 24.0 | Epsilon : 0.239 | Eval Rwd Mean: 21.33 | Eval Rwd Var: 3.56\n",
            "Episode 70/500 | Ep. Total Reward: 18.0 | Epsilon : 0.239 | Eval Rwd Mean: 19.67 | Eval Rwd Var: 9.56\n",
            "Episode 71/500 | Ep. Total Reward: 20.0 | Epsilon : 0.195 | Eval Rwd Mean: 21.67 | Eval Rwd Var: 2.89\n",
            "Episode 72/500 | Ep. Total Reward: 21.0 | Epsilon : 0.195 | Eval Rwd Mean: 19.67 | Eval Rwd Var: 4.22\n",
            "Episode 73/500 | Ep. Total Reward: 20.0 | Epsilon : 0.195 | Eval Rwd Mean: 18.33 | Eval Rwd Var: 4.22\n",
            "Episode 74/500 | Ep. Total Reward: 19.0 | Epsilon : 0.195 | Eval Rwd Mean: 18.33 | Eval Rwd Var: 0.22\n",
            "Episode 75/500 | Ep. Total Reward: 19.0 | Epsilon : 0.195 | Eval Rwd Mean: 20.33 | Eval Rwd Var: 9.56\n",
            "Episode 76/500 | Ep. Total Reward: 20.0 | Epsilon : 0.195 | Eval Rwd Mean: 20.67 | Eval Rwd Var: 6.22\n",
            "Episode 77/500 | Ep. Total Reward: 15.0 | Epsilon : 0.195 | Eval Rwd Mean: 18.67 | Eval Rwd Var: 0.22\n",
            "Episode 78/500 | Ep. Total Reward: 23.0 | Epsilon : 0.195 | Eval Rwd Mean: 16.67 | Eval Rwd Var: 5.56\n",
            "Episode 79/500 | Ep. Total Reward: 16.0 | Epsilon : 0.195 | Eval Rwd Mean: 20.33 | Eval Rwd Var: 0.22\n",
            "Episode 80/500 | Ep. Total Reward: 15.0 | Epsilon : 0.195 | Eval Rwd Mean: 19.00 | Eval Rwd Var: 12.67\n",
            "Episode 81/500 | Ep. Total Reward: 22.0 | Epsilon : 0.157 | Eval Rwd Mean: 18.33 | Eval Rwd Var: 8.22\n",
            "Episode 82/500 | Ep. Total Reward: 22.0 | Epsilon : 0.157 | Eval Rwd Mean: 20.67 | Eval Rwd Var: 1.56\n",
            "Episode 83/500 | Ep. Total Reward: 19.0 | Epsilon : 0.157 | Eval Rwd Mean: 18.67 | Eval Rwd Var: 6.89\n",
            "Episode 84/500 | Ep. Total Reward: 22.0 | Epsilon : 0.157 | Eval Rwd Mean: 20.67 | Eval Rwd Var: 0.22\n",
            "Episode 85/500 | Ep. Total Reward: 21.0 | Epsilon : 0.157 | Eval Rwd Mean: 15.33 | Eval Rwd Var: 3.56\n",
            "Episode 86/500 | Ep. Total Reward: 15.0 | Epsilon : 0.157 | Eval Rwd Mean: 17.00 | Eval Rwd Var: 4.67\n",
            "Episode 87/500 | Ep. Total Reward: 18.0 | Epsilon : 0.157 | Eval Rwd Mean: 18.67 | Eval Rwd Var: 3.56\n",
            "Episode 88/500 | Ep. Total Reward: 20.0 | Epsilon : 0.157 | Eval Rwd Mean: 19.33 | Eval Rwd Var: 6.22\n",
            "Episode 89/500 | Ep. Total Reward: 20.0 | Epsilon : 0.157 | Eval Rwd Mean: 16.33 | Eval Rwd Var: 0.22\n",
            "Episode 90/500 | Ep. Total Reward: 20.0 | Epsilon : 0.157 | Eval Rwd Mean: 17.67 | Eval Rwd Var: 2.89\n",
            "Episode 91/500 | Ep. Total Reward: 17.0 | Epsilon : 0.132 | Eval Rwd Mean: 18.00 | Eval Rwd Var: 2.00\n",
            "Episode 92/500 | Ep. Total Reward: 22.0 | Epsilon : 0.132 | Eval Rwd Mean: 19.33 | Eval Rwd Var: 0.89\n",
            "Episode 93/500 | Ep. Total Reward: 20.0 | Epsilon : 0.132 | Eval Rwd Mean: 17.67 | Eval Rwd Var: 2.89\n",
            "Episode 94/500 | Ep. Total Reward: 18.0 | Epsilon : 0.132 | Eval Rwd Mean: 20.33 | Eval Rwd Var: 0.89\n",
            "Episode 95/500 | Ep. Total Reward: 21.0 | Epsilon : 0.132 | Eval Rwd Mean: 21.00 | Eval Rwd Var: 4.67\n",
            "Episode 96/500 | Ep. Total Reward: 17.0 | Epsilon : 0.132 | Eval Rwd Mean: 20.00 | Eval Rwd Var: 0.00\n",
            "Episode 97/500 | Ep. Total Reward: 21.0 | Epsilon : 0.132 | Eval Rwd Mean: 17.67 | Eval Rwd Var: 1.56\n",
            "Episode 98/500 | Ep. Total Reward: 20.0 | Epsilon : 0.132 | Eval Rwd Mean: 17.33 | Eval Rwd Var: 6.89\n",
            "Episode 99/500 | Ep. Total Reward: 20.0 | Epsilon : 0.132 | Eval Rwd Mean: 22.00 | Eval Rwd Var: 0.67\n",
            "Episode 100/500 | Ep. Total Reward: 25.0 | Epsilon : 0.132 | Eval Rwd Mean: 18.67 | Eval Rwd Var: 14.89\n",
            "Episode 101/500 | Ep. Total Reward: 24.0 | Epsilon : 0.104 | Eval Rwd Mean: 18.67 | Eval Rwd Var: 2.89\n",
            "Episode 102/500 | Ep. Total Reward: 20.0 | Epsilon : 0.104 | Eval Rwd Mean: 20.33 | Eval Rwd Var: 9.56\n",
            "Episode 103/500 | Ep. Total Reward: 17.0 | Epsilon : 0.104 | Eval Rwd Mean: 18.00 | Eval Rwd Var: 4.67\n",
            "Episode 104/500 | Ep. Total Reward: 18.0 | Epsilon : 0.104 | Eval Rwd Mean: 19.67 | Eval Rwd Var: 6.89\n",
            "Episode 105/500 | Ep. Total Reward: 19.0 | Epsilon : 0.104 | Eval Rwd Mean: 18.00 | Eval Rwd Var: 2.00\n",
            "Episode 106/500 | Ep. Total Reward: 22.0 | Epsilon : 0.104 | Eval Rwd Mean: 18.33 | Eval Rwd Var: 4.22\n",
            "Episode 107/500 | Ep. Total Reward: 17.0 | Epsilon : 0.104 | Eval Rwd Mean: 21.33 | Eval Rwd Var: 14.89\n",
            "Episode 108/500 | Ep. Total Reward: 23.0 | Epsilon : 0.104 | Eval Rwd Mean: 22.00 | Eval Rwd Var: 0.00\n",
            "Episode 109/500 | Ep. Total Reward: 18.0 | Epsilon : 0.104 | Eval Rwd Mean: 16.00 | Eval Rwd Var: 0.00\n",
            "Episode 110/500 | Ep. Total Reward: 18.0 | Epsilon : 0.104 | Eval Rwd Mean: 18.67 | Eval Rwd Var: 4.22\n",
            "Episode 111/500 | Ep. Total Reward: 20.0 | Epsilon : 0.100 | Eval Rwd Mean: 19.33 | Eval Rwd Var: 5.56\n",
            "Episode 112/500 | Ep. Total Reward: 23.0 | Epsilon : 0.100 | Eval Rwd Mean: 17.67 | Eval Rwd Var: 0.22\n",
            "Episode 113/500 | Ep. Total Reward: 23.0 | Epsilon : 0.100 | Eval Rwd Mean: 19.00 | Eval Rwd Var: 0.67\n",
            "Episode 114/500 | Ep. Total Reward: 24.0 | Epsilon : 0.100 | Eval Rwd Mean: 21.00 | Eval Rwd Var: 2.67\n",
            "Episode 115/500 | Ep. Total Reward: 22.0 | Epsilon : 0.100 | Eval Rwd Mean: 18.33 | Eval Rwd Var: 2.89\n",
            "Episode 116/500 | Ep. Total Reward: 23.0 | Epsilon : 0.100 | Eval Rwd Mean: 16.00 | Eval Rwd Var: 0.67\n",
            "Episode 117/500 | Ep. Total Reward: 13.0 | Epsilon : 0.100 | Eval Rwd Mean: 16.33 | Eval Rwd Var: 1.56\n",
            "Episode 118/500 | Ep. Total Reward: 17.0 | Epsilon : 0.100 | Eval Rwd Mean: 23.33 | Eval Rwd Var: 0.89\n",
            "Episode 119/500 | Ep. Total Reward: 16.0 | Epsilon : 0.100 | Eval Rwd Mean: 19.67 | Eval Rwd Var: 2.89\n",
            "Episode 120/500 | Ep. Total Reward: 20.0 | Epsilon : 0.100 | Eval Rwd Mean: 20.67 | Eval Rwd Var: 2.89\n",
            "Episode 121/500 | Ep. Total Reward: 17.0 | Epsilon : 0.100 | Eval Rwd Mean: 19.00 | Eval Rwd Var: 6.00\n",
            "Episode 122/500 | Ep. Total Reward: 17.0 | Epsilon : 0.100 | Eval Rwd Mean: 20.00 | Eval Rwd Var: 2.67\n",
            "Episode 123/500 | Ep. Total Reward: 17.0 | Epsilon : 0.100 | Eval Rwd Mean: 20.33 | Eval Rwd Var: 4.22\n",
            "Episode 124/500 | Ep. Total Reward: 22.0 | Epsilon : 0.100 | Eval Rwd Mean: 19.33 | Eval Rwd Var: 6.22\n",
            "Episode 125/500 | Ep. Total Reward: 14.0 | Epsilon : 0.100 | Eval Rwd Mean: 21.67 | Eval Rwd Var: 6.89\n",
            "Episode 126/500 | Ep. Total Reward: 20.0 | Epsilon : 0.100 | Eval Rwd Mean: 20.33 | Eval Rwd Var: 0.22\n",
            "Episode 127/500 | Ep. Total Reward: 18.0 | Epsilon : 0.100 | Eval Rwd Mean: 19.67 | Eval Rwd Var: 10.89\n",
            "Episode 128/500 | Ep. Total Reward: 24.0 | Epsilon : 0.100 | Eval Rwd Mean: 18.33 | Eval Rwd Var: 2.89\n",
            "Episode 129/500 | Ep. Total Reward: 16.0 | Epsilon : 0.100 | Eval Rwd Mean: 18.33 | Eval Rwd Var: 4.22\n",
            "Episode 130/500 | Ep. Total Reward: 20.0 | Epsilon : 0.100 | Eval Rwd Mean: 20.00 | Eval Rwd Var: 6.00\n",
            "Episode 131/500 | Ep. Total Reward: 20.0 | Epsilon : 0.100 | Eval Rwd Mean: 21.33 | Eval Rwd Var: 6.22\n",
            "Episode 132/500 | Ep. Total Reward: 19.0 | Epsilon : 0.100 | Eval Rwd Mean: 17.67 | Eval Rwd Var: 1.56\n",
            "Episode 133/500 | Ep. Total Reward: 20.0 | Epsilon : 0.100 | Eval Rwd Mean: 18.33 | Eval Rwd Var: 4.22\n",
            "Episode 134/500 | Ep. Total Reward: 18.0 | Epsilon : 0.100 | Eval Rwd Mean: 21.00 | Eval Rwd Var: 12.67\n",
            "Episode 135/500 | Ep. Total Reward: 19.0 | Epsilon : 0.100 | Eval Rwd Mean: 22.00 | Eval Rwd Var: 2.00\n",
            "Episode 136/500 | Ep. Total Reward: 18.0 | Epsilon : 0.100 | Eval Rwd Mean: 19.00 | Eval Rwd Var: 0.67\n",
            "Episode 137/500 | Ep. Total Reward: 16.0 | Epsilon : 0.100 | Eval Rwd Mean: 20.67 | Eval Rwd Var: 3.56\n",
            "Episode 138/500 | Ep. Total Reward: 17.0 | Epsilon : 0.100 | Eval Rwd Mean: 17.00 | Eval Rwd Var: 2.00\n",
            "Episode 139/500 | Ep. Total Reward: 22.0 | Epsilon : 0.100 | Eval Rwd Mean: 20.00 | Eval Rwd Var: 0.67\n",
            "Episode 140/500 | Ep. Total Reward: 21.0 | Epsilon : 0.100 | Eval Rwd Mean: 19.67 | Eval Rwd Var: 9.56\n",
            "Episode 141/500 | Ep. Total Reward: 21.0 | Epsilon : 0.100 | Eval Rwd Mean: 20.33 | Eval Rwd Var: 10.89\n",
            "Episode 142/500 | Ep. Total Reward: 20.0 | Epsilon : 0.100 | Eval Rwd Mean: 20.67 | Eval Rwd Var: 0.89\n",
            "Episode 143/500 | Ep. Total Reward: 17.0 | Epsilon : 0.100 | Eval Rwd Mean: 18.67 | Eval Rwd Var: 9.56\n",
            "Episode 144/500 | Ep. Total Reward: 15.0 | Epsilon : 0.100 | Eval Rwd Mean: 18.33 | Eval Rwd Var: 1.56\n",
            "Episode 145/500 | Ep. Total Reward: 21.0 | Epsilon : 0.100 | Eval Rwd Mean: 19.33 | Eval Rwd Var: 0.89\n",
            "Episode 146/500 | Ep. Total Reward: 16.0 | Epsilon : 0.100 | Eval Rwd Mean: 22.33 | Eval Rwd Var: 0.89\n",
            "Episode 147/500 | Ep. Total Reward: 21.0 | Epsilon : 0.100 | Eval Rwd Mean: 18.00 | Eval Rwd Var: 8.67\n",
            "Episode 148/500 | Ep. Total Reward: 18.0 | Epsilon : 0.100 | Eval Rwd Mean: 20.00 | Eval Rwd Var: 8.00\n",
            "Episode 149/500 | Ep. Total Reward: 20.0 | Epsilon : 0.100 | Eval Rwd Mean: 19.00 | Eval Rwd Var: 6.00\n",
            "Episode 150/500 | Ep. Total Reward: 17.0 | Epsilon : 0.100 | Eval Rwd Mean: 19.33 | Eval Rwd Var: 0.89\n",
            "Episode 151/500 | Ep. Total Reward: 22.0 | Epsilon : 0.100 | Eval Rwd Mean: 21.33 | Eval Rwd Var: 0.89\n",
            "Episode 152/500 | Ep. Total Reward: 16.0 | Epsilon : 0.100 | Eval Rwd Mean: 17.67 | Eval Rwd Var: 6.22\n",
            "Episode 153/500 | Ep. Total Reward: 21.0 | Epsilon : 0.100 | Eval Rwd Mean: 21.00 | Eval Rwd Var: 8.67\n",
            "Episode 154/500 | Ep. Total Reward: 16.0 | Epsilon : 0.100 | Eval Rwd Mean: 21.33 | Eval Rwd Var: 3.56\n",
            "Episode 155/500 | Ep. Total Reward: 19.0 | Epsilon : 0.100 | Eval Rwd Mean: 18.67 | Eval Rwd Var: 6.22\n",
            "Episode 156/500 | Ep. Total Reward: 26.0 | Epsilon : 0.100 | Eval Rwd Mean: 18.00 | Eval Rwd Var: 2.67\n",
            "Episode 157/500 | Ep. Total Reward: 20.0 | Epsilon : 0.100 | Eval Rwd Mean: 19.00 | Eval Rwd Var: 4.67\n",
            "Episode 158/500 | Ep. Total Reward: 20.0 | Epsilon : 0.100 | Eval Rwd Mean: 21.00 | Eval Rwd Var: 4.67\n",
            "Episode 159/500 | Ep. Total Reward: 16.0 | Epsilon : 0.100 | Eval Rwd Mean: 17.67 | Eval Rwd Var: 1.56\n",
            "Episode 160/500 | Ep. Total Reward: 21.0 | Epsilon : 0.100 | Eval Rwd Mean: 22.00 | Eval Rwd Var: 2.00\n",
            "Episode 161/500 | Ep. Total Reward: 18.0 | Epsilon : 0.100 | Eval Rwd Mean: 19.33 | Eval Rwd Var: 11.56\n",
            "Episode 162/500 | Ep. Total Reward: 19.0 | Epsilon : 0.100 | Eval Rwd Mean: 19.67 | Eval Rwd Var: 9.56\n",
            "Episode 163/500 | Ep. Total Reward: 17.0 | Epsilon : 0.100 | Eval Rwd Mean: 19.67 | Eval Rwd Var: 14.89\n",
            "Episode 164/500 | Ep. Total Reward: 21.0 | Epsilon : 0.100 | Eval Rwd Mean: 21.00 | Eval Rwd Var: 2.00\n",
            "Episode 165/500 | Ep. Total Reward: 22.0 | Epsilon : 0.100 | Eval Rwd Mean: 19.67 | Eval Rwd Var: 9.56\n",
            "Episode 166/500 | Ep. Total Reward: 17.0 | Epsilon : 0.100 | Eval Rwd Mean: 19.67 | Eval Rwd Var: 0.22\n",
            "Episode 167/500 | Ep. Total Reward: 20.0 | Epsilon : 0.100 | Eval Rwd Mean: 19.33 | Eval Rwd Var: 4.22\n",
            "Episode 168/500 | Ep. Total Reward: 22.0 | Epsilon : 0.100 | Eval Rwd Mean: 20.67 | Eval Rwd Var: 3.56\n",
            "Episode 169/500 | Ep. Total Reward: 19.0 | Epsilon : 0.100 | Eval Rwd Mean: 20.67 | Eval Rwd Var: 8.22\n",
            "Episode 170/500 | Ep. Total Reward: 20.0 | Epsilon : 0.100 | Eval Rwd Mean: 18.67 | Eval Rwd Var: 6.22\n",
            "Episode 171/500 | Ep. Total Reward: 18.0 | Epsilon : 0.100 | Eval Rwd Mean: 19.33 | Eval Rwd Var: 10.89\n",
            "Episode 172/500 | Ep. Total Reward: 19.0 | Epsilon : 0.100 | Eval Rwd Mean: 16.67 | Eval Rwd Var: 0.89\n",
            "Episode 173/500 | Ep. Total Reward: 17.0 | Epsilon : 0.100 | Eval Rwd Mean: 16.33 | Eval Rwd Var: 0.22\n",
            "Episode 174/500 | Ep. Total Reward: 23.0 | Epsilon : 0.100 | Eval Rwd Mean: 18.67 | Eval Rwd Var: 0.89\n",
            "Episode 175/500 | Ep. Total Reward: 20.0 | Epsilon : 0.100 | Eval Rwd Mean: 19.33 | Eval Rwd Var: 4.22\n",
            "Episode 176/500 | Ep. Total Reward: 18.0 | Epsilon : 0.100 | Eval Rwd Mean: 21.00 | Eval Rwd Var: 6.00\n",
            "Episode 177/500 | Ep. Total Reward: 22.0 | Epsilon : 0.100 | Eval Rwd Mean: 21.33 | Eval Rwd Var: 6.22\n",
            "Episode 178/500 | Ep. Total Reward: 16.0 | Epsilon : 0.100 | Eval Rwd Mean: 19.33 | Eval Rwd Var: 16.22\n",
            "Episode 179/500 | Ep. Total Reward: 15.0 | Epsilon : 0.100 | Eval Rwd Mean: 17.33 | Eval Rwd Var: 3.56\n",
            "Episode 180/500 | Ep. Total Reward: 20.0 | Epsilon : 0.100 | Eval Rwd Mean: 20.33 | Eval Rwd Var: 10.89\n",
            "Episode 181/500 | Ep. Total Reward: 23.0 | Epsilon : 0.100 | Eval Rwd Mean: 20.33 | Eval Rwd Var: 1.56\n",
            "Episode 182/500 | Ep. Total Reward: 19.0 | Epsilon : 0.100 | Eval Rwd Mean: 20.00 | Eval Rwd Var: 8.00\n",
            "Episode 183/500 | Ep. Total Reward: 20.0 | Epsilon : 0.100 | Eval Rwd Mean: 20.67 | Eval Rwd Var: 6.89\n",
            "Episode 184/500 | Ep. Total Reward: 19.0 | Epsilon : 0.100 | Eval Rwd Mean: 20.33 | Eval Rwd Var: 11.56\n",
            "Episode 185/500 | Ep. Total Reward: 17.0 | Epsilon : 0.100 | Eval Rwd Mean: 19.67 | Eval Rwd Var: 9.56\n",
            "Episode 186/500 | Ep. Total Reward: 18.0 | Epsilon : 0.100 | Eval Rwd Mean: 16.67 | Eval Rwd Var: 3.56\n",
            "Episode 187/500 | Ep. Total Reward: 17.0 | Epsilon : 0.100 | Eval Rwd Mean: 19.33 | Eval Rwd Var: 11.56\n",
            "Episode 188/500 | Ep. Total Reward: 23.0 | Epsilon : 0.100 | Eval Rwd Mean: 21.33 | Eval Rwd Var: 0.89\n",
            "Episode 189/500 | Ep. Total Reward: 25.0 | Epsilon : 0.100 | Eval Rwd Mean: 18.67 | Eval Rwd Var: 0.89\n",
            "Episode 190/500 | Ep. Total Reward: 19.0 | Epsilon : 0.100 | Eval Rwd Mean: 17.00 | Eval Rwd Var: 4.67\n",
            "Episode 191/500 | Ep. Total Reward: 16.0 | Epsilon : 0.100 | Eval Rwd Mean: 18.33 | Eval Rwd Var: 4.22\n",
            "Episode 192/500 | Ep. Total Reward: 20.0 | Epsilon : 0.100 | Eval Rwd Mean: 18.33 | Eval Rwd Var: 8.22\n",
            "Episode 193/500 | Ep. Total Reward: 17.0 | Epsilon : 0.100 | Eval Rwd Mean: 19.00 | Eval Rwd Var: 4.67\n",
            "Episode 194/500 | Ep. Total Reward: 18.0 | Epsilon : 0.100 | Eval Rwd Mean: 20.67 | Eval Rwd Var: 6.22\n",
            "Episode 195/500 | Ep. Total Reward: 15.0 | Epsilon : 0.100 | Eval Rwd Mean: 17.33 | Eval Rwd Var: 2.89\n",
            "Episode 196/500 | Ep. Total Reward: 16.0 | Epsilon : 0.100 | Eval Rwd Mean: 18.67 | Eval Rwd Var: 0.22\n",
            "Episode 197/500 | Ep. Total Reward: 19.0 | Epsilon : 0.100 | Eval Rwd Mean: 20.33 | Eval Rwd Var: 1.56\n",
            "Episode 198/500 | Ep. Total Reward: 24.0 | Epsilon : 0.100 | Eval Rwd Mean: 19.33 | Eval Rwd Var: 8.22\n",
            "Episode 199/500 | Ep. Total Reward: 16.0 | Epsilon : 0.100 | Eval Rwd Mean: 20.00 | Eval Rwd Var: 2.67\n",
            "Episode 200/500 | Ep. Total Reward: 23.0 | Epsilon : 0.100 | Eval Rwd Mean: 21.00 | Eval Rwd Var: 4.67\n",
            "Episode 201/500 | Ep. Total Reward: 18.0 | Epsilon : 0.100 | Eval Rwd Mean: 21.33 | Eval Rwd Var: 9.56\n",
            "Episode 202/500 | Ep. Total Reward: 16.0 | Epsilon : 0.100 | Eval Rwd Mean: 19.33 | Eval Rwd Var: 0.89\n",
            "Episode 203/500 | Ep. Total Reward: 22.0 | Epsilon : 0.100 | Eval Rwd Mean: 21.67 | Eval Rwd Var: 5.56\n",
            "Episode 204/500 | Ep. Total Reward: 18.0 | Epsilon : 0.100 | Eval Rwd Mean: 20.00 | Eval Rwd Var: 8.00\n",
            "Episode 205/500 | Ep. Total Reward: 14.0 | Epsilon : 0.100 | Eval Rwd Mean: 21.33 | Eval Rwd Var: 4.22\n",
            "Episode 206/500 | Ep. Total Reward: 19.0 | Epsilon : 0.100 | Eval Rwd Mean: 22.67 | Eval Rwd Var: 0.22\n",
            "Episode 207/500 | Ep. Total Reward: 17.0 | Epsilon : 0.100 | Eval Rwd Mean: 20.00 | Eval Rwd Var: 8.00\n",
            "Episode 208/500 | Ep. Total Reward: 16.0 | Epsilon : 0.100 | Eval Rwd Mean: 16.67 | Eval Rwd Var: 2.89\n",
            "Episode 209/500 | Ep. Total Reward: 18.0 | Epsilon : 0.100 | Eval Rwd Mean: 21.00 | Eval Rwd Var: 4.67\n",
            "Episode 210/500 | Ep. Total Reward: 23.0 | Epsilon : 0.100 | Eval Rwd Mean: 20.67 | Eval Rwd Var: 4.22\n",
            "Episode 211/500 | Ep. Total Reward: 22.0 | Epsilon : 0.100 | Eval Rwd Mean: 19.33 | Eval Rwd Var: 1.56\n",
            "Episode 212/500 | Ep. Total Reward: 21.0 | Epsilon : 0.100 | Eval Rwd Mean: 19.67 | Eval Rwd Var: 10.89\n",
            "Episode 213/500 | Ep. Total Reward: 16.0 | Epsilon : 0.100 | Eval Rwd Mean: 17.00 | Eval Rwd Var: 0.67\n",
            "Episode 214/500 | Ep. Total Reward: 20.0 | Epsilon : 0.100 | Eval Rwd Mean: 18.33 | Eval Rwd Var: 6.89\n",
            "Episode 215/500 | Ep. Total Reward: 22.0 | Epsilon : 0.100 | Eval Rwd Mean: 17.67 | Eval Rwd Var: 2.89\n",
            "Episode 216/500 | Ep. Total Reward: 21.0 | Epsilon : 0.100 | Eval Rwd Mean: 18.00 | Eval Rwd Var: 2.67\n",
            "Episode 217/500 | Ep. Total Reward: 16.0 | Epsilon : 0.100 | Eval Rwd Mean: 17.67 | Eval Rwd Var: 2.89\n",
            "Episode 218/500 | Ep. Total Reward: 19.0 | Epsilon : 0.100 | Eval Rwd Mean: 19.00 | Eval Rwd Var: 14.00\n",
            "Episode 219/500 | Ep. Total Reward: 24.0 | Epsilon : 0.100 | Eval Rwd Mean: 16.33 | Eval Rwd Var: 1.56\n",
            "Episode 220/500 | Ep. Total Reward: 20.0 | Epsilon : 0.100 | Eval Rwd Mean: 16.33 | Eval Rwd Var: 0.89\n",
            "Episode 221/500 | Ep. Total Reward: 16.0 | Epsilon : 0.100 | Eval Rwd Mean: 19.67 | Eval Rwd Var: 6.89\n",
            "Episode 222/500 | Ep. Total Reward: 20.0 | Epsilon : 0.100 | Eval Rwd Mean: 22.00 | Eval Rwd Var: 2.67\n",
            "Episode 223/500 | Ep. Total Reward: 22.0 | Epsilon : 0.100 | Eval Rwd Mean: 19.00 | Eval Rwd Var: 0.67\n",
            "Episode 224/500 | Ep. Total Reward: 20.0 | Epsilon : 0.100 | Eval Rwd Mean: 21.67 | Eval Rwd Var: 2.89\n",
            "Episode 225/500 | Ep. Total Reward: 22.0 | Epsilon : 0.100 | Eval Rwd Mean: 18.33 | Eval Rwd Var: 0.22\n",
            "Episode 226/500 | Ep. Total Reward: 16.0 | Epsilon : 0.100 | Eval Rwd Mean: 19.00 | Eval Rwd Var: 4.67\n",
            "Episode 227/500 | Ep. Total Reward: 18.0 | Epsilon : 0.100 | Eval Rwd Mean: 21.00 | Eval Rwd Var: 4.67\n",
            "Episode 228/500 | Ep. Total Reward: 20.0 | Epsilon : 0.100 | Eval Rwd Mean: 20.33 | Eval Rwd Var: 6.89\n",
            "Episode 229/500 | Ep. Total Reward: 20.0 | Epsilon : 0.100 | Eval Rwd Mean: 22.00 | Eval Rwd Var: 2.00\n",
            "Episode 230/500 | Ep. Total Reward: 22.0 | Epsilon : 0.100 | Eval Rwd Mean: 23.00 | Eval Rwd Var: 0.67\n",
            "Episode 231/500 | Ep. Total Reward: 21.0 | Epsilon : 0.100 | Eval Rwd Mean: 20.33 | Eval Rwd Var: 1.56\n",
            "Episode 232/500 | Ep. Total Reward: 17.0 | Epsilon : 0.100 | Eval Rwd Mean: 20.67 | Eval Rwd Var: 1.56\n",
            "Episode 233/500 | Ep. Total Reward: 17.0 | Epsilon : 0.100 | Eval Rwd Mean: 18.00 | Eval Rwd Var: 8.00\n",
            "Episode 234/500 | Ep. Total Reward: 19.0 | Epsilon : 0.100 | Eval Rwd Mean: 17.00 | Eval Rwd Var: 4.67\n",
            "Episode 235/500 | Ep. Total Reward: 21.0 | Epsilon : 0.100 | Eval Rwd Mean: 19.67 | Eval Rwd Var: 4.22\n",
            "Episode 236/500 | Ep. Total Reward: 16.0 | Epsilon : 0.100 | Eval Rwd Mean: 20.00 | Eval Rwd Var: 2.67\n",
            "Episode 237/500 | Ep. Total Reward: 20.0 | Epsilon : 0.100 | Eval Rwd Mean: 17.67 | Eval Rwd Var: 5.56\n",
            "Episode 238/500 | Ep. Total Reward: 14.0 | Epsilon : 0.100 | Eval Rwd Mean: 21.00 | Eval Rwd Var: 4.67\n",
            "Episode 239/500 | Ep. Total Reward: 22.0 | Epsilon : 0.100 | Eval Rwd Mean: 19.33 | Eval Rwd Var: 6.22\n",
            "Episode 240/500 | Ep. Total Reward: 22.0 | Epsilon : 0.100 | Eval Rwd Mean: 16.67 | Eval Rwd Var: 6.22\n",
            "Episode 241/500 | Ep. Total Reward: 20.0 | Epsilon : 0.100 | Eval Rwd Mean: 21.00 | Eval Rwd Var: 12.67\n",
            "Episode 242/500 | Ep. Total Reward: 19.0 | Epsilon : 0.100 | Eval Rwd Mean: 17.67 | Eval Rwd Var: 9.56\n",
            "Episode 243/500 | Ep. Total Reward: 23.0 | Epsilon : 0.100 | Eval Rwd Mean: 21.33 | Eval Rwd Var: 9.56\n",
            "Episode 244/500 | Ep. Total Reward: 23.0 | Epsilon : 0.100 | Eval Rwd Mean: 21.67 | Eval Rwd Var: 1.56\n",
            "Episode 245/500 | Ep. Total Reward: 20.0 | Epsilon : 0.100 | Eval Rwd Mean: 24.33 | Eval Rwd Var: 4.22\n",
            "Episode 246/500 | Ep. Total Reward: 19.0 | Epsilon : 0.100 | Eval Rwd Mean: 17.67 | Eval Rwd Var: 0.89\n",
            "Episode 247/500 | Ep. Total Reward: 17.0 | Epsilon : 0.100 | Eval Rwd Mean: 19.00 | Eval Rwd Var: 2.00\n",
            "Episode 248/500 | Ep. Total Reward: 15.0 | Epsilon : 0.100 | Eval Rwd Mean: 21.33 | Eval Rwd Var: 4.22\n",
            "Episode 249/500 | Ep. Total Reward: 20.0 | Epsilon : 0.100 | Eval Rwd Mean: 19.33 | Eval Rwd Var: 0.89\n",
            "Episode 250/500 | Ep. Total Reward: 24.0 | Epsilon : 0.100 | Eval Rwd Mean: 19.67 | Eval Rwd Var: 6.89\n",
            "Episode 251/500 | Ep. Total Reward: 26.0 | Epsilon : 0.100 | Eval Rwd Mean: 18.00 | Eval Rwd Var: 8.00\n",
            "Episode 252/500 | Ep. Total Reward: 18.0 | Epsilon : 0.100 | Eval Rwd Mean: 20.67 | Eval Rwd Var: 9.56\n",
            "Episode 253/500 | Ep. Total Reward: 19.0 | Epsilon : 0.100 | Eval Rwd Mean: 19.33 | Eval Rwd Var: 6.22\n",
            "Episode 254/500 | Ep. Total Reward: 20.0 | Epsilon : 0.100 | Eval Rwd Mean: 20.67 | Eval Rwd Var: 13.56\n",
            "Episode 255/500 | Ep. Total Reward: 18.0 | Epsilon : 0.100 | Eval Rwd Mean: 19.00 | Eval Rwd Var: 2.00\n",
            "Episode 256/500 | Ep. Total Reward: 20.0 | Epsilon : 0.100 | Eval Rwd Mean: 16.33 | Eval Rwd Var: 0.22\n",
            "Episode 257/500 | Ep. Total Reward: 18.0 | Epsilon : 0.100 | Eval Rwd Mean: 17.00 | Eval Rwd Var: 0.00\n",
            "Episode 258/500 | Ep. Total Reward: 22.0 | Epsilon : 0.100 | Eval Rwd Mean: 24.00 | Eval Rwd Var: 0.67\n",
            "Episode 259/500 | Ep. Total Reward: 17.0 | Epsilon : 0.100 | Eval Rwd Mean: 18.67 | Eval Rwd Var: 4.22\n",
            "Episode 260/500 | Ep. Total Reward: 20.0 | Epsilon : 0.100 | Eval Rwd Mean: 20.67 | Eval Rwd Var: 17.56\n",
            "Episode 261/500 | Ep. Total Reward: 20.0 | Epsilon : 0.100 | Eval Rwd Mean: 21.33 | Eval Rwd Var: 3.56\n",
            "Episode 262/500 | Ep. Total Reward: 16.0 | Epsilon : 0.100 | Eval Rwd Mean: 19.33 | Eval Rwd Var: 6.22\n",
            "Episode 263/500 | Ep. Total Reward: 20.0 | Epsilon : 0.100 | Eval Rwd Mean: 19.00 | Eval Rwd Var: 2.00\n",
            "Episode 264/500 | Ep. Total Reward: 18.0 | Epsilon : 0.100 | Eval Rwd Mean: 21.67 | Eval Rwd Var: 6.89\n",
            "Episode 265/500 | Ep. Total Reward: 19.0 | Epsilon : 0.100 | Eval Rwd Mean: 18.00 | Eval Rwd Var: 0.00\n",
            "Episode 266/500 | Ep. Total Reward: 20.0 | Epsilon : 0.100 | Eval Rwd Mean: 19.00 | Eval Rwd Var: 6.00\n",
            "Episode 267/500 | Ep. Total Reward: 16.0 | Epsilon : 0.100 | Eval Rwd Mean: 19.67 | Eval Rwd Var: 4.22\n",
            "Episode 268/500 | Ep. Total Reward: 16.0 | Epsilon : 0.100 | Eval Rwd Mean: 19.67 | Eval Rwd Var: 9.56\n",
            "Episode 269/500 | Ep. Total Reward: 16.0 | Epsilon : 0.100 | Eval Rwd Mean: 20.67 | Eval Rwd Var: 3.56\n",
            "Episode 270/500 | Ep. Total Reward: 21.0 | Epsilon : 0.100 | Eval Rwd Mean: 21.00 | Eval Rwd Var: 4.67\n",
            "Episode 271/500 | Ep. Total Reward: 16.0 | Epsilon : 0.100 | Eval Rwd Mean: 17.67 | Eval Rwd Var: 0.89\n",
            "Episode 272/500 | Ep. Total Reward: 17.0 | Epsilon : 0.100 | Eval Rwd Mean: 18.33 | Eval Rwd Var: 10.89\n",
            "Episode 273/500 | Ep. Total Reward: 18.0 | Epsilon : 0.100 | Eval Rwd Mean: 20.33 | Eval Rwd Var: 14.89\n",
            "Episode 274/500 | Ep. Total Reward: 20.0 | Epsilon : 0.100 | Eval Rwd Mean: 18.33 | Eval Rwd Var: 1.56\n",
            "Episode 275/500 | Ep. Total Reward: 22.0 | Epsilon : 0.100 | Eval Rwd Mean: 17.33 | Eval Rwd Var: 0.22\n",
            "Episode 276/500 | Ep. Total Reward: 20.0 | Epsilon : 0.100 | Eval Rwd Mean: 20.00 | Eval Rwd Var: 8.67\n",
            "Episode 277/500 | Ep. Total Reward: 22.0 | Epsilon : 0.100 | Eval Rwd Mean: 20.67 | Eval Rwd Var: 0.89\n",
            "Episode 278/500 | Ep. Total Reward: 19.0 | Epsilon : 0.100 | Eval Rwd Mean: 21.33 | Eval Rwd Var: 5.56\n",
            "Episode 279/500 | Ep. Total Reward: 22.0 | Epsilon : 0.100 | Eval Rwd Mean: 20.00 | Eval Rwd Var: 2.67\n",
            "Episode 280/500 | Ep. Total Reward: 18.0 | Epsilon : 0.100 | Eval Rwd Mean: 17.33 | Eval Rwd Var: 0.89\n",
            "Episode 281/500 | Ep. Total Reward: 20.0 | Epsilon : 0.100 | Eval Rwd Mean: 20.67 | Eval Rwd Var: 6.22\n",
            "Episode 282/500 | Ep. Total Reward: 22.0 | Epsilon : 0.100 | Eval Rwd Mean: 21.33 | Eval Rwd Var: 4.22\n",
            "Episode 283/500 | Ep. Total Reward: 23.0 | Epsilon : 0.100 | Eval Rwd Mean: 21.67 | Eval Rwd Var: 4.22\n",
            "Episode 284/500 | Ep. Total Reward: 17.0 | Epsilon : 0.100 | Eval Rwd Mean: 19.33 | Eval Rwd Var: 3.56\n",
            "Episode 285/500 | Ep. Total Reward: 21.0 | Epsilon : 0.100 | Eval Rwd Mean: 18.67 | Eval Rwd Var: 1.56\n",
            "Episode 286/500 | Ep. Total Reward: 18.0 | Epsilon : 0.100 | Eval Rwd Mean: 19.33 | Eval Rwd Var: 0.89\n",
            "Episode 287/500 | Ep. Total Reward: 22.0 | Epsilon : 0.100 | Eval Rwd Mean: 20.00 | Eval Rwd Var: 0.67\n",
            "Episode 288/500 | Ep. Total Reward: 20.0 | Epsilon : 0.100 | Eval Rwd Mean: 16.00 | Eval Rwd Var: 2.67\n",
            "Episode 289/500 | Ep. Total Reward: 20.0 | Epsilon : 0.100 | Eval Rwd Mean: 20.33 | Eval Rwd Var: 6.22\n",
            "Episode 290/500 | Ep. Total Reward: 18.0 | Epsilon : 0.100 | Eval Rwd Mean: 19.33 | Eval Rwd Var: 14.22\n",
            "Episode 291/500 | Ep. Total Reward: 20.0 | Epsilon : 0.100 | Eval Rwd Mean: 20.00 | Eval Rwd Var: 8.67\n",
            "Episode 292/500 | Ep. Total Reward: 11.0 | Epsilon : 0.100 | Eval Rwd Mean: 19.00 | Eval Rwd Var: 8.67\n",
            "Episode 293/500 | Ep. Total Reward: 18.0 | Epsilon : 0.100 | Eval Rwd Mean: 20.67 | Eval Rwd Var: 11.56\n",
            "Episode 294/500 | Ep. Total Reward: 28.0 | Epsilon : 0.100 | Eval Rwd Mean: 21.00 | Eval Rwd Var: 0.67\n",
            "Episode 295/500 | Ep. Total Reward: 21.0 | Epsilon : 0.100 | Eval Rwd Mean: 17.33 | Eval Rwd Var: 1.56\n",
            "Episode 296/500 | Ep. Total Reward: 18.0 | Epsilon : 0.100 | Eval Rwd Mean: 19.00 | Eval Rwd Var: 12.67\n",
            "Episode 297/500 | Ep. Total Reward: 20.0 | Epsilon : 0.100 | Eval Rwd Mean: 20.33 | Eval Rwd Var: 3.56\n",
            "Episode 298/500 | Ep. Total Reward: 22.0 | Epsilon : 0.100 | Eval Rwd Mean: 20.00 | Eval Rwd Var: 12.67\n",
            "Episode 299/500 | Ep. Total Reward: 14.0 | Epsilon : 0.100 | Eval Rwd Mean: 18.67 | Eval Rwd Var: 10.89\n",
            "Episode 300/500 | Ep. Total Reward: 21.0 | Epsilon : 0.100 | Eval Rwd Mean: 18.33 | Eval Rwd Var: 4.22\n",
            "Episode 301/500 | Ep. Total Reward: 19.0 | Epsilon : 0.100 | Eval Rwd Mean: 20.00 | Eval Rwd Var: 2.67\n",
            "Episode 302/500 | Ep. Total Reward: 21.0 | Epsilon : 0.100 | Eval Rwd Mean: 19.33 | Eval Rwd Var: 0.22\n",
            "Episode 303/500 | Ep. Total Reward: 18.0 | Epsilon : 0.100 | Eval Rwd Mean: 20.00 | Eval Rwd Var: 10.67\n",
            "Episode 304/500 | Ep. Total Reward: 19.0 | Epsilon : 0.100 | Eval Rwd Mean: 20.67 | Eval Rwd Var: 10.89\n",
            "Episode 305/500 | Ep. Total Reward: 22.0 | Epsilon : 0.100 | Eval Rwd Mean: 19.67 | Eval Rwd Var: 9.56\n",
            "Episode 306/500 | Ep. Total Reward: 18.0 | Epsilon : 0.100 | Eval Rwd Mean: 19.00 | Eval Rwd Var: 4.67\n",
            "Episode 307/500 | Ep. Total Reward: 17.0 | Epsilon : 0.100 | Eval Rwd Mean: 20.00 | Eval Rwd Var: 12.67\n",
            "Episode 308/500 | Ep. Total Reward: 19.0 | Epsilon : 0.100 | Eval Rwd Mean: 17.00 | Eval Rwd Var: 2.00\n",
            "Episode 309/500 | Ep. Total Reward: 21.0 | Epsilon : 0.100 | Eval Rwd Mean: 17.67 | Eval Rwd Var: 0.22\n",
            "Episode 310/500 | Ep. Total Reward: 20.0 | Epsilon : 0.100 | Eval Rwd Mean: 19.67 | Eval Rwd Var: 6.22\n",
            "Episode 311/500 | Ep. Total Reward: 20.0 | Epsilon : 0.100 | Eval Rwd Mean: 20.33 | Eval Rwd Var: 8.22\n",
            "Episode 312/500 | Ep. Total Reward: 21.0 | Epsilon : 0.100 | Eval Rwd Mean: 19.67 | Eval Rwd Var: 0.22\n",
            "Episode 313/500 | Ep. Total Reward: 17.0 | Epsilon : 0.100 | Eval Rwd Mean: 19.33 | Eval Rwd Var: 2.89\n",
            "Episode 314/500 | Ep. Total Reward: 17.0 | Epsilon : 0.100 | Eval Rwd Mean: 17.00 | Eval Rwd Var: 4.67\n",
            "Episode 315/500 | Ep. Total Reward: 18.0 | Epsilon : 0.100 | Eval Rwd Mean: 19.00 | Eval Rwd Var: 2.00\n",
            "Episode 316/500 | Ep. Total Reward: 19.0 | Epsilon : 0.100 | Eval Rwd Mean: 20.00 | Eval Rwd Var: 2.67\n",
            "Episode 317/500 | Ep. Total Reward: 19.0 | Epsilon : 0.100 | Eval Rwd Mean: 20.33 | Eval Rwd Var: 5.56\n",
            "Episode 318/500 | Ep. Total Reward: 16.0 | Epsilon : 0.100 | Eval Rwd Mean: 19.67 | Eval Rwd Var: 3.56\n",
            "Episode 319/500 | Ep. Total Reward: 17.0 | Epsilon : 0.100 | Eval Rwd Mean: 17.00 | Eval Rwd Var: 2.00\n",
            "Episode 320/500 | Ep. Total Reward: 17.0 | Epsilon : 0.100 | Eval Rwd Mean: 17.33 | Eval Rwd Var: 10.89\n",
            "Episode 321/500 | Ep. Total Reward: 20.0 | Epsilon : 0.100 | Eval Rwd Mean: 17.67 | Eval Rwd Var: 0.22\n",
            "Episode 322/500 | Ep. Total Reward: 18.0 | Epsilon : 0.100 | Eval Rwd Mean: 19.33 | Eval Rwd Var: 2.89\n",
            "Episode 323/500 | Ep. Total Reward: 19.0 | Epsilon : 0.100 | Eval Rwd Mean: 17.33 | Eval Rwd Var: 8.22\n",
            "Episode 324/500 | Ep. Total Reward: 24.0 | Epsilon : 0.100 | Eval Rwd Mean: 20.33 | Eval Rwd Var: 5.56\n",
            "Episode 325/500 | Ep. Total Reward: 16.0 | Epsilon : 0.100 | Eval Rwd Mean: 20.67 | Eval Rwd Var: 11.56\n",
            "Episode 326/500 | Ep. Total Reward: 16.0 | Epsilon : 0.100 | Eval Rwd Mean: 17.67 | Eval Rwd Var: 5.56\n",
            "Episode 327/500 | Ep. Total Reward: 19.0 | Epsilon : 0.100 | Eval Rwd Mean: 19.33 | Eval Rwd Var: 6.22\n",
            "Episode 328/500 | Ep. Total Reward: 14.0 | Epsilon : 0.100 | Eval Rwd Mean: 20.67 | Eval Rwd Var: 6.89\n",
            "Episode 329/500 | Ep. Total Reward: 22.0 | Epsilon : 0.100 | Eval Rwd Mean: 21.33 | Eval Rwd Var: 6.22\n",
            "Episode 330/500 | Ep. Total Reward: 20.0 | Epsilon : 0.100 | Eval Rwd Mean: 18.33 | Eval Rwd Var: 6.89\n",
            "Episode 331/500 | Ep. Total Reward: 17.0 | Epsilon : 0.100 | Eval Rwd Mean: 18.67 | Eval Rwd Var: 0.89\n",
            "Episode 332/500 | Ep. Total Reward: 22.0 | Epsilon : 0.100 | Eval Rwd Mean: 19.33 | Eval Rwd Var: 2.89\n",
            "Episode 333/500 | Ep. Total Reward: 17.0 | Epsilon : 0.100 | Eval Rwd Mean: 19.00 | Eval Rwd Var: 4.67\n",
            "Episode 334/500 | Ep. Total Reward: 22.0 | Epsilon : 0.100 | Eval Rwd Mean: 21.00 | Eval Rwd Var: 6.00\n",
            "Episode 335/500 | Ep. Total Reward: 20.0 | Epsilon : 0.100 | Eval Rwd Mean: 19.00 | Eval Rwd Var: 4.67\n",
            "Episode 336/500 | Ep. Total Reward: 24.0 | Epsilon : 0.100 | Eval Rwd Mean: 19.00 | Eval Rwd Var: 4.67\n",
            "Episode 337/500 | Ep. Total Reward: 18.0 | Epsilon : 0.100 | Eval Rwd Mean: 18.67 | Eval Rwd Var: 8.22\n",
            "Episode 338/500 | Ep. Total Reward: 20.0 | Epsilon : 0.100 | Eval Rwd Mean: 20.33 | Eval Rwd Var: 9.56\n",
            "Episode 339/500 | Ep. Total Reward: 22.0 | Epsilon : 0.100 | Eval Rwd Mean: 22.00 | Eval Rwd Var: 10.67\n",
            "Episode 340/500 | Ep. Total Reward: 18.0 | Epsilon : 0.100 | Eval Rwd Mean: 16.67 | Eval Rwd Var: 0.22\n",
            "Episode 341/500 | Ep. Total Reward: 22.0 | Epsilon : 0.100 | Eval Rwd Mean: 19.00 | Eval Rwd Var: 2.00\n",
            "Episode 342/500 | Ep. Total Reward: 22.0 | Epsilon : 0.100 | Eval Rwd Mean: 20.33 | Eval Rwd Var: 0.89\n",
            "Episode 343/500 | Ep. Total Reward: 20.0 | Epsilon : 0.100 | Eval Rwd Mean: 19.33 | Eval Rwd Var: 6.89\n",
            "Episode 344/500 | Ep. Total Reward: 19.0 | Epsilon : 0.100 | Eval Rwd Mean: 17.00 | Eval Rwd Var: 4.67\n",
            "Episode 345/500 | Ep. Total Reward: 18.0 | Epsilon : 0.100 | Eval Rwd Mean: 18.33 | Eval Rwd Var: 4.22\n",
            "Episode 346/500 | Ep. Total Reward: 18.0 | Epsilon : 0.100 | Eval Rwd Mean: 18.33 | Eval Rwd Var: 1.56\n",
            "Episode 347/500 | Ep. Total Reward: 18.0 | Epsilon : 0.100 | Eval Rwd Mean: 20.67 | Eval Rwd Var: 16.22\n",
            "Episode 348/500 | Ep. Total Reward: 16.0 | Epsilon : 0.100 | Eval Rwd Mean: 20.00 | Eval Rwd Var: 8.00\n",
            "Episode 349/500 | Ep. Total Reward: 18.0 | Epsilon : 0.100 | Eval Rwd Mean: 18.33 | Eval Rwd Var: 5.56\n",
            "Episode 350/500 | Ep. Total Reward: 19.0 | Epsilon : 0.100 | Eval Rwd Mean: 17.67 | Eval Rwd Var: 0.22\n",
            "Episode 351/500 | Ep. Total Reward: 22.0 | Epsilon : 0.100 | Eval Rwd Mean: 20.33 | Eval Rwd Var: 2.89\n",
            "Episode 352/500 | Ep. Total Reward: 22.0 | Epsilon : 0.100 | Eval Rwd Mean: 21.33 | Eval Rwd Var: 0.89\n",
            "Episode 353/500 | Ep. Total Reward: 18.0 | Epsilon : 0.100 | Eval Rwd Mean: 21.33 | Eval Rwd Var: 10.89\n",
            "Episode 354/500 | Ep. Total Reward: 18.0 | Epsilon : 0.100 | Eval Rwd Mean: 21.00 | Eval Rwd Var: 2.67\n",
            "Episode 355/500 | Ep. Total Reward: 18.0 | Epsilon : 0.100 | Eval Rwd Mean: 17.00 | Eval Rwd Var: 0.67\n",
            "Episode 356/500 | Ep. Total Reward: 17.0 | Epsilon : 0.100 | Eval Rwd Mean: 20.67 | Eval Rwd Var: 6.22\n",
            "Episode 357/500 | Ep. Total Reward: 18.0 | Epsilon : 0.100 | Eval Rwd Mean: 18.33 | Eval Rwd Var: 2.89\n",
            "Episode 358/500 | Ep. Total Reward: 15.0 | Epsilon : 0.100 | Eval Rwd Mean: 19.67 | Eval Rwd Var: 6.89\n",
            "Episode 359/500 | Ep. Total Reward: 21.0 | Epsilon : 0.100 | Eval Rwd Mean: 16.00 | Eval Rwd Var: 2.67\n",
            "Episode 360/500 | Ep. Total Reward: 21.0 | Epsilon : 0.100 | Eval Rwd Mean: 16.33 | Eval Rwd Var: 1.56\n",
            "Episode 361/500 | Ep. Total Reward: 24.0 | Epsilon : 0.100 | Eval Rwd Mean: 19.00 | Eval Rwd Var: 4.67\n",
            "Episode 362/500 | Ep. Total Reward: 22.0 | Epsilon : 0.100 | Eval Rwd Mean: 19.67 | Eval Rwd Var: 4.22\n",
            "Episode 363/500 | Ep. Total Reward: 22.0 | Epsilon : 0.100 | Eval Rwd Mean: 21.00 | Eval Rwd Var: 0.67\n",
            "Episode 364/500 | Ep. Total Reward: 26.0 | Epsilon : 0.100 | Eval Rwd Mean: 20.67 | Eval Rwd Var: 0.22\n",
            "Episode 365/500 | Ep. Total Reward: 22.0 | Epsilon : 0.100 | Eval Rwd Mean: 18.67 | Eval Rwd Var: 6.22\n",
            "Episode 366/500 | Ep. Total Reward: 24.0 | Epsilon : 0.100 | Eval Rwd Mean: 19.00 | Eval Rwd Var: 8.67\n",
            "Episode 367/500 | Ep. Total Reward: 15.0 | Epsilon : 0.100 | Eval Rwd Mean: 17.33 | Eval Rwd Var: 1.56\n",
            "Episode 368/500 | Ep. Total Reward: 19.0 | Epsilon : 0.100 | Eval Rwd Mean: 19.00 | Eval Rwd Var: 4.67\n",
            "Episode 369/500 | Ep. Total Reward: 19.0 | Epsilon : 0.100 | Eval Rwd Mean: 20.00 | Eval Rwd Var: 8.00\n",
            "Episode 370/500 | Ep. Total Reward: 21.0 | Epsilon : 0.100 | Eval Rwd Mean: 19.00 | Eval Rwd Var: 0.67\n",
            "Episode 371/500 | Ep. Total Reward: 22.0 | Epsilon : 0.100 | Eval Rwd Mean: 17.67 | Eval Rwd Var: 0.89\n",
            "Episode 372/500 | Ep. Total Reward: 15.0 | Epsilon : 0.100 | Eval Rwd Mean: 18.33 | Eval Rwd Var: 8.22\n",
            "Episode 373/500 | Ep. Total Reward: 16.0 | Epsilon : 0.100 | Eval Rwd Mean: 18.67 | Eval Rwd Var: 0.89\n",
            "Episode 374/500 | Ep. Total Reward: 19.0 | Epsilon : 0.100 | Eval Rwd Mean: 15.67 | Eval Rwd Var: 0.22\n",
            "Episode 375/500 | Ep. Total Reward: 19.0 | Epsilon : 0.100 | Eval Rwd Mean: 17.67 | Eval Rwd Var: 4.22\n",
            "Episode 376/500 | Ep. Total Reward: 21.0 | Epsilon : 0.100 | Eval Rwd Mean: 21.00 | Eval Rwd Var: 4.67\n",
            "Episode 377/500 | Ep. Total Reward: 18.0 | Epsilon : 0.100 | Eval Rwd Mean: 17.67 | Eval Rwd Var: 1.56\n",
            "Episode 378/500 | Ep. Total Reward: 17.0 | Epsilon : 0.100 | Eval Rwd Mean: 20.67 | Eval Rwd Var: 11.56\n",
            "Episode 379/500 | Ep. Total Reward: 19.0 | Epsilon : 0.100 | Eval Rwd Mean: 18.67 | Eval Rwd Var: 2.89\n",
            "Episode 380/500 | Ep. Total Reward: 16.0 | Epsilon : 0.100 | Eval Rwd Mean: 18.00 | Eval Rwd Var: 2.67\n",
            "Episode 381/500 | Ep. Total Reward: 24.0 | Epsilon : 0.100 | Eval Rwd Mean: 18.00 | Eval Rwd Var: 2.67\n",
            "Episode 382/500 | Ep. Total Reward: 20.0 | Epsilon : 0.100 | Eval Rwd Mean: 20.00 | Eval Rwd Var: 2.67\n",
            "Episode 383/500 | Ep. Total Reward: 20.0 | Epsilon : 0.100 | Eval Rwd Mean: 18.67 | Eval Rwd Var: 0.89\n",
            "Episode 384/500 | Ep. Total Reward: 17.0 | Epsilon : 0.100 | Eval Rwd Mean: 17.33 | Eval Rwd Var: 2.89\n",
            "Episode 385/500 | Ep. Total Reward: 22.0 | Epsilon : 0.100 | Eval Rwd Mean: 20.00 | Eval Rwd Var: 0.00\n",
            "Episode 386/500 | Ep. Total Reward: 20.0 | Epsilon : 0.100 | Eval Rwd Mean: 21.00 | Eval Rwd Var: 2.67\n",
            "Episode 387/500 | Ep. Total Reward: 24.0 | Epsilon : 0.100 | Eval Rwd Mean: 17.00 | Eval Rwd Var: 2.67\n",
            "Episode 388/500 | Ep. Total Reward: 22.0 | Epsilon : 0.100 | Eval Rwd Mean: 18.33 | Eval Rwd Var: 1.56\n",
            "Episode 389/500 | Ep. Total Reward: 19.0 | Epsilon : 0.100 | Eval Rwd Mean: 19.67 | Eval Rwd Var: 4.22\n",
            "Episode 390/500 | Ep. Total Reward: 15.0 | Epsilon : 0.100 | Eval Rwd Mean: 20.33 | Eval Rwd Var: 4.22\n",
            "Episode 391/500 | Ep. Total Reward: 17.0 | Epsilon : 0.100 | Eval Rwd Mean: 20.00 | Eval Rwd Var: 6.00\n",
            "Episode 392/500 | Ep. Total Reward: 17.0 | Epsilon : 0.100 | Eval Rwd Mean: 16.67 | Eval Rwd Var: 3.56\n",
            "Episode 393/500 | Ep. Total Reward: 17.0 | Epsilon : 0.100 | Eval Rwd Mean: 20.00 | Eval Rwd Var: 2.67\n",
            "Episode 394/500 | Ep. Total Reward: 22.0 | Epsilon : 0.100 | Eval Rwd Mean: 20.00 | Eval Rwd Var: 2.00\n",
            "Episode 395/500 | Ep. Total Reward: 23.0 | Epsilon : 0.100 | Eval Rwd Mean: 19.33 | Eval Rwd Var: 6.22\n",
            "Episode 396/500 | Ep. Total Reward: 22.0 | Epsilon : 0.100 | Eval Rwd Mean: 19.67 | Eval Rwd Var: 1.56\n",
            "Episode 397/500 | Ep. Total Reward: 26.0 | Epsilon : 0.100 | Eval Rwd Mean: 22.33 | Eval Rwd Var: 4.22\n",
            "Episode 398/500 | Ep. Total Reward: 19.0 | Epsilon : 0.100 | Eval Rwd Mean: 20.67 | Eval Rwd Var: 6.22\n",
            "Episode 399/500 | Ep. Total Reward: 16.0 | Epsilon : 0.100 | Eval Rwd Mean: 17.33 | Eval Rwd Var: 1.56\n",
            "Episode 400/500 | Ep. Total Reward: 22.0 | Epsilon : 0.100 | Eval Rwd Mean: 18.00 | Eval Rwd Var: 2.67\n",
            "Episode 401/500 | Ep. Total Reward: 20.0 | Epsilon : 0.100 | Eval Rwd Mean: 18.00 | Eval Rwd Var: 2.00\n",
            "Episode 402/500 | Ep. Total Reward: 16.0 | Epsilon : 0.100 | Eval Rwd Mean: 17.00 | Eval Rwd Var: 4.67\n",
            "Episode 403/500 | Ep. Total Reward: 21.0 | Epsilon : 0.100 | Eval Rwd Mean: 20.67 | Eval Rwd Var: 1.56\n",
            "Episode 404/500 | Ep. Total Reward: 23.0 | Epsilon : 0.100 | Eval Rwd Mean: 19.33 | Eval Rwd Var: 6.89\n",
            "Episode 405/500 | Ep. Total Reward: 16.0 | Epsilon : 0.100 | Eval Rwd Mean: 21.33 | Eval Rwd Var: 0.89\n",
            "Episode 406/500 | Ep. Total Reward: 20.0 | Epsilon : 0.100 | Eval Rwd Mean: 19.00 | Eval Rwd Var: 2.00\n",
            "Episode 407/500 | Ep. Total Reward: 22.0 | Epsilon : 0.100 | Eval Rwd Mean: 19.67 | Eval Rwd Var: 6.22\n",
            "Episode 408/500 | Ep. Total Reward: 21.0 | Epsilon : 0.100 | Eval Rwd Mean: 18.00 | Eval Rwd Var: 2.00\n",
            "Episode 409/500 | Ep. Total Reward: 18.0 | Epsilon : 0.100 | Eval Rwd Mean: 19.33 | Eval Rwd Var: 0.89\n",
            "Episode 410/500 | Ep. Total Reward: 15.0 | Epsilon : 0.100 | Eval Rwd Mean: 18.33 | Eval Rwd Var: 8.22\n",
            "Episode 411/500 | Ep. Total Reward: 17.0 | Epsilon : 0.100 | Eval Rwd Mean: 18.33 | Eval Rwd Var: 0.22\n",
            "Episode 412/500 | Ep. Total Reward: 22.0 | Epsilon : 0.100 | Eval Rwd Mean: 20.00 | Eval Rwd Var: 2.67\n",
            "Episode 413/500 | Ep. Total Reward: 22.0 | Epsilon : 0.100 | Eval Rwd Mean: 17.67 | Eval Rwd Var: 2.89\n",
            "Episode 414/500 | Ep. Total Reward: 16.0 | Epsilon : 0.100 | Eval Rwd Mean: 19.00 | Eval Rwd Var: 10.67\n",
            "Episode 415/500 | Ep. Total Reward: 22.0 | Epsilon : 0.100 | Eval Rwd Mean: 20.33 | Eval Rwd Var: 8.22\n",
            "Episode 416/500 | Ep. Total Reward: 18.0 | Epsilon : 0.100 | Eval Rwd Mean: 19.67 | Eval Rwd Var: 2.89\n",
            "Episode 417/500 | Ep. Total Reward: 20.0 | Epsilon : 0.100 | Eval Rwd Mean: 18.33 | Eval Rwd Var: 2.89\n",
            "Episode 418/500 | Ep. Total Reward: 26.0 | Epsilon : 0.100 | Eval Rwd Mean: 20.33 | Eval Rwd Var: 2.89\n",
            "Episode 419/500 | Ep. Total Reward: 16.0 | Epsilon : 0.100 | Eval Rwd Mean: 19.67 | Eval Rwd Var: 4.22\n",
            "Episode 420/500 | Ep. Total Reward: 19.0 | Epsilon : 0.100 | Eval Rwd Mean: 18.33 | Eval Rwd Var: 0.22\n",
            "Episode 421/500 | Ep. Total Reward: 17.0 | Epsilon : 0.100 | Eval Rwd Mean: 18.33 | Eval Rwd Var: 6.89\n",
            "Episode 422/500 | Ep. Total Reward: 18.0 | Epsilon : 0.100 | Eval Rwd Mean: 19.00 | Eval Rwd Var: 8.00\n",
            "Episode 423/500 | Ep. Total Reward: 24.0 | Epsilon : 0.100 | Eval Rwd Mean: 17.67 | Eval Rwd Var: 1.56\n",
            "Episode 424/500 | Ep. Total Reward: 21.0 | Epsilon : 0.100 | Eval Rwd Mean: 21.00 | Eval Rwd Var: 0.67\n",
            "Episode 425/500 | Ep. Total Reward: 22.0 | Epsilon : 0.100 | Eval Rwd Mean: 19.67 | Eval Rwd Var: 4.22\n",
            "Episode 426/500 | Ep. Total Reward: 23.0 | Epsilon : 0.100 | Eval Rwd Mean: 21.67 | Eval Rwd Var: 11.56\n",
            "Episode 427/500 | Ep. Total Reward: 18.0 | Epsilon : 0.100 | Eval Rwd Mean: 19.00 | Eval Rwd Var: 2.00\n",
            "Episode 428/500 | Ep. Total Reward: 18.0 | Epsilon : 0.100 | Eval Rwd Mean: 18.67 | Eval Rwd Var: 1.56\n",
            "Episode 429/500 | Ep. Total Reward: 18.0 | Epsilon : 0.100 | Eval Rwd Mean: 20.00 | Eval Rwd Var: 18.67\n",
            "Episode 430/500 | Ep. Total Reward: 23.0 | Epsilon : 0.100 | Eval Rwd Mean: 19.33 | Eval Rwd Var: 6.22\n",
            "Episode 431/500 | Ep. Total Reward: 20.0 | Epsilon : 0.100 | Eval Rwd Mean: 17.33 | Eval Rwd Var: 0.89\n",
            "Episode 432/500 | Ep. Total Reward: 19.0 | Epsilon : 0.100 | Eval Rwd Mean: 21.33 | Eval Rwd Var: 3.56\n",
            "Episode 433/500 | Ep. Total Reward: 24.0 | Epsilon : 0.100 | Eval Rwd Mean: 19.33 | Eval Rwd Var: 0.22\n",
            "Episode 434/500 | Ep. Total Reward: 22.0 | Epsilon : 0.100 | Eval Rwd Mean: 19.00 | Eval Rwd Var: 18.00\n",
            "Episode 435/500 | Ep. Total Reward: 17.0 | Epsilon : 0.100 | Eval Rwd Mean: 19.00 | Eval Rwd Var: 4.67\n",
            "Episode 436/500 | Ep. Total Reward: 15.0 | Epsilon : 0.100 | Eval Rwd Mean: 17.67 | Eval Rwd Var: 9.56\n",
            "Episode 437/500 | Ep. Total Reward: 18.0 | Epsilon : 0.100 | Eval Rwd Mean: 19.00 | Eval Rwd Var: 2.00\n",
            "Episode 438/500 | Ep. Total Reward: 19.0 | Epsilon : 0.100 | Eval Rwd Mean: 21.33 | Eval Rwd Var: 2.89\n",
            "Episode 439/500 | Ep. Total Reward: 16.0 | Epsilon : 0.100 | Eval Rwd Mean: 20.00 | Eval Rwd Var: 2.00\n",
            "Episode 440/500 | Ep. Total Reward: 22.0 | Epsilon : 0.100 | Eval Rwd Mean: 18.00 | Eval Rwd Var: 2.67\n",
            "Episode 441/500 | Ep. Total Reward: 20.0 | Epsilon : 0.100 | Eval Rwd Mean: 20.67 | Eval Rwd Var: 3.56\n",
            "Episode 442/500 | Ep. Total Reward: 16.0 | Epsilon : 0.100 | Eval Rwd Mean: 21.67 | Eval Rwd Var: 2.89\n",
            "Episode 443/500 | Ep. Total Reward: 20.0 | Epsilon : 0.100 | Eval Rwd Mean: 19.33 | Eval Rwd Var: 8.22\n",
            "Episode 444/500 | Ep. Total Reward: 19.0 | Epsilon : 0.100 | Eval Rwd Mean: 21.67 | Eval Rwd Var: 10.89\n",
            "Episode 445/500 | Ep. Total Reward: 17.0 | Epsilon : 0.100 | Eval Rwd Mean: 22.33 | Eval Rwd Var: 0.22\n",
            "Episode 446/500 | Ep. Total Reward: 22.0 | Epsilon : 0.100 | Eval Rwd Mean: 20.33 | Eval Rwd Var: 10.89\n",
            "Episode 447/500 | Ep. Total Reward: 19.0 | Epsilon : 0.100 | Eval Rwd Mean: 20.00 | Eval Rwd Var: 4.67\n",
            "Episode 448/500 | Ep. Total Reward: 19.0 | Epsilon : 0.100 | Eval Rwd Mean: 19.33 | Eval Rwd Var: 6.22\n",
            "Episode 449/500 | Ep. Total Reward: 18.0 | Epsilon : 0.100 | Eval Rwd Mean: 18.67 | Eval Rwd Var: 9.56\n",
            "Episode 450/500 | Ep. Total Reward: 20.0 | Epsilon : 0.100 | Eval Rwd Mean: 18.33 | Eval Rwd Var: 6.89\n",
            "Episode 451/500 | Ep. Total Reward: 22.0 | Epsilon : 0.100 | Eval Rwd Mean: 19.33 | Eval Rwd Var: 5.56\n",
            "Episode 452/500 | Ep. Total Reward: 20.0 | Epsilon : 0.100 | Eval Rwd Mean: 20.00 | Eval Rwd Var: 8.00\n",
            "Episode 453/500 | Ep. Total Reward: 20.0 | Epsilon : 0.100 | Eval Rwd Mean: 18.67 | Eval Rwd Var: 6.22\n",
            "Episode 454/500 | Ep. Total Reward: 16.0 | Epsilon : 0.100 | Eval Rwd Mean: 17.67 | Eval Rwd Var: 2.89\n",
            "Episode 455/500 | Ep. Total Reward: 22.0 | Epsilon : 0.100 | Eval Rwd Mean: 16.33 | Eval Rwd Var: 0.89\n",
            "Episode 456/500 | Ep. Total Reward: 19.0 | Epsilon : 0.100 | Eval Rwd Mean: 19.00 | Eval Rwd Var: 0.67\n",
            "Episode 457/500 | Ep. Total Reward: 16.0 | Epsilon : 0.100 | Eval Rwd Mean: 18.67 | Eval Rwd Var: 6.22\n",
            "Episode 458/500 | Ep. Total Reward: 22.0 | Epsilon : 0.100 | Eval Rwd Mean: 20.33 | Eval Rwd Var: 3.56\n",
            "Episode 459/500 | Ep. Total Reward: 22.0 | Epsilon : 0.100 | Eval Rwd Mean: 19.33 | Eval Rwd Var: 8.22\n",
            "Episode 460/500 | Ep. Total Reward: 22.0 | Epsilon : 0.100 | Eval Rwd Mean: 18.33 | Eval Rwd Var: 1.56\n",
            "Episode 461/500 | Ep. Total Reward: 18.0 | Epsilon : 0.100 | Eval Rwd Mean: 20.00 | Eval Rwd Var: 8.00\n",
            "Episode 462/500 | Ep. Total Reward: 18.0 | Epsilon : 0.100 | Eval Rwd Mean: 19.67 | Eval Rwd Var: 2.89\n",
            "Episode 463/500 | Ep. Total Reward: 18.0 | Epsilon : 0.100 | Eval Rwd Mean: 19.00 | Eval Rwd Var: 2.67\n",
            "Episode 464/500 | Ep. Total Reward: 18.0 | Epsilon : 0.100 | Eval Rwd Mean: 19.00 | Eval Rwd Var: 12.67\n",
            "Episode 465/500 | Ep. Total Reward: 19.0 | Epsilon : 0.100 | Eval Rwd Mean: 18.33 | Eval Rwd Var: 6.22\n",
            "Episode 466/500 | Ep. Total Reward: 15.0 | Epsilon : 0.100 | Eval Rwd Mean: 22.00 | Eval Rwd Var: 2.67\n",
            "Episode 467/500 | Ep. Total Reward: 19.0 | Epsilon : 0.100 | Eval Rwd Mean: 17.00 | Eval Rwd Var: 0.67\n",
            "Episode 468/500 | Ep. Total Reward: 19.0 | Epsilon : 0.100 | Eval Rwd Mean: 21.00 | Eval Rwd Var: 12.67\n",
            "Episode 469/500 | Ep. Total Reward: 20.0 | Epsilon : 0.100 | Eval Rwd Mean: 20.33 | Eval Rwd Var: 5.56\n",
            "Episode 470/500 | Ep. Total Reward: 18.0 | Epsilon : 0.100 | Eval Rwd Mean: 19.67 | Eval Rwd Var: 10.89\n",
            "Episode 471/500 | Ep. Total Reward: 26.0 | Epsilon : 0.100 | Eval Rwd Mean: 19.67 | Eval Rwd Var: 1.56\n",
            "Episode 472/500 | Ep. Total Reward: 21.0 | Epsilon : 0.100 | Eval Rwd Mean: 18.67 | Eval Rwd Var: 6.89\n",
            "Episode 473/500 | Ep. Total Reward: 19.0 | Epsilon : 0.100 | Eval Rwd Mean: 20.00 | Eval Rwd Var: 0.67\n",
            "Episode 474/500 | Ep. Total Reward: 17.0 | Epsilon : 0.100 | Eval Rwd Mean: 19.00 | Eval Rwd Var: 12.67\n",
            "Episode 475/500 | Ep. Total Reward: 23.0 | Epsilon : 0.100 | Eval Rwd Mean: 17.67 | Eval Rwd Var: 0.89\n",
            "Episode 476/500 | Ep. Total Reward: 19.0 | Epsilon : 0.100 | Eval Rwd Mean: 16.00 | Eval Rwd Var: 0.00\n",
            "Episode 477/500 | Ep. Total Reward: 16.0 | Epsilon : 0.100 | Eval Rwd Mean: 18.67 | Eval Rwd Var: 14.22\n",
            "Episode 478/500 | Ep. Total Reward: 20.0 | Epsilon : 0.100 | Eval Rwd Mean: 21.33 | Eval Rwd Var: 8.22\n",
            "Episode 479/500 | Ep. Total Reward: 23.0 | Epsilon : 0.100 | Eval Rwd Mean: 20.00 | Eval Rwd Var: 14.00\n",
            "Episode 480/500 | Ep. Total Reward: 24.0 | Epsilon : 0.100 | Eval Rwd Mean: 19.67 | Eval Rwd Var: 1.56\n",
            "Episode 481/500 | Ep. Total Reward: 17.0 | Epsilon : 0.100 | Eval Rwd Mean: 17.67 | Eval Rwd Var: 0.22\n",
            "Episode 482/500 | Ep. Total Reward: 20.0 | Epsilon : 0.100 | Eval Rwd Mean: 18.67 | Eval Rwd Var: 0.89\n",
            "Episode 483/500 | Ep. Total Reward: 18.0 | Epsilon : 0.100 | Eval Rwd Mean: 20.33 | Eval Rwd Var: 2.89\n",
            "Episode 484/500 | Ep. Total Reward: 16.0 | Epsilon : 0.100 | Eval Rwd Mean: 23.67 | Eval Rwd Var: 4.22\n",
            "Episode 485/500 | Ep. Total Reward: 21.0 | Epsilon : 0.100 | Eval Rwd Mean: 18.33 | Eval Rwd Var: 4.22\n",
            "Episode 486/500 | Ep. Total Reward: 20.0 | Epsilon : 0.100 | Eval Rwd Mean: 18.00 | Eval Rwd Var: 2.67\n",
            "Episode 487/500 | Ep. Total Reward: 16.0 | Epsilon : 0.100 | Eval Rwd Mean: 19.00 | Eval Rwd Var: 4.67\n",
            "Episode 488/500 | Ep. Total Reward: 18.0 | Epsilon : 0.100 | Eval Rwd Mean: 20.00 | Eval Rwd Var: 8.00\n",
            "Episode 489/500 | Ep. Total Reward: 22.0 | Epsilon : 0.100 | Eval Rwd Mean: 18.67 | Eval Rwd Var: 9.56\n",
            "Episode 490/500 | Ep. Total Reward: 22.0 | Epsilon : 0.100 | Eval Rwd Mean: 16.00 | Eval Rwd Var: 0.00\n",
            "Episode 491/500 | Ep. Total Reward: 16.0 | Epsilon : 0.100 | Eval Rwd Mean: 18.00 | Eval Rwd Var: 2.67\n",
            "Episode 492/500 | Ep. Total Reward: 20.0 | Epsilon : 0.100 | Eval Rwd Mean: 20.67 | Eval Rwd Var: 0.22\n",
            "Episode 493/500 | Ep. Total Reward: 19.0 | Epsilon : 0.100 | Eval Rwd Mean: 16.67 | Eval Rwd Var: 0.89\n",
            "Episode 494/500 | Ep. Total Reward: 17.0 | Epsilon : 0.100 | Eval Rwd Mean: 18.67 | Eval Rwd Var: 6.22\n",
            "Episode 495/500 | Ep. Total Reward: 20.0 | Epsilon : 0.100 | Eval Rwd Mean: 17.67 | Eval Rwd Var: 1.56\n",
            "Episode 496/500 | Ep. Total Reward: 19.0 | Epsilon : 0.100 | Eval Rwd Mean: 19.33 | Eval Rwd Var: 11.56\n",
            "Episode 497/500 | Ep. Total Reward: 28.0 | Epsilon : 0.100 | Eval Rwd Mean: 22.33 | Eval Rwd Var: 2.89\n",
            "Episode 498/500 | Ep. Total Reward: 20.0 | Epsilon : 0.100 | Eval Rwd Mean: 19.00 | Eval Rwd Var: 8.67\n",
            "Episode 499/500 | Ep. Total Reward: 24.0 | Epsilon : 0.100 | Eval Rwd Mean: 16.67 | Eval Rwd Var: 3.56\n",
            "Episode 500/500 | Ep. Total Reward: 22.0 | Epsilon : 0.100 | Eval Rwd Mean: 21.67 | Eval Rwd Var: 4.22\n",
            "Training time: 37.5560 seconds per episode\n"
          ]
        }
      ]
    },
    {
      "cell_type": "code",
      "source": [
        "# Write code to plot\n",
        "# 1) Moving Averaged Training Reward, 2) Evaluation Mean, 3) Evaluation Variance\n",
        "# [Write Code]\n",
        "\n",
        "plot_smoothed_training_rwd(alt_eval_reward_mean_lst)\n",
        "\n",
        "plot_eval_rwd_mean(alt_eval_reward_mean_lst)\n",
        "\n",
        "plot_eval_rwd_var(alt_eval_reward_var_lst)"
      ],
      "metadata": {
        "colab": {
          "base_uri": "https://localhost:8080/",
          "height": 1000
        },
        "id": "wXCrGTHydncm",
        "outputId": "c75fb6aa-f8ff-4840-9199-e5372f2fb18c"
      },
      "execution_count": 22,
      "outputs": [
        {
          "output_type": "display_data",
          "data": {
            "text/plain": [
              "<Figure size 640x480 with 1 Axes>"
            ],
            "image/png": "[encoded data removed]"
          },
          "metadata": {}
        },
        {
          "output_type": "display_data",
          "data": {
            "text/plain": [
              "<Figure size 640x480 with 1 Axes>"
            ],
            "image/png": "[encoded data removed]"
          },
          "metadata": {}
        },
        {
          "output_type": "display_data",
          "data": {
            "text/plain": [
              "<Figure size 640x480 with 1 Axes>"
            ],
            "image/png": "[encoded data removed]"
          },
          "metadata": {}
        }
      ]
    },
    {
      "cell_type": "markdown",
      "source": [
        "## Comparison\n",
        "\n",
        "Compare performance of the Baseline and the Alternative Naive Q-Network Policies"
      ],
      "metadata": {
        "id": "Lg9kBHn2slYF"
      }
    },
    {
      "cell_type": "code",
      "source": [
        "# [Write Code]"
      ],
      "metadata": {
        "id": "E6DiE3YRsm2k"
      },
      "execution_count": null,
      "outputs": []
    },
    {
      "cell_type": "markdown",
      "metadata": {
        "id": "dhgXEg3097Ud"
      },
      "source": [
        "# Experience Replay Framework\n",
        "\n",
        "By now, you may have noticed that in a standard RL setup, the agent **only learns from its most recent experience** at each step. This makes training unstable and inefficient. Additionally, consecutive experiences are often highly correlated, which can lead to poor generalization.\n",
        "\n",
        "To address this, we will adopt the **Experience Replay Framework**, where past interactions are stored in a **Replay Buffer** and **a randomly sampled batch** is used to update the decision-making policy. This helps to:\n",
        "\n",
        "- **Break correlation** between consecutive experiences, stabilizing learning.\n",
        "- **Improve data efficiency** by reusing past experiences multiple times.\n",
        "- **Smooth training updates**, preventing abrupt policy changes.\n",
        "\n",
        "The figure below illustrates this process:\n",
        "\n",
        "<img src=\"https://drive.google.com/uc?export=view&id=1S3Z6Ngpzwz3haycLS-rzx-eBe9QT88MJ\" width=\"400\">\n",
        "\n",
        "- The Agent interacts with the Environment, taking actions based on its learned policy.\n",
        "- The Replay Buffer stores past experiences `(state, action, reward, next state, done)`.\n",
        "- Instead of updating after every step, the agent samples from the buffer and learns from past interactions.\n",
        "\n",
        "This framework is used in naive DQN, DQN and DDQN to stabilize Q-learning.\n",
        "\n"
      ]
    },
    {
      "cell_type": "markdown",
      "source": [
        "## Implement Replay Buffer and Functions"
      ],
      "metadata": {
        "id": "CkfcXDjNriXH"
      }
    },
    {
      "cell_type": "code",
      "source": [
        "# Store (state, action, reward, next_state, done)\n",
        "def store_experience(replay_buffer, state, action, reward, next_stat, done):\n",
        "        replay_buffer.append((state, action, reward, next_state, done))\n",
        "\n",
        "# Sample (state, action, reward, next_state, done) mini-batch for training\n",
        "def sample_experience(replay_buffer, batch_size):\n",
        "\n",
        "    # Ensure we have enough samples\n",
        "    assert len(replay_buffer) >= batch_size, (\n",
        "        f\"Not enough samples in buffer to sample {batch_size} items.\")\n",
        "\n",
        "    # Sample a mini-batch\n",
        "    minibatch = random.sample(replay_buffer, batch_size)\n",
        "\n",
        "    states, actions, rewards, next_states, dones = zip(*minibatch)\n",
        "\n",
        "    states = np.array(states, dtype=np.float32).squeeze()\n",
        "    next_states = np.array(next_states, dtype=np.float32).squeeze()\n",
        "    actions = np.array(actions, dtype=np.int32)\n",
        "    rewards = np.array(rewards, dtype=np.float32)\n",
        "    dones = np.array(dones, dtype=np.float32)\n",
        "\n",
        "    return states, actions, rewards, next_states, dones\n",
        "\n",
        "# [Hint] You may find the following statements useful\n",
        "\"\"\"\n",
        "# Define replay buffer\n",
        "replay_buffer = deque(maxlen=10000)\n",
        "\n",
        "# Store experience tuple into replay_buffer\n",
        "store_experience(replay_buffer, state, action, reward, next_state, done)\n",
        "\n",
        "# Sample mini-batch of size ba from replay_buffer\n",
        "states, actions, rewards, next_states, dones = sample_experience(replay_buffer, ba)\n",
        "\"\"\""
      ],
      "metadata": {
        "id": "lJH9KigXsX8Y"
      },
      "execution_count": null,
      "outputs": []
    },
    {
      "cell_type": "markdown",
      "metadata": {
        "id": "OCkBN3gIiLFP"
      },
      "source": [
        "# Naive DQN - Baseline\n",
        "\n",
        "In this section, you will complete the Naive DQN alorithm by implementing the missing components marked as `[WriteCode]`.\n",
        "\n"
      ]
    },
    {
      "cell_type": "markdown",
      "metadata": {
        "id": "tyRVFFdXvFYk"
      },
      "source": [
        "## Define and Compile the Neural Network\n",
        "\n",
        "A single network $Q_\\theta$ (parameterized by $\\theta$) is used to approximate $Q(s,a)$.\n",
        "\n",
        "The target used by Naive DQN is then:\n",
        "\n",
        "$Y^{NaiveQ}_t = R_{t+1} + \\gamma Q_{\\theta}(S_{t+1}, a)$"
      ]
    },
    {
      "cell_type": "code",
      "execution_count": null,
      "metadata": {
        "id": "83PVW-l7DRc6"
      },
      "outputs": [],
      "source": [
        "# Naive DQN Baseline Model\n",
        "from keras.models import Sequential\n",
        "from keras.layers import Dense\n",
        "\n",
        "\n",
        "# [WriteCode] from ... import ...\n",
        "\n",
        "# Define the Q-network\n",
        "model = Sequential()\n",
        "\n",
        "# [WriteCode]\n",
        "# model.add(...\n",
        "\n",
        "# Compile the model\n",
        "# [WriteCode]\n",
        "\n",
        "# Print the model summary\n",
        "# [WriteCode]"
      ]
    },
    {
      "cell_type": "markdown",
      "metadata": {
        "id": "c9X6H46OIExH"
      },
      "source": [
        "## Set Up Env and Train the Policy"
      ]
    },
    {
      "cell_type": "code",
      "execution_count": null,
      "metadata": {
        "id": "wK70zqKbIHWJ"
      },
      "outputs": [],
      "source": [
        "# For logging\n",
        "train_reward_lst = []\n",
        "eval_reward_mean_lst = []\n",
        "eval_reward_var_lst = []\n",
        "\n",
        "# Set up environment\n",
        "env = gym.make(\"CartPole-v1\", render_mode=\"rgb_array\")\n",
        "state_size = env.observation_space.shape[0] # Number of observations (CartPole)\n",
        "action_size = env.action_space.n            # Number of possible actions\n",
        "\n",
        "model_dir = \"naive_dqn_baseline\"  # TensorBoard log directory\n",
        "cb = keras.callbacks.TensorBoard(log_dir = get_run_logdir(model_dir), histogram_freq=1)\n",
        "\n",
        "# For timing training\n",
        "total_training_time = 0\n",
        "\n",
        "# Define replay buffer\n",
        "# [WriteCode]\n",
        "# replay_buffer = ...\n",
        "\n",
        "for ep in range(episode):\n",
        "    state, _ = env.reset()\n",
        "    state = np.reshape(state, [1, state_size])\n",
        "    total_reward = 0\n",
        "\n",
        "    # record start time\n",
        "    start = time.time()\n",
        "\n",
        "    for _ in range(500):\n",
        "        # Interact with the environment with epsilon-greedy policy\n",
        "        if np.random.rand() <= epsilon:\n",
        "            action = np.random.choice(action_size)\n",
        "        else:\n",
        "            q_values = model.predict(state, verbose=0)\n",
        "            action = np.argmax(q_values)\n",
        "\n",
        "        next_state, reward, terminated, truncated, _ = env.step(action)\n",
        "        next_state = np.reshape(next_state, [1, state_size])\n",
        "        done = terminated or truncated\n",
        "\n",
        "        # store experience into replay buffer\n",
        "        # [WriteCode]\n",
        "\n",
        "        state = next_state\n",
        "        total_reward += reward\n",
        "\n",
        "        if done:\n",
        "            break\n",
        "\n",
        "\n",
        "        if len(replay_buffer) >= ba:\n",
        "            # Update policy with mini-batches if replay buffer contains enough samples\n",
        "            # Update policy using Q-Learning update:  Q(s, a) = r + gamma * max Q(s', a')\n",
        "            # [WriteCode]\n",
        "\n",
        "            # Hints:\n",
        "\n",
        "            # 1. Compute target Q-values:\n",
        "            # - If done, Q-target = reward (no future reward)\n",
        "            # - Otherwise, Q-target = reward + gamma * max(Q(next_state, a))\n",
        "\n",
        "            # 2. Predict current Q-values for state\n",
        "            # Update only the Q-value for the taken action\n",
        "\n",
        "            # 3. Fit the model:\n",
        "            # - Inputs: state\n",
        "            # - Targets: updated Q-values (with action Q-value replaced by computed target)\n",
        "\n",
        "            # Update exploration rate\n",
        "            if epsilon > epsilon_min:\n",
        "                epsilon *= epsilon_decay\n",
        "\n",
        "    # record end time and log training time\n",
        "    end = time.time()\n",
        "    total_training_time += end - start\n",
        "\n",
        "    # Evaluation\n",
        "    # [WriteCode]\n",
        "\n",
        "\n",
        "    print(f\"Episode {ep + 1}/{episode} | Ep. Total Reward: {total_reward}\"\n",
        "        f\" | Epsilon : {epsilon:.3f}\"\n",
        "        f\" | Eval Rwd Mean: {eval_reward_mean:.2f}\"\n",
        "        f\" | Eval Rwd Var: {eval_reward_var:.2f}\")\n",
        "\n",
        "    # Log\n",
        "    eval_reward_mean_lst.append(eval_reward_mean)\n",
        "    eval_reward_var_lst.append(eval_reward_var)\n",
        "    train_reward_lst.append(total_reward)\n",
        "\n",
        "    # Early Stopping Condition to avoid overfitting\n",
        "    # If the evaluation reward reaches the specified threshold, stop training early.\n",
        "    # The default threshold is set to 500, but you should adjust this based on observed training performance.\n",
        "    if eval_reward_mean > 500: # [Modify this threshold as needed]\n",
        "        print(f\"Early stopping triggered at Episode {ep + 1}.\")\n",
        "        break\n",
        "\n",
        "# evaluate average training time per episode\n",
        "print(f\"Training time: {total_training_time/episode:.4f} seconds per episode\")\n",
        "\n",
        "env.close()"
      ]
    },
    {
      "cell_type": "markdown",
      "source": [
        "## Plot Results"
      ],
      "metadata": {
        "id": "HMgwUOjQ30iI"
      }
    },
    {
      "cell_type": "code",
      "source": [
        "# Write code to plot\n",
        "# 1) Moving Averaged Training Reward, 2) Evaluation Mean, 3) Evaluation Variance\n",
        "# [Write Code]\n",
        "\n",
        "# plot_smoothed_training_rwd(...\n",
        "\n",
        "# plot_eval_rwd_mean(...\n",
        "\n",
        "# plot_eval_rwd_var(...\n"
      ],
      "metadata": {
        "id": "FcQkJXSl30iI"
      },
      "execution_count": null,
      "outputs": []
    },
    {
      "cell_type": "markdown",
      "metadata": {
        "id": "qsx1mQTZwhNC"
      },
      "source": [
        "# Naive DQN - Alternative\n",
        "You may insert extra cells in the notebook to perform tuning experiments and log results effectively. Use TensorBoard, plots, or tables to visualize the impact of different hyperparameter choices."
      ]
    },
    {
      "cell_type": "code",
      "execution_count": null,
      "metadata": {
        "id": "auXumGG5w7JN"
      },
      "outputs": [],
      "source": [
        "# [Write Code]"
      ]
    },
    {
      "cell_type": "markdown",
      "metadata": {
        "id": "lAiI3y2yw47Q"
      },
      "source": [
        "## Comparison\n",
        "\n",
        "Compare performance of the Baseline and the Alternative Naive DQN Policies"
      ]
    },
    {
      "cell_type": "code",
      "execution_count": null,
      "metadata": {
        "id": "dHIjFgUhw-aR"
      },
      "outputs": [],
      "source": [
        "# [Write Code]"
      ]
    },
    {
      "cell_type": "markdown",
      "metadata": {
        "id": "Iy8REuq6iQah"
      },
      "source": [
        "# DQN\n",
        "\n",
        "In this section, you will complete the DQN algorithm by implementing the missing components marked as `[WriteCode]`.\n"
      ]
    },
    {
      "cell_type": "markdown",
      "metadata": {
        "id": "ZXqZUwXkxYci"
      },
      "source": [
        "## Define and Compile the Neural Networks"
      ]
    },
    {
      "cell_type": "markdown",
      "metadata": {
        "id": "2FvxFyz5hnEP"
      },
      "source": [
        "The standard DQN [https://arxiv.org/abs/1312.5602] approach features a periodically updated target network to stabilize training:\n",
        "\n",
        "- `target_model`: A periodically updated network that stabilizes training. During training, this network is used to compute $Q(S_{t+1}, a)$ for each possible action $a$. This network is not actively trained, but at regular intervals, its weights are copied from `eval_model`. This prevents rapid fluctuations in target Q-values and improves learning stability.\n",
        "\n",
        "- `eval_model`: The online learning network that interacts with the environment. During training, this network is used to compute $Q(S_{t}, a)$ for each possible action $a$. It updates its weights by minimizing the difference between predicted and target Q-values, improving the agent's decision-making over time.\n",
        "\n",
        "The target used by DQN is then:\n",
        "\n",
        "$Y^{Q}_t = R_{t+1} + \\gamma \\max_a Q_{target}(S_{t+1}, a)$\n",
        "\n",
        "In the following section, define `[eval_model]` and `[target_model]` with identical architectures."
      ]
    },
    {
      "cell_type": "code",
      "execution_count": null,
      "metadata": {
        "id": "NYILkt0Gzd5G"
      },
      "outputs": [],
      "source": [
        "# DQN Baseline Model\n",
        "from keras.models import Sequential\n",
        "from keras.layers import Dense\n",
        "\n",
        "\n",
        "# [WriteCode] from ... import ...\n",
        "\n",
        "# Define the eval (online) network\n",
        "eval_model = Sequential()\n",
        "\n",
        "# [WriteCode]\n",
        "# model.add(...\n",
        "\n",
        "# Compile the model\n",
        "# [WriteCode]\n",
        "\n",
        "# Print the model summary\n",
        "# [WriteCode]\n",
        "\n",
        "\n",
        "# Create target_model with the same architecture\n",
        "target_model = Sequential()\n",
        "\n",
        "# [WriteCode]\n",
        "# model.add(...\n",
        "\n",
        "# Skip compiling as target_model will not be trained with .fit()\n",
        "# Instead, weights will be copied from the online model\n",
        "target_model.set_weights(eval_model.get_weights())\n",
        "\n",
        "# Print the model summary\n",
        "# [WriteCode]\n",
        "print(target_model.summary())"
      ]
    },
    {
      "cell_type": "markdown",
      "metadata": {
        "id": "WZfiKQHk_Vjb"
      },
      "source": [
        "## Set Up Env and Train the Policy"
      ]
    },
    {
      "cell_type": "markdown",
      "metadata": {
        "id": "hsudLCVWB1Em"
      },
      "source": [
        "In this section, you will complete the DQN training routine by implementing the missing components marked as `[WriteCode]`.\n",
        "\n",
        "\n"
      ]
    },
    {
      "cell_type": "code",
      "execution_count": null,
      "metadata": {
        "id": "I96clO81hFJ_"
      },
      "outputs": [],
      "source": [
        "# For logging\n",
        "train_reward_lst = []\n",
        "eval_reward_mean_lst = []\n",
        "eval_reward_var_lst = []\n",
        "\n",
        "# Set up environment\n",
        "env = gym.make(\"CartPole-v1\", render_mode=\"rgb_array\")\n",
        "state_size = env.observation_space.shape[0] # Number of observations (CartPole)\n",
        "action_size = env.action_space.n            # Number of possible actions\n",
        "\n",
        "model_dir = \"dqn_baseline\"   # TensorBoard log directory\n",
        "cb = keras.callbacks.TensorBoard(log_dir = get_run_logdir(model_dir), histogram_freq=1)\n",
        "\n",
        "# Train Counter for weight syncing\n",
        "train_counter = 0\n",
        "\n",
        "# For timing training\n",
        "total_training_time = 0\n",
        "\n",
        "# Define replay buffer\n",
        "# replay_buffer = ...\n",
        "\n",
        "for ep in range(episode):\n",
        "    state, _ = env.reset()\n",
        "    state = np.reshape(state, [1, state_size])\n",
        "    total_reward = 0\n",
        "\n",
        "    # record start time\n",
        "    start = time.time()\n",
        "\n",
        "    for _ in range(500):\n",
        "        # Interact with the environment with epsilon-greedy policy\n",
        "        if np.random.rand() <= epsilon:\n",
        "            action = np.random.choice(action_size)\n",
        "        else:\n",
        "            q_values = eval_model.predict(state, verbose=0)\n",
        "            action = np.argmax(q_values)\n",
        "\n",
        "        next_state, reward, terminated, truncated, _ = env.step(action)\n",
        "        next_state = np.reshape(next_state, [1, state_size])\n",
        "        done = terminated or truncated\n",
        "\n",
        "        # store experience into replay buffer\n",
        "        # [WriteCode]\n",
        "\n",
        "        state = next_state\n",
        "        total_reward += reward\n",
        "\n",
        "        if done:\n",
        "            break\n",
        "\n",
        "        if len(replay_buffer) >= ba:\n",
        "            train_counter += 1\n",
        "            # Update policy with mini-batches if replay buffer contains enough samples\n",
        "            # Update policy using Deep Q-Learning update: Q(s, a) = r + gamma * max Q_target(S', a)\n",
        "            # [WriteCode]\n",
        "\n",
        "            # Compute target Q-values:\n",
        "            # - If done, Q-target = reward (no future reward)\n",
        "            # - Otherwise, Q-target = reward + gamma * max(Q_target(next_state, a))\n",
        "\n",
        "            # Predict current Q-values for state using eval_model\n",
        "            # Predict future Q-values using target_model (NOT eval_model)\n",
        "\n",
        "            # Update only the Q-value for the taken action\n",
        "\n",
        "            # Fit the model:\n",
        "            # - Inputs: state\n",
        "            # - Targets: updated Q-values (with action Q-value replaced by computed target)\n",
        "\n",
        "\n",
        "            # Update exploration rate\n",
        "            if epsilon > epsilon_min:\n",
        "                epsilon *= epsilon_decay\n",
        "\n",
        "            # Periodically update the target network\n",
        "            if train_counter % target_update_freq == 0:\n",
        "                target_model.set_weights(eval_model.get_weights())\n",
        "\n",
        "    # record end time and log training time\n",
        "    end = time.time()\n",
        "    total_training_time += end - start\n",
        "\n",
        "    # Evaluation\n",
        "    # [WriteCode]\n",
        "\n",
        "\n",
        "    print(f\"Episode {ep + 1}/{episode} | Ep. Total Reward: {total_reward}\"\n",
        "        f\" | Epsilon : {epsilon:.3f}\"\n",
        "        f\" | Eval Rwd Mean: {eval_reward_mean:.2f}\"\n",
        "        f\" | Eval Rwd Var: {eval_reward_var:.2f}\")\n",
        "\n",
        "    # Log\n",
        "    eval_reward_mean_lst.append(eval_reward_mean)\n",
        "    eval_reward_var_lst.append(eval_reward_var)\n",
        "    train_reward_lst.append(total_reward)\n",
        "\n",
        "    # Early Stopping Condition to avoid overfitting\n",
        "    # If the evaluation reward reaches the specified threshold, stop training early.\n",
        "    # The default threshold is set to 500, but you should adjust this based on observed training performance.\n",
        "    if eval_reward_mean > 500: # [Modify this threshold as needed]\n",
        "        print(f\"Early stopping triggered at Episode {ep + 1}.\")\n",
        "        break\n",
        "\n",
        "# evaluate average training time per episode\n",
        "print(f\"Training time: {total_training_time/episode:.4f} seconds per episode\")\n",
        "\n",
        "env.close()"
      ]
    },
    {
      "cell_type": "markdown",
      "source": [
        "## Plot Results"
      ],
      "metadata": {
        "id": "cWTB-X8Q35lX"
      }
    },
    {
      "cell_type": "code",
      "source": [
        "# Write code to plot\n",
        "# 1) Moving Averaged Training Reward, 2) Evaluation Mean, 3) Evaluation Variance\n",
        "# [Write Code]\n",
        "plot_smoothed_training_rwd(train_reward_lst, window_size=20)\n",
        "plot_eval_rwd_mean(eval_reward_mean_lst)\n",
        "plot_eval_rwd_var(eval_reward_var_lst)"
      ],
      "metadata": {
        "id": "gUC2aelO35lX"
      },
      "execution_count": null,
      "outputs": []
    },
    {
      "cell_type": "markdown",
      "source": [
        "# DQN - Alternative\n",
        "\n",
        "You may insert extra cells in the notebook to perform tuning experiments and log results effectively. Use TensorBoard, plots, or tables to visualize the impact of different hyperparameter choices."
      ],
      "metadata": {
        "id": "aGOFWup5ZiYp"
      }
    },
    {
      "cell_type": "markdown",
      "source": [
        "## Plot Results"
      ],
      "metadata": {
        "id": "eOwN55lA34nm"
      }
    },
    {
      "cell_type": "code",
      "source": [
        "# Write code to plot\n",
        "# 1) Moving Averaged Training Reward, 2) Evaluation Mean, 3) Evaluation Variance\n",
        "# [Write Code]\n",
        "\n",
        "# plot_smoothed_training_rwd(...\n",
        "\n",
        "# plot_eval_rwd_mean(...\n",
        "\n",
        "# plot_eval_rwd_var(..."
      ],
      "metadata": {
        "id": "hf5220Bw34nm"
      },
      "execution_count": null,
      "outputs": []
    },
    {
      "cell_type": "code",
      "source": [
        "# [Write Code]"
      ],
      "metadata": {
        "id": "SvxOyxpPZlfW"
      },
      "execution_count": null,
      "outputs": []
    },
    {
      "cell_type": "markdown",
      "source": [
        "## Comparison\n",
        "\n",
        "Compare performance of the Baseline and the Alternative DQN Policies"
      ],
      "metadata": {
        "id": "0oTzmTnlZlru"
      }
    },
    {
      "cell_type": "code",
      "source": [
        "# [Write Code]"
      ],
      "metadata": {
        "id": "HiMW7bE1Zq2B"
      },
      "execution_count": null,
      "outputs": []
    },
    {
      "cell_type": "markdown",
      "metadata": {
        "id": "4yGOGzD5iRw5"
      },
      "source": [
        "# DDQN"
      ]
    },
    {
      "cell_type": "markdown",
      "source": [
        "## Define and Compile the Neural Networks\n",
        "\n",
        "The Double Deep Q-Network (DDQN) [https://arxiv.org/abs/1509.06461] improves upon standard DQN by reducing overestimation bias in Q-values. DDQN achieves this by decoupling action selection from value estimation using two networks, which is almost identical as DQN:\n",
        "\n",
        "- `target_model`: A periodically updated network that stabilizes training. During training, this network is used to compute $Q(S_{t+1}, a)$ for each possible action $a$. This network is also not trained but synced from `eval_model`. **However, unlike DQN, this network is only used to evaluate the Q-value of the action chosen by `eval_model`, making value updates more stable.**\n",
        "\n",
        "- `eval_model`: The online learning network that interacts with the environment. During training, this network is used to select the best action using $\\arg\\max_a Q(S_{t}, a)$ and updates its weights by minimizing the difference between predicted and target Q-value.\n",
        "\n",
        "The target used by DDQN is then:\n",
        "\n",
        "$Y^{Q}_t = R_{t+1} + \\gamma Q_{target}(S_{t+1}, \\arg \\max_{a} Q_{eval}(S_{t+1}, a))$"
      ],
      "metadata": {
        "id": "-nURxQ5zZwu5"
      }
    },
    {
      "cell_type": "code",
      "source": [
        "# DDQN Baseline Model\n",
        "from keras.models import Sequential\n",
        "from keras.layers import Dense\n",
        "\n",
        "\n",
        "# [WriteCode] from ... import ...\n",
        "\n",
        "# Define the eval (online) network\n",
        "eval_model = Sequential()\n",
        "\n",
        "# [WriteCode]\n",
        "# model.add(...\n",
        "\n",
        "# Compile the model\n",
        "# [WriteCode]\n",
        "\n",
        "# Print the model summary\n",
        "# [WriteCode]\n",
        "\n",
        "\n",
        "\n",
        "# Create target_model with the same architecture\n",
        "target_model = Sequential()\n",
        "\n",
        "# [WriteCode]\n",
        "# model.add(...\n",
        "\n",
        "# Skip compiling as target_model will not be trained with .fit()\n",
        "# Instead, weights will be copied from the online model\n",
        "target_model.set_weights(eval_model.get_weights())\n",
        "\n",
        "# Print the model summary\n",
        "# [WriteCode]"
      ],
      "metadata": {
        "id": "NoH_Tjmz3FBn"
      },
      "execution_count": null,
      "outputs": []
    },
    {
      "cell_type": "markdown",
      "source": [
        "## Set Up Env and Train the Policy"
      ],
      "metadata": {
        "id": "-uZT2NevZzo7"
      }
    },
    {
      "cell_type": "code",
      "source": [
        "# For logging\n",
        "train_reward_lst = []\n",
        "eval_reward_mean_lst = []\n",
        "eval_reward_var_lst = []\n",
        "\n",
        "# Set up environment\n",
        "env = gym.make(\"CartPole-v1\", render_mode=\"rgb_array\")\n",
        "state_size = env.observation_space.shape[0] # Number of observations (CartPole)\n",
        "action_size = env.action_space.n            # Number of possible actions\n",
        "\n",
        "model_dir = \"ddqn_baseline\"  # TensorBoard log directory\n",
        "cb = keras.callbacks.TensorBoard(log_dir = get_run_logdir(model_dir), histogram_freq=1)\n",
        "\n",
        "# Train Counter for weight syncing\n",
        "train_counter = 0\n",
        "\n",
        "# For timing training\n",
        "total_training_time = 0\n",
        "\n",
        "# Define replay buffer\n",
        "# replay_buffer = ...\n",
        "\n",
        "for ep in range(episode):\n",
        "    state, _ = env.reset()\n",
        "    state = np.reshape(state, [1, state_size])\n",
        "    total_reward = 0\n",
        "\n",
        "    # record start time\n",
        "    start = time.time()\n",
        "\n",
        "    for _ in range(500):\n",
        "\n",
        "        # Interact with the environment with epsilon-greedy policy\n",
        "        if np.random.rand() <= epsilon:\n",
        "            action = np.random.choice(action_size)\n",
        "        else:\n",
        "            q_values = eval_model.predict(state, verbose=0)\n",
        "            action = np.argmax(q_values)\n",
        "\n",
        "        next_state, reward, terminated, truncated, _ = env.step(action)\n",
        "        next_state = np.reshape(next_state, [1, state_size])\n",
        "        done = terminated or truncated\n",
        "\n",
        "        # store experience into replay buffer\n",
        "        # [WriteCode]\n",
        "\n",
        "        state = next_state\n",
        "        total_reward += reward\n",
        "\n",
        "        if done:\n",
        "            break\n",
        "\n",
        "        if len(replay_buffer) >= ba:\n",
        "            train_counter += 1\n",
        "            # Update policy with mini-batches if replay buffer contains enough samples\n",
        "            # Update policy using Double Deep Q-Learning update:\n",
        "            # Q(s, a) = r + gamma * Q_target(S', argmax Q_eval(S', a))\n",
        "            # [WriteCode]\n",
        "\n",
        "            # Compute target Q-values:\n",
        "            # - If done, Q-target = reward (no future reward)\n",
        "            # - Otherwise, Q-target = reward + gamma * Q_target(S', argmax Q_eval(S', a))\n",
        "\n",
        "            # Predict current Q-values for state using eval_model\n",
        "            # Use eval_model to determine best action in next_state\n",
        "            # Use target_model to compute Q-value for that action\n",
        "\n",
        "            # Update only the Q-value for the taken action\n",
        "\n",
        "            # Fit the model:\n",
        "            # - Inputs: state\n",
        "            # - Targets: updated Q-values (with action Q-value replaced by computed target)\n",
        "\n",
        "\n",
        "            # Update exploration rate\n",
        "            if epsilon > epsilon_min:\n",
        "                epsilon *= epsilon_decay\n",
        "\n",
        "            # Periodically update the target network\n",
        "            if train_counter % target_update_freq == 0:\n",
        "                target_model.set_weights(eval_model.get_weights())\n",
        "\n",
        "    # record end time and log training time\n",
        "    end = time.time()\n",
        "    total_training_time += end - start\n",
        "\n",
        "    # Evaluation\n",
        "    # [WriteCode]\n",
        "\n",
        "\n",
        "    print(f\"Episode {ep + 1}/{episode} | Ep. Total Reward: {total_reward}\"\n",
        "        f\" | Epsilon : {epsilon:.3f}\"\n",
        "        f\" | Eval Rwd Mean: {eval_reward_mean:.2f}\"\n",
        "        f\" | Eval Rwd Var: {eval_reward_var:.2f}\")\n",
        "\n",
        "    # Log\n",
        "    eval_reward_mean_lst.append(eval_reward_mean)\n",
        "    eval_reward_var_lst.append(eval_reward_var)\n",
        "    train_reward_lst.append(total_reward)\n",
        "\n",
        "    # Early Stopping Condition to avoid overfitting\n",
        "    # If the evaluation reward reaches the specified threshold, stop training early.\n",
        "    # The default threshold is set to 500, but you should adjust this based on observed training performance.\n",
        "    if eval_reward_mean > 500: # [Modify this threshold as needed]\n",
        "        print(f\"Early stopping triggered at Episode {ep + 1}.\")\n",
        "        break\n",
        "\n",
        "# record end time and calculate average training time per episode\n",
        "# evaluate average training time per episode\n",
        "print(f\"Training time: {total_training_time/episode:.4f} seconds per episode\")\n",
        "\n",
        "env.close()"
      ],
      "metadata": {
        "id": "4U9ntMqg3TH7"
      },
      "execution_count": null,
      "outputs": []
    },
    {
      "cell_type": "markdown",
      "source": [
        "## Plot Results"
      ],
      "metadata": {
        "id": "oKfbQWJq363X"
      }
    },
    {
      "cell_type": "code",
      "source": [
        "# Write code to plot\n",
        "# 1) Moving Averaged Training Reward, 2) Evaluation Mean, 3) Evaluation Variance\n",
        "# [Write Code]\n",
        "\n",
        "# plot_smoothed_training_rwd(...\n",
        "\n",
        "# plot_eval_rwd_mean(...\n",
        "\n",
        "# plot_eval_rwd_var(..."
      ],
      "metadata": {
        "id": "L7qIOwiX363Y"
      },
      "execution_count": null,
      "outputs": []
    },
    {
      "cell_type": "markdown",
      "source": [
        "# DDQN - Alternative\n",
        "\n",
        "You may insert extra cells in the notebook to perform tuning experiments and log results effectively. Use TensorBoard, plots, or tables to visualize the impact of different hyperparameter choices."
      ],
      "metadata": {
        "id": "YgVEqsvQHsiD"
      }
    },
    {
      "cell_type": "code",
      "source": [
        "# [Write Code]"
      ],
      "metadata": {
        "id": "0xno9cGCHrx5"
      },
      "execution_count": null,
      "outputs": []
    },
    {
      "cell_type": "markdown",
      "source": [
        "## Comparison\n",
        "\n",
        "Compare performance of the Baseline and the Alternative DDQN Policies"
      ],
      "metadata": {
        "id": "5MBGp2LfHxDr"
      }
    },
    {
      "cell_type": "code",
      "source": [
        "# [Write Code]"
      ],
      "metadata": {
        "id": "3NDTwhmwH3Lk"
      },
      "execution_count": null,
      "outputs": []
    },
    {
      "cell_type": "markdown",
      "source": [
        "# Visualize with Tensorboard"
      ],
      "metadata": {
        "id": "VUo4vcwQnbWV"
      }
    },
    {
      "cell_type": "code",
      "source": [
        "%load_ext tensorboard\n",
        "%tensorboard --logdir=./ee4802_logs --port=6006"
      ],
      "metadata": {
        "id": "ZcIJ3DQc3-Jw"
      },
      "execution_count": null,
      "outputs": []
    },
    {
      "cell_type": "markdown",
      "source": [
        "# Comparison Across Four Alternative Policies\n",
        "\n",
        "Compare hyperparameters and performance of the four alternative policies.\n",
        "\n",
        "You may insert extra cells in the notebook to tabulate/plot/log results effectively."
      ],
      "metadata": {
        "id": "l-insiT7D_lq"
      }
    },
    {
      "cell_type": "code",
      "source": [
        "# [Write Code]"
      ],
      "metadata": {
        "id": "SjQwsaxSE5Jh"
      },
      "execution_count": null,
      "outputs": []
    }
  ],
  "metadata": {
    "colab": {
      "provenance": [],
      "include_colab_link": true
    },
    "kernelspec": {
      "display_name": "Python 3",
      "name": "python3"
    },
    "language_info": {
      "name": "python"
    }
  },
  "nbformat": 4,
  "nbformat_minor": 0
}