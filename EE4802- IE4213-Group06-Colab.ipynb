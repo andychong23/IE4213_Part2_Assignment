{
  "cells": [
    {
      "cell_type": "markdown",
      "metadata": {
        "colab_type": "text",
        "id": "view-in-github"
      },
      "source": [
        "<a href=\"https://colab.research.google.com/github/andychong23/IE4213_Part2_Assignment/blob/feature%2Fandy%2FQ1/IE4213_Assgn2_skeleton.ipynb\" target=\"_parent\"><img src=\"https://colab.research.google.com/assets/colab-badge.svg\" alt=\"Open In Colab\"/></a>"
      ]
    },
    {
      "cell_type": "code",
      "execution_count": 1,
      "metadata": {
        "colab": {
          "base_uri": "https://localhost:8080/",
          "height": 106
        },
        "id": "gBUF2HJd1fVT",
        "outputId": "cedce019-fa2b-42dc-ba52-cb7fb7f86461"
      },
      "outputs": [],
      "source": [
        "Student_1 = 'Andy Chong Weikang' #@param {type:\"string\"}  Name of student 1\n",
        "Student_2 = 'Yin Li' #@param {type:\"string\"}  Name of student 2\n",
        "Student_3 = 'Liu Ya' #@param {type:\"string\"}  Name of student 3/'\n",
        "Student_4 = 'Zhang Xiao' #@param {type:\"string\"}  Name of student 4"
      ]
    },
    {
      "cell_type": "markdown",
      "metadata": {
        "id": "9PhWOSD2hLUM"
      },
      "source": [
        "# Overvew\n",
        "\n",
        "This is the skeleton code file for the EE4802/IE4213 assignment. Replace the `XX`. in the name of this Colab notebook with your group number (this is important for correct marks to be awarded to your group). Fill in the blank cells below with the necessary code (you should work on this Colab notebook section by section). At the end, the entire Colab notebook should generate all the required results and execute without error.\n",
        "\n",
        "The text above the blank cells provides information on the functionality that needs to be implemented. You need to write Python code at places indicated by `[WriteCode]`"
      ]
    },
    {
      "cell_type": "markdown",
      "metadata": {
        "id": "jXckzF3Fhd4p"
      },
      "source": [
        "## Install and Import Libraries"
      ]
    },
    {
      "cell_type": "code",
      "execution_count": 2,
      "metadata": {
        "id": "19JbK59PhbuE"
      },
      "outputs": [],
      "source": [
        "%%capture\n",
        "# %%capture hides the output\n",
        "# install visulization tool\n",
        "# !pip install renderlab\n",
        "# !pip install moviepy==1.0.3"
      ]
    },
    {
      "cell_type": "code",
      "execution_count": 2,
      "metadata": {},
      "outputs": [
        {
          "name": "stdout",
          "output_type": "stream",
          "text": [
            "Python 3.10.16\n"
          ]
        }
      ],
      "source": [
        "!python --version"
      ]
    },
    {
      "cell_type": "code",
      "execution_count": 2,
      "metadata": {
        "colab": {
          "base_uri": "https://localhost:8080/"
        },
        "id": "E669iRUFhn9J",
        "outputId": "97caa0bb-54b7-45ad-eae2-050bfeb8a42c"
      },
      "outputs": [],
      "source": [
        "import tensorflow as tf\n",
        "from tensorflow import keras\n",
        "assert tf.__version__ >= \"2.0\"\n",
        "\n",
        "import os\n",
        "import time\n",
        "import numpy as np\n",
        "import random\n",
        "from collections import deque\n",
        "\n",
        "import gymnasium as gym\n",
        "# import renderlab as rl"
      ]
    },
    {
      "cell_type": "code",
      "execution_count": 4,
      "metadata": {},
      "outputs": [],
      "source": [
        "%load_ext tensorboard"
      ]
    },
    {
      "cell_type": "markdown",
      "metadata": {
        "id": "9d3w4FRMS36_"
      },
      "source": [
        "# Background"
      ]
    },
    {
      "cell_type": "markdown",
      "metadata": {
        "id": "L8RD1Ggwcqg1"
      },
      "source": [
        "## Environment Exploration: Cart-Pole\n",
        "\n",
        "The **Cart-Pole environment** is a classic reinforcement learning problem where a pole is attached by an un-actuated joint to a cart. The cart moves along a frictionless track, and the goal is to balance the pole upright by applying forces to move the cart left or right.\n",
        "\n",
        "<img src=\"https://gymnasium.farama.org/_images/cart_pole.gif\" width=\"400\">\n",
        "\n",
        "Below is a breakdown of the base Cart-Pole environment:\n"
      ]
    },
    {
      "cell_type": "markdown",
      "metadata": {
        "id": "geWhWkTJRu5w"
      },
      "source": [
        "#### - **Observation Space (*s*)**\n",
        "The observation is represented as a `ndarray` of shape `(4,)`, corresponding to:\n",
        "- **Cart Position**: Horizontal location of the cart.\n",
        "- **Cart Velocity**: Speed of the cart along the track.\n",
        "- **Pole Angle**: Angular position of the pole relative to vertical.\n",
        "- **Pole Angular Velocity**: Speed at which the pole angle changes.\n",
        "\n",
        "The observations are initialized with uniformly random values in the range `(-0.05, 0.05)`.\n"
      ]
    },
    {
      "cell_type": "markdown",
      "metadata": {
        "id": "8r3befVJR4SJ"
      },
      "source": [
        "#### - **Action Space (*a*)**\n",
        "The action is a discrete value (`0` or `1`) indicating the direction of the force applied to the cart:\n",
        "- `0`: Push the cart to the left.\n",
        "- `1`: Push the cart to the right.\n"
      ]
    },
    {
      "cell_type": "markdown",
      "metadata": {
        "id": "BfanxRL4R5jO"
      },
      "source": [
        "\n",
        "#### - **Reward Function (*r*)**\n",
        "The agent receives a reward of `+1` for each time step it successfully keeps the pole upright. The maximum achievable reward in a single episode is `500`."
      ]
    },
    {
      "cell_type": "markdown",
      "metadata": {
        "id": "spv7Ul4CR7SN"
      },
      "source": [
        "#### - **Episode Termination (*isDone*)**\n",
        "An episode ends if any of the following conditions occur:\n",
        "1. **Pole Angle** exceeds `±12°`.\n",
        "2. **Cart Position** exceeds `±2.4` (the cart reaches the edge of the track).\n",
        "3. **Truncation**: The episode reaches the maximum length of `500 steps`."
      ]
    },
    {
      "cell_type": "markdown",
      "metadata": {
        "id": "pD50TBeLif6F"
      },
      "source": [
        "## Getting Familiar with Basic Gym Usage\n",
        "\n",
        "Let's observe how to interact with a Gym environment."
      ]
    },
    {
      "cell_type": "markdown",
      "metadata": {
        "id": "kkeWe780XZVv"
      },
      "source": [
        "The classic “agent-environment loop” pictured below is a simplified representation of reinforcement learning that Gymnasium implements.\n",
        "\n",
        "<img src=\"https://drive.google.com/uc?export=view&id=1feMbDMTfOFTBtj2PAZz-kMjSQKVukEm6\" width=\"250\">\n",
        "\n",
        "\n",
        "The following section represents a simple episode of this loop, we will:\n",
        "\n",
        "1. Import the base Cart-Pole environment from the gym library and explore its functionality.\n",
        "\n",
        "2. Apply modifications to make the environment more challenging by adjusting the pole's dynamics and introducing stochastic forces.\n",
        "\n",
        "3. Sample random actions to control the cart-pole and visualize the process using `renderlab`.\n",
        "\n",
        "These steps will help us understand how the environment behaves under different conditions and prepare us for implementing reinforcement learning agents in later sections.\n",
        "\n"
      ]
    },
    {
      "cell_type": "code",
      "execution_count": 6,
      "metadata": {
        "colab": {
          "base_uri": "https://localhost:8080/",
          "height": 873
        },
        "id": "x2PMYpIKXtWv",
        "outputId": "80bda351-3d63-4102-9180-bb6b47e5a120"
      },
      "outputs": [
        {
          "name": "stdout",
          "output_type": "stream",
          "text": [
            "\n",
            "--- Exploring the Base Environment ---\n",
            "Initial Observation: [0.01254153 0.01532862 0.04032419 0.02983848]\n",
            "Action Space: Discrete(2)\n",
            "Observation Space: Box([-4.8               -inf -0.41887903        -inf], [4.8               inf 0.41887903        inf], (4,), float32)\n",
            "\n",
            "--- Sampling Random Actions and Visualizing ---\n"
          ]
        },
        {
          "ename": "NameError",
          "evalue": "name 'rl' is not defined",
          "output_type": "error",
          "traceback": [
            "\u001b[1;31m---------------------------------------------------------------------------\u001b[0m",
            "\u001b[1;31mNameError\u001b[0m                                 Traceback (most recent call last)",
            "Cell \u001b[1;32mIn[6], line 16\u001b[0m\n\u001b[0;32m     14\u001b[0m \u001b[38;5;66;03m# Sample Random Actions and Visualize\u001b[39;00m\n\u001b[0;32m     15\u001b[0m \u001b[38;5;28mprint\u001b[39m(\u001b[38;5;124m\"\u001b[39m\u001b[38;5;130;01m\\n\u001b[39;00m\u001b[38;5;124m--- Sampling Random Actions and Visualizing ---\u001b[39m\u001b[38;5;124m\"\u001b[39m)\n\u001b[1;32m---> 16\u001b[0m env \u001b[38;5;241m=\u001b[39m \u001b[43mrl\u001b[49m\u001b[38;5;241m.\u001b[39mRenderFrame(env, \u001b[38;5;124m\"\u001b[39m\u001b[38;5;124m./output\u001b[39m\u001b[38;5;124m\"\u001b[39m)\n\u001b[0;32m     17\u001b[0m observation, info \u001b[38;5;241m=\u001b[39m env\u001b[38;5;241m.\u001b[39mreset()\n\u001b[0;32m     18\u001b[0m isDone \u001b[38;5;241m=\u001b[39m \u001b[38;5;28;01mFalse\u001b[39;00m\n",
            "\u001b[1;31mNameError\u001b[0m: name 'rl' is not defined"
          ]
        }
      ],
      "source": [
        "import warnings\n",
        "warnings.filterwarnings('ignore')\n",
        "\n",
        "# Import and Explore the Environment\n",
        "print(\"\\n--- Exploring the Base Environment ---\")\n",
        "env = gym.make(\"CartPole-v1\", render_mode=\"rgb_array\")\n",
        "observation, info = env.reset()\n",
        "\n",
        "# Print information about the environment\n",
        "print(f\"Initial Observation: {observation}\")\n",
        "print(f\"Action Space: {env.action_space}\")  # Discrete actions: 0 (left), 1 (right)\n",
        "print(f\"Observation Space: {env.observation_space}\")  # State variables: cart position, etc.\n",
        "\n",
        "# Sample Random Actions and Visualize\n",
        "print(\"\\n--- Sampling Random Actions and Visualizing ---\")\n",
        "env = rl.RenderFrame(env, \"./output\")\n",
        "observation, info = env.reset()\n",
        "isDone = False\n",
        "\n",
        "# Simulate an episode with random actions\n",
        "while not isDone:\n",
        "    action = env.action_space.sample()  # Take random action\n",
        "    observation, reward, terminated, truncated, info = env.step(action)\n",
        "    print(observation, reward, terminated, truncated, info)\n",
        "    isDone = terminated or truncated\n",
        "\n",
        "env.close()\n",
        "env.play()  # Play the recorded video"
      ]
    },
    {
      "cell_type": "markdown",
      "metadata": {
        "id": "s9wjDE0kfFJd"
      },
      "source": [
        "# Define Helper Functions"
      ]
    },
    {
      "cell_type": "markdown",
      "metadata": {
        "id": "B0UFVPRylCdv"
      },
      "source": [
        "## Plotting Functions"
      ]
    },
    {
      "cell_type": "code",
      "execution_count": 13,
      "metadata": {
        "id": "vsmmRtAVlUz_"
      },
      "outputs": [],
      "source": [
        "# Some plotting functions\n",
        "import matplotlib.pyplot as plt\n",
        "\n",
        "def plot_eval_rwd_mean(eval_mean_list):\n",
        "  \"\"\"Plot evaluation reward mean.\"\"\"\n",
        "  # [WriteCode]\n",
        "  plt.plot(np.array([i for i in range(len(eval_mean_list))]), eval_mean_list)\n",
        "  plt.title(\"Evaluation Reward Mean\")\n",
        "  plt.xlabel(\"Episodes\")\n",
        "  plt.ylabel(\"Reward Mean\")\n",
        "  plt.show()\n",
        "\n",
        "\n",
        "\n",
        "def plot_eval_rwd_var(eval_var_list):\n",
        "  \"\"\"Plot evaluation reward variance.\"\"\"\n",
        "  # [WriteCode]\n",
        "  plt.plot(np.array([i for i in range(len(eval_var_list))]), eval_var_list)\n",
        "  plt.title(\"Evaluation Reward Varaince\")\n",
        "  plt.xlabel(\"Episodes\")\n",
        "  plt.ylabel(\"Reward Variance\")\n",
        "  plt.show()\n",
        "\n",
        "\n",
        "\n",
        "def plot_smoothed_training_rwd(train_rwd_list, window_size=20):\n",
        "  \"\"\"Plot smoothed training rewards using a moving average.\"\"\"\n",
        "  y_output = []\n",
        "  x_output = []\n",
        "  # [WriteCode]\n",
        "  for idx in range(len(train_rwd_list) - window_size):\n",
        "    current_window = train_rwd_list[idx:idx + window_size]\n",
        "    y_output.append(sum(current_window) / window_size)\n",
        "    x_output.append(idx)\n",
        "  plt.plot(x_output, y_output)\n",
        "  plt.title(\"Smoothed Training Rewards\")\n",
        "  plt.xlabel(\"Episodes\")\n",
        "  plt.ylabel(\"Average training rewards\")\n",
        "  plt.show()\n",
        "  \n",
        "def plot_evaluation_metrics(base_eval_mean, base_eval_var, alt_eval_mean, alt_eval_var, iterations):\n",
        "  plt.figure(figsize=(8,10))\n",
        "  plt.subplot(2, 1, 1)\n",
        "  plt.plot([i for i in range(iterations)], base_eval_mean, label=\"base_eval_mean\", color=\"blue\")\n",
        "  plt.plot([i for i in range(iterations)], alt_eval_mean, label=\"alt_eval_mean\", color=\"red\")\n",
        "  plt.xlabel(\"Iterations\")\n",
        "  plt.ylabel(\"Eval mean\")\n",
        "  plt.title(\"Comparison of Eval Reward Mean\")\n",
        "  plt.legend()\n",
        "\n",
        "  plt.subplot(2, 1, 2)\n",
        "  plt.plot([i for i in range(iterations)], base_eval_var, label=\"base_eval_var\", color=\"blue\")\n",
        "  plt.plot([i for i in range(iterations)], alt_eval_var, label=\"alt_eval_var\", color=\"red\")\n",
        "  plt.xlabel(\"Iterations\")\n",
        "  plt.ylabel(\"Eval Var\")\n",
        "  plt.title(\"Comparison of Eval Reward Var\")\n",
        "  plt.legend()\n",
        "\n",
        "  plt.show()\n",
        "  \n",
        "def save_model(train_reward, eval_mean, eval_var, model, model_name):\n",
        "  np.savetxt(f\"{model_name}_train_reward.csv\", train_reward, delimiter=\",\", fmt='%s')\n",
        "  np.savetxt(f\"{model_name}_eval_mean.csv\", eval_mean, delimiter=\",\", fmt='%s')\n",
        "  np.savetxt(f\"{model_name}_eval_var.csv\", eval_var, delimiter=\",\", fmt='%s')\n",
        "  model.save(f\"{model_name}.keras\")\n"
      ]
    },
    {
      "cell_type": "markdown",
      "metadata": {
        "id": "N7hA67eaYkCW"
      },
      "source": [
        "## Evaluation Function\n",
        "\n",
        "Evaluate the learnt policy by running 3 evaluation episodes and computing the average and variance of rewards collected."
      ]
    },
    {
      "cell_type": "code",
      "execution_count": 14,
      "metadata": {
        "id": "kKS1vpSmYjyg"
      },
      "outputs": [],
      "source": [
        "def evaluation(model, max_timesteps=500):\n",
        "    # eval_env = gym.make(\"CartPole-v1\", render_mode=\"rgb_array\")\n",
        "    eval_env = gym.make(\"CartPole-v1\")\n",
        "    state_size = eval_env.observation_space.shape[0] # Number of observations (CartPole)\n",
        "    action_size = eval_env.action_space.n            # Number of possible actions\n",
        "    eval_reward = []\n",
        "\n",
        "    for i in range (3):\n",
        "        round_reward = 0\n",
        "        state, _ = eval_env.reset()\n",
        "        state = np.reshape(state, [1, state_size])\n",
        "\n",
        "        for i in range(max_timesteps):\n",
        "            action = np.argmax(model.predict(state, verbose=0)[0])\n",
        "            next_state, reward, terminated, truncated, _ = eval_env.step(action)\n",
        "            next_state = np.reshape(next_state, [1, state_size])\n",
        "\n",
        "            round_reward += reward\n",
        "            state = next_state\n",
        "\n",
        "            if terminated or truncated:\n",
        "                eval_reward.append(round_reward)\n",
        "                break\n",
        "\n",
        "    eval_env.close()\n",
        "\n",
        "    eval_reward_mean = np.sum(eval_reward)/len(eval_reward)\n",
        "    eval_reward_var = np.var(eval_reward)\n",
        "\n",
        "    return eval_reward_mean, eval_reward_var"
      ]
    },
    {
      "cell_type": "markdown",
      "metadata": {
        "id": "kWS8Kd8eiXau"
      },
      "source": [
        "# Setting up Tensorboard\n"
      ]
    },
    {
      "cell_type": "code",
      "execution_count": 15,
      "metadata": {
        "id": "ADO90Q7Hs-lx"
      },
      "outputs": [],
      "source": [
        "def get_run_logdir(k):\n",
        "    root_logdir = os.path.join(os.curdir, \"ee4802_logs\", k)\n",
        "    run_id = time.strftime(\"run_%Y_%m_%d-%H_%M_%S\")\n",
        "    return os.path.join(root_logdir, run_id)"
      ]
    },
    {
      "cell_type": "markdown",
      "metadata": {
        "id": "B07kopgXtOVU"
      },
      "source": [
        "# Initialize Parameters"
      ]
    },
    {
      "cell_type": "code",
      "execution_count": 13,
      "metadata": {
        "id": "JL9ABa8-vRf3"
      },
      "outputs": [],
      "source": [
        "# Use the following set of NN hyperparameters for ALL FOUR basline policies\n",
        "lr =  0.1        #@param {type:\"number\"}               # learning rate\n",
        "epoch =  32     #@param {type:\"number\"}               # epochs\n",
        "episode = 500  #@param {type:\"number\"}               # episodes\n",
        "\n",
        "epsilon = 0.9           #@param {type:\"number\"}     # Starting exploration rate\n",
        "epsilon_min = 0.1    #@param {type:\"number\"}     # Exploration rate min\n",
        "epsilon_decay = 0.99     #@param {type:\"number\"}     # Exploration rate decay\n",
        "\n",
        "gamma = 0.99          #@param {type:\"number\"}     # Agent discount factor\n",
        "\n",
        "# Use the following set of NN hyperparameters for Naive DQN, DQN and DDQN policies\n",
        "ba =  32       #@param {type:\"number\"}               # batch_size\n",
        "\n",
        "# Use the following set of RL hyperparameters for DQN and DDQN policies\n",
        "target_update_freq = 100 # @param {type:\"number\"}    # Target network update frequency\n"
      ]
    },
    {
      "cell_type": "markdown",
      "metadata": {
        "id": "npUYex5Em46O"
      },
      "source": [
        "# Q-Network - Baseline"
      ]
    },
    {
      "cell_type": "markdown",
      "metadata": {
        "id": "XLr4PDQ7nC5T"
      },
      "source": [
        "## Define and Compile the Neural Network\n",
        "\n",
        "A single network $Q_\\theta$ (parameterized by $\\theta$) is used to approximate $Q(s,a)$.\n",
        "\n",
        "The target used by Naive DQN is then:\n",
        "\n",
        "$Y^{NaiveQ}_t = R_{t+1} + \\gamma Q_{\\theta}(S_{t+1}, a)$\n",
        "\n",
        "The training of Q-Network does rely on a Replay Buffer."
      ]
    },
    {
      "cell_type": "code",
      "execution_count": 3,
      "metadata": {
        "colab": {
          "base_uri": "https://localhost:8080/",
          "height": 238
        },
        "id": "WyXho4UKpH3Q",
        "outputId": "aa068deb-de97-4001-a8a3-55f7d3f9b4fe"
      },
      "outputs": [
        {
          "name": "stdout",
          "output_type": "stream",
          "text": [
            "Model: \"sequential_1\"\n",
            "_________________________________________________________________\n",
            " Layer (type)                Output Shape              Param #   \n",
            "=================================================================\n",
            " dense (Dense)               (None, 32)                160       \n",
            "                                                                 \n",
            " dense_1 (Dense)             (None, 32)                1056      \n",
            "                                                                 \n",
            " dense_2 (Dense)             (None, 2)                 66        \n",
            "                                                                 \n",
            "=================================================================\n",
            "Total params: 1,282\n",
            "Trainable params: 1,282\n",
            "Non-trainable params: 0\n",
            "_________________________________________________________________\n"
          ]
        }
      ],
      "source": [
        "# Q-Network Baseline Model\n",
        "from keras.models import Sequential\n",
        "from keras.layers import Input, Dense\n",
        "from keras.initializers import RandomUniform\n",
        "from keras.activations import tanh\n",
        "\n",
        "# [WriteCode] from ... import ...\n",
        "\n",
        "STATE_SIZE = (4,)\n",
        "ACTION_SIZE = 2\n",
        "LAYER_SIZE = 32\n",
        "SEED = 42\n",
        "\n",
        "# Define the Q-network\n",
        "model = Sequential()\n",
        "\n",
        "# [WriteCode]\n",
        "# model.add(...\n",
        "model.add(Input(shape=STATE_SIZE))\n",
        "\n",
        "initializer = RandomUniform(minval=-0.5, maxval=0.5, seed=42)\n",
        "initializer_1 = RandomUniform(minval=-5, maxval=5, seed=42)\n",
        "model.add(Dense(LAYER_SIZE, activation=tanh, kernel_initializer=initializer))\n",
        "model.add(Dense(LAYER_SIZE, activation=tanh, kernel_initializer=initializer_1))\n",
        "model.add(Dense(ACTION_SIZE))\n",
        "\n",
        "# Compile the model\n",
        "# [WriteCode]\n",
        "model.compile(loss='mse', optimizer='adam')\n",
        "\n",
        "# Print the model summary\n",
        "# [WriteCode]\n",
        "model.summary()"
      ]
    },
    {
      "cell_type": "markdown",
      "metadata": {
        "id": "PunGDA41nK-t"
      },
      "source": [
        "## Set Up Env and Train the Policy"
      ]
    },
    {
      "cell_type": "code",
      "execution_count": null,
      "metadata": {
        "colab": {
          "base_uri": "https://localhost:8080/"
        },
        "id": "-cDAJtaGnCQL",
        "outputId": "44893904-1e3a-47a4-fc50-c078e54e6b65"
      },
      "outputs": [
        {
          "name": "stdout",
          "output_type": "stream",
          "text": [
            "Episode 1/500 | Ep. Total Reward: 9.0 | Epsilon : 0.822 | Eval Rwd Mean: 9.33 | Eval Rwd Var: 0.22\n",
            "Episode 2/500 | Ep. Total Reward: 10.0 | Epsilon : 0.822 | Eval Rwd Mean: 8.67 | Eval Rwd Var: 0.22\n",
            "Episode 3/500 | Ep. Total Reward: 15.0 | Epsilon : 0.822 | Eval Rwd Mean: 9.33 | Eval Rwd Var: 0.22\n",
            "Episode 4/500 | Ep. Total Reward: 22.0 | Epsilon : 0.822 | Eval Rwd Mean: 10.00 | Eval Rwd Var: 0.00\n",
            "Episode 5/500 | Ep. Total Reward: 15.0 | Epsilon : 0.822 | Eval Rwd Mean: 9.67 | Eval Rwd Var: 0.22\n",
            "Episode 6/500 | Ep. Total Reward: 35.0 | Epsilon : 0.822 | Eval Rwd Mean: 16.33 | Eval Rwd Var: 57.56\n",
            "Episode 7/500 | Ep. Total Reward: 15.0 | Epsilon : 0.822 | Eval Rwd Mean: 9.67 | Eval Rwd Var: 0.22\n",
            "Episode 8/500 | Ep. Total Reward: 13.0 | Epsilon : 0.822 | Eval Rwd Mean: 9.67 | Eval Rwd Var: 0.22\n",
            "Episode 9/500 | Ep. Total Reward: 15.0 | Epsilon : 0.822 | Eval Rwd Mean: 11.00 | Eval Rwd Var: 0.67\n",
            "Episode 10/500 | Ep. Total Reward: 67.0 | Epsilon : 0.822 | Eval Rwd Mean: 77.33 | Eval Rwd Var: 102.89\n",
            "Episode 11/500 | Ep. Total Reward: 58.0 | Epsilon : 0.459 | Eval Rwd Mean: 157.67 | Eval Rwd Var: 4714.89\n",
            "Episode 12/500 | Ep. Total Reward: 54.0 | Epsilon : 0.459 | Eval Rwd Mean: 49.33 | Eval Rwd Var: 270.22\n",
            "Episode 13/500 | Ep. Total Reward: 30.0 | Epsilon : 0.459 | Eval Rwd Mean: 43.33 | Eval Rwd Var: 3.56\n",
            "Episode 14/500 | Ep. Total Reward: 37.0 | Epsilon : 0.459 | Eval Rwd Mean: 26.33 | Eval Rwd Var: 6.22\n",
            "Episode 15/500 | Ep. Total Reward: 29.0 | Epsilon : 0.459 | Eval Rwd Mean: 52.67 | Eval Rwd Var: 59.56\n",
            "Episode 16/500 | Ep. Total Reward: 25.0 | Epsilon : 0.459 | Eval Rwd Mean: 9.67 | Eval Rwd Var: 0.22\n",
            "Episode 17/500 | Ep. Total Reward: 9.0 | Epsilon : 0.459 | Eval Rwd Mean: 20.00 | Eval Rwd Var: 32.00\n",
            "Episode 18/500 | Ep. Total Reward: 32.0 | Epsilon : 0.459 | Eval Rwd Mean: 29.00 | Eval Rwd Var: 24.67\n",
            "Episode 19/500 | Ep. Total Reward: 48.0 | Epsilon : 0.459 | Eval Rwd Mean: 26.33 | Eval Rwd Var: 11.56\n",
            "Episode 20/500 | Ep. Total Reward: 28.0 | Epsilon : 0.459 | Eval Rwd Mean: 18.00 | Eval Rwd Var: 2.67\n",
            "Episode 21/500 | Ep. Total Reward: 17.0 | Epsilon : 0.387 | Eval Rwd Mean: 38.67 | Eval Rwd Var: 14.89\n",
            "Episode 22/500 | Ep. Total Reward: 48.0 | Epsilon : 0.387 | Eval Rwd Mean: 53.33 | Eval Rwd Var: 238.89\n",
            "Episode 23/500 | Ep. Total Reward: 47.0 | Epsilon : 0.387 | Eval Rwd Mean: 28.67 | Eval Rwd Var: 20.22\n",
            "Episode 24/500 | Ep. Total Reward: 22.0 | Epsilon : 0.387 | Eval Rwd Mean: 15.33 | Eval Rwd Var: 0.89\n",
            "Episode 25/500 | Ep. Total Reward: 10.0 | Epsilon : 0.387 | Eval Rwd Mean: 44.33 | Eval Rwd Var: 197.56\n",
            "Episode 26/500 | Ep. Total Reward: 62.0 | Epsilon : 0.387 | Eval Rwd Mean: 32.33 | Eval Rwd Var: 3.56\n",
            "Episode 27/500 | Ep. Total Reward: 25.0 | Epsilon : 0.387 | Eval Rwd Mean: 12.33 | Eval Rwd Var: 0.22\n",
            "Episode 28/500 | Ep. Total Reward: 18.0 | Epsilon : 0.387 | Eval Rwd Mean: 51.00 | Eval Rwd Var: 68.67\n",
            "Episode 29/500 | Ep. Total Reward: 50.0 | Epsilon : 0.387 | Eval Rwd Mean: 60.67 | Eval Rwd Var: 626.89\n",
            "Episode 30/500 | Ep. Total Reward: 38.0 | Epsilon : 0.387 | Eval Rwd Mean: 22.00 | Eval Rwd Var: 12.67\n",
            "Episode 31/500 | Ep. Total Reward: 15.0 | Epsilon : 0.333 | Eval Rwd Mean: 16.00 | Eval Rwd Var: 6.00\n",
            "Episode 32/500 | Ep. Total Reward: 32.0 | Epsilon : 0.333 | Eval Rwd Mean: 31.33 | Eval Rwd Var: 5.56\n",
            "Episode 33/500 | Ep. Total Reward: 54.0 | Epsilon : 0.333 | Eval Rwd Mean: 33.33 | Eval Rwd Var: 54.22\n",
            "Episode 34/500 | Ep. Total Reward: 61.0 | Epsilon : 0.333 | Eval Rwd Mean: 78.00 | Eval Rwd Var: 14.00\n",
            "Episode 35/500 | Ep. Total Reward: 40.0 | Epsilon : 0.333 | Eval Rwd Mean: 27.00 | Eval Rwd Var: 0.67\n",
            "Episode 36/500 | Ep. Total Reward: 17.0 | Epsilon : 0.333 | Eval Rwd Mean: 15.67 | Eval Rwd Var: 4.22\n",
            "Episode 37/500 | Ep. Total Reward: 18.0 | Epsilon : 0.333 | Eval Rwd Mean: 16.00 | Eval Rwd Var: 0.67\n",
            "Episode 38/500 | Ep. Total Reward: 17.0 | Epsilon : 0.333 | Eval Rwd Mean: 9.33 | Eval Rwd Var: 0.22\n",
            "Episode 39/500 | Ep. Total Reward: 19.0 | Epsilon : 0.333 | Eval Rwd Mean: 28.00 | Eval Rwd Var: 18.00\n",
            "Episode 40/500 | Ep. Total Reward: 33.0 | Epsilon : 0.333 | Eval Rwd Mean: 134.00 | Eval Rwd Var: 4106.00\n",
            "Episode 41/500 | Ep. Total Reward: 130.0 | Epsilon : 0.100 | Eval Rwd Mean: 68.67 | Eval Rwd Var: 1614.89\n",
            "Episode 42/500 | Ep. Total Reward: 36.0 | Epsilon : 0.100 | Eval Rwd Mean: 23.33 | Eval Rwd Var: 3.56\n",
            "Episode 43/500 | Ep. Total Reward: 36.0 | Epsilon : 0.100 | Eval Rwd Mean: 29.00 | Eval Rwd Var: 32.00\n",
            "Episode 44/500 | Ep. Total Reward: 27.0 | Epsilon : 0.100 | Eval Rwd Mean: 30.67 | Eval Rwd Var: 6.89\n",
            "Episode 45/500 | Ep. Total Reward: 43.0 | Epsilon : 0.100 | Eval Rwd Mean: 35.67 | Eval Rwd Var: 4.22\n",
            "Episode 46/500 | Ep. Total Reward: 28.0 | Epsilon : 0.100 | Eval Rwd Mean: 28.00 | Eval Rwd Var: 48.67\n",
            "Episode 47/500 | Ep. Total Reward: 40.0 | Epsilon : 0.100 | Eval Rwd Mean: 35.67 | Eval Rwd Var: 66.89\n",
            "Episode 48/500 | Ep. Total Reward: 53.0 | Epsilon : 0.100 | Eval Rwd Mean: 110.33 | Eval Rwd Var: 12296.22\n",
            "Episode 49/500 | Ep. Total Reward: 36.0 | Epsilon : 0.100 | Eval Rwd Mean: 107.33 | Eval Rwd Var: 421.56\n",
            "Episode 50/500 | Ep. Total Reward: 134.0 | Epsilon : 0.100 | Eval Rwd Mean: 48.00 | Eval Rwd Var: 508.67\n",
            "Episode 51/500 | Ep. Total Reward: 31.0 | Epsilon : 0.100 | Eval Rwd Mean: 43.00 | Eval Rwd Var: 32.67\n",
            "Episode 52/500 | Ep. Total Reward: 42.0 | Epsilon : 0.100 | Eval Rwd Mean: 27.67 | Eval Rwd Var: 36.22\n",
            "Episode 53/500 | Ep. Total Reward: 45.0 | Epsilon : 0.100 | Eval Rwd Mean: 49.33 | Eval Rwd Var: 124.22\n",
            "Episode 54/500 | Ep. Total Reward: 33.0 | Epsilon : 0.100 | Eval Rwd Mean: 47.00 | Eval Rwd Var: 168.00\n",
            "Episode 55/500 | Ep. Total Reward: 44.0 | Epsilon : 0.100 | Eval Rwd Mean: 32.67 | Eval Rwd Var: 210.89\n",
            "Episode 56/500 | Ep. Total Reward: 21.0 | Epsilon : 0.100 | Eval Rwd Mean: 46.67 | Eval Rwd Var: 155.56\n",
            "Episode 57/500 | Ep. Total Reward: 62.0 | Epsilon : 0.100 | Eval Rwd Mean: 51.00 | Eval Rwd Var: 338.00\n",
            "Episode 58/500 | Ep. Total Reward: 60.0 | Epsilon : 0.100 | Eval Rwd Mean: 39.33 | Eval Rwd Var: 533.56\n",
            "Episode 59/500 | Ep. Total Reward: 20.0 | Epsilon : 0.100 | Eval Rwd Mean: 9.33 | Eval Rwd Var: 0.22\n",
            "Episode 60/500 | Ep. Total Reward: 11.0 | Epsilon : 0.100 | Eval Rwd Mean: 31.67 | Eval Rwd Var: 134.89\n",
            "Episode 61/500 | Ep. Total Reward: 27.0 | Epsilon : 0.100 | Eval Rwd Mean: 41.33 | Eval Rwd Var: 33.56\n",
            "Episode 62/500 | Ep. Total Reward: 77.0 | Epsilon : 0.100 | Eval Rwd Mean: 29.33 | Eval Rwd Var: 22.89\n",
            "Episode 63/500 | Ep. Total Reward: 44.0 | Epsilon : 0.100 | Eval Rwd Mean: 30.33 | Eval Rwd Var: 16.22\n",
            "Episode 64/500 | Ep. Total Reward: 32.0 | Epsilon : 0.100 | Eval Rwd Mean: 43.67 | Eval Rwd Var: 13.56\n",
            "Episode 65/500 | Ep. Total Reward: 26.0 | Epsilon : 0.100 | Eval Rwd Mean: 29.00 | Eval Rwd Var: 50.67\n",
            "Episode 66/500 | Ep. Total Reward: 20.0 | Epsilon : 0.100 | Eval Rwd Mean: 80.00 | Eval Rwd Var: 3200.67\n",
            "Episode 67/500 | Ep. Total Reward: 54.0 | Epsilon : 0.100 | Eval Rwd Mean: 31.67 | Eval Rwd Var: 5.56\n",
            "Episode 68/500 | Ep. Total Reward: 32.0 | Epsilon : 0.100 | Eval Rwd Mean: 83.00 | Eval Rwd Var: 162.67\n",
            "Episode 69/500 | Ep. Total Reward: 62.0 | Epsilon : 0.100 | Eval Rwd Mean: 9.67 | Eval Rwd Var: 0.22\n",
            "Episode 70/500 | Ep. Total Reward: 12.0 | Epsilon : 0.100 | Eval Rwd Mean: 24.00 | Eval Rwd Var: 2.00\n",
            "Episode 71/500 | Ep. Total Reward: 37.0 | Epsilon : 0.100 | Eval Rwd Mean: 50.00 | Eval Rwd Var: 486.00\n",
            "Episode 72/500 | Ep. Total Reward: 41.0 | Epsilon : 0.100 | Eval Rwd Mean: 21.67 | Eval Rwd Var: 6.22\n",
            "Episode 73/500 | Ep. Total Reward: 21.0 | Epsilon : 0.100 | Eval Rwd Mean: 33.67 | Eval Rwd Var: 187.56\n",
            "Episode 74/500 | Ep. Total Reward: 37.0 | Epsilon : 0.100 | Eval Rwd Mean: 21.33 | Eval Rwd Var: 14.89\n",
            "Episode 75/500 | Ep. Total Reward: 30.0 | Epsilon : 0.100 | Eval Rwd Mean: 20.00 | Eval Rwd Var: 18.67\n",
            "Episode 76/500 | Ep. Total Reward: 22.0 | Epsilon : 0.100 | Eval Rwd Mean: 32.67 | Eval Rwd Var: 206.89\n",
            "Episode 77/500 | Ep. Total Reward: 39.0 | Epsilon : 0.100 | Eval Rwd Mean: 25.67 | Eval Rwd Var: 4.22\n",
            "Episode 78/500 | Ep. Total Reward: 21.0 | Epsilon : 0.100 | Eval Rwd Mean: 30.00 | Eval Rwd Var: 60.67\n",
            "Episode 79/500 | Ep. Total Reward: 45.0 | Epsilon : 0.100 | Eval Rwd Mean: 106.33 | Eval Rwd Var: 22.22\n",
            "Episode 80/500 | Ep. Total Reward: 21.0 | Epsilon : 0.100 | Eval Rwd Mean: 38.33 | Eval Rwd Var: 910.89\n",
            "Episode 81/500 | Ep. Total Reward: 18.0 | Epsilon : 0.100 | Eval Rwd Mean: 15.67 | Eval Rwd Var: 1.56\n",
            "Episode 82/500 | Ep. Total Reward: 12.0 | Epsilon : 0.100 | Eval Rwd Mean: 10.67 | Eval Rwd Var: 2.89\n",
            "Episode 83/500 | Ep. Total Reward: 14.0 | Epsilon : 0.100 | Eval Rwd Mean: 9.67 | Eval Rwd Var: 0.22\n",
            "Episode 84/500 | Ep. Total Reward: 10.0 | Epsilon : 0.100 | Eval Rwd Mean: 8.33 | Eval Rwd Var: 0.22\n",
            "Episode 85/500 | Ep. Total Reward: 9.0 | Epsilon : 0.100 | Eval Rwd Mean: 10.67 | Eval Rwd Var: 2.89\n",
            "Episode 86/500 | Ep. Total Reward: 11.0 | Epsilon : 0.100 | Eval Rwd Mean: 10.00 | Eval Rwd Var: 0.67\n",
            "Episode 87/500 | Ep. Total Reward: 13.0 | Epsilon : 0.100 | Eval Rwd Mean: 9.00 | Eval Rwd Var: 0.00\n",
            "Episode 88/500 | Ep. Total Reward: 12.0 | Epsilon : 0.100 | Eval Rwd Mean: 8.33 | Eval Rwd Var: 0.22\n",
            "Episode 89/500 | Ep. Total Reward: 11.0 | Epsilon : 0.100 | Eval Rwd Mean: 12.00 | Eval Rwd Var: 0.67\n",
            "Episode 90/500 | Ep. Total Reward: 10.0 | Epsilon : 0.100 | Eval Rwd Mean: 16.67 | Eval Rwd Var: 1.56\n",
            "Episode 91/500 | Ep. Total Reward: 19.0 | Epsilon : 0.100 | Eval Rwd Mean: 16.00 | Eval Rwd Var: 2.00\n",
            "Episode 92/500 | Ep. Total Reward: 20.0 | Epsilon : 0.100 | Eval Rwd Mean: 23.67 | Eval Rwd Var: 14.89\n",
            "Episode 93/500 | Ep. Total Reward: 21.0 | Epsilon : 0.100 | Eval Rwd Mean: 35.67 | Eval Rwd Var: 141.56\n",
            "Episode 94/500 | Ep. Total Reward: 24.0 | Epsilon : 0.100 | Eval Rwd Mean: 62.67 | Eval Rwd Var: 21.56\n",
            "Episode 95/500 | Ep. Total Reward: 72.0 | Epsilon : 0.100 | Eval Rwd Mean: 9.33 | Eval Rwd Var: 0.89\n",
            "Episode 96/500 | Ep. Total Reward: 10.0 | Epsilon : 0.100 | Eval Rwd Mean: 13.00 | Eval Rwd Var: 0.00\n",
            "Episode 97/500 | Ep. Total Reward: 14.0 | Epsilon : 0.100 | Eval Rwd Mean: 11.00 | Eval Rwd Var: 0.67\n",
            "Episode 98/500 | Ep. Total Reward: 14.0 | Epsilon : 0.100 | Eval Rwd Mean: 9.33 | Eval Rwd Var: 0.22\n",
            "Episode 99/500 | Ep. Total Reward: 9.0 | Epsilon : 0.100 | Eval Rwd Mean: 11.33 | Eval Rwd Var: 1.56\n",
            "Episode 100/500 | Ep. Total Reward: 10.0 | Epsilon : 0.100 | Eval Rwd Mean: 9.67 | Eval Rwd Var: 0.22\n",
            "Episode 101/500 | Ep. Total Reward: 8.0 | Epsilon : 0.100 | Eval Rwd Mean: 11.00 | Eval Rwd Var: 0.67\n",
            "Episode 102/500 | Ep. Total Reward: 10.0 | Epsilon : 0.100 | Eval Rwd Mean: 9.67 | Eval Rwd Var: 0.22\n",
            "Episode 103/500 | Ep. Total Reward: 10.0 | Epsilon : 0.100 | Eval Rwd Mean: 11.33 | Eval Rwd Var: 0.89\n",
            "Episode 104/500 | Ep. Total Reward: 11.0 | Epsilon : 0.100 | Eval Rwd Mean: 9.67 | Eval Rwd Var: 0.22\n",
            "Episode 105/500 | Ep. Total Reward: 10.0 | Epsilon : 0.100 | Eval Rwd Mean: 10.33 | Eval Rwd Var: 0.22\n",
            "Episode 106/500 | Ep. Total Reward: 12.0 | Epsilon : 0.100 | Eval Rwd Mean: 9.33 | Eval Rwd Var: 0.22\n",
            "Episode 107/500 | Ep. Total Reward: 9.0 | Epsilon : 0.100 | Eval Rwd Mean: 12.33 | Eval Rwd Var: 0.22\n",
            "Episode 108/500 | Ep. Total Reward: 14.0 | Epsilon : 0.100 | Eval Rwd Mean: 9.67 | Eval Rwd Var: 1.56\n",
            "Episode 109/500 | Ep. Total Reward: 14.0 | Epsilon : 0.100 | Eval Rwd Mean: 10.00 | Eval Rwd Var: 0.67\n",
            "Episode 110/500 | Ep. Total Reward: 10.0 | Epsilon : 0.100 | Eval Rwd Mean: 9.33 | Eval Rwd Var: 0.22\n",
            "Episode 111/500 | Ep. Total Reward: 13.0 | Epsilon : 0.100 | Eval Rwd Mean: 9.33 | Eval Rwd Var: 0.89\n",
            "Episode 112/500 | Ep. Total Reward: 8.0 | Epsilon : 0.100 | Eval Rwd Mean: 10.00 | Eval Rwd Var: 0.00\n",
            "Episode 113/500 | Ep. Total Reward: 9.0 | Epsilon : 0.100 | Eval Rwd Mean: 13.33 | Eval Rwd Var: 0.22\n",
            "Episode 114/500 | Ep. Total Reward: 13.0 | Epsilon : 0.100 | Eval Rwd Mean: 12.33 | Eval Rwd Var: 0.89\n",
            "Episode 115/500 | Ep. Total Reward: 12.0 | Epsilon : 0.100 | Eval Rwd Mean: 8.67 | Eval Rwd Var: 0.89\n",
            "Episode 116/500 | Ep. Total Reward: 9.0 | Epsilon : 0.100 | Eval Rwd Mean: 18.33 | Eval Rwd Var: 1.56\n",
            "Episode 117/500 | Ep. Total Reward: 23.0 | Epsilon : 0.100 | Eval Rwd Mean: 22.00 | Eval Rwd Var: 0.67\n",
            "Episode 118/500 | Ep. Total Reward: 30.0 | Epsilon : 0.100 | Eval Rwd Mean: 60.67 | Eval Rwd Var: 40.22\n",
            "Episode 119/500 | Ep. Total Reward: 27.0 | Epsilon : 0.100 | Eval Rwd Mean: 28.00 | Eval Rwd Var: 114.00\n",
            "Episode 120/500 | Ep. Total Reward: 16.0 | Epsilon : 0.100 | Eval Rwd Mean: 31.33 | Eval Rwd Var: 149.56\n",
            "Episode 121/500 | Ep. Total Reward: 24.0 | Epsilon : 0.100 | Eval Rwd Mean: 29.67 | Eval Rwd Var: 29.56\n",
            "Episode 122/500 | Ep. Total Reward: 25.0 | Epsilon : 0.100 | Eval Rwd Mean: 27.00 | Eval Rwd Var: 42.00\n",
            "Episode 123/500 | Ep. Total Reward: 25.0 | Epsilon : 0.100 | Eval Rwd Mean: 25.67 | Eval Rwd Var: 9.56\n",
            "Episode 124/500 | Ep. Total Reward: 103.0 | Epsilon : 0.100 | Eval Rwd Mean: 49.33 | Eval Rwd Var: 59.56\n",
            "Episode 125/500 | Ep. Total Reward: 95.0 | Epsilon : 0.100 | Eval Rwd Mean: 20.33 | Eval Rwd Var: 14.89\n",
            "Episode 126/500 | Ep. Total Reward: 31.0 | Epsilon : 0.100 | Eval Rwd Mean: 37.00 | Eval Rwd Var: 0.67\n",
            "Episode 127/500 | Ep. Total Reward: 33.0 | Epsilon : 0.100 | Eval Rwd Mean: 72.00 | Eval Rwd Var: 44.67\n",
            "Episode 128/500 | Ep. Total Reward: 134.0 | Epsilon : 0.100 | Eval Rwd Mean: 27.33 | Eval Rwd Var: 0.89\n",
            "Episode 129/500 | Ep. Total Reward: 60.0 | Epsilon : 0.100 | Eval Rwd Mean: 109.67 | Eval Rwd Var: 4.22\n",
            "Episode 130/500 | Ep. Total Reward: 237.0 | Epsilon : 0.100 | Eval Rwd Mean: 9.00 | Eval Rwd Var: 0.67\n",
            "Episode 131/500 | Ep. Total Reward: 13.0 | Epsilon : 0.100 | Eval Rwd Mean: 25.67 | Eval Rwd Var: 0.22\n",
            "Episode 132/500 | Ep. Total Reward: 29.0 | Epsilon : 0.100 | Eval Rwd Mean: 28.67 | Eval Rwd Var: 29.56\n",
            "Episode 133/500 | Ep. Total Reward: 135.0 | Epsilon : 0.100 | Eval Rwd Mean: 27.33 | Eval Rwd Var: 16.22\n",
            "Episode 134/500 | Ep. Total Reward: 317.0 | Epsilon : 0.100 | Eval Rwd Mean: 33.67 | Eval Rwd Var: 6.89\n",
            "Episode 135/500 | Ep. Total Reward: 93.0 | Epsilon : 0.100 | Eval Rwd Mean: 16.33 | Eval Rwd Var: 2.89\n",
            "Episode 136/500 | Ep. Total Reward: 22.0 | Epsilon : 0.100 | Eval Rwd Mean: 9.00 | Eval Rwd Var: 0.00\n",
            "Episode 137/500 | Ep. Total Reward: 10.0 | Epsilon : 0.100 | Eval Rwd Mean: 9.33 | Eval Rwd Var: 0.89\n",
            "Episode 138/500 | Ep. Total Reward: 10.0 | Epsilon : 0.100 | Eval Rwd Mean: 9.67 | Eval Rwd Var: 0.22\n",
            "Episode 139/500 | Ep. Total Reward: 10.0 | Epsilon : 0.100 | Eval Rwd Mean: 17.00 | Eval Rwd Var: 4.67\n",
            "Episode 140/500 | Ep. Total Reward: 27.0 | Epsilon : 0.100 | Eval Rwd Mean: 21.67 | Eval Rwd Var: 1.56\n",
            "Episode 141/500 | Ep. Total Reward: 53.0 | Epsilon : 0.100 | Eval Rwd Mean: 21.00 | Eval Rwd Var: 14.00\n",
            "Episode 142/500 | Ep. Total Reward: 68.0 | Epsilon : 0.100 | Eval Rwd Mean: 9.33 | Eval Rwd Var: 0.22\n",
            "Episode 143/500 | Ep. Total Reward: 9.0 | Epsilon : 0.100 | Eval Rwd Mean: 22.33 | Eval Rwd Var: 0.89\n",
            "Episode 144/500 | Ep. Total Reward: 99.0 | Epsilon : 0.100 | Eval Rwd Mean: 13.33 | Eval Rwd Var: 1.56\n",
            "Episode 145/500 | Ep. Total Reward: 16.0 | Epsilon : 0.100 | Eval Rwd Mean: 101.00 | Eval Rwd Var: 8.67\n",
            "Episode 146/500 | Ep. Total Reward: 137.0 | Epsilon : 0.100 | Eval Rwd Mean: 18.33 | Eval Rwd Var: 0.22\n",
            "Episode 147/500 | Ep. Total Reward: 20.0 | Epsilon : 0.100 | Eval Rwd Mean: 50.67 | Eval Rwd Var: 64.89\n",
            "Episode 148/500 | Ep. Total Reward: 258.0 | Epsilon : 0.100 | Eval Rwd Mean: 9.00 | Eval Rwd Var: 0.67\n",
            "Episode 149/500 | Ep. Total Reward: 10.0 | Epsilon : 0.100 | Eval Rwd Mean: 17.33 | Eval Rwd Var: 2.89\n",
            "Episode 150/500 | Ep. Total Reward: 169.0 | Epsilon : 0.100 | Eval Rwd Mean: 17.00 | Eval Rwd Var: 4.67\n",
            "Episode 151/500 | Ep. Total Reward: 195.0 | Epsilon : 0.100 | Eval Rwd Mean: 15.00 | Eval Rwd Var: 4.67\n",
            "Episode 152/500 | Ep. Total Reward: 15.0 | Epsilon : 0.100 | Eval Rwd Mean: 18.00 | Eval Rwd Var: 4.67\n",
            "Episode 153/500 | Ep. Total Reward: 26.0 | Epsilon : 0.100 | Eval Rwd Mean: 16.33 | Eval Rwd Var: 3.56\n",
            "Episode 154/500 | Ep. Total Reward: 19.0 | Epsilon : 0.100 | Eval Rwd Mean: 13.00 | Eval Rwd Var: 4.67\n",
            "Episode 155/500 | Ep. Total Reward: 18.0 | Epsilon : 0.100 | Eval Rwd Mean: 88.00 | Eval Rwd Var: 1554.00\n",
            "Episode 156/500 | Ep. Total Reward: 120.0 | Epsilon : 0.100 | Eval Rwd Mean: 9.33 | Eval Rwd Var: 0.89\n",
            "Episode 157/500 | Ep. Total Reward: 13.0 | Epsilon : 0.100 | Eval Rwd Mean: 10.00 | Eval Rwd Var: 0.00\n",
            "Episode 158/500 | Ep. Total Reward: 10.0 | Epsilon : 0.100 | Eval Rwd Mean: 9.33 | Eval Rwd Var: 0.22\n",
            "Episode 159/500 | Ep. Total Reward: 13.0 | Epsilon : 0.100 | Eval Rwd Mean: 13.00 | Eval Rwd Var: 0.67\n",
            "Episode 160/500 | Ep. Total Reward: 72.0 | Epsilon : 0.100 | Eval Rwd Mean: 46.67 | Eval Rwd Var: 53.56\n",
            "Episode 161/500 | Ep. Total Reward: 57.0 | Epsilon : 0.100 | Eval Rwd Mean: 48.00 | Eval Rwd Var: 72.67\n",
            "Episode 162/500 | Ep. Total Reward: 48.0 | Epsilon : 0.100 | Eval Rwd Mean: 27.33 | Eval Rwd Var: 11.56\n",
            "Episode 163/500 | Ep. Total Reward: 63.0 | Epsilon : 0.100 | Eval Rwd Mean: 48.67 | Eval Rwd Var: 566.22\n",
            "Episode 164/500 | Ep. Total Reward: 29.0 | Epsilon : 0.100 | Eval Rwd Mean: 35.00 | Eval Rwd Var: 12.67\n",
            "Episode 165/500 | Ep. Total Reward: 145.0 | Epsilon : 0.100 | Eval Rwd Mean: 57.00 | Eval Rwd Var: 1406.00\n",
            "Episode 166/500 | Ep. Total Reward: 34.0 | Epsilon : 0.100 | Eval Rwd Mean: 25.00 | Eval Rwd Var: 16.67\n",
            "Episode 167/500 | Ep. Total Reward: 221.0 | Epsilon : 0.100 | Eval Rwd Mean: 24.33 | Eval Rwd Var: 3.56\n",
            "Episode 168/500 | Ep. Total Reward: 49.0 | Epsilon : 0.100 | Eval Rwd Mean: 87.00 | Eval Rwd Var: 1968.67\n",
            "Episode 169/500 | Ep. Total Reward: 46.0 | Epsilon : 0.100 | Eval Rwd Mean: 73.33 | Eval Rwd Var: 605.56\n",
            "Episode 170/500 | Ep. Total Reward: 117.0 | Epsilon : 0.100 | Eval Rwd Mean: 19.33 | Eval Rwd Var: 8.22\n",
            "Episode 171/500 | Ep. Total Reward: 23.0 | Epsilon : 0.100 | Eval Rwd Mean: 20.33 | Eval Rwd Var: 1.56\n",
            "Episode 172/500 | Ep. Total Reward: 22.0 | Epsilon : 0.100 | Eval Rwd Mean: 19.33 | Eval Rwd Var: 10.89\n",
            "Episode 173/500 | Ep. Total Reward: 18.0 | Epsilon : 0.100 | Eval Rwd Mean: 73.67 | Eval Rwd Var: 1104.22\n",
            "Episode 174/500 | Ep. Total Reward: 40.0 | Epsilon : 0.100 | Eval Rwd Mean: 18.33 | Eval Rwd Var: 0.22\n",
            "Episode 175/500 | Ep. Total Reward: 24.0 | Epsilon : 0.100 | Eval Rwd Mean: 24.67 | Eval Rwd Var: 11.56\n",
            "Episode 176/500 | Ep. Total Reward: 241.0 | Epsilon : 0.100 | Eval Rwd Mean: 17.67 | Eval Rwd Var: 2.89\n",
            "Episode 177/500 | Ep. Total Reward: 19.0 | Epsilon : 0.100 | Eval Rwd Mean: 9.67 | Eval Rwd Var: 0.22\n",
            "Episode 178/500 | Ep. Total Reward: 18.0 | Epsilon : 0.100 | Eval Rwd Mean: 16.67 | Eval Rwd Var: 6.89\n",
            "Episode 179/500 | Ep. Total Reward: 364.0 | Epsilon : 0.100 | Eval Rwd Mean: 15.00 | Eval Rwd Var: 0.67\n",
            "Episode 180/500 | Ep. Total Reward: 11.0 | Epsilon : 0.100 | Eval Rwd Mean: 9.67 | Eval Rwd Var: 0.22\n",
            "Episode 181/500 | Ep. Total Reward: 10.0 | Epsilon : 0.100 | Eval Rwd Mean: 9.00 | Eval Rwd Var: 0.00\n",
            "Episode 182/500 | Ep. Total Reward: 10.0 | Epsilon : 0.100 | Eval Rwd Mean: 10.00 | Eval Rwd Var: 0.67\n",
            "Episode 183/500 | Ep. Total Reward: 10.0 | Epsilon : 0.100 | Eval Rwd Mean: 8.67 | Eval Rwd Var: 0.22\n",
            "Episode 184/500 | Ep. Total Reward: 9.0 | Epsilon : 0.100 | Eval Rwd Mean: 9.00 | Eval Rwd Var: 0.00\n",
            "Episode 185/500 | Ep. Total Reward: 12.0 | Epsilon : 0.100 | Eval Rwd Mean: 20.33 | Eval Rwd Var: 4.22\n",
            "Episode 186/500 | Ep. Total Reward: 30.0 | Epsilon : 0.100 | Eval Rwd Mean: 392.00 | Eval Rwd Var: 386.00\n",
            "Episode 187/500 | Ep. Total Reward: 190.0 | Epsilon : 0.100 | Eval Rwd Mean: 20.33 | Eval Rwd Var: 0.22\n",
            "Episode 188/500 | Ep. Total Reward: 251.0 | Epsilon : 0.100 | Eval Rwd Mean: 43.00 | Eval Rwd Var: 6.00\n",
            "Episode 189/500 | Ep. Total Reward: 129.0 | Epsilon : 0.100 | Eval Rwd Mean: 22.00 | Eval Rwd Var: 8.67\n",
            "Episode 190/500 | Ep. Total Reward: 240.0 | Epsilon : 0.100 | Eval Rwd Mean: 108.67 | Eval Rwd Var: 4.22\n",
            "Episode 191/500 | Ep. Total Reward: 135.0 | Epsilon : 0.100 | Eval Rwd Mean: 82.33 | Eval Rwd Var: 1554.89\n",
            "Episode 192/500 | Ep. Total Reward: 73.0 | Epsilon : 0.100 | Eval Rwd Mean: 31.33 | Eval Rwd Var: 14.89\n",
            "Episode 193/500 | Ep. Total Reward: 74.0 | Epsilon : 0.100 | Eval Rwd Mean: 50.67 | Eval Rwd Var: 32.89\n",
            "Episode 194/500 | Ep. Total Reward: 454.0 | Epsilon : 0.100 | Eval Rwd Mean: 43.00 | Eval Rwd Var: 88.67\n",
            "Episode 195/500 | Ep. Total Reward: 278.0 | Epsilon : 0.100 | Eval Rwd Mean: 18.67 | Eval Rwd Var: 0.22\n",
            "Episode 196/500 | Ep. Total Reward: 114.0 | Epsilon : 0.100 | Eval Rwd Mean: 45.00 | Eval Rwd Var: 0.67\n",
            "Episode 197/500 | Ep. Total Reward: 60.0 | Epsilon : 0.100 | Eval Rwd Mean: 22.00 | Eval Rwd Var: 0.67\n",
            "Episode 198/500 | Ep. Total Reward: 32.0 | Epsilon : 0.100 | Eval Rwd Mean: 18.67 | Eval Rwd Var: 14.89\n",
            "Episode 199/500 | Ep. Total Reward: 24.0 | Epsilon : 0.100 | Eval Rwd Mean: 21.67 | Eval Rwd Var: 6.89\n",
            "Episode 200/500 | Ep. Total Reward: 16.0 | Epsilon : 0.100 | Eval Rwd Mean: 23.67 | Eval Rwd Var: 11.56\n",
            "Episode 201/500 | Ep. Total Reward: 34.0 | Epsilon : 0.100 | Eval Rwd Mean: 467.33 | Eval Rwd Var: 1222.89\n",
            "Episode 202/500 | Ep. Total Reward: 155.0 | Epsilon : 0.100 | Eval Rwd Mean: 25.00 | Eval Rwd Var: 10.67\n",
            "Episode 203/500 | Ep. Total Reward: 25.0 | Epsilon : 0.100 | Eval Rwd Mean: 9.33 | Eval Rwd Var: 0.22\n",
            "Episode 204/500 | Ep. Total Reward: 18.0 | Epsilon : 0.100 | Eval Rwd Mean: 9.00 | Eval Rwd Var: 0.67\n",
            "Episode 205/500 | Ep. Total Reward: 10.0 | Epsilon : 0.100 | Eval Rwd Mean: 28.33 | Eval Rwd Var: 20.22\n",
            "Episode 206/500 | Ep. Total Reward: 142.0 | Epsilon : 0.100 | Eval Rwd Mean: 52.67 | Eval Rwd Var: 233.56\n",
            "Episode 207/500 | Ep. Total Reward: 113.0 | Epsilon : 0.100 | Eval Rwd Mean: 14.67 | Eval Rwd Var: 0.22\n",
            "Episode 208/500 | Ep. Total Reward: 22.0 | Epsilon : 0.100 | Eval Rwd Mean: 15.67 | Eval Rwd Var: 1.56\n",
            "Episode 209/500 | Ep. Total Reward: 18.0 | Epsilon : 0.100 | Eval Rwd Mean: 17.33 | Eval Rwd Var: 4.22\n",
            "Episode 210/500 | Ep. Total Reward: 24.0 | Epsilon : 0.100 | Eval Rwd Mean: 22.33 | Eval Rwd Var: 22.89\n",
            "Episode 211/500 | Ep. Total Reward: 29.0 | Epsilon : 0.100 | Eval Rwd Mean: 131.67 | Eval Rwd Var: 152.89\n",
            "Episode 212/500 | Ep. Total Reward: 113.0 | Epsilon : 0.100 | Eval Rwd Mean: 166.67 | Eval Rwd Var: 12166.89\n",
            "Episode 213/500 | Ep. Total Reward: 19.0 | Epsilon : 0.100 | Eval Rwd Mean: 116.00 | Eval Rwd Var: 2.67\n",
            "Episode 214/500 | Ep. Total Reward: 255.0 | Epsilon : 0.100 | Eval Rwd Mean: 112.33 | Eval Rwd Var: 3.56\n",
            "Episode 215/500 | Ep. Total Reward: 172.0 | Epsilon : 0.100 | Eval Rwd Mean: 141.67 | Eval Rwd Var: 16.22\n",
            "Episode 216/500 | Ep. Total Reward: 164.0 | Epsilon : 0.100 | Eval Rwd Mean: 500.00 | Eval Rwd Var: 0.00\n",
            "Early stopping triggered at Episode 216.\n",
            "Training time: 61.2044 seconds per episode\n"
          ]
        }
      ],
      "source": [
        "# For logging\n",
        "train_reward_lst = []\n",
        "eval_reward_mean_lst = []\n",
        "eval_reward_var_lst = []\n",
        "\n",
        "\n",
        "# Set up environment\n",
        "env = gym.make(\"CartPole-v1\")\n",
        "state_size = env.observation_space.shape[0] # Number of observations (CartPole)\n",
        "action_size = env.action_space.n            # Number of possible actions\n",
        "\n",
        "model_dir = \"q_net_baseline\"  # TensorBoard log directory\n",
        "cb = keras.callbacks.TensorBoard(log_dir = get_run_logdir(model_dir), histogram_freq=1)\n",
        "\n",
        "# For timing training\n",
        "total_training_time = 0\n",
        "\n",
        "for ep in range(episode):\n",
        "    state, _ = env.reset()\n",
        "    state = np.reshape(state, [1, state_size])\n",
        "    total_reward = 0\n",
        "\n",
        "    # record start time\n",
        "    start = time.time()\n",
        "\n",
        "    for _ in range(500):\n",
        "        # Interact with the environment with epsilon-greedy policy\n",
        "        if np.random.rand() <= epsilon:\n",
        "            action = np.random.choice(action_size)\n",
        "        else:\n",
        "            q_values = model.predict(state, verbose=0)\n",
        "            action = np.argmax(q_values)\n",
        "\n",
        "        next_state, reward, terminated, truncated, _ = env.step(action)\n",
        "        next_state = np.reshape(next_state, [1, state_size])\n",
        "\n",
        "        done = terminated or truncated\n",
        "\n",
        "        # Train model using Q-Learning update:  Q(s, a) = r + gamma * max Q(s', a')\n",
        "        # [WriteCode]\n",
        "        q_base = model.predict(state, verbose=0)\n",
        "        q_1_base = model.predict(next_state, verbose=0)\n",
        "        if done:\n",
        "          q_target = reward\n",
        "        else:\n",
        "          q_target = reward + gamma * np.max(q_1_base)\n",
        "\n",
        "\n",
        "        q_feed = q_base.copy()\n",
        "        q_feed[0][action] = q_feed[0][action] + lr * (q_target - q_feed[0][action])\n",
        "        model.fit(state, q_feed, epochs=epoch, verbose=0, batch_size=ba, callbacks=[cb])\n",
        "        # Hints:\n",
        "\n",
        "        # 1. Compute target Q-values:\n",
        "        # - If done, Q-target = reward (no future reward)\n",
        "        # - Otherwise, Q-target = reward + gamma * max(Q(next_state, a))\n",
        "\n",
        "        # 2. Predict current Q-values for state\n",
        "        # Update only the Q-value for the taken action\n",
        "\n",
        "        # new_q_val = current_q_val + lr * (q_target - current_q_val)\n",
        "        # print(new_q_val)\n",
        "        # 3. Fit the model:\n",
        "        # - Inputs: state\n",
        "        # - Targets: updated Q-values (with action Q-value replaced by computed target)\n",
        "        # model.fit(state, new_q_val, epochs=epoch, verbose=0, batch_size=ba)\n",
        "\n",
        "\n",
        "        # Update exploration rate\n",
        "        if epsilon > epsilon_min and ep % 10 == 0:\n",
        "            epsilon *= epsilon_decay\n",
        "\n",
        "        state = next_state\n",
        "        total_reward += reward\n",
        "\n",
        "        if done:\n",
        "            break\n",
        "\n",
        "    # record end time and log training time\n",
        "    end = time.time()\n",
        "    total_training_time += end - start\n",
        "\n",
        "    # Evaluation\n",
        "    # [WriteCode]\n",
        "    eval_reward_mean, eval_reward_var = evaluation(model)\n",
        "\n",
        "    print(f\"Episode {ep + 1}/{episode} | Ep. Total Reward: {total_reward}\"\n",
        "        f\" | Epsilon : {epsilon:.3f}\"\n",
        "        f\" | Eval Rwd Mean: {eval_reward_mean:.2f}\"\n",
        "        f\" | Eval Rwd Var: {eval_reward_var:.2f}\")\n",
        "\n",
        "    # Log\n",
        "    eval_reward_mean_lst.append(eval_reward_mean)\n",
        "    eval_reward_var_lst.append(eval_reward_var)\n",
        "    train_reward_lst.append(total_reward)\n",
        "\n",
        "    # Early Stopping Condition to avoid overfitting\n",
        "    # If the evaluation reward reaches the specified threshold, stop training early.\n",
        "    # The default threshold is set to 500, but you should adjust this based on observed training performance.\n",
        "    if eval_reward_mean >= 450 and eval_reward_var <= 25 ** 2: # [Modify this threshold as needed]\n",
        "        print(f\"Early stopping triggered at Episode {ep + 1}.\")\n",
        "        break\n",
        "\n",
        "# evaluate average training time per episode\n",
        "print(f\"Training time: {total_training_time/(ep + 1):.4f} seconds per episode\")\n",
        "\n",
        "env.close()\n"
      ]
    },
    {
      "cell_type": "markdown",
      "metadata": {
        "id": "qZ86BPQR3AhY"
      },
      "source": [
        "## Plot Results"
      ]
    },
    {
      "cell_type": "code",
      "execution_count": 16,
      "metadata": {
        "colab": {
          "base_uri": "https://localhost:8080/",
          "height": 1000
        },
        "id": "It8u9fyj3AL5",
        "outputId": "67009d69-50fc-4673-9d5e-2bbea09580b2"
      },
      "outputs": [
        {
          "data": {
            "image/png": "[encoded data removed]",
            "text/plain": [
              "<Figure size 640x480 with 1 Axes>"
            ]
          },
          "metadata": {},
          "output_type": "display_data"
        },
        {
          "data": {
            "image/png": "[encoded data removed]",
            "text/plain": [
              "<Figure size 640x480 with 1 Axes>"
            ]
          },
          "metadata": {},
          "output_type": "display_data"
        },
        {
          "data": {
            "image/png": "[encoded data removed]",
            "text/plain": [
              "<Figure size 640x480 with 1 Axes>"
            ]
          },
          "metadata": {},
          "output_type": "display_data"
        }
      ],
      "source": [
        "# Write code to plot\n",
        "# 1) Moving Averaged Training Reward, 2) Evaluation Mean, 3) Evaluation Variance\n",
        "# [Write Code]\n",
        "\n",
        "plot_smoothed_training_rwd(train_reward_lst)\n",
        "\n",
        "plot_eval_rwd_mean(eval_reward_mean_lst)\n",
        "\n",
        "plot_eval_rwd_var(eval_reward_var_lst)"
      ]
    },
    {
      "cell_type": "code",
      "execution_count": 17,
      "metadata": {},
      "outputs": [],
      "source": [
        "save_model(train_reward_lst, \\\n",
        "    eval_reward_mean_lst, \\\n",
        "        eval_reward_var_lst, \n",
        "        model, \\\n",
        "            model_dir)"
      ]
    },
    {
      "cell_type": "markdown",
      "metadata": {
        "id": "uSlOTDlpm78g"
      },
      "source": [
        "# Q-Network - Alternative"
      ]
    },
    {
      "cell_type": "code",
      "execution_count": 18,
      "metadata": {},
      "outputs": [],
      "source": [
        "# Use the following set of NN hyperparameters for ALL FOUR basline policies\n",
        "lr =  0.1        #@param {type:\"number\"}               # learning rate\n",
        "epoch =  16     #@param {type:\"number\"}               # epochs\n",
        "episode = 500  #@param {type:\"number\"}               # episodes\n",
        "\n",
        "epsilon = 0.9           #@param {type:\"number\"}     # Starting exploration rate\n",
        "epsilon_min = 0.1    #@param {type:\"number\"}     # Exploration rate min\n",
        "epsilon_decay = 0.995     #@param {type:\"number\"}     # Exploration rate decay\n",
        "\n",
        "gamma = 0.99          #@param {type:\"number\"}     # Agent discount factor\n",
        "\n",
        "# Use the following set of NN hyperparameters for Naive DQN, DQN and DDQN policies\n",
        "ba =  32       #@param {type:\"number\"}               # batch_size\n",
        "\n",
        "# Use the following set of RL hyperparameters for DQN and DDQN policies\n",
        "target_update_freq = 100 # @param {type:\"number\"}    # Target network update frequency\n"
      ]
    },
    {
      "cell_type": "code",
      "execution_count": 4,
      "metadata": {
        "colab": {
          "base_uri": "https://localhost:8080/",
          "height": 306
        },
        "id": "c9zO7SZssiaR",
        "outputId": "847b4588-ecf0-480e-b124-8e0beb4b26ec"
      },
      "outputs": [
        {
          "name": "stdout",
          "output_type": "stream",
          "text": [
            "Model: \"sequential_2\"\n",
            "_________________________________________________________________\n",
            " Layer (type)                Output Shape              Param #   \n",
            "=================================================================\n",
            " dense_3 (Dense)             (None, 32)                160       \n",
            "                                                                 \n",
            " dense_4 (Dense)             (None, 32)                1056      \n",
            "                                                                 \n",
            " dense_5 (Dense)             (None, 2)                 66        \n",
            "                                                                 \n",
            "=================================================================\n",
            "Total params: 1,282\n",
            "Trainable params: 1,282\n",
            "Non-trainable params: 0\n",
            "_________________________________________________________________\n"
          ]
        }
      ],
      "source": [
        "from keras.models import Sequential\n",
        "from keras.layers import Input, Dense, LayerNormalization\n",
        "from keras.initializers import RandomUniform\n",
        "from keras.activations import softmax, relu, tanh\n",
        "\n",
        "STATE_SIZE = (4,)\n",
        "ACTION_SIZE = 2\n",
        "LAYER_SIZE = 32\n",
        "SEED = 42\n",
        "\n",
        "# Define the Q-network\n",
        "alt_model = Sequential()\n",
        "\n",
        "# [WriteCode]\n",
        "# model.add(...\n",
        "alt_model.add(Input(shape=STATE_SIZE))\n",
        "'''\n",
        "Add in intermediate layers\n",
        "- Assume 3 layers of 32 nodes each with relu activation\n",
        "'''\n",
        "initializer = RandomUniform(minval=-0.5, maxval=0.5, seed=42)\n",
        "initializer_1 = RandomUniform(minval=-5, maxval=5, seed=42)\n",
        "\n",
        "alt_model.add(Dense(LAYER_SIZE, activation=tanh, kernel_initializer=initializer))\n",
        "alt_model.add(Dense(LAYER_SIZE, activation=tanh, kernel_initializer=initializer_1))\n",
        "alt_model.add(Dense(ACTION_SIZE))\n",
        "\n",
        "# Compile the model\n",
        "# [WriteCode]\n",
        "alt_model.compile(loss='mse', optimizer='adam')\n",
        "\n",
        "# Print the model summary\n",
        "# [WriteCode]\n",
        "alt_model.summary()"
      ]
    },
    {
      "cell_type": "code",
      "execution_count": 20,
      "metadata": {
        "colab": {
          "base_uri": "https://localhost:8080/"
        },
        "id": "L_M_IusJMwwo",
        "outputId": "515454d6-3f22-49c8-d43b-236587dde34d"
      },
      "outputs": [
        {
          "name": "stdout",
          "output_type": "stream",
          "text": [
            "Episode 1/500 | Ep. Total Reward: 20.0 | Epsilon : 0.814 | Eval Rwd Mean: 29.33 | Eval Rwd Var: 28.22\n",
            "Episode 2/500 | Ep. Total Reward: 24.0 | Epsilon : 0.814 | Eval Rwd Mean: 26.67 | Eval Rwd Var: 1.56\n",
            "Episode 3/500 | Ep. Total Reward: 29.0 | Epsilon : 0.814 | Eval Rwd Mean: 28.33 | Eval Rwd Var: 80.89\n",
            "Episode 4/500 | Ep. Total Reward: 32.0 | Epsilon : 0.814 | Eval Rwd Mean: 40.67 | Eval Rwd Var: 137.56\n",
            "Episode 5/500 | Ep. Total Reward: 12.0 | Epsilon : 0.814 | Eval Rwd Mean: 23.00 | Eval Rwd Var: 172.67\n",
            "Episode 6/500 | Ep. Total Reward: 18.0 | Epsilon : 0.814 | Eval Rwd Mean: 40.00 | Eval Rwd Var: 130.67\n",
            "Episode 7/500 | Ep. Total Reward: 13.0 | Epsilon : 0.814 | Eval Rwd Mean: 30.00 | Eval Rwd Var: 56.00\n",
            "Episode 8/500 | Ep. Total Reward: 27.0 | Epsilon : 0.814 | Eval Rwd Mean: 39.00 | Eval Rwd Var: 60.67\n",
            "Episode 9/500 | Ep. Total Reward: 14.0 | Epsilon : 0.814 | Eval Rwd Mean: 43.33 | Eval Rwd Var: 105.56\n",
            "Episode 10/500 | Ep. Total Reward: 45.0 | Epsilon : 0.814 | Eval Rwd Mean: 14.00 | Eval Rwd Var: 40.67\n",
            "Episode 11/500 | Ep. Total Reward: 17.0 | Epsilon : 0.748 | Eval Rwd Mean: 42.33 | Eval Rwd Var: 356.22\n",
            "Episode 12/500 | Ep. Total Reward: 13.0 | Epsilon : 0.748 | Eval Rwd Mean: 9.67 | Eval Rwd Var: 0.22\n",
            "Episode 13/500 | Ep. Total Reward: 14.0 | Epsilon : 0.748 | Eval Rwd Mean: 26.67 | Eval Rwd Var: 164.22\n",
            "Episode 14/500 | Ep. Total Reward: 16.0 | Epsilon : 0.748 | Eval Rwd Mean: 28.67 | Eval Rwd Var: 237.56\n",
            "Episode 15/500 | Ep. Total Reward: 13.0 | Epsilon : 0.748 | Eval Rwd Mean: 20.33 | Eval Rwd Var: 66.89\n",
            "Episode 16/500 | Ep. Total Reward: 18.0 | Epsilon : 0.748 | Eval Rwd Mean: 9.67 | Eval Rwd Var: 0.22\n",
            "Episode 17/500 | Ep. Total Reward: 10.0 | Epsilon : 0.748 | Eval Rwd Mean: 9.00 | Eval Rwd Var: 0.00\n",
            "Episode 18/500 | Ep. Total Reward: 17.0 | Epsilon : 0.748 | Eval Rwd Mean: 9.33 | Eval Rwd Var: 0.22\n",
            "Episode 19/500 | Ep. Total Reward: 12.0 | Epsilon : 0.748 | Eval Rwd Mean: 9.67 | Eval Rwd Var: 0.22\n",
            "Episode 20/500 | Ep. Total Reward: 19.0 | Epsilon : 0.748 | Eval Rwd Mean: 26.33 | Eval Rwd Var: 48.22\n",
            "Episode 21/500 | Ep. Total Reward: 12.0 | Epsilon : 0.704 | Eval Rwd Mean: 9.67 | Eval Rwd Var: 0.22\n",
            "Episode 22/500 | Ep. Total Reward: 18.0 | Epsilon : 0.704 | Eval Rwd Mean: 61.67 | Eval Rwd Var: 14.22\n",
            "Episode 23/500 | Ep. Total Reward: 29.0 | Epsilon : 0.704 | Eval Rwd Mean: 35.33 | Eval Rwd Var: 176.89\n",
            "Episode 24/500 | Ep. Total Reward: 30.0 | Epsilon : 0.704 | Eval Rwd Mean: 9.67 | Eval Rwd Var: 0.89\n",
            "Episode 25/500 | Ep. Total Reward: 28.0 | Epsilon : 0.704 | Eval Rwd Mean: 9.33 | Eval Rwd Var: 0.22\n",
            "Episode 26/500 | Ep. Total Reward: 22.0 | Epsilon : 0.704 | Eval Rwd Mean: 9.67 | Eval Rwd Var: 0.89\n",
            "Episode 27/500 | Ep. Total Reward: 12.0 | Epsilon : 0.704 | Eval Rwd Mean: 9.33 | Eval Rwd Var: 0.22\n",
            "Episode 28/500 | Ep. Total Reward: 13.0 | Epsilon : 0.704 | Eval Rwd Mean: 9.33 | Eval Rwd Var: 0.22\n",
            "Episode 29/500 | Ep. Total Reward: 15.0 | Epsilon : 0.704 | Eval Rwd Mean: 88.00 | Eval Rwd Var: 1440.67\n",
            "Episode 30/500 | Ep. Total Reward: 10.0 | Epsilon : 0.704 | Eval Rwd Mean: 83.00 | Eval Rwd Var: 234.00\n",
            "Episode 31/500 | Ep. Total Reward: 24.0 | Epsilon : 0.624 | Eval Rwd Mean: 45.00 | Eval Rwd Var: 28.67\n",
            "Episode 32/500 | Ep. Total Reward: 28.0 | Epsilon : 0.624 | Eval Rwd Mean: 35.67 | Eval Rwd Var: 6.22\n",
            "Episode 33/500 | Ep. Total Reward: 41.0 | Epsilon : 0.624 | Eval Rwd Mean: 65.67 | Eval Rwd Var: 96.89\n",
            "Episode 34/500 | Ep. Total Reward: 35.0 | Epsilon : 0.624 | Eval Rwd Mean: 9.67 | Eval Rwd Var: 0.22\n",
            "Episode 35/500 | Ep. Total Reward: 12.0 | Epsilon : 0.624 | Eval Rwd Mean: 23.67 | Eval Rwd Var: 29.56\n",
            "Episode 36/500 | Ep. Total Reward: 26.0 | Epsilon : 0.624 | Eval Rwd Mean: 65.00 | Eval Rwd Var: 160.67\n",
            "Episode 37/500 | Ep. Total Reward: 21.0 | Epsilon : 0.624 | Eval Rwd Mean: 14.67 | Eval Rwd Var: 1.56\n",
            "Episode 38/500 | Ep. Total Reward: 61.0 | Epsilon : 0.624 | Eval Rwd Mean: 9.33 | Eval Rwd Var: 0.22\n",
            "Episode 39/500 | Ep. Total Reward: 14.0 | Epsilon : 0.624 | Eval Rwd Mean: 37.67 | Eval Rwd Var: 38.89\n",
            "Episode 40/500 | Ep. Total Reward: 14.0 | Epsilon : 0.624 | Eval Rwd Mean: 9.00 | Eval Rwd Var: 0.67\n",
            "Episode 41/500 | Ep. Total Reward: 13.0 | Epsilon : 0.585 | Eval Rwd Mean: 61.33 | Eval Rwd Var: 213.56\n",
            "Episode 42/500 | Ep. Total Reward: 40.0 | Epsilon : 0.585 | Eval Rwd Mean: 22.33 | Eval Rwd Var: 16.89\n",
            "Episode 43/500 | Ep. Total Reward: 11.0 | Epsilon : 0.585 | Eval Rwd Mean: 8.67 | Eval Rwd Var: 0.22\n",
            "Episode 44/500 | Ep. Total Reward: 9.0 | Epsilon : 0.585 | Eval Rwd Mean: 9.00 | Eval Rwd Var: 0.67\n",
            "Episode 45/500 | Ep. Total Reward: 10.0 | Epsilon : 0.585 | Eval Rwd Mean: 9.33 | Eval Rwd Var: 0.89\n",
            "Episode 46/500 | Ep. Total Reward: 11.0 | Epsilon : 0.585 | Eval Rwd Mean: 11.33 | Eval Rwd Var: 0.22\n",
            "Episode 47/500 | Ep. Total Reward: 17.0 | Epsilon : 0.585 | Eval Rwd Mean: 10.33 | Eval Rwd Var: 0.22\n",
            "Episode 48/500 | Ep. Total Reward: 11.0 | Epsilon : 0.585 | Eval Rwd Mean: 9.67 | Eval Rwd Var: 0.89\n",
            "Episode 49/500 | Ep. Total Reward: 13.0 | Epsilon : 0.585 | Eval Rwd Mean: 23.00 | Eval Rwd Var: 10.67\n",
            "Episode 50/500 | Ep. Total Reward: 30.0 | Epsilon : 0.585 | Eval Rwd Mean: 36.00 | Eval Rwd Var: 4.67\n",
            "Episode 51/500 | Ep. Total Reward: 54.0 | Epsilon : 0.446 | Eval Rwd Mean: 34.67 | Eval Rwd Var: 4.22\n",
            "Episode 52/500 | Ep. Total Reward: 76.0 | Epsilon : 0.446 | Eval Rwd Mean: 206.67 | Eval Rwd Var: 1274.89\n",
            "Episode 53/500 | Ep. Total Reward: 63.0 | Epsilon : 0.446 | Eval Rwd Mean: 17.67 | Eval Rwd Var: 2.89\n",
            "Episode 54/500 | Ep. Total Reward: 48.0 | Epsilon : 0.446 | Eval Rwd Mean: 13.67 | Eval Rwd Var: 1.56\n",
            "Episode 55/500 | Ep. Total Reward: 11.0 | Epsilon : 0.446 | Eval Rwd Mean: 9.67 | Eval Rwd Var: 0.22\n",
            "Episode 56/500 | Ep. Total Reward: 9.0 | Epsilon : 0.446 | Eval Rwd Mean: 10.00 | Eval Rwd Var: 0.00\n",
            "Episode 57/500 | Ep. Total Reward: 9.0 | Epsilon : 0.446 | Eval Rwd Mean: 9.67 | Eval Rwd Var: 0.22\n",
            "Episode 58/500 | Ep. Total Reward: 42.0 | Epsilon : 0.446 | Eval Rwd Mean: 12.00 | Eval Rwd Var: 4.67\n",
            "Episode 59/500 | Ep. Total Reward: 88.0 | Epsilon : 0.446 | Eval Rwd Mean: 36.00 | Eval Rwd Var: 0.67\n",
            "Episode 60/500 | Ep. Total Reward: 19.0 | Epsilon : 0.446 | Eval Rwd Mean: 46.33 | Eval Rwd Var: 5.56\n",
            "Episode 61/500 | Ep. Total Reward: 146.0 | Epsilon : 0.215 | Eval Rwd Mean: 46.00 | Eval Rwd Var: 104.00\n",
            "Episode 62/500 | Ep. Total Reward: 109.0 | Epsilon : 0.215 | Eval Rwd Mean: 91.33 | Eval Rwd Var: 16.22\n",
            "Episode 63/500 | Ep. Total Reward: 270.0 | Epsilon : 0.215 | Eval Rwd Mean: 122.00 | Eval Rwd Var: 84.67\n",
            "Episode 64/500 | Ep. Total Reward: 152.0 | Epsilon : 0.215 | Eval Rwd Mean: 62.33 | Eval Rwd Var: 56.89\n",
            "Episode 65/500 | Ep. Total Reward: 45.0 | Epsilon : 0.215 | Eval Rwd Mean: 23.33 | Eval Rwd Var: 14.22\n",
            "Episode 66/500 | Ep. Total Reward: 24.0 | Epsilon : 0.215 | Eval Rwd Mean: 12.67 | Eval Rwd Var: 0.89\n",
            "Episode 67/500 | Ep. Total Reward: 28.0 | Epsilon : 0.215 | Eval Rwd Mean: 80.33 | Eval Rwd Var: 2.89\n",
            "Episode 68/500 | Ep. Total Reward: 144.0 | Epsilon : 0.215 | Eval Rwd Mean: 25.33 | Eval Rwd Var: 1.56\n",
            "Episode 69/500 | Ep. Total Reward: 164.0 | Epsilon : 0.215 | Eval Rwd Mean: 13.67 | Eval Rwd Var: 0.89\n",
            "Episode 70/500 | Ep. Total Reward: 19.0 | Epsilon : 0.215 | Eval Rwd Mean: 13.33 | Eval Rwd Var: 0.22\n",
            "Episode 71/500 | Ep. Total Reward: 10.0 | Epsilon : 0.204 | Eval Rwd Mean: 147.33 | Eval Rwd Var: 382.89\n",
            "Episode 72/500 | Ep. Total Reward: 55.0 | Epsilon : 0.204 | Eval Rwd Mean: 30.00 | Eval Rwd Var: 18.00\n",
            "Episode 73/500 | Ep. Total Reward: 28.0 | Epsilon : 0.204 | Eval Rwd Mean: 500.00 | Eval Rwd Var: 0.00\n",
            "Early stopping triggered at Episode 73.\n",
            "Training time: 23.4265 seconds per episode\n"
          ]
        }
      ],
      "source": [
        "# For logging\n",
        "alt_train_reward_lst = []\n",
        "alt_eval_reward_mean_lst = []\n",
        "alt_eval_reward_var_lst = []\n",
        "\n",
        "\n",
        "# Set up environment\n",
        "env = gym.make(\"CartPole-v1\")\n",
        "state_size = env.observation_space.shape[0] # Number of observations (CartPole)\n",
        "action_size = env.action_space.n            # Number of possible actions\n",
        "\n",
        "model_dir = \"q_net_baseline_alt\"  # TensorBoard log directory\n",
        "cb = keras.callbacks.TensorBoard(log_dir = get_run_logdir(model_dir), histogram_freq=1)\n",
        "\n",
        "# For timing training\n",
        "total_training_time = 0\n",
        "\n",
        "for ep in range(episode):\n",
        "    state, _ = env.reset()\n",
        "    state = np.reshape(state, [1, state_size])\n",
        "    total_reward = 0\n",
        "\n",
        "    # record start time\n",
        "    start = time.time()\n",
        "\n",
        "    for _ in range(500):\n",
        "        # Interact with the environment with epsilon-greedy policy\n",
        "        if np.random.rand() <= epsilon:\n",
        "            action = np.random.choice(action_size)\n",
        "        else:\n",
        "            q_values = alt_model.predict(state, verbose=0)\n",
        "            action = np.argmax(q_values)\n",
        "\n",
        "        next_state, reward, terminated, truncated, _ = env.step(action)\n",
        "        next_state = np.reshape(next_state, [1, state_size])\n",
        "\n",
        "        done = terminated or truncated\n",
        "\n",
        "        # Train model using Q-Learning update:  Q(s, a) = r + gamma * max Q(s', a')\n",
        "        # [WriteCode]\n",
        "        q_base = alt_model.predict(state, verbose=0)\n",
        "        q_1_base = alt_model.predict(next_state, verbose=0)\n",
        "        if done:\n",
        "          q_target = reward\n",
        "        else:\n",
        "          q_target = reward + gamma * np.max(q_1_base)\n",
        "\n",
        "        q_feed = q_base.copy()\n",
        "        q_feed[0][action] = q_feed[0][action] + lr * (q_target - q_feed[0][action])\n",
        "        alt_model.fit(state, q_feed, epochs=epoch, verbose=0, batch_size=ba, callbacks=[cb])\n",
        "        # Hints:\n",
        "\n",
        "        # 1. Compute target Q-values:\n",
        "        # - If done, Q-target = reward (no future reward)\n",
        "        # - Otherwise, Q-target = reward + gamma * max(Q(next_state, a))\n",
        "\n",
        "        # 2. Predict current Q-values for state\n",
        "        # Update only the Q-value for the taken action\n",
        "\n",
        "        # new_q_val = current_q_val + lr * (q_target - current_q_val)\n",
        "        # print(new_q_val)\n",
        "        # 3. Fit the model:\n",
        "        # - Inputs: state\n",
        "        # - Targets: updated Q-values (with action Q-value replaced by computed target)\n",
        "        # model.fit(state, new_q_val, epochs=epoch, verbose=0, batch_size=ba)\n",
        "\n",
        "\n",
        "        # Update exploration rate\n",
        "        if epsilon > epsilon_min and ep % 10 == 0:\n",
        "            epsilon *= epsilon_decay\n",
        "\n",
        "        state = next_state\n",
        "        total_reward += reward\n",
        "\n",
        "        if done:\n",
        "            break\n",
        "\n",
        "    # record end time and log training time\n",
        "    end = time.time()\n",
        "    total_training_time += end - start\n",
        "\n",
        "    # Evaluation\n",
        "    # [WriteCode]\n",
        "    eval_reward_mean, eval_reward_var = evaluation(alt_model)\n",
        "\n",
        "    print(f\"Episode {ep + 1}/{episode} | Ep. Total Reward: {total_reward}\"\n",
        "        f\" | Epsilon : {epsilon:.3f}\"\n",
        "        f\" | Eval Rwd Mean: {eval_reward_mean:.2f}\"\n",
        "        f\" | Eval Rwd Var: {eval_reward_var:.2f}\")\n",
        "\n",
        "    # Log\n",
        "    alt_eval_reward_mean_lst.append(eval_reward_mean)\n",
        "    alt_eval_reward_var_lst.append(eval_reward_var)\n",
        "    alt_train_reward_lst.append(total_reward)\n",
        "\n",
        "    # Early Stopping Condition to avoid overfitting\n",
        "    # If the evaluation reward reaches the specified threshold, stop training early.\n",
        "    # The default threshold is set to 500, but you should adjust this based on observed training performance.\n",
        "    if eval_reward_mean >= 450 and eval_reward_var <= 25 ** 2: # [Modify this threshold as needed]\n",
        "        print(f\"Early stopping triggered at Episode {ep + 1}.\")\n",
        "        break\n",
        "\n",
        "# evaluate average training time per episode\n",
        "print(f\"Training time: {total_training_time/(ep + 1):.4f} seconds per episode\")\n",
        "\n",
        "env.close()\n"
      ]
    },
    {
      "cell_type": "code",
      "execution_count": 21,
      "metadata": {
        "colab": {
          "base_uri": "https://localhost:8080/",
          "height": 1000
        },
        "id": "wXCrGTHydncm",
        "outputId": "c75fb6aa-f8ff-4840-9199-e5372f2fb18c"
      },
      "outputs": [
        {
          "data": {
            "image/png": "[encoded data removed]",
            "text/plain": [
              "<Figure size 640x480 with 1 Axes>"
            ]
          },
          "metadata": {},
          "output_type": "display_data"
        },
        {
          "data": {
            "image/png": "[encoded data removed]",
            "text/plain": [
              "<Figure size 640x480 with 1 Axes>"
            ]
          },
          "metadata": {},
          "output_type": "display_data"
        },
        {
          "data": {
            "image/png": "[encoded data removed]",
            "text/plain": [
              "<Figure size 640x480 with 1 Axes>"
            ]
          },
          "metadata": {},
          "output_type": "display_data"
        }
      ],
      "source": [
        "# Write code to plot\n",
        "# 1) Moving Averaged Training Reward, 2) Evaluation Mean, 3) Evaluation Variance\n",
        "# [Write Code]\n",
        "\n",
        "plot_smoothed_training_rwd(alt_train_reward_lst)\n",
        "\n",
        "plot_eval_rwd_mean(alt_eval_reward_mean_lst)\n",
        "\n",
        "plot_eval_rwd_var(alt_eval_reward_var_lst)"
      ]
    },
    {
      "cell_type": "code",
      "execution_count": 22,
      "metadata": {},
      "outputs": [],
      "source": [
        "save_model(alt_train_reward_lst, \\\n",
        "    alt_eval_reward_mean_lst, \\\n",
        "        alt_eval_reward_var_lst, \n",
        "        alt_model, \\\n",
        "            model_dir)"
      ]
    },
    {
      "cell_type": "code",
      "execution_count": 23,
      "metadata": {},
      "outputs": [],
      "source": [
        "def evaluation(model, max_timesteps=500):\n",
        "    # eval_env = gym.make(\"CartPole-v1\", render_mode=\"rgb_array\")\n",
        "    eval_env = gym.make(\"CartPole-v1\")\n",
        "    state_size = eval_env.observation_space.shape[0] # Number of observations (CartPole)\n",
        "    action_size = eval_env.action_space.n            # Number of possible actions\n",
        "    eval_reward = []\n",
        "\n",
        "    for i in range (3):\n",
        "        round_reward = 0\n",
        "        state, _ = eval_env.reset()\n",
        "        state = np.reshape(state, [1, state_size])\n",
        "\n",
        "        for i in range(max_timesteps):\n",
        "            action = np.argmax(model.predict(state, verbose=0)[0])\n",
        "            next_state, reward, terminated, truncated, _ = eval_env.step(action)\n",
        "            next_state = np.reshape(next_state, [1, state_size])\n",
        "\n",
        "            round_reward += reward\n",
        "            state = next_state\n",
        "\n",
        "            if terminated or truncated:\n",
        "                eval_reward.append(round_reward)\n",
        "                break\n",
        "\n",
        "    eval_env.close()\n",
        "\n",
        "    eval_reward_mean = np.sum(eval_reward)/len(eval_reward)\n",
        "    eval_reward_var = np.var(eval_reward)\n",
        "\n",
        "    return eval_reward_mean, eval_reward_var"
      ]
    },
    {
      "cell_type": "markdown",
      "metadata": {
        "id": "Lg9kBHn2slYF"
      },
      "source": [
        "## Comparison\n",
        "\n",
        "Compare performance of the Baseline and the Alternative Naive Q-Network Policies"
      ]
    },
    {
      "cell_type": "code",
      "execution_count": 24,
      "metadata": {},
      "outputs": [],
      "source": [
        "ITERATIONS = 10\n",
        "\n",
        "base_eval_mean = []\n",
        "base_eval_var = []\n",
        "alt_eval_mean = []\n",
        "alt_eval_var = []\n",
        "\n",
        "for i in range(ITERATIONS):\n",
        "    eval_mean, eval_var = evaluation(model)\n",
        "    base_eval_mean.append(eval_mean)\n",
        "    base_eval_var.append(eval_var)\n",
        "    \n",
        "    eval_mean, eval_var = evaluation(alt_model)\n",
        "    alt_eval_mean.append(eval_mean)\n",
        "    alt_eval_var.append(eval_var)"
      ]
    },
    {
      "cell_type": "code",
      "execution_count": 25,
      "metadata": {},
      "outputs": [
        {
          "data": {
            "image/png": "[encoded data removed]",
            "text/plain": [
              "<Figure size 800x1000 with 2 Axes>"
            ]
          },
          "metadata": {},
          "output_type": "display_data"
        }
      ],
      "source": [
        "plot_evaluation_metrics(base_eval_mean, base_eval_var, alt_eval_mean, alt_eval_var, ITERATIONS)"
      ]
    },
    {
      "cell_type": "markdown",
      "metadata": {
        "id": "dhgXEg3097Ud"
      },
      "source": [
        "# Experience Replay Framework\n",
        "\n",
        "By now, you may have noticed that in a standard RL setup, the agent **only learns from its most recent experience** at each step. This makes training unstable and inefficient. Additionally, consecutive experiences are often highly correlated, which can lead to poor generalization.\n",
        "\n",
        "To address this, we will adopt the **Experience Replay Framework**, where past interactions are stored in a **Replay Buffer** and **a randomly sampled batch** is used to update the decision-making policy. This helps to:\n",
        "\n",
        "- **Break correlation** between consecutive experiences, stabilizing learning.\n",
        "- **Improve data efficiency** by reusing past experiences multiple times.\n",
        "- **Smooth training updates**, preventing abrupt policy changes.\n",
        "\n",
        "The figure below illustrates this process:\n",
        "\n",
        "<img src=\"https://drive.google.com/uc?export=view&id=1S3Z6Ngpzwz3haycLS-rzx-eBe9QT88MJ\" width=\"400\">\n",
        "\n",
        "- The Agent interacts with the Environment, taking actions based on its learned policy.\n",
        "- The Replay Buffer stores past experiences `(state, action, reward, next state, done)`.\n",
        "- Instead of updating after every step, the agent samples from the buffer and learns from past interactions.\n",
        "\n",
        "This framework is used in naive DQN, DQN and DDQN to stabilize Q-learning.\n",
        "\n"
      ]
    },
    {
      "cell_type": "markdown",
      "metadata": {
        "id": "CkfcXDjNriXH"
      },
      "source": [
        "## Implement Replay Buffer and Functions"
      ]
    },
    {
      "cell_type": "code",
      "execution_count": 19,
      "metadata": {
        "id": "lJH9KigXsX8Y"
      },
      "outputs": [
        {
          "data": {
            "text/plain": [
              "'\\n# Define replay buffer\\nreplay_buffer = deque(maxlen=10000)\\n\\n# Store experience tuple into replay_buffer\\nstore_experience(replay_buffer, state, action, reward, next_state, done)\\n\\n# Sample mini-batch of size ba from replay_buffer\\nstates, actions, rewards, next_states, dones = sample_experience(replay_buffer, ba)\\n'"
            ]
          },
          "execution_count": 19,
          "metadata": {},
          "output_type": "execute_result"
        }
      ],
      "source": [
        "# Store (state, action, reward, next_state, done)\n",
        "def store_experience(replay_buffer, state, action, reward, next_stat, done):\n",
        "        replay_buffer.append((state, action, reward, next_state, done))\n",
        "\n",
        "# Sample (state, action, reward, next_state, done) mini-batch for training\n",
        "def sample_experience(replay_buffer, batch_size):\n",
        "\n",
        "    # Ensure we have enough samples\n",
        "    assert len(replay_buffer) >= batch_size, (\n",
        "        f\"Not enough samples in buffer to sample {batch_size} items.\")\n",
        "\n",
        "    # Sample a mini-batch\n",
        "    minibatch = random.sample(replay_buffer, batch_size)\n",
        "\n",
        "    states, actions, rewards, next_states, dones = zip(*minibatch)\n",
        "\n",
        "    states = np.array(states, dtype=np.float32).squeeze()\n",
        "    next_states = np.array(next_states, dtype=np.float32).squeeze()\n",
        "    actions = np.array(actions, dtype=np.int32)\n",
        "    rewards = np.array(rewards, dtype=np.float32)\n",
        "    dones = np.array(dones, dtype=np.float32)\n",
        "\n",
        "    return states, actions, rewards, next_states, dones\n",
        "\n",
        "# [Hint] You may find the following statements useful\n",
        "\"\"\"\n",
        "# Define replay buffer\n",
        "replay_buffer = deque(maxlen=10000)\n",
        "\n",
        "# Store experience tuple into replay_buffer\n",
        "store_experience(replay_buffer, state, action, reward, next_state, done)\n",
        "\n",
        "# Sample mini-batch of size ba from replay_buffer\n",
        "states, actions, rewards, next_states, dones = sample_experience(replay_buffer, ba)\n",
        "\"\"\""
      ]
    },
    {
      "cell_type": "markdown",
      "metadata": {
        "id": "OCkBN3gIiLFP"
      },
      "source": [
        "# Naive DQN - Baseline\n",
        "\n",
        "In this section, you will complete the Naive DQN alorithm by implementing the missing components marked as `[WriteCode]`.\n",
        "\n"
      ]
    },
    {
      "cell_type": "markdown",
      "metadata": {
        "id": "tyRVFFdXvFYk"
      },
      "source": [
        "## Define and Compile the Neural Network\n",
        "\n",
        "A single network $Q_\\theta$ (parameterized by $\\theta$) is used to approximate $Q(s,a)$.\n",
        "\n",
        "The target used by Naive DQN is then:\n",
        "\n",
        "$Y^{NaiveQ}_t = R_{t+1} + \\gamma Q_{\\theta}(S_{t+1}, a)$"
      ]
    },
    {
      "cell_type": "code",
      "execution_count": 5,
      "metadata": {
        "id": "83PVW-l7DRc6"
      },
      "outputs": [
        {
          "name": "stdout",
          "output_type": "stream",
          "text": [
            "Model: \"sequential_3\"\n",
            "_________________________________________________________________\n",
            " Layer (type)                Output Shape              Param #   \n",
            "=================================================================\n",
            " dense_6 (Dense)             (None, 32)                160       \n",
            "                                                                 \n",
            " dense_7 (Dense)             (None, 32)                1056      \n",
            "                                                                 \n",
            " dense_8 (Dense)             (None, 2)                 66        \n",
            "                                                                 \n",
            "=================================================================\n",
            "Total params: 1,282\n",
            "Trainable params: 1,282\n",
            "Non-trainable params: 0\n",
            "_________________________________________________________________\n"
          ]
        }
      ],
      "source": [
        "# Naive DQN Baseline Model\n",
        "from keras.models import Sequential\n",
        "from keras.layers import Input, Dense\n",
        "from keras.initializers import RandomUniform\n",
        "\n",
        "state_size = (4,) # Number of observations (CartPole)\n",
        "action_size = 2        # Number of possible actions\n",
        "\n",
        "# [WriteCode] from ... import ...\n",
        "from keras.optimizers import Adam\n",
        "# Define the Q-network\n",
        "model = Sequential()\n",
        "\n",
        "# [WriteCode]\n",
        "# model.add(...\n",
        "model.add(Input(shape=state_size))\n",
        "initialiser = RandomUniform(minval=-0.5, maxval=0.5, seed=42)\n",
        "initialiser_1 = RandomUniform(minval=-5, maxval=5, seed=42)\n",
        "model.add(Dense(32, activation='tanh', kernel_initializer=initialiser))  # First hidden layer\n",
        "model.add(Dense(32, activation='tanh', kernel_initializer=initialiser_1))  # Second hidden layer\n",
        "model.add(Dense(action_size))  # Output layer (Q-values for each action)\n",
        "\n",
        "# Compile the model\n",
        "# [WriteCode]\n",
        "model.compile(optimizer='Adam', loss='mean_squared_error')\n",
        "\n",
        "# Print the model summary\n",
        "# [WriteCode]\n",
        "model.summary()"
      ]
    },
    {
      "cell_type": "markdown",
      "metadata": {
        "id": "c9X6H46OIExH"
      },
      "source": [
        "## Set Up Env and Train the Policy"
      ]
    },
    {
      "cell_type": "code",
      "execution_count": null,
      "metadata": {
        "id": "wK70zqKbIHWJ"
      },
      "outputs": [],
      "source": [
        "# For logging\n",
        "train_reward_lst = []\n",
        "eval_reward_mean_lst = []\n",
        "eval_reward_var_lst = []\n",
        "\n",
        "# Set up environment\n",
        "env = gym.make(\"CartPole-v1\", render_mode=\"rgb_array\")\n",
        "state_size = env.observation_space.shape[0] # Number of observations (CartPole)\n",
        "action_size = env.action_space.n            # Number of possible actions\n",
        "\n",
        "model_dir = \"naive_dqn_baseline\"  # TensorBoard log directory\n",
        "cb = keras.callbacks.TensorBoard(log_dir = get_run_logdir(model_dir), histogram_freq=1)\n",
        "\n",
        "# For timing training\n",
        "total_training_time = 0\n",
        "\n",
        "# Define replay buffer\n",
        "# [WriteCode]\n",
        "replay_buffer = deque(maxlen=10000)\n",
        "\n",
        "for ep in range(episode):\n",
        "    state, _ = env.reset()\n",
        "    state = np.reshape(state, [1, state_size])\n",
        "    total_reward = 0\n",
        "\n",
        "    # record start time\n",
        "    start = time.time()\n",
        "\n",
        "    for _ in range(500):\n",
        "        # Interact with the environment with epsilon-greedy policy\n",
        "        if np.random.rand() <= epsilon:\n",
        "            action = np.random.choice(action_size)\n",
        "        else:\n",
        "            q_values = model.predict(state, verbose=0)\n",
        "            action = np.argmax(q_values)\n",
        "\n",
        "        next_state, reward, terminated, truncated, _ = env.step(action)\n",
        "        next_state = np.reshape(next_state, [1, state_size])\n",
        "        done = terminated or truncated\n",
        "\n",
        "        # store experience into replay buffer\n",
        "        # [WriteCode]\n",
        "        store_experience(replay_buffer, state, action, reward, next_state, done)\n",
        "\n",
        "        state = next_state\n",
        "        total_reward += reward\n",
        "\n",
        "        if done:\n",
        "            break\n",
        "\n",
        "\n",
        "        if len(replay_buffer) >= ba:\n",
        "            # Update policy with mini-batches if replay buffer contains enough samples\n",
        "            # Update policy using Q-Learning update:  Q(s, a) = r + gamma * max Q(s', a')\n",
        "            # [WriteCode]\n",
        "            # Sample a mini-batch\n",
        "            states, actions, rewards, next_states, dones = sample_experience(replay_buffer, ba)\n",
        "\n",
        "            # Compute target Q-values\n",
        "            q_targets = rewards + (gamma * np.amax(model.predict(next_states, verbose=0), axis=1)) * (1 - dones)\n",
        "\n",
        "            # Predict current Q-values for states\n",
        "            q_values = model.predict(states, verbose=0)\n",
        "\n",
        "            # Update Q-value for the taken action\n",
        "            for i, action in enumerate(actions):\n",
        "                q_values[i][action] = q_targets[i]\n",
        "\n",
        "            # Fit the model to the updated Q-values\n",
        "            model.fit(states, q_values, epochs=epoch, verbose=0, callbacks=[cb])\n",
        "\n",
        "\n",
        "            # Hints:\n",
        "\n",
        "            # 1. Compute target Q-values:\n",
        "            # - If done, Q-target = reward (no future reward)\n",
        "            # - Otherwise, Q-target = reward + gamma * max(Q(next_state, a))\n",
        "\n",
        "            # 2. Predict current Q-values for state\n",
        "            # Update only the Q-value for the taken action\n",
        "\n",
        "            # 3. Fit the model:\n",
        "            # - Inputs: state\n",
        "            # - Targets: updated Q-values (with action Q-value replaced by computed target)\n",
        "\n",
        "            # Update exploration rate\n",
        "            if epsilon > epsilon_min:\n",
        "                epsilon *= epsilon_decay\n",
        "\n",
        "    # record end time and log training time\n",
        "    end = time.time()\n",
        "    total_training_time += end - start\n",
        "\n",
        "    # Evaluation\n",
        "    # [WriteCode]\n",
        "    eval_reward_mean, eval_reward_var = evaluation(model)\n",
        "\n",
        "\n",
        "    print(f\"Episode {ep + 1}/{episode} | Ep. Total Reward: {total_reward}\"\n",
        "        f\" | Epsilon : {epsilon:.3f}\"\n",
        "        f\" | Eval Rwd Mean: {eval_reward_mean:.2f}\"\n",
        "        f\" | Eval Rwd Var: {eval_reward_var:.2f}\")\n",
        "\n",
        "    # Log\n",
        "    eval_reward_mean_lst.append(eval_reward_mean)\n",
        "    eval_reward_var_lst.append(eval_reward_var)\n",
        "    train_reward_lst.append(total_reward)\n",
        "\n",
        "    # Early Stopping Condition to avoid overfitting\n",
        "    # If the evaluation reward reaches the specified threshold, stop training early.\n",
        "    # The default threshold is set to 500, but you should adjust this based on observed training performance.\n",
        "    if eval_reward_mean >= 500: # [Modify this threshold as needed]\n",
        "        print(f\"Early stopping triggered at Episode {ep + 1}.\")\n",
        "        break\n",
        "\n",
        "# evaluate average training time per episode\n",
        "print(f\"Training time: {total_training_time/episode:.4f} seconds per episode\")\n",
        "\n",
        "\n",
        "env.close()"
      ]
    },
    {
      "cell_type": "markdown",
      "metadata": {
        "id": "HMgwUOjQ30iI"
      },
      "source": [
        "## Plot Results"
      ]
    },
    {
      "cell_type": "code",
      "execution_count": null,
      "metadata": {
        "id": "FcQkJXSl30iI"
      },
      "outputs": [],
      "source": [
        "# Write code to plot\n",
        "# 1) Moving Averaged Training Reward, 2) Evaluation Mean, 3) Evaluation Variance\n",
        "# [Write Code]\n",
        "\n",
        "# plot_smoothed_training_rwd(...\n",
        "\n",
        "# plot_eval_rwd_mean(...\n",
        "\n",
        "# plot_eval_rwd_var(...\n",
        "def plot_training_rwd(train_rwd_list):\n",
        "  \"\"\"Plot unsmoothed training rewards (no moving average).\"\"\"\n",
        "  plt.plot(train_rwd_list)\n",
        "  plt.title(\"Training Rewards\")\n",
        "  plt.xlabel(\"Episodes\")\n",
        "  plt.ylabel(\"Training rewards\")\n",
        "  plt.show()\n",
        "\n",
        "if len(train_reward_lst) >= 20:\n",
        "  plot_smoothed_training_rwd(train_reward_lst, window_size=20)\n",
        "else: \n",
        "  plot_training_rwd(train_reward_lst)\n",
        "\n",
        "\n",
        "plot_eval_rwd_mean(eval_reward_mean_lst)\n",
        "plot_eval_rwd_var(eval_reward_var_lst)"
      ]
    },
    {
      "cell_type": "code",
      "execution_count": null,
      "metadata": {},
      "outputs": [],
      "source": [
        "save_model(eval_reward_mean_lst, \\\n",
        "    eval_reward_var_lst,\\\n",
        "    train_reward_lst,\n",
        "    model, \\\n",
        "      model_dir)"
      ]
    },
    {
      "cell_type": "markdown",
      "metadata": {
        "id": "qsx1mQTZwhNC"
      },
      "source": [
        "# Naive DQN - Alternative\n",
        "You may insert extra cells in the notebook to perform tuning experiments and log results effectively. Use TensorBoard, plots, or tables to visualize the impact of different hyperparameter choices."
      ]
    },
    {
      "cell_type": "code",
      "execution_count": null,
      "metadata": {
        "id": "auXumGG5w7JN"
      },
      "outputs": [],
      "source": [
        "# [Write Code]\n",
        "lr =  0.1     #@param {type:\"number\"}               # learning rate\n",
        "epoch =  16     #@param {type:\"number\"}               # epochs\n",
        "episode = 500  #@param {type:\"number\"}               # episodes\n",
        "\n",
        "epsilon = 0.9           #@param {type:\"number\"}     # Starting exploration rate\n",
        "epsilon_min = 0.1    #@param {type:\"number\"}     # Exploration rate min\n",
        "epsilon_decay = 0.995     #@param {type:\"number\"}     # Exploration rate decay\n",
        "\n",
        "gamma = 0.99          #@param {type:\"number\"}     # Agent discount factor\n",
        "\n",
        "# Use the following set of NN hyperparameters for Naive DQN, DQN and DDQN policies\n",
        "ba =  32       #@param {type:\"number\"}               # batch_size\n",
        "\n",
        "# Use the following set of RL hyperparameters for DQN and DDQN policies\n",
        "target_update_freq = 100 # @param {type:\"number\"}    # Target network update frequency"
      ]
    },
    {
      "cell_type": "code",
      "execution_count": 6,
      "metadata": {},
      "outputs": [
        {
          "name": "stdout",
          "output_type": "stream",
          "text": [
            "Model: \"sequential_4\"\n",
            "_________________________________________________________________\n",
            " Layer (type)                Output Shape              Param #   \n",
            "=================================================================\n",
            " dense_9 (Dense)             (None, 32)                160       \n",
            "                                                                 \n",
            " dense_10 (Dense)            (None, 32)                1056      \n",
            "                                                                 \n",
            " dense_11 (Dense)            (None, 2)                 66        \n",
            "                                                                 \n",
            "=================================================================\n",
            "Total params: 1,282\n",
            "Trainable params: 1,282\n",
            "Non-trainable params: 0\n",
            "_________________________________________________________________\n"
          ]
        }
      ],
      "source": [
        "# Naive DQN Alternative Model (but same structure anyway)\n",
        "from keras.models import Sequential\n",
        "from keras.layers import Input, Dense\n",
        "from keras.initializers import RandomUniform\n",
        "\n",
        "state_size = (4,) # Number of observations (CartPole)\n",
        "action_size = 2        # Number of possible actions\n",
        "\n",
        "# [WriteCode] from ... import ...\n",
        "from keras.optimizers import Adam\n",
        "# Define the Q-network\n",
        "alt_model = Sequential()\n",
        "\n",
        "# [WriteCode]\n",
        "# model.add(...\n",
        "alt_model.add(Input(shape=state_size))\n",
        "initialiser = RandomUniform(minval=-0.5, maxval=0.5, seed=42)\n",
        "initialiser_1 = RandomUniform(minval=-5, maxval=5, seed=42)\n",
        "alt_model.add(Dense(32, activation='tanh', kernel_initializer=initialiser))  # First hidden layer\n",
        "alt_model.add(Dense(32, activation='tanh', kernel_initializer=initialiser_1))  # Second hidden layer\n",
        "alt_model.add(Dense(action_size))  # Output layer (Q-values for each action)\n",
        "\n",
        "# Compile the model\n",
        "# [WriteCode]\n",
        "alt_model.compile(optimizer='Adam', loss='mean_squared_error')\n",
        "\n",
        "# Print the model summary\n",
        "# [WriteCode]\n",
        "alt_model.summary()"
      ]
    },
    {
      "cell_type": "code",
      "execution_count": null,
      "metadata": {},
      "outputs": [],
      "source": [
        "# For logging\n",
        "train_reward_lst = []\n",
        "eval_reward_mean_lst = []\n",
        "eval_reward_var_lst = []\n",
        "\n",
        "# Set up environment\n",
        "env = gym.make(\"CartPole-v1\", render_mode=\"rgb_array\")\n",
        "state_size = env.observation_space.shape[0] # Number of observations (CartPole)\n",
        "action_size = env.action_space.n            # Number of possible actions\n",
        "\n",
        "model_dir = \"naive_dqn_alt\"  # TensorBoard log directory\n",
        "cb = keras.callbacks.TensorBoard(log_dir = get_run_logdir(model_dir), histogram_freq=1)\n",
        "\n",
        "# For timing training\n",
        "total_training_time = 0\n",
        "\n",
        "# Define replay buffer\n",
        "# [WriteCode]\n",
        "replay_buffer = deque(maxlen=10000)\n",
        "\n",
        "for ep in range(episode):\n",
        "    state, _ = env.reset()\n",
        "    state = np.reshape(state, [1, state_size])\n",
        "    total_reward = 0\n",
        "\n",
        "    # record start time\n",
        "    start = time.time()\n",
        "\n",
        "    for _ in range(500):\n",
        "        # Interact with the environment with epsilon-greedy policy\n",
        "        if np.random.rand() <= epsilon:\n",
        "            action = np.random.choice(action_size)\n",
        "        else:\n",
        "            q_values = alt_model.predict(state, verbose=0)\n",
        "            action = np.argmax(q_values)\n",
        "\n",
        "        next_state, reward, terminated, truncated, _ = env.step(action)\n",
        "        next_state = np.reshape(next_state, [1, state_size])\n",
        "        done = terminated or truncated\n",
        "\n",
        "        # store experience into replay buffer\n",
        "        # [WriteCode]\n",
        "        store_experience(replay_buffer, state, action, reward, next_state, done)\n",
        "\n",
        "        state = next_state\n",
        "        total_reward += reward\n",
        "\n",
        "        if done:\n",
        "            break\n",
        "\n",
        "\n",
        "        if len(replay_buffer) >= ba:\n",
        "            # Update policy with mini-batches if replay buffer contains enough samples\n",
        "            # Update policy using Q-Learning update:  Q(s, a) = r + gamma * max Q(s', a')\n",
        "            # [WriteCode]\n",
        "            # Sample a mini-batch\n",
        "            states, actions, rewards, next_states, dones = sample_experience(replay_buffer, ba)\n",
        "\n",
        "            # Compute target Q-values\n",
        "            q_targets = rewards + (gamma * np.amax(alt_model.predict(next_states, verbose=0), axis=1)) * (1 - dones)\n",
        "\n",
        "            # Predict current Q-values for states\n",
        "            q_values = alt_model.predict(states, verbose=0)\n",
        "\n",
        "            # Update Q-value for the taken action\n",
        "            for i, action in enumerate(actions):\n",
        "                q_values[i][action] = q_targets[i]\n",
        "\n",
        "            # Fit the model to the updated Q-values\n",
        "            alt_model.fit(states, q_values, epochs=epoch, verbose=0, callbacks=[cb])\n",
        "\n",
        "\n",
        "            # Hints:\n",
        "\n",
        "            # 1. Compute target Q-values:\n",
        "            # - If done, Q-target = reward (no future reward)\n",
        "            # - Otherwise, Q-target = reward + gamma * max(Q(next_state, a))\n",
        "\n",
        "            # 2. Predict current Q-values for state\n",
        "            # Update only the Q-value for the taken action\n",
        "\n",
        "            # 3. Fit the model:\n",
        "            # - Inputs: state\n",
        "            # - Targets: updated Q-values (with action Q-value replaced by computed target)\n",
        "\n",
        "            # Update exploration rate\n",
        "            if epsilon > epsilon_min:\n",
        "                epsilon *= epsilon_decay\n",
        "\n",
        "    # record end time and log training time\n",
        "    end = time.time()\n",
        "    total_training_time += end - start\n",
        "\n",
        "    # Evaluation\n",
        "    # [WriteCode]\n",
        "    eval_reward_mean, eval_reward_var = evaluation(alt_model)\n",
        "\n",
        "\n",
        "    print(f\"Episode {ep + 1}/{episode} | Ep. Total Reward: {total_reward}\"\n",
        "        f\" | Epsilon : {epsilon:.3f}\"\n",
        "        f\" | Eval Rwd Mean: {eval_reward_mean:.2f}\"\n",
        "        f\" | Eval Rwd Var: {eval_reward_var:.2f}\")\n",
        "\n",
        "    # Log\n",
        "    eval_reward_mean_lst.append(eval_reward_mean)\n",
        "    eval_reward_var_lst.append(eval_reward_var)\n",
        "    train_reward_lst.append(total_reward)\n",
        "\n",
        "    # Early Stopping Condition to avoid overfitting\n",
        "    # If the evaluation reward reaches the specified threshold, stop training early.\n",
        "    # The default threshold is set to 500, but you should adjust this based on observed training performance.\n",
        "    if eval_reward_mean >= 500: # [Modify this threshold as needed]\n",
        "        print(f\"Early stopping triggered at Episode {ep + 1}.\")\n",
        "        break\n",
        "\n",
        "# evaluate average training time per episode\n",
        "print(f\"Training time: {total_training_time/episode:.4f} seconds per episode\")\n",
        "\n",
        "\n",
        "env.close()"
      ]
    },
    {
      "cell_type": "code",
      "execution_count": null,
      "metadata": {},
      "outputs": [],
      "source": [
        "if len(train_reward_lst) >= 20:\n",
        "  plot_smoothed_training_rwd(train_reward_lst, window_size=20)\n",
        "else: \n",
        "  plot_training_rwd(train_reward_lst)\n",
        "\n",
        "\n",
        "plot_eval_rwd_mean(eval_reward_mean_lst)\n",
        "plot_eval_rwd_var(eval_reward_var_lst)\n"
      ]
    },
    {
      "cell_type": "markdown",
      "metadata": {
        "id": "lAiI3y2yw47Q"
      },
      "source": [
        "## Comparison\n",
        "\n",
        "Compare performance of the Baseline and the Alternative Naive DQN Policies"
      ]
    },
    {
      "cell_type": "code",
      "execution_count": null,
      "metadata": {
        "id": "dHIjFgUhw-aR"
      },
      "outputs": [],
      "source": [
        "# [Write Code]\n",
        "ITERATIONS = 10\n",
        "\n",
        "base_eval_mean = []\n",
        "base_eval_var = []\n",
        "alt_eval_mean = []\n",
        "alt_eval_var = []\n",
        "\n",
        "for i in range(ITERATIONS):\n",
        "    eval_mean, eval_var = evaluation(model)\n",
        "    base_eval_mean.append(eval_mean)\n",
        "    base_eval_var.append(eval_var)\n",
        "    \n",
        "    eval_mean, eval_var = evaluation(alt_model)\n",
        "    alt_eval_mean.append(eval_mean)\n",
        "    alt_eval_var.append(eval_var)\n",
        "    \n",
        "plot_evaluation_metrics(base_eval_mean, base_eval_var, alt_eval_mean, alt_eval_var, ITERATIONS)"
      ]
    },
    {
      "cell_type": "code",
      "execution_count": null,
      "metadata": {},
      "outputs": [],
      "source": [
        "save_model(eval_reward_mean_lst, \\\n",
        "    eval_reward_var_lst,\\\n",
        "    train_reward_lst,\n",
        "    alt_model, \\\n",
        "      model_dir)"
      ]
    },
    {
      "cell_type": "markdown",
      "metadata": {
        "id": "Iy8REuq6iQah"
      },
      "source": [
        "# DQN\n",
        "\n",
        "In this section, you will complete the DQN algorithm by implementing the missing components marked as `[WriteCode]`.\n"
      ]
    },
    {
      "cell_type": "markdown",
      "metadata": {
        "id": "ZXqZUwXkxYci"
      },
      "source": [
        "## Define and Compile the Neural Networks"
      ]
    },
    {
      "cell_type": "markdown",
      "metadata": {
        "id": "2FvxFyz5hnEP"
      },
      "source": [
        "The standard DQN [https://arxiv.org/abs/1312.5602] approach features a periodically updated target network to stabilize training:\n",
        "\n",
        "- `target_model`: A periodically updated network that stabilizes training. During training, this network is used to compute $Q(S_{t+1}, a)$ for each possible action $a$. This network is not actively trained, but at regular intervals, its weights are copied from `eval_model`. This prevents rapid fluctuations in target Q-values and improves learning stability.\n",
        "\n",
        "- `eval_model`: The online learning network that interacts with the environment. During training, this network is used to compute $Q(S_{t}, a)$ for each possible action $a$. It updates its weights by minimizing the difference between predicted and target Q-values, improving the agent's decision-making over time.\n",
        "\n",
        "The target used by DQN is then:\n",
        "\n",
        "$Y^{Q}_t = R_{t+1} + \\gamma \\max_a Q_{target}(S_{t+1}, a)$\n",
        "\n",
        "In the following section, define `[eval_model]` and `[target_model]` with identical architectures."
      ]
    },
    {
      "cell_type": "code",
      "execution_count": 17,
      "metadata": {},
      "outputs": [],
      "source": [
        "# Use the following set of NN hyperparameters for ALL FOUR basline policies\n",
        "lr =  0.1        #@param {type:\"number\"}               # learning rate\n",
        "epoch =  32     #@param {type:\"number\"}               # epochs\n",
        "episode = 500  #@param {type:\"number\"}               # episodes\n",
        "\n",
        "epsilon = 0.9           #@param {type:\"number\"}     # Starting exploration rate\n",
        "epsilon_min = 0.1    #@param {type:\"number\"}     # Exploration rate min\n",
        "epsilon_decay = 0.99     #@param {type:\"number\"}     # Exploration rate decay\n",
        "\n",
        "gamma = 0.99          #@param {type:\"number\"}     # Agent discount factor\n",
        "\n",
        "# Use the following set of NN hyperparameters for Naive DQN, DQN and DDQN policies\n",
        "ba =  32       #@param {type:\"number\"}               # batch_size\n",
        "\n",
        "# Use the following set of RL hyperparameters for DQN and DDQN policies\n",
        "target_update_freq = 0.05 # @param {type:\"number\"}    # Target network update frequency"
      ]
    },
    {
      "cell_type": "code",
      "execution_count": 7,
      "metadata": {
        "id": "NYILkt0Gzd5G"
      },
      "outputs": [
        {
          "name": "stdout",
          "output_type": "stream",
          "text": [
            "Model: \"sequential_5\"\n",
            "_________________________________________________________________\n",
            " Layer (type)                Output Shape              Param #   \n"
          ]
        },
        {
          "name": "stdout",
          "output_type": "stream",
          "text": [
            "=================================================================\n",
            " dense_12 (Dense)            (None, 32)                160       \n",
            "                                                                 \n",
            " dense_13 (Dense)            (None, 32)                1056      \n",
            "                                                                 \n",
            " dense_14 (Dense)            (None, 2)                 66        \n",
            "                                                                 \n",
            "=================================================================\n",
            "Total params: 1,282\n",
            "Trainable params: 1,282\n",
            "Non-trainable params: 0\n",
            "_________________________________________________________________\n",
            "None\n",
            "Model: \"sequential_6\"\n",
            "_________________________________________________________________\n",
            " Layer (type)                Output Shape              Param #   \n",
            "=================================================================\n",
            " dense_15 (Dense)            (None, 32)                160       \n",
            "                                                                 \n",
            " dense_16 (Dense)            (None, 32)                1056      \n",
            "                                                                 \n",
            " dense_17 (Dense)            (None, 2)                 66        \n",
            "                                                                 \n",
            "=================================================================\n",
            "Total params: 1,282\n",
            "Trainable params: 1,282\n",
            "Non-trainable params: 0\n",
            "_________________________________________________________________\n",
            "None\n"
          ]
        }
      ],
      "source": [
        "# DQN Baseline Model\n",
        "from keras.models import Sequential\n",
        "from keras.layers import Dense\n",
        "\n",
        "\n",
        "# [WriteCode] from ... import ...\n",
        "from keras.optimizers import Adam \n",
        "\n",
        "# Define the eval (online) network\n",
        "eval_model = Sequential()\n",
        "\n",
        "# [WriteCode]\n",
        "# model.add(...\n",
        "initialiser = RandomUniform(minval=-0.5, maxval=0.5, seed=42)\n",
        "initialiser_1 = RandomUniform(minval=-5, maxval=5, seed=42)\n",
        "eval_model.add(Dense(32, input_dim=4, activation='tanh', kernel_initializer=initialiser))  # Input layer, 4 is typical for environments like CartPole\n",
        "eval_model.add(Dense(32, activation='tanh', kernel_initializer=initialiser_1))  # Hidden layer\n",
        "eval_model.add(Dense(2, activation='linear'))  # Output layer, 2 outputs for two possible actions (for CartPole)\n",
        "\n",
        "\n",
        "# Compile the model\n",
        "# [WriteCode]\n",
        "eval_model.compile(loss='mse', optimizer=Adam(learning_rate=0.001))  # Using Mean Squared Error loss for DQN\n",
        "\n",
        "# Print the model summary\n",
        "# [WriteCode]\n",
        "print(eval_model.summary())\n",
        "\n",
        "\n",
        "# Create target_model with the same architecture\n",
        "target_model = Sequential()\n",
        "\n",
        "# [WriteCode]\n",
        "# model.add(...\n",
        "initialiser_2 = RandomUniform(minval=-0.5, maxval=0.5, seed=42)\n",
        "initialiser_3 = RandomUniform(minval=-5, maxval=5, seed=42)\n",
        "target_model.add(Dense(32, input_dim=4, activation='tanh', kernel_initializer=initialiser_2))  # Same structure\n",
        "target_model.add(Dense(32, activation='tanh', kernel_initializer=initialiser_3))\n",
        "target_model.add(Dense(2, activation='linear'))\n",
        "\n",
        "\n",
        "# Skip compiling as target_model will not be trained with .fit()\n",
        "# Instead, weights will be copied from the online model\n",
        "target_model.set_weights(eval_model.get_weights())\n",
        "\n",
        "# Print the model summary\n",
        "# [WriteCode]\n",
        "print(target_model.summary())"
      ]
    },
    {
      "cell_type": "markdown",
      "metadata": {
        "id": "WZfiKQHk_Vjb"
      },
      "source": [
        "## Set Up Env and Train the Policy"
      ]
    },
    {
      "cell_type": "markdown",
      "metadata": {
        "id": "hsudLCVWB1Em"
      },
      "source": [
        "In this section, you will complete the DQN training routine by implementing the missing components marked as `[WriteCode]`.\n",
        "\n",
        "\n"
      ]
    },
    {
      "cell_type": "code",
      "execution_count": 21,
      "metadata": {
        "id": "I96clO81hFJ_"
      },
      "outputs": [
        {
          "name": "stdout",
          "output_type": "stream",
          "text": [
            "Episode 1/500 | Ep. Total Reward: 16.0 | Epsilon : 0.900 | Eval Rwd Mean: 90.00 | Eval Rwd Var: 1544.67\n"
          ]
        },
        {
          "ename": "KeyboardInterrupt",
          "evalue": "",
          "output_type": "error",
          "traceback": [
            "\u001b[1;31m---------------------------------------------------------------------------\u001b[0m",
            "\u001b[1;31mKeyboardInterrupt\u001b[0m                         Traceback (most recent call last)",
            "Cell \u001b[1;32mIn[21], line 107\u001b[0m\n\u001b[0;32m    103\u001b[0m total_training_time \u001b[38;5;241m+\u001b[39m\u001b[38;5;241m=\u001b[39m end \u001b[38;5;241m-\u001b[39m start\n\u001b[0;32m    105\u001b[0m \u001b[38;5;66;03m# Evaluation\u001b[39;00m\n\u001b[0;32m    106\u001b[0m \u001b[38;5;66;03m# [WriteCode]\u001b[39;00m\n\u001b[1;32m--> 107\u001b[0m eval_reward_mean, eval_reward_var \u001b[38;5;241m=\u001b[39m \u001b[43mevaluation\u001b[49m\u001b[43m(\u001b[49m\u001b[43meval_model\u001b[49m\u001b[43m)\u001b[49m\n\u001b[0;32m    110\u001b[0m \u001b[38;5;28mprint\u001b[39m(\u001b[38;5;124mf\u001b[39m\u001b[38;5;124m\"\u001b[39m\u001b[38;5;124mEpisode \u001b[39m\u001b[38;5;132;01m{\u001b[39;00mep\u001b[38;5;250m \u001b[39m\u001b[38;5;241m+\u001b[39m\u001b[38;5;250m \u001b[39m\u001b[38;5;241m1\u001b[39m\u001b[38;5;132;01m}\u001b[39;00m\u001b[38;5;124m/\u001b[39m\u001b[38;5;132;01m{\u001b[39;00mepisode\u001b[38;5;132;01m}\u001b[39;00m\u001b[38;5;124m | Ep. Total Reward: \u001b[39m\u001b[38;5;132;01m{\u001b[39;00mtotal_reward\u001b[38;5;132;01m}\u001b[39;00m\u001b[38;5;124m\"\u001b[39m\n\u001b[0;32m    111\u001b[0m     \u001b[38;5;124mf\u001b[39m\u001b[38;5;124m\"\u001b[39m\u001b[38;5;124m | Epsilon : \u001b[39m\u001b[38;5;132;01m{\u001b[39;00mepsilon\u001b[38;5;132;01m:\u001b[39;00m\u001b[38;5;124m.3f\u001b[39m\u001b[38;5;132;01m}\u001b[39;00m\u001b[38;5;124m\"\u001b[39m\n\u001b[0;32m    112\u001b[0m     \u001b[38;5;124mf\u001b[39m\u001b[38;5;124m\"\u001b[39m\u001b[38;5;124m | Eval Rwd Mean: \u001b[39m\u001b[38;5;132;01m{\u001b[39;00meval_reward_mean\u001b[38;5;132;01m:\u001b[39;00m\u001b[38;5;124m.2f\u001b[39m\u001b[38;5;132;01m}\u001b[39;00m\u001b[38;5;124m\"\u001b[39m\n\u001b[0;32m    113\u001b[0m     \u001b[38;5;124mf\u001b[39m\u001b[38;5;124m\"\u001b[39m\u001b[38;5;124m | Eval Rwd Var: \u001b[39m\u001b[38;5;132;01m{\u001b[39;00meval_reward_var\u001b[38;5;132;01m:\u001b[39;00m\u001b[38;5;124m.2f\u001b[39m\u001b[38;5;132;01m}\u001b[39;00m\u001b[38;5;124m\"\u001b[39m)\n\u001b[0;32m    115\u001b[0m \u001b[38;5;66;03m# Log\u001b[39;00m\n",
            "Cell \u001b[1;32mIn[14], line 14\u001b[0m, in \u001b[0;36mevaluation\u001b[1;34m(model, max_timesteps)\u001b[0m\n\u001b[0;32m     11\u001b[0m state \u001b[38;5;241m=\u001b[39m np\u001b[38;5;241m.\u001b[39mreshape(state, [\u001b[38;5;241m1\u001b[39m, state_size])\n\u001b[0;32m     13\u001b[0m \u001b[38;5;28;01mfor\u001b[39;00m i \u001b[38;5;129;01min\u001b[39;00m \u001b[38;5;28mrange\u001b[39m(max_timesteps):\n\u001b[1;32m---> 14\u001b[0m     action \u001b[38;5;241m=\u001b[39m np\u001b[38;5;241m.\u001b[39margmax(\u001b[43mmodel\u001b[49m\u001b[38;5;241;43m.\u001b[39;49m\u001b[43mpredict\u001b[49m\u001b[43m(\u001b[49m\u001b[43mstate\u001b[49m\u001b[43m,\u001b[49m\u001b[43m \u001b[49m\u001b[43mverbose\u001b[49m\u001b[38;5;241;43m=\u001b[39;49m\u001b[38;5;241;43m0\u001b[39;49m\u001b[43m)\u001b[49m[\u001b[38;5;241m0\u001b[39m])\n\u001b[0;32m     15\u001b[0m     next_state, reward, terminated, truncated, _ \u001b[38;5;241m=\u001b[39m eval_env\u001b[38;5;241m.\u001b[39mstep(action)\n\u001b[0;32m     16\u001b[0m     next_state \u001b[38;5;241m=\u001b[39m np\u001b[38;5;241m.\u001b[39mreshape(next_state, [\u001b[38;5;241m1\u001b[39m, state_size])\n",
            "File \u001b[1;32mc:\\Users\\andyc\\AppData\\Local\\Programs\\Python\\Python311\\Lib\\site-packages\\keras\\utils\\traceback_utils.py:65\u001b[0m, in \u001b[0;36mfilter_traceback.<locals>.error_handler\u001b[1;34m(*args, **kwargs)\u001b[0m\n\u001b[0;32m     63\u001b[0m filtered_tb \u001b[38;5;241m=\u001b[39m \u001b[38;5;28;01mNone\u001b[39;00m\n\u001b[0;32m     64\u001b[0m \u001b[38;5;28;01mtry\u001b[39;00m:\n\u001b[1;32m---> 65\u001b[0m     \u001b[38;5;28;01mreturn\u001b[39;00m \u001b[43mfn\u001b[49m\u001b[43m(\u001b[49m\u001b[38;5;241;43m*\u001b[39;49m\u001b[43margs\u001b[49m\u001b[43m,\u001b[49m\u001b[43m \u001b[49m\u001b[38;5;241;43m*\u001b[39;49m\u001b[38;5;241;43m*\u001b[39;49m\u001b[43mkwargs\u001b[49m\u001b[43m)\u001b[49m\n\u001b[0;32m     66\u001b[0m \u001b[38;5;28;01mexcept\u001b[39;00m \u001b[38;5;167;01mException\u001b[39;00m \u001b[38;5;28;01mas\u001b[39;00m e:\n\u001b[0;32m     67\u001b[0m     filtered_tb \u001b[38;5;241m=\u001b[39m _process_traceback_frames(e\u001b[38;5;241m.\u001b[39m__traceback__)\n",
            "File \u001b[1;32mc:\\Users\\andyc\\AppData\\Local\\Programs\\Python\\Python311\\Lib\\site-packages\\keras\\engine\\training.py:2349\u001b[0m, in \u001b[0;36mModel.predict\u001b[1;34m(self, x, batch_size, verbose, steps, callbacks, max_queue_size, workers, use_multiprocessing)\u001b[0m\n\u001b[0;32m   2340\u001b[0m     \u001b[38;5;28;01mexcept\u001b[39;00m \u001b[38;5;167;01mValueError\u001b[39;00m:\n\u001b[0;32m   2341\u001b[0m         warnings\u001b[38;5;241m.\u001b[39mwarn(\n\u001b[0;32m   2342\u001b[0m             \u001b[38;5;124m\"\u001b[39m\u001b[38;5;124mUsing Model.predict with MultiWorkerMirroredStrategy \u001b[39m\u001b[38;5;124m\"\u001b[39m\n\u001b[0;32m   2343\u001b[0m             \u001b[38;5;124m\"\u001b[39m\u001b[38;5;124mor TPUStrategy and AutoShardPolicy.FILE might lead to \u001b[39m\u001b[38;5;124m\"\u001b[39m\n\u001b[1;32m   (...)\u001b[0m\n\u001b[0;32m   2346\u001b[0m             stacklevel\u001b[38;5;241m=\u001b[39m\u001b[38;5;241m2\u001b[39m,\n\u001b[0;32m   2347\u001b[0m         )\n\u001b[1;32m-> 2349\u001b[0m data_handler \u001b[38;5;241m=\u001b[39m \u001b[43mdata_adapter\u001b[49m\u001b[38;5;241;43m.\u001b[39;49m\u001b[43mget_data_handler\u001b[49m\u001b[43m(\u001b[49m\n\u001b[0;32m   2350\u001b[0m \u001b[43m    \u001b[49m\u001b[43mx\u001b[49m\u001b[38;5;241;43m=\u001b[39;49m\u001b[43mx\u001b[49m\u001b[43m,\u001b[49m\n\u001b[0;32m   2351\u001b[0m \u001b[43m    \u001b[49m\u001b[43mbatch_size\u001b[49m\u001b[38;5;241;43m=\u001b[39;49m\u001b[43mbatch_size\u001b[49m\u001b[43m,\u001b[49m\n\u001b[0;32m   2352\u001b[0m \u001b[43m    \u001b[49m\u001b[43msteps_per_epoch\u001b[49m\u001b[38;5;241;43m=\u001b[39;49m\u001b[43msteps\u001b[49m\u001b[43m,\u001b[49m\n\u001b[0;32m   2353\u001b[0m \u001b[43m    \u001b[49m\u001b[43minitial_epoch\u001b[49m\u001b[38;5;241;43m=\u001b[39;49m\u001b[38;5;241;43m0\u001b[39;49m\u001b[43m,\u001b[49m\n\u001b[0;32m   2354\u001b[0m \u001b[43m    \u001b[49m\u001b[43mepochs\u001b[49m\u001b[38;5;241;43m=\u001b[39;49m\u001b[38;5;241;43m1\u001b[39;49m\u001b[43m,\u001b[49m\n\u001b[0;32m   2355\u001b[0m \u001b[43m    \u001b[49m\u001b[43mmax_queue_size\u001b[49m\u001b[38;5;241;43m=\u001b[39;49m\u001b[43mmax_queue_size\u001b[49m\u001b[43m,\u001b[49m\n\u001b[0;32m   2356\u001b[0m \u001b[43m    \u001b[49m\u001b[43mworkers\u001b[49m\u001b[38;5;241;43m=\u001b[39;49m\u001b[43mworkers\u001b[49m\u001b[43m,\u001b[49m\n\u001b[0;32m   2357\u001b[0m \u001b[43m    \u001b[49m\u001b[43muse_multiprocessing\u001b[49m\u001b[38;5;241;43m=\u001b[39;49m\u001b[43muse_multiprocessing\u001b[49m\u001b[43m,\u001b[49m\n\u001b[0;32m   2358\u001b[0m \u001b[43m    \u001b[49m\u001b[43mmodel\u001b[49m\u001b[38;5;241;43m=\u001b[39;49m\u001b[38;5;28;43mself\u001b[39;49m\u001b[43m,\u001b[49m\n\u001b[0;32m   2359\u001b[0m \u001b[43m    \u001b[49m\u001b[43msteps_per_execution\u001b[49m\u001b[38;5;241;43m=\u001b[39;49m\u001b[38;5;28;43mself\u001b[39;49m\u001b[38;5;241;43m.\u001b[39;49m\u001b[43m_steps_per_execution\u001b[49m\u001b[43m,\u001b[49m\n\u001b[0;32m   2360\u001b[0m \u001b[43m\u001b[49m\u001b[43m)\u001b[49m\n\u001b[0;32m   2362\u001b[0m \u001b[38;5;66;03m# Container that configures and calls `tf.keras.Callback`s.\u001b[39;00m\n\u001b[0;32m   2363\u001b[0m \u001b[38;5;28;01mif\u001b[39;00m \u001b[38;5;129;01mnot\u001b[39;00m \u001b[38;5;28misinstance\u001b[39m(callbacks, callbacks_module\u001b[38;5;241m.\u001b[39mCallbackList):\n",
            "File \u001b[1;32mc:\\Users\\andyc\\AppData\\Local\\Programs\\Python\\Python311\\Lib\\site-packages\\keras\\engine\\data_adapter.py:1583\u001b[0m, in \u001b[0;36mget_data_handler\u001b[1;34m(*args, **kwargs)\u001b[0m\n\u001b[0;32m   1581\u001b[0m \u001b[38;5;28;01mif\u001b[39;00m \u001b[38;5;28mgetattr\u001b[39m(kwargs[\u001b[38;5;124m\"\u001b[39m\u001b[38;5;124mmodel\u001b[39m\u001b[38;5;124m\"\u001b[39m], \u001b[38;5;124m\"\u001b[39m\u001b[38;5;124m_cluster_coordinator\u001b[39m\u001b[38;5;124m\"\u001b[39m, \u001b[38;5;28;01mNone\u001b[39;00m):\n\u001b[0;32m   1582\u001b[0m     \u001b[38;5;28;01mreturn\u001b[39;00m _ClusterCoordinatorDataHandler(\u001b[38;5;241m*\u001b[39margs, \u001b[38;5;241m*\u001b[39m\u001b[38;5;241m*\u001b[39mkwargs)\n\u001b[1;32m-> 1583\u001b[0m \u001b[38;5;28;01mreturn\u001b[39;00m \u001b[43mDataHandler\u001b[49m\u001b[43m(\u001b[49m\u001b[38;5;241;43m*\u001b[39;49m\u001b[43margs\u001b[49m\u001b[43m,\u001b[49m\u001b[43m \u001b[49m\u001b[38;5;241;43m*\u001b[39;49m\u001b[38;5;241;43m*\u001b[39;49m\u001b[43mkwargs\u001b[49m\u001b[43m)\u001b[49m\n",
            "File \u001b[1;32mc:\\Users\\andyc\\AppData\\Local\\Programs\\Python\\Python311\\Lib\\site-packages\\keras\\engine\\data_adapter.py:1260\u001b[0m, in \u001b[0;36mDataHandler.__init__\u001b[1;34m(self, x, y, sample_weight, batch_size, steps_per_epoch, initial_epoch, epochs, shuffle, class_weight, max_queue_size, workers, use_multiprocessing, model, steps_per_execution, distribute)\u001b[0m\n\u001b[0;32m   1257\u001b[0m     \u001b[38;5;28mself\u001b[39m\u001b[38;5;241m.\u001b[39m_steps_per_execution \u001b[38;5;241m=\u001b[39m steps_per_execution\n\u001b[0;32m   1259\u001b[0m adapter_cls \u001b[38;5;241m=\u001b[39m select_data_adapter(x, y)\n\u001b[1;32m-> 1260\u001b[0m \u001b[38;5;28mself\u001b[39m\u001b[38;5;241m.\u001b[39m_adapter \u001b[38;5;241m=\u001b[39m \u001b[43madapter_cls\u001b[49m\u001b[43m(\u001b[49m\n\u001b[0;32m   1261\u001b[0m \u001b[43m    \u001b[49m\u001b[43mx\u001b[49m\u001b[43m,\u001b[49m\n\u001b[0;32m   1262\u001b[0m \u001b[43m    \u001b[49m\u001b[43my\u001b[49m\u001b[43m,\u001b[49m\n\u001b[0;32m   1263\u001b[0m \u001b[43m    \u001b[49m\u001b[43mbatch_size\u001b[49m\u001b[38;5;241;43m=\u001b[39;49m\u001b[43mbatch_size\u001b[49m\u001b[43m,\u001b[49m\n\u001b[0;32m   1264\u001b[0m \u001b[43m    \u001b[49m\u001b[43msteps\u001b[49m\u001b[38;5;241;43m=\u001b[39;49m\u001b[43msteps_per_epoch\u001b[49m\u001b[43m,\u001b[49m\n\u001b[0;32m   1265\u001b[0m \u001b[43m    \u001b[49m\u001b[43mepochs\u001b[49m\u001b[38;5;241;43m=\u001b[39;49m\u001b[43mepochs\u001b[49m\u001b[43m \u001b[49m\u001b[38;5;241;43m-\u001b[39;49m\u001b[43m \u001b[49m\u001b[43minitial_epoch\u001b[49m\u001b[43m,\u001b[49m\n\u001b[0;32m   1266\u001b[0m \u001b[43m    \u001b[49m\u001b[43msample_weights\u001b[49m\u001b[38;5;241;43m=\u001b[39;49m\u001b[43msample_weight\u001b[49m\u001b[43m,\u001b[49m\n\u001b[0;32m   1267\u001b[0m \u001b[43m    \u001b[49m\u001b[43mshuffle\u001b[49m\u001b[38;5;241;43m=\u001b[39;49m\u001b[43mshuffle\u001b[49m\u001b[43m,\u001b[49m\n\u001b[0;32m   1268\u001b[0m \u001b[43m    \u001b[49m\u001b[43mmax_queue_size\u001b[49m\u001b[38;5;241;43m=\u001b[39;49m\u001b[43mmax_queue_size\u001b[49m\u001b[43m,\u001b[49m\n\u001b[0;32m   1269\u001b[0m \u001b[43m    \u001b[49m\u001b[43mworkers\u001b[49m\u001b[38;5;241;43m=\u001b[39;49m\u001b[43mworkers\u001b[49m\u001b[43m,\u001b[49m\n\u001b[0;32m   1270\u001b[0m \u001b[43m    \u001b[49m\u001b[43muse_multiprocessing\u001b[49m\u001b[38;5;241;43m=\u001b[39;49m\u001b[43muse_multiprocessing\u001b[49m\u001b[43m,\u001b[49m\n\u001b[0;32m   1271\u001b[0m \u001b[43m    \u001b[49m\u001b[43mdistribution_strategy\u001b[49m\u001b[38;5;241;43m=\u001b[39;49m\u001b[43mtf\u001b[49m\u001b[38;5;241;43m.\u001b[39;49m\u001b[43mdistribute\u001b[49m\u001b[38;5;241;43m.\u001b[39;49m\u001b[43mget_strategy\u001b[49m\u001b[43m(\u001b[49m\u001b[43m)\u001b[49m\u001b[43m,\u001b[49m\n\u001b[0;32m   1272\u001b[0m \u001b[43m    \u001b[49m\u001b[43mmodel\u001b[49m\u001b[38;5;241;43m=\u001b[39;49m\u001b[43mmodel\u001b[49m\u001b[43m,\u001b[49m\n\u001b[0;32m   1273\u001b[0m \u001b[43m\u001b[49m\u001b[43m)\u001b[49m\n\u001b[0;32m   1275\u001b[0m strategy \u001b[38;5;241m=\u001b[39m tf\u001b[38;5;241m.\u001b[39mdistribute\u001b[38;5;241m.\u001b[39mget_strategy()\n\u001b[0;32m   1277\u001b[0m \u001b[38;5;28mself\u001b[39m\u001b[38;5;241m.\u001b[39m_current_step \u001b[38;5;241m=\u001b[39m \u001b[38;5;241m0\u001b[39m\n",
            "File \u001b[1;32mc:\\Users\\andyc\\AppData\\Local\\Programs\\Python\\Python311\\Lib\\site-packages\\keras\\engine\\data_adapter.py:291\u001b[0m, in \u001b[0;36mTensorLikeDataAdapter.__init__\u001b[1;34m(self, x, y, sample_weights, sample_weight_modes, batch_size, epochs, steps, shuffle, **kwargs)\u001b[0m\n\u001b[0;32m    289\u001b[0m indices_dataset \u001b[38;5;241m=\u001b[39m tf\u001b[38;5;241m.\u001b[39mdata\u001b[38;5;241m.\u001b[39mDataset\u001b[38;5;241m.\u001b[39mrange(\u001b[38;5;241m1\u001b[39m)\n\u001b[0;32m    290\u001b[0m \u001b[38;5;28;01mif\u001b[39;00m shuffle \u001b[38;5;241m!=\u001b[39m \u001b[38;5;124m\"\u001b[39m\u001b[38;5;124mbatch\u001b[39m\u001b[38;5;124m\"\u001b[39m:\n\u001b[1;32m--> 291\u001b[0m     indices_dataset \u001b[38;5;241m=\u001b[39m \u001b[43mindices_dataset\u001b[49m\u001b[38;5;241;43m.\u001b[39;49m\u001b[43mrepeat\u001b[49m\u001b[43m(\u001b[49m\u001b[43mepochs\u001b[49m\u001b[43m)\u001b[49m\n\u001b[0;32m    293\u001b[0m \u001b[38;5;28;01mdef\u001b[39;00m \u001b[38;5;21mpermutation\u001b[39m(_):\n\u001b[0;32m    294\u001b[0m     \u001b[38;5;66;03m# It turns out to be more performant to make a new set of indices\u001b[39;00m\n\u001b[0;32m    295\u001b[0m     \u001b[38;5;66;03m# rather than reusing the same range Tensor. (presumably because of\u001b[39;00m\n\u001b[0;32m    296\u001b[0m     \u001b[38;5;66;03m# buffer forwarding.)\u001b[39;00m\n\u001b[0;32m    297\u001b[0m     indices \u001b[38;5;241m=\u001b[39m tf\u001b[38;5;241m.\u001b[39mrange(num_samples, dtype\u001b[38;5;241m=\u001b[39mtf\u001b[38;5;241m.\u001b[39mint64)\n",
            "File \u001b[1;32mc:\\Users\\andyc\\AppData\\Local\\Programs\\Python\\Python311\\Lib\\site-packages\\tensorflow\\python\\data\\ops\\dataset_ops.py:1337\u001b[0m, in \u001b[0;36mDatasetV2.repeat\u001b[1;34m(self, count, name)\u001b[0m\n\u001b[0;32m   1333\u001b[0m \u001b[38;5;66;03m# Loaded lazily due to a circular dependency (dataset_ops -> repeat_op ->\u001b[39;00m\n\u001b[0;32m   1334\u001b[0m \u001b[38;5;66;03m# dataset_ops).\u001b[39;00m\n\u001b[0;32m   1335\u001b[0m \u001b[38;5;66;03m# pylint: disable=g-import-not-at-top,protected-access,redefined-outer-name\u001b[39;00m\n\u001b[0;32m   1336\u001b[0m \u001b[38;5;28;01mfrom\u001b[39;00m \u001b[38;5;21;01mtensorflow\u001b[39;00m\u001b[38;5;21;01m.\u001b[39;00m\u001b[38;5;21;01mpython\u001b[39;00m\u001b[38;5;21;01m.\u001b[39;00m\u001b[38;5;21;01mdata\u001b[39;00m\u001b[38;5;21;01m.\u001b[39;00m\u001b[38;5;21;01mops\u001b[39;00m \u001b[38;5;28;01mimport\u001b[39;00m repeat_op\n\u001b[1;32m-> 1337\u001b[0m \u001b[38;5;28;01mreturn\u001b[39;00m \u001b[43mrepeat_op\u001b[49m\u001b[38;5;241;43m.\u001b[39;49m\u001b[43m_repeat\u001b[49m\u001b[43m(\u001b[49m\u001b[38;5;28;43mself\u001b[39;49m\u001b[43m,\u001b[49m\u001b[43m \u001b[49m\u001b[43mcount\u001b[49m\u001b[43m,\u001b[49m\u001b[43m \u001b[49m\u001b[43mname\u001b[49m\u001b[43m)\u001b[49m\n",
            "File \u001b[1;32mc:\\Users\\andyc\\AppData\\Local\\Programs\\Python\\Python311\\Lib\\site-packages\\tensorflow\\python\\data\\ops\\repeat_op.py:25\u001b[0m, in \u001b[0;36m_repeat\u001b[1;34m(input_dataset, count, name)\u001b[0m\n\u001b[0;32m     24\u001b[0m \u001b[38;5;28;01mdef\u001b[39;00m \u001b[38;5;21m_repeat\u001b[39m(input_dataset, count, name):  \u001b[38;5;66;03m# pylint: disable=unused-private-name\u001b[39;00m\n\u001b[1;32m---> 25\u001b[0m   \u001b[38;5;28;01mreturn\u001b[39;00m \u001b[43m_RepeatDataset\u001b[49m\u001b[43m(\u001b[49m\u001b[43minput_dataset\u001b[49m\u001b[43m,\u001b[49m\u001b[43m \u001b[49m\u001b[43mcount\u001b[49m\u001b[43m,\u001b[49m\u001b[43m \u001b[49m\u001b[43mname\u001b[49m\u001b[43m)\u001b[49m\n",
            "File \u001b[1;32mc:\\Users\\andyc\\AppData\\Local\\Programs\\Python\\Python311\\Lib\\site-packages\\tensorflow\\python\\data\\ops\\repeat_op.py:40\u001b[0m, in \u001b[0;36m_RepeatDataset.__init__\u001b[1;34m(self, input_dataset, count, name)\u001b[0m\n\u001b[0;32m     37\u001b[0m   \u001b[38;5;28mself\u001b[39m\u001b[38;5;241m.\u001b[39m_count \u001b[38;5;241m=\u001b[39m ops\u001b[38;5;241m.\u001b[39mconvert_to_tensor(\n\u001b[0;32m     38\u001b[0m       count, dtype\u001b[38;5;241m=\u001b[39mdtypes\u001b[38;5;241m.\u001b[39mint64, name\u001b[38;5;241m=\u001b[39m\u001b[38;5;124m\"\u001b[39m\u001b[38;5;124mcount\u001b[39m\u001b[38;5;124m\"\u001b[39m)\n\u001b[0;32m     39\u001b[0m \u001b[38;5;28mself\u001b[39m\u001b[38;5;241m.\u001b[39m_name \u001b[38;5;241m=\u001b[39m name\n\u001b[1;32m---> 40\u001b[0m variant_tensor \u001b[38;5;241m=\u001b[39m \u001b[43mgen_dataset_ops\u001b[49m\u001b[38;5;241;43m.\u001b[39;49m\u001b[43mrepeat_dataset\u001b[49m\u001b[43m(\u001b[49m\n\u001b[0;32m     41\u001b[0m \u001b[43m    \u001b[49m\u001b[43minput_dataset\u001b[49m\u001b[38;5;241;43m.\u001b[39;49m\u001b[43m_variant_tensor\u001b[49m\u001b[43m,\u001b[49m\u001b[43m  \u001b[49m\u001b[38;5;66;43;03m# pylint: disable=protected-access\u001b[39;49;00m\n\u001b[0;32m     42\u001b[0m \u001b[43m    \u001b[49m\u001b[43mcount\u001b[49m\u001b[38;5;241;43m=\u001b[39;49m\u001b[38;5;28;43mself\u001b[39;49m\u001b[38;5;241;43m.\u001b[39;49m\u001b[43m_count\u001b[49m\u001b[43m,\u001b[49m\n\u001b[0;32m     43\u001b[0m \u001b[43m    \u001b[49m\u001b[38;5;241;43m*\u001b[39;49m\u001b[38;5;241;43m*\u001b[39;49m\u001b[38;5;28;43mself\u001b[39;49m\u001b[38;5;241;43m.\u001b[39;49m\u001b[43m_common_args\u001b[49m\u001b[43m)\u001b[49m\n\u001b[0;32m     44\u001b[0m \u001b[38;5;28msuper\u001b[39m()\u001b[38;5;241m.\u001b[39m\u001b[38;5;21m__init__\u001b[39m(input_dataset, variant_tensor)\n",
            "File \u001b[1;32mc:\\Users\\andyc\\AppData\\Local\\Programs\\Python\\Python311\\Lib\\site-packages\\tensorflow\\python\\ops\\gen_dataset_ops.py:6439\u001b[0m, in \u001b[0;36mrepeat_dataset\u001b[1;34m(input_dataset, count, output_types, output_shapes, metadata, name)\u001b[0m\n\u001b[0;32m   6437\u001b[0m \u001b[38;5;28;01mif\u001b[39;00m tld\u001b[38;5;241m.\u001b[39mis_eager:\n\u001b[0;32m   6438\u001b[0m   \u001b[38;5;28;01mtry\u001b[39;00m:\n\u001b[1;32m-> 6439\u001b[0m     _result \u001b[38;5;241m=\u001b[39m \u001b[43mpywrap_tfe\u001b[49m\u001b[38;5;241;43m.\u001b[39;49m\u001b[43mTFE_Py_FastPathExecute\u001b[49m\u001b[43m(\u001b[49m\n\u001b[0;32m   6440\u001b[0m \u001b[43m      \u001b[49m\u001b[43m_ctx\u001b[49m\u001b[43m,\u001b[49m\u001b[43m \u001b[49m\u001b[38;5;124;43m\"\u001b[39;49m\u001b[38;5;124;43mRepeatDataset\u001b[39;49m\u001b[38;5;124;43m\"\u001b[39;49m\u001b[43m,\u001b[49m\u001b[43m \u001b[49m\u001b[43mname\u001b[49m\u001b[43m,\u001b[49m\u001b[43m \u001b[49m\u001b[43minput_dataset\u001b[49m\u001b[43m,\u001b[49m\u001b[43m \u001b[49m\u001b[43mcount\u001b[49m\u001b[43m,\u001b[49m\u001b[43m \u001b[49m\u001b[38;5;124;43m\"\u001b[39;49m\u001b[38;5;124;43moutput_types\u001b[39;49m\u001b[38;5;124;43m\"\u001b[39;49m\u001b[43m,\u001b[49m\n\u001b[0;32m   6441\u001b[0m \u001b[43m      \u001b[49m\u001b[43moutput_types\u001b[49m\u001b[43m,\u001b[49m\u001b[43m \u001b[49m\u001b[38;5;124;43m\"\u001b[39;49m\u001b[38;5;124;43moutput_shapes\u001b[39;49m\u001b[38;5;124;43m\"\u001b[39;49m\u001b[43m,\u001b[49m\u001b[43m \u001b[49m\u001b[43moutput_shapes\u001b[49m\u001b[43m,\u001b[49m\u001b[43m \u001b[49m\u001b[38;5;124;43m\"\u001b[39;49m\u001b[38;5;124;43mmetadata\u001b[39;49m\u001b[38;5;124;43m\"\u001b[39;49m\u001b[43m,\u001b[49m\u001b[43m \u001b[49m\u001b[43mmetadata\u001b[49m\u001b[43m)\u001b[49m\n\u001b[0;32m   6442\u001b[0m     \u001b[38;5;28;01mreturn\u001b[39;00m _result\n\u001b[0;32m   6443\u001b[0m   \u001b[38;5;28;01mexcept\u001b[39;00m _core\u001b[38;5;241m.\u001b[39m_NotOkStatusException \u001b[38;5;28;01mas\u001b[39;00m e:\n",
            "\u001b[1;31mKeyboardInterrupt\u001b[0m: "
          ]
        }
      ],
      "source": [
        "model_name = \"dqn_baseline\" \n",
        "\n",
        "# For logging\n",
        "train_reward_lst = []\n",
        "eval_reward_mean_lst = []\n",
        "eval_reward_var_lst = []\n",
        "\n",
        "# Set up environment\n",
        "env = gym.make(\"CartPole-v1\", render_mode=\"rgb_array\")\n",
        "state_size = env.observation_space.shape[0] # Number of observations (CartPole)\n",
        "action_size = env.action_space.n            # Number of possible actions\n",
        "\n",
        "model_dir = model_name   # TensorBoard log directory\n",
        "cb = keras.callbacks.TensorBoard(log_dir = get_run_logdir(model_dir), histogram_freq=1)\n",
        "\n",
        "# Train Counter for weight syncing\n",
        "train_counter = 0\n",
        "\n",
        "# For timing training\n",
        "total_training_time = 0\n",
        "\n",
        "# Define replay buffer\n",
        "# replay_buffer = ...\n",
        "replay_buffer = deque(maxlen=10000)\n",
        "\n",
        "for ep in range(episode):\n",
        "    state, _ = env.reset()\n",
        "    state = np.reshape(state, [1, state_size])\n",
        "    total_reward = 0\n",
        "\n",
        "    # record start time\n",
        "    start = time.time()\n",
        "\n",
        "    for _ in range(500):\n",
        "        # Interact with the environment with epsilon-greedy policy\n",
        "        if np.random.rand() <= epsilon:\n",
        "            action = np.random.choice(action_size)\n",
        "        else:\n",
        "            q_values = eval_model.predict(state, verbose=0)\n",
        "            action = np.argmax(q_values)\n",
        "\n",
        "        next_state, reward, terminated, truncated, _ = env.step(action)\n",
        "        next_state = np.reshape(next_state, [1, state_size])\n",
        "        done = terminated or truncated\n",
        "\n",
        "        # store experience into replay buffer\n",
        "        # [WriteCode]\n",
        "        replay_buffer.append((state, action, reward, next_state, done))\n",
        "\n",
        "        state = next_state\n",
        "        total_reward += reward\n",
        "\n",
        "        if done:\n",
        "            break\n",
        "\n",
        "        if len(replay_buffer) >= ba:\n",
        "            train_counter += 1\n",
        "            # Update policy with mini-batches if replay buffer contains enough samples\n",
        "            # Update policy using Deep Q-Learning update: Q(s, a) = r + gamma * max Q_target(S', a)\n",
        "            # [WriteCode]\n",
        "            minibatch = random.sample(replay_buffer, ba)\n",
        "            \n",
        "            states = np.vstack([experience[0] for experience in minibatch])\n",
        "            actions = np.array([experience[1] for experience in minibatch])\n",
        "            rewards = np.array([experience[2] for experience in minibatch])\n",
        "            next_states = np.vstack([experience[3] for experience in minibatch])\n",
        "            dones = np.array([experience[4] for experience in minibatch])\n",
        "\n",
        "\n",
        "            # Compute target Q-values:\n",
        "            # - If done, Q-target = reward (no future reward)\n",
        "            # - Otherwise, Q-target = reward + gamma * max(Q_target(next_state, a))\n",
        "\n",
        "            # Predict current Q-values for state using eval_model\n",
        "            q_values = eval_model.predict(states, verbose=0)\n",
        "            # Predict future Q-values using target_model (NOT eval_model)\n",
        "            q_next = target_model.predict(next_states, verbose=0)\n",
        "\n",
        "            # Update only the Q-value for the taken action\n",
        "            targets = q_values.copy()\n",
        "            for i in range(ba):\n",
        "                if dones[i]:\n",
        "                    targets[i, actions[i]] = rewards[i]\n",
        "                else:\n",
        "                    targets[i, actions[i]] = rewards[i] + gamma * np.amax(q_next[i])\n",
        "\n",
        "            # Fit the model:\n",
        "            # - Inputs: state\n",
        "            # - Targets: updated Q-values (with action Q-value replaced by computed target)\n",
        "            eval_model.fit(states, targets, batch_size=ba, epochs=epoch, verbose=0, callbacks=[cb])\n",
        "\n",
        "            # Update exploration rate\n",
        "            if epsilon > epsilon_min:\n",
        "                epsilon *= epsilon_decay\n",
        "\n",
        "            # Periodically update the target network\n",
        "            if train_counter % target_update_freq == 0:\n",
        "                # print(\"update target model\")\n",
        "                target_model.set_weights(eval_model.get_weights())\n",
        "\n",
        "    # record end time and log training time\n",
        "    end = time.time()\n",
        "    total_training_time += end - start\n",
        "\n",
        "    # Evaluation\n",
        "    # [WriteCode]\n",
        "    eval_reward_mean, eval_reward_var = evaluation(eval_model)\n",
        "\n",
        "\n",
        "    print(f\"Episode {ep + 1}/{episode} | Ep. Total Reward: {total_reward}\"\n",
        "        f\" | Epsilon : {epsilon:.3f}\"\n",
        "        f\" | Eval Rwd Mean: {eval_reward_mean:.2f}\"\n",
        "        f\" | Eval Rwd Var: {eval_reward_var:.2f}\")\n",
        "\n",
        "    # Log\n",
        "    eval_reward_mean_lst.append(eval_reward_mean)\n",
        "    eval_reward_var_lst.append(eval_reward_var)\n",
        "    train_reward_lst.append(total_reward)\n",
        "\n",
        "    # Early Stopping Condition to avoid overfitting\n",
        "    # If the evaluation reward reaches the specified threshold, stop training early.\n",
        "    # The default threshold is set to 500, but you should adjust this based on observed training performance.\n",
        "    if eval_reward_mean >= 500: # [Modify this threshold as needed]\n",
        "        print(f\"Early stopping triggered at Episode {ep + 1}.\")\n",
        "        break\n",
        "\n",
        "# evaluate average training time per episode\n",
        "print(f\"Training time: {total_training_time/episode:.4f} seconds per episode\")\n",
        "\n",
        "env.close()"
      ]
    },
    {
      "cell_type": "code",
      "execution_count": null,
      "metadata": {},
      "outputs": [],
      "source": [
        "# [Write Code]\n",
        "save_model(train_reward_lst, eval_reward_mean_lst, eval_reward_var_lst, eval_model, model_dir)"
      ]
    },
    {
      "cell_type": "markdown",
      "metadata": {
        "id": "cWTB-X8Q35lX"
      },
      "source": [
        "## Plot Results"
      ]
    },
    {
      "cell_type": "code",
      "execution_count": null,
      "metadata": {
        "id": "gUC2aelO35lX"
      },
      "outputs": [],
      "source": [
        "# Write code to plot\n",
        "# 1) Moving Averaged Training Reward, 2) Evaluation Mean, 3) Evaluation Variance\n",
        "# [Write Code]\n",
        "plot_smoothed_training_rwd(train_reward_lst, window_size=20)\n",
        "plot_eval_rwd_mean(eval_reward_mean_lst)\n",
        "plot_eval_rwd_var(eval_reward_var_lst)"
      ]
    },
    {
      "cell_type": "markdown",
      "metadata": {
        "id": "aGOFWup5ZiYp"
      },
      "source": [
        "# DQN - Alternative\n",
        "\n",
        "You may insert extra cells in the notebook to perform tuning experiments and log results effectively. Use TensorBoard, plots, or tables to visualize the impact of different hyperparameter choices."
      ]
    },
    {
      "cell_type": "code",
      "execution_count": null,
      "metadata": {},
      "outputs": [],
      "source": [
        "# Use the following set of NN hyperparameters for ALL FOUR basline policies\n",
        "lr =  0.1        #@param {type:\"number\"}               # learning rate\n",
        "epoch =  16     #@param {type:\"number\"}               # epochs\n",
        "episode = 500  #@param {type:\"number\"}               # episodes\n",
        "\n",
        "epsilon = 0.9           #@param {type:\"number\"}     # Starting exploration rate\n",
        "epsilon_min = 0.1    #@param {type:\"number\"}     # Exploration rate min\n",
        "epsilon_decay = 0.995     #@param {type:\"number\"}     # Exploration rate decay\n",
        "\n",
        "gamma = 0.99          #@param {type:\"number\"}     # Agent discount factor\n",
        "\n",
        "# Use the following set of NN hyperparameters for Naive DQN, DQN and DDQN policies\n",
        "ba =  32       #@param {type:\"number\"}               # batch_size\n",
        "\n",
        "# Use the following set of RL hyperparameters for DQN and DDQN policies\n",
        "target_update_freq = 100 # @param {type:\"number\"}    # Target network update frequency"
      ]
    },
    {
      "cell_type": "code",
      "execution_count": 11,
      "metadata": {},
      "outputs": [
        {
          "name": "stdout",
          "output_type": "stream",
          "text": [
            "Model: \"sequential_12\"\n",
            "_________________________________________________________________\n",
            " Layer (type)                Output Shape              Param #   \n",
            "=================================================================\n",
            " dense_33 (Dense)            (None, 32)                160       \n",
            "                                                                 \n",
            " dense_34 (Dense)            (None, 32)                1056      \n",
            "                                                                 \n",
            " dense_35 (Dense)            (None, 2)                 66        \n",
            "                                                                 \n",
            "=================================================================\n",
            "Total params: 1,282\n",
            "Trainable params: 1,282\n",
            "Non-trainable params: 0\n",
            "_________________________________________________________________\n",
            "None\n",
            "Model: \"sequential_13\"\n",
            "_________________________________________________________________\n",
            " Layer (type)                Output Shape              Param #   \n",
            "=================================================================\n",
            " dense_36 (Dense)            (None, 32)                160       \n",
            "                                                                 \n",
            " dense_37 (Dense)            (None, 32)                1056      \n",
            "                                                                 \n",
            " dense_38 (Dense)            (None, 2)                 66        \n",
            "                                                                 \n",
            "=================================================================\n",
            "Total params: 1,282\n",
            "Trainable params: 1,282\n",
            "Non-trainable params: 0\n",
            "_________________________________________________________________\n",
            "None\n"
          ]
        }
      ],
      "source": [
        "# DQN Baseline Model\n",
        "from keras.models import Sequential\n",
        "from keras.layers import Dense\n",
        "\n",
        "\n",
        "# [WriteCode] from ... import ...\n",
        "from keras.optimizers import Adam \n",
        "\n",
        "# Define the eval (online) network\n",
        "eval_model_alt = Sequential()\n",
        "\n",
        "# [WriteCode]\n",
        "# model.add(...\n",
        "initialiser_4 = RandomUniform(minval=-0.5, maxval=0.5, seed=42)\n",
        "initialiser_5 = RandomUniform(minval=-5, maxval=5, seed=42)\n",
        "eval_model_alt.add(Dense(32, input_dim=4, activation='tanh', kernel_initializer=initialiser_4))  # Hidden layer\n",
        "eval_model_alt.add(Dense(32, activation='tanh', kernel_initializer=initialiser_5))  # Hidden layer\n",
        "eval_model_alt.add(Dense(2, activation='linear'))  # Output layer, 2 outputs for two possible actions (for CartPole)\n",
        "\n",
        "\n",
        "# Compile the model\n",
        "# [WriteCode]\n",
        "eval_model_alt.compile(loss='mse', optimizer=Adam(learning_rate=0.001))  # Using Mean Squared Error loss for DQN\n",
        "\n",
        "# Print the model summary\n",
        "# [WriteCode]\n",
        "print(eval_model_alt.summary())\n",
        "\n",
        "\n",
        "# Create target_model with the same architecture\n",
        "target_model_alt = Sequential()\n",
        "\n",
        "# [WriteCode]\n",
        "# model.add(...\n",
        "initialiser_6 = RandomUniform(minval=-0.5, maxval=0.5, seed=42)\n",
        "initialiser_7 = RandomUniform(minval=-5, maxval=5, seed=42)\n",
        "target_model_alt.add(Dense(32, input_dim=4, activation='tanh', kernel_initializer=initialiser_6))\n",
        "target_model_alt.add(Dense(32, activation='tanh', kernel_initializer=initialiser_7))\n",
        "target_model_alt.add(Dense(2, activation='linear'))\n",
        "\n",
        "\n",
        "# Skip compiling as target_model will not be trained with .fit()\n",
        "# Instead, weights will be copied from the online model\n",
        "target_model_alt.set_weights(eval_model_alt.get_weights())\n",
        "\n",
        "# Print the model summary\n",
        "# [WriteCode]\n",
        "print(target_model_alt.summary())"
      ]
    },
    {
      "cell_type": "code",
      "execution_count": null,
      "metadata": {},
      "outputs": [],
      "source": [
        "model_name = \"dqn_alt\" \n",
        "\n",
        "# For logging\n",
        "train_reward_lst_alt = []\n",
        "eval_reward_mean_lst_alt = []\n",
        "eval_reward_var_lst_alt = []\n",
        "\n",
        "# Set up environment\n",
        "env = gym.make(\"CartPole-v1\", render_mode=\"rgb_array\")\n",
        "state_size = env.observation_space.shape[0] # Number of observations (CartPole)\n",
        "action_size = env.action_space.n            # Number of possible actions\n",
        "\n",
        "model_dir = model_name   # TensorBoard log directory\n",
        "cb = keras.callbacks.TensorBoard(log_dir = get_run_logdir(model_dir), histogram_freq=1)\n",
        "\n",
        "# Train Counter for weight syncing\n",
        "train_counter = 0\n",
        "\n",
        "# For timing training\n",
        "total_training_time = 0\n",
        "\n",
        "# Define replay buffer\n",
        "# replay_buffer = ...\n",
        "replay_buffer = deque(maxlen=10000)\n",
        "\n",
        "for ep in range(episode):\n",
        "    state, _ = env.reset()\n",
        "    state = np.reshape(state, [1, state_size])\n",
        "    total_reward = 0\n",
        "\n",
        "    # record start time\n",
        "    start = time.time()\n",
        "\n",
        "    for _ in range(500):\n",
        "        # Interact with the environment with epsilon-greedy policy\n",
        "        if np.random.rand() <= epsilon:\n",
        "            action = np.random.choice(action_size)\n",
        "        else:\n",
        "            q_values = eval_model.predict(state, verbose=0)\n",
        "            action = np.argmax(q_values)\n",
        "\n",
        "        next_state, reward, terminated, truncated, _ = env.step(action)\n",
        "        next_state = np.reshape(next_state, [1, state_size])\n",
        "        done = terminated or truncated\n",
        "\n",
        "        # store experience into replay buffer\n",
        "        # [WriteCode]\n",
        "        replay_buffer.append((state, action, reward, next_state, done))\n",
        "\n",
        "        state = next_state\n",
        "        total_reward += reward\n",
        "\n",
        "        if done:\n",
        "            break\n",
        "\n",
        "        if len(replay_buffer) >= ba:\n",
        "            train_counter += 1\n",
        "            # Update policy with mini-batches if replay buffer contains enough samples\n",
        "            # Update policy using Deep Q-Learning update: Q(s, a) = r + gamma * max Q_target(S', a)\n",
        "            # [WriteCode]\n",
        "            minibatch = random.sample(replay_buffer, ba)\n",
        "            \n",
        "            states = np.vstack([experience[0] for experience in minibatch])\n",
        "            actions = np.array([experience[1] for experience in minibatch])\n",
        "            rewards = np.array([experience[2] for experience in minibatch])\n",
        "            next_states = np.vstack([experience[3] for experience in minibatch])\n",
        "            dones = np.array([experience[4] for experience in minibatch])\n",
        "\n",
        "\n",
        "            # Compute target Q-values:\n",
        "            # - If done, Q-target = reward (no future reward)\n",
        "            # - Otherwise, Q-target = reward + gamma * max(Q_target(next_state, a))\n",
        "\n",
        "            # Predict current Q-values for state using eval_model\n",
        "            q_values = eval_model_alt.predict(states, verbose=0)\n",
        "            # Predict future Q-values using target_model (NOT eval_model)\n",
        "            q_next = target_model_alt.predict(next_states, verbose=0)\n",
        "\n",
        "            # Update only the Q-value for the taken action\n",
        "            targets = q_values.copy()\n",
        "            for i in range(ba):\n",
        "                if dones[i]:\n",
        "                    targets[i, actions[i]] = rewards[i]\n",
        "                else:\n",
        "                    targets[i, actions[i]] = rewards[i] + gamma * np.amax(q_next[i])\n",
        "\n",
        "            # Fit the model:\n",
        "            # - Inputs: state\n",
        "            # - Targets: updated Q-values (with action Q-value replaced by computed target)\n",
        "            eval_model_alt.fit(states, targets, batch_size=ba, epochs=epoch, verbose=0, callbacks=[cb])\n",
        "\n",
        "            # Update exploration rate\n",
        "            if epsilon > epsilon_min:\n",
        "                epsilon *= epsilon_decay\n",
        "\n",
        "            # Periodically update the target network\n",
        "            if train_counter % target_update_freq == 0:\n",
        "                print(\"update target model\")\n",
        "                target_model_alt.set_weights(eval_model_alt.get_weights())\n",
        "\n",
        "    # record end time and log training time\n",
        "    end = time.time()\n",
        "    total_training_time += end - start\n",
        "\n",
        "    # Evaluation\n",
        "    # [WriteCode]\n",
        "    eval_reward_mean, eval_reward_var = evaluation(eval_model)\n",
        "\n",
        "\n",
        "    print(f\"Episode {ep + 1}/{episode} | Ep. Total Reward: {total_reward}\"\n",
        "        f\" | Epsilon : {epsilon:.3f}\"\n",
        "        f\" | Eval Rwd Mean: {eval_reward_mean:.2f}\"\n",
        "        f\" | Eval Rwd Var: {eval_reward_var:.2f}\")\n",
        "\n",
        "    # Log\n",
        "    eval_reward_mean_lst_alt.append(eval_reward_mean)\n",
        "    eval_reward_var_lst_alt.append(eval_reward_var)\n",
        "    train_reward_lst_alt.append(total_reward)\n",
        "\n",
        "    # Early Stopping Condition to avoid overfitting\n",
        "    # If the evaluation reward reaches the specified threshold, stop training early.\n",
        "    # The default threshold is set to 500, but you should adjust this based on observed training performance.\n",
        "    # if eval_reward_mean > 500: # [Modify this threshold as needed]\n",
        "    if eval_reward_mean >= 450 and eval_reward_var <= 50 ** 2: \n",
        "        print(f\"Early stopping triggered at Episode {ep + 1}.\")\n",
        "        break\n",
        "\n",
        "# evaluate average training time per episode\n",
        "print(f\"Training time: {total_training_time/episode:.4f} seconds per episode\")\n",
        "\n",
        "env.close()"
      ]
    },
    {
      "cell_type": "markdown",
      "metadata": {
        "id": "eOwN55lA34nm"
      },
      "source": [
        "## Plot Results"
      ]
    },
    {
      "cell_type": "code",
      "execution_count": null,
      "metadata": {
        "id": "hf5220Bw34nm"
      },
      "outputs": [],
      "source": [
        "# Write code to plot\n",
        "# 1) Moving Averaged Training Reward, 2) Evaluation Mean, 3) Evaluation Variance\n",
        "# [Write Code]\n",
        "plot_smoothed_training_rwd(train_reward_lst_alt, window_size=20)\n",
        "plot_eval_rwd_mean(eval_reward_mean_lst_alt)\n",
        "plot_eval_rwd_var(eval_reward_var_lst_alt)"
      ]
    },
    {
      "cell_type": "code",
      "execution_count": null,
      "metadata": {
        "id": "SvxOyxpPZlfW"
      },
      "outputs": [],
      "source": [
        "# [Write Code]\n",
        "save_model(train_reward_lst_alt, eval_reward_mean_lst_alt, eval_reward_var_lst_alt, eval_model_alt, model_dir)"
      ]
    },
    {
      "cell_type": "markdown",
      "metadata": {
        "id": "0oTzmTnlZlru"
      },
      "source": [
        "## Comparison\n",
        "\n",
        "Compare performance of the Baseline and the Alternative DQN Policies"
      ]
    },
    {
      "cell_type": "code",
      "execution_count": null,
      "metadata": {
        "id": "HiMW7bE1Zq2B"
      },
      "outputs": [],
      "source": [
        "# [Write Code]"
      ]
    },
    {
      "cell_type": "markdown",
      "metadata": {
        "id": "4yGOGzD5iRw5"
      },
      "source": [
        "# DDQN"
      ]
    },
    {
      "cell_type": "markdown",
      "metadata": {
        "id": "-nURxQ5zZwu5"
      },
      "source": [
        "## Define and Compile the Neural Networks\n",
        "\n",
        "The Double Deep Q-Network (DDQN) [https://arxiv.org/abs/1509.06461] improves upon standard DQN by reducing overestimation bias in Q-values. DDQN achieves this by decoupling action selection from value estimation using two networks, which is almost identical as DQN:\n",
        "\n",
        "- `target_model`: A periodically updated network that stabilizes training. During training, this network is used to compute $Q(S_{t+1}, a)$ for each possible action $a$. This network is also not trained but synced from `eval_model`. **However, unlike DQN, this network is only used to evaluate the Q-value of the action chosen by `eval_model`, making value updates more stable.**\n",
        "\n",
        "- `eval_model`: The online learning network that interacts with the environment. During training, this network is used to select the best action using $\\arg\\max_a Q(S_{t}, a)$ and updates its weights by minimizing the difference between predicted and target Q-value.\n",
        "\n",
        "The target used by DDQN is then:\n",
        "\n",
        "$Y^{Q}_t = R_{t+1} + \\gamma Q_{target}(S_{t+1}, \\arg \\max_{a} Q_{eval}(S_{t+1}, a))$"
      ]
    },
    {
      "cell_type": "code",
      "execution_count": null,
      "metadata": {
        "id": "NoH_Tjmz3FBn"
      },
      "outputs": [],
      "source": [
        "from keras.models import Sequential\n",
        "from keras.layers import Dense\n",
        "from keras.optimizers import Adam  # [WriteCode] import optimizer\n",
        "\n",
        "# Assume state_size and action_size are already defined:\n",
        "state_size = env.observation_space.shape[0]\n",
        "action_size = env.action_space.n\n",
        "\n",
        "initializer = RandomUniform(minval=-0.5, maxval=0.5, seed=42)\n",
        "initializer_1 = RandomUniform(minval=-5, maxval=5, seed=42)\n",
        "\n",
        "# Define the eval (online) network\n",
        "eval_model = Sequential()\n",
        "eval_model.add(Dense(32, input_dim=state_size, activation='tanh', kernel_initializer=initializer))   # First hidden layer\n",
        "eval_model.add(Dense(32, activation='tanh', kernel_initializer=initializer_1))                      # Second hidden layer\n",
        "eval_model.add(Dense(action_size, activation='linear'))              # Output layer: Q-values\n",
        "\n",
        "# Compile the eval model\n",
        "eval_model.compile(optimizer=Adam(learning_rate=0.001), loss='mse')  # [WriteCode]\n",
        "\n",
        "# Print the eval model summary\n",
        "eval_model.summary()  # [WriteCode]\n",
        "\n",
        "# -----------------------------------------------\n",
        "# Create target_model with the same architecture\n",
        "target_model = Sequential()\n",
        "target_model.add(Dense(32, input_dim=state_size, activation='tanh', kernel_initializer=initializer))\n",
        "target_model.add(Dense(32, activation='tanh', kernel_initializer=initializer_1))\n",
        "target_model.add(Dense(action_size, activation='linear'))\n",
        "\n",
        "# Copy weights from eval_model to target_model\n",
        "target_model.set_weights(eval_model.get_weights())  # [WriteCode]\n",
        "\n",
        "# Print the target model summary\n",
        "target_model.summary()  # [WriteCode]\n"
      ]
    },
    {
      "cell_type": "markdown",
      "metadata": {
        "id": "-uZT2NevZzo7"
      },
      "source": [
        "## Set Up Env and Train the Policy"
      ]
    },
    {
      "cell_type": "code",
      "execution_count": null,
      "metadata": {
        "id": "4U9ntMqg3TH7"
      },
      "outputs": [],
      "source": [
        "# For logging\n",
        "train_reward_lst = []\n",
        "eval_reward_mean_lst = []\n",
        "eval_reward_var_lst = []\n",
        "\n",
        "# Set up environment\n",
        "# env = gym.make(\"CartPole-v1\", render_mode=\"rgb_array\")\n",
        "env = gym.make(\"CartPole-v1\")\n",
        "state_size = env.observation_space.shape[0] # Number of observations (CartPole)\n",
        "action_size = env.action_space.n            # Number of possible actions\n",
        "\n",
        "model_dir = \"ddqn_baseline\"  # TensorBoard log directory\n",
        "cb = keras.callbacks.TensorBoard(log_dir = get_run_logdir(model_dir), histogram_freq=1)\n",
        "\n",
        "# Train Counter for weight syncing\n",
        "train_counter = 0\n",
        "\n",
        "# For timing training\n",
        "total_training_time = 0\n",
        "\n",
        "# Define replay buffer\n",
        "replay_buffer = deque(maxlen=10000)  # Experience replay buffer\n",
        "\n",
        "for ep in range(episode):\n",
        "    state, _ = env.reset()\n",
        "    state = np.reshape(state, [1, state_size])\n",
        "    total_reward = 0\n",
        "\n",
        "    # record start time\n",
        "    start = time.time()\n",
        "\n",
        "    for _ in range(500):\n",
        "\n",
        "        # Interact with the environment with epsilon-greedy policy\n",
        "        if np.random.rand() <= epsilon:\n",
        "            action = np.random.choice(action_size)\n",
        "        else:\n",
        "            q_values = eval_model.predict(state, verbose=0)\n",
        "            action = np.argmax(q_values[0])\n",
        "\n",
        "        next_state, reward, terminated, truncated, _ = env.step(action)\n",
        "        next_state = np.reshape(next_state, [1, state_size])\n",
        "        done = terminated or truncated\n",
        "\n",
        "        # store experience into replay buffer\n",
        "        replay_buffer.append((state, action, reward, next_state, done))\n",
        "\n",
        "        state = next_state\n",
        "        total_reward += reward\n",
        "\n",
        "        if done:\n",
        "            break\n",
        "\n",
        "        if len(replay_buffer) >= ba:\n",
        "            train_counter += 1\n",
        "            # Update policy with mini-batches if replay buffer contains enough samples\n",
        "            # Update policy using Double Deep Q-Learning update:\n",
        "            # Q(s, a) = r + gamma * Q_target(S', argmax Q_eval(S', a))\n",
        "            \n",
        "            # Sample minibatch from replay buffer\n",
        "            minibatch = random.sample(replay_buffer, ba) #randomly sample ba experiences for training. Helps break correlation in data\n",
        "            \n",
        "            # Prepare batch data: prepare matrices for batched forward passess through neural nw\n",
        "            states = np.zeros((ba, state_size))\n",
        "            next_states = np.zeros((ba, state_size))\n",
        "            actions, rewards, dones = [], [], []\n",
        "            \n",
        "            for i, (s, a, r, ns, d) in enumerate(minibatch):\n",
        "                states[i] = s[0]  # Extract the state array from shape (1, state_size)\n",
        "                actions.append(a)\n",
        "                rewards.append(r)\n",
        "                next_states[i] = ns[0]  # Extract the next_state array from shape (1, state_size)\n",
        "                dones.append(d)\n",
        "            \n",
        "            # Predict current Q-values for state using eval_model\n",
        "            current_q_values = eval_model.predict(states, verbose=0)\n",
        "            \n",
        "            # Use eval_model to determine best action in next_state\n",
        "            next_q_values_eval = eval_model.predict(next_states, verbose=0)\n",
        "            best_next_actions = np.argmax(next_q_values_eval, axis=1)\n",
        "            \n",
        "            # Use target_model to compute Q-value for that action\n",
        "            next_q_values_target = target_model.predict(next_states, verbose=0)\n",
        "            \n",
        "            # Prepare targets\n",
        "            targets = current_q_values.copy()\n",
        "            \n",
        "            # Update only the Q-value for the taken action\n",
        "            for i in range(ba):\n",
        "                if dones[i]:\n",
        "                    # If done, Q-target = reward (no future reward)\n",
        "                    targets[i, actions[i]] = rewards[i]\n",
        "                else:\n",
        "                    # Otherwise, Q-target = reward + gamma * Q_target(S', argmax Q_eval(S', a))\n",
        "                    targets[i, actions[i]] = rewards[i] + gamma * next_q_values_target[i, best_next_actions[i]]\n",
        "            \n",
        "            # Fit the model:\n",
        "            eval_model.fit(states, targets, batch_size=ba, epochs=epoch, verbose=0, callbacks=[cb])\n",
        "\n",
        "            # Update exploration rate\n",
        "            if epsilon > epsilon_min:\n",
        "                epsilon *= epsilon_decay\n",
        "\n",
        "            # Periodically update the target network\n",
        "            # Periodically update the target network\n",
        "            if target_update_freq > 0 and train_counter % target_update_freq == 0:\n",
        "                target_model.set_weights(eval_model.get_weights())\n",
        "\n",
        "    # record end time and log training time\n",
        "    end = time.time()\n",
        "    total_training_time += end - start\n",
        "\n",
        "    # Evaluation\n",
        "    eval_reward_mean, eval_reward_var = evaluation(eval_model)\n",
        "\n",
        "    print(f\"Episode {ep + 1}/{episode} | Ep. Total Reward: {total_reward}\"\n",
        "        f\" | Epsilon : {epsilon:.3f}\"\n",
        "        f\" | Eval Rwd Mean: {eval_reward_mean:.2f}\"\n",
        "        f\" | Eval Rwd Var: {eval_reward_var:.2f}\")\n",
        "\n",
        "    # Log\n",
        "    eval_reward_mean_lst.append(eval_reward_mean)\n",
        "    eval_reward_var_lst.append(eval_reward_var)\n",
        "    train_reward_lst.append(total_reward)\n",
        "\n",
        "    # Early Stopping Condition to avoid overfitting\n",
        "    # If the evaluation reward reaches the specified threshold, stop training early.\n",
        "    # The default threshold is set to 500, but you should adjust this based on observed training performance.\n",
        "    if eval_reward_mean >= 500: # [Modify this threshold as needed]\n",
        "        print(f\"Early stopping triggered at Episode {ep + 1}.\")\n",
        "        break\n",
        "\n",
        "# record end time and calculate average training time per episode\n",
        "# evaluate average training time per episode\n",
        "print(f\"Training time: {total_training_time/episode:.4f} seconds per episode\")\n",
        "\n",
        "env.close()"
      ]
    },
    {
      "cell_type": "markdown",
      "metadata": {
        "id": "oKfbQWJq363X"
      },
      "source": [
        "## Plot Results"
      ]
    },
    {
      "cell_type": "code",
      "execution_count": null,
      "metadata": {
        "id": "L7qIOwiX363Y"
      },
      "outputs": [],
      "source": [
        "# 1) Moving Averaged Training Reward\n",
        "plot_smoothed_training_rwd(train_reward_lst, window_size=20)\n",
        "\n",
        "# 2) Evaluation Reward Mean\n",
        "plot_eval_rwd_mean(eval_reward_mean_lst)\n",
        "\n",
        "# 3) Evaluation Reward Variance\n",
        "plot_eval_rwd_var(eval_reward_var_lst)\n"
      ]
    },
    {
      "cell_type": "code",
      "execution_count": null,
      "metadata": {},
      "outputs": [],
      "source": [
        "save_model(train_reward_lst, \\\n",
        "    eval_reward_mean_lst, \\\n",
        "        eval_reward_var_lst, \n",
        "        eval_model, \\\n",
        "            model_dir)"
      ]
    },
    {
      "cell_type": "markdown",
      "metadata": {
        "id": "YgVEqsvQHsiD"
      },
      "source": [
        "# DDQN - Alternative\n",
        "\n",
        "You may insert extra cells in the notebook to perform tuning experiments and log results effectively. Use TensorBoard, plots, or tables to visualize the impact of different hyperparameter choices."
      ]
    },
    {
      "cell_type": "code",
      "execution_count": null,
      "metadata": {
        "id": "0xno9cGCHrx5"
      },
      "outputs": [],
      "source": [
        "# [Write Code]\n",
        "# Use the following set of NN hyperparameters for ALL FOUR basline policies\n",
        "lr =  0.1        #@param {type:\"number\"}               # learning rate\n",
        "epoch =  16    #@param {type:\"number\"}               # epochs\n",
        "episode = 500  #@param {type:\"number\"}               # episodes\n",
        "\n",
        "epsilon = 0.9           #@param {type:\"number\"}     # Starting exploration rate\n",
        "epsilon_min = 0.1    #@param {type:\"number\"}     # Exploration rate min\n",
        "epsilon_decay = 0.995     #@param {type:\"number\"}     # Exploration rate decay\n",
        "\n",
        "gamma = 0.99          #@param {type:\"number\"}     # Agent discount factor\n",
        "\n",
        "# Use the following set of NN hyperparameters for Naive DQN, DQN and DDQN policies\n",
        "ba =  32       #@param {type:\"number\"}               # batch_size\n",
        "\n",
        "# Use the following set of RL hyperparameters for DQN and DDQN policies\n",
        "target_update_freq = 100 # @param {type:\"number\"}    # Target network update frequency\n"
      ]
    },
    {
      "cell_type": "code",
      "execution_count": null,
      "metadata": {},
      "outputs": [],
      "source": [
        "from keras.models import Sequential\n",
        "from keras.layers import Dense\n",
        "from keras.optimizers import Adam  # [WriteCode] import optimizer\n",
        "from keras.initializers import RandomUniform\n",
        "\n",
        "# Assume state_size and action_size are already defined:\n",
        "state_size = env.observation_space.shape[0]\n",
        "action_size = env.action_space.n\n",
        "\n",
        "initializer = RandomUniform(minval=-0.5, maxval=0.5, seed=42)\n",
        "initializer_1 = RandomUniform(minval=-5, maxval=5, seed=42)\n",
        "\n",
        "# Define the eval (online) network\n",
        "alt_eval_model = Sequential()\n",
        "alt_eval_model.add(Dense(32, input_dim=state_size, activation='tanh', kernel_initializer=initializer))   # First hidden layer\n",
        "alt_eval_model.add(Dense(32, activation='tanh', kernel_initializer=initializer_1))                      # Second hidden layer\n",
        "alt_eval_model.add(Dense(action_size, activation='linear'))     \n",
        "# Compile the eval model\n",
        "alt_eval_model.compile(optimizer=Adam(learning_rate=0.001), loss='mse')  # [WriteCode]\n",
        "\n",
        "# Print the eval model summary\n",
        "alt_eval_model.summary()  # [WriteCode]\n",
        "\n",
        "# -----------------------------------------------\n",
        "# Create target_model with the same architecture\n",
        "alt_target_model = Sequential()\n",
        "alt_target_model.add(Dense(32, input_dim=state_size, activation='tanh', kernel_initializer=initializer))\n",
        "alt_target_model.add(Dense(32, activation='tanh', kernel_initializer=initializer_1))\n",
        "alt_target_model.add(Dense(action_size, activation='linear'))\n",
        "\n",
        "# Copy weights from eval_model to target_model\n",
        "alt_target_model.set_weights(alt_eval_model.get_weights())  # [WriteCode]\n",
        "\n",
        "# Print the target model summary\n",
        "alt_target_model.summary()  # [WriteCode]\n"
      ]
    },
    {
      "cell_type": "code",
      "execution_count": null,
      "metadata": {},
      "outputs": [],
      "source": [
        "# For logging\n",
        "alt_train_reward_lst = []\n",
        "alt_eval_reward_mean_lst = []\n",
        "alt_eval_reward_var_lst = []\n",
        "\n",
        "# Set up environment\n",
        "# env = gym.make(\"CartPole-v1\", render_mode=\"rgb_array\")\n",
        "env = gym.make(\"CartPole-v1\")\n",
        "state_size = env.observation_space.shape[0] # Number of observations (CartPole)\n",
        "action_size = env.action_space.n            # Number of possible actions\n",
        "\n",
        "model_dir = \"ddqn_alt\"  # TensorBoard log directory\n",
        "cb = keras.callbacks.TensorBoard(log_dir = get_run_logdir(model_dir), histogram_freq=1)\n",
        "\n",
        "# Train Counter for weight syncing\n",
        "train_counter = 0\n",
        "\n",
        "# For timing training\n",
        "total_training_time = 0\n",
        "\n",
        "# Define replay buffer\n",
        "replay_buffer = deque(maxlen=10000)  # Experience replay buffer\n",
        "\n",
        "for ep in range(episode):\n",
        "    state, _ = env.reset()\n",
        "    state = np.reshape(state, [1, state_size])\n",
        "    total_reward = 0\n",
        "\n",
        "    # record start time\n",
        "    start = time.time()\n",
        "\n",
        "    for _ in range(500):\n",
        "\n",
        "        # Interact with the environment with epsilon-greedy policy\n",
        "        if np.random.rand() <= epsilon:\n",
        "            action = np.random.choice(action_size)\n",
        "        else:\n",
        "            q_values = alt_eval_model.predict(state, verbose=0)\n",
        "            action = np.argmax(q_values[0])\n",
        "\n",
        "        next_state, reward, terminated, truncated, _ = env.step(action)\n",
        "        next_state = np.reshape(next_state, [1, state_size])\n",
        "        done = terminated or truncated\n",
        "\n",
        "        # store experience into replay buffer\n",
        "        replay_buffer.append((state, action, reward, next_state, done))\n",
        "\n",
        "        state = next_state\n",
        "        total_reward += reward\n",
        "\n",
        "        if done:\n",
        "            break\n",
        "\n",
        "        if len(replay_buffer) >= ba:\n",
        "            train_counter += 1\n",
        "            # Update policy with mini-batches if replay buffer contains enough samples\n",
        "            # Update policy using Double Deep Q-Learning update:\n",
        "            # Q(s, a) = r + gamma * Q_target(S', argmax Q_eval(S', a))\n",
        "            \n",
        "            # Sample minibatch from replay buffer\n",
        "            minibatch = random.sample(replay_buffer, ba) #randomly sample ba experiences for training. Helps break correlation in data\n",
        "            \n",
        "            # Prepare batch data: prepare matrices for batched forward passess through neural nw\n",
        "            states = np.zeros((ba, state_size))\n",
        "            next_states = np.zeros((ba, state_size))\n",
        "            actions, rewards, dones = [], [], []\n",
        "            \n",
        "            for i, (s, a, r, ns, d) in enumerate(minibatch):\n",
        "                states[i] = s[0]  # Extract the state array from shape (1, state_size)\n",
        "                actions.append(a)\n",
        "                rewards.append(r)\n",
        "                next_states[i] = ns[0]  # Extract the next_state array from shape (1, state_size)\n",
        "                dones.append(d)\n",
        "            \n",
        "            # Predict current Q-values for state using eval_model\n",
        "            current_q_values = alt_eval_model.predict(states, verbose=0)\n",
        "            \n",
        "            # Use eval_model to determine best action in next_state\n",
        "            next_q_values_eval = alt_eval_model.predict(next_states, verbose=0)\n",
        "            best_next_actions = np.argmax(next_q_values_eval, axis=1)\n",
        "            \n",
        "            # Use target_model to compute Q-value for that action\n",
        "            next_q_values_target = alt_target_model.predict(next_states, verbose=0)\n",
        "            \n",
        "            # Prepare targets\n",
        "            targets = current_q_values.copy()\n",
        "            \n",
        "            # Update only the Q-value for the taken action\n",
        "            for i in range(ba):\n",
        "                if dones[i]:\n",
        "                    # If done, Q-target = reward (no future reward)\n",
        "                    targets[i, actions[i]] = rewards[i]\n",
        "                else:\n",
        "                    # Otherwise, Q-target = reward + gamma * Q_target(S', argmax Q_eval(S', a))\n",
        "                    targets[i, actions[i]] = rewards[i] + gamma * next_q_values_target[i, best_next_actions[i]]\n",
        "            \n",
        "            # Fit the model:\n",
        "            alt_eval_model.fit(states, targets, batch_size=ba, epochs=epoch, verbose=0) #, callbacks=[cb])\n",
        "\n",
        "            # Update exploration rate\n",
        "            if epsilon > epsilon_min:\n",
        "                epsilon *= epsilon_decay\n",
        "\n",
        "            # Periodically update the target network\n",
        "            # Periodically update the target network\n",
        "            if target_update_freq > 0 and train_counter % target_update_freq == 0:\n",
        "                alt_target_model.set_weights(alt_eval_model.get_weights())\n",
        "\n",
        "    # record end time and log training time\n",
        "    end = time.time()\n",
        "    total_training_time += end - start\n",
        "\n",
        "    # Evaluation\n",
        "    eval_reward_mean, eval_reward_var = evaluation(alt_eval_model)\n",
        "\n",
        "    print(f\"Episode {ep + 1}/{episode} | Ep. Total Reward: {total_reward}\"\n",
        "        f\" | Epsilon : {epsilon:.3f}\"\n",
        "        f\" | Eval Rwd Mean: {eval_reward_mean:.2f}\"\n",
        "        f\" | Eval Rwd Var: {eval_reward_var:.2f}\")\n",
        "\n",
        "    # Log\n",
        "    alt_eval_reward_mean_lst.append(eval_reward_mean)\n",
        "    alt_eval_reward_var_lst.append(eval_reward_var)\n",
        "    alt_train_reward_lst.append(total_reward)\n",
        "\n",
        "    # Early Stopping Condition to avoid overfitting\n",
        "    # If the evaluation reward reaches the specified threshold, stop training early.\n",
        "    # The default threshold is set to 500, but you should adjust this based on observed training performance.\n",
        "    if eval_reward_mean >= 500: # [Modify this threshold as needed]\n",
        "        print(f\"Early stopping triggered at Episode {ep + 1}.\")\n",
        "        break\n",
        "\n",
        "# record end time and calculate average training time per episode\n",
        "# evaluate average training time per episode\n",
        "print(f\"Training time: {total_training_time/episode:.4f} seconds per episode\")\n",
        "\n",
        "env.close()"
      ]
    },
    {
      "cell_type": "code",
      "execution_count": null,
      "metadata": {},
      "outputs": [],
      "source": [
        "# 1) Moving Averaged Training Reward\n",
        "plot_smoothed_training_rwd(alt_train_reward_lst, window_size=20)\n",
        "\n",
        "# 2) Evaluation Reward Mean\n",
        "plot_eval_rwd_mean(alt_eval_reward_mean_lst)\n",
        "\n",
        "# 3) Evaluation Reward Variance\n",
        "plot_eval_rwd_var(alt_eval_reward_var_lst)"
      ]
    },
    {
      "cell_type": "code",
      "execution_count": null,
      "metadata": {},
      "outputs": [],
      "source": [
        "save_model(alt_train_reward_lst, \\\n",
        "    alt_eval_reward_mean_lst, \\\n",
        "        alt_eval_reward_var_lst, \n",
        "        alt_eval_model, \\\n",
        "            model_dir)"
      ]
    },
    {
      "cell_type": "markdown",
      "metadata": {
        "id": "5MBGp2LfHxDr"
      },
      "source": [
        "## Comparison\n",
        "\n",
        "Compare performance of the Baseline and the Alternative DDQN Policies"
      ]
    },
    {
      "cell_type": "code",
      "execution_count": null,
      "metadata": {
        "id": "3NDTwhmwH3Lk"
      },
      "outputs": [],
      "source": [
        "# [Write Code]\n",
        "ITERATIONS = 10\n",
        "base_eval_mean = []\n",
        "base_eval_var = []\n",
        "alt_eval_mean = []\n",
        "alt_eval_var = []\n",
        "\n",
        "for i in range(ITERATIONS):\n",
        "    eval_mean, eval_var = evaluation(model)\n",
        "    base_eval_mean.append(eval_mean)\n",
        "    base_eval_var.append(eval_var)\n",
        "    \n",
        "    eval_mean, eval_var = evaluation(alt_model)\n",
        "    alt_eval_mean.append(eval_mean)\n",
        "    alt_eval_var.append(eval_var)"
      ]
    },
    {
      "cell_type": "code",
      "execution_count": null,
      "metadata": {},
      "outputs": [],
      "source": [
        "plot_evaluation_metrics(base_eval_mean, base_eval_var, alt_eval_mean, alt_eval_var, ITERATIONS)"
      ]
    },
    {
      "cell_type": "markdown",
      "metadata": {
        "id": "VUo4vcwQnbWV"
      },
      "source": [
        "# Visualize with Tensorboard"
      ]
    },
    {
      "cell_type": "code",
      "execution_count": null,
      "metadata": {
        "id": "ZcIJ3DQc3-Jw"
      },
      "outputs": [],
      "source": [
        "%load_ext tensorboard\n",
        "%tensorboard --logdir=./ee4802_logs --port=6006"
      ]
    },
    {
      "cell_type": "markdown",
      "metadata": {
        "id": "l-insiT7D_lq"
      },
      "source": [
        "# Comparison Across Four Alternative Policies\n",
        "\n",
        "Compare hyperparameters and performance of the four alternative policies.\n",
        "\n",
        "You may insert extra cells in the notebook to tabulate/plot/log results effectively."
      ]
    },
    {
      "cell_type": "code",
      "execution_count": null,
      "metadata": {
        "id": "SjQwsaxSE5Jh"
      },
      "outputs": [],
      "source": [
        "# [Write Code]"
      ]
    }
  ],
  "metadata": {
    "colab": {
      "include_colab_link": true,
      "provenance": []
    },
    "kernelspec": {
      "display_name": "Python 3",
      "language": "python",
      "name": "python3"
    },
    "language_info": {
      "codemirror_mode": {
        "name": "ipython",
        "version": 3
      },
      "file_extension": ".py",
      "mimetype": "text/x-python",
      "name": "python",
      "nbconvert_exporter": "python",
      "pygments_lexer": "ipython3",
      "version": "3.11.3"
    }
  },
  "nbformat": 4,
  "nbformat_minor": 0
}
